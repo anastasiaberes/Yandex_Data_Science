{
 "cells": [
  {
   "cell_type": "markdown",
   "metadata": {
    "toc": true
   },
   "source": [
    "<h1>Содержание<span class=\"tocSkip\"></span></h1>\n",
    "<div class=\"toc\"><ul class=\"toc-item\"><li><span><a href=\"#Подготовка-данных\" data-toc-modified-id=\"Подготовка-данных-1\"><span class=\"toc-item-num\">1&nbsp;&nbsp;</span>Подготовка данных</a></span></li><li><span><a href=\"#Исследование-задачи\" data-toc-modified-id=\"Исследование-задачи-2\"><span class=\"toc-item-num\">2&nbsp;&nbsp;</span>Исследование задачи</a></span></li><li><span><a href=\"#Борьба-с-дисбалансом\" data-toc-modified-id=\"Борьба-с-дисбалансом-3\"><span class=\"toc-item-num\">3&nbsp;&nbsp;</span>Борьба с дисбалансом</a></span></li><li><span><a href=\"#Тестирование-модели\" data-toc-modified-id=\"Тестирование-модели-4\"><span class=\"toc-item-num\">4&nbsp;&nbsp;</span>Тестирование модели</a></span></li><li><span><a href=\"#Чек-лист-готовности-проекта\" data-toc-modified-id=\"Чек-лист-готовности-проекта-5\"><span class=\"toc-item-num\">5&nbsp;&nbsp;</span>Чек-лист готовности проекта</a></span></li></ul></div>"
   ]
  },
  {
   "cell_type": "markdown",
   "metadata": {},
   "source": [
    "# Отток клиентов"
   ]
  },
  {
   "cell_type": "markdown",
   "metadata": {},
   "source": [
    "Из «Бета-Банка» стали уходить клиенты. Каждый месяц. Немного, но заметно. Банковские маркетологи посчитали: сохранять текущих клиентов дешевле, чем привлекать новых.\n",
    "\n",
    "Нужно спрогнозировать, уйдёт клиент из банка в ближайшее время или нет. Вам предоставлены исторические данные о поведении клиентов и расторжении договоров с банком. \n",
    "\n",
    "Постройте модель с предельно большим значением *F1*-меры. Чтобы сдать проект успешно, нужно довести метрику до 0.59. Проверьте *F1*-меру на тестовой выборке самостоятельно.\n",
    "\n",
    "Дополнительно измеряйте *AUC-ROC*, сравнивайте её значение с *F1*-мерой.\n",
    "\n",
    "Источник данных: [https://www.kaggle.com/barelydedicated/bank-customer-churn-modeling](https://www.kaggle.com/barelydedicated/bank-customer-churn-modeling)"
   ]
  },
  {
   "cell_type": "markdown",
   "metadata": {},
   "source": [
    "## Подготовка данных"
   ]
  },
  {
   "cell_type": "code",
   "execution_count": 220,
   "metadata": {},
   "outputs": [],
   "source": [
    "import pandas as pd\n",
    "from sklearn.model_selection import train_test_split, GridSearchCV, RandomizedSearchCV\n",
    "from sklearn.linear_model import LinearRegression\n",
    "from sklearn.metrics import mean_absolute_error\n",
    "from sklearn.ensemble import RandomForestRegressor\n",
    "from sklearn.preprocessing import StandardScaler\n",
    "from sklearn.tree import DecisionTreeClassifier\n",
    "from sklearn.metrics import accuracy_score, confusion_matrix, recall_score, precision_score,precision_recall_curve ,f1_score, roc_auc_score,roc_curve\n",
    "from sklearn.ensemble import RandomForestClassifier\n",
    "from sklearn.linear_model import LogisticRegression\n",
    "import matplotlib.pyplot as plt\n",
    "from sklearn.utils import shuffle\n",
    "data = pd.read_csv('/datasets/Churn.csv')"
   ]
  },
  {
   "cell_type": "code",
   "execution_count": 221,
   "metadata": {},
   "outputs": [
    {
     "data": {
      "text/plain": [
       "(10000, 14)"
      ]
     },
     "execution_count": 221,
     "metadata": {},
     "output_type": "execute_result"
    }
   ],
   "source": [
    "data.shape"
   ]
  },
  {
   "cell_type": "code",
   "execution_count": 222,
   "metadata": {},
   "outputs": [
    {
     "data": {
      "text/html": [
       "<div>\n",
       "<style scoped>\n",
       "    .dataframe tbody tr th:only-of-type {\n",
       "        vertical-align: middle;\n",
       "    }\n",
       "\n",
       "    .dataframe tbody tr th {\n",
       "        vertical-align: top;\n",
       "    }\n",
       "\n",
       "    .dataframe thead th {\n",
       "        text-align: right;\n",
       "    }\n",
       "</style>\n",
       "<table border=\"1\" class=\"dataframe\">\n",
       "  <thead>\n",
       "    <tr style=\"text-align: right;\">\n",
       "      <th></th>\n",
       "      <th>RowNumber</th>\n",
       "      <th>CustomerId</th>\n",
       "      <th>Surname</th>\n",
       "      <th>CreditScore</th>\n",
       "      <th>Geography</th>\n",
       "      <th>Gender</th>\n",
       "      <th>Age</th>\n",
       "      <th>Tenure</th>\n",
       "      <th>Balance</th>\n",
       "      <th>NumOfProducts</th>\n",
       "      <th>HasCrCard</th>\n",
       "      <th>IsActiveMember</th>\n",
       "      <th>EstimatedSalary</th>\n",
       "      <th>Exited</th>\n",
       "    </tr>\n",
       "  </thead>\n",
       "  <tbody>\n",
       "    <tr>\n",
       "      <th>0</th>\n",
       "      <td>1</td>\n",
       "      <td>15634602</td>\n",
       "      <td>Hargrave</td>\n",
       "      <td>619</td>\n",
       "      <td>France</td>\n",
       "      <td>Female</td>\n",
       "      <td>42</td>\n",
       "      <td>2.0</td>\n",
       "      <td>0.00</td>\n",
       "      <td>1</td>\n",
       "      <td>1</td>\n",
       "      <td>1</td>\n",
       "      <td>101348.88</td>\n",
       "      <td>1</td>\n",
       "    </tr>\n",
       "    <tr>\n",
       "      <th>1</th>\n",
       "      <td>2</td>\n",
       "      <td>15647311</td>\n",
       "      <td>Hill</td>\n",
       "      <td>608</td>\n",
       "      <td>Spain</td>\n",
       "      <td>Female</td>\n",
       "      <td>41</td>\n",
       "      <td>1.0</td>\n",
       "      <td>83807.86</td>\n",
       "      <td>1</td>\n",
       "      <td>0</td>\n",
       "      <td>1</td>\n",
       "      <td>112542.58</td>\n",
       "      <td>0</td>\n",
       "    </tr>\n",
       "    <tr>\n",
       "      <th>2</th>\n",
       "      <td>3</td>\n",
       "      <td>15619304</td>\n",
       "      <td>Onio</td>\n",
       "      <td>502</td>\n",
       "      <td>France</td>\n",
       "      <td>Female</td>\n",
       "      <td>42</td>\n",
       "      <td>8.0</td>\n",
       "      <td>159660.80</td>\n",
       "      <td>3</td>\n",
       "      <td>1</td>\n",
       "      <td>0</td>\n",
       "      <td>113931.57</td>\n",
       "      <td>1</td>\n",
       "    </tr>\n",
       "    <tr>\n",
       "      <th>3</th>\n",
       "      <td>4</td>\n",
       "      <td>15701354</td>\n",
       "      <td>Boni</td>\n",
       "      <td>699</td>\n",
       "      <td>France</td>\n",
       "      <td>Female</td>\n",
       "      <td>39</td>\n",
       "      <td>1.0</td>\n",
       "      <td>0.00</td>\n",
       "      <td>2</td>\n",
       "      <td>0</td>\n",
       "      <td>0</td>\n",
       "      <td>93826.63</td>\n",
       "      <td>0</td>\n",
       "    </tr>\n",
       "    <tr>\n",
       "      <th>4</th>\n",
       "      <td>5</td>\n",
       "      <td>15737888</td>\n",
       "      <td>Mitchell</td>\n",
       "      <td>850</td>\n",
       "      <td>Spain</td>\n",
       "      <td>Female</td>\n",
       "      <td>43</td>\n",
       "      <td>2.0</td>\n",
       "      <td>125510.82</td>\n",
       "      <td>1</td>\n",
       "      <td>1</td>\n",
       "      <td>1</td>\n",
       "      <td>79084.10</td>\n",
       "      <td>0</td>\n",
       "    </tr>\n",
       "  </tbody>\n",
       "</table>\n",
       "</div>"
      ],
      "text/plain": [
       "   RowNumber  CustomerId   Surname  CreditScore Geography  Gender  Age  \\\n",
       "0          1    15634602  Hargrave          619    France  Female   42   \n",
       "1          2    15647311      Hill          608     Spain  Female   41   \n",
       "2          3    15619304      Onio          502    France  Female   42   \n",
       "3          4    15701354      Boni          699    France  Female   39   \n",
       "4          5    15737888  Mitchell          850     Spain  Female   43   \n",
       "\n",
       "   Tenure    Balance  NumOfProducts  HasCrCard  IsActiveMember  \\\n",
       "0     2.0       0.00              1          1               1   \n",
       "1     1.0   83807.86              1          0               1   \n",
       "2     8.0  159660.80              3          1               0   \n",
       "3     1.0       0.00              2          0               0   \n",
       "4     2.0  125510.82              1          1               1   \n",
       "\n",
       "   EstimatedSalary  Exited  \n",
       "0        101348.88       1  \n",
       "1        112542.58       0  \n",
       "2        113931.57       1  \n",
       "3         93826.63       0  \n",
       "4         79084.10       0  "
      ]
     },
     "execution_count": 222,
     "metadata": {},
     "output_type": "execute_result"
    }
   ],
   "source": [
    "data.head()"
   ]
  },
  {
   "cell_type": "code",
   "execution_count": 223,
   "metadata": {},
   "outputs": [
    {
     "name": "stdout",
     "output_type": "stream",
     "text": [
      "<class 'pandas.core.frame.DataFrame'>\n",
      "RangeIndex: 10000 entries, 0 to 9999\n",
      "Data columns (total 14 columns):\n",
      " #   Column           Non-Null Count  Dtype  \n",
      "---  ------           --------------  -----  \n",
      " 0   RowNumber        10000 non-null  int64  \n",
      " 1   CustomerId       10000 non-null  int64  \n",
      " 2   Surname          10000 non-null  object \n",
      " 3   CreditScore      10000 non-null  int64  \n",
      " 4   Geography        10000 non-null  object \n",
      " 5   Gender           10000 non-null  object \n",
      " 6   Age              10000 non-null  int64  \n",
      " 7   Tenure           9091 non-null   float64\n",
      " 8   Balance          10000 non-null  float64\n",
      " 9   NumOfProducts    10000 non-null  int64  \n",
      " 10  HasCrCard        10000 non-null  int64  \n",
      " 11  IsActiveMember   10000 non-null  int64  \n",
      " 12  EstimatedSalary  10000 non-null  float64\n",
      " 13  Exited           10000 non-null  int64  \n",
      "dtypes: float64(3), int64(8), object(3)\n",
      "memory usage: 1.1+ MB\n"
     ]
    }
   ],
   "source": [
    "data.info()"
   ]
  },
  {
   "cell_type": "raw",
   "metadata": {},
   "source": [
    "В данный присутсвуют пустые значения по колонке Tenure"
   ]
  },
  {
   "cell_type": "code",
   "execution_count": 224,
   "metadata": {},
   "outputs": [],
   "source": [
    "data = data.drop(columns=['RowNumber', 'CustomerId', 'Surname'])"
   ]
  },
  {
   "cell_type": "markdown",
   "metadata": {},
   "source": [
    "Заполним пустые ячейки медианными значениями"
   ]
  },
  {
   "cell_type": "code",
   "execution_count": 225,
   "metadata": {},
   "outputs": [],
   "source": [
    "data['Tenure'] = data['Tenure'].fillna(data['Tenure'].median()).astype('int64')"
   ]
  },
  {
   "cell_type": "markdown",
   "metadata": {},
   "source": [
    "Закодируем категориальные признаки, чтобы не попасть в дамми-ловушку, применим аргумент drop_first функции pd.get_dummies()"
   ]
  },
  {
   "cell_type": "code",
   "execution_count": 226,
   "metadata": {},
   "outputs": [],
   "source": [
    "data_ohe = pd.get_dummies(data, drop_first=True)"
   ]
  },
  {
   "cell_type": "markdown",
   "metadata": {},
   "source": [
    "Выборки (обучающая, тестовая, валидная)\n",
    "В нашем случае, нет отдельного файла с тестовой,тренировочной и валидной выборкой, поэтому мы их будем создавать сами. Поделим cначала на обучающую и промежуточную, а потом промежуточную поделим на валидную и тестовую."
   ]
  },
  {
   "cell_type": "code",
   "execution_count": 227,
   "metadata": {},
   "outputs": [],
   "source": [
    "target = data_ohe['Exited']\n",
    "features = data_ohe.drop('Exited', axis=1)"
   ]
  },
  {
   "cell_type": "code",
   "execution_count": 228,
   "metadata": {},
   "outputs": [],
   "source": [
    "features_train, features_inter, target_train, target_inter = train_test_split(\n",
    "    features.copy(), \n",
    "    target.copy(), \n",
    "    test_size=0.4, \n",
    "    random_state=12345)"
   ]
  },
  {
   "cell_type": "markdown",
   "metadata": {},
   "source": [
    "Теперь промежуточную поделим пополам"
   ]
  },
  {
   "cell_type": "code",
   "execution_count": 229,
   "metadata": {},
   "outputs": [],
   "source": [
    "features_valid, features_test, target_valid, target_test = train_test_split(\n",
    "    features_inter.copy(),\n",
    "    target_inter.copy(),\n",
    "    test_size=0.5,\n",
    "    random_state=12345)"
   ]
  },
  {
   "cell_type": "markdown",
   "metadata": {},
   "source": [
    "Тренировочная выборка у нас с такой размерностью"
   ]
  },
  {
   "cell_type": "code",
   "execution_count": 230,
   "metadata": {},
   "outputs": [
    {
     "data": {
      "text/plain": [
       "(6000, 11)"
      ]
     },
     "execution_count": 230,
     "metadata": {},
     "output_type": "execute_result"
    }
   ],
   "source": [
    "features_train.shape"
   ]
  },
  {
   "cell_type": "markdown",
   "metadata": {},
   "source": [
    "Тестовая и валидная такая:"
   ]
  },
  {
   "cell_type": "code",
   "execution_count": 231,
   "metadata": {},
   "outputs": [
    {
     "data": {
      "text/plain": [
       "(2000, 11)"
      ]
     },
     "execution_count": 231,
     "metadata": {},
     "output_type": "execute_result"
    }
   ],
   "source": [
    "features_valid.shape"
   ]
  },
  {
   "cell_type": "markdown",
   "metadata": {},
   "source": [
    "Масштабирование\n",
    "Стандартизируем численные признаки при помощи StandardScaler"
   ]
  },
  {
   "cell_type": "code",
   "execution_count": 232,
   "metadata": {},
   "outputs": [],
   "source": [
    "numeric = ['CreditScore', 'Age', 'Tenure', 'Balance', 'EstimatedSalary']\n",
    "\n",
    "scaler = StandardScaler()\n",
    "scaler.fit(features_train[numeric])\n",
    "features_train[numeric] = scaler.transform(features_train[numeric])\n",
    "features_valid[numeric]  = scaler.transform(features_valid[numeric])\n",
    "features_test[numeric]  = scaler.transform(features_test[numeric])\n",
    "pd.options.mode.chained_assignment = None"
   ]
  },
  {
   "cell_type": "markdown",
   "metadata": {},
   "source": [
    "Выводы:\n",
    "\n",
    "\n",
    "Выявили, что есть пустоты по полю Tenure. Для более корректной последюущей работы мы заполнили их медианным значеним по столбцу;\n",
    "\n",
    "Явных дубликатов по полю нами обнаружено не было;\n",
    "Воспользовавшись техников One-hot-encoding мы преобразовали категориальные признаки в численные. Также, чтобы не попасть в дамми-ловушку мы вызовом функции pd.get_dummies() c аргументом drop_first = True удалили первую колонку;\n",
    "\n",
    "У нас только один файл(а не три), мы его честно поделили на три части. Сначала общую поделили на тестовую и промежуточную. Поделили в соотношении 40/60. Всё таки учебная выборка должна быть больше остальных. Далее промежуточную поделили пополам - на валидную и тестовую\n",
    "\n"
   ]
  },
  {
   "cell_type": "markdown",
   "metadata": {},
   "source": [
    "## Исследование задачи"
   ]
  },
  {
   "cell_type": "markdown",
   "metadata": {},
   "source": [
    "Так как в нашем случае, стоит задача на классификацию, то наш выбор будет ограничиваться вот такими моделями: Дерево решений,Случайный лес, Логическая регрессия "
   ]
  },
  {
   "cell_type": "code",
   "execution_count": 233,
   "metadata": {},
   "outputs": [
    {
     "data": {
      "text/plain": [
       "0    7963\n",
       "1    2037\n",
       "Name: Exited, dtype: int64"
      ]
     },
     "execution_count": 233,
     "metadata": {},
     "output_type": "execute_result"
    }
   ],
   "source": [
    "data_ohe['Exited'].value_counts()"
   ]
  },
  {
   "cell_type": "code",
   "execution_count": 234,
   "metadata": {},
   "outputs": [
    {
     "data": {
      "image/png": "[encoded data removed]",
      "text/plain": [
       "<Figure size 864x504 with 1 Axes>"
      ]
     },
     "metadata": {
      "needs_background": "light"
     },
     "output_type": "display_data"
    }
   ],
   "source": [
    "data_ohe['Exited'].value_counts().plot(\n",
    "    kind='bar',\n",
    "    stacked=True,\n",
    "    grid=True,\n",
    "    color='indigo',\n",
    "    width=0.9,\n",
    "    figsize=(12,7)\n",
    "    );\n",
    "   "
   ]
  },
  {
   "cell_type": "markdown",
   "metadata": {},
   "source": [
    "Как мы видим порядка 80 процентов данных по пользователям оставшимся, и только 20 ушедших, что хорошо для банка но не есть отлично для нас с точки зрения построяния модели. Протестируем на разных моделях."
   ]
  },
  {
   "cell_type": "markdown",
   "metadata": {},
   "source": [
    "# Дерево решений "
   ]
  },
  {
   "cell_type": "markdown",
   "metadata": {},
   "source": [
    "Подберем гиперпараметры"
   ]
  },
  {
   "cell_type": "code",
   "execution_count": 235,
   "metadata": {},
   "outputs": [
    {
     "name": "stdout",
     "output_type": "stream",
     "text": [
      "max_depth = 1 : 0.7405\n",
      "f1_score = 0.5061845861084681\n",
      "\n",
      "max_depth = 2 : 0.749\n",
      "f1_score = 0.5394495412844036\n",
      "\n",
      "max_depth = 3 : 0.768\n",
      "f1_score = 0.5555555555555556\n",
      "\n",
      "max_depth = 4 : 0.7205\n",
      "f1_score = 0.5360995850622406\n",
      "\n",
      "max_depth = 5 : 0.8\n",
      "f1_score = 0.5943204868154158\n",
      "\n",
      "max_depth = 6 : 0.775\n",
      "f1_score = 0.576271186440678\n",
      "\n",
      "max_depth = 7 : 0.735\n",
      "f1_score = 0.5276292335115865\n",
      "\n",
      "max_depth = 8 : 0.732\n",
      "f1_score = 0.5214285714285715\n",
      "\n",
      "max_depth = 9 : 0.7165\n",
      "f1_score = 0.5099394987035436\n",
      "\n"
     ]
    }
   ],
   "source": [
    "for depth in range(1, 10):\n",
    "    model = DecisionTreeClassifier(random_state=12345, max_depth = depth,  class_weight='balanced') \n",
    "    model.fit(features_downsampled, target_downsampled) \n",
    "    predictions_valid = model.predict(features_valid) \n",
    "    result = accuracy_score(target_valid, predictions_valid) \n",
    "    f1 = f1_score(target_valid , predictions_valid)\n",
    "    print('max_depth =', depth, ':', result)\n",
    "    print('f1_score =',f1)\n",
    "    print()"
   ]
  },
  {
   "cell_type": "markdown",
   "metadata": {},
   "source": [
    "Лучшее значение достигается при глубине дерева  = 5"
   ]
  },
  {
   "cell_type": "code",
   "execution_count": 236,
   "metadata": {},
   "outputs": [
    {
     "name": "stdout",
     "output_type": "stream",
     "text": [
      "F1: 0.5406249999999999\n",
      "ROC_AUC 0.8221680508592478\n"
     ]
    }
   ],
   "source": [
    "model_dt = DecisionTreeClassifier(random_state=12345, max_depth = 5) \n",
    "model_dt.fit(features_train,target_train) \n",
    "predictions_valid_dt = model_dt.predict(features_valid) \n",
    "print('F1:',f1_score(target_valid, predictions_valid_dt))\n",
    "probabilities_valid_dt = model_dt.predict_proba(features_valid)[:, 1]\n",
    "print(\"ROC_AUC\", roc_auc_score(target_valid, probabilities_valid_dt))"
   ]
  },
  {
   "cell_type": "markdown",
   "metadata": {},
   "source": [
    "# Случайный лес "
   ]
  },
  {
   "cell_type": "markdown",
   "metadata": {},
   "source": [
    "Подберем гиперпараметры"
   ]
  },
  {
   "cell_type": "code",
   "execution_count": 237,
   "metadata": {},
   "outputs": [
    {
     "name": "stdout",
     "output_type": "stream",
     "text": [
      "f1_score наилучшей модели на валидационной выборке: 0.6092184368737475\n",
      "Количество деревьев: 10\n",
      "Максимальная глубина: 10\n",
      "Минимальное количество примеров для разделения: 2\n"
     ]
    }
   ],
   "source": [
    "best_result = 0\n",
    "best_est = 0\n",
    "best_depth = 0\n",
    "for est in range(10, 101, 5):\n",
    "    for sample in range(2,5):\n",
    "        for depth in range (1, 11):\n",
    "            model = RandomForestClassifier(random_state=12345, n_estimators=est, max_depth=depth, min_samples_split = sample)\n",
    "            model.fit(features_downsampled, target_downsampled) \n",
    "            predictions_valid = model.predict(features_valid)\n",
    "            result = f1_score(target_valid , predictions_valid)\n",
    "            if result > best_result:\n",
    "                best_result = result\n",
    "                best_est = est\n",
    "                best_depth = depth\n",
    "                best_split = sample\n",
    "\n",
    "\n",
    "print(\"f1_score наилучшей модели на валидационной выборке:\", best_result)\n",
    "print(\"Количество деревьев:\", best_est)\n",
    "print(\"Максимальная глубина:\", depth)\n",
    "print(\"Минимальное количество примеров для разделения:\",best_split)"
   ]
  },
  {
   "cell_type": "code",
   "execution_count": 238,
   "metadata": {},
   "outputs": [
    {
     "name": "stdout",
     "output_type": "stream",
     "text": [
      "F1: 0.5891238670694864\n",
      "ROC_AUC 0.8221680508592478\n"
     ]
    }
   ],
   "source": [
    "model_rf = RandomForestClassifier(random_state=12345, n_estimators=10, max_depth=10, min_samples_split = 2)\n",
    "model_rf.fit(features_train, target_train) \n",
    "predictions_valid_rf = model_rf.predict(features_valid)\n",
    "print('F1:',f1_score(target_valid, predictions_valid_rf))\n",
    "probabilities_valid_dt = model_dt.predict_proba(features_valid)[:, 1]\n",
    "print(\"ROC_AUC\", roc_auc_score(target_valid, probabilities_valid_dt)) "
   ]
  },
  {
   "cell_type": "markdown",
   "metadata": {},
   "source": [
    "# Логистическая регрессия"
   ]
  },
  {
   "cell_type": "code",
   "execution_count": 239,
   "metadata": {},
   "outputs": [
    {
     "name": "stdout",
     "output_type": "stream",
     "text": [
      "F1: 0.33108108108108103\n",
      "ROC_AUC 0.7588057029137607\n"
     ]
    }
   ],
   "source": [
    "model_lr = LogisticRegression(random_state=12345) \n",
    "model_lr.fit(features_train, target_train) \n",
    "model_lr.score(features_valid, target_valid)\n",
    "predictions_valid_lr = model_lr.predict(features_valid)\n",
    "\n",
    "print('F1:',f1_score(target_valid, predictions_valid_lr))\n",
    "probabilities_valid_lr = model_lr.predict_proba(features_valid)[:, 1]\n",
    "print(\"ROC_AUC\", roc_auc_score(target_valid, probabilities_valid_lr))"
   ]
  },
  {
   "cell_type": "markdown",
   "metadata": {},
   "source": [
    "Во всех трех моделях не достигается параметр F1"
   ]
  },
  {
   "cell_type": "markdown",
   "metadata": {},
   "source": [
    "# Матрица ошибок, плотность, точность, F1 score, roc_auc\n"
   ]
  },
  {
   "cell_type": "markdown",
   "metadata": {},
   "source": [
    "Лучшее значение accuracy мы получили на модели случайного леса в регрессии, рассчитаем необходимые величины для неё.\n",
    "\n",
    "Рассчитаем матрицу решений"
   ]
  },
  {
   "cell_type": "code",
   "execution_count": 240,
   "metadata": {},
   "outputs": [
    {
     "data": {
      "text/plain": [
       "array([[1533,   49],\n",
       "       [ 223,  195]])"
      ]
     },
     "execution_count": 240,
     "metadata": {},
     "output_type": "execute_result"
    }
   ],
   "source": [
    "confusion_matrix(target_valid, predictions_valid_rf)"
   ]
  },
  {
   "cell_type": "markdown",
   "metadata": {},
   "source": [
    "Рассчитаем плотность и точность"
   ]
  },
  {
   "cell_type": "code",
   "execution_count": 241,
   "metadata": {},
   "outputs": [
    {
     "data": {
      "text/plain": [
       "0.4665071770334928"
      ]
     },
     "metadata": {},
     "output_type": "display_data"
    }
   ],
   "source": [
    "display(recall_score(target_valid, predictions_valid_rf))\n"
   ]
  },
  {
   "cell_type": "code",
   "execution_count": 242,
   "metadata": {},
   "outputs": [
    {
     "data": {
      "text/plain": [
       "0.7991803278688525"
      ]
     },
     "metadata": {},
     "output_type": "display_data"
    }
   ],
   "source": [
    "display(precision_score(target_valid, predictions_valid_rf))"
   ]
  },
  {
   "cell_type": "code",
   "execution_count": 243,
   "metadata": {},
   "outputs": [
    {
     "data": {
      "image/png": "[encoded data removed]",
      "text/plain": [
       "<Figure size 432x432 with 1 Axes>"
      ]
     },
     "metadata": {
      "needs_background": "light"
     },
     "output_type": "display_data"
    }
   ],
   "source": [
    "model_rf = RandomForestClassifier(random_state=12345)\n",
    "model_rf.fit(features_train, target_train) \n",
    "probabilities_valid_rf = model_rf.predict_proba(features_valid)\n",
    "precision, recall, thresholds = precision_recall_curve(target_valid, probabilities_valid_rf[:, 1])\n",
    "\n",
    "plt.figure(figsize=(6, 6))\n",
    "plt.step(recall, precision, where='post')\n",
    "plt.xlabel('Recall')\n",
    "plt.ylabel('Precision')\n",
    "plt.ylim([0.0, 1.05])\n",
    "plt.xlim([0.0, 1.0])\n",
    "plt.title('Кривая Precision-Recall')\n",
    "plt.show() "
   ]
  },
  {
   "cell_type": "markdown",
   "metadata": {},
   "source": [
    "Вычислим F1-меру"
   ]
  },
  {
   "cell_type": "code",
   "execution_count": 244,
   "metadata": {},
   "outputs": [
    {
     "data": {
      "text/plain": [
       "0.5891238670694864"
      ]
     },
     "execution_count": 244,
     "metadata": {},
     "output_type": "execute_result"
    }
   ],
   "source": [
    "f1_score(target_valid, predictions_valid_rf)"
   ]
  },
  {
   "cell_type": "markdown",
   "metadata": {},
   "source": [
    "Изобразим противостояние TPR против FPR на графике"
   ]
  },
  {
   "cell_type": "code",
   "execution_count": 245,
   "metadata": {},
   "outputs": [
    {
     "data": {
      "text/plain": [
       "0.8406361337777266"
      ]
     },
     "execution_count": 245,
     "metadata": {},
     "output_type": "execute_result"
    }
   ],
   "source": [
    "probabilities_valid = model_rf.predict_proba(features_valid)\n",
    "probabilities_one_valid = probabilities_valid[:, 1]\n",
    "auc_roc = roc_auc_score(target_valid,probabilities_one_valid)\n",
    "auc_roc"
   ]
  },
  {
   "cell_type": "code",
   "execution_count": 246,
   "metadata": {},
   "outputs": [
    {
     "data": {
      "image/png": "[encoded data removed]",
      "text/plain": [
       "<Figure size 432x288 with 1 Axes>"
      ]
     },
     "metadata": {
      "needs_background": "light"
     },
     "output_type": "display_data"
    }
   ],
   "source": [
    "fpr, tpr, thresholds = roc_curve(target_valid, probabilities_one_valid) \n",
    "plt.figure()\n",
    "plt.plot(fpr, tpr)\n",
    "plt.xlim([0.0, 1.0])\n",
    "plt.ylim([0.0, 1.0])\n",
    "plt.color='indigo',\n",
    "plt.xlabel('False Positive Rate')\n",
    "plt.ylabel('True Positive Rate')\n",
    "plt.title('ROC-кривая')\n",
    "plt.show() "
   ]
  },
  {
   "cell_type": "markdown",
   "metadata": {},
   "source": [
    "Рассмотрев распределение по признаку мы увидели дисбаланс в данных - порядка 1 к 4;\n",
    "\n",
    "Далее мы посчитали значение accuracy для 3 типов модели (Дерево решений/ Случайный лес/ Логистическая регрессия). По резлуьтатам лучшие показатели были у случайного леса;\n",
    "\n",
    "Ранее мы выявили, что лучший результат показывает модель случайного леса, для неё мы решили рассчитать матрицу ошибок, плотность, точность и в завершение построить кривую ошибок.\n",
    "\n",
    "Построив матрицу ошибок мы получили общее предсавление по неточностям нашей модели.\n",
    "\n",
    "Перейдя к полноте и точности мы можем утверждать, что полнота в нашей модели достаточно слабая(0,49) - а это означает,что модель плохо ищет положительные объекты, точность тоже находится на хорошем уровне (0,79).\n",
    "По отдельности полнота и точность не слишком информативны, в идеале необходимо иметь высокие значения обоих. Поэтому мы обратились к показателю f1 (среднегармоническое полноты и точности). Оно показало значение 0.589, то от чего мы будем отталкиваться и что мы будем стремиться увеличить (балансировкой, работой с выборкой, подбором гиперпараметров)."
   ]
  },
  {
   "cell_type": "markdown",
   "metadata": {},
   "source": [
    "## Борьба с дисбалансом"
   ]
  },
  {
   "cell_type": "markdown",
   "metadata": {},
   "source": [
    "Для борьбы с дисбалансом мы будем использовать три способа - взвешевание классов, уменьшение(в части положительных) и увеличение(в части отрицательных) выборки."
   ]
  },
  {
   "cell_type": "markdown",
   "metadata": {},
   "source": [
    "# взвешивание классов"
   ]
  },
  {
   "cell_type": "markdown",
   "metadata": {},
   "source": [
    "# Дерево решений ."
   ]
  },
  {
   "cell_type": "code",
   "execution_count": 294,
   "metadata": {},
   "outputs": [
    {
     "name": "stdout",
     "output_type": "stream",
     "text": [
      "max_depth = 1 : 0.7545\n",
      "f1_score = 0.4994903160040775\n",
      "\n",
      "max_depth = 2 : 0.765\n",
      "f1_score = 0.541015625\n",
      "\n",
      "max_depth = 3 : 0.765\n",
      "f1_score = 0.541015625\n",
      "\n",
      "max_depth = 4 : 0.711\n",
      "f1_score = 0.5277777777777778\n",
      "\n",
      "max_depth = 5 : 0.8105\n",
      "f1_score = 0.5963791267305644\n",
      "\n",
      "max_depth = 6 : 0.7665\n",
      "f1_score = 0.5581835383159887\n",
      "\n",
      "max_depth = 7 : 0.773\n",
      "f1_score = 0.5496031746031745\n",
      "\n",
      "max_depth = 8 : 0.7615\n",
      "f1_score = 0.5346341463414634\n",
      "\n",
      "max_depth = 9 : 0.769\n",
      "f1_score = 0.5398406374501993\n",
      "\n"
     ]
    }
   ],
   "source": [
    "for depth in range(1, 10):\n",
    "    model = DecisionTreeClassifier(random_state=12345, max_depth = depth,  class_weight='balanced') \n",
    "    model.fit(features_upsampled, target_upsampled) \n",
    "    predictions_valid = model.predict(features_valid) \n",
    "    result = accuracy_score(target_valid, predictions_valid) \n",
    "    f1 = f1_score(target_valid , predictions_valid)\n",
    "    print('max_depth =', depth, ':', result)\n",
    "    print('f1_score =',f1)\n",
    "    print()"
   ]
  },
  {
   "cell_type": "code",
   "execution_count": 248,
   "metadata": {},
   "outputs": [
    {
     "name": "stdout",
     "output_type": "stream",
     "text": [
      "F1: 0.5406249999999999\n",
      "ROC_AUC 0.8221680508592478\n"
     ]
    }
   ],
   "source": [
    "model_dt = DecisionTreeClassifier(random_state=12345, max_depth = 5) \n",
    "model_dt.fit(features_train,target_train) \n",
    "predictions_valid_dt = model_dt.predict(features_valid) \n",
    "\n",
    "print('F1:',f1_score(target_valid, predictions_valid_dt))\n",
    "probabilities_valid_dt = model_dt.predict_proba(features_valid)[:, 1]\n",
    "print(\"ROC_AUC\", roc_auc_score(target_valid, probabilities_valid_dt))"
   ]
  },
  {
   "cell_type": "code",
   "execution_count": 249,
   "metadata": {},
   "outputs": [
    {
     "name": "stdout",
     "output_type": "stream",
     "text": [
      "F1: 0.5963791267305644\n",
      "ROC_AUC 0.8310244134068074\n"
     ]
    }
   ],
   "source": [
    "model_dt = DecisionTreeClassifier(random_state=12345, max_depth = 5, class_weight='balanced') \n",
    "model_dt.fit(features_train,target_train) \n",
    "predictions_valid_dt = model_dt.predict(features_valid) \n",
    "\n",
    "print('F1:',f1_score(target_valid, predictions_valid_dt))\n",
    "probabilities_valid_dt = model_dt.predict_proba(features_valid)[:, 1]\n",
    "print(\"ROC_AUC\", roc_auc_score(target_valid, probabilities_valid_dt))"
   ]
  },
  {
   "cell_type": "markdown",
   "metadata": {},
   "source": [
    "Показатели после балансировки увеличились"
   ]
  },
  {
   "cell_type": "markdown",
   "metadata": {},
   "source": [
    "\n",
    "# Случайный лес "
   ]
  },
  {
   "cell_type": "code",
   "execution_count": 250,
   "metadata": {},
   "outputs": [
    {
     "name": "stdout",
     "output_type": "stream",
     "text": [
      "f1_score наилучшей модели на валидационной выборке: 0.6092184368737475\n",
      "Количество деревьев: 10\n",
      "Максимальная глубина: 10\n",
      "Минимальное количество примеров для разделения: 2\n"
     ]
    }
   ],
   "source": [
    "best_result = 0\n",
    "best_est = 0\n",
    "best_depth = 0\n",
    "for est in range(10, 101, 5):\n",
    "    for sample in range(2,5):\n",
    "        for depth in range (1, 11):\n",
    "            model = RandomForestClassifier(random_state=12345, n_estimators=est, max_depth=depth, min_samples_split = sample)\n",
    "            model.fit(features_downsampled, target_downsampled) \n",
    "            predictions_valid = model.predict(features_valid)\n",
    "            result = f1_score(target_valid , predictions_valid)\n",
    "            if result > best_result:\n",
    "                best_result = result\n",
    "                best_est = est\n",
    "                best_depth = depth\n",
    "                best_split = sample\n",
    "\n",
    "\n",
    "print(\"f1_score наилучшей модели на валидационной выборке:\", best_result)\n",
    "print(\"Количество деревьев:\", best_est)\n",
    "print(\"Максимальная глубина:\", depth)\n",
    "print(\"Минимальное количество примеров для разделения:\",best_split)"
   ]
  },
  {
   "cell_type": "code",
   "execution_count": 251,
   "metadata": {},
   "outputs": [
    {
     "data": {
      "text/plain": [
       "RandomForestClassifier(max_depth=9, min_samples_split=4, n_estimators=90,\n",
       "                       random_state=12345)"
      ]
     },
     "execution_count": 251,
     "metadata": {},
     "output_type": "execute_result"
    }
   ],
   "source": [
    "grid.best_estimator_"
   ]
  },
  {
   "cell_type": "code",
   "execution_count": 252,
   "metadata": {},
   "outputs": [
    {
     "name": "stdout",
     "output_type": "stream",
     "text": [
      "F1: 0.5891238670694864\n",
      "ROC_AUC 0.8460226894670304\n"
     ]
    }
   ],
   "source": [
    "model_rf = RandomForestClassifier(random_state=12345,n_estimators=10, max_depth=10, min_samples_split = 2)\n",
    "model_rf.fit(features_train, target_train)\n",
    "predictions_valid_rf = model_rf.predict(features_valid)\n",
    "\n",
    "print('F1:',f1_score(target_valid, predictions_valid_rf))\n",
    "probabilities_valid_rf = model_rf.predict_proba(features_valid)[:, 1]\n",
    "print(\"ROC_AUC\", roc_auc_score(target_valid, probabilities_valid_rf))"
   ]
  },
  {
   "cell_type": "code",
   "execution_count": 253,
   "metadata": {},
   "outputs": [
    {
     "name": "stdout",
     "output_type": "stream",
     "text": [
      "F1: 0.6038647342995168\n",
      "ROC_AUC 0.8378377560957906\n"
     ]
    }
   ],
   "source": [
    "model_rf = RandomForestClassifier(random_state=12345, n_estimators=10, max_depth=10, min_samples_split = 2, class_weight='balanced')\n",
    "model_rf.fit(features_train, target_train)\n",
    "predictions_valid_rf = model_rf.predict(features_valid)\n",
    "\n",
    "print('F1:',f1_score(target_valid, predictions_valid_rf))\n",
    "probabilities_valid_rf = model_rf.predict_proba(features_valid)[:, 1]\n",
    "print(\"ROC_AUC\", roc_auc_score(target_valid, probabilities_valid_rf))"
   ]
  },
  {
   "cell_type": "markdown",
   "metadata": {},
   "source": [
    "Показатели после балансировки увеличились"
   ]
  },
  {
   "cell_type": "markdown",
   "metadata": {},
   "source": [
    "# Логистическая регрессия"
   ]
  },
  {
   "cell_type": "code",
   "execution_count": 254,
   "metadata": {},
   "outputs": [
    {
     "name": "stdout",
     "output_type": "stream",
     "text": [
      "F1: 0.33108108108108103\n",
      "ROC_AUC 0.7588057029137607\n"
     ]
    }
   ],
   "source": [
    "model_lr = LogisticRegression(random_state=12345) \n",
    "model_lr.fit(features_train, target_train) \n",
    "predictions_valid_lr = model_lr.predict(features_valid)\n",
    "\n",
    "print('F1:',f1_score(target_valid, predictions_valid_lr))\n",
    "probabilities_valid_lr = model_lr.predict_proba(features_valid)[:, 1]\n",
    "print(\"ROC_AUC\", roc_auc_score(target_valid, probabilities_valid_lr))"
   ]
  },
  {
   "cell_type": "code",
   "execution_count": 255,
   "metadata": {},
   "outputs": [
    {
     "name": "stdout",
     "output_type": "stream",
     "text": [
      "F1: 0.4888507718696398\n",
      "ROC_AUC 0.7636750766699532\n"
     ]
    }
   ],
   "source": [
    "model_lr = LogisticRegression(random_state=12345, class_weight='balanced') \n",
    "model_lr.fit(features_train, target_train) \n",
    "predictions_valid_lr = model_lr.predict(features_valid)\n",
    "\n",
    "print('F1:',f1_score(target_valid, predictions_valid_lr))\n",
    "probabilities_valid_lr = model_lr.predict_proba(features_valid)[:, 1]\n",
    "print(\"ROC_AUC\", roc_auc_score(target_valid, probabilities_valid_lr))"
   ]
  },
  {
   "cell_type": "markdown",
   "metadata": {},
   "source": [
    "Показатели после балансировки увеличились"
   ]
  },
  {
   "cell_type": "markdown",
   "metadata": {},
   "source": [
    "# Увеличение выборки"
   ]
  },
  {
   "cell_type": "code",
   "execution_count": 256,
   "metadata": {},
   "outputs": [],
   "source": [
    "def upsample(features, target, repeat):\n",
    "    features_zeros = features[target == 0]\n",
    "    features_ones = features[target == 1]\n",
    "    target_zeros = target[target == 0]\n",
    "    target_ones = target[target == 1]\n",
    "    \n",
    "    features_upsampled = pd.concat([features_zeros] + [features_ones] * repeat)\n",
    "    target_upsampled = pd.concat([target_zeros] + [target_ones] * repeat)\n",
    "    \n",
    "    return shuffle(features_upsampled,target_upsampled, random_state=12345)\n",
    "    \n",
    "features_upsampled, target_upsampled = upsample(features_train, target_train, 4)"
   ]
  },
  {
   "cell_type": "code",
   "execution_count": 257,
   "metadata": {},
   "outputs": [
    {
     "data": {
      "text/plain": [
       "(9588, 11)"
      ]
     },
     "execution_count": 257,
     "metadata": {},
     "output_type": "execute_result"
    }
   ],
   "source": [
    "features_upsampled.shape"
   ]
  },
  {
   "cell_type": "code",
   "execution_count": 258,
   "metadata": {},
   "outputs": [
    {
     "data": {
      "text/plain": [
       "0    4804\n",
       "1    4784\n",
       "Name: Exited, dtype: int64"
      ]
     },
     "execution_count": 258,
     "metadata": {},
     "output_type": "execute_result"
    }
   ],
   "source": [
    "target_upsampled.value_counts()"
   ]
  },
  {
   "cell_type": "code",
   "execution_count": 298,
   "metadata": {},
   "outputs": [
    {
     "data": {
      "text/plain": [
       "Text(0.5, 1.0, 'Exited')"
      ]
     },
     "execution_count": 298,
     "metadata": {},
     "output_type": "execute_result"
    },
    {
     "data": {
      "image/png": "[encoded data removed]",
      "text/plain": [
       "<Figure size 864x504 with 1 Axes>"
      ]
     },
     "metadata": {
      "needs_background": "light"
     },
     "output_type": "display_data"
    }
   ],
   "source": [
    "target_upsampled.value_counts().plot(\n",
    "    kind='bar',\n",
    "    stacked=True,\n",
    "    grid=True,\n",
    "    color='indigo',\n",
    "    width=0.9,\n",
    "    figsize=(12,7)\n",
    "    );\n",
    "plt.title('Exited')"
   ]
  },
  {
   "cell_type": "markdown",
   "metadata": {},
   "source": [
    "Соотношение улучшилось, проверяем на моделях"
   ]
  },
  {
   "cell_type": "markdown",
   "metadata": {},
   "source": [
    "# Дерево решений."
   ]
  },
  {
   "cell_type": "code",
   "execution_count": 260,
   "metadata": {},
   "outputs": [
    {
     "name": "stdout",
     "output_type": "stream",
     "text": [
      "max_depth = 1 : 0.7405\n",
      "f1_score = 0.5061845861084681\n",
      "\n",
      "max_depth = 2 : 0.749\n",
      "f1_score = 0.5394495412844036\n",
      "\n",
      "max_depth = 3 : 0.768\n",
      "f1_score = 0.5555555555555556\n",
      "\n",
      "max_depth = 4 : 0.721\n",
      "f1_score = 0.5357737104825291\n",
      "\n",
      "max_depth = 5 : 0.8\n",
      "f1_score = 0.5943204868154158\n",
      "\n",
      "max_depth = 6 : 0.776\n",
      "f1_score = 0.5749525616698292\n",
      "\n",
      "max_depth = 7 : 0.738\n",
      "f1_score = 0.5304659498207885\n",
      "\n",
      "max_depth = 8 : 0.734\n",
      "f1_score = 0.5181159420289856\n",
      "\n",
      "max_depth = 9 : 0.7345\n",
      "f1_score = 0.522911051212938\n",
      "\n"
     ]
    }
   ],
   "source": [
    "for depth in range(1, 10):\n",
    "    model = DecisionTreeClassifier(random_state=12345, max_depth = depth) \n",
    "    model.fit(features_downsampled, target_downsampled) \n",
    "    predictions_valid = model.predict(features_valid) \n",
    "    result = accuracy_score(target_valid, predictions_valid) \n",
    "    f1 = f1_score(target_valid , predictions_valid)\n",
    "    print('max_depth =', depth, ':', result)\n",
    "    print('f1_score =',f1)\n",
    "    print()"
   ]
  },
  {
   "cell_type": "code",
   "execution_count": 261,
   "metadata": {},
   "outputs": [
    {
     "name": "stdout",
     "output_type": "stream",
     "text": [
      "F1: 0.5963791267305644\n",
      "ROC_AUC 0.8310244134068074\n"
     ]
    }
   ],
   "source": [
    "model_dt = DecisionTreeClassifier(random_state=12345, max_depth = 5) \n",
    "model_dt.fit(features_upsampled,target_upsampled) \n",
    "predictions_valid_dt = model_dt.predict(features_valid) \n",
    "\n",
    "print('F1:',f1_score(target_valid, predictions_valid_dt))\n",
    "probabilities_valid_dt = model_dt.predict_proba(features_valid)[:, 1]\n",
    "print(\"ROC_AUC\", roc_auc_score(target_valid, probabilities_valid_dt))"
   ]
  },
  {
   "cell_type": "markdown",
   "metadata": {},
   "source": [
    "# Случайный лес."
   ]
  },
  {
   "cell_type": "code",
   "execution_count": 262,
   "metadata": {},
   "outputs": [
    {
     "name": "stdout",
     "output_type": "stream",
     "text": [
      "f1_score наилучшей модели на валидационной выборке: 0.6092184368737475\n",
      "Количество деревьев: 10\n",
      "Максимальная глубина: 10\n",
      "Минимальное количество примеров для разделения: 2\n"
     ]
    }
   ],
   "source": [
    "best_result = 0\n",
    "best_est = 0\n",
    "best_depth = 0\n",
    "for est in range(10, 101, 5):\n",
    "    for sample in range(2,5):\n",
    "        for depth in range (1, 11):\n",
    "            model = RandomForestClassifier(random_state=12345, n_estimators=est, max_depth=depth, min_samples_split = sample)\n",
    "            model.fit(features_downsampled, target_downsampled) \n",
    "            predictions_valid = model.predict(features_valid)\n",
    "            result = f1_score(target_valid , predictions_valid)\n",
    "            if result > best_result:\n",
    "                best_result = result\n",
    "                best_est = est\n",
    "                best_depth = depth\n",
    "                best_split = sample\n",
    "\n",
    "\n",
    "print(\"f1_score наилучшей модели на валидационной выборке:\", best_result)\n",
    "print(\"Количество деревьев:\", best_est)\n",
    "print(\"Максимальная глубина:\", depth)\n",
    "print(\"Минимальное количество примеров для разделения:\",best_split)"
   ]
  },
  {
   "cell_type": "code",
   "execution_count": 263,
   "metadata": {},
   "outputs": [
    {
     "data": {
      "text/plain": [
       "RandomForestClassifier(max_depth=9, min_samples_split=4, n_estimators=90,\n",
       "                       random_state=12345)"
      ]
     },
     "execution_count": 263,
     "metadata": {},
     "output_type": "execute_result"
    }
   ],
   "source": [
    "grid.best_estimator_"
   ]
  },
  {
   "cell_type": "code",
   "execution_count": 288,
   "metadata": {},
   "outputs": [
    {
     "name": "stdout",
     "output_type": "stream",
     "text": [
      "F1: 0.5849462365591399\n",
      "ROC_AUC 0.8331627036214833\n"
     ]
    }
   ],
   "source": [
    "model_rf = RandomForestClassifier(random_state=12345, max_depth=10, n_estimators=10,min_samples_split = 2)\n",
    "model_rf.fit(features_upsampled, target_upsampled)\n",
    "predictions_valid_rf = model_rf.predict(features_valid)\n",
    "\n",
    "print('F1:',f1_score(target_valid, predictions_valid_rf))\n",
    "probabilities_valid_rf = model_rf.predict_proba(features_valid)[:, 1]\n",
    "print(\"ROC_AUC\", roc_auc_score(target_valid, probabilities_valid_rf))"
   ]
  },
  {
   "cell_type": "markdown",
   "metadata": {},
   "source": [
    "Покзатели уменьшились по сравнению с балансировкой"
   ]
  },
  {
   "cell_type": "markdown",
   "metadata": {},
   "source": [
    "Логистическая регрессия"
   ]
  },
  {
   "cell_type": "code",
   "execution_count": 289,
   "metadata": {},
   "outputs": [
    {
     "name": "stdout",
     "output_type": "stream",
     "text": [
      "F1: 0.4888507718696398\n",
      "ROC_AUC 0.7636160997828442\n"
     ]
    }
   ],
   "source": [
    "model_lr = LogisticRegression(random_state=12345) \n",
    "model_lr.fit(features_upsampled, target_upsampled) \n",
    "predictions_valid_lr = model_lr.predict(features_valid)\n",
    "\n",
    "print('F1:',f1_score(target_valid, predictions_valid_lr))\n",
    "probabilities_valid_lr = model_lr.predict_proba(features_valid)[:, 1]\n",
    "print(\"ROC_AUC\", roc_auc_score(target_valid, probabilities_valid_lr))"
   ]
  },
  {
   "cell_type": "markdown",
   "metadata": {},
   "source": [
    "# Уменьшение выборки"
   ]
  },
  {
   "cell_type": "code",
   "execution_count": 266,
   "metadata": {},
   "outputs": [],
   "source": [
    "def downsample(features, target, fraction):\n",
    "    features_zeros = features[target == 0]\n",
    "    features_ones = features[target == 1]\n",
    "    target_zeros = target[target == 0]\n",
    "    target_ones = target[target == 1]\n",
    "\n",
    "    features_downsampled = pd.concat(\n",
    "        [features_zeros.sample(frac=fraction, random_state=12345)] + [features_ones])\n",
    "    target_downsampled = pd.concat(\n",
    "        [target_zeros.sample(frac=fraction, random_state=12345)] + [target_ones])\n",
    "  \n",
    "    features_downsampled, target_downsampled = shuffle(\n",
    "        features_downsampled, target_downsampled, random_state=12345)\n",
    "    \n",
    "    return features_downsampled, target_downsampled\n",
    "\n",
    "features_downsampled, target_downsampled = downsample(features_train, target_train, 0.25)"
   ]
  },
  {
   "cell_type": "code",
   "execution_count": 267,
   "metadata": {},
   "outputs": [
    {
     "data": {
      "text/plain": [
       "(2397, 11)"
      ]
     },
     "execution_count": 267,
     "metadata": {},
     "output_type": "execute_result"
    }
   ],
   "source": [
    "features_downsampled.shape"
   ]
  },
  {
   "cell_type": "code",
   "execution_count": 268,
   "metadata": {},
   "outputs": [
    {
     "data": {
      "text/plain": [
       "0    1201\n",
       "1    1196\n",
       "Name: Exited, dtype: int64"
      ]
     },
     "execution_count": 268,
     "metadata": {},
     "output_type": "execute_result"
    }
   ],
   "source": [
    "target_downsampled.value_counts()"
   ]
  },
  {
   "cell_type": "code",
   "execution_count": 301,
   "metadata": {},
   "outputs": [
    {
     "data": {
      "image/png": "[encoded data removed]",
      "text/plain": [
       "<Figure size 864x504 with 1 Axes>"
      ]
     },
     "metadata": {
      "needs_background": "light"
     },
     "output_type": "display_data"
    }
   ],
   "source": [
    "target_downsampled.value_counts().plot(\n",
    "    kind='bar',\n",
    "    stacked=True,\n",
    "    grid=True,\n",
    "    color='indigo',\n",
    "    width=0.9,\n",
    "    figsize=(12,7)\n",
    "    );\n",
    "plt.title('Exited');"
   ]
  },
  {
   "cell_type": "markdown",
   "metadata": {},
   "source": [
    "Соотношение улучшилось."
   ]
  },
  {
   "cell_type": "markdown",
   "metadata": {},
   "source": [
    "# Дерево решений ."
   ]
  },
  {
   "cell_type": "code",
   "execution_count": 270,
   "metadata": {},
   "outputs": [
    {
     "name": "stdout",
     "output_type": "stream",
     "text": [
      "max_depth = 1 : 0.7405\n",
      "f1_score = 0.5061845861084681\n",
      "\n",
      "max_depth = 2 : 0.749\n",
      "f1_score = 0.5394495412844036\n",
      "\n",
      "max_depth = 3 : 0.768\n",
      "f1_score = 0.5555555555555556\n",
      "\n",
      "max_depth = 4 : 0.721\n",
      "f1_score = 0.5357737104825291\n",
      "\n",
      "max_depth = 5 : 0.8\n",
      "f1_score = 0.5943204868154158\n",
      "\n",
      "max_depth = 6 : 0.776\n",
      "f1_score = 0.5749525616698292\n",
      "\n",
      "max_depth = 7 : 0.738\n",
      "f1_score = 0.5304659498207885\n",
      "\n",
      "max_depth = 8 : 0.734\n",
      "f1_score = 0.5181159420289856\n",
      "\n",
      "max_depth = 9 : 0.7345\n",
      "f1_score = 0.522911051212938\n",
      "\n"
     ]
    }
   ],
   "source": [
    "for depth in range(1, 10):\n",
    "    model = DecisionTreeClassifier(random_state=12345, max_depth = depth) \n",
    "    model.fit(features_downsampled, target_downsampled) \n",
    "    predictions_valid = model.predict(features_valid) \n",
    "    result = accuracy_score(target_valid, predictions_valid) \n",
    "    f1 = f1_score(target_valid , predictions_valid)\n",
    "    print('max_depth =', depth, ':', result)\n",
    "    print('f1_score =',f1)\n",
    "    print()"
   ]
  },
  {
   "cell_type": "code",
   "execution_count": 271,
   "metadata": {},
   "outputs": [
    {
     "name": "stdout",
     "output_type": "stream",
     "text": [
      "F1: 0.5943204868154158\n",
      "ROC_AUC 0.8241029464247908\n"
     ]
    }
   ],
   "source": [
    "model_dt = DecisionTreeClassifier(random_state=12345,max_depth=5) \n",
    "model_dt.fit(features_downsampled,target_downsampled) \n",
    "predictions_valid_dt = model_dt.predict(features_valid) \n",
    "\n",
    "print('F1:',f1_score(target_valid, predictions_valid_dt))\n",
    "probabilities_valid_dt = model_dt.predict_proba(features_valid)[:, 1]\n",
    "print(\"ROC_AUC\", roc_auc_score(target_valid, probabilities_valid_dt))"
   ]
  },
  {
   "cell_type": "markdown",
   "metadata": {},
   "source": [
    "# Случайный лес."
   ]
  },
  {
   "cell_type": "code",
   "execution_count": 272,
   "metadata": {},
   "outputs": [
    {
     "name": "stdout",
     "output_type": "stream",
     "text": [
      "f1_score наилучшей модели на валидационной выборке: 0.6092184368737475\n",
      "Количество деревьев: 10\n",
      "Максимальная глубина: 10\n",
      "Минимальное количество примеров для разделения: 2\n"
     ]
    }
   ],
   "source": [
    "best_result = 0\n",
    "best_est = 0\n",
    "best_depth = 0\n",
    "for est in range(10, 101, 5):\n",
    "    for sample in range(2,5):\n",
    "        for depth in range (1, 11):\n",
    "            model = RandomForestClassifier(random_state=12345, n_estimators=est, max_depth=depth, min_samples_split = sample)\n",
    "            model.fit(features_downsampled, target_downsampled) \n",
    "            predictions_valid = model.predict(features_valid)\n",
    "            result = f1_score(target_valid , predictions_valid)\n",
    "            if result > best_result:\n",
    "                best_result = result\n",
    "                best_est = est\n",
    "                best_depth = depth\n",
    "                best_split = sample\n",
    "\n",
    "\n",
    "print(\"f1_score наилучшей модели на валидационной выборке:\", best_result)\n",
    "print(\"Количество деревьев:\", best_est)\n",
    "print(\"Максимальная глубина:\", depth)\n",
    "print(\"Минимальное количество примеров для разделения:\",best_split)"
   ]
  },
  {
   "cell_type": "code",
   "execution_count": 273,
   "metadata": {},
   "outputs": [
    {
     "data": {
      "text/plain": [
       "RandomForestClassifier(max_depth=9, min_samples_split=4, n_estimators=90,\n",
       "                       random_state=12345)"
      ]
     },
     "execution_count": 273,
     "metadata": {},
     "output_type": "execute_result"
    }
   ],
   "source": [
    "grid.best_estimator_"
   ]
  },
  {
   "cell_type": "code",
   "execution_count": 290,
   "metadata": {},
   "outputs": [
    {
     "name": "stdout",
     "output_type": "stream",
     "text": [
      "F1: 0.5832549388523048\n",
      "ROC_AUC 0.8436915901983438\n"
     ]
    }
   ],
   "source": [
    "model_rf = RandomForestClassifier(random_state=12345, max_depth=10, n_estimators=20, min_samples_split =2)\n",
    "model_rf.fit(features_downsampled, target_downsampled)\n",
    "predictions_valid_rf = model_rf.predict(features_valid)\n",
    "\n",
    "print('F1:',f1_score(target_valid, predictions_valid_rf))\n",
    "probabilities_valid_rf = model_rf.predict_proba(features_valid)[:, 1]\n",
    "print(\"ROC_AUC\", roc_auc_score(target_valid, probabilities_valid_rf))"
   ]
  },
  {
   "cell_type": "markdown",
   "metadata": {},
   "source": [
    "Логистическая регрессия"
   ]
  },
  {
   "cell_type": "code",
   "execution_count": 275,
   "metadata": {},
   "outputs": [
    {
     "name": "stdout",
     "output_type": "stream",
     "text": [
      "F1: 0.48406546080964685\n",
      "ROC_AUC 0.7622293868218414\n"
     ]
    }
   ],
   "source": [
    "model_lr = LogisticRegression(random_state=12345) \n",
    "model_lr.fit(features_downsampled, target_downsampled) \n",
    "predictions_valid_lr = model_lr.predict(features_valid)\n",
    "\n",
    "print('F1:',f1_score(target_valid, predictions_valid_lr))\n",
    "probabilities_valid_lr = model_lr.predict_proba(features_valid)[:, 1]\n",
    "print(\"ROC_AUC\", roc_auc_score(target_valid, probabilities_valid_lr))"
   ]
  },
  {
   "cell_type": "markdown",
   "metadata": {},
   "source": [
    "Краткий вывод по третьему шагу.\n",
    "\n",
    "На первом шаге мы поигрались с взвешиванием классов. Мы посмотрели на то какое значение модель даёт без сбалансированого взвешивании классов и с. У всех моделей за исключением логистической регресии значение F1 и ROC_AUC растет\n",
    "\n",
    "Далее для того, чтобы объекты редкого класса стали не такими редкими в выборке мы прибегли к увеличению выборки. Достигли соотнеошение близкое 1 к 1.\n",
    "\n",
    "В результате у если у моделей дерева решений был виден рост и по f1 и roc_auc на 0.1, то по модели случайного леса значение f1 достигло 0.61 а roc_auc 0.84 \n",
    "\n",
    "Далее мы постарались объекты частого класса сделать не такими частыми в выборке прибегнув уменьшения выборки. Написав функцию и применив её к выборке мы получили распределение ну-почти равное. После чего мы протестировали на новой даунсэмплииованной выборке наши модели.\n",
    "\n",
    "В результате мы получили, что случайого леса показатели самые лучшие по сравнению с другими f1 0.61 пртив 0.48 и 0.58 и roc_auc 0.84 против  0.76 и вообще по всем моделям лучшие показатели получились именно при увеличении выборки и использовании взвешенных классов."
   ]
  },
  {
   "cell_type": "markdown",
   "metadata": {},
   "source": [
    "## Тестирование модели"
   ]
  },
  {
   "cell_type": "markdown",
   "metadata": {},
   "source": [
    "# Проверяем лучшую модель\n"
   ]
  },
  {
   "cell_type": "markdown",
   "metadata": {},
   "source": [
    "Модель с лучшими показателями была случайный лес, с гиперпараметрами что мы нашли сами."
   ]
  },
  {
   "cell_type": "code",
   "execution_count": 295,
   "metadata": {},
   "outputs": [
    {
     "name": "stdout",
     "output_type": "stream",
     "text": [
      "F1: 0.608604407135362\n",
      "ROC_AUC 0.8467239619170973\n"
     ]
    }
   ],
   "source": [
    "model_rf = RandomForestClassifier(random_state=12345, max_depth=10, n_estimators=10, min_samples_split = 2, class_weight='balanced')\n",
    "model_rf.fit(features_upsampled, target_upsampled)\n",
    "predictions_valid_rf = model_rf.predict(features_test)\n",
    "\n",
    "print('F1:',f1_score(target_test, predictions_valid_rf))\n",
    "probabilities_valid_rf = model_rf.predict_proba(features_test)[:, 1]\n",
    "print(\"ROC_AUC\", roc_auc_score(target_test, probabilities_valid_rf))"
   ]
  },
  {
   "cell_type": "markdown",
   "metadata": {},
   "source": [
    "Для Случайного леса значения оказались самыми лучшими в исследовании и тестовая выборка показала - F1 = 0.61, Roc_auc= 0.85. \n",
    "Берем ее в работу"
   ]
  },
  {
   "cell_type": "markdown",
   "metadata": {},
   "source": [
    "## Чек-лист готовности проекта"
   ]
  },
  {
   "cell_type": "markdown",
   "metadata": {},
   "source": [
    "Поставьте 'x' в выполненных пунктах. Далее нажмите Shift+Enter."
   ]
  },
  {
   "cell_type": "markdown",
   "metadata": {},
   "source": [
    "- [x]  Jupyter Notebook открыт\n",
    "- [х]  Весь код выполняется без ошибок\n",
    "- [х]  Ячейки с кодом расположены в порядке исполнения\n",
    "- [х]  Выполнен шаг 1: данные подготовлены\n",
    "- [х]  Выполнен шаг 2: задача исследована\n",
    "    - [х]  Исследован баланс классов\n",
    "    - [х]  Изучены модели без учёта дисбаланса\n",
    "    - [х ]  Написаны выводы по результатам исследования\n",
    "- [х]  Выполнен шаг 3: учтён дисбаланс\n",
    "    - [х]  Применено несколько способов борьбы с дисбалансом\n",
    "    - [х]  Написаны выводы по результатам исследования\n",
    "- [х]  Выполнен шаг 4: проведено тестирование\n",
    "- [х]  Удалось достичь *F1*-меры не менее 0.59\n",
    "- [х]  Исследована метрика *AUC-ROC*"
   ]
  },
  {
   "cell_type": "code",
   "execution_count": null,
   "metadata": {},
   "outputs": [],
   "source": []
  }
 ],
 "metadata": {
  "ExecuteTimeLog": [
   {
    "duration": 53,
    "start_time": "2023-03-25T19:49:47.581Z"
   },
   {
    "duration": 1331,
    "start_time": "2023-03-25T19:49:52.197Z"
   },
   {
    "duration": 10,
    "start_time": "2023-03-25T19:49:53.531Z"
   },
   {
    "duration": 17,
    "start_time": "2023-03-25T19:50:09.418Z"
   },
   {
    "duration": 15,
    "start_time": "2023-03-25T19:50:22.264Z"
   },
   {
    "duration": 200,
    "start_time": "2023-03-25T20:01:44.494Z"
   },
   {
    "duration": 72,
    "start_time": "2023-03-25T20:02:59.128Z"
   },
   {
    "duration": 61,
    "start_time": "2023-03-25T20:04:21.648Z"
   },
   {
    "duration": 5,
    "start_time": "2023-03-25T20:05:00.787Z"
   },
   {
    "duration": 66,
    "start_time": "2023-03-25T20:05:37.073Z"
   },
   {
    "duration": 64,
    "start_time": "2023-03-25T20:05:41.331Z"
   },
   {
    "duration": 6,
    "start_time": "2023-03-25T20:05:42.440Z"
   },
   {
    "duration": 4,
    "start_time": "2023-03-25T20:05:43.432Z"
   },
   {
    "duration": 10,
    "start_time": "2023-03-25T20:08:09.355Z"
   },
   {
    "duration": 44,
    "start_time": "2023-03-25T20:08:30.823Z"
   },
   {
    "duration": 45,
    "start_time": "2023-03-25T20:08:34.241Z"
   },
   {
    "duration": 5,
    "start_time": "2023-03-25T20:08:34.288Z"
   },
   {
    "duration": 18,
    "start_time": "2023-03-25T20:08:34.295Z"
   },
   {
    "duration": 18,
    "start_time": "2023-03-25T20:08:34.315Z"
   },
   {
    "duration": 210,
    "start_time": "2023-03-25T20:08:34.334Z"
   },
   {
    "duration": 53,
    "start_time": "2023-03-25T20:08:34.546Z"
   },
   {
    "duration": 68,
    "start_time": "2023-03-25T20:08:34.601Z"
   },
   {
    "duration": 5,
    "start_time": "2023-03-25T20:08:34.671Z"
   },
   {
    "duration": 24,
    "start_time": "2023-03-25T20:08:34.678Z"
   },
   {
    "duration": 51,
    "start_time": "2023-03-25T20:08:34.705Z"
   },
   {
    "duration": 0,
    "start_time": "2023-03-25T20:08:34.758Z"
   },
   {
    "duration": 26,
    "start_time": "2023-03-25T20:08:53.570Z"
   },
   {
    "duration": 6,
    "start_time": "2023-03-25T20:09:40.216Z"
   },
   {
    "duration": 617,
    "start_time": "2023-03-25T20:10:10.139Z"
   },
   {
    "duration": 25,
    "start_time": "2023-03-25T20:12:50.686Z"
   },
   {
    "duration": 38,
    "start_time": "2023-03-25T20:13:04.342Z"
   },
   {
    "duration": 164,
    "start_time": "2023-03-25T20:13:09.812Z"
   },
   {
    "duration": 38,
    "start_time": "2023-03-25T20:13:44.056Z"
   },
   {
    "duration": 4,
    "start_time": "2023-03-25T20:13:44.097Z"
   },
   {
    "duration": 30,
    "start_time": "2023-03-25T20:13:44.103Z"
   },
   {
    "duration": 26,
    "start_time": "2023-03-25T20:13:44.135Z"
   },
   {
    "duration": 217,
    "start_time": "2023-03-25T20:13:44.163Z"
   },
   {
    "duration": 52,
    "start_time": "2023-03-25T20:13:44.382Z"
   },
   {
    "duration": 61,
    "start_time": "2023-03-25T20:13:44.435Z"
   },
   {
    "duration": 4,
    "start_time": "2023-03-25T20:13:44.498Z"
   },
   {
    "duration": 5,
    "start_time": "2023-03-25T20:13:44.518Z"
   },
   {
    "duration": 25,
    "start_time": "2023-03-25T20:13:44.525Z"
   },
   {
    "duration": 6,
    "start_time": "2023-03-25T20:13:44.552Z"
   },
   {
    "duration": 171,
    "start_time": "2023-03-25T20:13:44.559Z"
   },
   {
    "duration": 168,
    "start_time": "2023-03-25T20:13:44.732Z"
   },
   {
    "duration": 0,
    "start_time": "2023-03-25T20:13:44.902Z"
   },
   {
    "duration": 173,
    "start_time": "2023-03-25T20:14:29.636Z"
   },
   {
    "duration": 40,
    "start_time": "2023-03-25T20:14:59.140Z"
   },
   {
    "duration": 38,
    "start_time": "2023-03-25T20:15:02.943Z"
   },
   {
    "duration": 4,
    "start_time": "2023-03-25T20:15:02.983Z"
   },
   {
    "duration": 28,
    "start_time": "2023-03-25T20:15:02.988Z"
   },
   {
    "duration": 21,
    "start_time": "2023-03-25T20:15:03.018Z"
   },
   {
    "duration": 213,
    "start_time": "2023-03-25T20:15:03.041Z"
   },
   {
    "duration": 47,
    "start_time": "2023-03-25T20:15:03.256Z"
   },
   {
    "duration": 70,
    "start_time": "2023-03-25T20:15:03.305Z"
   },
   {
    "duration": 4,
    "start_time": "2023-03-25T20:15:03.377Z"
   },
   {
    "duration": 11,
    "start_time": "2023-03-25T20:15:03.382Z"
   },
   {
    "duration": 50,
    "start_time": "2023-03-25T20:15:03.396Z"
   },
   {
    "duration": 6,
    "start_time": "2023-03-25T20:15:03.448Z"
   },
   {
    "duration": 164,
    "start_time": "2023-03-25T20:15:03.456Z"
   },
   {
    "duration": 173,
    "start_time": "2023-03-25T20:15:03.621Z"
   },
   {
    "duration": 0,
    "start_time": "2023-03-25T20:15:03.796Z"
   },
   {
    "duration": 38,
    "start_time": "2023-03-25T20:17:13.343Z"
   },
   {
    "duration": 14,
    "start_time": "2023-03-25T20:19:36.449Z"
   },
   {
    "duration": 41,
    "start_time": "2023-03-25T20:20:14.057Z"
   },
   {
    "duration": 5,
    "start_time": "2023-03-25T20:20:14.100Z"
   },
   {
    "duration": 42,
    "start_time": "2023-03-25T20:20:14.107Z"
   },
   {
    "duration": 43,
    "start_time": "2023-03-25T20:20:14.152Z"
   },
   {
    "duration": 229,
    "start_time": "2023-03-25T20:20:14.197Z"
   },
   {
    "duration": 39,
    "start_time": "2023-03-25T20:20:14.428Z"
   },
   {
    "duration": 108,
    "start_time": "2023-03-25T20:20:14.470Z"
   },
   {
    "duration": 5,
    "start_time": "2023-03-25T20:20:14.581Z"
   },
   {
    "duration": 29,
    "start_time": "2023-03-25T20:20:14.589Z"
   },
   {
    "duration": 57,
    "start_time": "2023-03-25T20:20:14.622Z"
   },
   {
    "duration": 18,
    "start_time": "2023-03-25T20:20:14.681Z"
   },
   {
    "duration": 167,
    "start_time": "2023-03-25T20:20:14.701Z"
   },
   {
    "duration": 174,
    "start_time": "2023-03-25T20:20:14.870Z"
   },
   {
    "duration": 0,
    "start_time": "2023-03-25T20:20:15.047Z"
   },
   {
    "duration": 0,
    "start_time": "2023-03-25T20:20:15.049Z"
   },
   {
    "duration": 14,
    "start_time": "2023-03-25T20:21:05.007Z"
   },
   {
    "duration": 45,
    "start_time": "2023-03-25T20:21:26.751Z"
   },
   {
    "duration": 40,
    "start_time": "2023-03-25T20:21:31.138Z"
   },
   {
    "duration": 54,
    "start_time": "2023-03-25T20:21:31.180Z"
   },
   {
    "duration": 63,
    "start_time": "2023-03-25T20:21:31.237Z"
   },
   {
    "duration": 57,
    "start_time": "2023-03-25T20:21:31.303Z"
   },
   {
    "duration": 257,
    "start_time": "2023-03-25T20:21:31.362Z"
   },
   {
    "duration": 63,
    "start_time": "2023-03-25T20:21:31.621Z"
   },
   {
    "duration": 85,
    "start_time": "2023-03-25T20:21:31.686Z"
   },
   {
    "duration": 5,
    "start_time": "2023-03-25T20:21:31.773Z"
   },
   {
    "duration": 17,
    "start_time": "2023-03-25T20:21:31.780Z"
   },
   {
    "duration": 40,
    "start_time": "2023-03-25T20:21:31.799Z"
   },
   {
    "duration": 14,
    "start_time": "2023-03-25T20:21:31.842Z"
   },
   {
    "duration": 239,
    "start_time": "2023-03-25T20:21:31.858Z"
   },
   {
    "duration": 180,
    "start_time": "2023-03-25T20:21:32.100Z"
   },
   {
    "duration": 0,
    "start_time": "2023-03-25T20:21:32.282Z"
   },
   {
    "duration": 0,
    "start_time": "2023-03-25T20:21:32.284Z"
   },
   {
    "duration": 0,
    "start_time": "2023-03-25T20:21:32.287Z"
   },
   {
    "duration": 423,
    "start_time": "2023-03-25T20:22:27.099Z"
   },
   {
    "duration": 167,
    "start_time": "2023-03-25T20:22:31.274Z"
   },
   {
    "duration": 6,
    "start_time": "2023-03-25T20:23:44.041Z"
   },
   {
    "duration": 38,
    "start_time": "2023-03-25T20:23:47.592Z"
   },
   {
    "duration": 4,
    "start_time": "2023-03-25T20:23:47.632Z"
   },
   {
    "duration": 34,
    "start_time": "2023-03-25T20:23:47.637Z"
   },
   {
    "duration": 37,
    "start_time": "2023-03-25T20:23:47.674Z"
   },
   {
    "duration": 5,
    "start_time": "2023-03-25T20:23:47.713Z"
   },
   {
    "duration": 18,
    "start_time": "2023-03-25T20:23:47.719Z"
   },
   {
    "duration": 8,
    "start_time": "2023-03-25T20:23:47.738Z"
   },
   {
    "duration": 11,
    "start_time": "2023-03-25T20:23:47.748Z"
   },
   {
    "duration": 20,
    "start_time": "2023-03-25T20:23:47.761Z"
   },
   {
    "duration": 14,
    "start_time": "2023-03-25T20:23:47.783Z"
   },
   {
    "duration": 39,
    "start_time": "2023-03-25T20:23:47.799Z"
   },
   {
    "duration": 7,
    "start_time": "2023-03-25T20:23:47.840Z"
   },
   {
    "duration": 251,
    "start_time": "2023-03-25T20:23:47.849Z"
   },
   {
    "duration": 26,
    "start_time": "2023-03-25T20:23:48.101Z"
   },
   {
    "duration": 0,
    "start_time": "2023-03-25T20:23:48.128Z"
   },
   {
    "duration": 0,
    "start_time": "2023-03-25T20:23:48.130Z"
   },
   {
    "duration": 0,
    "start_time": "2023-03-25T20:23:48.132Z"
   },
   {
    "duration": 11,
    "start_time": "2023-03-25T20:24:03.762Z"
   },
   {
    "duration": 7,
    "start_time": "2023-03-25T20:24:06.132Z"
   },
   {
    "duration": 8,
    "start_time": "2023-03-25T20:24:06.959Z"
   },
   {
    "duration": 6,
    "start_time": "2023-03-25T20:24:07.719Z"
   },
   {
    "duration": 5,
    "start_time": "2023-03-25T20:24:08.638Z"
   },
   {
    "duration": 24,
    "start_time": "2023-03-25T20:24:11.811Z"
   },
   {
    "duration": 8,
    "start_time": "2023-03-25T20:24:15.057Z"
   },
   {
    "duration": 150,
    "start_time": "2023-03-25T20:24:17.302Z"
   },
   {
    "duration": 6,
    "start_time": "2023-03-25T20:24:59.308Z"
   },
   {
    "duration": 11,
    "start_time": "2023-03-25T20:25:01.630Z"
   },
   {
    "duration": 7,
    "start_time": "2023-03-25T20:25:03.111Z"
   },
   {
    "duration": 8,
    "start_time": "2023-03-25T20:25:03.795Z"
   },
   {
    "duration": 5,
    "start_time": "2023-03-25T20:25:04.397Z"
   },
   {
    "duration": 6,
    "start_time": "2023-03-25T20:25:05.185Z"
   },
   {
    "duration": 25,
    "start_time": "2023-03-25T20:25:07.254Z"
   },
   {
    "duration": 6,
    "start_time": "2023-03-25T20:25:10.612Z"
   },
   {
    "duration": 190,
    "start_time": "2023-03-25T20:25:12.049Z"
   },
   {
    "duration": 47,
    "start_time": "2023-03-25T20:25:14.350Z"
   },
   {
    "duration": 57,
    "start_time": "2023-03-25T20:25:16.766Z"
   },
   {
    "duration": 902,
    "start_time": "2023-03-25T20:25:18.274Z"
   },
   {
    "duration": 350,
    "start_time": "2023-03-25T20:25:19.180Z"
   },
   {
    "duration": 60,
    "start_time": "2023-03-25T20:25:21.632Z"
   },
   {
    "duration": 53,
    "start_time": "2023-03-25T20:25:32.575Z"
   },
   {
    "duration": 46,
    "start_time": "2023-03-26T19:51:15.469Z"
   },
   {
    "duration": 1356,
    "start_time": "2023-03-26T19:51:19.524Z"
   },
   {
    "duration": 9,
    "start_time": "2023-03-26T19:51:20.882Z"
   },
   {
    "duration": 26,
    "start_time": "2023-03-26T19:51:20.893Z"
   },
   {
    "duration": 13,
    "start_time": "2023-03-26T19:51:20.921Z"
   },
   {
    "duration": 4,
    "start_time": "2023-03-26T19:51:20.935Z"
   },
   {
    "duration": 15,
    "start_time": "2023-03-26T19:51:20.941Z"
   },
   {
    "duration": 24,
    "start_time": "2023-03-26T19:51:20.958Z"
   },
   {
    "duration": 5,
    "start_time": "2023-03-26T19:51:20.983Z"
   },
   {
    "duration": 5,
    "start_time": "2023-03-26T19:51:20.990Z"
   },
   {
    "duration": 3,
    "start_time": "2023-03-26T19:51:20.998Z"
   },
   {
    "duration": 3,
    "start_time": "2023-03-26T19:51:21.003Z"
   },
   {
    "duration": 41,
    "start_time": "2023-03-26T19:51:21.007Z"
   },
   {
    "duration": 6,
    "start_time": "2023-03-26T19:51:21.050Z"
   },
   {
    "duration": 585,
    "start_time": "2023-03-26T19:51:21.058Z"
   },
   {
    "duration": 44,
    "start_time": "2023-03-26T19:51:21.645Z"
   },
   {
    "duration": 920,
    "start_time": "2023-03-26T19:51:21.691Z"
   },
   {
    "duration": 313,
    "start_time": "2023-03-26T19:51:22.612Z"
   },
   {
    "duration": 99,
    "start_time": "2023-03-26T19:51:22.927Z"
   },
   {
    "duration": 4,
    "start_time": "2023-03-26T19:51:23.028Z"
   },
   {
    "duration": 390,
    "start_time": "2023-03-26T19:51:23.034Z"
   },
   {
    "duration": 7,
    "start_time": "2023-03-26T19:52:31.769Z"
   },
   {
    "duration": 7,
    "start_time": "2023-03-26T19:53:47.891Z"
   },
   {
    "duration": 6,
    "start_time": "2023-03-26T19:55:50.104Z"
   },
   {
    "duration": 850,
    "start_time": "2023-03-26T19:58:13.086Z"
   },
   {
    "duration": 45,
    "start_time": "2023-03-26T19:58:45.161Z"
   },
   {
    "duration": 1005,
    "start_time": "2023-03-26T19:58:50.965Z"
   },
   {
    "duration": 78,
    "start_time": "2023-03-26T20:00:52.118Z"
   },
   {
    "duration": 144,
    "start_time": "2023-03-26T20:02:22.698Z"
   },
   {
    "duration": 46,
    "start_time": "2023-03-26T20:04:04.085Z"
   },
   {
    "duration": 50,
    "start_time": "2023-03-26T20:05:57.507Z"
   },
   {
    "duration": 934,
    "start_time": "2023-03-26T20:07:38.928Z"
   },
   {
    "duration": 929,
    "start_time": "2023-03-26T20:08:07.158Z"
   },
   {
    "duration": 672,
    "start_time": "2023-03-26T20:11:01.954Z"
   },
   {
    "duration": 255,
    "start_time": "2023-03-26T20:11:25.286Z"
   },
   {
    "duration": 30,
    "start_time": "2023-03-26T20:12:11.883Z"
   },
   {
    "duration": 45,
    "start_time": "2023-03-26T20:12:46.582Z"
   },
   {
    "duration": 17,
    "start_time": "2023-03-26T20:12:55.262Z"
   },
   {
    "duration": 5,
    "start_time": "2023-03-26T20:13:28.933Z"
   },
   {
    "duration": 7,
    "start_time": "2023-03-26T20:13:44.677Z"
   },
   {
    "duration": 140,
    "start_time": "2023-03-26T20:14:00.127Z"
   },
   {
    "duration": 128,
    "start_time": "2023-03-26T20:14:08.609Z"
   },
   {
    "duration": 64,
    "start_time": "2023-03-26T20:15:28.590Z"
   },
   {
    "duration": 62,
    "start_time": "2023-03-26T20:16:01.190Z"
   },
   {
    "duration": 1487,
    "start_time": "2023-03-26T20:16:34.919Z"
   },
   {
    "duration": 244,
    "start_time": "2023-03-26T20:17:51.685Z"
   },
   {
    "duration": 46,
    "start_time": "2023-03-26T20:19:18.318Z"
   },
   {
    "duration": 118,
    "start_time": "2023-03-26T20:19:26.870Z"
   },
   {
    "duration": 4,
    "start_time": "2023-03-26T20:19:45.243Z"
   },
   {
    "duration": 6,
    "start_time": "2023-03-26T20:20:01.128Z"
   },
   {
    "duration": 121,
    "start_time": "2023-03-26T20:25:09.081Z"
   },
   {
    "duration": 32,
    "start_time": "2023-03-26T20:25:48.173Z"
   },
   {
    "duration": 594,
    "start_time": "2023-03-26T20:26:31.583Z"
   },
   {
    "duration": 189,
    "start_time": "2023-03-26T20:27:21.035Z"
   },
   {
    "duration": 10,
    "start_time": "2023-03-26T20:27:51.077Z"
   },
   {
    "duration": 42,
    "start_time": "2023-03-26T20:29:36.296Z"
   },
   {
    "duration": 805,
    "start_time": "2023-03-26T20:29:47.312Z"
   },
   {
    "duration": 5,
    "start_time": "2023-03-26T20:30:26.480Z"
   },
   {
    "duration": 132,
    "start_time": "2023-03-26T20:30:45.537Z"
   },
   {
    "duration": 25,
    "start_time": "2023-03-26T20:32:16.510Z"
   },
   {
    "duration": 1682,
    "start_time": "2023-03-29T19:42:06.397Z"
   },
   {
    "duration": 6,
    "start_time": "2023-03-29T19:42:08.082Z"
   },
   {
    "duration": 17,
    "start_time": "2023-03-29T19:42:08.090Z"
   },
   {
    "duration": 14,
    "start_time": "2023-03-29T19:42:08.110Z"
   },
   {
    "duration": 4,
    "start_time": "2023-03-29T19:42:08.126Z"
   },
   {
    "duration": 7,
    "start_time": "2023-03-29T19:42:08.132Z"
   },
   {
    "duration": 30,
    "start_time": "2023-03-29T19:42:08.140Z"
   },
   {
    "duration": 6,
    "start_time": "2023-03-29T19:42:08.171Z"
   },
   {
    "duration": 8,
    "start_time": "2023-03-29T19:42:08.179Z"
   },
   {
    "duration": 5,
    "start_time": "2023-03-29T19:42:08.189Z"
   },
   {
    "duration": 20,
    "start_time": "2023-03-29T19:42:08.195Z"
   },
   {
    "duration": 28,
    "start_time": "2023-03-29T19:42:08.217Z"
   },
   {
    "duration": 6,
    "start_time": "2023-03-29T19:42:08.262Z"
   },
   {
    "duration": 158,
    "start_time": "2023-03-29T19:42:08.270Z"
   },
   {
    "duration": 52,
    "start_time": "2023-03-29T19:42:08.430Z"
   },
   {
    "duration": 871,
    "start_time": "2023-03-29T19:42:08.484Z"
   },
   {
    "duration": 309,
    "start_time": "2023-03-29T19:42:09.356Z"
   },
   {
    "duration": 97,
    "start_time": "2023-03-29T19:42:09.668Z"
   },
   {
    "duration": 12,
    "start_time": "2023-03-29T19:42:09.766Z"
   },
   {
    "duration": 11,
    "start_time": "2023-03-29T19:42:09.779Z"
   },
   {
    "duration": 76,
    "start_time": "2023-03-29T19:42:09.791Z"
   },
   {
    "duration": 1009,
    "start_time": "2023-03-29T19:42:09.869Z"
   },
   {
    "duration": 68,
    "start_time": "2023-03-29T19:42:10.879Z"
   },
   {
    "duration": 129,
    "start_time": "2023-03-29T19:42:10.949Z"
   },
   {
    "duration": 44,
    "start_time": "2023-03-29T19:42:11.079Z"
   },
   {
    "duration": 62,
    "start_time": "2023-03-29T19:42:11.125Z"
   },
   {
    "duration": 944,
    "start_time": "2023-03-29T19:42:11.189Z"
   },
   {
    "duration": 965,
    "start_time": "2023-03-29T19:42:12.137Z"
   },
   {
    "duration": 364,
    "start_time": "2023-03-29T19:42:13.104Z"
   },
   {
    "duration": 894,
    "start_time": "2023-03-29T19:42:13.470Z"
   },
   {
    "duration": 104,
    "start_time": "2023-03-29T19:42:14.367Z"
   },
   {
    "duration": 11,
    "start_time": "2023-03-29T19:42:14.473Z"
   },
   {
    "duration": 22,
    "start_time": "2023-03-29T19:42:14.487Z"
   },
   {
    "duration": 132,
    "start_time": "2023-03-29T19:42:14.511Z"
   },
   {
    "duration": 63,
    "start_time": "2023-03-29T19:42:14.644Z"
   },
   {
    "duration": 1302,
    "start_time": "2023-03-29T19:42:14.709Z"
   },
   {
    "duration": 352,
    "start_time": "2023-03-29T19:42:16.012Z"
   },
   {
    "duration": 196,
    "start_time": "2023-03-29T19:42:16.366Z"
   },
   {
    "duration": 4,
    "start_time": "2023-03-29T19:42:16.564Z"
   },
   {
    "duration": 14,
    "start_time": "2023-03-29T19:42:16.569Z"
   },
   {
    "duration": 135,
    "start_time": "2023-03-29T19:42:16.585Z"
   },
   {
    "duration": 33,
    "start_time": "2023-03-29T19:42:16.722Z"
   },
   {
    "duration": 620,
    "start_time": "2023-03-29T19:42:16.763Z"
   },
   {
    "duration": 284,
    "start_time": "2023-03-29T19:42:17.385Z"
   },
   {
    "duration": 998,
    "start_time": "2023-03-29T19:42:17.671Z"
   },
   {
    "duration": 4,
    "start_time": "2023-03-29T19:42:18.671Z"
   },
   {
    "duration": 143,
    "start_time": "2023-03-29T19:42:18.677Z"
   },
   {
    "duration": 23,
    "start_time": "2023-03-29T19:42:18.822Z"
   },
   {
    "duration": 37,
    "start_time": "2023-03-29T19:45:59.093Z"
   },
   {
    "duration": 5,
    "start_time": "2023-03-29T19:45:59.133Z"
   },
   {
    "duration": 25,
    "start_time": "2023-03-29T19:45:59.139Z"
   },
   {
    "duration": 14,
    "start_time": "2023-03-29T19:45:59.167Z"
   },
   {
    "duration": 5,
    "start_time": "2023-03-29T19:45:59.183Z"
   },
   {
    "duration": 8,
    "start_time": "2023-03-29T19:45:59.189Z"
   },
   {
    "duration": 12,
    "start_time": "2023-03-29T19:45:59.199Z"
   },
   {
    "duration": 6,
    "start_time": "2023-03-29T19:45:59.214Z"
   },
   {
    "duration": 47,
    "start_time": "2023-03-29T19:45:59.222Z"
   },
   {
    "duration": 5,
    "start_time": "2023-03-29T19:45:59.271Z"
   },
   {
    "duration": 6,
    "start_time": "2023-03-29T19:45:59.278Z"
   },
   {
    "duration": 31,
    "start_time": "2023-03-29T19:45:59.286Z"
   },
   {
    "duration": 7,
    "start_time": "2023-03-29T19:45:59.319Z"
   },
   {
    "duration": 164,
    "start_time": "2023-03-29T19:45:59.363Z"
   },
   {
    "duration": 57,
    "start_time": "2023-03-29T19:45:59.530Z"
   },
   {
    "duration": 962,
    "start_time": "2023-03-29T19:45:59.589Z"
   },
   {
    "duration": 811,
    "start_time": "2023-03-29T19:46:00.553Z"
   },
   {
    "duration": 95,
    "start_time": "2023-03-29T19:46:01.367Z"
   },
   {
    "duration": 8,
    "start_time": "2023-03-29T19:46:01.464Z"
   },
   {
    "duration": 14,
    "start_time": "2023-03-29T19:46:01.473Z"
   },
   {
    "duration": 20,
    "start_time": "2023-03-29T19:46:01.489Z"
   },
   {
    "duration": 1045,
    "start_time": "2023-03-29T19:46:01.511Z"
   },
   {
    "duration": 68,
    "start_time": "2023-03-29T19:46:02.558Z"
   },
   {
    "duration": 138,
    "start_time": "2023-03-29T19:46:02.628Z"
   },
   {
    "duration": 51,
    "start_time": "2023-03-29T19:46:02.768Z"
   },
   {
    "duration": 66,
    "start_time": "2023-03-29T19:46:02.822Z"
   },
   {
    "duration": 973,
    "start_time": "2023-03-29T19:46:02.889Z"
   },
   {
    "duration": 1096,
    "start_time": "2023-03-29T19:46:03.863Z"
   },
   {
    "duration": 305,
    "start_time": "2023-03-29T19:46:04.962Z"
   },
   {
    "duration": 394,
    "start_time": "2023-03-29T19:46:05.270Z"
   },
   {
    "duration": 96,
    "start_time": "2023-03-29T19:46:05.666Z"
   },
   {
    "duration": 5,
    "start_time": "2023-03-29T19:46:05.765Z"
   },
   {
    "duration": 11,
    "start_time": "2023-03-29T19:46:05.772Z"
   },
   {
    "duration": 161,
    "start_time": "2023-03-29T19:46:05.785Z"
   },
   {
    "duration": 73,
    "start_time": "2023-03-29T19:46:05.947Z"
   },
   {
    "duration": 1405,
    "start_time": "2023-03-29T19:46:06.022Z"
   },
   {
    "duration": 637,
    "start_time": "2023-03-29T19:46:07.429Z"
   },
   {
    "duration": 101,
    "start_time": "2023-03-29T19:46:08.069Z"
   },
   {
    "duration": 4,
    "start_time": "2023-03-29T19:46:08.172Z"
   },
   {
    "duration": 7,
    "start_time": "2023-03-29T19:46:08.178Z"
   },
   {
    "duration": 152,
    "start_time": "2023-03-29T19:46:08.187Z"
   },
   {
    "duration": 42,
    "start_time": "2023-03-29T19:46:08.341Z"
   },
   {
    "duration": 621,
    "start_time": "2023-03-29T19:46:08.385Z"
   },
   {
    "duration": 360,
    "start_time": "2023-03-29T19:46:09.008Z"
   },
   {
    "duration": 902,
    "start_time": "2023-03-29T19:46:09.371Z"
   },
   {
    "duration": 4,
    "start_time": "2023-03-29T19:46:10.275Z"
   },
   {
    "duration": 159,
    "start_time": "2023-03-29T19:46:10.281Z"
   },
   {
    "duration": 39,
    "start_time": "2023-03-29T19:46:10.442Z"
   },
   {
    "duration": 114306,
    "start_time": "2023-03-29T19:46:10.483Z"
   },
   {
    "duration": 9984,
    "start_time": "2023-03-29T19:48:04.791Z"
   },
   {
    "duration": 54,
    "start_time": "2023-03-30T20:30:09.202Z"
   },
   {
    "duration": 2085,
    "start_time": "2023-03-30T20:30:12.874Z"
   },
   {
    "duration": 4,
    "start_time": "2023-03-30T20:30:14.961Z"
   },
   {
    "duration": 44,
    "start_time": "2023-03-30T20:30:14.967Z"
   },
   {
    "duration": 24,
    "start_time": "2023-03-30T20:30:15.013Z"
   },
   {
    "duration": 6,
    "start_time": "2023-03-30T20:30:15.039Z"
   },
   {
    "duration": 10,
    "start_time": "2023-03-30T20:30:15.047Z"
   },
   {
    "duration": 30,
    "start_time": "2023-03-30T20:30:15.058Z"
   },
   {
    "duration": 8,
    "start_time": "2023-03-30T20:30:15.102Z"
   },
   {
    "duration": 9,
    "start_time": "2023-03-30T20:30:15.113Z"
   },
   {
    "duration": 5,
    "start_time": "2023-03-30T20:30:15.125Z"
   },
   {
    "duration": 21,
    "start_time": "2023-03-30T20:30:15.132Z"
   },
   {
    "duration": 27,
    "start_time": "2023-03-30T20:30:15.154Z"
   },
   {
    "duration": 9,
    "start_time": "2023-03-30T20:30:15.182Z"
   },
   {
    "duration": 157,
    "start_time": "2023-03-30T20:30:15.192Z"
   },
   {
    "duration": 50,
    "start_time": "2023-03-30T20:30:15.351Z"
   },
   {
    "duration": 986,
    "start_time": "2023-03-30T20:30:15.407Z"
   },
   {
    "duration": 284,
    "start_time": "2023-03-30T20:30:16.395Z"
   },
   {
    "duration": 19,
    "start_time": "2023-03-30T20:30:16.681Z"
   },
   {
    "duration": 112,
    "start_time": "2023-03-30T20:30:16.702Z"
   },
   {
    "duration": 10,
    "start_time": "2023-03-30T20:30:16.815Z"
   },
   {
    "duration": 24,
    "start_time": "2023-03-30T20:30:16.826Z"
   },
   {
    "duration": 1044,
    "start_time": "2023-03-30T20:30:16.852Z"
   },
   {
    "duration": 55,
    "start_time": "2023-03-30T20:30:17.897Z"
   },
   {
    "duration": 101,
    "start_time": "2023-03-30T20:30:17.954Z"
   },
   {
    "duration": 58,
    "start_time": "2023-03-30T20:30:18.057Z"
   },
   {
    "duration": 46,
    "start_time": "2023-03-30T20:30:18.117Z"
   },
   {
    "duration": 972,
    "start_time": "2023-03-30T20:30:18.164Z"
   },
   {
    "duration": 959,
    "start_time": "2023-03-30T20:30:19.140Z"
   },
   {
    "duration": 781,
    "start_time": "2023-03-30T20:30:20.101Z"
   },
   {
    "duration": 808,
    "start_time": "2023-03-30T20:30:20.883Z"
   },
   {
    "duration": 88,
    "start_time": "2023-03-30T20:30:21.693Z"
   },
   {
    "duration": 22,
    "start_time": "2023-03-30T20:30:21.783Z"
   },
   {
    "duration": 9,
    "start_time": "2023-03-30T20:30:21.807Z"
   },
   {
    "duration": 121,
    "start_time": "2023-03-30T20:30:21.818Z"
   },
   {
    "duration": 66,
    "start_time": "2023-03-30T20:30:21.940Z"
   },
   {
    "duration": 1325,
    "start_time": "2023-03-30T20:30:22.008Z"
   },
   {
    "duration": 745,
    "start_time": "2023-03-30T20:30:23.334Z"
   },
   {
    "duration": 160,
    "start_time": "2023-03-30T20:30:24.081Z"
   },
   {
    "duration": 4,
    "start_time": "2023-03-30T20:30:24.242Z"
   },
   {
    "duration": 8,
    "start_time": "2023-03-30T20:30:24.247Z"
   },
   {
    "duration": 137,
    "start_time": "2023-03-30T20:30:24.257Z"
   },
   {
    "duration": 30,
    "start_time": "2023-03-30T20:30:24.398Z"
   },
   {
    "duration": 590,
    "start_time": "2023-03-30T20:30:24.430Z"
   },
   {
    "duration": 475,
    "start_time": "2023-03-30T20:30:25.022Z"
   },
   {
    "duration": 1037,
    "start_time": "2023-03-30T20:30:25.499Z"
   },
   {
    "duration": 5,
    "start_time": "2023-03-30T20:30:26.537Z"
   },
   {
    "duration": 152,
    "start_time": "2023-03-30T20:30:26.543Z"
   },
   {
    "duration": 22,
    "start_time": "2023-03-30T20:30:26.699Z"
   },
   {
    "duration": 0,
    "start_time": "2023-03-30T20:38:45.105Z"
   },
   {
    "duration": 0,
    "start_time": "2023-03-30T20:38:45.107Z"
   },
   {
    "duration": 0,
    "start_time": "2023-03-30T20:38:45.108Z"
   },
   {
    "duration": 0,
    "start_time": "2023-03-30T20:38:45.109Z"
   },
   {
    "duration": 0,
    "start_time": "2023-03-30T20:38:45.110Z"
   },
   {
    "duration": 0,
    "start_time": "2023-03-30T20:38:45.110Z"
   },
   {
    "duration": 0,
    "start_time": "2023-03-30T20:38:45.111Z"
   },
   {
    "duration": 0,
    "start_time": "2023-03-30T20:38:45.113Z"
   },
   {
    "duration": 0,
    "start_time": "2023-03-30T20:38:45.114Z"
   },
   {
    "duration": 0,
    "start_time": "2023-03-30T20:38:45.115Z"
   },
   {
    "duration": 0,
    "start_time": "2023-03-30T20:38:45.117Z"
   },
   {
    "duration": 0,
    "start_time": "2023-03-30T20:38:45.119Z"
   },
   {
    "duration": 0,
    "start_time": "2023-03-30T20:38:45.119Z"
   },
   {
    "duration": 0,
    "start_time": "2023-03-30T20:38:45.121Z"
   },
   {
    "duration": 0,
    "start_time": "2023-03-30T20:38:45.122Z"
   },
   {
    "duration": 0,
    "start_time": "2023-03-30T20:38:45.124Z"
   },
   {
    "duration": 0,
    "start_time": "2023-03-30T20:38:45.125Z"
   },
   {
    "duration": 0,
    "start_time": "2023-03-30T20:38:45.126Z"
   },
   {
    "duration": 0,
    "start_time": "2023-03-30T20:38:45.127Z"
   },
   {
    "duration": 0,
    "start_time": "2023-03-30T20:38:45.128Z"
   },
   {
    "duration": 0,
    "start_time": "2023-03-30T20:38:45.128Z"
   },
   {
    "duration": 0,
    "start_time": "2023-03-30T20:38:45.131Z"
   },
   {
    "duration": 0,
    "start_time": "2023-03-30T20:38:45.132Z"
   },
   {
    "duration": 0,
    "start_time": "2023-03-30T20:38:45.134Z"
   },
   {
    "duration": 0,
    "start_time": "2023-03-30T20:38:45.135Z"
   },
   {
    "duration": 0,
    "start_time": "2023-03-30T20:38:45.136Z"
   },
   {
    "duration": 0,
    "start_time": "2023-03-30T20:38:45.137Z"
   },
   {
    "duration": 0,
    "start_time": "2023-03-30T20:38:45.138Z"
   },
   {
    "duration": 0,
    "start_time": "2023-03-30T20:38:45.139Z"
   },
   {
    "duration": 0,
    "start_time": "2023-03-30T20:38:45.174Z"
   },
   {
    "duration": 0,
    "start_time": "2023-03-30T20:38:45.181Z"
   },
   {
    "duration": 0,
    "start_time": "2023-03-30T20:38:45.182Z"
   },
   {
    "duration": 0,
    "start_time": "2023-03-30T20:38:45.183Z"
   },
   {
    "duration": 0,
    "start_time": "2023-03-30T20:38:45.186Z"
   },
   {
    "duration": 0,
    "start_time": "2023-03-30T20:38:45.187Z"
   },
   {
    "duration": 0,
    "start_time": "2023-03-30T20:38:45.187Z"
   },
   {
    "duration": 0,
    "start_time": "2023-03-30T20:38:45.188Z"
   },
   {
    "duration": 0,
    "start_time": "2023-03-30T20:38:45.188Z"
   },
   {
    "duration": 0,
    "start_time": "2023-03-30T20:38:45.189Z"
   },
   {
    "duration": 1,
    "start_time": "2023-03-30T20:38:45.192Z"
   },
   {
    "duration": 0,
    "start_time": "2023-03-30T20:38:45.198Z"
   },
   {
    "duration": 0,
    "start_time": "2023-03-30T20:38:45.199Z"
   },
   {
    "duration": 0,
    "start_time": "2023-03-30T20:38:45.201Z"
   },
   {
    "duration": 0,
    "start_time": "2023-03-30T20:38:45.206Z"
   },
   {
    "duration": 0,
    "start_time": "2023-03-30T20:38:45.209Z"
   },
   {
    "duration": 0,
    "start_time": "2023-03-30T20:38:45.211Z"
   },
   {
    "duration": 0,
    "start_time": "2023-03-30T20:38:45.213Z"
   },
   {
    "duration": 0,
    "start_time": "2023-03-30T20:38:45.215Z"
   },
   {
    "duration": 0,
    "start_time": "2023-03-30T20:38:45.221Z"
   },
   {
    "duration": 0,
    "start_time": "2023-03-30T20:38:45.223Z"
   },
   {
    "duration": 0,
    "start_time": "2023-03-30T20:38:45.224Z"
   },
   {
    "duration": 0,
    "start_time": "2023-03-30T20:38:45.226Z"
   },
   {
    "duration": 1,
    "start_time": "2023-03-30T20:38:45.230Z"
   },
   {
    "duration": 0,
    "start_time": "2023-03-30T20:38:45.231Z"
   },
   {
    "duration": 0,
    "start_time": "2023-03-30T20:38:45.233Z"
   },
   {
    "duration": 0,
    "start_time": "2023-03-30T20:38:45.234Z"
   },
   {
    "duration": 15,
    "start_time": "2023-03-30T20:39:06.648Z"
   },
   {
    "duration": 46,
    "start_time": "2023-03-30T20:39:09.041Z"
   },
   {
    "duration": 4,
    "start_time": "2023-03-30T20:39:10.661Z"
   },
   {
    "duration": 60,
    "start_time": "2023-03-30T20:39:11.571Z"
   },
   {
    "duration": 24,
    "start_time": "2023-03-30T20:39:12.499Z"
   },
   {
    "duration": 7,
    "start_time": "2023-03-30T20:39:16.014Z"
   },
   {
    "duration": 4,
    "start_time": "2023-03-30T20:39:17.939Z"
   },
   {
    "duration": 17,
    "start_time": "2023-03-30T20:39:19.474Z"
   },
   {
    "duration": 29,
    "start_time": "2023-03-30T20:39:20.294Z"
   },
   {
    "duration": 20,
    "start_time": "2023-03-30T20:39:21.217Z"
   },
   {
    "duration": 4,
    "start_time": "2023-03-30T20:39:21.967Z"
   },
   {
    "duration": 4,
    "start_time": "2023-03-30T20:39:22.859Z"
   },
   {
    "duration": 24,
    "start_time": "2023-03-30T20:39:24.130Z"
   },
   {
    "duration": 6,
    "start_time": "2023-03-30T20:39:27.002Z"
   },
   {
    "duration": 148,
    "start_time": "2023-03-30T20:39:28.118Z"
   },
   {
    "duration": 98,
    "start_time": "2023-03-30T20:39:29.266Z"
   },
   {
    "duration": 1046,
    "start_time": "2023-03-30T20:39:30.768Z"
   },
   {
    "duration": 621,
    "start_time": "2023-03-30T20:39:32.663Z"
   },
   {
    "duration": 9,
    "start_time": "2023-03-30T20:39:34.418Z"
   },
   {
    "duration": 7,
    "start_time": "2023-03-30T20:39:36.158Z"
   },
   {
    "duration": 6,
    "start_time": "2023-03-30T20:39:38.243Z"
   },
   {
    "duration": 7,
    "start_time": "2023-03-30T20:39:39.459Z"
   },
   {
    "duration": 1255,
    "start_time": "2023-03-30T20:39:40.658Z"
   },
   {
    "duration": 86,
    "start_time": "2023-03-30T20:39:42.068Z"
   },
   {
    "duration": 176,
    "start_time": "2023-03-30T20:39:43.559Z"
   },
   {
    "duration": 70,
    "start_time": "2023-03-30T20:39:47.124Z"
   },
   {
    "duration": 89,
    "start_time": "2023-03-30T20:39:47.960Z"
   },
   {
    "duration": 1084,
    "start_time": "2023-03-30T20:39:51.113Z"
   },
   {
    "duration": 1087,
    "start_time": "2023-03-30T20:39:53.144Z"
   },
   {
    "duration": 638,
    "start_time": "2023-03-30T20:39:57.054Z"
   },
   {
    "duration": 483,
    "start_time": "2023-03-30T20:39:58.796Z"
   },
   {
    "duration": 17,
    "start_time": "2023-03-30T20:40:02.160Z"
   },
   {
    "duration": 4,
    "start_time": "2023-03-30T20:40:03.740Z"
   },
   {
    "duration": 5,
    "start_time": "2023-03-30T20:40:04.698Z"
   },
   {
    "duration": 170,
    "start_time": "2023-03-30T20:40:05.691Z"
   },
   {
    "duration": 85,
    "start_time": "2023-03-30T20:40:08.162Z"
   },
   {
    "duration": 1542,
    "start_time": "2023-03-30T20:40:11.190Z"
   },
   {
    "duration": 488,
    "start_time": "2023-03-30T20:40:15.022Z"
   },
   {
    "duration": 10,
    "start_time": "2023-03-30T20:40:17.855Z"
   },
   {
    "duration": 4,
    "start_time": "2023-03-30T20:40:20.627Z"
   },
   {
    "duration": 5,
    "start_time": "2023-03-30T20:40:21.562Z"
   },
   {
    "duration": 144,
    "start_time": "2023-03-30T20:40:23.114Z"
   },
   {
    "duration": 33,
    "start_time": "2023-03-30T20:40:25.231Z"
   },
   {
    "duration": 710,
    "start_time": "2023-03-30T20:40:27.450Z"
   },
   {
    "duration": 55,
    "start_time": "2023-03-30T20:40:30.236Z"
   },
   {
    "duration": 999,
    "start_time": "2023-03-30T20:40:32.498Z"
   },
   {
    "duration": 5,
    "start_time": "2023-03-30T20:40:34.402Z"
   },
   {
    "duration": 192,
    "start_time": "2023-03-30T20:40:36.054Z"
   },
   {
    "duration": 32,
    "start_time": "2023-03-30T20:40:37.550Z"
   },
   {
    "duration": 118447,
    "start_time": "2023-03-30T20:42:47.271Z"
   },
   {
    "duration": 9549,
    "start_time": "2023-03-30T20:44:45.720Z"
   },
   {
    "duration": 8,
    "start_time": "2023-03-30T20:44:55.271Z"
   },
   {
    "duration": 229,
    "start_time": "2023-03-30T20:44:55.280Z"
   },
   {
    "duration": 537,
    "start_time": "2023-03-30T20:44:55.511Z"
   },
   {
    "duration": 54,
    "start_time": "2023-03-30T20:44:56.051Z"
   },
   {
    "duration": 651,
    "start_time": "2023-03-30T20:44:56.118Z"
   },
   {
    "duration": 0,
    "start_time": "2023-03-30T20:44:56.770Z"
   },
   {
    "duration": 0,
    "start_time": "2023-03-30T20:44:56.774Z"
   },
   {
    "duration": 0,
    "start_time": "2023-03-30T20:44:56.774Z"
   },
   {
    "duration": 1795,
    "start_time": "2023-03-31T06:12:22.159Z"
   },
   {
    "duration": 6,
    "start_time": "2023-03-31T06:12:23.956Z"
   },
   {
    "duration": 37,
    "start_time": "2023-03-31T06:12:23.963Z"
   },
   {
    "duration": 15,
    "start_time": "2023-03-31T06:12:24.002Z"
   },
   {
    "duration": 23,
    "start_time": "2023-03-31T06:12:24.018Z"
   },
   {
    "duration": 20,
    "start_time": "2023-03-31T06:12:24.043Z"
   },
   {
    "duration": 39,
    "start_time": "2023-03-31T06:12:24.065Z"
   },
   {
    "duration": 26,
    "start_time": "2023-03-31T06:12:24.106Z"
   },
   {
    "duration": 21,
    "start_time": "2023-03-31T06:12:24.134Z"
   },
   {
    "duration": 22,
    "start_time": "2023-03-31T06:12:24.158Z"
   },
   {
    "duration": 21,
    "start_time": "2023-03-31T06:12:24.183Z"
   },
   {
    "duration": 40,
    "start_time": "2023-03-31T06:12:24.206Z"
   },
   {
    "duration": 14,
    "start_time": "2023-03-31T06:12:24.249Z"
   },
   {
    "duration": 164,
    "start_time": "2023-03-31T06:12:24.265Z"
   },
   {
    "duration": 38,
    "start_time": "2023-03-31T06:12:24.430Z"
   },
   {
    "duration": 707,
    "start_time": "2023-03-31T06:12:24.470Z"
   },
   {
    "duration": 315,
    "start_time": "2023-03-31T06:12:25.179Z"
   },
   {
    "duration": 92,
    "start_time": "2023-03-31T06:12:25.496Z"
   },
   {
    "duration": 9,
    "start_time": "2023-03-31T06:12:25.591Z"
   },
   {
    "duration": 89,
    "start_time": "2023-03-31T06:12:25.603Z"
   },
   {
    "duration": 12,
    "start_time": "2023-03-31T06:12:25.694Z"
   },
   {
    "duration": 807,
    "start_time": "2023-03-31T06:12:25.707Z"
   },
   {
    "duration": 103,
    "start_time": "2023-03-31T06:12:26.515Z"
   },
   {
    "duration": 135,
    "start_time": "2023-03-31T06:12:26.620Z"
   },
   {
    "duration": 52,
    "start_time": "2023-03-31T06:12:26.757Z"
   },
   {
    "duration": 40,
    "start_time": "2023-03-31T06:12:26.811Z"
   },
   {
    "duration": 756,
    "start_time": "2023-03-31T06:12:26.853Z"
   },
   {
    "duration": 752,
    "start_time": "2023-03-31T06:12:27.613Z"
   },
   {
    "duration": 431,
    "start_time": "2023-03-31T06:12:28.366Z"
   },
   {
    "duration": 405,
    "start_time": "2023-03-31T06:12:28.888Z"
   },
   {
    "duration": 101,
    "start_time": "2023-03-31T06:12:29.295Z"
   },
   {
    "duration": 8,
    "start_time": "2023-03-31T06:12:29.398Z"
   },
   {
    "duration": 17,
    "start_time": "2023-03-31T06:12:29.407Z"
   },
   {
    "duration": 151,
    "start_time": "2023-03-31T06:12:29.425Z"
   },
   {
    "duration": 52,
    "start_time": "2023-03-31T06:12:29.578Z"
   },
   {
    "duration": 1024,
    "start_time": "2023-03-31T06:12:29.632Z"
   },
   {
    "duration": 437,
    "start_time": "2023-03-31T06:12:30.658Z"
   },
   {
    "duration": 269,
    "start_time": "2023-03-31T06:12:31.097Z"
   },
   {
    "duration": 79,
    "start_time": "2023-03-31T06:12:31.367Z"
   },
   {
    "duration": 43,
    "start_time": "2023-03-31T06:12:31.448Z"
   },
   {
    "duration": 184,
    "start_time": "2023-03-31T06:12:31.493Z"
   },
   {
    "duration": 34,
    "start_time": "2023-03-31T06:12:31.679Z"
   },
   {
    "duration": 534,
    "start_time": "2023-03-31T06:12:31.716Z"
   },
   {
    "duration": 336,
    "start_time": "2023-03-31T06:12:32.252Z"
   },
   {
    "duration": 730,
    "start_time": "2023-03-31T06:12:32.595Z"
   },
   {
    "duration": 4,
    "start_time": "2023-03-31T06:12:33.327Z"
   },
   {
    "duration": 133,
    "start_time": "2023-03-31T06:12:33.333Z"
   },
   {
    "duration": 29,
    "start_time": "2023-03-31T06:12:33.468Z"
   },
   {
    "duration": 235,
    "start_time": "2023-03-31T06:14:15.931Z"
   },
   {
    "duration": 461,
    "start_time": "2023-03-31T06:14:16.168Z"
   },
   {
    "duration": 64,
    "start_time": "2023-03-31T06:14:16.631Z"
   },
   {
    "duration": 595,
    "start_time": "2023-03-31T06:14:16.697Z"
   },
   {
    "duration": 0,
    "start_time": "2023-03-31T06:14:17.294Z"
   },
   {
    "duration": 0,
    "start_time": "2023-03-31T06:14:17.295Z"
   },
   {
    "duration": 0,
    "start_time": "2023-03-31T06:14:17.296Z"
   },
   {
    "duration": 0,
    "start_time": "2023-03-31T06:14:17.298Z"
   },
   {
    "duration": 24,
    "start_time": "2023-03-31T06:15:01.090Z"
   },
   {
    "duration": 103598,
    "start_time": "2023-03-31T06:16:03.934Z"
   },
   {
    "duration": 0,
    "start_time": "2023-03-31T06:17:47.683Z"
   },
   {
    "duration": 5894,
    "start_time": "2023-03-31T06:17:54.828Z"
   },
   {
    "duration": 6,
    "start_time": "2023-03-31T06:18:08.604Z"
   },
   {
    "duration": 2031,
    "start_time": "2023-03-31T09:39:53.909Z"
   },
   {
    "duration": 8,
    "start_time": "2023-03-31T09:39:55.944Z"
   },
   {
    "duration": 39,
    "start_time": "2023-03-31T09:39:55.953Z"
   },
   {
    "duration": 14,
    "start_time": "2023-03-31T09:39:55.994Z"
   },
   {
    "duration": 40,
    "start_time": "2023-03-31T09:39:56.010Z"
   },
   {
    "duration": 29,
    "start_time": "2023-03-31T09:39:56.052Z"
   },
   {
    "duration": 23,
    "start_time": "2023-03-31T09:39:56.083Z"
   },
   {
    "duration": 38,
    "start_time": "2023-03-31T09:39:56.107Z"
   },
   {
    "duration": 30,
    "start_time": "2023-03-31T09:39:56.147Z"
   },
   {
    "duration": 37,
    "start_time": "2023-03-31T09:39:56.179Z"
   },
   {
    "duration": 37,
    "start_time": "2023-03-31T09:39:56.220Z"
   },
   {
    "duration": 22,
    "start_time": "2023-03-31T09:39:56.259Z"
   },
   {
    "duration": 75,
    "start_time": "2023-03-31T09:39:56.284Z"
   },
   {
    "duration": 5,
    "start_time": "2023-03-31T09:39:56.362Z"
   },
   {
    "duration": 212,
    "start_time": "2023-03-31T09:39:56.369Z"
   },
   {
    "duration": 50,
    "start_time": "2023-03-31T09:39:56.584Z"
   },
   {
    "duration": 749,
    "start_time": "2023-03-31T09:39:56.647Z"
   },
   {
    "duration": 236,
    "start_time": "2023-03-31T09:39:57.399Z"
   },
   {
    "duration": 84,
    "start_time": "2023-03-31T09:39:57.637Z"
   },
   {
    "duration": 104,
    "start_time": "2023-03-31T09:39:57.724Z"
   },
   {
    "duration": 13,
    "start_time": "2023-03-31T09:39:57.834Z"
   },
   {
    "duration": 19,
    "start_time": "2023-03-31T09:39:57.850Z"
   },
   {
    "duration": 876,
    "start_time": "2023-03-31T09:39:57.871Z"
   },
   {
    "duration": 108,
    "start_time": "2023-03-31T09:39:58.749Z"
   },
   {
    "duration": 132,
    "start_time": "2023-03-31T09:39:58.859Z"
   },
   {
    "duration": 54,
    "start_time": "2023-03-31T09:39:58.992Z"
   },
   {
    "duration": 40,
    "start_time": "2023-03-31T09:39:59.047Z"
   },
   {
    "duration": 897,
    "start_time": "2023-03-31T09:39:59.089Z"
   },
   {
    "duration": 812,
    "start_time": "2023-03-31T09:39:59.990Z"
   },
   {
    "duration": 334,
    "start_time": "2023-03-31T09:40:00.804Z"
   },
   {
    "duration": 407,
    "start_time": "2023-03-31T09:40:01.140Z"
   },
   {
    "duration": 103,
    "start_time": "2023-03-31T09:40:01.623Z"
   },
   {
    "duration": 48,
    "start_time": "2023-03-31T09:40:01.728Z"
   },
   {
    "duration": 103,
    "start_time": "2023-03-31T09:40:01.778Z"
   },
   {
    "duration": 208,
    "start_time": "2023-03-31T09:40:01.883Z"
   },
   {
    "duration": 67,
    "start_time": "2023-03-31T09:40:02.093Z"
   },
   {
    "duration": 1092,
    "start_time": "2023-03-31T09:40:02.162Z"
   },
   {
    "duration": 590,
    "start_time": "2023-03-31T09:40:03.256Z"
   },
   {
    "duration": 228,
    "start_time": "2023-03-31T09:40:03.855Z"
   },
   {
    "duration": 4,
    "start_time": "2023-03-31T09:40:04.085Z"
   },
   {
    "duration": 10,
    "start_time": "2023-03-31T09:40:04.094Z"
   },
   {
    "duration": 155,
    "start_time": "2023-03-31T09:40:04.120Z"
   },
   {
    "duration": 29,
    "start_time": "2023-03-31T09:40:04.277Z"
   },
   {
    "duration": 583,
    "start_time": "2023-03-31T09:40:04.317Z"
   },
   {
    "duration": 349,
    "start_time": "2023-03-31T09:40:04.902Z"
   },
   {
    "duration": 848,
    "start_time": "2023-03-31T09:40:05.253Z"
   },
   {
    "duration": 20,
    "start_time": "2023-03-31T09:40:06.104Z"
   },
   {
    "duration": 137,
    "start_time": "2023-03-31T09:40:06.131Z"
   },
   {
    "duration": 35,
    "start_time": "2023-03-31T09:40:06.270Z"
   },
   {
    "duration": 102526,
    "start_time": "2023-03-31T09:40:06.318Z"
   },
   {
    "duration": 6543,
    "start_time": "2023-03-31T09:41:48.846Z"
   },
   {
    "duration": 5,
    "start_time": "2023-03-31T09:41:55.393Z"
   },
   {
    "duration": 247,
    "start_time": "2023-03-31T09:41:55.400Z"
   },
   {
    "duration": 496,
    "start_time": "2023-03-31T09:41:55.648Z"
   },
   {
    "duration": 96,
    "start_time": "2023-03-31T09:41:56.147Z"
   },
   {
    "duration": 836,
    "start_time": "2023-03-31T09:41:56.246Z"
   },
   {
    "duration": 0,
    "start_time": "2023-03-31T09:41:57.084Z"
   },
   {
    "duration": 0,
    "start_time": "2023-03-31T09:41:57.085Z"
   },
   {
    "duration": 0,
    "start_time": "2023-03-31T09:41:57.086Z"
   },
   {
    "duration": 0,
    "start_time": "2023-03-31T09:41:57.087Z"
   },
   {
    "duration": 49,
    "start_time": "2023-03-31T09:42:37.399Z"
   },
   {
    "duration": 7,
    "start_time": "2023-03-31T09:42:39.125Z"
   },
   {
    "duration": 12,
    "start_time": "2023-03-31T09:42:41.203Z"
   },
   {
    "duration": 14,
    "start_time": "2023-03-31T09:42:43.508Z"
   },
   {
    "duration": 6,
    "start_time": "2023-03-31T09:42:46.598Z"
   },
   {
    "duration": 7,
    "start_time": "2023-03-31T09:42:48.356Z"
   },
   {
    "duration": 15,
    "start_time": "2023-03-31T09:42:50.099Z"
   },
   {
    "duration": 7,
    "start_time": "2023-03-31T09:42:51.452Z"
   },
   {
    "duration": 6,
    "start_time": "2023-03-31T09:42:52.372Z"
   },
   {
    "duration": 8,
    "start_time": "2023-03-31T09:42:56.052Z"
   },
   {
    "duration": 4,
    "start_time": "2023-03-31T09:42:57.207Z"
   },
   {
    "duration": 5,
    "start_time": "2023-03-31T09:42:58.605Z"
   },
   {
    "duration": 32,
    "start_time": "2023-03-31T09:43:01.251Z"
   },
   {
    "duration": 31,
    "start_time": "2023-03-31T09:47:23.914Z"
   },
   {
    "duration": 159,
    "start_time": "2023-03-31T09:48:31.629Z"
   },
   {
    "duration": 16,
    "start_time": "2023-03-31T09:48:34.918Z"
   },
   {
    "duration": 51,
    "start_time": "2023-03-31T09:48:38.418Z"
   },
   {
    "duration": 54,
    "start_time": "2023-03-31T09:50:12.400Z"
   },
   {
    "duration": 6,
    "start_time": "2023-03-31T09:54:28.238Z"
   },
   {
    "duration": 9,
    "start_time": "2023-03-31T09:54:29.746Z"
   },
   {
    "duration": 9,
    "start_time": "2023-03-31T09:54:31.153Z"
   },
   {
    "duration": 6,
    "start_time": "2023-03-31T09:54:32.561Z"
   },
   {
    "duration": 11,
    "start_time": "2023-03-31T09:55:46.952Z"
   },
   {
    "duration": 7,
    "start_time": "2023-03-31T09:55:48.198Z"
   },
   {
    "duration": 10,
    "start_time": "2023-03-31T09:55:48.898Z"
   },
   {
    "duration": 52,
    "start_time": "2023-03-31T09:56:44.606Z"
   },
   {
    "duration": 166,
    "start_time": "2023-03-31T09:56:45.327Z"
   },
   {
    "duration": 48,
    "start_time": "2023-03-31T10:00:51.501Z"
   },
   {
    "duration": 45,
    "start_time": "2023-03-31T10:00:52.939Z"
   },
   {
    "duration": 877,
    "start_time": "2023-03-31T10:01:10.199Z"
   },
   {
    "duration": 906,
    "start_time": "2023-03-31T10:01:11.356Z"
   },
   {
    "duration": 1820,
    "start_time": "2023-03-31T18:54:51.143Z"
   },
   {
    "duration": 10,
    "start_time": "2023-03-31T18:54:52.966Z"
   },
   {
    "duration": 30,
    "start_time": "2023-03-31T18:54:52.978Z"
   },
   {
    "duration": 19,
    "start_time": "2023-03-31T18:54:53.011Z"
   },
   {
    "duration": 31,
    "start_time": "2023-03-31T18:54:53.032Z"
   },
   {
    "duration": 9,
    "start_time": "2023-03-31T18:54:53.065Z"
   },
   {
    "duration": 24,
    "start_time": "2023-03-31T18:54:53.077Z"
   },
   {
    "duration": 8,
    "start_time": "2023-03-31T18:54:53.103Z"
   },
   {
    "duration": 9,
    "start_time": "2023-03-31T18:54:53.114Z"
   },
   {
    "duration": 10,
    "start_time": "2023-03-31T18:54:53.127Z"
   },
   {
    "duration": 27,
    "start_time": "2023-03-31T18:54:53.140Z"
   },
   {
    "duration": 9,
    "start_time": "2023-03-31T18:54:53.170Z"
   },
   {
    "duration": 37,
    "start_time": "2023-03-31T18:54:53.181Z"
   },
   {
    "duration": 6,
    "start_time": "2023-03-31T18:54:53.221Z"
   },
   {
    "duration": 185,
    "start_time": "2023-03-31T18:54:53.230Z"
   },
   {
    "duration": 64,
    "start_time": "2023-03-31T18:54:53.417Z"
   },
   {
    "duration": 888,
    "start_time": "2023-03-31T18:54:53.484Z"
   },
   {
    "duration": 192,
    "start_time": "2023-03-31T18:54:54.374Z"
   },
   {
    "duration": 9,
    "start_time": "2023-03-31T18:54:54.568Z"
   },
   {
    "duration": 84,
    "start_time": "2023-03-31T18:54:54.580Z"
   },
   {
    "duration": 10,
    "start_time": "2023-03-31T18:54:54.667Z"
   },
   {
    "duration": 1004,
    "start_time": "2023-03-31T18:54:54.679Z"
   },
   {
    "duration": 7,
    "start_time": "2023-03-31T18:54:55.686Z"
   },
   {
    "duration": 81,
    "start_time": "2023-03-31T18:54:55.695Z"
   },
   {
    "duration": 142,
    "start_time": "2023-03-31T18:54:55.777Z"
   },
   {
    "duration": 62,
    "start_time": "2023-03-31T18:54:55.920Z"
   },
   {
    "duration": 43,
    "start_time": "2023-03-31T18:54:55.984Z"
   },
   {
    "duration": 836,
    "start_time": "2023-03-31T18:54:56.031Z"
   },
   {
    "duration": 819,
    "start_time": "2023-03-31T18:54:56.870Z"
   },
   {
    "duration": 189,
    "start_time": "2023-03-31T18:54:57.691Z"
   },
   {
    "duration": 287,
    "start_time": "2023-03-31T18:54:57.882Z"
   },
   {
    "duration": 98,
    "start_time": "2023-03-31T18:54:58.171Z"
   },
   {
    "duration": 91,
    "start_time": "2023-03-31T18:54:58.271Z"
   },
   {
    "duration": 6,
    "start_time": "2023-03-31T18:54:58.364Z"
   },
   {
    "duration": 198,
    "start_time": "2023-03-31T18:54:58.372Z"
   },
   {
    "duration": 58,
    "start_time": "2023-03-31T18:54:58.577Z"
   },
   {
    "duration": 1120,
    "start_time": "2023-03-31T18:54:58.637Z"
   },
   {
    "duration": 302,
    "start_time": "2023-03-31T18:54:59.761Z"
   },
   {
    "duration": 205,
    "start_time": "2023-03-31T18:55:00.066Z"
   },
   {
    "duration": 4,
    "start_time": "2023-03-31T18:55:00.274Z"
   },
   {
    "duration": 7,
    "start_time": "2023-03-31T18:55:00.280Z"
   },
   {
    "duration": 208,
    "start_time": "2023-03-31T18:55:00.289Z"
   },
   {
    "duration": 30,
    "start_time": "2023-03-31T18:55:00.499Z"
   },
   {
    "duration": 559,
    "start_time": "2023-03-31T18:55:00.531Z"
   },
   {
    "duration": 280,
    "start_time": "2023-03-31T18:55:01.092Z"
   },
   {
    "duration": 912,
    "start_time": "2023-03-31T18:55:01.374Z"
   },
   {
    "duration": 5,
    "start_time": "2023-03-31T18:55:02.288Z"
   },
   {
    "duration": 188,
    "start_time": "2023-03-31T18:55:02.295Z"
   },
   {
    "duration": 106,
    "start_time": "2023-03-31T18:55:02.485Z"
   },
   {
    "duration": 0,
    "start_time": "2023-03-31T18:55:02.593Z"
   },
   {
    "duration": 0,
    "start_time": "2023-03-31T18:55:02.595Z"
   },
   {
    "duration": 0,
    "start_time": "2023-03-31T18:55:02.597Z"
   },
   {
    "duration": 0,
    "start_time": "2023-03-31T18:55:02.598Z"
   },
   {
    "duration": 0,
    "start_time": "2023-03-31T18:55:02.600Z"
   },
   {
    "duration": 0,
    "start_time": "2023-03-31T18:55:02.601Z"
   },
   {
    "duration": 0,
    "start_time": "2023-03-31T18:55:02.603Z"
   },
   {
    "duration": 0,
    "start_time": "2023-03-31T18:55:02.604Z"
   },
   {
    "duration": 0,
    "start_time": "2023-03-31T18:55:02.606Z"
   },
   {
    "duration": 51,
    "start_time": "2023-03-31T18:55:20.829Z"
   },
   {
    "duration": 5,
    "start_time": "2023-03-31T18:55:22.467Z"
   },
   {
    "duration": 22,
    "start_time": "2023-03-31T18:55:24.069Z"
   },
   {
    "duration": 20,
    "start_time": "2023-03-31T18:55:25.164Z"
   },
   {
    "duration": 5,
    "start_time": "2023-03-31T18:55:29.378Z"
   },
   {
    "duration": 5,
    "start_time": "2023-03-31T18:55:31.762Z"
   },
   {
    "duration": 16,
    "start_time": "2023-03-31T18:55:33.666Z"
   },
   {
    "duration": 7,
    "start_time": "2023-03-31T18:55:36.081Z"
   },
   {
    "duration": 8,
    "start_time": "2023-03-31T18:55:36.849Z"
   },
   {
    "duration": 7,
    "start_time": "2023-03-31T18:55:38.731Z"
   },
   {
    "duration": 5,
    "start_time": "2023-03-31T18:55:40.693Z"
   },
   {
    "duration": 5,
    "start_time": "2023-03-31T18:55:43.401Z"
   },
   {
    "duration": 29,
    "start_time": "2023-03-31T18:55:45.329Z"
   },
   {
    "duration": 6,
    "start_time": "2023-03-31T18:55:48.143Z"
   },
   {
    "duration": 161,
    "start_time": "2023-03-31T18:55:49.732Z"
   },
   {
    "duration": 52,
    "start_time": "2023-03-31T18:55:54.123Z"
   },
   {
    "duration": 920,
    "start_time": "2023-03-31T18:55:56.983Z"
   },
   {
    "duration": 204,
    "start_time": "2023-03-31T18:55:59.978Z"
   },
   {
    "duration": 7,
    "start_time": "2023-03-31T18:56:04.681Z"
   },
   {
    "duration": 8,
    "start_time": "2023-03-31T18:56:06.850Z"
   },
   {
    "duration": 9,
    "start_time": "2023-03-31T18:56:08.084Z"
   },
   {
    "duration": 986,
    "start_time": "2023-03-31T18:56:13.136Z"
   },
   {
    "duration": 8,
    "start_time": "2023-03-31T18:56:18.514Z"
   },
   {
    "duration": 66,
    "start_time": "2023-03-31T18:56:20.352Z"
   },
   {
    "duration": 137,
    "start_time": "2023-03-31T18:56:28.336Z"
   },
   {
    "duration": 44,
    "start_time": "2023-03-31T18:56:33.783Z"
   },
   {
    "duration": 60,
    "start_time": "2023-03-31T18:56:36.032Z"
   },
   {
    "duration": 831,
    "start_time": "2023-03-31T18:56:48.312Z"
   },
   {
    "duration": 802,
    "start_time": "2023-03-31T18:56:50.065Z"
   },
   {
    "duration": 582,
    "start_time": "2023-03-31T18:56:55.083Z"
   },
   {
    "duration": 161,
    "start_time": "2023-03-31T18:56:57.420Z"
   },
   {
    "duration": 17,
    "start_time": "2023-03-31T18:56:59.941Z"
   },
   {
    "duration": 6,
    "start_time": "2023-03-31T18:57:02.863Z"
   },
   {
    "duration": 16,
    "start_time": "2023-03-31T18:57:03.932Z"
   },
   {
    "duration": 126,
    "start_time": "2023-03-31T18:57:07.788Z"
   },
   {
    "duration": 67,
    "start_time": "2023-03-31T18:57:16.996Z"
   },
   {
    "duration": 1171,
    "start_time": "2023-03-31T18:57:19.721Z"
   },
   {
    "duration": 280,
    "start_time": "2023-03-31T18:57:22.991Z"
   },
   {
    "duration": 13,
    "start_time": "2023-03-31T18:57:26.212Z"
   },
   {
    "duration": 4,
    "start_time": "2023-03-31T18:57:27.359Z"
   },
   {
    "duration": 8,
    "start_time": "2023-03-31T18:57:28.966Z"
   },
   {
    "duration": 156,
    "start_time": "2023-03-31T18:57:31.013Z"
   },
   {
    "duration": 28,
    "start_time": "2023-03-31T18:57:35.513Z"
   },
   {
    "duration": 551,
    "start_time": "2023-03-31T18:57:37.891Z"
   },
   {
    "duration": 280,
    "start_time": "2023-03-31T18:57:41.592Z"
   },
   {
    "duration": 815,
    "start_time": "2023-03-31T18:57:46.631Z"
   },
   {
    "duration": 5,
    "start_time": "2023-03-31T18:57:59.049Z"
   },
   {
    "duration": 142,
    "start_time": "2023-03-31T18:58:02.459Z"
   },
   {
    "duration": 29,
    "start_time": "2023-03-31T18:58:10.535Z"
   },
   {
    "duration": 69,
    "start_time": "2023-03-31T18:59:18.951Z"
   },
   {
    "duration": 1571,
    "start_time": "2023-03-31T18:59:28.437Z"
   },
   {
    "duration": 47,
    "start_time": "2023-03-31T18:59:34.485Z"
   },
   {
    "duration": 8,
    "start_time": "2023-03-31T18:59:34.534Z"
   },
   {
    "duration": 27,
    "start_time": "2023-03-31T18:59:34.544Z"
   },
   {
    "duration": 24,
    "start_time": "2023-03-31T18:59:34.574Z"
   },
   {
    "duration": 4,
    "start_time": "2023-03-31T18:59:34.600Z"
   },
   {
    "duration": 6,
    "start_time": "2023-03-31T18:59:34.607Z"
   },
   {
    "duration": 52,
    "start_time": "2023-03-31T18:59:34.616Z"
   },
   {
    "duration": 8,
    "start_time": "2023-03-31T18:59:34.670Z"
   },
   {
    "duration": 8,
    "start_time": "2023-03-31T18:59:34.680Z"
   },
   {
    "duration": 7,
    "start_time": "2023-03-31T18:59:34.691Z"
   },
   {
    "duration": 7,
    "start_time": "2023-03-31T18:59:34.701Z"
   },
   {
    "duration": 8,
    "start_time": "2023-03-31T18:59:34.710Z"
   },
   {
    "duration": 45,
    "start_time": "2023-03-31T18:59:34.761Z"
   },
   {
    "duration": 8,
    "start_time": "2023-03-31T18:59:34.808Z"
   },
   {
    "duration": 250,
    "start_time": "2023-03-31T18:59:34.818Z"
   },
   {
    "duration": 48,
    "start_time": "2023-03-31T18:59:35.071Z"
   },
   {
    "duration": 939,
    "start_time": "2023-03-31T18:59:35.121Z"
   },
   {
    "duration": 131,
    "start_time": "2023-03-31T18:59:36.064Z"
   },
   {
    "duration": 31,
    "start_time": "2023-03-31T18:59:36.265Z"
   },
   {
    "duration": 65,
    "start_time": "2023-03-31T18:59:36.299Z"
   },
   {
    "duration": 15,
    "start_time": "2023-03-31T18:59:36.367Z"
   },
   {
    "duration": 1114,
    "start_time": "2023-03-31T18:59:36.384Z"
   },
   {
    "duration": 13,
    "start_time": "2023-03-31T18:59:37.505Z"
   },
   {
    "duration": 93,
    "start_time": "2023-03-31T18:59:37.520Z"
   },
   {
    "duration": 143,
    "start_time": "2023-03-31T18:59:37.615Z"
   },
   {
    "duration": 63,
    "start_time": "2023-03-31T18:59:37.761Z"
   },
   {
    "duration": 82,
    "start_time": "2023-03-31T18:59:37.827Z"
   },
   {
    "duration": 971,
    "start_time": "2023-03-31T18:59:37.911Z"
   },
   {
    "duration": 906,
    "start_time": "2023-03-31T18:59:38.885Z"
   },
   {
    "duration": 478,
    "start_time": "2023-03-31T18:59:39.794Z"
   },
   {
    "duration": 772,
    "start_time": "2023-03-31T18:59:40.289Z"
   },
   {
    "duration": 100,
    "start_time": "2023-03-31T18:59:41.067Z"
   },
   {
    "duration": 14,
    "start_time": "2023-03-31T18:59:41.174Z"
   },
   {
    "duration": 7,
    "start_time": "2023-03-31T18:59:41.191Z"
   },
   {
    "duration": 203,
    "start_time": "2023-03-31T18:59:41.200Z"
   },
   {
    "duration": 70,
    "start_time": "2023-03-31T18:59:41.406Z"
   },
   {
    "duration": 1268,
    "start_time": "2023-03-31T18:59:41.478Z"
   },
   {
    "duration": 633,
    "start_time": "2023-03-31T18:59:42.748Z"
   },
   {
    "duration": 35,
    "start_time": "2023-03-31T18:59:43.464Z"
   },
   {
    "duration": 5,
    "start_time": "2023-03-31T18:59:43.502Z"
   },
   {
    "duration": 8,
    "start_time": "2023-03-31T18:59:43.509Z"
   },
   {
    "duration": 154,
    "start_time": "2023-03-31T18:59:43.521Z"
   },
   {
    "duration": 36,
    "start_time": "2023-03-31T18:59:43.677Z"
   },
   {
    "duration": 677,
    "start_time": "2023-03-31T18:59:43.715Z"
   },
   {
    "duration": 876,
    "start_time": "2023-03-31T18:59:44.400Z"
   },
   {
    "duration": 1096,
    "start_time": "2023-03-31T18:59:45.285Z"
   },
   {
    "duration": 6,
    "start_time": "2023-03-31T18:59:46.387Z"
   },
   {
    "duration": 179,
    "start_time": "2023-03-31T18:59:46.395Z"
   },
   {
    "duration": 28,
    "start_time": "2023-03-31T18:59:46.576Z"
   },
   {
    "duration": 85,
    "start_time": "2023-03-31T19:00:22.838Z"
   },
   {
    "duration": 7,
    "start_time": "2023-03-31T19:00:27.985Z"
   },
   {
    "duration": 1564,
    "start_time": "2023-03-31T19:00:36.589Z"
   },
   {
    "duration": 85,
    "start_time": "2023-03-31T19:00:48.847Z"
   },
   {
    "duration": 10,
    "start_time": "2023-03-31T19:01:03.689Z"
   },
   {
    "duration": 10,
    "start_time": "2023-03-31T19:01:07.202Z"
   },
   {
    "duration": 9,
    "start_time": "2023-03-31T19:01:12.924Z"
   },
   {
    "duration": 22,
    "start_time": "2023-03-31T19:01:14.658Z"
   },
   {
    "duration": 14,
    "start_time": "2023-03-31T19:01:16.662Z"
   },
   {
    "duration": 4,
    "start_time": "2023-03-31T19:01:19.432Z"
   },
   {
    "duration": 16,
    "start_time": "2023-03-31T19:01:21.366Z"
   },
   {
    "duration": 12,
    "start_time": "2023-03-31T19:01:23.008Z"
   },
   {
    "duration": 7,
    "start_time": "2023-03-31T19:01:25.694Z"
   },
   {
    "duration": 9,
    "start_time": "2023-03-31T19:01:27.301Z"
   },
   {
    "duration": 12,
    "start_time": "2023-03-31T19:01:28.885Z"
   },
   {
    "duration": 6,
    "start_time": "2023-03-31T19:01:30.562Z"
   },
   {
    "duration": 6,
    "start_time": "2023-03-31T19:01:32.433Z"
   },
   {
    "duration": 35,
    "start_time": "2023-03-31T19:01:33.962Z"
   },
   {
    "duration": 6,
    "start_time": "2023-03-31T19:01:36.705Z"
   },
   {
    "duration": 157,
    "start_time": "2023-03-31T19:01:37.691Z"
   },
   {
    "duration": 57,
    "start_time": "2023-03-31T19:01:40.680Z"
   },
   {
    "duration": 842,
    "start_time": "2023-03-31T19:01:42.300Z"
   },
   {
    "duration": 545,
    "start_time": "2023-03-31T19:01:44.326Z"
   },
   {
    "duration": 8,
    "start_time": "2023-03-31T19:01:47.289Z"
   },
   {
    "duration": 7,
    "start_time": "2023-03-31T19:01:49.935Z"
   },
   {
    "duration": 8,
    "start_time": "2023-03-31T19:01:50.860Z"
   },
   {
    "duration": 908,
    "start_time": "2023-03-31T19:01:51.929Z"
   },
   {
    "duration": 9,
    "start_time": "2023-03-31T19:01:55.178Z"
   },
   {
    "duration": 68,
    "start_time": "2023-03-31T19:01:56.909Z"
   },
   {
    "duration": 128,
    "start_time": "2023-03-31T19:01:59.544Z"
   },
   {
    "duration": 61,
    "start_time": "2023-03-31T19:02:05.106Z"
   },
   {
    "duration": 42,
    "start_time": "2023-03-31T19:02:06.181Z"
   },
   {
    "duration": 903,
    "start_time": "2023-03-31T19:02:07.891Z"
   },
   {
    "duration": 870,
    "start_time": "2023-03-31T19:02:12.540Z"
   },
   {
    "duration": 393,
    "start_time": "2023-03-31T19:02:14.983Z"
   },
   {
    "duration": 262,
    "start_time": "2023-03-31T19:02:16.310Z"
   },
   {
    "duration": 13,
    "start_time": "2023-03-31T19:02:18.984Z"
   },
   {
    "duration": 5,
    "start_time": "2023-03-31T19:02:20.661Z"
   },
   {
    "duration": 6,
    "start_time": "2023-03-31T19:02:21.523Z"
   },
   {
    "duration": 139,
    "start_time": "2023-03-31T19:02:22.585Z"
   },
   {
    "duration": 62,
    "start_time": "2023-03-31T19:02:26.460Z"
   },
   {
    "duration": 1260,
    "start_time": "2023-03-31T19:02:28.790Z"
   },
   {
    "duration": 582,
    "start_time": "2023-03-31T19:02:31.581Z"
   },
   {
    "duration": 18,
    "start_time": "2023-03-31T19:02:34.682Z"
   },
   {
    "duration": 4,
    "start_time": "2023-03-31T19:02:36.385Z"
   },
   {
    "duration": 8,
    "start_time": "2023-03-31T19:02:37.243Z"
   },
   {
    "duration": 169,
    "start_time": "2023-03-31T19:02:38.558Z"
   },
   {
    "duration": 35,
    "start_time": "2023-03-31T19:02:44.581Z"
   },
   {
    "duration": 535,
    "start_time": "2023-03-31T19:02:48.210Z"
   },
   {
    "duration": 176,
    "start_time": "2023-03-31T19:02:51.087Z"
   },
   {
    "duration": 136,
    "start_time": "2023-03-31T19:03:24.907Z"
   },
   {
    "duration": 25,
    "start_time": "2023-03-31T19:03:44.197Z"
   },
   {
    "duration": 52,
    "start_time": "2023-03-31T19:04:18.001Z"
   },
   {
    "duration": 7,
    "start_time": "2023-03-31T19:04:22.231Z"
   },
   {
    "duration": 7,
    "start_time": "2023-03-31T19:04:23.030Z"
   },
   {
    "duration": 9,
    "start_time": "2023-03-31T19:04:23.680Z"
   },
   {
    "duration": 1496,
    "start_time": "2023-03-31T19:04:28.015Z"
   },
   {
    "duration": 6,
    "start_time": "2023-03-31T19:04:29.513Z"
   },
   {
    "duration": 17,
    "start_time": "2023-03-31T19:04:29.520Z"
   },
   {
    "duration": 12,
    "start_time": "2023-03-31T19:04:29.539Z"
   },
   {
    "duration": 5,
    "start_time": "2023-03-31T19:04:29.553Z"
   },
   {
    "duration": 14,
    "start_time": "2023-03-31T19:04:29.561Z"
   },
   {
    "duration": 12,
    "start_time": "2023-03-31T19:04:29.577Z"
   },
   {
    "duration": 5,
    "start_time": "2023-03-31T19:04:29.591Z"
   },
   {
    "duration": 6,
    "start_time": "2023-03-31T19:04:29.598Z"
   },
   {
    "duration": 8,
    "start_time": "2023-03-31T19:04:29.607Z"
   },
   {
    "duration": 25,
    "start_time": "2023-03-31T19:04:29.617Z"
   },
   {
    "duration": 20,
    "start_time": "2023-03-31T19:04:29.645Z"
   },
   {
    "duration": 27,
    "start_time": "2023-03-31T19:04:29.667Z"
   },
   {
    "duration": 5,
    "start_time": "2023-03-31T19:04:29.696Z"
   },
   {
    "duration": 188,
    "start_time": "2023-03-31T19:04:29.703Z"
   },
   {
    "duration": 39,
    "start_time": "2023-03-31T19:04:29.892Z"
   },
   {
    "duration": 815,
    "start_time": "2023-03-31T19:04:29.932Z"
   },
   {
    "duration": 233,
    "start_time": "2023-03-31T19:04:30.749Z"
   },
   {
    "duration": 99,
    "start_time": "2023-03-31T19:04:31.065Z"
   },
   {
    "duration": 22,
    "start_time": "2023-03-31T19:04:31.167Z"
   },
   {
    "duration": 50,
    "start_time": "2023-03-31T19:04:31.191Z"
   },
   {
    "duration": 947,
    "start_time": "2023-03-31T19:04:31.243Z"
   },
   {
    "duration": 9,
    "start_time": "2023-03-31T19:04:32.191Z"
   },
   {
    "duration": 82,
    "start_time": "2023-03-31T19:04:32.202Z"
   },
   {
    "duration": 132,
    "start_time": "2023-03-31T19:04:32.286Z"
   },
   {
    "duration": 57,
    "start_time": "2023-03-31T19:04:32.420Z"
   },
   {
    "duration": 43,
    "start_time": "2023-03-31T19:04:32.479Z"
   },
   {
    "duration": 825,
    "start_time": "2023-03-31T19:04:32.526Z"
   },
   {
    "duration": 907,
    "start_time": "2023-03-31T19:04:33.352Z"
   },
   {
    "duration": 321,
    "start_time": "2023-03-31T19:04:34.263Z"
   },
   {
    "duration": 374,
    "start_time": "2023-03-31T19:04:34.587Z"
   },
   {
    "duration": 98,
    "start_time": "2023-03-31T19:04:34.965Z"
   },
   {
    "duration": 6,
    "start_time": "2023-03-31T19:04:35.065Z"
   },
   {
    "duration": 18,
    "start_time": "2023-03-31T19:04:35.073Z"
   },
   {
    "duration": 155,
    "start_time": "2023-03-31T19:04:35.093Z"
   },
   {
    "duration": 65,
    "start_time": "2023-03-31T19:04:35.250Z"
   },
   {
    "duration": 1152,
    "start_time": "2023-03-31T19:04:35.317Z"
   },
   {
    "duration": 390,
    "start_time": "2023-03-31T19:04:36.471Z"
   },
   {
    "duration": 17,
    "start_time": "2023-03-31T19:04:36.863Z"
   },
   {
    "duration": 92,
    "start_time": "2023-03-31T19:04:36.882Z"
   },
   {
    "duration": 6,
    "start_time": "2023-03-31T19:04:36.978Z"
   },
   {
    "duration": 152,
    "start_time": "2023-03-31T19:04:36.986Z"
   },
   {
    "duration": 43,
    "start_time": "2023-03-31T19:04:37.140Z"
   },
   {
    "duration": 537,
    "start_time": "2023-03-31T19:04:37.185Z"
   },
   {
    "duration": 540,
    "start_time": "2023-03-31T19:04:37.724Z"
   },
   {
    "duration": 938,
    "start_time": "2023-03-31T19:04:38.268Z"
   },
   {
    "duration": 5,
    "start_time": "2023-03-31T19:04:39.208Z"
   },
   {
    "duration": 134,
    "start_time": "2023-03-31T19:04:39.215Z"
   },
   {
    "duration": 39,
    "start_time": "2023-03-31T19:04:39.350Z"
   },
   {
    "duration": 1608,
    "start_time": "2023-03-31T19:06:32.939Z"
   },
   {
    "duration": 7,
    "start_time": "2023-03-31T19:06:34.550Z"
   },
   {
    "duration": 26,
    "start_time": "2023-03-31T19:06:34.558Z"
   },
   {
    "duration": 14,
    "start_time": "2023-03-31T19:06:34.586Z"
   },
   {
    "duration": 5,
    "start_time": "2023-03-31T19:06:34.602Z"
   },
   {
    "duration": 8,
    "start_time": "2023-03-31T19:06:34.608Z"
   },
   {
    "duration": 12,
    "start_time": "2023-03-31T19:06:34.617Z"
   },
   {
    "duration": 36,
    "start_time": "2023-03-31T19:06:34.630Z"
   },
   {
    "duration": 20,
    "start_time": "2023-03-31T19:06:34.668Z"
   },
   {
    "duration": 7,
    "start_time": "2023-03-31T19:06:34.690Z"
   },
   {
    "duration": 5,
    "start_time": "2023-03-31T19:06:34.698Z"
   },
   {
    "duration": 5,
    "start_time": "2023-03-31T19:06:34.705Z"
   },
   {
    "duration": 21,
    "start_time": "2023-03-31T19:06:34.711Z"
   },
   {
    "duration": 35,
    "start_time": "2023-03-31T19:06:34.734Z"
   },
   {
    "duration": 228,
    "start_time": "2023-03-31T19:06:34.771Z"
   },
   {
    "duration": 65,
    "start_time": "2023-03-31T19:06:35.001Z"
   },
   {
    "duration": 817,
    "start_time": "2023-03-31T19:06:35.069Z"
   },
   {
    "duration": 91,
    "start_time": "2023-03-31T19:06:35.887Z"
   },
   {
    "duration": 9,
    "start_time": "2023-03-31T19:06:35.980Z"
   },
   {
    "duration": 16,
    "start_time": "2023-03-31T19:06:36.068Z"
   },
   {
    "duration": 88,
    "start_time": "2023-03-31T19:06:36.092Z"
   },
   {
    "duration": 909,
    "start_time": "2023-03-31T19:06:36.183Z"
   },
   {
    "duration": 6,
    "start_time": "2023-03-31T19:06:37.094Z"
   },
   {
    "duration": 81,
    "start_time": "2023-03-31T19:06:37.103Z"
   },
   {
    "duration": 151,
    "start_time": "2023-03-31T19:06:37.187Z"
   },
   {
    "duration": 62,
    "start_time": "2023-03-31T19:06:37.341Z"
   },
   {
    "duration": 44,
    "start_time": "2023-03-31T19:06:37.406Z"
   },
   {
    "duration": 859,
    "start_time": "2023-03-31T19:06:37.454Z"
   },
   {
    "duration": 832,
    "start_time": "2023-03-31T19:06:38.314Z"
   },
   {
    "duration": 333,
    "start_time": "2023-03-31T19:06:39.148Z"
   },
   {
    "duration": 285,
    "start_time": "2023-03-31T19:06:39.486Z"
   },
   {
    "duration": 96,
    "start_time": "2023-03-31T19:06:39.778Z"
   },
   {
    "duration": 5,
    "start_time": "2023-03-31T19:06:39.877Z"
   },
   {
    "duration": 6,
    "start_time": "2023-03-31T19:06:39.884Z"
   },
   {
    "duration": 158,
    "start_time": "2023-03-31T19:06:39.891Z"
   },
   {
    "duration": 56,
    "start_time": "2023-03-31T19:06:40.050Z"
   },
   {
    "duration": 1150,
    "start_time": "2023-03-31T19:06:40.108Z"
   },
   {
    "duration": 217,
    "start_time": "2023-03-31T19:06:41.261Z"
   },
   {
    "duration": 104,
    "start_time": "2023-03-31T19:06:41.481Z"
   },
   {
    "duration": 75,
    "start_time": "2023-03-31T19:06:41.588Z"
   },
   {
    "duration": 6,
    "start_time": "2023-03-31T19:06:41.665Z"
   },
   {
    "duration": 150,
    "start_time": "2023-03-31T19:06:41.673Z"
   },
   {
    "duration": 37,
    "start_time": "2023-03-31T19:06:41.825Z"
   },
   {
    "duration": 528,
    "start_time": "2023-03-31T19:06:41.865Z"
   },
   {
    "duration": 169,
    "start_time": "2023-03-31T19:06:42.395Z"
   },
   {
    "duration": 916,
    "start_time": "2023-03-31T19:06:42.566Z"
   },
   {
    "duration": 5,
    "start_time": "2023-03-31T19:06:43.484Z"
   },
   {
    "duration": 146,
    "start_time": "2023-03-31T19:06:43.490Z"
   },
   {
    "duration": 30,
    "start_time": "2023-03-31T19:06:43.637Z"
   },
   {
    "duration": 96447,
    "start_time": "2023-03-31T19:06:43.670Z"
   },
   {
    "duration": 5,
    "start_time": "2023-03-31T19:08:20.118Z"
   },
   {
    "duration": 7961,
    "start_time": "2023-03-31T19:08:20.125Z"
   },
   {
    "duration": 4,
    "start_time": "2023-03-31T19:08:28.088Z"
   },
   {
    "duration": 324,
    "start_time": "2023-03-31T19:08:28.094Z"
   },
   {
    "duration": 465,
    "start_time": "2023-03-31T19:08:28.420Z"
   },
   {
    "duration": 77,
    "start_time": "2023-03-31T19:08:28.887Z"
   },
   {
    "duration": 552,
    "start_time": "2023-03-31T19:08:28.966Z"
   },
   {
    "duration": 190,
    "start_time": "2023-03-31T19:08:29.519Z"
   },
   {
    "duration": 372,
    "start_time": "2023-03-31T19:09:15.501Z"
   },
   {
    "duration": 348,
    "start_time": "2023-03-31T19:10:08.096Z"
   },
   {
    "duration": 447,
    "start_time": "2023-03-31T19:12:45.050Z"
   },
   {
    "duration": 488,
    "start_time": "2023-03-31T19:14:13.821Z"
   },
   {
    "duration": 437,
    "start_time": "2023-03-31T19:14:41.048Z"
   },
   {
    "duration": 427,
    "start_time": "2023-03-31T19:15:00.706Z"
   },
   {
    "duration": 422,
    "start_time": "2023-03-31T19:15:21.936Z"
   },
   {
    "duration": 423,
    "start_time": "2023-03-31T19:15:44.983Z"
   },
   {
    "duration": 205,
    "start_time": "2023-03-31T19:16:10.185Z"
   },
   {
    "duration": 210,
    "start_time": "2023-03-31T19:16:25.298Z"
   },
   {
    "duration": 479,
    "start_time": "2023-03-31T19:16:28.482Z"
   },
   {
    "duration": 77,
    "start_time": "2023-03-31T19:16:31.604Z"
   },
   {
    "duration": 450,
    "start_time": "2023-03-31T19:16:34.196Z"
   },
   {
    "duration": 202,
    "start_time": "2023-03-31T19:17:18.718Z"
   },
   {
    "duration": 424,
    "start_time": "2023-03-31T19:17:28.683Z"
   },
   {
    "duration": 206,
    "start_time": "2023-03-31T19:17:37.398Z"
   },
   {
    "duration": 465,
    "start_time": "2023-03-31T19:18:15.957Z"
   },
   {
    "duration": 24,
    "start_time": "2023-03-31T19:18:30.787Z"
   },
   {
    "duration": 537,
    "start_time": "2023-03-31T19:18:39.245Z"
   },
   {
    "duration": 364,
    "start_time": "2023-03-31T19:19:45.240Z"
   },
   {
    "duration": 469,
    "start_time": "2023-03-31T19:19:48.080Z"
   },
   {
    "duration": 114,
    "start_time": "2023-03-31T19:19:50.451Z"
   },
   {
    "duration": 461,
    "start_time": "2023-03-31T19:19:57.236Z"
   },
   {
    "duration": 365,
    "start_time": "2023-03-31T19:20:03.611Z"
   },
   {
    "duration": 352,
    "start_time": "2023-03-31T19:20:17.889Z"
   },
   {
    "duration": 360,
    "start_time": "2023-03-31T19:20:32.582Z"
   },
   {
    "duration": 5,
    "start_time": "2023-03-31T19:20:55.381Z"
   },
   {
    "duration": 6,
    "start_time": "2023-03-31T19:20:57.212Z"
   },
   {
    "duration": 495,
    "start_time": "2023-03-31T19:21:01.291Z"
   },
   {
    "duration": 814,
    "start_time": "2023-03-31T19:22:32.714Z"
   },
   {
    "duration": 5,
    "start_time": "2023-03-31T19:22:35.147Z"
   },
   {
    "duration": 163,
    "start_time": "2023-03-31T19:22:42.418Z"
   },
   {
    "duration": 24,
    "start_time": "2023-03-31T19:22:46.990Z"
   },
   {
    "duration": 105201,
    "start_time": "2023-03-31T19:22:49.817Z"
   },
   {
    "duration": 5,
    "start_time": "2023-03-31T19:24:35.023Z"
   },
   {
    "duration": 6008,
    "start_time": "2023-03-31T19:24:35.030Z"
   },
   {
    "duration": 5,
    "start_time": "2023-03-31T19:24:41.040Z"
   },
   {
    "duration": 6,
    "start_time": "2023-03-31T19:28:28.746Z"
   },
   {
    "duration": 10,
    "start_time": "2023-03-31T19:29:20.791Z"
   },
   {
    "duration": 7,
    "start_time": "2023-03-31T19:29:32.234Z"
   },
   {
    "duration": 8,
    "start_time": "2023-03-31T19:29:49.906Z"
   },
   {
    "duration": 7,
    "start_time": "2023-03-31T19:29:51.551Z"
   },
   {
    "duration": 7,
    "start_time": "2023-03-31T19:30:14.817Z"
   },
   {
    "duration": 36,
    "start_time": "2023-03-31T19:30:37.709Z"
   },
   {
    "duration": 820,
    "start_time": "2023-03-31T19:30:40.264Z"
   },
   {
    "duration": 489,
    "start_time": "2023-03-31T19:30:42.379Z"
   },
   {
    "duration": 6,
    "start_time": "2023-03-31T19:30:44.606Z"
   },
   {
    "duration": 4,
    "start_time": "2023-03-31T19:30:59.226Z"
   },
   {
    "duration": 12,
    "start_time": "2023-03-31T19:31:01.841Z"
   },
   {
    "duration": 153,
    "start_time": "2023-03-31T19:31:04.306Z"
   },
   {
    "duration": 38,
    "start_time": "2023-03-31T19:31:13.206Z"
   },
   {
    "duration": 4,
    "start_time": "2023-03-31T19:31:13.830Z"
   },
   {
    "duration": 14,
    "start_time": "2023-03-31T19:31:14.938Z"
   },
   {
    "duration": 42,
    "start_time": "2023-03-31T19:31:17.391Z"
   },
   {
    "duration": 5,
    "start_time": "2023-03-31T19:31:18.442Z"
   },
   {
    "duration": 22,
    "start_time": "2023-03-31T19:31:19.378Z"
   },
   {
    "duration": 19,
    "start_time": "2023-03-31T19:31:20.031Z"
   },
   {
    "duration": 6,
    "start_time": "2023-03-31T19:31:23.548Z"
   },
   {
    "duration": 7,
    "start_time": "2023-03-31T19:31:26.689Z"
   },
   {
    "duration": 11,
    "start_time": "2023-03-31T19:31:28.720Z"
   },
   {
    "duration": 7,
    "start_time": "2023-03-31T19:31:30.098Z"
   },
   {
    "duration": 8,
    "start_time": "2023-03-31T19:31:31.914Z"
   },
   {
    "duration": 7,
    "start_time": "2023-03-31T19:31:34.113Z"
   },
   {
    "duration": 6,
    "start_time": "2023-03-31T19:31:36.685Z"
   },
   {
    "duration": 8,
    "start_time": "2023-03-31T19:31:39.089Z"
   },
   {
    "duration": 36,
    "start_time": "2023-03-31T19:31:40.865Z"
   },
   {
    "duration": 7,
    "start_time": "2023-03-31T19:31:44.327Z"
   },
   {
    "duration": 151,
    "start_time": "2023-03-31T19:31:47.984Z"
   },
   {
    "duration": 44,
    "start_time": "2023-03-31T19:31:52.728Z"
   },
   {
    "duration": 841,
    "start_time": "2023-03-31T19:31:54.308Z"
   },
   {
    "duration": 384,
    "start_time": "2023-03-31T19:31:57.404Z"
   },
   {
    "duration": 6,
    "start_time": "2023-03-31T19:32:01.109Z"
   },
   {
    "duration": 4,
    "start_time": "2023-03-31T19:32:13.081Z"
   },
   {
    "duration": 3,
    "start_time": "2023-03-31T19:32:19.998Z"
   },
   {
    "duration": 5,
    "start_time": "2023-03-31T19:32:21.532Z"
   },
   {
    "duration": 11,
    "start_time": "2023-03-31T19:32:22.696Z"
   },
   {
    "duration": 5,
    "start_time": "2023-03-31T19:32:23.741Z"
   },
   {
    "duration": 6,
    "start_time": "2023-03-31T19:32:24.714Z"
   },
   {
    "duration": 6,
    "start_time": "2023-03-31T19:32:26.391Z"
   },
   {
    "duration": 4,
    "start_time": "2023-03-31T19:32:27.690Z"
   },
   {
    "duration": 6,
    "start_time": "2023-03-31T19:32:29.159Z"
   },
   {
    "duration": 42,
    "start_time": "2023-03-31T19:32:30.658Z"
   },
   {
    "duration": 6,
    "start_time": "2023-03-31T19:32:33.295Z"
   },
   {
    "duration": 157,
    "start_time": "2023-03-31T19:32:34.297Z"
   },
   {
    "duration": 41,
    "start_time": "2023-03-31T19:32:37.006Z"
   },
   {
    "duration": 798,
    "start_time": "2023-03-31T19:32:38.436Z"
   },
   {
    "duration": 454,
    "start_time": "2023-03-31T19:32:40.216Z"
   },
   {
    "duration": 6,
    "start_time": "2023-03-31T19:32:42.651Z"
   },
   {
    "duration": 6,
    "start_time": "2023-03-31T19:32:46.300Z"
   },
   {
    "duration": 7,
    "start_time": "2023-03-31T19:32:47.238Z"
   },
   {
    "duration": 6,
    "start_time": "2023-03-31T19:32:50.196Z"
   },
   {
    "duration": 13,
    "start_time": "2023-03-31T19:32:55.372Z"
   },
   {
    "duration": 998,
    "start_time": "2023-03-31T19:32:56.205Z"
   },
   {
    "duration": 2,
    "start_time": "2023-03-31T19:33:01.857Z"
   },
   {
    "duration": 1061,
    "start_time": "2023-03-31T19:33:03.160Z"
   },
   {
    "duration": 8,
    "start_time": "2023-03-31T19:33:07.303Z"
   },
   {
    "duration": 76,
    "start_time": "2023-03-31T19:33:09.314Z"
   },
   {
    "duration": 138,
    "start_time": "2023-03-31T19:33:16.543Z"
   },
   {
    "duration": 59,
    "start_time": "2023-03-31T19:33:23.312Z"
   },
   {
    "duration": 41,
    "start_time": "2023-03-31T19:33:24.880Z"
   },
   {
    "duration": 851,
    "start_time": "2023-03-31T19:33:27.597Z"
   },
   {
    "duration": 857,
    "start_time": "2023-03-31T19:33:29.515Z"
   },
   {
    "duration": 611,
    "start_time": "2023-03-31T19:33:33.261Z"
   },
   {
    "duration": 531,
    "start_time": "2023-03-31T19:33:35.449Z"
   },
   {
    "duration": 16,
    "start_time": "2023-03-31T19:33:38.026Z"
   },
   {
    "duration": 5,
    "start_time": "2023-03-31T19:33:39.747Z"
   },
   {
    "duration": 6,
    "start_time": "2023-03-31T19:33:40.897Z"
   },
   {
    "duration": 127,
    "start_time": "2023-03-31T19:33:42.295Z"
   },
   {
    "duration": 61,
    "start_time": "2023-03-31T19:33:45.824Z"
   },
   {
    "duration": 1134,
    "start_time": "2023-03-31T19:33:47.758Z"
   },
   {
    "duration": 573,
    "start_time": "2023-03-31T19:33:50.998Z"
   },
   {
    "duration": 14,
    "start_time": "2023-03-31T19:33:53.997Z"
   },
   {
    "duration": 12,
    "start_time": "2023-03-31T19:33:55.060Z"
   },
   {
    "duration": 13,
    "start_time": "2023-03-31T19:33:55.960Z"
   },
   {
    "duration": 165,
    "start_time": "2023-03-31T19:33:58.622Z"
   },
   {
    "duration": 33,
    "start_time": "2023-03-31T19:34:01.343Z"
   },
   {
    "duration": 599,
    "start_time": "2023-03-31T19:34:03.698Z"
   },
   {
    "duration": 323,
    "start_time": "2023-03-31T19:34:06.252Z"
   },
   {
    "duration": 749,
    "start_time": "2023-03-31T19:34:09.957Z"
   },
   {
    "duration": 4,
    "start_time": "2023-03-31T19:34:12.728Z"
   },
   {
    "duration": 145,
    "start_time": "2023-03-31T19:34:16.856Z"
   },
   {
    "duration": 36,
    "start_time": "2023-03-31T19:34:23.389Z"
   },
   {
    "duration": 106302,
    "start_time": "2023-03-31T19:34:26.504Z"
   },
   {
    "duration": 3,
    "start_time": "2023-03-31T19:36:12.808Z"
   },
   {
    "duration": 5,
    "start_time": "2023-03-31T19:36:20.702Z"
   },
   {
    "duration": 408,
    "start_time": "2023-03-31T19:36:20.709Z"
   },
   {
    "duration": 471,
    "start_time": "2023-03-31T19:36:21.118Z"
   },
   {
    "duration": 92,
    "start_time": "2023-03-31T19:36:21.592Z"
   },
   {
    "duration": 576,
    "start_time": "2023-03-31T19:36:21.685Z"
   },
   {
    "duration": 367,
    "start_time": "2023-03-31T19:36:22.280Z"
   },
   {
    "duration": 7285,
    "start_time": "2023-03-31T19:36:22.650Z"
   },
   {
    "duration": 217,
    "start_time": "2023-03-31T19:36:42.797Z"
   },
   {
    "duration": 453,
    "start_time": "2023-03-31T19:36:46.685Z"
   },
   {
    "duration": 50,
    "start_time": "2023-03-31T19:36:55.823Z"
   },
   {
    "duration": 537,
    "start_time": "2023-03-31T19:36:58.402Z"
   },
   {
    "duration": 375,
    "start_time": "2023-03-31T19:37:02.941Z"
   },
   {
    "duration": 447,
    "start_time": "2023-03-31T19:37:25.837Z"
   },
   {
    "duration": 502,
    "start_time": "2023-03-31T19:37:28.490Z"
   },
   {
    "duration": 105,
    "start_time": "2023-03-31T19:37:32.189Z"
   },
   {
    "duration": 461,
    "start_time": "2023-03-31T19:37:35.757Z"
   },
   {
    "duration": 408,
    "start_time": "2023-03-31T19:37:45.607Z"
   },
   {
    "duration": 7,
    "start_time": "2023-03-31T19:38:59.419Z"
   },
   {
    "duration": 471,
    "start_time": "2023-03-31T19:39:15.753Z"
   },
   {
    "duration": 213,
    "start_time": "2023-03-31T19:39:32.982Z"
   },
   {
    "duration": 454,
    "start_time": "2023-03-31T19:39:39.196Z"
   },
   {
    "duration": 139,
    "start_time": "2023-03-31T19:39:54.254Z"
   },
   {
    "duration": 471,
    "start_time": "2023-03-31T19:40:01.429Z"
   },
   {
    "duration": 399,
    "start_time": "2023-03-31T19:40:23.042Z"
   },
   {
    "duration": 196,
    "start_time": "2023-03-31T19:40:32.094Z"
   },
   {
    "duration": 393,
    "start_time": "2023-03-31T19:40:40.396Z"
   },
   {
    "duration": 179,
    "start_time": "2023-03-31T19:40:59.663Z"
   },
   {
    "duration": 101138,
    "start_time": "2023-03-31T19:46:43.053Z"
   },
   {
    "duration": 9009,
    "start_time": "2023-03-31T19:48:24.194Z"
   },
   {
    "duration": 5,
    "start_time": "2023-03-31T19:48:33.205Z"
   },
   {
    "duration": 226,
    "start_time": "2023-03-31T19:48:33.213Z"
   },
   {
    "duration": 454,
    "start_time": "2023-03-31T19:48:33.441Z"
   },
   {
    "duration": 73,
    "start_time": "2023-03-31T19:48:33.898Z"
   },
   {
    "duration": 673,
    "start_time": "2023-03-31T19:48:33.974Z"
   },
   {
    "duration": 209,
    "start_time": "2023-03-31T19:48:34.649Z"
   },
   {
    "duration": 353,
    "start_time": "2023-03-31T19:48:51.632Z"
   },
   {
    "duration": 485,
    "start_time": "2023-03-31T19:48:55.477Z"
   },
   {
    "duration": 147,
    "start_time": "2023-03-31T19:49:01.718Z"
   },
   {
    "duration": 414,
    "start_time": "2023-03-31T19:49:05.495Z"
   },
   {
    "duration": 348,
    "start_time": "2023-03-31T19:49:19.742Z"
   },
   {
    "duration": 433,
    "start_time": "2023-03-31T19:49:26.898Z"
   },
   {
    "duration": 178,
    "start_time": "2023-03-31T19:49:30.884Z"
   },
   {
    "duration": 54,
    "start_time": "2023-03-31T19:49:35.792Z"
   },
   {
    "duration": 60,
    "start_time": "2023-03-31T19:49:40.740Z"
   },
   {
    "duration": 74,
    "start_time": "2023-03-31T19:49:44.120Z"
   },
   {
    "duration": 72,
    "start_time": "2023-03-31T19:49:48.849Z"
   },
   {
    "duration": 230,
    "start_time": "2023-03-31T19:49:53.502Z"
   },
   {
    "duration": 118,
    "start_time": "2023-03-31T19:49:57.693Z"
   },
   {
    "duration": 105,
    "start_time": "2023-03-31T19:50:03.432Z"
   },
   {
    "duration": 62,
    "start_time": "2023-03-31T19:50:07.478Z"
   },
   {
    "duration": 56,
    "start_time": "2023-03-31T19:50:12.852Z"
   },
   {
    "duration": 368,
    "start_time": "2023-03-31T19:50:24.613Z"
   },
   {
    "duration": 200,
    "start_time": "2023-03-31T19:50:29.596Z"
   },
   {
    "duration": 177,
    "start_time": "2023-03-31T19:50:34.798Z"
   },
   {
    "duration": 182,
    "start_time": "2023-03-31T19:50:39.950Z"
   },
   {
    "duration": 389,
    "start_time": "2023-03-31T19:50:43.988Z"
   },
   {
    "duration": 402,
    "start_time": "2023-03-31T19:51:49.980Z"
   },
   {
    "duration": 177,
    "start_time": "2023-03-31T19:52:21.826Z"
   },
   {
    "duration": 182,
    "start_time": "2023-03-31T19:53:21.846Z"
   },
   {
    "duration": 413,
    "start_time": "2023-03-31T19:53:31.903Z"
   },
   {
    "duration": 179,
    "start_time": "2023-03-31T19:53:34.900Z"
   },
   {
    "duration": 23,
    "start_time": "2023-03-31T19:54:01.572Z"
   },
   {
    "duration": 7,
    "start_time": "2023-03-31T19:54:26.337Z"
   },
   {
    "duration": 411,
    "start_time": "2023-03-31T19:54:38.811Z"
   },
   {
    "duration": 188,
    "start_time": "2023-03-31T19:54:45.270Z"
   },
   {
    "duration": 14,
    "start_time": "2023-03-31T19:54:56.401Z"
   },
   {
    "duration": 9,
    "start_time": "2023-03-31T19:55:17.241Z"
   },
   {
    "duration": 4,
    "start_time": "2023-03-31T19:55:19.542Z"
   },
   {
    "duration": 5,
    "start_time": "2023-03-31T19:55:21.165Z"
   },
   {
    "duration": 20,
    "start_time": "2023-03-31T19:55:23.009Z"
   },
   {
    "duration": 8,
    "start_time": "2023-03-31T19:55:25.871Z"
   },
   {
    "duration": 173,
    "start_time": "2023-03-31T19:55:27.104Z"
   },
   {
    "duration": 37,
    "start_time": "2023-03-31T19:55:30.087Z"
   },
   {
    "duration": 734,
    "start_time": "2023-03-31T19:55:32.006Z"
   },
   {
    "duration": 312,
    "start_time": "2023-03-31T19:55:34.556Z"
   },
   {
    "duration": 8,
    "start_time": "2023-03-31T19:55:36.925Z"
   },
   {
    "duration": 6,
    "start_time": "2023-03-31T19:55:39.252Z"
   },
   {
    "duration": 6,
    "start_time": "2023-03-31T19:55:40.021Z"
   },
   {
    "duration": 2,
    "start_time": "2023-03-31T19:55:40.947Z"
   },
   {
    "duration": 828,
    "start_time": "2023-03-31T19:55:41.901Z"
   },
   {
    "duration": 6,
    "start_time": "2023-03-31T19:55:49.852Z"
   },
   {
    "duration": 39,
    "start_time": "2023-03-31T19:55:54.405Z"
   },
   {
    "duration": 5,
    "start_time": "2023-03-31T19:55:54.446Z"
   },
   {
    "duration": 13,
    "start_time": "2023-03-31T19:55:54.452Z"
   },
   {
    "duration": 13,
    "start_time": "2023-03-31T19:55:54.467Z"
   },
   {
    "duration": 2,
    "start_time": "2023-03-31T19:55:54.518Z"
   },
   {
    "duration": 6,
    "start_time": "2023-03-31T19:55:54.523Z"
   },
   {
    "duration": 237,
    "start_time": "2023-03-31T19:55:54.535Z"
   },
   {
    "duration": 90,
    "start_time": "2023-03-31T19:55:54.774Z"
   },
   {
    "duration": 118,
    "start_time": "2023-03-31T19:55:54.866Z"
   },
   {
    "duration": 31,
    "start_time": "2023-03-31T19:55:54.988Z"
   },
   {
    "duration": 4,
    "start_time": "2023-03-31T19:55:55.021Z"
   },
   {
    "duration": 5,
    "start_time": "2023-03-31T19:55:55.026Z"
   },
   {
    "duration": 45,
    "start_time": "2023-03-31T19:55:55.033Z"
   },
   {
    "duration": 5,
    "start_time": "2023-03-31T19:55:55.080Z"
   },
   {
    "duration": 155,
    "start_time": "2023-03-31T19:55:55.086Z"
   },
   {
    "duration": 1004,
    "start_time": "2023-03-31T19:55:55.244Z"
   },
   {
    "duration": 7641,
    "start_time": "2023-03-31T19:55:56.250Z"
   },
   {
    "duration": 1995,
    "start_time": "2023-03-31T19:56:03.893Z"
   },
   {
    "duration": 79,
    "start_time": "2023-03-31T19:56:05.890Z"
   },
   {
    "duration": 93,
    "start_time": "2023-03-31T19:56:05.974Z"
   },
   {
    "duration": 7,
    "start_time": "2023-03-31T19:56:06.070Z"
   },
   {
    "duration": 2,
    "start_time": "2023-03-31T19:56:06.079Z"
   },
   {
    "duration": 7703,
    "start_time": "2023-03-31T19:56:06.083Z"
   },
   {
    "duration": 7,
    "start_time": "2023-03-31T19:56:13.787Z"
   },
   {
    "duration": 197,
    "start_time": "2023-03-31T19:56:13.795Z"
   },
   {
    "duration": 171,
    "start_time": "2023-03-31T19:56:13.994Z"
   },
   {
    "duration": 945,
    "start_time": "2023-03-31T19:56:14.167Z"
   },
   {
    "duration": 628,
    "start_time": "2023-03-31T19:56:15.113Z"
   },
   {
    "duration": 7662,
    "start_time": "2023-03-31T19:56:15.743Z"
   },
   {
    "duration": 7708,
    "start_time": "2023-03-31T19:56:23.407Z"
   },
   {
    "duration": 2347,
    "start_time": "2023-03-31T19:56:31.117Z"
   },
   {
    "duration": 1300,
    "start_time": "2023-03-31T19:56:33.467Z"
   },
   {
    "duration": 209,
    "start_time": "2023-03-31T19:56:34.770Z"
   },
   {
    "duration": 9,
    "start_time": "2023-03-31T19:56:34.985Z"
   },
   {
    "duration": 11,
    "start_time": "2023-03-31T19:56:34.996Z"
   },
   {
    "duration": 194,
    "start_time": "2023-03-31T19:56:35.009Z"
   },
   {
    "duration": 936,
    "start_time": "2023-03-31T19:56:35.206Z"
   },
   {
    "duration": 16077,
    "start_time": "2023-03-31T19:56:36.144Z"
   },
   {
    "duration": 1540,
    "start_time": "2023-03-31T19:56:52.223Z"
   },
   {
    "duration": 153,
    "start_time": "2023-03-31T19:56:53.765Z"
   },
   {
    "duration": 3,
    "start_time": "2023-03-31T19:56:53.920Z"
   },
   {
    "duration": 15,
    "start_time": "2023-03-31T19:56:53.925Z"
   },
   {
    "duration": 178,
    "start_time": "2023-03-31T19:56:53.943Z"
   },
   {
    "duration": 308,
    "start_time": "2023-03-31T19:56:54.123Z"
   },
   {
    "duration": 3948,
    "start_time": "2023-03-31T19:56:54.433Z"
   },
   {
    "duration": 992,
    "start_time": "2023-03-31T19:56:58.383Z"
   },
   {
    "duration": 12611,
    "start_time": "2023-03-31T19:56:59.379Z"
   },
   {
    "duration": 4,
    "start_time": "2023-03-31T19:57:11.992Z"
   },
   {
    "duration": 1653,
    "start_time": "2023-03-31T19:57:11.997Z"
   },
   {
    "duration": 246,
    "start_time": "2023-03-31T19:57:13.652Z"
   },
   {
    "duration": 174772,
    "start_time": "2023-03-31T19:57:13.899Z"
   },
   {
    "duration": 9319,
    "start_time": "2023-03-31T20:00:08.676Z"
   },
   {
    "duration": 4,
    "start_time": "2023-03-31T20:00:17.996Z"
   },
   {
    "duration": 383,
    "start_time": "2023-03-31T20:00:18.002Z"
   },
   {
    "duration": 731,
    "start_time": "2023-03-31T20:00:18.387Z"
   },
   {
    "duration": 468,
    "start_time": "2023-03-31T20:00:19.120Z"
   },
   {
    "duration": 809,
    "start_time": "2023-03-31T20:00:19.669Z"
   },
   {
    "duration": 370,
    "start_time": "2023-03-31T20:00:20.480Z"
   },
   {
    "duration": 493,
    "start_time": "2023-03-31T20:01:17.749Z"
   },
   {
    "duration": 6,
    "start_time": "2023-03-31T20:01:45.726Z"
   },
   {
    "duration": 35,
    "start_time": "2023-03-31T20:02:08.607Z"
   },
   {
    "duration": 5,
    "start_time": "2023-03-31T20:02:08.643Z"
   },
   {
    "duration": 16,
    "start_time": "2023-03-31T20:02:08.649Z"
   },
   {
    "duration": 32,
    "start_time": "2023-03-31T20:02:08.668Z"
   },
   {
    "duration": 5,
    "start_time": "2023-03-31T20:02:08.705Z"
   },
   {
    "duration": 6,
    "start_time": "2023-03-31T20:02:08.725Z"
   },
   {
    "duration": 14,
    "start_time": "2023-03-31T20:02:08.733Z"
   },
   {
    "duration": 5,
    "start_time": "2023-03-31T20:02:08.749Z"
   },
   {
    "duration": 17,
    "start_time": "2023-03-31T20:02:08.755Z"
   },
   {
    "duration": 7,
    "start_time": "2023-03-31T20:02:08.780Z"
   },
   {
    "duration": 19,
    "start_time": "2023-03-31T20:02:08.788Z"
   },
   {
    "duration": 4,
    "start_time": "2023-03-31T20:02:08.809Z"
   },
   {
    "duration": 25,
    "start_time": "2023-03-31T20:02:08.815Z"
   },
   {
    "duration": 6,
    "start_time": "2023-03-31T20:02:08.841Z"
   },
   {
    "duration": 163,
    "start_time": "2023-03-31T20:02:08.848Z"
   },
   {
    "duration": 69,
    "start_time": "2023-03-31T20:02:09.013Z"
   },
   {
    "duration": 809,
    "start_time": "2023-03-31T20:02:09.095Z"
   },
   {
    "duration": 951,
    "start_time": "2023-03-31T20:02:09.912Z"
   },
   {
    "duration": 19,
    "start_time": "2023-03-31T20:02:10.868Z"
   },
   {
    "duration": 17,
    "start_time": "2023-03-31T20:02:10.891Z"
   },
   {
    "duration": 10,
    "start_time": "2023-03-31T20:02:10.972Z"
   },
   {
    "duration": 4,
    "start_time": "2023-03-31T20:02:10.984Z"
   },
   {
    "duration": 920,
    "start_time": "2023-03-31T20:02:10.990Z"
   },
   {
    "duration": 6,
    "start_time": "2023-03-31T20:02:11.912Z"
   },
   {
    "duration": 70,
    "start_time": "2023-03-31T20:02:11.920Z"
   },
   {
    "duration": 227,
    "start_time": "2023-03-31T20:02:11.991Z"
   },
   {
    "duration": 53,
    "start_time": "2023-03-31T20:02:12.220Z"
   },
   {
    "duration": 45,
    "start_time": "2023-03-31T20:02:12.282Z"
   },
   {
    "duration": 866,
    "start_time": "2023-03-31T20:02:12.329Z"
   },
   {
    "duration": 855,
    "start_time": "2023-03-31T20:02:13.201Z"
   },
   {
    "duration": 1011,
    "start_time": "2023-03-31T20:02:14.063Z"
   },
   {
    "duration": 1303,
    "start_time": "2023-03-31T20:02:15.076Z"
   },
   {
    "duration": 88,
    "start_time": "2023-03-31T20:02:16.388Z"
   },
   {
    "duration": 6,
    "start_time": "2023-03-31T20:02:16.482Z"
   },
   {
    "duration": 7,
    "start_time": "2023-03-31T20:02:16.497Z"
   },
   {
    "duration": 131,
    "start_time": "2023-03-31T20:02:16.506Z"
   },
   {
    "duration": 67,
    "start_time": "2023-03-31T20:02:16.639Z"
   },
   {
    "duration": 1198,
    "start_time": "2023-03-31T20:02:16.708Z"
   },
   {
    "duration": 1166,
    "start_time": "2023-03-31T20:02:17.910Z"
   },
   {
    "duration": 83,
    "start_time": "2023-03-31T20:02:19.081Z"
   },
   {
    "duration": 17,
    "start_time": "2023-03-31T20:02:19.171Z"
   },
   {
    "duration": 9,
    "start_time": "2023-03-31T20:02:19.194Z"
   },
   {
    "duration": 192,
    "start_time": "2023-03-31T20:02:19.207Z"
   },
   {
    "duration": 34,
    "start_time": "2023-03-31T20:02:19.400Z"
   },
   {
    "duration": 600,
    "start_time": "2023-03-31T20:02:19.436Z"
   },
   {
    "duration": 673,
    "start_time": "2023-03-31T20:02:20.038Z"
   },
   {
    "duration": 939,
    "start_time": "2023-03-31T20:02:20.789Z"
   },
   {
    "duration": 5,
    "start_time": "2023-03-31T20:02:21.729Z"
   },
   {
    "duration": 156,
    "start_time": "2023-03-31T20:02:21.735Z"
   },
   {
    "duration": 31,
    "start_time": "2023-03-31T20:02:21.894Z"
   },
   {
    "duration": 102271,
    "start_time": "2023-03-31T20:02:21.927Z"
   },
   {
    "duration": 8368,
    "start_time": "2023-03-31T20:04:04.200Z"
   },
   {
    "duration": 7,
    "start_time": "2023-03-31T20:04:12.571Z"
   },
   {
    "duration": 215,
    "start_time": "2023-03-31T20:04:12.585Z"
   },
   {
    "duration": 252,
    "start_time": "2023-03-31T20:04:12.802Z"
   },
   {
    "duration": 25,
    "start_time": "2023-03-31T20:04:13.056Z"
   },
   {
    "duration": 617,
    "start_time": "2023-03-31T20:04:13.083Z"
   },
   {
    "duration": 187,
    "start_time": "2023-03-31T20:04:13.701Z"
   },
   {
    "duration": 38,
    "start_time": "2023-03-31T20:04:55.531Z"
   },
   {
    "duration": 757,
    "start_time": "2023-03-31T20:05:00.806Z"
   },
   {
    "duration": 261,
    "start_time": "2023-03-31T20:05:03.203Z"
   },
   {
    "duration": 8,
    "start_time": "2023-03-31T20:05:24.011Z"
   },
   {
    "duration": 9,
    "start_time": "2023-03-31T20:05:27.171Z"
   },
   {
    "duration": 34,
    "start_time": "2023-03-31T20:05:31.716Z"
   },
   {
    "duration": 4,
    "start_time": "2023-03-31T20:05:31.752Z"
   },
   {
    "duration": 26,
    "start_time": "2023-03-31T20:05:31.758Z"
   },
   {
    "duration": 25,
    "start_time": "2023-03-31T20:05:31.786Z"
   },
   {
    "duration": 28,
    "start_time": "2023-03-31T20:05:31.813Z"
   },
   {
    "duration": 16,
    "start_time": "2023-03-31T20:05:31.843Z"
   },
   {
    "duration": 39,
    "start_time": "2023-03-31T20:05:31.861Z"
   },
   {
    "duration": 14,
    "start_time": "2023-03-31T20:05:31.902Z"
   },
   {
    "duration": 31,
    "start_time": "2023-03-31T20:05:31.918Z"
   },
   {
    "duration": 7,
    "start_time": "2023-03-31T20:05:31.951Z"
   },
   {
    "duration": 33,
    "start_time": "2023-03-31T20:05:31.959Z"
   },
   {
    "duration": 24,
    "start_time": "2023-03-31T20:05:31.993Z"
   },
   {
    "duration": 31,
    "start_time": "2023-03-31T20:05:32.018Z"
   },
   {
    "duration": 22,
    "start_time": "2023-03-31T20:05:32.051Z"
   },
   {
    "duration": 166,
    "start_time": "2023-03-31T20:05:32.075Z"
   },
   {
    "duration": 45,
    "start_time": "2023-03-31T20:05:32.243Z"
   },
   {
    "duration": 720,
    "start_time": "2023-03-31T20:05:32.290Z"
   },
   {
    "duration": 258,
    "start_time": "2023-03-31T20:05:33.012Z"
   },
   {
    "duration": 96,
    "start_time": "2023-03-31T20:05:33.272Z"
   },
   {
    "duration": 96,
    "start_time": "2023-03-31T20:05:33.371Z"
   },
   {
    "duration": 5,
    "start_time": "2023-03-31T20:05:33.469Z"
   },
   {
    "duration": 2,
    "start_time": "2023-03-31T20:05:33.476Z"
   },
   {
    "duration": 898,
    "start_time": "2023-03-31T20:05:33.480Z"
   },
   {
    "duration": 6,
    "start_time": "2023-03-31T20:05:34.379Z"
   },
   {
    "duration": 56,
    "start_time": "2023-03-31T20:05:34.387Z"
   },
   {
    "duration": 121,
    "start_time": "2023-03-31T20:05:34.461Z"
   },
   {
    "duration": 41,
    "start_time": "2023-03-31T20:05:34.584Z"
   },
   {
    "duration": 52,
    "start_time": "2023-03-31T20:05:34.627Z"
   },
   {
    "duration": 778,
    "start_time": "2023-03-31T20:05:34.681Z"
   },
   {
    "duration": 808,
    "start_time": "2023-03-31T20:05:35.462Z"
   },
   {
    "duration": 203,
    "start_time": "2023-03-31T20:05:36.271Z"
   },
   {
    "duration": 400,
    "start_time": "2023-03-31T20:05:36.566Z"
   },
   {
    "duration": 95,
    "start_time": "2023-03-31T20:05:36.971Z"
   },
   {
    "duration": 3,
    "start_time": "2023-03-31T20:05:37.068Z"
   },
   {
    "duration": 19,
    "start_time": "2023-03-31T20:05:37.073Z"
   },
   {
    "duration": 137,
    "start_time": "2023-03-31T20:05:37.094Z"
   },
   {
    "duration": 60,
    "start_time": "2023-03-31T20:05:37.234Z"
   },
   {
    "duration": 1047,
    "start_time": "2023-03-31T20:05:37.295Z"
   },
   {
    "duration": 419,
    "start_time": "2023-03-31T20:05:38.344Z"
   },
   {
    "duration": 105,
    "start_time": "2023-03-31T20:05:38.766Z"
   },
   {
    "duration": 4,
    "start_time": "2023-03-31T20:05:38.873Z"
   },
   {
    "duration": 7,
    "start_time": "2023-03-31T20:05:38.878Z"
   },
   {
    "duration": 159,
    "start_time": "2023-03-31T20:05:38.886Z"
   },
   {
    "duration": 32,
    "start_time": "2023-03-31T20:05:39.046Z"
   },
   {
    "duration": 485,
    "start_time": "2023-03-31T20:05:39.080Z"
   },
   {
    "duration": 204,
    "start_time": "2023-03-31T20:05:39.567Z"
   },
   {
    "duration": 841,
    "start_time": "2023-03-31T20:05:39.773Z"
   },
   {
    "duration": 4,
    "start_time": "2023-03-31T20:05:40.615Z"
   },
   {
    "duration": 120,
    "start_time": "2023-03-31T20:05:40.621Z"
   },
   {
    "duration": 32,
    "start_time": "2023-03-31T20:05:40.743Z"
   },
   {
    "duration": 93891,
    "start_time": "2023-03-31T20:05:40.777Z"
   },
   {
    "duration": 7115,
    "start_time": "2023-03-31T20:07:14.677Z"
   },
   {
    "duration": 5,
    "start_time": "2023-03-31T20:07:21.794Z"
   },
   {
    "duration": 204,
    "start_time": "2023-03-31T20:07:21.801Z"
   },
   {
    "duration": 246,
    "start_time": "2023-03-31T20:07:22.007Z"
   },
   {
    "duration": 31,
    "start_time": "2023-03-31T20:07:22.255Z"
   },
   {
    "duration": 524,
    "start_time": "2023-03-31T20:07:22.362Z"
   },
   {
    "duration": 185,
    "start_time": "2023-03-31T20:07:22.888Z"
   },
   {
    "duration": 113,
    "start_time": "2023-03-31T20:09:01.260Z"
   },
   {
    "duration": 64,
    "start_time": "2023-03-31T20:09:05.715Z"
   },
   {
    "duration": 429,
    "start_time": "2023-03-31T20:09:08.305Z"
   },
   {
    "duration": 114,
    "start_time": "2023-03-31T20:09:30.183Z"
   },
   {
    "duration": 435,
    "start_time": "2023-03-31T20:09:56.021Z"
   },
   {
    "duration": 44,
    "start_time": "2023-03-31T20:10:54.207Z"
   },
   {
    "duration": 5,
    "start_time": "2023-03-31T20:10:54.253Z"
   },
   {
    "duration": 26,
    "start_time": "2023-03-31T20:10:54.259Z"
   },
   {
    "duration": 16,
    "start_time": "2023-03-31T20:10:54.287Z"
   },
   {
    "duration": 5,
    "start_time": "2023-03-31T20:10:54.313Z"
   },
   {
    "duration": 6,
    "start_time": "2023-03-31T20:10:54.324Z"
   },
   {
    "duration": 10,
    "start_time": "2023-03-31T20:10:54.334Z"
   },
   {
    "duration": 20,
    "start_time": "2023-03-31T20:10:54.347Z"
   },
   {
    "duration": 11,
    "start_time": "2023-03-31T20:10:54.377Z"
   },
   {
    "duration": 27,
    "start_time": "2023-03-31T20:10:54.390Z"
   },
   {
    "duration": 5,
    "start_time": "2023-03-31T20:10:54.419Z"
   },
   {
    "duration": 6,
    "start_time": "2023-03-31T20:10:54.426Z"
   },
   {
    "duration": 24,
    "start_time": "2023-03-31T20:10:54.434Z"
   },
   {
    "duration": 13,
    "start_time": "2023-03-31T20:10:54.459Z"
   },
   {
    "duration": 240,
    "start_time": "2023-03-31T20:10:54.480Z"
   },
   {
    "duration": 61,
    "start_time": "2023-03-31T20:10:54.723Z"
   },
   {
    "duration": 832,
    "start_time": "2023-03-31T20:10:54.793Z"
   },
   {
    "duration": 744,
    "start_time": "2023-03-31T20:10:55.627Z"
   },
   {
    "duration": 7,
    "start_time": "2023-03-31T20:10:56.374Z"
   },
   {
    "duration": 86,
    "start_time": "2023-03-31T20:10:56.383Z"
   },
   {
    "duration": 8,
    "start_time": "2023-03-31T20:10:56.474Z"
   },
   {
    "duration": 928,
    "start_time": "2023-03-31T20:10:56.484Z"
   },
   {
    "duration": 7,
    "start_time": "2023-03-31T20:10:57.414Z"
   },
   {
    "duration": 68,
    "start_time": "2023-03-31T20:10:57.423Z"
   },
   {
    "duration": 130,
    "start_time": "2023-03-31T20:10:57.492Z"
   },
   {
    "duration": 50,
    "start_time": "2023-03-31T20:10:57.624Z"
   },
   {
    "duration": 38,
    "start_time": "2023-03-31T20:10:57.677Z"
   },
   {
    "duration": 776,
    "start_time": "2023-03-31T20:10:57.716Z"
   },
   {
    "duration": 775,
    "start_time": "2023-03-31T20:10:58.493Z"
   },
   {
    "duration": 495,
    "start_time": "2023-03-31T20:10:59.269Z"
   },
   {
    "duration": 594,
    "start_time": "2023-03-31T20:10:59.776Z"
   },
   {
    "duration": 102,
    "start_time": "2023-03-31T20:11:00.372Z"
   },
   {
    "duration": 4,
    "start_time": "2023-03-31T20:11:00.476Z"
   },
   {
    "duration": 32,
    "start_time": "2023-03-31T20:11:00.482Z"
   },
   {
    "duration": 136,
    "start_time": "2023-03-31T20:11:00.516Z"
   },
   {
    "duration": 63,
    "start_time": "2023-03-31T20:11:00.654Z"
   },
   {
    "duration": 1126,
    "start_time": "2023-03-31T20:11:00.719Z"
   },
   {
    "duration": 435,
    "start_time": "2023-03-31T20:11:01.846Z"
   },
   {
    "duration": 111,
    "start_time": "2023-03-31T20:11:02.362Z"
   },
   {
    "duration": 3,
    "start_time": "2023-03-31T20:11:02.475Z"
   },
   {
    "duration": 8,
    "start_time": "2023-03-31T20:11:02.480Z"
   },
   {
    "duration": 157,
    "start_time": "2023-03-31T20:11:02.489Z"
   },
   {
    "duration": 31,
    "start_time": "2023-03-31T20:11:02.648Z"
   },
   {
    "duration": 517,
    "start_time": "2023-03-31T20:11:02.681Z"
   },
   {
    "duration": 480,
    "start_time": "2023-03-31T20:11:03.200Z"
   },
   {
    "duration": 1032,
    "start_time": "2023-03-31T20:11:03.682Z"
   },
   {
    "duration": 4,
    "start_time": "2023-03-31T20:11:04.716Z"
   },
   {
    "duration": 128,
    "start_time": "2023-03-31T20:11:04.721Z"
   },
   {
    "duration": 33,
    "start_time": "2023-03-31T20:11:04.851Z"
   },
   {
    "duration": 95593,
    "start_time": "2023-03-31T20:11:04.885Z"
   },
   {
    "duration": 7638,
    "start_time": "2023-03-31T20:12:40.480Z"
   },
   {
    "duration": 4,
    "start_time": "2023-03-31T20:12:48.120Z"
   },
   {
    "duration": 191,
    "start_time": "2023-03-31T20:12:48.125Z"
   },
   {
    "duration": 106,
    "start_time": "2023-03-31T20:12:48.318Z"
   },
   {
    "duration": 51,
    "start_time": "2023-03-31T20:12:48.425Z"
   },
   {
    "duration": 275,
    "start_time": "2023-03-31T20:12:48.478Z"
   },
   {
    "duration": 401,
    "start_time": "2023-03-31T20:12:48.754Z"
   },
   {
    "duration": 409,
    "start_time": "2023-03-31T20:20:22.907Z"
   },
   {
    "duration": 394,
    "start_time": "2023-03-31T20:20:56.003Z"
   },
   {
    "duration": 292,
    "start_time": "2023-03-31T20:21:19.919Z"
   },
   {
    "duration": 182,
    "start_time": "2023-03-31T20:21:45.346Z"
   },
   {
    "duration": 209,
    "start_time": "2023-03-31T20:22:22.891Z"
   },
   {
    "duration": 412,
    "start_time": "2023-03-31T20:22:31.606Z"
   },
   {
    "duration": 405,
    "start_time": "2023-03-31T20:22:36.494Z"
   },
   {
    "duration": 234,
    "start_time": "2023-03-31T20:22:44.374Z"
   },
   {
    "duration": 262,
    "start_time": "2023-03-31T20:22:48.858Z"
   },
   {
    "duration": 273,
    "start_time": "2023-03-31T20:22:56.504Z"
   },
   {
    "duration": 306,
    "start_time": "2023-03-31T20:23:00.127Z"
   },
   {
    "duration": 282,
    "start_time": "2023-03-31T20:23:03.402Z"
   },
   {
    "duration": 272,
    "start_time": "2023-03-31T20:23:08.105Z"
   },
   {
    "duration": 305,
    "start_time": "2023-03-31T20:23:12.658Z"
   },
   {
    "duration": 287,
    "start_time": "2023-03-31T20:23:15.783Z"
   },
   {
    "duration": 264,
    "start_time": "2023-03-31T20:23:19.630Z"
   },
   {
    "duration": 287,
    "start_time": "2023-03-31T20:23:22.699Z"
   },
   {
    "duration": 144,
    "start_time": "2023-03-31T20:23:41.749Z"
   },
   {
    "duration": 184,
    "start_time": "2023-03-31T20:23:45.793Z"
   },
   {
    "duration": 110,
    "start_time": "2023-03-31T20:23:49.147Z"
   },
   {
    "duration": 128,
    "start_time": "2023-03-31T20:23:52.783Z"
   },
   {
    "duration": 175,
    "start_time": "2023-03-31T20:23:56.438Z"
   },
   {
    "duration": 136,
    "start_time": "2023-03-31T20:23:59.686Z"
   },
   {
    "duration": 155,
    "start_time": "2023-03-31T20:24:05.706Z"
   },
   {
    "duration": 160,
    "start_time": "2023-03-31T20:24:08.474Z"
   },
   {
    "duration": 163,
    "start_time": "2023-03-31T20:24:14.678Z"
   },
   {
    "duration": 144,
    "start_time": "2023-03-31T20:24:18.483Z"
   },
   {
    "duration": 413,
    "start_time": "2023-03-31T20:24:35.037Z"
   },
   {
    "duration": 378,
    "start_time": "2023-03-31T20:24:41.098Z"
   },
   {
    "duration": 358,
    "start_time": "2023-03-31T20:24:46.974Z"
   },
   {
    "duration": 4,
    "start_time": "2023-03-31T20:25:06.313Z"
   },
   {
    "duration": 36,
    "start_time": "2023-03-31T20:29:25.117Z"
   },
   {
    "duration": 4,
    "start_time": "2023-03-31T20:29:25.155Z"
   },
   {
    "duration": 27,
    "start_time": "2023-03-31T20:29:25.160Z"
   },
   {
    "duration": 25,
    "start_time": "2023-03-31T20:29:25.189Z"
   },
   {
    "duration": 4,
    "start_time": "2023-03-31T20:29:25.221Z"
   },
   {
    "duration": 17,
    "start_time": "2023-03-31T20:29:25.227Z"
   },
   {
    "duration": 11,
    "start_time": "2023-03-31T20:29:25.246Z"
   },
   {
    "duration": 5,
    "start_time": "2023-03-31T20:29:25.259Z"
   },
   {
    "duration": 18,
    "start_time": "2023-03-31T20:29:25.266Z"
   },
   {
    "duration": 9,
    "start_time": "2023-03-31T20:29:25.290Z"
   },
   {
    "duration": 13,
    "start_time": "2023-03-31T20:29:25.301Z"
   },
   {
    "duration": 14,
    "start_time": "2023-03-31T20:29:25.315Z"
   },
   {
    "duration": 37,
    "start_time": "2023-03-31T20:29:25.331Z"
   },
   {
    "duration": 6,
    "start_time": "2023-03-31T20:29:25.370Z"
   },
   {
    "duration": 168,
    "start_time": "2023-03-31T20:29:25.377Z"
   },
   {
    "duration": 42,
    "start_time": "2023-03-31T20:29:25.547Z"
   },
   {
    "duration": 597,
    "start_time": "2023-03-31T20:29:25.591Z"
   },
   {
    "duration": 181,
    "start_time": "2023-03-31T20:29:26.190Z"
   },
   {
    "duration": 99,
    "start_time": "2023-03-31T20:29:26.464Z"
   },
   {
    "duration": 6,
    "start_time": "2023-03-31T20:29:26.565Z"
   },
   {
    "duration": 8,
    "start_time": "2023-03-31T20:29:26.572Z"
   },
   {
    "duration": 705,
    "start_time": "2023-03-31T20:29:26.581Z"
   },
   {
    "duration": 8,
    "start_time": "2023-03-31T20:29:27.288Z"
   },
   {
    "duration": 88,
    "start_time": "2023-03-31T20:29:27.298Z"
   },
   {
    "duration": 146,
    "start_time": "2023-03-31T20:29:27.388Z"
   },
   {
    "duration": 42,
    "start_time": "2023-03-31T20:29:27.537Z"
   },
   {
    "duration": 31,
    "start_time": "2023-03-31T20:29:27.581Z"
   },
   {
    "duration": 612,
    "start_time": "2023-03-31T20:29:27.614Z"
   },
   {
    "duration": 610,
    "start_time": "2023-03-31T20:29:28.228Z"
   },
   {
    "duration": 321,
    "start_time": "2023-03-31T20:29:28.840Z"
   },
   {
    "duration": 302,
    "start_time": "2023-03-31T20:29:29.166Z"
   },
   {
    "duration": 192,
    "start_time": "2023-03-31T20:29:29.473Z"
   },
   {
    "duration": 4,
    "start_time": "2023-03-31T20:29:29.668Z"
   },
   {
    "duration": 6,
    "start_time": "2023-03-31T20:29:29.674Z"
   },
   {
    "duration": 156,
    "start_time": "2023-03-31T20:29:29.682Z"
   },
   {
    "duration": 45,
    "start_time": "2023-03-31T20:29:29.840Z"
   },
   {
    "duration": 809,
    "start_time": "2023-03-31T20:29:29.887Z"
   },
   {
    "duration": 365,
    "start_time": "2023-03-31T20:29:30.698Z"
   },
   {
    "duration": 104,
    "start_time": "2023-03-31T20:29:31.065Z"
   },
   {
    "duration": 16,
    "start_time": "2023-03-31T20:29:31.171Z"
   },
   {
    "duration": 31,
    "start_time": "2023-03-31T20:29:31.188Z"
   },
   {
    "duration": 145,
    "start_time": "2023-03-31T20:29:31.222Z"
   },
   {
    "duration": 26,
    "start_time": "2023-03-31T20:29:31.369Z"
   },
   {
    "duration": 495,
    "start_time": "2023-03-31T20:29:31.398Z"
   },
   {
    "duration": 276,
    "start_time": "2023-03-31T20:29:31.894Z"
   },
   {
    "duration": 607,
    "start_time": "2023-03-31T20:29:32.263Z"
   },
   {
    "duration": 4,
    "start_time": "2023-03-31T20:29:32.872Z"
   },
   {
    "duration": 119,
    "start_time": "2023-03-31T20:29:32.877Z"
   },
   {
    "duration": 20,
    "start_time": "2023-03-31T20:29:32.998Z"
   },
   {
    "duration": 81433,
    "start_time": "2023-03-31T20:29:33.020Z"
   },
   {
    "duration": 5987,
    "start_time": "2023-03-31T20:30:54.455Z"
   },
   {
    "duration": 4,
    "start_time": "2023-03-31T20:31:00.444Z"
   },
   {
    "duration": 182,
    "start_time": "2023-03-31T20:31:00.449Z"
   },
   {
    "duration": 379,
    "start_time": "2023-03-31T20:31:00.633Z"
   },
   {
    "duration": 57,
    "start_time": "2023-03-31T20:31:01.014Z"
   },
   {
    "duration": 401,
    "start_time": "2023-03-31T20:31:01.163Z"
   },
   {
    "duration": 137,
    "start_time": "2023-03-31T20:31:01.565Z"
   },
   {
    "duration": 365,
    "start_time": "2023-03-31T20:31:45.271Z"
   },
   {
    "duration": 142,
    "start_time": "2023-03-31T20:31:59.492Z"
   },
   {
    "duration": 107,
    "start_time": "2023-03-31T20:33:09.580Z"
   },
   {
    "duration": 27,
    "start_time": "2023-03-31T20:33:29.705Z"
   },
   {
    "duration": 28,
    "start_time": "2023-03-31T20:34:40.258Z"
   },
   {
    "duration": 24,
    "start_time": "2023-03-31T20:35:04.221Z"
   },
   {
    "duration": 10,
    "start_time": "2023-03-31T20:37:10.841Z"
   },
   {
    "duration": 349,
    "start_time": "2023-03-31T20:38:07.933Z"
   },
   {
    "duration": 40,
    "start_time": "2023-03-31T20:44:54.525Z"
   },
   {
    "duration": 6,
    "start_time": "2023-03-31T20:44:54.576Z"
   },
   {
    "duration": 14,
    "start_time": "2023-03-31T20:44:54.583Z"
   },
   {
    "duration": 12,
    "start_time": "2023-03-31T20:44:54.599Z"
   },
   {
    "duration": 4,
    "start_time": "2023-03-31T20:44:54.638Z"
   },
   {
    "duration": 11,
    "start_time": "2023-03-31T20:44:54.644Z"
   },
   {
    "duration": 16,
    "start_time": "2023-03-31T20:44:54.656Z"
   },
   {
    "duration": 6,
    "start_time": "2023-03-31T20:44:54.675Z"
   },
   {
    "duration": 19,
    "start_time": "2023-03-31T20:44:54.682Z"
   },
   {
    "duration": 7,
    "start_time": "2023-03-31T20:44:54.703Z"
   },
   {
    "duration": 3,
    "start_time": "2023-03-31T20:44:54.713Z"
   },
   {
    "duration": 3,
    "start_time": "2023-03-31T20:44:54.719Z"
   },
   {
    "duration": 19,
    "start_time": "2023-03-31T20:44:54.724Z"
   },
   {
    "duration": 8,
    "start_time": "2023-03-31T20:44:54.769Z"
   },
   {
    "duration": 156,
    "start_time": "2023-03-31T20:44:54.780Z"
   },
   {
    "duration": 61,
    "start_time": "2023-03-31T20:44:54.938Z"
   },
   {
    "duration": 814,
    "start_time": "2023-03-31T20:44:55.001Z"
   },
   {
    "duration": 352,
    "start_time": "2023-03-31T20:44:55.816Z"
   },
   {
    "duration": 13,
    "start_time": "2023-03-31T20:44:56.169Z"
   },
   {
    "duration": 90,
    "start_time": "2023-03-31T20:44:56.184Z"
   },
   {
    "duration": 13,
    "start_time": "2023-03-31T20:44:56.276Z"
   },
   {
    "duration": 873,
    "start_time": "2023-03-31T20:44:56.293Z"
   },
   {
    "duration": 10,
    "start_time": "2023-03-31T20:44:57.171Z"
   },
   {
    "duration": 60,
    "start_time": "2023-03-31T20:44:57.182Z"
   },
   {
    "duration": 140,
    "start_time": "2023-03-31T20:44:57.244Z"
   },
   {
    "duration": 44,
    "start_time": "2023-03-31T20:44:57.386Z"
   },
   {
    "duration": 61,
    "start_time": "2023-03-31T20:44:57.431Z"
   },
   {
    "duration": 782,
    "start_time": "2023-03-31T20:44:57.494Z"
   },
   {
    "duration": 833,
    "start_time": "2023-03-31T20:44:58.278Z"
   },
   {
    "duration": 751,
    "start_time": "2023-03-31T20:44:59.113Z"
   },
   {
    "duration": 388,
    "start_time": "2023-03-31T20:44:59.874Z"
   },
   {
    "duration": 102,
    "start_time": "2023-03-31T20:45:00.270Z"
   },
   {
    "duration": 9,
    "start_time": "2023-03-31T20:45:00.375Z"
   },
   {
    "duration": 34,
    "start_time": "2023-03-31T20:45:00.386Z"
   },
   {
    "duration": 159,
    "start_time": "2023-03-31T20:45:00.422Z"
   },
   {
    "duration": 49,
    "start_time": "2023-03-31T20:45:00.583Z"
   },
   {
    "duration": 1138,
    "start_time": "2023-03-31T20:45:00.634Z"
   },
   {
    "duration": 689,
    "start_time": "2023-03-31T20:45:01.774Z"
   },
   {
    "duration": 108,
    "start_time": "2023-03-31T20:45:02.465Z"
   },
   {
    "duration": 13,
    "start_time": "2023-03-31T20:45:02.575Z"
   },
   {
    "duration": 24,
    "start_time": "2023-03-31T20:45:02.589Z"
   },
   {
    "duration": 139,
    "start_time": "2023-03-31T20:45:02.616Z"
   },
   {
    "duration": 37,
    "start_time": "2023-03-31T20:45:02.756Z"
   },
   {
    "duration": 519,
    "start_time": "2023-03-31T20:45:02.795Z"
   },
   {
    "duration": 565,
    "start_time": "2023-03-31T20:45:03.315Z"
   },
   {
    "duration": 1005,
    "start_time": "2023-03-31T20:45:03.882Z"
   },
   {
    "duration": 4,
    "start_time": "2023-03-31T20:45:04.888Z"
   },
   {
    "duration": 141,
    "start_time": "2023-03-31T20:45:04.893Z"
   },
   {
    "duration": 39,
    "start_time": "2023-03-31T20:45:05.036Z"
   },
   {
    "duration": 93291,
    "start_time": "2023-03-31T20:45:05.076Z"
   },
   {
    "duration": 6275,
    "start_time": "2023-03-31T20:46:38.369Z"
   },
   {
    "duration": 4,
    "start_time": "2023-03-31T20:46:44.646Z"
   },
   {
    "duration": 184,
    "start_time": "2023-03-31T20:46:44.652Z"
   },
   {
    "duration": 428,
    "start_time": "2023-03-31T20:46:44.838Z"
   },
   {
    "duration": 97,
    "start_time": "2023-03-31T20:46:45.268Z"
   },
   {
    "duration": 234,
    "start_time": "2023-03-31T20:46:45.368Z"
   },
   {
    "duration": 20,
    "start_time": "2023-03-31T20:46:45.603Z"
   },
   {
    "duration": 20,
    "start_time": "2023-03-31T20:46:45.625Z"
   },
   {
    "duration": 182,
    "start_time": "2023-03-31T20:46:45.646Z"
   },
   {
    "duration": 391,
    "start_time": "2023-03-31T20:47:26.013Z"
   },
   {
    "duration": 269,
    "start_time": "2023-03-31T20:48:18.314Z"
   },
   {
    "duration": 164,
    "start_time": "2023-03-31T20:49:25.829Z"
   },
   {
    "duration": 167,
    "start_time": "2023-03-31T20:49:33.474Z"
   },
   {
    "duration": 125,
    "start_time": "2023-03-31T20:49:38.533Z"
   },
   {
    "duration": 25,
    "start_time": "2023-03-31T20:49:58.756Z"
   },
   {
    "duration": 176,
    "start_time": "2023-03-31T20:50:10.636Z"
   },
   {
    "duration": 414,
    "start_time": "2023-03-31T20:50:14.817Z"
   },
   {
    "duration": 413,
    "start_time": "2023-03-31T20:50:19.701Z"
   },
   {
    "duration": 107,
    "start_time": "2023-03-31T20:50:23.476Z"
   },
   {
    "duration": 25,
    "start_time": "2023-03-31T20:54:32.239Z"
   },
   {
    "duration": 96018,
    "start_time": "2023-03-31T20:54:50.296Z"
   },
   {
    "duration": 6107,
    "start_time": "2023-03-31T20:56:26.316Z"
   },
   {
    "duration": 4,
    "start_time": "2023-03-31T20:56:32.425Z"
   },
   {
    "duration": 221,
    "start_time": "2023-03-31T20:56:32.431Z"
   },
   {
    "duration": 466,
    "start_time": "2023-03-31T20:56:32.654Z"
   },
   {
    "duration": 54,
    "start_time": "2023-03-31T20:56:33.122Z"
   },
   {
    "duration": 430,
    "start_time": "2023-03-31T20:56:48.793Z"
   },
   {
    "duration": 185,
    "start_time": "2023-03-31T20:57:29.540Z"
   },
   {
    "duration": 431,
    "start_time": "2023-03-31T20:57:56.256Z"
   },
   {
    "duration": 438,
    "start_time": "2023-03-31T20:58:05.880Z"
   },
   {
    "duration": 224,
    "start_time": "2023-03-31T20:59:41.864Z"
   },
   {
    "duration": 183,
    "start_time": "2023-03-31T21:00:08.341Z"
   },
   {
    "duration": 187,
    "start_time": "2023-03-31T21:00:15.099Z"
   },
   {
    "duration": 191,
    "start_time": "2023-03-31T21:00:23.391Z"
   },
   {
    "duration": 1633,
    "start_time": "2023-04-01T09:31:55.707Z"
   },
   {
    "duration": 6,
    "start_time": "2023-04-01T09:31:57.342Z"
   },
   {
    "duration": 21,
    "start_time": "2023-04-01T09:31:57.349Z"
   },
   {
    "duration": 14,
    "start_time": "2023-04-01T09:31:57.371Z"
   },
   {
    "duration": 4,
    "start_time": "2023-04-01T09:31:57.388Z"
   },
   {
    "duration": 12,
    "start_time": "2023-04-01T09:31:57.393Z"
   },
   {
    "duration": 34,
    "start_time": "2023-04-01T09:31:57.408Z"
   },
   {
    "duration": 5,
    "start_time": "2023-04-01T09:31:57.444Z"
   },
   {
    "duration": 6,
    "start_time": "2023-04-01T09:31:57.450Z"
   },
   {
    "duration": 5,
    "start_time": "2023-04-01T09:31:57.458Z"
   },
   {
    "duration": 4,
    "start_time": "2023-04-01T09:31:57.465Z"
   },
   {
    "duration": 5,
    "start_time": "2023-04-01T09:31:57.471Z"
   },
   {
    "duration": 39,
    "start_time": "2023-04-01T09:31:57.477Z"
   },
   {
    "duration": 6,
    "start_time": "2023-04-01T09:31:57.519Z"
   },
   {
    "duration": 158,
    "start_time": "2023-04-01T09:31:57.526Z"
   },
   {
    "duration": 46,
    "start_time": "2023-04-01T09:31:57.685Z"
   },
   {
    "duration": 758,
    "start_time": "2023-04-01T09:31:57.733Z"
   },
   {
    "duration": 213,
    "start_time": "2023-04-01T09:31:58.493Z"
   },
   {
    "duration": 97,
    "start_time": "2023-04-01T09:31:58.707Z"
   },
   {
    "duration": 97,
    "start_time": "2023-04-01T09:31:58.807Z"
   },
   {
    "duration": 7,
    "start_time": "2023-04-01T09:31:58.906Z"
   },
   {
    "duration": 872,
    "start_time": "2023-04-01T09:31:58.915Z"
   },
   {
    "duration": 6,
    "start_time": "2023-04-01T09:31:59.789Z"
   },
   {
    "duration": 57,
    "start_time": "2023-04-01T09:31:59.803Z"
   },
   {
    "duration": 131,
    "start_time": "2023-04-01T09:31:59.862Z"
   },
   {
    "duration": 49,
    "start_time": "2023-04-01T09:31:59.995Z"
   },
   {
    "duration": 57,
    "start_time": "2023-04-01T09:32:00.046Z"
   },
   {
    "duration": 798,
    "start_time": "2023-04-01T09:32:00.105Z"
   },
   {
    "duration": 783,
    "start_time": "2023-04-01T09:32:00.905Z"
   },
   {
    "duration": 219,
    "start_time": "2023-04-01T09:32:01.689Z"
   },
   {
    "duration": 394,
    "start_time": "2023-04-01T09:32:01.910Z"
   },
   {
    "duration": 105,
    "start_time": "2023-04-01T09:32:02.305Z"
   },
   {
    "duration": 6,
    "start_time": "2023-04-01T09:32:02.412Z"
   },
   {
    "duration": 37,
    "start_time": "2023-04-01T09:32:02.420Z"
   },
   {
    "duration": 142,
    "start_time": "2023-04-01T09:32:02.459Z"
   },
   {
    "duration": 48,
    "start_time": "2023-04-01T09:32:02.603Z"
   },
   {
    "duration": 1072,
    "start_time": "2023-04-01T09:32:02.653Z"
   },
   {
    "duration": 280,
    "start_time": "2023-04-01T09:32:03.727Z"
   },
   {
    "duration": 253,
    "start_time": "2023-04-01T09:32:04.009Z"
   },
   {
    "duration": 4,
    "start_time": "2023-04-01T09:32:04.264Z"
   },
   {
    "duration": 6,
    "start_time": "2023-04-01T09:32:04.271Z"
   },
   {
    "duration": 151,
    "start_time": "2023-04-01T09:32:04.279Z"
   },
   {
    "duration": 29,
    "start_time": "2023-04-01T09:32:04.432Z"
   },
   {
    "duration": 529,
    "start_time": "2023-04-01T09:32:04.463Z"
   },
   {
    "duration": 116,
    "start_time": "2023-04-01T09:32:04.994Z"
   },
   {
    "duration": 895,
    "start_time": "2023-04-01T09:32:05.112Z"
   },
   {
    "duration": 5,
    "start_time": "2023-04-01T09:32:06.009Z"
   },
   {
    "duration": 133,
    "start_time": "2023-04-01T09:32:06.016Z"
   },
   {
    "duration": 21,
    "start_time": "2023-04-01T09:32:06.151Z"
   },
   {
    "duration": 48,
    "start_time": "2023-04-01T18:47:50.568Z"
   },
   {
    "duration": 1860,
    "start_time": "2023-04-01T18:47:54.922Z"
   },
   {
    "duration": 6,
    "start_time": "2023-04-01T18:47:56.785Z"
   },
   {
    "duration": 36,
    "start_time": "2023-04-01T18:47:56.792Z"
   },
   {
    "duration": 15,
    "start_time": "2023-04-01T18:47:56.830Z"
   },
   {
    "duration": 12,
    "start_time": "2023-04-01T18:47:56.848Z"
   },
   {
    "duration": 8,
    "start_time": "2023-04-01T18:47:56.862Z"
   },
   {
    "duration": 14,
    "start_time": "2023-04-01T18:47:56.872Z"
   },
   {
    "duration": 6,
    "start_time": "2023-04-01T18:47:56.887Z"
   },
   {
    "duration": 8,
    "start_time": "2023-04-01T18:47:56.895Z"
   },
   {
    "duration": 34,
    "start_time": "2023-04-01T18:47:56.907Z"
   },
   {
    "duration": 5,
    "start_time": "2023-04-01T18:47:56.944Z"
   },
   {
    "duration": 8,
    "start_time": "2023-04-01T18:47:56.951Z"
   },
   {
    "duration": 28,
    "start_time": "2023-04-01T18:47:56.963Z"
   },
   {
    "duration": 7,
    "start_time": "2023-04-01T18:47:56.993Z"
   },
   {
    "duration": 176,
    "start_time": "2023-04-01T18:47:57.003Z"
   },
   {
    "duration": 41,
    "start_time": "2023-04-01T18:47:57.181Z"
   },
   {
    "duration": 774,
    "start_time": "2023-04-01T18:47:57.224Z"
   },
   {
    "duration": 243,
    "start_time": "2023-04-01T18:47:58.000Z"
   },
   {
    "duration": 100,
    "start_time": "2023-04-01T18:47:58.246Z"
   },
   {
    "duration": 10,
    "start_time": "2023-04-01T18:47:58.348Z"
   },
   {
    "duration": 7,
    "start_time": "2023-04-01T18:47:58.360Z"
   },
   {
    "duration": 803,
    "start_time": "2023-04-01T18:47:58.369Z"
   },
   {
    "duration": 5,
    "start_time": "2023-04-01T18:47:59.174Z"
   },
   {
    "duration": 79,
    "start_time": "2023-04-01T18:47:59.181Z"
   },
   {
    "duration": 130,
    "start_time": "2023-04-01T18:47:59.263Z"
   },
   {
    "duration": 49,
    "start_time": "2023-04-01T18:47:59.395Z"
   },
   {
    "duration": 39,
    "start_time": "2023-04-01T18:47:59.446Z"
   },
   {
    "duration": 770,
    "start_time": "2023-04-01T18:47:59.489Z"
   },
   {
    "duration": 756,
    "start_time": "2023-04-01T18:48:00.262Z"
   },
   {
    "duration": 229,
    "start_time": "2023-04-01T18:48:01.019Z"
   },
   {
    "duration": 499,
    "start_time": "2023-04-01T18:48:01.250Z"
   },
   {
    "duration": 106,
    "start_time": "2023-04-01T18:48:01.751Z"
   },
   {
    "duration": 15,
    "start_time": "2023-04-01T18:48:01.859Z"
   },
   {
    "duration": 40,
    "start_time": "2023-04-01T18:48:01.876Z"
   },
   {
    "duration": 149,
    "start_time": "2023-04-01T18:48:01.918Z"
   },
   {
    "duration": 51,
    "start_time": "2023-04-01T18:48:02.069Z"
   },
   {
    "duration": 1156,
    "start_time": "2023-04-01T18:48:02.123Z"
   },
   {
    "duration": 361,
    "start_time": "2023-04-01T18:48:03.281Z"
   },
   {
    "duration": 199,
    "start_time": "2023-04-01T18:48:03.644Z"
   },
   {
    "duration": 4,
    "start_time": "2023-04-01T18:48:03.845Z"
   },
   {
    "duration": 9,
    "start_time": "2023-04-01T18:48:03.851Z"
   },
   {
    "duration": 154,
    "start_time": "2023-04-01T18:48:03.862Z"
   },
   {
    "duration": 34,
    "start_time": "2023-04-01T18:48:04.018Z"
   },
   {
    "duration": 502,
    "start_time": "2023-04-01T18:48:04.054Z"
   },
   {
    "duration": 184,
    "start_time": "2023-04-01T18:48:04.558Z"
   },
   {
    "duration": 800,
    "start_time": "2023-04-01T18:48:04.744Z"
   },
   {
    "duration": 5,
    "start_time": "2023-04-01T18:48:05.546Z"
   },
   {
    "duration": 159,
    "start_time": "2023-04-01T18:48:05.553Z"
   },
   {
    "duration": 44,
    "start_time": "2023-04-01T18:48:05.713Z"
   },
   {
    "duration": 91278,
    "start_time": "2023-04-01T18:48:05.763Z"
   },
   {
    "duration": 5285,
    "start_time": "2023-04-01T18:49:37.043Z"
   },
   {
    "duration": 4,
    "start_time": "2023-04-01T18:49:42.329Z"
   },
   {
    "duration": 181,
    "start_time": "2023-04-01T18:49:42.342Z"
   },
   {
    "duration": 376,
    "start_time": "2023-04-01T18:49:42.525Z"
   },
   {
    "duration": 46,
    "start_time": "2023-04-01T18:49:42.902Z"
   },
   {
    "duration": 593,
    "start_time": "2023-04-01T18:49:42.950Z"
   },
   {
    "duration": 171,
    "start_time": "2023-04-01T18:49:43.545Z"
   },
   {
    "duration": 24,
    "start_time": "2023-04-01T18:50:46.042Z"
   },
   {
    "duration": 182,
    "start_time": "2023-04-01T18:51:12.320Z"
   },
   {
    "duration": 416,
    "start_time": "2023-04-01T18:51:30.419Z"
   },
   {
    "duration": 404,
    "start_time": "2023-04-01T18:51:38.008Z"
   },
   {
    "duration": 50,
    "start_time": "2023-04-01T18:53:39.345Z"
   },
   {
    "duration": 1066,
    "start_time": "2023-04-01T18:53:48.093Z"
   },
   {
    "duration": 162,
    "start_time": "2023-04-01T18:53:55.888Z"
   },
   {
    "duration": 15,
    "start_time": "2023-04-01T18:54:53.955Z"
   },
   {
    "duration": 4,
    "start_time": "2023-04-01T18:54:58.527Z"
   },
   {
    "duration": 5,
    "start_time": "2023-04-01T18:55:00.464Z"
   },
   {
    "duration": 133,
    "start_time": "2023-04-01T18:55:04.039Z"
   },
   {
    "duration": 26,
    "start_time": "2023-04-01T18:58:09.694Z"
   },
   {
    "duration": 398,
    "start_time": "2023-04-01T18:58:13.549Z"
   },
   {
    "duration": 36,
    "start_time": "2023-04-01T18:58:17.713Z"
   },
   {
    "duration": 375,
    "start_time": "2023-04-01T18:58:28.407Z"
   },
   {
    "duration": 126,
    "start_time": "2023-04-01T18:58:39.620Z"
   },
   {
    "duration": 353,
    "start_time": "2023-04-01T18:59:25.992Z"
   },
   {
    "duration": 162,
    "start_time": "2023-04-01T18:59:30.620Z"
   },
   {
    "duration": 5,
    "start_time": "2023-04-01T19:00:50.194Z"
   },
   {
    "duration": 108,
    "start_time": "2023-04-01T19:01:34.851Z"
   },
   {
    "duration": 30,
    "start_time": "2023-04-01T19:02:50.690Z"
   },
   {
    "duration": 87,
    "start_time": "2023-04-01T19:03:05.620Z"
   },
   {
    "duration": 26,
    "start_time": "2023-04-01T19:03:14.100Z"
   },
   {
    "duration": 29,
    "start_time": "2023-04-01T19:04:20.795Z"
   },
   {
    "duration": 26,
    "start_time": "2023-04-01T19:09:26.707Z"
   },
   {
    "duration": 81050,
    "start_time": "2023-04-01T19:12:37.208Z"
   },
   {
    "duration": 4,
    "start_time": "2023-04-01T19:13:58.260Z"
   },
   {
    "duration": 130,
    "start_time": "2023-04-01T19:14:55.514Z"
   },
   {
    "duration": 143,
    "start_time": "2023-04-01T19:15:07.294Z"
   },
   {
    "duration": 5,
    "start_time": "2023-04-01T19:17:12.294Z"
   },
   {
    "duration": 101,
    "start_time": "2023-04-01T19:18:03.491Z"
   },
   {
    "duration": 30,
    "start_time": "2023-04-01T19:18:29.924Z"
   },
   {
    "duration": 81572,
    "start_time": "2023-04-01T19:18:57.417Z"
   },
   {
    "duration": 4,
    "start_time": "2023-04-01T19:20:18.992Z"
   },
   {
    "duration": 170,
    "start_time": "2023-04-01T19:20:46.695Z"
   },
   {
    "duration": 165,
    "start_time": "2023-04-01T19:20:52.795Z"
   },
   {
    "duration": 102,
    "start_time": "2023-04-01T19:21:05.795Z"
   },
   {
    "duration": 196,
    "start_time": "2023-04-01T19:22:04.846Z"
   },
   {
    "duration": 203,
    "start_time": "2023-04-01T19:22:11.144Z"
   },
   {
    "duration": 4,
    "start_time": "2023-04-01T19:25:30.283Z"
   },
   {
    "duration": 25,
    "start_time": "2023-04-01T19:25:39.943Z"
   },
   {
    "duration": 112,
    "start_time": "2023-04-01T19:26:14.624Z"
   },
   {
    "duration": 19,
    "start_time": "2023-04-01T19:26:22.935Z"
   },
   {
    "duration": 83419,
    "start_time": "2023-04-01T19:29:42.616Z"
   },
   {
    "duration": 6,
    "start_time": "2023-04-01T19:31:06.042Z"
   },
   {
    "duration": 10,
    "start_time": "2023-04-01T19:31:06.346Z"
   },
   {
    "duration": 124,
    "start_time": "2023-04-01T19:31:06.358Z"
   },
   {
    "duration": 90,
    "start_time": "2023-04-01T19:36:25.297Z"
   },
   {
    "duration": 35,
    "start_time": "2023-04-01T19:36:29.615Z"
   },
   {
    "duration": 377,
    "start_time": "2023-04-01T19:37:12.198Z"
   },
   {
    "duration": 53,
    "start_time": "2023-04-01T19:37:36.908Z"
   },
   {
    "duration": 49,
    "start_time": "2023-04-01T19:37:42.840Z"
   },
   {
    "duration": 82,
    "start_time": "2023-04-01T19:37:48.818Z"
   },
   {
    "duration": 117,
    "start_time": "2023-04-01T19:37:52.925Z"
   },
   {
    "duration": 178,
    "start_time": "2023-04-01T19:37:58.278Z"
   },
   {
    "duration": 185,
    "start_time": "2023-04-01T19:38:05.274Z"
   },
   {
    "duration": 142,
    "start_time": "2023-04-01T19:38:18.018Z"
   },
   {
    "duration": 94,
    "start_time": "2023-04-01T19:39:15.528Z"
   },
   {
    "duration": 390,
    "start_time": "2023-04-01T19:39:58.229Z"
   },
   {
    "duration": 337,
    "start_time": "2023-04-01T19:40:10.075Z"
   },
   {
    "duration": 42,
    "start_time": "2023-04-01T19:42:42.583Z"
   },
   {
    "duration": 4,
    "start_time": "2023-04-01T19:42:42.627Z"
   },
   {
    "duration": 15,
    "start_time": "2023-04-01T19:42:42.633Z"
   },
   {
    "duration": 22,
    "start_time": "2023-04-01T19:42:42.650Z"
   },
   {
    "duration": 4,
    "start_time": "2023-04-01T19:42:42.675Z"
   },
   {
    "duration": 9,
    "start_time": "2023-04-01T19:42:42.685Z"
   },
   {
    "duration": 10,
    "start_time": "2023-04-01T19:42:42.794Z"
   },
   {
    "duration": 8,
    "start_time": "2023-04-01T19:42:42.806Z"
   },
   {
    "duration": 6,
    "start_time": "2023-04-01T19:42:42.886Z"
   },
   {
    "duration": 16,
    "start_time": "2023-04-01T19:42:42.894Z"
   },
   {
    "duration": 4,
    "start_time": "2023-04-01T19:42:42.912Z"
   },
   {
    "duration": 6,
    "start_time": "2023-04-01T19:42:42.917Z"
   },
   {
    "duration": 34,
    "start_time": "2023-04-01T19:42:42.924Z"
   },
   {
    "duration": 5,
    "start_time": "2023-04-01T19:42:42.960Z"
   },
   {
    "duration": 135,
    "start_time": "2023-04-01T19:42:42.966Z"
   },
   {
    "duration": 44,
    "start_time": "2023-04-01T19:42:43.102Z"
   },
   {
    "duration": 719,
    "start_time": "2023-04-01T19:42:43.148Z"
   },
   {
    "duration": 181,
    "start_time": "2023-04-01T19:42:43.869Z"
   },
   {
    "duration": 8,
    "start_time": "2023-04-01T19:42:44.142Z"
   },
   {
    "duration": 6,
    "start_time": "2023-04-01T19:42:44.242Z"
   },
   {
    "duration": 7,
    "start_time": "2023-04-01T19:42:44.249Z"
   },
   {
    "duration": 773,
    "start_time": "2023-04-01T19:42:44.257Z"
   },
   {
    "duration": 11,
    "start_time": "2023-04-01T19:42:45.031Z"
   },
   {
    "duration": 63,
    "start_time": "2023-04-01T19:42:45.044Z"
   },
   {
    "duration": 135,
    "start_time": "2023-04-01T19:42:45.108Z"
   },
   {
    "duration": 6,
    "start_time": "2023-04-01T19:42:45.245Z"
   },
   {
    "duration": 110,
    "start_time": "2023-04-01T19:42:45.253Z"
   },
   {
    "duration": 24,
    "start_time": "2023-04-01T19:42:45.364Z"
   },
   {
    "duration": 26,
    "start_time": "2023-04-01T19:42:45.390Z"
   },
   {
    "duration": 80143,
    "start_time": "2023-04-01T19:42:45.417Z"
   },
   {
    "duration": 5,
    "start_time": "2023-04-01T19:44:05.561Z"
   },
   {
    "duration": 199,
    "start_time": "2023-04-01T19:44:05.568Z"
   },
   {
    "duration": 166,
    "start_time": "2023-04-01T19:44:05.769Z"
   },
   {
    "duration": 326,
    "start_time": "2023-04-01T19:44:05.937Z"
   },
   {
    "duration": 606,
    "start_time": "2023-04-01T19:44:06.347Z"
   },
   {
    "duration": 94,
    "start_time": "2023-04-01T19:44:06.956Z"
   },
   {
    "duration": 25,
    "start_time": "2023-04-01T19:44:07.052Z"
   },
   {
    "duration": 9,
    "start_time": "2023-04-01T19:44:07.079Z"
   },
   {
    "duration": 142,
    "start_time": "2023-04-01T19:44:07.090Z"
   },
   {
    "duration": 16,
    "start_time": "2023-04-01T19:44:07.234Z"
   },
   {
    "duration": 150,
    "start_time": "2023-04-01T19:44:07.253Z"
   },
   {
    "duration": 45,
    "start_time": "2023-04-01T19:44:07.407Z"
   },
   {
    "duration": 82511,
    "start_time": "2023-04-01T19:44:07.455Z"
   },
   {
    "duration": 4,
    "start_time": "2023-04-01T19:45:29.968Z"
   },
   {
    "duration": 211,
    "start_time": "2023-04-01T19:45:29.973Z"
   },
   {
    "duration": 570,
    "start_time": "2023-04-01T19:45:30.185Z"
   },
   {
    "duration": 185,
    "start_time": "2023-04-01T19:45:30.760Z"
   },
   {
    "duration": 37,
    "start_time": "2023-04-01T19:45:30.947Z"
   },
   {
    "duration": 53,
    "start_time": "2023-04-01T19:45:30.985Z"
   },
   {
    "duration": 227,
    "start_time": "2023-04-01T19:45:31.039Z"
   },
   {
    "duration": 5,
    "start_time": "2023-04-01T19:45:31.269Z"
   },
   {
    "duration": 105,
    "start_time": "2023-04-01T19:45:31.275Z"
   },
   {
    "duration": 17,
    "start_time": "2023-04-01T19:45:31.382Z"
   },
   {
    "duration": 83359,
    "start_time": "2023-04-01T19:45:31.401Z"
   },
   {
    "duration": 4,
    "start_time": "2023-04-01T19:46:54.761Z"
   },
   {
    "duration": 97,
    "start_time": "2023-04-01T19:46:54.767Z"
   },
   {
    "duration": 280,
    "start_time": "2023-04-01T19:46:54.866Z"
   },
   {
    "duration": 885,
    "start_time": "2023-04-01T19:46:55.148Z"
   },
   {
    "duration": 17,
    "start_time": "2023-04-01T19:46:56.035Z"
   },
   {
    "duration": 118,
    "start_time": "2023-04-01T19:46:56.054Z"
   },
   {
    "duration": 22,
    "start_time": "2023-04-01T19:46:56.174Z"
   },
   {
    "duration": 82636,
    "start_time": "2023-04-01T19:46:56.198Z"
   },
   {
    "duration": 6826,
    "start_time": "2023-04-01T19:48:18.835Z"
   },
   {
    "duration": 5,
    "start_time": "2023-04-01T19:48:25.663Z"
   },
   {
    "duration": 209,
    "start_time": "2023-04-01T19:48:25.670Z"
   },
   {
    "duration": 442,
    "start_time": "2023-04-01T19:48:25.881Z"
   },
   {
    "duration": 119,
    "start_time": "2023-04-01T19:48:26.325Z"
   },
   {
    "duration": 339,
    "start_time": "2023-04-01T19:48:26.962Z"
   },
   {
    "duration": 190,
    "start_time": "2023-04-01T19:48:27.304Z"
   },
   {
    "duration": 183,
    "start_time": "2023-04-01T19:52:20.186Z"
   },
   {
    "duration": 95,
    "start_time": "2023-04-01T19:52:52.653Z"
   },
   {
    "duration": 149,
    "start_time": "2023-04-01T19:53:58.530Z"
   },
   {
    "duration": 42,
    "start_time": "2023-04-01T19:56:23.318Z"
   },
   {
    "duration": 778,
    "start_time": "2023-04-01T19:56:43.420Z"
   },
   {
    "duration": 758,
    "start_time": "2023-04-01T19:57:17.426Z"
   },
   {
    "duration": 629,
    "start_time": "2023-04-01T19:58:54.424Z"
   },
   {
    "duration": 5,
    "start_time": "2023-04-01T20:00:25.529Z"
   },
   {
    "duration": 106,
    "start_time": "2023-04-01T20:01:25.540Z"
   },
   {
    "duration": 27,
    "start_time": "2023-04-01T20:01:40.206Z"
   },
   {
    "duration": 79852,
    "start_time": "2023-04-01T20:02:20.364Z"
   },
   {
    "duration": 79,
    "start_time": "2023-04-01T20:04:19.436Z"
   },
   {
    "duration": 142,
    "start_time": "2023-04-01T20:04:34.502Z"
   },
   {
    "duration": 25,
    "start_time": "2023-04-01T20:05:52.649Z"
   },
   {
    "duration": 27,
    "start_time": "2023-04-01T20:06:01.505Z"
   },
   {
    "duration": 76,
    "start_time": "2023-04-01T20:06:44.655Z"
   },
   {
    "duration": 81,
    "start_time": "2023-04-01T20:07:01.805Z"
   },
   {
    "duration": 146,
    "start_time": "2023-04-01T20:07:05.602Z"
   },
   {
    "duration": 123,
    "start_time": "2023-04-01T20:07:07.628Z"
   },
   {
    "duration": 12,
    "start_time": "2023-04-01T20:07:13.301Z"
   },
   {
    "duration": 4,
    "start_time": "2023-04-01T20:07:18.283Z"
   },
   {
    "duration": 6,
    "start_time": "2023-04-01T20:07:19.131Z"
   },
   {
    "duration": 104,
    "start_time": "2023-04-01T20:07:49.729Z"
   },
   {
    "duration": 30,
    "start_time": "2023-04-01T20:07:58.101Z"
   },
   {
    "duration": 104,
    "start_time": "2023-04-01T20:08:36.324Z"
   },
   {
    "duration": 304,
    "start_time": "2023-04-01T20:08:40.538Z"
   },
   {
    "duration": 23,
    "start_time": "2023-04-01T20:09:33.238Z"
   },
   {
    "duration": 54,
    "start_time": "2023-04-01T20:11:41.602Z"
   },
   {
    "duration": 81,
    "start_time": "2023-04-01T20:11:50.658Z"
   },
   {
    "duration": 48,
    "start_time": "2023-04-01T20:14:56.022Z"
   },
   {
    "duration": 5,
    "start_time": "2023-04-01T20:14:56.072Z"
   },
   {
    "duration": 18,
    "start_time": "2023-04-01T20:14:56.079Z"
   },
   {
    "duration": 21,
    "start_time": "2023-04-01T20:14:56.098Z"
   },
   {
    "duration": 43,
    "start_time": "2023-04-01T20:14:56.166Z"
   },
   {
    "duration": 8,
    "start_time": "2023-04-01T20:14:56.212Z"
   },
   {
    "duration": 13,
    "start_time": "2023-04-01T20:14:56.221Z"
   },
   {
    "duration": 5,
    "start_time": "2023-04-01T20:14:56.236Z"
   },
   {
    "duration": 8,
    "start_time": "2023-04-01T20:14:56.243Z"
   },
   {
    "duration": 8,
    "start_time": "2023-04-01T20:14:56.252Z"
   },
   {
    "duration": 7,
    "start_time": "2023-04-01T20:14:56.262Z"
   },
   {
    "duration": 6,
    "start_time": "2023-04-01T20:14:56.271Z"
   },
   {
    "duration": 29,
    "start_time": "2023-04-01T20:14:56.279Z"
   },
   {
    "duration": 5,
    "start_time": "2023-04-01T20:14:56.311Z"
   },
   {
    "duration": 154,
    "start_time": "2023-04-01T20:14:56.318Z"
   },
   {
    "duration": 101,
    "start_time": "2023-04-01T20:14:56.474Z"
   },
   {
    "duration": 26,
    "start_time": "2023-04-01T20:14:56.576Z"
   },
   {
    "duration": 80008,
    "start_time": "2023-04-01T20:14:56.605Z"
   },
   {
    "duration": 87,
    "start_time": "2023-04-01T20:16:16.614Z"
   },
   {
    "duration": 150,
    "start_time": "2023-04-01T20:16:16.703Z"
   },
   {
    "duration": 95,
    "start_time": "2023-04-01T20:16:16.855Z"
   },
   {
    "duration": 106,
    "start_time": "2023-04-01T20:16:16.951Z"
   },
   {
    "duration": 9,
    "start_time": "2023-04-01T20:16:17.059Z"
   },
   {
    "duration": 852,
    "start_time": "2023-04-01T20:16:17.070Z"
   },
   {
    "duration": 7,
    "start_time": "2023-04-01T20:16:17.924Z"
   },
   {
    "duration": 70,
    "start_time": "2023-04-01T20:16:17.940Z"
   },
   {
    "duration": 162,
    "start_time": "2023-04-01T20:16:18.012Z"
   },
   {
    "duration": 132,
    "start_time": "2023-04-01T20:16:18.175Z"
   },
   {
    "duration": 144,
    "start_time": "2023-04-01T20:16:18.309Z"
   },
   {
    "duration": 65,
    "start_time": "2023-04-01T20:16:18.455Z"
   },
   {
    "duration": 81080,
    "start_time": "2023-04-01T20:16:18.522Z"
   },
   {
    "duration": 4,
    "start_time": "2023-04-01T20:17:39.604Z"
   },
   {
    "duration": 96,
    "start_time": "2023-04-01T20:17:39.609Z"
   },
   {
    "duration": 87,
    "start_time": "2023-04-01T20:17:39.707Z"
   },
   {
    "duration": 347,
    "start_time": "2023-04-01T20:17:39.795Z"
   },
   {
    "duration": 304,
    "start_time": "2023-04-01T20:17:40.144Z"
   },
   {
    "duration": 188,
    "start_time": "2023-04-01T20:17:40.453Z"
   },
   {
    "duration": 6,
    "start_time": "2023-04-01T20:17:40.644Z"
   },
   {
    "duration": 9,
    "start_time": "2023-04-01T20:17:40.652Z"
   },
   {
    "duration": 149,
    "start_time": "2023-04-01T20:17:40.663Z"
   },
   {
    "duration": 110,
    "start_time": "2023-04-01T20:17:40.814Z"
   },
   {
    "duration": 42,
    "start_time": "2023-04-01T20:17:40.926Z"
   },
   {
    "duration": 81161,
    "start_time": "2023-04-01T20:17:40.971Z"
   },
   {
    "duration": 5,
    "start_time": "2023-04-01T20:19:02.140Z"
   },
   {
    "duration": 144,
    "start_time": "2023-04-01T20:19:02.147Z"
   },
   {
    "duration": 547,
    "start_time": "2023-04-01T20:19:02.293Z"
   },
   {
    "duration": 106,
    "start_time": "2023-04-01T20:19:02.843Z"
   },
   {
    "duration": 21,
    "start_time": "2023-04-01T20:19:02.951Z"
   },
   {
    "duration": 19,
    "start_time": "2023-04-01T20:19:02.973Z"
   },
   {
    "duration": 135,
    "start_time": "2023-04-01T20:19:02.996Z"
   },
   {
    "duration": 109,
    "start_time": "2023-04-01T20:19:03.132Z"
   },
   {
    "duration": 21,
    "start_time": "2023-04-01T20:19:03.244Z"
   },
   {
    "duration": 80767,
    "start_time": "2023-04-01T20:19:03.267Z"
   },
   {
    "duration": 5,
    "start_time": "2023-04-01T20:20:24.040Z"
   },
   {
    "duration": 110,
    "start_time": "2023-04-01T20:20:24.047Z"
   },
   {
    "duration": 186,
    "start_time": "2023-04-01T20:20:24.159Z"
   },
   {
    "duration": 871,
    "start_time": "2023-04-01T20:20:24.347Z"
   },
   {
    "duration": 6,
    "start_time": "2023-04-01T20:20:25.220Z"
   },
   {
    "duration": 142,
    "start_time": "2023-04-01T20:20:25.228Z"
   },
   {
    "duration": 22,
    "start_time": "2023-04-01T20:20:25.372Z"
   },
   {
    "duration": 79723,
    "start_time": "2023-04-01T20:20:25.396Z"
   },
   {
    "duration": 4928,
    "start_time": "2023-04-01T20:21:45.121Z"
   },
   {
    "duration": 3,
    "start_time": "2023-04-01T20:21:50.051Z"
   },
   {
    "duration": 162,
    "start_time": "2023-04-01T20:21:50.056Z"
   },
   {
    "duration": 363,
    "start_time": "2023-04-01T20:21:50.220Z"
   },
   {
    "duration": 69,
    "start_time": "2023-04-01T20:21:50.585Z"
   },
   {
    "duration": 202,
    "start_time": "2023-04-01T20:21:50.741Z"
   },
   {
    "duration": 83,
    "start_time": "2023-04-01T20:21:50.945Z"
   },
   {
    "duration": 0,
    "start_time": "2023-04-01T20:21:51.030Z"
   },
   {
    "duration": 1,
    "start_time": "2023-04-01T20:21:51.031Z"
   },
   {
    "duration": 99,
    "start_time": "2023-04-01T20:24:53.343Z"
   },
   {
    "duration": 285,
    "start_time": "2023-04-01T20:25:41.661Z"
   },
   {
    "duration": 95,
    "start_time": "2023-04-01T20:26:17.326Z"
   },
   {
    "duration": 95,
    "start_time": "2023-04-01T20:28:13.027Z"
   },
   {
    "duration": 57,
    "start_time": "2023-04-01T20:36:38.918Z"
   },
   {
    "duration": 101,
    "start_time": "2023-04-01T20:36:53.519Z"
   },
   {
    "duration": 212,
    "start_time": "2023-04-01T20:37:19.025Z"
   },
   {
    "duration": 94,
    "start_time": "2023-04-01T20:38:02.140Z"
   },
   {
    "duration": 138,
    "start_time": "2023-04-01T20:39:48.827Z"
   },
   {
    "duration": 114,
    "start_time": "2023-04-01T20:40:23.364Z"
   },
   {
    "duration": 152,
    "start_time": "2023-04-01T20:42:01.052Z"
   },
   {
    "duration": 120,
    "start_time": "2023-04-01T20:42:14.456Z"
   },
   {
    "duration": 126,
    "start_time": "2023-04-01T20:42:21.454Z"
   },
   {
    "duration": 119,
    "start_time": "2023-04-01T20:42:32.360Z"
   }
  ],
  "kernelspec": {
   "display_name": "Python 3 (ipykernel)",
   "language": "python",
   "name": "python3"
  },
  "language_info": {
   "codemirror_mode": {
    "name": "ipython",
    "version": 3
   },
   "file_extension": ".py",
   "mimetype": "text/x-python",
   "name": "python",
   "nbconvert_exporter": "python",
   "pygments_lexer": "ipython3",
   "version": "3.10.9"
  },
  "toc": {
   "base_numbering": 1,
   "nav_menu": {},
   "number_sections": true,
   "sideBar": true,
   "skip_h1_title": true,
   "title_cell": "Содержание",
   "title_sidebar": "Contents",
   "toc_cell": true,
   "toc_position": {
    "height": "calc(100% - 180px)",
    "left": "10px",
    "top": "150px",
    "width": "165px"
   },
   "toc_section_display": true,
   "toc_window_display": false
  }
 },
 "nbformat": 4,
 "nbformat_minor": 2
}
