{
 "cells": [
  {
   "cell_type": "markdown",
   "metadata": {
    "toc": true
   },
   "source": [
    "<h1>Содержание<span class=\"tocSkip\"></span></h1>\n",
    "<div class=\"toc\"><ul class=\"toc-item\"><li><span><a href=\"#Подготовка-данных\" data-toc-modified-id=\"Подготовка-данных-1\"><span class=\"toc-item-num\">1&nbsp;&nbsp;</span>Подготовка данных</a></span></li><li><span><a href=\"#Анализ-данных\" data-toc-modified-id=\"Анализ-данных-2\"><span class=\"toc-item-num\">2&nbsp;&nbsp;</span>Анализ данных</a></span></li><li><span><a href=\"#Модель\" data-toc-modified-id=\"Модель-3\"><span class=\"toc-item-num\">3&nbsp;&nbsp;</span>Модель</a></span></li><li><span><a href=\"#Чек-лист-готовности-проекта\" data-toc-modified-id=\"Чек-лист-готовности-проекта-4\"><span class=\"toc-item-num\">4&nbsp;&nbsp;</span>Чек-лист готовности проекта</a></span></li></ul></div>"
   ]
  },
  {
   "cell_type": "markdown",
   "metadata": {},
   "source": [
    "# Восстановление золота из руды"
   ]
  },
  {
   "cell_type": "markdown",
   "metadata": {},
   "source": [
    "Подготовьте прототип модели машинного обучения для «Цифры». Компания разрабатывает решения для эффективной работы промышленных предприятий.\n",
    "\n",
    "Модель должна предсказать коэффициент восстановления золота из золотосодержащей руды. Используйте данные с параметрами добычи и очистки. \n",
    "\n",
    "Модель поможет оптимизировать производство, чтобы не запускать предприятие с убыточными характеристиками.\n",
    "\n",
    "Вам нужно:\n",
    "\n",
    "1. Подготовить данные;\n",
    "2. Провести исследовательский анализ данных;\n",
    "3. Построить и обучить модель.\n",
    "\n",
    "Чтобы выполнить проект, обращайтесь к библиотекам *pandas*, *matplotlib* и *sklearn.* Вам поможет их документация."
   ]
  },
  {
   "cell_type": "markdown",
   "metadata": {},
   "source": [
    "## Подготовка данных"
   ]
  },
  {
   "cell_type": "code",
   "execution_count": 1,
   "metadata": {},
   "outputs": [
    {
     "data": {
      "text/html": [
       "<style>.container { width:90% !important; }</style>"
      ],
      "text/plain": [
       "<IPython.core.display.HTML object>"
      ]
     },
     "metadata": {},
     "output_type": "display_data"
    }
   ],
   "source": [
    "import pandas as pd\n",
    "from sklearn.model_selection import train_test_split,cross_val_score, GridSearchCV\n",
    "from sklearn.linear_model import LinearRegression\n",
    "from sklearn.preprocessing import StandardScaler\n",
    "from sklearn.tree import DecisionTreeRegressor\n",
    "from sklearn.metrics import accuracy_score, mean_absolute_error, mean_squared_error, r2_score, make_scorer\n",
    "from sklearn.dummy import DummyRegressor\n",
    "from scipy import stats as st\n",
    "import numpy as np\n",
    "from tqdm.notebook import tqdm\n",
    "import matplotlib.pyplot as plt\n",
    "import seaborn as sns\n",
    "from sklearn.utils import shuffle\n",
    "from sklearn.preprocessing import OrdinalEncoder \n",
    "from sklearn.ensemble import RandomForestRegressor\n",
    "import warnings\n",
    "warnings.filterwarnings('ignore')\n",
    "from IPython.core.display import display, HTML\n",
    "display(HTML(\"<style>.container { width:90% !important; }</style>\"))\n",
    "\n",
    "data_train = pd.read_csv('/datasets/gold_recovery_train_new.csv')\n",
    "data_test = pd.read_csv('/datasets/gold_recovery_test_new.csv')\n",
    "data_full = pd.read_csv('/datasets/gold_recovery_full_new.csv')"
   ]
  },
  {
   "cell_type": "markdown",
   "metadata": {},
   "source": [
    "Данные обучающая выборка"
   ]
  },
  {
   "cell_type": "code",
   "execution_count": 2,
   "metadata": {},
   "outputs": [
    {
     "data": {
      "text/plain": [
       "(14149, 87)"
      ]
     },
     "execution_count": 2,
     "metadata": {},
     "output_type": "execute_result"
    }
   ],
   "source": [
    "data_train.shape"
   ]
  },
  {
   "cell_type": "code",
   "execution_count": 3,
   "metadata": {},
   "outputs": [
    {
     "data": {
      "text/html": [
       "<div>\n",
       "<style scoped>\n",
       "    .dataframe tbody tr th:only-of-type {\n",
       "        vertical-align: middle;\n",
       "    }\n",
       "\n",
       "    .dataframe tbody tr th {\n",
       "        vertical-align: top;\n",
       "    }\n",
       "\n",
       "    .dataframe thead th {\n",
       "        text-align: right;\n",
       "    }\n",
       "</style>\n",
       "<table border=\"1\" class=\"dataframe\">\n",
       "  <thead>\n",
       "    <tr style=\"text-align: right;\">\n",
       "      <th></th>\n",
       "      <th>date</th>\n",
       "      <th>final.output.concentrate_ag</th>\n",
       "      <th>final.output.concentrate_pb</th>\n",
       "      <th>final.output.concentrate_sol</th>\n",
       "      <th>final.output.concentrate_au</th>\n",
       "      <th>final.output.recovery</th>\n",
       "      <th>final.output.tail_ag</th>\n",
       "      <th>final.output.tail_pb</th>\n",
       "      <th>final.output.tail_sol</th>\n",
       "      <th>final.output.tail_au</th>\n",
       "      <th>...</th>\n",
       "      <th>secondary_cleaner.state.floatbank4_a_air</th>\n",
       "      <th>secondary_cleaner.state.floatbank4_a_level</th>\n",
       "      <th>secondary_cleaner.state.floatbank4_b_air</th>\n",
       "      <th>secondary_cleaner.state.floatbank4_b_level</th>\n",
       "      <th>secondary_cleaner.state.floatbank5_a_air</th>\n",
       "      <th>secondary_cleaner.state.floatbank5_a_level</th>\n",
       "      <th>secondary_cleaner.state.floatbank5_b_air</th>\n",
       "      <th>secondary_cleaner.state.floatbank5_b_level</th>\n",
       "      <th>secondary_cleaner.state.floatbank6_a_air</th>\n",
       "      <th>secondary_cleaner.state.floatbank6_a_level</th>\n",
       "    </tr>\n",
       "  </thead>\n",
       "  <tbody>\n",
       "    <tr>\n",
       "      <th>0</th>\n",
       "      <td>2016-01-15 00:00:00</td>\n",
       "      <td>6.055403</td>\n",
       "      <td>9.889648</td>\n",
       "      <td>5.507324</td>\n",
       "      <td>42.192020</td>\n",
       "      <td>70.541216</td>\n",
       "      <td>10.411962</td>\n",
       "      <td>0.895447</td>\n",
       "      <td>16.904297</td>\n",
       "      <td>2.143149</td>\n",
       "      <td>...</td>\n",
       "      <td>14.016835</td>\n",
       "      <td>-502.488007</td>\n",
       "      <td>12.099931</td>\n",
       "      <td>-504.715942</td>\n",
       "      <td>9.925633</td>\n",
       "      <td>-498.310211</td>\n",
       "      <td>8.079666</td>\n",
       "      <td>-500.470978</td>\n",
       "      <td>14.151341</td>\n",
       "      <td>-605.841980</td>\n",
       "    </tr>\n",
       "    <tr>\n",
       "      <th>1</th>\n",
       "      <td>2016-01-15 01:00:00</td>\n",
       "      <td>6.029369</td>\n",
       "      <td>9.968944</td>\n",
       "      <td>5.257781</td>\n",
       "      <td>42.701629</td>\n",
       "      <td>69.266198</td>\n",
       "      <td>10.462676</td>\n",
       "      <td>0.927452</td>\n",
       "      <td>16.634514</td>\n",
       "      <td>2.224930</td>\n",
       "      <td>...</td>\n",
       "      <td>13.992281</td>\n",
       "      <td>-505.503262</td>\n",
       "      <td>11.950531</td>\n",
       "      <td>-501.331529</td>\n",
       "      <td>10.039245</td>\n",
       "      <td>-500.169983</td>\n",
       "      <td>7.984757</td>\n",
       "      <td>-500.582168</td>\n",
       "      <td>13.998353</td>\n",
       "      <td>-599.787184</td>\n",
       "    </tr>\n",
       "    <tr>\n",
       "      <th>2</th>\n",
       "      <td>2016-01-15 02:00:00</td>\n",
       "      <td>6.055926</td>\n",
       "      <td>10.213995</td>\n",
       "      <td>5.383759</td>\n",
       "      <td>42.657501</td>\n",
       "      <td>68.116445</td>\n",
       "      <td>10.507046</td>\n",
       "      <td>0.953716</td>\n",
       "      <td>16.208849</td>\n",
       "      <td>2.257889</td>\n",
       "      <td>...</td>\n",
       "      <td>14.015015</td>\n",
       "      <td>-502.520901</td>\n",
       "      <td>11.912783</td>\n",
       "      <td>-501.133383</td>\n",
       "      <td>10.070913</td>\n",
       "      <td>-500.129135</td>\n",
       "      <td>8.013877</td>\n",
       "      <td>-500.517572</td>\n",
       "      <td>14.028663</td>\n",
       "      <td>-601.427363</td>\n",
       "    </tr>\n",
       "    <tr>\n",
       "      <th>3</th>\n",
       "      <td>2016-01-15 03:00:00</td>\n",
       "      <td>6.047977</td>\n",
       "      <td>9.977019</td>\n",
       "      <td>4.858634</td>\n",
       "      <td>42.689819</td>\n",
       "      <td>68.347543</td>\n",
       "      <td>10.422762</td>\n",
       "      <td>0.883763</td>\n",
       "      <td>16.532835</td>\n",
       "      <td>2.146849</td>\n",
       "      <td>...</td>\n",
       "      <td>14.036510</td>\n",
       "      <td>-500.857308</td>\n",
       "      <td>11.999550</td>\n",
       "      <td>-501.193686</td>\n",
       "      <td>9.970366</td>\n",
       "      <td>-499.201640</td>\n",
       "      <td>7.977324</td>\n",
       "      <td>-500.255908</td>\n",
       "      <td>14.005551</td>\n",
       "      <td>-599.996129</td>\n",
       "    </tr>\n",
       "    <tr>\n",
       "      <th>4</th>\n",
       "      <td>2016-01-15 04:00:00</td>\n",
       "      <td>6.148599</td>\n",
       "      <td>10.142511</td>\n",
       "      <td>4.939416</td>\n",
       "      <td>42.774141</td>\n",
       "      <td>66.927016</td>\n",
       "      <td>10.360302</td>\n",
       "      <td>0.792826</td>\n",
       "      <td>16.525686</td>\n",
       "      <td>2.055292</td>\n",
       "      <td>...</td>\n",
       "      <td>14.027298</td>\n",
       "      <td>-499.838632</td>\n",
       "      <td>11.953070</td>\n",
       "      <td>-501.053894</td>\n",
       "      <td>9.925709</td>\n",
       "      <td>-501.686727</td>\n",
       "      <td>7.894242</td>\n",
       "      <td>-500.356035</td>\n",
       "      <td>13.996647</td>\n",
       "      <td>-601.496691</td>\n",
       "    </tr>\n",
       "  </tbody>\n",
       "</table>\n",
       "<p>5 rows × 87 columns</p>\n",
       "</div>"
      ],
      "text/plain": [
       "                  date  final.output.concentrate_ag  \\\n",
       "0  2016-01-15 00:00:00                     6.055403   \n",
       "1  2016-01-15 01:00:00                     6.029369   \n",
       "2  2016-01-15 02:00:00                     6.055926   \n",
       "3  2016-01-15 03:00:00                     6.047977   \n",
       "4  2016-01-15 04:00:00                     6.148599   \n",
       "\n",
       "   final.output.concentrate_pb  final.output.concentrate_sol  \\\n",
       "0                     9.889648                      5.507324   \n",
       "1                     9.968944                      5.257781   \n",
       "2                    10.213995                      5.383759   \n",
       "3                     9.977019                      4.858634   \n",
       "4                    10.142511                      4.939416   \n",
       "\n",
       "   final.output.concentrate_au  final.output.recovery  final.output.tail_ag  \\\n",
       "0                    42.192020              70.541216             10.411962   \n",
       "1                    42.701629              69.266198             10.462676   \n",
       "2                    42.657501              68.116445             10.507046   \n",
       "3                    42.689819              68.347543             10.422762   \n",
       "4                    42.774141              66.927016             10.360302   \n",
       "\n",
       "   final.output.tail_pb  final.output.tail_sol  final.output.tail_au  ...  \\\n",
       "0              0.895447              16.904297              2.143149  ...   \n",
       "1              0.927452              16.634514              2.224930  ...   \n",
       "2              0.953716              16.208849              2.257889  ...   \n",
       "3              0.883763              16.532835              2.146849  ...   \n",
       "4              0.792826              16.525686              2.055292  ...   \n",
       "\n",
       "   secondary_cleaner.state.floatbank4_a_air  \\\n",
       "0                                 14.016835   \n",
       "1                                 13.992281   \n",
       "2                                 14.015015   \n",
       "3                                 14.036510   \n",
       "4                                 14.027298   \n",
       "\n",
       "   secondary_cleaner.state.floatbank4_a_level  \\\n",
       "0                                 -502.488007   \n",
       "1                                 -505.503262   \n",
       "2                                 -502.520901   \n",
       "3                                 -500.857308   \n",
       "4                                 -499.838632   \n",
       "\n",
       "   secondary_cleaner.state.floatbank4_b_air  \\\n",
       "0                                 12.099931   \n",
       "1                                 11.950531   \n",
       "2                                 11.912783   \n",
       "3                                 11.999550   \n",
       "4                                 11.953070   \n",
       "\n",
       "   secondary_cleaner.state.floatbank4_b_level  \\\n",
       "0                                 -504.715942   \n",
       "1                                 -501.331529   \n",
       "2                                 -501.133383   \n",
       "3                                 -501.193686   \n",
       "4                                 -501.053894   \n",
       "\n",
       "   secondary_cleaner.state.floatbank5_a_air  \\\n",
       "0                                  9.925633   \n",
       "1                                 10.039245   \n",
       "2                                 10.070913   \n",
       "3                                  9.970366   \n",
       "4                                  9.925709   \n",
       "\n",
       "   secondary_cleaner.state.floatbank5_a_level  \\\n",
       "0                                 -498.310211   \n",
       "1                                 -500.169983   \n",
       "2                                 -500.129135   \n",
       "3                                 -499.201640   \n",
       "4                                 -501.686727   \n",
       "\n",
       "   secondary_cleaner.state.floatbank5_b_air  \\\n",
       "0                                  8.079666   \n",
       "1                                  7.984757   \n",
       "2                                  8.013877   \n",
       "3                                  7.977324   \n",
       "4                                  7.894242   \n",
       "\n",
       "   secondary_cleaner.state.floatbank5_b_level  \\\n",
       "0                                 -500.470978   \n",
       "1                                 -500.582168   \n",
       "2                                 -500.517572   \n",
       "3                                 -500.255908   \n",
       "4                                 -500.356035   \n",
       "\n",
       "   secondary_cleaner.state.floatbank6_a_air  \\\n",
       "0                                 14.151341   \n",
       "1                                 13.998353   \n",
       "2                                 14.028663   \n",
       "3                                 14.005551   \n",
       "4                                 13.996647   \n",
       "\n",
       "   secondary_cleaner.state.floatbank6_a_level  \n",
       "0                                 -605.841980  \n",
       "1                                 -599.787184  \n",
       "2                                 -601.427363  \n",
       "3                                 -599.996129  \n",
       "4                                 -601.496691  \n",
       "\n",
       "[5 rows x 87 columns]"
      ]
     },
     "execution_count": 3,
     "metadata": {},
     "output_type": "execute_result"
    }
   ],
   "source": [
    "data_train.head()"
   ]
  },
  {
   "cell_type": "code",
   "execution_count": 4,
   "metadata": {
    "scrolled": true
   },
   "outputs": [
    {
     "name": "stdout",
     "output_type": "stream",
     "text": [
      "<class 'pandas.core.frame.DataFrame'>\n",
      "RangeIndex: 14149 entries, 0 to 14148\n",
      "Data columns (total 87 columns):\n",
      " #   Column                                              Non-Null Count  Dtype  \n",
      "---  ------                                              --------------  -----  \n",
      " 0   date                                                14149 non-null  object \n",
      " 1   final.output.concentrate_ag                         14148 non-null  float64\n",
      " 2   final.output.concentrate_pb                         14148 non-null  float64\n",
      " 3   final.output.concentrate_sol                        13938 non-null  float64\n",
      " 4   final.output.concentrate_au                         14149 non-null  float64\n",
      " 5   final.output.recovery                               14149 non-null  float64\n",
      " 6   final.output.tail_ag                                14149 non-null  float64\n",
      " 7   final.output.tail_pb                                14049 non-null  float64\n",
      " 8   final.output.tail_sol                               14144 non-null  float64\n",
      " 9   final.output.tail_au                                14149 non-null  float64\n",
      " 10  primary_cleaner.input.sulfate                       14129 non-null  float64\n",
      " 11  primary_cleaner.input.depressant                    14117 non-null  float64\n",
      " 12  primary_cleaner.input.feed_size                     14149 non-null  float64\n",
      " 13  primary_cleaner.input.xanthate                      14049 non-null  float64\n",
      " 14  primary_cleaner.output.concentrate_ag               14149 non-null  float64\n",
      " 15  primary_cleaner.output.concentrate_pb               14063 non-null  float64\n",
      " 16  primary_cleaner.output.concentrate_sol              13863 non-null  float64\n",
      " 17  primary_cleaner.output.concentrate_au               14149 non-null  float64\n",
      " 18  primary_cleaner.output.tail_ag                      14148 non-null  float64\n",
      " 19  primary_cleaner.output.tail_pb                      14134 non-null  float64\n",
      " 20  primary_cleaner.output.tail_sol                     14103 non-null  float64\n",
      " 21  primary_cleaner.output.tail_au                      14149 non-null  float64\n",
      " 22  primary_cleaner.state.floatbank8_a_air              14145 non-null  float64\n",
      " 23  primary_cleaner.state.floatbank8_a_level            14148 non-null  float64\n",
      " 24  primary_cleaner.state.floatbank8_b_air              14145 non-null  float64\n",
      " 25  primary_cleaner.state.floatbank8_b_level            14148 non-null  float64\n",
      " 26  primary_cleaner.state.floatbank8_c_air              14147 non-null  float64\n",
      " 27  primary_cleaner.state.floatbank8_c_level            14148 non-null  float64\n",
      " 28  primary_cleaner.state.floatbank8_d_air              14146 non-null  float64\n",
      " 29  primary_cleaner.state.floatbank8_d_level            14148 non-null  float64\n",
      " 30  rougher.calculation.sulfate_to_au_concentrate       14148 non-null  float64\n",
      " 31  rougher.calculation.floatbank10_sulfate_to_au_feed  14148 non-null  float64\n",
      " 32  rougher.calculation.floatbank11_sulfate_to_au_feed  14148 non-null  float64\n",
      " 33  rougher.calculation.au_pb_ratio                     14149 non-null  float64\n",
      " 34  rougher.input.feed_ag                               14149 non-null  float64\n",
      " 35  rougher.input.feed_pb                               14049 non-null  float64\n",
      " 36  rougher.input.feed_rate                             14141 non-null  float64\n",
      " 37  rougher.input.feed_size                             14005 non-null  float64\n",
      " 38  rougher.input.feed_sol                              14071 non-null  float64\n",
      " 39  rougher.input.feed_au                               14149 non-null  float64\n",
      " 40  rougher.input.floatbank10_sulfate                   14120 non-null  float64\n",
      " 41  rougher.input.floatbank10_xanthate                  14141 non-null  float64\n",
      " 42  rougher.input.floatbank11_sulfate                   14113 non-null  float64\n",
      " 43  rougher.input.floatbank11_xanthate                  13721 non-null  float64\n",
      " 44  rougher.output.concentrate_ag                       14149 non-null  float64\n",
      " 45  rougher.output.concentrate_pb                       14149 non-null  float64\n",
      " 46  rougher.output.concentrate_sol                      14127 non-null  float64\n",
      " 47  rougher.output.concentrate_au                       14149 non-null  float64\n",
      " 48  rougher.output.recovery                             14149 non-null  float64\n",
      " 49  rougher.output.tail_ag                              14148 non-null  float64\n",
      " 50  rougher.output.tail_pb                              14149 non-null  float64\n",
      " 51  rougher.output.tail_sol                             14149 non-null  float64\n",
      " 52  rougher.output.tail_au                              14149 non-null  float64\n",
      " 53  rougher.state.floatbank10_a_air                     14148 non-null  float64\n",
      " 54  rougher.state.floatbank10_a_level                   14148 non-null  float64\n",
      " 55  rougher.state.floatbank10_b_air                     14148 non-null  float64\n",
      " 56  rougher.state.floatbank10_b_level                   14148 non-null  float64\n",
      " 57  rougher.state.floatbank10_c_air                     14148 non-null  float64\n",
      " 58  rougher.state.floatbank10_c_level                   14148 non-null  float64\n",
      " 59  rougher.state.floatbank10_d_air                     14149 non-null  float64\n",
      " 60  rougher.state.floatbank10_d_level                   14149 non-null  float64\n",
      " 61  rougher.state.floatbank10_e_air                     13713 non-null  float64\n",
      " 62  rougher.state.floatbank10_e_level                   14149 non-null  float64\n",
      " 63  rougher.state.floatbank10_f_air                     14149 non-null  float64\n",
      " 64  rougher.state.floatbank10_f_level                   14149 non-null  float64\n",
      " 65  secondary_cleaner.output.tail_ag                    14147 non-null  float64\n",
      " 66  secondary_cleaner.output.tail_pb                    14139 non-null  float64\n",
      " 67  secondary_cleaner.output.tail_sol                   12544 non-null  float64\n",
      " 68  secondary_cleaner.output.tail_au                    14149 non-null  float64\n",
      " 69  secondary_cleaner.state.floatbank2_a_air            13932 non-null  float64\n",
      " 70  secondary_cleaner.state.floatbank2_a_level          14148 non-null  float64\n",
      " 71  secondary_cleaner.state.floatbank2_b_air            14128 non-null  float64\n",
      " 72  secondary_cleaner.state.floatbank2_b_level          14148 non-null  float64\n",
      " 73  secondary_cleaner.state.floatbank3_a_air            14145 non-null  float64\n",
      " 74  secondary_cleaner.state.floatbank3_a_level          14148 non-null  float64\n",
      " 75  secondary_cleaner.state.floatbank3_b_air            14148 non-null  float64\n",
      " 76  secondary_cleaner.state.floatbank3_b_level          14148 non-null  float64\n",
      " 77  secondary_cleaner.state.floatbank4_a_air            14143 non-null  float64\n",
      " 78  secondary_cleaner.state.floatbank4_a_level          14148 non-null  float64\n",
      " 79  secondary_cleaner.state.floatbank4_b_air            14148 non-null  float64\n",
      " 80  secondary_cleaner.state.floatbank4_b_level          14148 non-null  float64\n",
      " 81  secondary_cleaner.state.floatbank5_a_air            14148 non-null  float64\n",
      " 82  secondary_cleaner.state.floatbank5_a_level          14148 non-null  float64\n",
      " 83  secondary_cleaner.state.floatbank5_b_air            14148 non-null  float64\n",
      " 84  secondary_cleaner.state.floatbank5_b_level          14148 non-null  float64\n",
      " 85  secondary_cleaner.state.floatbank6_a_air            14147 non-null  float64\n",
      " 86  secondary_cleaner.state.floatbank6_a_level          14148 non-null  float64\n",
      "dtypes: float64(86), object(1)\n",
      "memory usage: 9.4+ MB\n"
     ]
    }
   ],
   "source": [
    "data_train.info()"
   ]
  },
  {
   "cell_type": "code",
   "execution_count": 5,
   "metadata": {},
   "outputs": [
    {
     "data": {
      "text/plain": [
       "(5290, 53)"
      ]
     },
     "execution_count": 5,
     "metadata": {},
     "output_type": "execute_result"
    }
   ],
   "source": [
    "data_test.shape"
   ]
  },
  {
   "cell_type": "code",
   "execution_count": 6,
   "metadata": {
    "scrolled": true
   },
   "outputs": [
    {
     "data": {
      "text/html": [
       "<div>\n",
       "<style scoped>\n",
       "    .dataframe tbody tr th:only-of-type {\n",
       "        vertical-align: middle;\n",
       "    }\n",
       "\n",
       "    .dataframe tbody tr th {\n",
       "        vertical-align: top;\n",
       "    }\n",
       "\n",
       "    .dataframe thead th {\n",
       "        text-align: right;\n",
       "    }\n",
       "</style>\n",
       "<table border=\"1\" class=\"dataframe\">\n",
       "  <thead>\n",
       "    <tr style=\"text-align: right;\">\n",
       "      <th></th>\n",
       "      <th>date</th>\n",
       "      <th>primary_cleaner.input.sulfate</th>\n",
       "      <th>primary_cleaner.input.depressant</th>\n",
       "      <th>primary_cleaner.input.feed_size</th>\n",
       "      <th>primary_cleaner.input.xanthate</th>\n",
       "      <th>primary_cleaner.state.floatbank8_a_air</th>\n",
       "      <th>primary_cleaner.state.floatbank8_a_level</th>\n",
       "      <th>primary_cleaner.state.floatbank8_b_air</th>\n",
       "      <th>primary_cleaner.state.floatbank8_b_level</th>\n",
       "      <th>primary_cleaner.state.floatbank8_c_air</th>\n",
       "      <th>...</th>\n",
       "      <th>secondary_cleaner.state.floatbank4_a_air</th>\n",
       "      <th>secondary_cleaner.state.floatbank4_a_level</th>\n",
       "      <th>secondary_cleaner.state.floatbank4_b_air</th>\n",
       "      <th>secondary_cleaner.state.floatbank4_b_level</th>\n",
       "      <th>secondary_cleaner.state.floatbank5_a_air</th>\n",
       "      <th>secondary_cleaner.state.floatbank5_a_level</th>\n",
       "      <th>secondary_cleaner.state.floatbank5_b_air</th>\n",
       "      <th>secondary_cleaner.state.floatbank5_b_level</th>\n",
       "      <th>secondary_cleaner.state.floatbank6_a_air</th>\n",
       "      <th>secondary_cleaner.state.floatbank6_a_level</th>\n",
       "    </tr>\n",
       "  </thead>\n",
       "  <tbody>\n",
       "    <tr>\n",
       "      <th>0</th>\n",
       "      <td>2016-09-01 00:59:59</td>\n",
       "      <td>210.800909</td>\n",
       "      <td>14.993118</td>\n",
       "      <td>8.080000</td>\n",
       "      <td>1.005021</td>\n",
       "      <td>1398.981301</td>\n",
       "      <td>-500.225577</td>\n",
       "      <td>1399.144926</td>\n",
       "      <td>-499.919735</td>\n",
       "      <td>1400.102998</td>\n",
       "      <td>...</td>\n",
       "      <td>12.023554</td>\n",
       "      <td>-497.795834</td>\n",
       "      <td>8.016656</td>\n",
       "      <td>-501.289139</td>\n",
       "      <td>7.946562</td>\n",
       "      <td>-432.317850</td>\n",
       "      <td>4.872511</td>\n",
       "      <td>-500.037437</td>\n",
       "      <td>26.705889</td>\n",
       "      <td>-499.709414</td>\n",
       "    </tr>\n",
       "    <tr>\n",
       "      <th>1</th>\n",
       "      <td>2016-09-01 01:59:59</td>\n",
       "      <td>215.392455</td>\n",
       "      <td>14.987471</td>\n",
       "      <td>8.080000</td>\n",
       "      <td>0.990469</td>\n",
       "      <td>1398.777912</td>\n",
       "      <td>-500.057435</td>\n",
       "      <td>1398.055362</td>\n",
       "      <td>-499.778182</td>\n",
       "      <td>1396.151033</td>\n",
       "      <td>...</td>\n",
       "      <td>12.058140</td>\n",
       "      <td>-498.695773</td>\n",
       "      <td>8.130979</td>\n",
       "      <td>-499.634209</td>\n",
       "      <td>7.958270</td>\n",
       "      <td>-525.839648</td>\n",
       "      <td>4.878850</td>\n",
       "      <td>-500.162375</td>\n",
       "      <td>25.019940</td>\n",
       "      <td>-499.819438</td>\n",
       "    </tr>\n",
       "    <tr>\n",
       "      <th>2</th>\n",
       "      <td>2016-09-01 02:59:59</td>\n",
       "      <td>215.259946</td>\n",
       "      <td>12.884934</td>\n",
       "      <td>7.786667</td>\n",
       "      <td>0.996043</td>\n",
       "      <td>1398.493666</td>\n",
       "      <td>-500.868360</td>\n",
       "      <td>1398.860436</td>\n",
       "      <td>-499.764529</td>\n",
       "      <td>1398.075709</td>\n",
       "      <td>...</td>\n",
       "      <td>11.962366</td>\n",
       "      <td>-498.767484</td>\n",
       "      <td>8.096893</td>\n",
       "      <td>-500.827423</td>\n",
       "      <td>8.071056</td>\n",
       "      <td>-500.801673</td>\n",
       "      <td>4.905125</td>\n",
       "      <td>-499.828510</td>\n",
       "      <td>24.994862</td>\n",
       "      <td>-500.622559</td>\n",
       "    </tr>\n",
       "    <tr>\n",
       "      <th>3</th>\n",
       "      <td>2016-09-01 03:59:59</td>\n",
       "      <td>215.336236</td>\n",
       "      <td>12.006805</td>\n",
       "      <td>7.640000</td>\n",
       "      <td>0.863514</td>\n",
       "      <td>1399.618111</td>\n",
       "      <td>-498.863574</td>\n",
       "      <td>1397.440120</td>\n",
       "      <td>-499.211024</td>\n",
       "      <td>1400.129303</td>\n",
       "      <td>...</td>\n",
       "      <td>12.033091</td>\n",
       "      <td>-498.350935</td>\n",
       "      <td>8.074946</td>\n",
       "      <td>-499.474407</td>\n",
       "      <td>7.897085</td>\n",
       "      <td>-500.868509</td>\n",
       "      <td>4.931400</td>\n",
       "      <td>-499.963623</td>\n",
       "      <td>24.948919</td>\n",
       "      <td>-498.709987</td>\n",
       "    </tr>\n",
       "    <tr>\n",
       "      <th>4</th>\n",
       "      <td>2016-09-01 04:59:59</td>\n",
       "      <td>199.099327</td>\n",
       "      <td>10.682530</td>\n",
       "      <td>7.530000</td>\n",
       "      <td>0.805575</td>\n",
       "      <td>1401.268123</td>\n",
       "      <td>-500.808305</td>\n",
       "      <td>1398.128818</td>\n",
       "      <td>-499.504543</td>\n",
       "      <td>1402.172226</td>\n",
       "      <td>...</td>\n",
       "      <td>12.025367</td>\n",
       "      <td>-500.786497</td>\n",
       "      <td>8.054678</td>\n",
       "      <td>-500.397500</td>\n",
       "      <td>8.107890</td>\n",
       "      <td>-509.526725</td>\n",
       "      <td>4.957674</td>\n",
       "      <td>-500.360026</td>\n",
       "      <td>25.003331</td>\n",
       "      <td>-500.856333</td>\n",
       "    </tr>\n",
       "  </tbody>\n",
       "</table>\n",
       "<p>5 rows × 53 columns</p>\n",
       "</div>"
      ],
      "text/plain": [
       "                  date  primary_cleaner.input.sulfate  \\\n",
       "0  2016-09-01 00:59:59                     210.800909   \n",
       "1  2016-09-01 01:59:59                     215.392455   \n",
       "2  2016-09-01 02:59:59                     215.259946   \n",
       "3  2016-09-01 03:59:59                     215.336236   \n",
       "4  2016-09-01 04:59:59                     199.099327   \n",
       "\n",
       "   primary_cleaner.input.depressant  primary_cleaner.input.feed_size  \\\n",
       "0                         14.993118                         8.080000   \n",
       "1                         14.987471                         8.080000   \n",
       "2                         12.884934                         7.786667   \n",
       "3                         12.006805                         7.640000   \n",
       "4                         10.682530                         7.530000   \n",
       "\n",
       "   primary_cleaner.input.xanthate  primary_cleaner.state.floatbank8_a_air  \\\n",
       "0                        1.005021                             1398.981301   \n",
       "1                        0.990469                             1398.777912   \n",
       "2                        0.996043                             1398.493666   \n",
       "3                        0.863514                             1399.618111   \n",
       "4                        0.805575                             1401.268123   \n",
       "\n",
       "   primary_cleaner.state.floatbank8_a_level  \\\n",
       "0                               -500.225577   \n",
       "1                               -500.057435   \n",
       "2                               -500.868360   \n",
       "3                               -498.863574   \n",
       "4                               -500.808305   \n",
       "\n",
       "   primary_cleaner.state.floatbank8_b_air  \\\n",
       "0                             1399.144926   \n",
       "1                             1398.055362   \n",
       "2                             1398.860436   \n",
       "3                             1397.440120   \n",
       "4                             1398.128818   \n",
       "\n",
       "   primary_cleaner.state.floatbank8_b_level  \\\n",
       "0                               -499.919735   \n",
       "1                               -499.778182   \n",
       "2                               -499.764529   \n",
       "3                               -499.211024   \n",
       "4                               -499.504543   \n",
       "\n",
       "   primary_cleaner.state.floatbank8_c_air  ...  \\\n",
       "0                             1400.102998  ...   \n",
       "1                             1396.151033  ...   \n",
       "2                             1398.075709  ...   \n",
       "3                             1400.129303  ...   \n",
       "4                             1402.172226  ...   \n",
       "\n",
       "   secondary_cleaner.state.floatbank4_a_air  \\\n",
       "0                                 12.023554   \n",
       "1                                 12.058140   \n",
       "2                                 11.962366   \n",
       "3                                 12.033091   \n",
       "4                                 12.025367   \n",
       "\n",
       "   secondary_cleaner.state.floatbank4_a_level  \\\n",
       "0                                 -497.795834   \n",
       "1                                 -498.695773   \n",
       "2                                 -498.767484   \n",
       "3                                 -498.350935   \n",
       "4                                 -500.786497   \n",
       "\n",
       "   secondary_cleaner.state.floatbank4_b_air  \\\n",
       "0                                  8.016656   \n",
       "1                                  8.130979   \n",
       "2                                  8.096893   \n",
       "3                                  8.074946   \n",
       "4                                  8.054678   \n",
       "\n",
       "   secondary_cleaner.state.floatbank4_b_level  \\\n",
       "0                                 -501.289139   \n",
       "1                                 -499.634209   \n",
       "2                                 -500.827423   \n",
       "3                                 -499.474407   \n",
       "4                                 -500.397500   \n",
       "\n",
       "   secondary_cleaner.state.floatbank5_a_air  \\\n",
       "0                                  7.946562   \n",
       "1                                  7.958270   \n",
       "2                                  8.071056   \n",
       "3                                  7.897085   \n",
       "4                                  8.107890   \n",
       "\n",
       "   secondary_cleaner.state.floatbank5_a_level  \\\n",
       "0                                 -432.317850   \n",
       "1                                 -525.839648   \n",
       "2                                 -500.801673   \n",
       "3                                 -500.868509   \n",
       "4                                 -509.526725   \n",
       "\n",
       "   secondary_cleaner.state.floatbank5_b_air  \\\n",
       "0                                  4.872511   \n",
       "1                                  4.878850   \n",
       "2                                  4.905125   \n",
       "3                                  4.931400   \n",
       "4                                  4.957674   \n",
       "\n",
       "   secondary_cleaner.state.floatbank5_b_level  \\\n",
       "0                                 -500.037437   \n",
       "1                                 -500.162375   \n",
       "2                                 -499.828510   \n",
       "3                                 -499.963623   \n",
       "4                                 -500.360026   \n",
       "\n",
       "   secondary_cleaner.state.floatbank6_a_air  \\\n",
       "0                                 26.705889   \n",
       "1                                 25.019940   \n",
       "2                                 24.994862   \n",
       "3                                 24.948919   \n",
       "4                                 25.003331   \n",
       "\n",
       "   secondary_cleaner.state.floatbank6_a_level  \n",
       "0                                 -499.709414  \n",
       "1                                 -499.819438  \n",
       "2                                 -500.622559  \n",
       "3                                 -498.709987  \n",
       "4                                 -500.856333  \n",
       "\n",
       "[5 rows x 53 columns]"
      ]
     },
     "execution_count": 6,
     "metadata": {},
     "output_type": "execute_result"
    }
   ],
   "source": [
    "data_test.head()"
   ]
  },
  {
   "cell_type": "code",
   "execution_count": 7,
   "metadata": {
    "scrolled": true
   },
   "outputs": [
    {
     "name": "stdout",
     "output_type": "stream",
     "text": [
      "<class 'pandas.core.frame.DataFrame'>\n",
      "RangeIndex: 5290 entries, 0 to 5289\n",
      "Data columns (total 53 columns):\n",
      " #   Column                                      Non-Null Count  Dtype  \n",
      "---  ------                                      --------------  -----  \n",
      " 0   date                                        5290 non-null   object \n",
      " 1   primary_cleaner.input.sulfate               5286 non-null   float64\n",
      " 2   primary_cleaner.input.depressant            5285 non-null   float64\n",
      " 3   primary_cleaner.input.feed_size             5290 non-null   float64\n",
      " 4   primary_cleaner.input.xanthate              5286 non-null   float64\n",
      " 5   primary_cleaner.state.floatbank8_a_air      5290 non-null   float64\n",
      " 6   primary_cleaner.state.floatbank8_a_level    5290 non-null   float64\n",
      " 7   primary_cleaner.state.floatbank8_b_air      5290 non-null   float64\n",
      " 8   primary_cleaner.state.floatbank8_b_level    5290 non-null   float64\n",
      " 9   primary_cleaner.state.floatbank8_c_air      5290 non-null   float64\n",
      " 10  primary_cleaner.state.floatbank8_c_level    5290 non-null   float64\n",
      " 11  primary_cleaner.state.floatbank8_d_air      5290 non-null   float64\n",
      " 12  primary_cleaner.state.floatbank8_d_level    5290 non-null   float64\n",
      " 13  rougher.input.feed_ag                       5290 non-null   float64\n",
      " 14  rougher.input.feed_pb                       5290 non-null   float64\n",
      " 15  rougher.input.feed_rate                     5287 non-null   float64\n",
      " 16  rougher.input.feed_size                     5289 non-null   float64\n",
      " 17  rougher.input.feed_sol                      5269 non-null   float64\n",
      " 18  rougher.input.feed_au                       5290 non-null   float64\n",
      " 19  rougher.input.floatbank10_sulfate           5285 non-null   float64\n",
      " 20  rougher.input.floatbank10_xanthate          5290 non-null   float64\n",
      " 21  rougher.input.floatbank11_sulfate           5282 non-null   float64\n",
      " 22  rougher.input.floatbank11_xanthate          5265 non-null   float64\n",
      " 23  rougher.state.floatbank10_a_air             5290 non-null   float64\n",
      " 24  rougher.state.floatbank10_a_level           5290 non-null   float64\n",
      " 25  rougher.state.floatbank10_b_air             5290 non-null   float64\n",
      " 26  rougher.state.floatbank10_b_level           5290 non-null   float64\n",
      " 27  rougher.state.floatbank10_c_air             5290 non-null   float64\n",
      " 28  rougher.state.floatbank10_c_level           5290 non-null   float64\n",
      " 29  rougher.state.floatbank10_d_air             5290 non-null   float64\n",
      " 30  rougher.state.floatbank10_d_level           5290 non-null   float64\n",
      " 31  rougher.state.floatbank10_e_air             5290 non-null   float64\n",
      " 32  rougher.state.floatbank10_e_level           5290 non-null   float64\n",
      " 33  rougher.state.floatbank10_f_air             5290 non-null   float64\n",
      " 34  rougher.state.floatbank10_f_level           5290 non-null   float64\n",
      " 35  secondary_cleaner.state.floatbank2_a_air    5287 non-null   float64\n",
      " 36  secondary_cleaner.state.floatbank2_a_level  5290 non-null   float64\n",
      " 37  secondary_cleaner.state.floatbank2_b_air    5288 non-null   float64\n",
      " 38  secondary_cleaner.state.floatbank2_b_level  5290 non-null   float64\n",
      " 39  secondary_cleaner.state.floatbank3_a_air    5281 non-null   float64\n",
      " 40  secondary_cleaner.state.floatbank3_a_level  5290 non-null   float64\n",
      " 41  secondary_cleaner.state.floatbank3_b_air    5290 non-null   float64\n",
      " 42  secondary_cleaner.state.floatbank3_b_level  5290 non-null   float64\n",
      " 43  secondary_cleaner.state.floatbank4_a_air    5290 non-null   float64\n",
      " 44  secondary_cleaner.state.floatbank4_a_level  5290 non-null   float64\n",
      " 45  secondary_cleaner.state.floatbank4_b_air    5290 non-null   float64\n",
      " 46  secondary_cleaner.state.floatbank4_b_level  5290 non-null   float64\n",
      " 47  secondary_cleaner.state.floatbank5_a_air    5290 non-null   float64\n",
      " 48  secondary_cleaner.state.floatbank5_a_level  5290 non-null   float64\n",
      " 49  secondary_cleaner.state.floatbank5_b_air    5290 non-null   float64\n",
      " 50  secondary_cleaner.state.floatbank5_b_level  5290 non-null   float64\n",
      " 51  secondary_cleaner.state.floatbank6_a_air    5290 non-null   float64\n",
      " 52  secondary_cleaner.state.floatbank6_a_level  5290 non-null   float64\n",
      "dtypes: float64(52), object(1)\n",
      "memory usage: 2.1+ MB\n"
     ]
    }
   ],
   "source": [
    "data_test.info()"
   ]
  },
  {
   "cell_type": "code",
   "execution_count": 8,
   "metadata": {},
   "outputs": [
    {
     "data": {
      "text/plain": [
       "(19439, 87)"
      ]
     },
     "execution_count": 8,
     "metadata": {},
     "output_type": "execute_result"
    }
   ],
   "source": [
    "data_full.shape"
   ]
  },
  {
   "cell_type": "code",
   "execution_count": 9,
   "metadata": {},
   "outputs": [
    {
     "data": {
      "text/html": [
       "<div>\n",
       "<style scoped>\n",
       "    .dataframe tbody tr th:only-of-type {\n",
       "        vertical-align: middle;\n",
       "    }\n",
       "\n",
       "    .dataframe tbody tr th {\n",
       "        vertical-align: top;\n",
       "    }\n",
       "\n",
       "    .dataframe thead th {\n",
       "        text-align: right;\n",
       "    }\n",
       "</style>\n",
       "<table border=\"1\" class=\"dataframe\">\n",
       "  <thead>\n",
       "    <tr style=\"text-align: right;\">\n",
       "      <th></th>\n",
       "      <th>date</th>\n",
       "      <th>final.output.concentrate_ag</th>\n",
       "      <th>final.output.concentrate_pb</th>\n",
       "      <th>final.output.concentrate_sol</th>\n",
       "      <th>final.output.concentrate_au</th>\n",
       "      <th>final.output.recovery</th>\n",
       "      <th>final.output.tail_ag</th>\n",
       "      <th>final.output.tail_pb</th>\n",
       "      <th>final.output.tail_sol</th>\n",
       "      <th>final.output.tail_au</th>\n",
       "      <th>...</th>\n",
       "      <th>secondary_cleaner.state.floatbank4_a_air</th>\n",
       "      <th>secondary_cleaner.state.floatbank4_a_level</th>\n",
       "      <th>secondary_cleaner.state.floatbank4_b_air</th>\n",
       "      <th>secondary_cleaner.state.floatbank4_b_level</th>\n",
       "      <th>secondary_cleaner.state.floatbank5_a_air</th>\n",
       "      <th>secondary_cleaner.state.floatbank5_a_level</th>\n",
       "      <th>secondary_cleaner.state.floatbank5_b_air</th>\n",
       "      <th>secondary_cleaner.state.floatbank5_b_level</th>\n",
       "      <th>secondary_cleaner.state.floatbank6_a_air</th>\n",
       "      <th>secondary_cleaner.state.floatbank6_a_level</th>\n",
       "    </tr>\n",
       "  </thead>\n",
       "  <tbody>\n",
       "    <tr>\n",
       "      <th>0</th>\n",
       "      <td>2016-01-15 00:00:00</td>\n",
       "      <td>6.055403</td>\n",
       "      <td>9.889648</td>\n",
       "      <td>5.507324</td>\n",
       "      <td>42.192020</td>\n",
       "      <td>70.541216</td>\n",
       "      <td>10.411962</td>\n",
       "      <td>0.895447</td>\n",
       "      <td>16.904297</td>\n",
       "      <td>2.143149</td>\n",
       "      <td>...</td>\n",
       "      <td>14.016835</td>\n",
       "      <td>-502.488007</td>\n",
       "      <td>12.099931</td>\n",
       "      <td>-504.715942</td>\n",
       "      <td>9.925633</td>\n",
       "      <td>-498.310211</td>\n",
       "      <td>8.079666</td>\n",
       "      <td>-500.470978</td>\n",
       "      <td>14.151341</td>\n",
       "      <td>-605.841980</td>\n",
       "    </tr>\n",
       "    <tr>\n",
       "      <th>1</th>\n",
       "      <td>2016-01-15 01:00:00</td>\n",
       "      <td>6.029369</td>\n",
       "      <td>9.968944</td>\n",
       "      <td>5.257781</td>\n",
       "      <td>42.701629</td>\n",
       "      <td>69.266198</td>\n",
       "      <td>10.462676</td>\n",
       "      <td>0.927452</td>\n",
       "      <td>16.634514</td>\n",
       "      <td>2.224930</td>\n",
       "      <td>...</td>\n",
       "      <td>13.992281</td>\n",
       "      <td>-505.503262</td>\n",
       "      <td>11.950531</td>\n",
       "      <td>-501.331529</td>\n",
       "      <td>10.039245</td>\n",
       "      <td>-500.169983</td>\n",
       "      <td>7.984757</td>\n",
       "      <td>-500.582168</td>\n",
       "      <td>13.998353</td>\n",
       "      <td>-599.787184</td>\n",
       "    </tr>\n",
       "    <tr>\n",
       "      <th>2</th>\n",
       "      <td>2016-01-15 02:00:00</td>\n",
       "      <td>6.055926</td>\n",
       "      <td>10.213995</td>\n",
       "      <td>5.383759</td>\n",
       "      <td>42.657501</td>\n",
       "      <td>68.116445</td>\n",
       "      <td>10.507046</td>\n",
       "      <td>0.953716</td>\n",
       "      <td>16.208849</td>\n",
       "      <td>2.257889</td>\n",
       "      <td>...</td>\n",
       "      <td>14.015015</td>\n",
       "      <td>-502.520901</td>\n",
       "      <td>11.912783</td>\n",
       "      <td>-501.133383</td>\n",
       "      <td>10.070913</td>\n",
       "      <td>-500.129135</td>\n",
       "      <td>8.013877</td>\n",
       "      <td>-500.517572</td>\n",
       "      <td>14.028663</td>\n",
       "      <td>-601.427363</td>\n",
       "    </tr>\n",
       "    <tr>\n",
       "      <th>3</th>\n",
       "      <td>2016-01-15 03:00:00</td>\n",
       "      <td>6.047977</td>\n",
       "      <td>9.977019</td>\n",
       "      <td>4.858634</td>\n",
       "      <td>42.689819</td>\n",
       "      <td>68.347543</td>\n",
       "      <td>10.422762</td>\n",
       "      <td>0.883763</td>\n",
       "      <td>16.532835</td>\n",
       "      <td>2.146849</td>\n",
       "      <td>...</td>\n",
       "      <td>14.036510</td>\n",
       "      <td>-500.857308</td>\n",
       "      <td>11.999550</td>\n",
       "      <td>-501.193686</td>\n",
       "      <td>9.970366</td>\n",
       "      <td>-499.201640</td>\n",
       "      <td>7.977324</td>\n",
       "      <td>-500.255908</td>\n",
       "      <td>14.005551</td>\n",
       "      <td>-599.996129</td>\n",
       "    </tr>\n",
       "    <tr>\n",
       "      <th>4</th>\n",
       "      <td>2016-01-15 04:00:00</td>\n",
       "      <td>6.148599</td>\n",
       "      <td>10.142511</td>\n",
       "      <td>4.939416</td>\n",
       "      <td>42.774141</td>\n",
       "      <td>66.927016</td>\n",
       "      <td>10.360302</td>\n",
       "      <td>0.792826</td>\n",
       "      <td>16.525686</td>\n",
       "      <td>2.055292</td>\n",
       "      <td>...</td>\n",
       "      <td>14.027298</td>\n",
       "      <td>-499.838632</td>\n",
       "      <td>11.953070</td>\n",
       "      <td>-501.053894</td>\n",
       "      <td>9.925709</td>\n",
       "      <td>-501.686727</td>\n",
       "      <td>7.894242</td>\n",
       "      <td>-500.356035</td>\n",
       "      <td>13.996647</td>\n",
       "      <td>-601.496691</td>\n",
       "    </tr>\n",
       "  </tbody>\n",
       "</table>\n",
       "<p>5 rows × 87 columns</p>\n",
       "</div>"
      ],
      "text/plain": [
       "                  date  final.output.concentrate_ag  \\\n",
       "0  2016-01-15 00:00:00                     6.055403   \n",
       "1  2016-01-15 01:00:00                     6.029369   \n",
       "2  2016-01-15 02:00:00                     6.055926   \n",
       "3  2016-01-15 03:00:00                     6.047977   \n",
       "4  2016-01-15 04:00:00                     6.148599   \n",
       "\n",
       "   final.output.concentrate_pb  final.output.concentrate_sol  \\\n",
       "0                     9.889648                      5.507324   \n",
       "1                     9.968944                      5.257781   \n",
       "2                    10.213995                      5.383759   \n",
       "3                     9.977019                      4.858634   \n",
       "4                    10.142511                      4.939416   \n",
       "\n",
       "   final.output.concentrate_au  final.output.recovery  final.output.tail_ag  \\\n",
       "0                    42.192020              70.541216             10.411962   \n",
       "1                    42.701629              69.266198             10.462676   \n",
       "2                    42.657501              68.116445             10.507046   \n",
       "3                    42.689819              68.347543             10.422762   \n",
       "4                    42.774141              66.927016             10.360302   \n",
       "\n",
       "   final.output.tail_pb  final.output.tail_sol  final.output.tail_au  ...  \\\n",
       "0              0.895447              16.904297              2.143149  ...   \n",
       "1              0.927452              16.634514              2.224930  ...   \n",
       "2              0.953716              16.208849              2.257889  ...   \n",
       "3              0.883763              16.532835              2.146849  ...   \n",
       "4              0.792826              16.525686              2.055292  ...   \n",
       "\n",
       "   secondary_cleaner.state.floatbank4_a_air  \\\n",
       "0                                 14.016835   \n",
       "1                                 13.992281   \n",
       "2                                 14.015015   \n",
       "3                                 14.036510   \n",
       "4                                 14.027298   \n",
       "\n",
       "   secondary_cleaner.state.floatbank4_a_level  \\\n",
       "0                                 -502.488007   \n",
       "1                                 -505.503262   \n",
       "2                                 -502.520901   \n",
       "3                                 -500.857308   \n",
       "4                                 -499.838632   \n",
       "\n",
       "   secondary_cleaner.state.floatbank4_b_air  \\\n",
       "0                                 12.099931   \n",
       "1                                 11.950531   \n",
       "2                                 11.912783   \n",
       "3                                 11.999550   \n",
       "4                                 11.953070   \n",
       "\n",
       "   secondary_cleaner.state.floatbank4_b_level  \\\n",
       "0                                 -504.715942   \n",
       "1                                 -501.331529   \n",
       "2                                 -501.133383   \n",
       "3                                 -501.193686   \n",
       "4                                 -501.053894   \n",
       "\n",
       "   secondary_cleaner.state.floatbank5_a_air  \\\n",
       "0                                  9.925633   \n",
       "1                                 10.039245   \n",
       "2                                 10.070913   \n",
       "3                                  9.970366   \n",
       "4                                  9.925709   \n",
       "\n",
       "   secondary_cleaner.state.floatbank5_a_level  \\\n",
       "0                                 -498.310211   \n",
       "1                                 -500.169983   \n",
       "2                                 -500.129135   \n",
       "3                                 -499.201640   \n",
       "4                                 -501.686727   \n",
       "\n",
       "   secondary_cleaner.state.floatbank5_b_air  \\\n",
       "0                                  8.079666   \n",
       "1                                  7.984757   \n",
       "2                                  8.013877   \n",
       "3                                  7.977324   \n",
       "4                                  7.894242   \n",
       "\n",
       "   secondary_cleaner.state.floatbank5_b_level  \\\n",
       "0                                 -500.470978   \n",
       "1                                 -500.582168   \n",
       "2                                 -500.517572   \n",
       "3                                 -500.255908   \n",
       "4                                 -500.356035   \n",
       "\n",
       "   secondary_cleaner.state.floatbank6_a_air  \\\n",
       "0                                 14.151341   \n",
       "1                                 13.998353   \n",
       "2                                 14.028663   \n",
       "3                                 14.005551   \n",
       "4                                 13.996647   \n",
       "\n",
       "   secondary_cleaner.state.floatbank6_a_level  \n",
       "0                                 -605.841980  \n",
       "1                                 -599.787184  \n",
       "2                                 -601.427363  \n",
       "3                                 -599.996129  \n",
       "4                                 -601.496691  \n",
       "\n",
       "[5 rows x 87 columns]"
      ]
     },
     "execution_count": 9,
     "metadata": {},
     "output_type": "execute_result"
    }
   ],
   "source": [
    "data_full.head()"
   ]
  },
  {
   "cell_type": "code",
   "execution_count": 10,
   "metadata": {
    "scrolled": true
   },
   "outputs": [
    {
     "name": "stdout",
     "output_type": "stream",
     "text": [
      "<class 'pandas.core.frame.DataFrame'>\n",
      "RangeIndex: 19439 entries, 0 to 19438\n",
      "Data columns (total 87 columns):\n",
      " #   Column                                              Non-Null Count  Dtype  \n",
      "---  ------                                              --------------  -----  \n",
      " 0   date                                                19439 non-null  object \n",
      " 1   final.output.concentrate_ag                         19438 non-null  float64\n",
      " 2   final.output.concentrate_pb                         19438 non-null  float64\n",
      " 3   final.output.concentrate_sol                        19228 non-null  float64\n",
      " 4   final.output.concentrate_au                         19439 non-null  float64\n",
      " 5   final.output.recovery                               19439 non-null  float64\n",
      " 6   final.output.tail_ag                                19438 non-null  float64\n",
      " 7   final.output.tail_pb                                19338 non-null  float64\n",
      " 8   final.output.tail_sol                               19433 non-null  float64\n",
      " 9   final.output.tail_au                                19439 non-null  float64\n",
      " 10  primary_cleaner.input.sulfate                       19415 non-null  float64\n",
      " 11  primary_cleaner.input.depressant                    19402 non-null  float64\n",
      " 12  primary_cleaner.input.feed_size                     19439 non-null  float64\n",
      " 13  primary_cleaner.input.xanthate                      19335 non-null  float64\n",
      " 14  primary_cleaner.output.concentrate_ag               19439 non-null  float64\n",
      " 15  primary_cleaner.output.concentrate_pb               19323 non-null  float64\n",
      " 16  primary_cleaner.output.concentrate_sol              19069 non-null  float64\n",
      " 17  primary_cleaner.output.concentrate_au               19439 non-null  float64\n",
      " 18  primary_cleaner.output.tail_ag                      19435 non-null  float64\n",
      " 19  primary_cleaner.output.tail_pb                      19418 non-null  float64\n",
      " 20  primary_cleaner.output.tail_sol                     19377 non-null  float64\n",
      " 21  primary_cleaner.output.tail_au                      19439 non-null  float64\n",
      " 22  primary_cleaner.state.floatbank8_a_air              19435 non-null  float64\n",
      " 23  primary_cleaner.state.floatbank8_a_level            19438 non-null  float64\n",
      " 24  primary_cleaner.state.floatbank8_b_air              19435 non-null  float64\n",
      " 25  primary_cleaner.state.floatbank8_b_level            19438 non-null  float64\n",
      " 26  primary_cleaner.state.floatbank8_c_air              19437 non-null  float64\n",
      " 27  primary_cleaner.state.floatbank8_c_level            19438 non-null  float64\n",
      " 28  primary_cleaner.state.floatbank8_d_air              19436 non-null  float64\n",
      " 29  primary_cleaner.state.floatbank8_d_level            19438 non-null  float64\n",
      " 30  rougher.calculation.sulfate_to_au_concentrate       19437 non-null  float64\n",
      " 31  rougher.calculation.floatbank10_sulfate_to_au_feed  19437 non-null  float64\n",
      " 32  rougher.calculation.floatbank11_sulfate_to_au_feed  19437 non-null  float64\n",
      " 33  rougher.calculation.au_pb_ratio                     19439 non-null  float64\n",
      " 34  rougher.input.feed_ag                               19439 non-null  float64\n",
      " 35  rougher.input.feed_pb                               19339 non-null  float64\n",
      " 36  rougher.input.feed_rate                             19428 non-null  float64\n",
      " 37  rougher.input.feed_size                             19294 non-null  float64\n",
      " 38  rougher.input.feed_sol                              19340 non-null  float64\n",
      " 39  rougher.input.feed_au                               19439 non-null  float64\n",
      " 40  rougher.input.floatbank10_sulfate                   19405 non-null  float64\n",
      " 41  rougher.input.floatbank10_xanthate                  19431 non-null  float64\n",
      " 42  rougher.input.floatbank11_sulfate                   19395 non-null  float64\n",
      " 43  rougher.input.floatbank11_xanthate                  18986 non-null  float64\n",
      " 44  rougher.output.concentrate_ag                       19439 non-null  float64\n",
      " 45  rougher.output.concentrate_pb                       19439 non-null  float64\n",
      " 46  rougher.output.concentrate_sol                      19416 non-null  float64\n",
      " 47  rougher.output.concentrate_au                       19439 non-null  float64\n",
      " 48  rougher.output.recovery                             19439 non-null  float64\n",
      " 49  rougher.output.tail_ag                              19438 non-null  float64\n",
      " 50  rougher.output.tail_pb                              19439 non-null  float64\n",
      " 51  rougher.output.tail_sol                             19439 non-null  float64\n",
      " 52  rougher.output.tail_au                              19439 non-null  float64\n",
      " 53  rougher.state.floatbank10_a_air                     19438 non-null  float64\n",
      " 54  rougher.state.floatbank10_a_level                   19438 non-null  float64\n",
      " 55  rougher.state.floatbank10_b_air                     19438 non-null  float64\n",
      " 56  rougher.state.floatbank10_b_level                   19438 non-null  float64\n",
      " 57  rougher.state.floatbank10_c_air                     19438 non-null  float64\n",
      " 58  rougher.state.floatbank10_c_level                   19438 non-null  float64\n",
      " 59  rougher.state.floatbank10_d_air                     19439 non-null  float64\n",
      " 60  rougher.state.floatbank10_d_level                   19439 non-null  float64\n",
      " 61  rougher.state.floatbank10_e_air                     19003 non-null  float64\n",
      " 62  rougher.state.floatbank10_e_level                   19439 non-null  float64\n",
      " 63  rougher.state.floatbank10_f_air                     19439 non-null  float64\n",
      " 64  rougher.state.floatbank10_f_level                   19439 non-null  float64\n",
      " 65  secondary_cleaner.output.tail_ag                    19437 non-null  float64\n",
      " 66  secondary_cleaner.output.tail_pb                    19427 non-null  float64\n",
      " 67  secondary_cleaner.output.tail_sol                   17691 non-null  float64\n",
      " 68  secondary_cleaner.output.tail_au                    19439 non-null  float64\n",
      " 69  secondary_cleaner.state.floatbank2_a_air            19219 non-null  float64\n",
      " 70  secondary_cleaner.state.floatbank2_a_level          19438 non-null  float64\n",
      " 71  secondary_cleaner.state.floatbank2_b_air            19416 non-null  float64\n",
      " 72  secondary_cleaner.state.floatbank2_b_level          19438 non-null  float64\n",
      " 73  secondary_cleaner.state.floatbank3_a_air            19426 non-null  float64\n",
      " 74  secondary_cleaner.state.floatbank3_a_level          19438 non-null  float64\n",
      " 75  secondary_cleaner.state.floatbank3_b_air            19438 non-null  float64\n",
      " 76  secondary_cleaner.state.floatbank3_b_level          19438 non-null  float64\n",
      " 77  secondary_cleaner.state.floatbank4_a_air            19433 non-null  float64\n",
      " 78  secondary_cleaner.state.floatbank4_a_level          19438 non-null  float64\n",
      " 79  secondary_cleaner.state.floatbank4_b_air            19438 non-null  float64\n",
      " 80  secondary_cleaner.state.floatbank4_b_level          19438 non-null  float64\n",
      " 81  secondary_cleaner.state.floatbank5_a_air            19438 non-null  float64\n",
      " 82  secondary_cleaner.state.floatbank5_a_level          19438 non-null  float64\n",
      " 83  secondary_cleaner.state.floatbank5_b_air            19438 non-null  float64\n",
      " 84  secondary_cleaner.state.floatbank5_b_level          19438 non-null  float64\n",
      " 85  secondary_cleaner.state.floatbank6_a_air            19437 non-null  float64\n",
      " 86  secondary_cleaner.state.floatbank6_a_level          19438 non-null  float64\n",
      "dtypes: float64(86), object(1)\n",
      "memory usage: 12.9+ MB\n"
     ]
    }
   ],
   "source": [
    "data_full.info()"
   ]
  },
  {
   "cell_type": "markdown",
   "metadata": {},
   "source": [
    "Проверим, что эффективность обогащения рассчитана правильно. Вычислите её на обучающей выборке для признака rougher.output.recovery. "
   ]
  },
  {
   "cell_type": "code",
   "execution_count": 11,
   "metadata": {},
   "outputs": [
    {
     "data": {
      "text/plain": [
       "0        87.107763\n",
       "1        86.843261\n",
       "2        86.842308\n",
       "3        87.226430\n",
       "4        86.688794\n",
       "           ...    \n",
       "14144    89.574376\n",
       "14145    87.724007\n",
       "14146    88.890579\n",
       "14147    89.858126\n",
       "14148    89.514960\n",
       "Name: rougher.output.recovery, Length: 14149, dtype: float64"
      ]
     },
     "execution_count": 11,
     "metadata": {},
     "output_type": "execute_result"
    }
   ],
   "source": [
    "data_train['rougher.output.recovery']"
   ]
  },
  {
   "cell_type": "code",
   "execution_count": 12,
   "metadata": {},
   "outputs": [
    {
     "data": {
      "text/plain": [
       "count    14149.000000\n",
       "mean        82.704502\n",
       "std         14.479156\n",
       "min          0.000000\n",
       "25%         79.993067\n",
       "50%         85.299462\n",
       "75%         90.165021\n",
       "max        100.000000\n",
       "Name: rougher.output.recovery, dtype: float64"
      ]
     },
     "execution_count": 12,
     "metadata": {},
     "output_type": "execute_result"
    }
   ],
   "source": [
    "target_dt=data_train['rougher.output.recovery']\n",
    "target_dt.describe()"
   ]
  },
  {
   "cell_type": "code",
   "execution_count": 13,
   "metadata": {},
   "outputs": [],
   "source": [
    "def recovery(data):\n",
    "    c= data['rougher.output.concentrate_au'].dropna()\n",
    "    f= data['rougher.input.feed_au'].dropna()\n",
    "    t= data['rougher.output.tail_au'].dropna()\n",
    "    r= (c*(f[(f>0)]-t))/(f[(f>0)]*(c-t))*100\n",
    "    \n",
    "    data['recovery']=abs(r[(r >= 0) & (r <= 100)])"
   ]
  },
  {
   "cell_type": "code",
   "execution_count": 14,
   "metadata": {},
   "outputs": [],
   "source": [
    "recovery(data_train)"
   ]
  },
  {
   "cell_type": "code",
   "execution_count": 15,
   "metadata": {},
   "outputs": [
    {
     "data": {
      "text/plain": [
       "count    14149.000000\n",
       "mean        82.704502\n",
       "std         14.479156\n",
       "min          0.000000\n",
       "25%         79.993067\n",
       "50%         85.299462\n",
       "75%         90.165021\n",
       "max        100.000000\n",
       "Name: recovery, dtype: float64"
      ]
     },
     "execution_count": 15,
     "metadata": {},
     "output_type": "execute_result"
    }
   ],
   "source": [
    "data_train['recovery'].describe()"
   ]
  },
  {
   "cell_type": "code",
   "execution_count": 16,
   "metadata": {},
   "outputs": [
    {
     "data": {
      "text/plain": [
       "0"
      ]
     },
     "execution_count": 16,
     "metadata": {},
     "output_type": "execute_result"
    }
   ],
   "source": [
    "predict_dt=data_train['recovery'].dropna()\n",
    "predict_dt.isna().sum()"
   ]
  },
  {
   "cell_type": "code",
   "execution_count": 17,
   "metadata": {},
   "outputs": [
    {
     "data": {
      "text/plain": [
       "0"
      ]
     },
     "execution_count": 17,
     "metadata": {},
     "output_type": "execute_result"
    }
   ],
   "source": [
    "target_dt = target_dt.dropna(0)\n",
    "target_dt.isna().sum()"
   ]
  },
  {
   "cell_type": "markdown",
   "metadata": {},
   "source": [
    "Найдем MAE между нашими расчётами и значением признака."
   ]
  },
  {
   "cell_type": "code",
   "execution_count": 18,
   "metadata": {},
   "outputs": [],
   "source": [
    "def mae(target,predict):\n",
    "    error=0\n",
    "    for i in range(target.shape[0]):\n",
    "        error += abs(target[i] - predict[i])\n",
    "        y = (error/(target.shape[0]))\n",
    "        return y"
   ]
  },
  {
   "cell_type": "code",
   "execution_count": 19,
   "metadata": {},
   "outputs": [
    {
     "data": {
      "text/plain": [
       "14149"
      ]
     },
     "execution_count": 19,
     "metadata": {},
     "output_type": "execute_result"
    }
   ],
   "source": [
    "target_dt.shape[0]"
   ]
  },
  {
   "cell_type": "code",
   "execution_count": 20,
   "metadata": {},
   "outputs": [
    {
     "data": {
      "text/plain": [
       "14149"
      ]
     },
     "execution_count": 20,
     "metadata": {},
     "output_type": "execute_result"
    }
   ],
   "source": [
    "predict_dt.shape[0]"
   ]
  },
  {
   "cell_type": "code",
   "execution_count": 21,
   "metadata": {},
   "outputs": [
    {
     "data": {
      "text/plain": [
       "0.0"
      ]
     },
     "execution_count": 21,
     "metadata": {},
     "output_type": "execute_result"
    }
   ],
   "source": [
    "mae(target_dt,predict_dt)"
   ]
  },
  {
   "cell_type": "markdown",
   "metadata": {},
   "source": [
    "Найдём MAE при помощи функции mean_absolute_error из библиотеки sklearn"
   ]
  },
  {
   "cell_type": "code",
   "execution_count": 22,
   "metadata": {},
   "outputs": [
    {
     "data": {
      "text/plain": [
       "0.0"
      ]
     },
     "execution_count": 22,
     "metadata": {},
     "output_type": "execute_result"
    }
   ],
   "source": [
    "mean_absolute_error(target_dt,predict_dt).round(4)"
   ]
  },
  {
   "cell_type": "markdown",
   "metadata": {},
   "source": [
    "# Вывод"
   ]
  },
  {
   "cell_type": "markdown",
   "metadata": {},
   "source": [
    "Значения по эффективности обогащения рассчитана правильно, результат работы нашей формулы проверили методом MAE по формуле и закрепили результат c применением библиотеки sklearn.metrics"
   ]
  },
  {
   "cell_type": "markdown",
   "metadata": {},
   "source": [
    " Проанализируем признаки, недоступные в тестовой выборке."
   ]
  },
  {
   "cell_type": "code",
   "execution_count": 23,
   "metadata": {},
   "outputs": [
    {
     "data": {
      "text/plain": [
       "0                                           date\n",
       "1                    final.output.concentrate_ag\n",
       "2                    final.output.concentrate_pb\n",
       "3                   final.output.concentrate_sol\n",
       "4                    final.output.concentrate_au\n",
       "                         ...                    \n",
       "83      secondary_cleaner.state.floatbank5_b_air\n",
       "84    secondary_cleaner.state.floatbank5_b_level\n",
       "85      secondary_cleaner.state.floatbank6_a_air\n",
       "86    secondary_cleaner.state.floatbank6_a_level\n",
       "87                                      recovery\n",
       "Length: 88, dtype: object"
      ]
     },
     "execution_count": 23,
     "metadata": {},
     "output_type": "execute_result"
    }
   ],
   "source": [
    "pd.Series(data_train.columns)"
   ]
  },
  {
   "cell_type": "code",
   "execution_count": 24,
   "metadata": {
    "scrolled": true
   },
   "outputs": [
    {
     "data": {
      "text/plain": [
       "0                                           date\n",
       "1                  primary_cleaner.input.sulfate\n",
       "2               primary_cleaner.input.depressant\n",
       "3                primary_cleaner.input.feed_size\n",
       "4                 primary_cleaner.input.xanthate\n",
       "5         primary_cleaner.state.floatbank8_a_air\n",
       "6       primary_cleaner.state.floatbank8_a_level\n",
       "7         primary_cleaner.state.floatbank8_b_air\n",
       "8       primary_cleaner.state.floatbank8_b_level\n",
       "9         primary_cleaner.state.floatbank8_c_air\n",
       "10      primary_cleaner.state.floatbank8_c_level\n",
       "11        primary_cleaner.state.floatbank8_d_air\n",
       "12      primary_cleaner.state.floatbank8_d_level\n",
       "13                         rougher.input.feed_ag\n",
       "14                         rougher.input.feed_pb\n",
       "15                       rougher.input.feed_rate\n",
       "16                       rougher.input.feed_size\n",
       "17                        rougher.input.feed_sol\n",
       "18                         rougher.input.feed_au\n",
       "19             rougher.input.floatbank10_sulfate\n",
       "20            rougher.input.floatbank10_xanthate\n",
       "21             rougher.input.floatbank11_sulfate\n",
       "22            rougher.input.floatbank11_xanthate\n",
       "23               rougher.state.floatbank10_a_air\n",
       "24             rougher.state.floatbank10_a_level\n",
       "25               rougher.state.floatbank10_b_air\n",
       "26             rougher.state.floatbank10_b_level\n",
       "27               rougher.state.floatbank10_c_air\n",
       "28             rougher.state.floatbank10_c_level\n",
       "29               rougher.state.floatbank10_d_air\n",
       "30             rougher.state.floatbank10_d_level\n",
       "31               rougher.state.floatbank10_e_air\n",
       "32             rougher.state.floatbank10_e_level\n",
       "33               rougher.state.floatbank10_f_air\n",
       "34             rougher.state.floatbank10_f_level\n",
       "35      secondary_cleaner.state.floatbank2_a_air\n",
       "36    secondary_cleaner.state.floatbank2_a_level\n",
       "37      secondary_cleaner.state.floatbank2_b_air\n",
       "38    secondary_cleaner.state.floatbank2_b_level\n",
       "39      secondary_cleaner.state.floatbank3_a_air\n",
       "40    secondary_cleaner.state.floatbank3_a_level\n",
       "41      secondary_cleaner.state.floatbank3_b_air\n",
       "42    secondary_cleaner.state.floatbank3_b_level\n",
       "43      secondary_cleaner.state.floatbank4_a_air\n",
       "44    secondary_cleaner.state.floatbank4_a_level\n",
       "45      secondary_cleaner.state.floatbank4_b_air\n",
       "46    secondary_cleaner.state.floatbank4_b_level\n",
       "47      secondary_cleaner.state.floatbank5_a_air\n",
       "48    secondary_cleaner.state.floatbank5_a_level\n",
       "49      secondary_cleaner.state.floatbank5_b_air\n",
       "50    secondary_cleaner.state.floatbank5_b_level\n",
       "51      secondary_cleaner.state.floatbank6_a_air\n",
       "52    secondary_cleaner.state.floatbank6_a_level\n",
       "dtype: object"
      ]
     },
     "execution_count": 24,
     "metadata": {},
     "output_type": "execute_result"
    }
   ],
   "source": [
    "pd.Series(data_test.columns)"
   ]
  },
  {
   "cell_type": "code",
   "execution_count": 25,
   "metadata": {},
   "outputs": [],
   "source": [
    "col_drop=data_train.drop(data_test.columns,axis=1)"
   ]
  },
  {
   "cell_type": "markdown",
   "metadata": {},
   "source": [
    "Выведем названия столбцов, которых нет в тестовой выборке"
   ]
  },
  {
   "cell_type": "code",
   "execution_count": 26,
   "metadata": {
    "scrolled": true
   },
   "outputs": [
    {
     "data": {
      "text/plain": [
       "0                           final.output.concentrate_ag\n",
       "1                           final.output.concentrate_pb\n",
       "2                          final.output.concentrate_sol\n",
       "3                           final.output.concentrate_au\n",
       "4                                 final.output.recovery\n",
       "5                                  final.output.tail_ag\n",
       "6                                  final.output.tail_pb\n",
       "7                                 final.output.tail_sol\n",
       "8                                  final.output.tail_au\n",
       "9                 primary_cleaner.output.concentrate_ag\n",
       "10                primary_cleaner.output.concentrate_pb\n",
       "11               primary_cleaner.output.concentrate_sol\n",
       "12                primary_cleaner.output.concentrate_au\n",
       "13                       primary_cleaner.output.tail_ag\n",
       "14                       primary_cleaner.output.tail_pb\n",
       "15                      primary_cleaner.output.tail_sol\n",
       "16                       primary_cleaner.output.tail_au\n",
       "17        rougher.calculation.sulfate_to_au_concentrate\n",
       "18    rougher.calculation.floatbank10_sulfate_to_au_...\n",
       "19    rougher.calculation.floatbank11_sulfate_to_au_...\n",
       "20                      rougher.calculation.au_pb_ratio\n",
       "21                        rougher.output.concentrate_ag\n",
       "22                        rougher.output.concentrate_pb\n",
       "23                       rougher.output.concentrate_sol\n",
       "24                        rougher.output.concentrate_au\n",
       "25                              rougher.output.recovery\n",
       "26                               rougher.output.tail_ag\n",
       "27                               rougher.output.tail_pb\n",
       "28                              rougher.output.tail_sol\n",
       "29                               rougher.output.tail_au\n",
       "30                     secondary_cleaner.output.tail_ag\n",
       "31                     secondary_cleaner.output.tail_pb\n",
       "32                    secondary_cleaner.output.tail_sol\n",
       "33                     secondary_cleaner.output.tail_au\n",
       "34                                             recovery\n",
       "dtype: object"
      ]
     },
     "execution_count": 26,
     "metadata": {},
     "output_type": "execute_result"
    }
   ],
   "source": [
    "pd.Series(col_drop.columns)"
   ]
  },
  {
   "cell_type": "markdown",
   "metadata": {},
   "source": [
    "Тип данных в параметрах object"
   ]
  },
  {
   "cell_type": "markdown",
   "metadata": {},
   "source": [
    "Проведём предобработку данных"
   ]
  },
  {
   "cell_type": "markdown",
   "metadata": {},
   "source": [
    "Приведём столбцы с датой в соответствующий формат"
   ]
  },
  {
   "cell_type": "code",
   "execution_count": 27,
   "metadata": {},
   "outputs": [],
   "source": [
    "data_train['date'] = pd.to_datetime(data_train['date'], format='%Y-%m-%dT%H:%M:%S')\n",
    "data_test['date'] = pd.to_datetime(data_test['date'], format='%Y-%m-%dT%H:%M:%S')\n",
    "data_full['date'] = pd.to_datetime(data_full['date'], format='%Y-%m-%dT%H:%M:%S')"
   ]
  },
  {
   "cell_type": "markdown",
   "metadata": {},
   "source": [
    "Заполняем в наших выборках пропуски методом fillna(method=‘ffill’) и удалим пропуски в целевых столбцах"
   ]
  },
  {
   "cell_type": "code",
   "execution_count": 28,
   "metadata": {},
   "outputs": [],
   "source": [
    "data_test=data_test.fillna(method='ffill')"
   ]
  },
  {
   "cell_type": "code",
   "execution_count": 29,
   "metadata": {},
   "outputs": [],
   "source": [
    "data_train=data_train.dropna(subset=['rougher.output.recovery','final.output.recovery'])\n",
    "data_train=data_train.fillna(method='ffill')"
   ]
  },
  {
   "cell_type": "code",
   "execution_count": 30,
   "metadata": {},
   "outputs": [],
   "source": [
    "data_full=data_full.dropna(subset=['rougher.output.recovery','final.output.recovery'])\n",
    "data_full=data_full.fillna(method='ffill')"
   ]
  },
  {
   "cell_type": "code",
   "execution_count": 31,
   "metadata": {},
   "outputs": [
    {
     "data": {
      "text/html": [
       "<div>\n",
       "<style scoped>\n",
       "    .dataframe tbody tr th:only-of-type {\n",
       "        vertical-align: middle;\n",
       "    }\n",
       "\n",
       "    .dataframe tbody tr th {\n",
       "        vertical-align: top;\n",
       "    }\n",
       "\n",
       "    .dataframe thead th {\n",
       "        text-align: right;\n",
       "    }\n",
       "</style>\n",
       "<table border=\"1\" class=\"dataframe\">\n",
       "  <thead>\n",
       "    <tr style=\"text-align: right;\">\n",
       "      <th></th>\n",
       "      <th>date</th>\n",
       "      <th>primary_cleaner.input.sulfate</th>\n",
       "      <th>primary_cleaner.input.depressant</th>\n",
       "      <th>primary_cleaner.input.feed_size</th>\n",
       "      <th>primary_cleaner.input.xanthate</th>\n",
       "      <th>primary_cleaner.state.floatbank8_a_air</th>\n",
       "      <th>primary_cleaner.state.floatbank8_a_level</th>\n",
       "      <th>primary_cleaner.state.floatbank8_b_air</th>\n",
       "      <th>primary_cleaner.state.floatbank8_b_level</th>\n",
       "      <th>primary_cleaner.state.floatbank8_c_air</th>\n",
       "      <th>...</th>\n",
       "      <th>secondary_cleaner.state.floatbank4_b_air</th>\n",
       "      <th>secondary_cleaner.state.floatbank4_b_level</th>\n",
       "      <th>secondary_cleaner.state.floatbank5_a_air</th>\n",
       "      <th>secondary_cleaner.state.floatbank5_a_level</th>\n",
       "      <th>secondary_cleaner.state.floatbank5_b_air</th>\n",
       "      <th>secondary_cleaner.state.floatbank5_b_level</th>\n",
       "      <th>secondary_cleaner.state.floatbank6_a_air</th>\n",
       "      <th>secondary_cleaner.state.floatbank6_a_level</th>\n",
       "      <th>rougher.output.recovery</th>\n",
       "      <th>final.output.recovery</th>\n",
       "    </tr>\n",
       "  </thead>\n",
       "  <tbody>\n",
       "    <tr>\n",
       "      <th>0</th>\n",
       "      <td>2016-09-01 00:59:59</td>\n",
       "      <td>210.800909</td>\n",
       "      <td>14.993118</td>\n",
       "      <td>8.080000</td>\n",
       "      <td>1.005021</td>\n",
       "      <td>1398.981301</td>\n",
       "      <td>-500.225577</td>\n",
       "      <td>1399.144926</td>\n",
       "      <td>-499.919735</td>\n",
       "      <td>1400.102998</td>\n",
       "      <td>...</td>\n",
       "      <td>8.016656</td>\n",
       "      <td>-501.289139</td>\n",
       "      <td>7.946562</td>\n",
       "      <td>-432.317850</td>\n",
       "      <td>4.872511</td>\n",
       "      <td>-500.037437</td>\n",
       "      <td>26.705889</td>\n",
       "      <td>-499.709414</td>\n",
       "      <td>89.993421</td>\n",
       "      <td>70.273583</td>\n",
       "    </tr>\n",
       "    <tr>\n",
       "      <th>1</th>\n",
       "      <td>2016-09-01 01:59:59</td>\n",
       "      <td>215.392455</td>\n",
       "      <td>14.987471</td>\n",
       "      <td>8.080000</td>\n",
       "      <td>0.990469</td>\n",
       "      <td>1398.777912</td>\n",
       "      <td>-500.057435</td>\n",
       "      <td>1398.055362</td>\n",
       "      <td>-499.778182</td>\n",
       "      <td>1396.151033</td>\n",
       "      <td>...</td>\n",
       "      <td>8.130979</td>\n",
       "      <td>-499.634209</td>\n",
       "      <td>7.958270</td>\n",
       "      <td>-525.839648</td>\n",
       "      <td>4.878850</td>\n",
       "      <td>-500.162375</td>\n",
       "      <td>25.019940</td>\n",
       "      <td>-499.819438</td>\n",
       "      <td>88.089657</td>\n",
       "      <td>68.910432</td>\n",
       "    </tr>\n",
       "    <tr>\n",
       "      <th>2</th>\n",
       "      <td>2016-09-01 02:59:59</td>\n",
       "      <td>215.259946</td>\n",
       "      <td>12.884934</td>\n",
       "      <td>7.786667</td>\n",
       "      <td>0.996043</td>\n",
       "      <td>1398.493666</td>\n",
       "      <td>-500.868360</td>\n",
       "      <td>1398.860436</td>\n",
       "      <td>-499.764529</td>\n",
       "      <td>1398.075709</td>\n",
       "      <td>...</td>\n",
       "      <td>8.096893</td>\n",
       "      <td>-500.827423</td>\n",
       "      <td>8.071056</td>\n",
       "      <td>-500.801673</td>\n",
       "      <td>4.905125</td>\n",
       "      <td>-499.828510</td>\n",
       "      <td>24.994862</td>\n",
       "      <td>-500.622559</td>\n",
       "      <td>88.412756</td>\n",
       "      <td>68.143213</td>\n",
       "    </tr>\n",
       "  </tbody>\n",
       "</table>\n",
       "<p>3 rows × 55 columns</p>\n",
       "</div>"
      ],
      "text/plain": [
       "                 date  primary_cleaner.input.sulfate  \\\n",
       "0 2016-09-01 00:59:59                     210.800909   \n",
       "1 2016-09-01 01:59:59                     215.392455   \n",
       "2 2016-09-01 02:59:59                     215.259946   \n",
       "\n",
       "   primary_cleaner.input.depressant  primary_cleaner.input.feed_size  \\\n",
       "0                         14.993118                         8.080000   \n",
       "1                         14.987471                         8.080000   \n",
       "2                         12.884934                         7.786667   \n",
       "\n",
       "   primary_cleaner.input.xanthate  primary_cleaner.state.floatbank8_a_air  \\\n",
       "0                        1.005021                             1398.981301   \n",
       "1                        0.990469                             1398.777912   \n",
       "2                        0.996043                             1398.493666   \n",
       "\n",
       "   primary_cleaner.state.floatbank8_a_level  \\\n",
       "0                               -500.225577   \n",
       "1                               -500.057435   \n",
       "2                               -500.868360   \n",
       "\n",
       "   primary_cleaner.state.floatbank8_b_air  \\\n",
       "0                             1399.144926   \n",
       "1                             1398.055362   \n",
       "2                             1398.860436   \n",
       "\n",
       "   primary_cleaner.state.floatbank8_b_level  \\\n",
       "0                               -499.919735   \n",
       "1                               -499.778182   \n",
       "2                               -499.764529   \n",
       "\n",
       "   primary_cleaner.state.floatbank8_c_air  ...  \\\n",
       "0                             1400.102998  ...   \n",
       "1                             1396.151033  ...   \n",
       "2                             1398.075709  ...   \n",
       "\n",
       "   secondary_cleaner.state.floatbank4_b_air  \\\n",
       "0                                  8.016656   \n",
       "1                                  8.130979   \n",
       "2                                  8.096893   \n",
       "\n",
       "   secondary_cleaner.state.floatbank4_b_level  \\\n",
       "0                                 -501.289139   \n",
       "1                                 -499.634209   \n",
       "2                                 -500.827423   \n",
       "\n",
       "   secondary_cleaner.state.floatbank5_a_air  \\\n",
       "0                                  7.946562   \n",
       "1                                  7.958270   \n",
       "2                                  8.071056   \n",
       "\n",
       "   secondary_cleaner.state.floatbank5_a_level  \\\n",
       "0                                 -432.317850   \n",
       "1                                 -525.839648   \n",
       "2                                 -500.801673   \n",
       "\n",
       "   secondary_cleaner.state.floatbank5_b_air  \\\n",
       "0                                  4.872511   \n",
       "1                                  4.878850   \n",
       "2                                  4.905125   \n",
       "\n",
       "   secondary_cleaner.state.floatbank5_b_level  \\\n",
       "0                                 -500.037437   \n",
       "1                                 -500.162375   \n",
       "2                                 -499.828510   \n",
       "\n",
       "   secondary_cleaner.state.floatbank6_a_air  \\\n",
       "0                                 26.705889   \n",
       "1                                 25.019940   \n",
       "2                                 24.994862   \n",
       "\n",
       "   secondary_cleaner.state.floatbank6_a_level  rougher.output.recovery  \\\n",
       "0                                 -499.709414                89.993421   \n",
       "1                                 -499.819438                88.089657   \n",
       "2                                 -500.622559                88.412756   \n",
       "\n",
       "   final.output.recovery  \n",
       "0              70.273583  \n",
       "1              68.910432  \n",
       "2              68.143213  \n",
       "\n",
       "[3 rows x 55 columns]"
      ]
     },
     "execution_count": 31,
     "metadata": {},
     "output_type": "execute_result"
    }
   ],
   "source": [
    "dt_mud_full = data_full[['date','rougher.output.recovery','final.output.recovery']]\n",
    "data_test = data_test.merge(dt_mud_full, on='date', how='left')\n",
    "data_test.head(3)"
   ]
  },
  {
   "cell_type": "markdown",
   "metadata": {},
   "source": [
    "из выборки data_train – удаляем все лишние столбцы которых нет в тестовой выборке"
   ]
  },
  {
   "cell_type": "code",
   "execution_count": 32,
   "metadata": {},
   "outputs": [],
   "source": [
    "data_train=data_train[data_test.columns]"
   ]
  },
  {
   "cell_type": "markdown",
   "metadata": {},
   "source": [
    "Проверим распределение размеров наших таблиц с данными"
   ]
  },
  {
   "cell_type": "code",
   "execution_count": 33,
   "metadata": {},
   "outputs": [
    {
     "name": "stdout",
     "output_type": "stream",
     "text": [
      "(14149, 55)\n",
      "(5290, 55)\n"
     ]
    }
   ],
   "source": [
    "print(data_train.shape)\n",
    "print(data_test.shape)"
   ]
  },
  {
   "cell_type": "markdown",
   "metadata": {},
   "source": [
    "В тестовой выборке нет признаков по этапам rougher ,primary_cleaner, secondary_cleaner, final и по типу output. Соответственно мы их удаляем и из тренировочной выборке, т.к. мы ориентируемся на тестовые данные, т.к. они появляются на определённом этапе производства и именно на таких данных должна обучаться модель для качественного предсказания значений.\n",
    "Определены так же целевые признаки - rougher.output.recovery,final.output.recovery"
   ]
  },
  {
   "cell_type": "markdown",
   "metadata": {},
   "source": [
    "## Анализ данных"
   ]
  },
  {
   "cell_type": "markdown",
   "metadata": {},
   "source": [
    "Посмотрим, как меняется концентрация металлов (Au, Ag, Pb) на различных этапах очистки. "
   ]
  },
  {
   "cell_type": "code",
   "execution_count": 34,
   "metadata": {
    "scrolled": true
   },
   "outputs": [
    {
     "data": {
      "text/plain": [
       "Index(['date', 'final.output.concentrate_ag', 'final.output.concentrate_pb',\n",
       "       'final.output.concentrate_sol', 'final.output.concentrate_au',\n",
       "       'final.output.recovery', 'final.output.tail_ag', 'final.output.tail_pb',\n",
       "       'final.output.tail_sol', 'final.output.tail_au',\n",
       "       'primary_cleaner.input.sulfate', 'primary_cleaner.input.depressant',\n",
       "       'primary_cleaner.input.feed_size', 'primary_cleaner.input.xanthate',\n",
       "       'primary_cleaner.output.concentrate_ag',\n",
       "       'primary_cleaner.output.concentrate_pb',\n",
       "       'primary_cleaner.output.concentrate_sol',\n",
       "       'primary_cleaner.output.concentrate_au',\n",
       "       'primary_cleaner.output.tail_ag', 'primary_cleaner.output.tail_pb',\n",
       "       'primary_cleaner.output.tail_sol', 'primary_cleaner.output.tail_au',\n",
       "       'primary_cleaner.state.floatbank8_a_air',\n",
       "       'primary_cleaner.state.floatbank8_a_level',\n",
       "       'primary_cleaner.state.floatbank8_b_air',\n",
       "       'primary_cleaner.state.floatbank8_b_level',\n",
       "       'primary_cleaner.state.floatbank8_c_air',\n",
       "       'primary_cleaner.state.floatbank8_c_level',\n",
       "       'primary_cleaner.state.floatbank8_d_air',\n",
       "       'primary_cleaner.state.floatbank8_d_level',\n",
       "       'rougher.calculation.sulfate_to_au_concentrate',\n",
       "       'rougher.calculation.floatbank10_sulfate_to_au_feed',\n",
       "       'rougher.calculation.floatbank11_sulfate_to_au_feed',\n",
       "       'rougher.calculation.au_pb_ratio', 'rougher.input.feed_ag',\n",
       "       'rougher.input.feed_pb', 'rougher.input.feed_rate',\n",
       "       'rougher.input.feed_size', 'rougher.input.feed_sol',\n",
       "       'rougher.input.feed_au', 'rougher.input.floatbank10_sulfate',\n",
       "       'rougher.input.floatbank10_xanthate',\n",
       "       'rougher.input.floatbank11_sulfate',\n",
       "       'rougher.input.floatbank11_xanthate', 'rougher.output.concentrate_ag',\n",
       "       'rougher.output.concentrate_pb', 'rougher.output.concentrate_sol',\n",
       "       'rougher.output.concentrate_au', 'rougher.output.recovery',\n",
       "       'rougher.output.tail_ag', 'rougher.output.tail_pb',\n",
       "       'rougher.output.tail_sol', 'rougher.output.tail_au',\n",
       "       'rougher.state.floatbank10_a_air', 'rougher.state.floatbank10_a_level',\n",
       "       'rougher.state.floatbank10_b_air', 'rougher.state.floatbank10_b_level',\n",
       "       'rougher.state.floatbank10_c_air', 'rougher.state.floatbank10_c_level',\n",
       "       'rougher.state.floatbank10_d_air', 'rougher.state.floatbank10_d_level',\n",
       "       'rougher.state.floatbank10_e_air', 'rougher.state.floatbank10_e_level',\n",
       "       'rougher.state.floatbank10_f_air', 'rougher.state.floatbank10_f_level',\n",
       "       'secondary_cleaner.output.tail_ag', 'secondary_cleaner.output.tail_pb',\n",
       "       'secondary_cleaner.output.tail_sol', 'secondary_cleaner.output.tail_au',\n",
       "       'secondary_cleaner.state.floatbank2_a_air',\n",
       "       'secondary_cleaner.state.floatbank2_a_level',\n",
       "       'secondary_cleaner.state.floatbank2_b_air',\n",
       "       'secondary_cleaner.state.floatbank2_b_level',\n",
       "       'secondary_cleaner.state.floatbank3_a_air',\n",
       "       'secondary_cleaner.state.floatbank3_a_level',\n",
       "       'secondary_cleaner.state.floatbank3_b_air',\n",
       "       'secondary_cleaner.state.floatbank3_b_level',\n",
       "       'secondary_cleaner.state.floatbank4_a_air',\n",
       "       'secondary_cleaner.state.floatbank4_a_level',\n",
       "       'secondary_cleaner.state.floatbank4_b_air',\n",
       "       'secondary_cleaner.state.floatbank4_b_level',\n",
       "       'secondary_cleaner.state.floatbank5_a_air',\n",
       "       'secondary_cleaner.state.floatbank5_a_level',\n",
       "       'secondary_cleaner.state.floatbank5_b_air',\n",
       "       'secondary_cleaner.state.floatbank5_b_level',\n",
       "       'secondary_cleaner.state.floatbank6_a_air',\n",
       "       'secondary_cleaner.state.floatbank6_a_level'],\n",
       "      dtype='object')"
      ]
     },
     "execution_count": 34,
     "metadata": {},
     "output_type": "execute_result"
    }
   ],
   "source": [
    "data_full.columns"
   ]
  },
  {
   "cell_type": "markdown",
   "metadata": {},
   "source": [
    "Концентрация на входе"
   ]
  },
  {
   "cell_type": "code",
   "execution_count": 35,
   "metadata": {},
   "outputs": [
    {
     "data": {
      "image/png": "[encoded data removed]",
      "text/plain": [
       "<Figure size 1008x432 with 1 Axes>"
      ]
     },
     "metadata": {
      "needs_background": "light"
     },
     "output_type": "display_data"
    }
   ],
   "source": [
    "plt.figure(figsize=(14,6))\n",
    "data_full['rougher.input.feed_ag'].plot.hist(bins=range(1,50), alpha=0.7)\n",
    "data_full['rougher.input.feed_au'].plot.hist(bins=range(1,50), alpha=0.7)\n",
    "data_full['rougher.input.feed_pb'].plot.hist(bins=range(1,50), alpha=0.7)\n",
    "plt.legend(['Ag', 'Au', 'Pb'])\n",
    "plt.title('Концентрация металлов на вторичном этапе очистки')\n",
    "plt.xlabel('Концентрация')\n",
    "plt.grid(True)\n",
    "plt.show()"
   ]
  },
  {
   "cell_type": "markdown",
   "metadata": {},
   "source": [
    "Черновой этап"
   ]
  },
  {
   "cell_type": "code",
   "execution_count": 36,
   "metadata": {},
   "outputs": [
    {
     "data": {
      "image/png": "[encoded data removed]",
      "text/plain": [
       "<Figure size 1008x432 with 1 Axes>"
      ]
     },
     "metadata": {
      "needs_background": "light"
     },
     "output_type": "display_data"
    }
   ],
   "source": [
    "plt.figure(figsize=(14,6))\n",
    "data_full['rougher.output.concentrate_ag'].plot.hist(bins=range(1,50), alpha=0.7)\n",
    "data_full['rougher.output.concentrate_au'].plot.hist(bins=range(1,50), alpha=0.7)\n",
    "data_full['rougher.output.concentrate_pb'].plot.hist(bins=range(1,50), alpha=0.7)\n",
    "plt.legend(['Ag', 'Au', 'Pb'])\n",
    "plt.title('Концентрация металлов на черновом этапе очистки')\n",
    "plt.xlabel('Концентрация')\n",
    "plt.grid(True)\n",
    "plt.show()"
   ]
  },
  {
   "cell_type": "markdown",
   "metadata": {},
   "source": [
    "Первичный этап очистки"
   ]
  },
  {
   "cell_type": "code",
   "execution_count": 37,
   "metadata": {},
   "outputs": [
    {
     "data": {
      "image/png": "[encoded data removed]",
      "text/plain": [
       "<Figure size 1008x432 with 1 Axes>"
      ]
     },
     "metadata": {
      "needs_background": "light"
     },
     "output_type": "display_data"
    }
   ],
   "source": [
    "plt.figure(figsize=(14,6))\n",
    "data_full['primary_cleaner.output.concentrate_ag'].plot.hist(bins=range(1,50), alpha=0.7)\n",
    "data_full['primary_cleaner.output.concentrate_au'].plot.hist(bins=range(1,50), alpha=0.7)\n",
    "data_full['primary_cleaner.output.concentrate_pb'].plot.hist(bins=range(1,50), alpha=0.7)\n",
    "plt.legend(['Ag', 'Au', 'Pb'])\n",
    "plt.title('Концентрация металлов на первичном этапе очистки')\n",
    "plt.xlabel('Концентрация')\n",
    "plt.grid(True)\n",
    "plt.show()"
   ]
  },
  {
   "cell_type": "markdown",
   "metadata": {},
   "source": [
    "Вторичный этап очитски"
   ]
  },
  {
   "cell_type": "code",
   "execution_count": 38,
   "metadata": {},
   "outputs": [
    {
     "data": {
      "image/png": "[encoded data removed]",
      "text/plain": [
       "<Figure size 1008x432 with 1 Axes>"
      ]
     },
     "metadata": {
      "needs_background": "light"
     },
     "output_type": "display_data"
    }
   ],
   "source": [
    "plt.figure(figsize=(14,6))\n",
    "data_full['final.output.concentrate_ag'].plot.hist(bins=range(1,50), alpha=0.7)\n",
    "data_full['final.output.concentrate_au'].plot.hist(bins=range(1,50), alpha=0.7)\n",
    "data_full['final.output.concentrate_pb'].plot.hist(bins=range(1,50), alpha=0.7)\n",
    "plt.legend(['Ag', 'Au', 'Pb'])\n",
    "plt.title('Концентрация металлов на вторичном этапе очистки')\n",
    "plt.xlabel('Концентрация')\n",
    "plt.grid(True)\n",
    "plt.show()"
   ]
  },
  {
   "cell_type": "markdown",
   "metadata": {},
   "source": [
    "По результату анализа мы видим, что с этапами обработки увеличивается концентрация золота, а концентрации серебра и синца снижаются"
   ]
  },
  {
   "cell_type": "markdown",
   "metadata": {},
   "source": [
    "Сравним распределения размеров гранул сырья на обучающей и тестовой выборках. Если распределения сильно отличаются друг от друга, оценка модели будет неправильной"
   ]
  },
  {
   "cell_type": "code",
   "execution_count": 39,
   "metadata": {},
   "outputs": [],
   "source": [
    "def compare_train_test_features(features):\n",
    "    plt.figure(figsize=(14,6))\n",
    "    (data_train[features]).plot.kde(linewidth=3,alpha=0.7)\n",
    "    (data_test[features]).plot.kde(linewidth=3, alpha=0.7)\n",
    "    plt.legend(['Тренировочная выборка','Тестовая выборка'])\n",
    "    plt.title('Распределение размеров гранул на обучающей и тестовой выборках')\n",
    "    plt.xlabel('Размер гранул')\n",
    "    plt.grid(True)\n",
    "    plt.show()"
   ]
  },
  {
   "cell_type": "code",
   "execution_count": 40,
   "metadata": {},
   "outputs": [
    {
     "data": {
      "image/png": "[encoded data removed]",
      "text/plain": [
       "<Figure size 1008x432 with 1 Axes>"
      ]
     },
     "metadata": {
      "needs_background": "light"
     },
     "output_type": "display_data"
    }
   ],
   "source": [
    "compare_train_test_features('rougher.input.feed_size')"
   ]
  },
  {
   "cell_type": "markdown",
   "metadata": {},
   "source": [
    "Распределение гранул по двум выборкам совпадают, а значит и оценка модели должна быть правильной."
   ]
  },
  {
   "cell_type": "markdown",
   "metadata": {},
   "source": [
    "Исследуем суммарную концентрацию всех веществ на разных стадиях:"
   ]
  },
  {
   "cell_type": "code",
   "execution_count": 41,
   "metadata": {},
   "outputs": [],
   "source": [
    "def sum_concentration_col(data,concentrat_ag,concentrat_au,concentrat_pb,concentrat_sol):\n",
    "    ag=data[concentrat_ag]\n",
    "    au=data[concentrat_au]\n",
    "    pb=data[concentrat_pb]\n",
    "    sol=data[concentrat_sol]\n",
    "    sum_conc=ag+au+pb+sol\n",
    "    \n",
    "    plt.figure(figsize=(14,6))\n",
    "    sum_conc.plot.hist(bins=100)\n",
    "    plt.title('Cуммарная концентрация всех веществ')\n",
    "    plt.xlabel('Значение концентрации')\n",
    "    plt.ylabel('Количество значений')\n",
    "    plt.grid(True)\n",
    "    plt.show()\n",
    "    print('Распределение данных:\\n ',sum_conc.describe())"
   ]
  },
  {
   "cell_type": "markdown",
   "metadata": {},
   "source": [
    "В сырье"
   ]
  },
  {
   "cell_type": "code",
   "execution_count": 42,
   "metadata": {},
   "outputs": [
    {
     "data": {
      "image/png": "[encoded data removed]",
      "text/plain": [
       "<Figure size 1008x432 with 1 Axes>"
      ]
     },
     "metadata": {
      "needs_background": "light"
     },
     "output_type": "display_data"
    },
    {
     "name": "stdout",
     "output_type": "stream",
     "text": [
      "Распределение данных:\n",
      "  count    19439.000000\n",
      "mean        57.320789\n",
      "std          7.212680\n",
      "min          0.040000\n",
      "25%         53.557679\n",
      "50%         57.594391\n",
      "75%         61.953459\n",
      "max         76.978947\n",
      "dtype: float64\n"
     ]
    }
   ],
   "source": [
    "sum_concentration_col(data_full,'rougher.input.feed_ag','rougher.input.feed_au','rougher.input.feed_pb','rougher.input.feed_sol')"
   ]
  },
  {
   "cell_type": "markdown",
   "metadata": {},
   "source": [
    "- в черновом"
   ]
  },
  {
   "cell_type": "code",
   "execution_count": 43,
   "metadata": {},
   "outputs": [
    {
     "data": {
      "image/png": "[encoded data removed]",
      "text/plain": [
       "<Figure size 1008x432 with 1 Axes>"
      ]
     },
     "metadata": {
      "needs_background": "light"
     },
     "output_type": "display_data"
    },
    {
     "name": "stdout",
     "output_type": "stream",
     "text": [
      "Распределение данных:\n",
      "  count    19439.000000\n",
      "mean        68.170865\n",
      "std         12.491279\n",
      "min          0.000000\n",
      "25%         66.012495\n",
      "50%         70.181495\n",
      "75%         74.356904\n",
      "max         88.140119\n",
      "dtype: float64\n"
     ]
    }
   ],
   "source": [
    "sum_concentration_col(data_full,'rougher.output.concentrate_ag','rougher.output.concentrate_au','rougher.output.concentrate_pb','rougher.output.concentrate_sol')\n"
   ]
  },
  {
   "cell_type": "markdown",
   "metadata": {},
   "source": [
    "- в финальных концентратах"
   ]
  },
  {
   "cell_type": "code",
   "execution_count": 44,
   "metadata": {},
   "outputs": [
    {
     "data": {
      "image/png": "[encoded data removed]",
      "text/plain": [
       "<Figure size 1008x432 with 1 Axes>"
      ]
     },
     "metadata": {
      "needs_background": "light"
     },
     "output_type": "display_data"
    },
    {
     "name": "stdout",
     "output_type": "stream",
     "text": [
      "Распределение данных:\n",
      "  count    19439.000000\n",
      "mean        68.653624\n",
      "std          7.427536\n",
      "min          0.000000\n",
      "25%         67.932362\n",
      "50%         69.598444\n",
      "75%         71.368472\n",
      "max         80.210644\n",
      "dtype: float64\n"
     ]
    }
   ],
   "source": [
    "sum_concentration_col(data_full,'final.output.concentrate_ag','final.output.concentrate_au','final.output.concentrate_pb','final.output.concentrate_sol')\n"
   ]
  },
  {
   "cell_type": "markdown",
   "metadata": {},
   "source": [
    "Суммарная концентрация по всем этапам обработки имеет нормальное распределение значений, но есть выбивающиеся значения у нулевой отметки, такие значения нам не интересны"
   ]
  },
  {
   "cell_type": "markdown",
   "metadata": {},
   "source": [
    "Создадим функцию и добавим данные о сумме концентрации в общую таблицу с данными"
   ]
  },
  {
   "cell_type": "code",
   "execution_count": 45,
   "metadata": {},
   "outputs": [],
   "source": [
    "def sum_concentration_col5(data,concentrat_ag,concentrat_au,concentrat_pb,concentrat_sol):\n",
    "    ag=data[concentrat_ag]\n",
    "    au=data[concentrat_au]\n",
    "    pb=data[concentrat_pb]\n",
    "    sol=data[concentrat_sol]\n",
    "    sum_conc=ag+au+pb+sol\n",
    "    data = sum_conc\n",
    "    return data"
   ]
  },
  {
   "cell_type": "code",
   "execution_count": 46,
   "metadata": {},
   "outputs": [],
   "source": [
    "data_full['sum_concentration'] = sum_concentration_col5(data_full,'final.output.concentrate_ag','final.output.concentrate_au','final.output.concentrate_pb','final.output.concentrate_sol')\n"
   ]
  },
  {
   "cell_type": "markdown",
   "metadata": {},
   "source": [
    "Добавим значения суммы концентраций веществ в выборку data_train"
   ]
  },
  {
   "cell_type": "code",
   "execution_count": 47,
   "metadata": {},
   "outputs": [],
   "source": [
    "data_mud_conc=data_full[['date','sum_concentration']]\n",
    "data_train = data_train.merge(data_mud_conc, on='date', how='left')"
   ]
  },
  {
   "cell_type": "code",
   "execution_count": 48,
   "metadata": {},
   "outputs": [
    {
     "data": {
      "text/plain": [
       "count    14149.000000\n",
       "mean        68.387872\n",
       "std          7.023723\n",
       "min          0.000000\n",
       "25%         67.559819\n",
       "50%         69.141502\n",
       "75%         70.974661\n",
       "max         80.210644\n",
       "Name: sum_concentration, dtype: float64"
      ]
     },
     "execution_count": 48,
     "metadata": {},
     "output_type": "execute_result"
    }
   ],
   "source": [
    "data_train['sum_concentration'].describe()"
   ]
  },
  {
   "cell_type": "markdown",
   "metadata": {},
   "source": [
    "Добавим значения суммы концентраций веществ в выборку data_test"
   ]
  },
  {
   "cell_type": "code",
   "execution_count": 49,
   "metadata": {},
   "outputs": [],
   "source": [
    "data_test = data_test.merge(data_mud_conc, on='date', how='left')"
   ]
  },
  {
   "cell_type": "code",
   "execution_count": 50,
   "metadata": {},
   "outputs": [
    {
     "data": {
      "text/plain": [
       "count    5290.000000\n",
       "mean       69.364422\n",
       "std         8.372254\n",
       "min         0.000000\n",
       "25%        69.342800\n",
       "50%        70.688587\n",
       "75%        72.073175\n",
       "max        79.977670\n",
       "Name: sum_concentration, dtype: float64"
      ]
     },
     "execution_count": 50,
     "metadata": {},
     "output_type": "execute_result"
    }
   ],
   "source": [
    "data_test['sum_concentration'].describe()"
   ]
  },
  {
   "cell_type": "markdown",
   "metadata": {},
   "source": [
    "Для удаления аномальных значений концентрации веществ создадим функцию"
   ]
  },
  {
   "cell_type": "code",
   "execution_count": 51,
   "metadata": {},
   "outputs": [],
   "source": [
    "def concentration_clean(data,sum_concentrat,trashold):\n",
    "    data=data[data[sum_concentrat] > trashold]\n",
    "    plt.figure(figsize=(14,6))\n",
    "    data[sum_concentrat].plot.hist(bins=100)\n",
    "    plt.title('Cуммарная концентрация всех веществ')\n",
    "    plt.xlabel('Значение концентрации')\n",
    "    plt.ylabel('Количество значений')\n",
    "    plt.grid(True)\n",
    "    plt.show()\n",
    "    print('Распределение данных:\\n ',data[sum_concentrat].describe())\n",
    "    return data"
   ]
  },
  {
   "cell_type": "markdown",
   "metadata": {},
   "source": [
    "Судя по распределению значений стандартного отклонения и среднего значения, мы смело можем поставить порог в 50 для обеспечения более качественного распределения значений.\n",
    "Удалим данные из полной выборки и посмотрим распределение\n"
   ]
  },
  {
   "cell_type": "code",
   "execution_count": 52,
   "metadata": {},
   "outputs": [
    {
     "data": {
      "image/png": "[encoded data removed]",
      "text/plain": [
       "<Figure size 1008x432 with 1 Axes>"
      ]
     },
     "metadata": {
      "needs_background": "light"
     },
     "output_type": "display_data"
    },
    {
     "name": "stdout",
     "output_type": "stream",
     "text": [
      "Распределение данных:\n",
      "  count    19033.000000\n",
      "mean        69.546324\n",
      "std          3.311818\n",
      "min         50.098603\n",
      "25%         68.056037\n",
      "50%         69.662138\n",
      "75%         71.407003\n",
      "max         80.210644\n",
      "Name: sum_concentration, dtype: float64\n"
     ]
    }
   ],
   "source": [
    "data_full = concentration_clean(data_full,'sum_concentration', 50)"
   ]
  },
  {
   "cell_type": "markdown",
   "metadata": {},
   "source": [
    "Повторим удаление строк в тренировочной выборке"
   ]
  },
  {
   "cell_type": "code",
   "execution_count": 53,
   "metadata": {},
   "outputs": [
    {
     "data": {
      "image/png": "[encoded data removed]",
      "text/plain": [
       "<Figure size 1008x432 with 1 Axes>"
      ]
     },
     "metadata": {
      "needs_background": "light"
     },
     "output_type": "display_data"
    },
    {
     "name": "stdout",
     "output_type": "stream",
     "text": [
      "Распределение данных:\n",
      "  count    13896.000000\n",
      "mean        69.155362\n",
      "std          3.359173\n",
      "min         50.098603\n",
      "25%         67.674460\n",
      "50%         69.188746\n",
      "75%         71.018587\n",
      "max         80.210644\n",
      "Name: sum_concentration, dtype: float64\n"
     ]
    }
   ],
   "source": [
    "data_train = concentration_clean(data_train,'sum_concentration', 50)"
   ]
  },
  {
   "cell_type": "markdown",
   "metadata": {},
   "source": [
    "Повторим удаление строк в тестовой выборке"
   ]
  },
  {
   "cell_type": "code",
   "execution_count": 54,
   "metadata": {},
   "outputs": [
    {
     "data": {
      "image/png": "[encoded data removed]",
      "text/plain": [
       "<Figure size 1008x432 with 1 Axes>"
      ]
     },
     "metadata": {
      "needs_background": "light"
     },
     "output_type": "display_data"
    },
    {
     "name": "stdout",
     "output_type": "stream",
     "text": [
      "Распределение данных:\n",
      "  count    5108.000000\n",
      "mean       70.704453\n",
      "std         2.613732\n",
      "min        55.096218\n",
      "25%        69.489121\n",
      "50%        70.772160\n",
      "75%        72.115115\n",
      "max        79.977670\n",
      "Name: sum_concentration, dtype: float64\n"
     ]
    }
   ],
   "source": [
    "data_test = concentration_clean(data_test,'sum_concentration', 55)"
   ]
  },
  {
   "cell_type": "markdown",
   "metadata": {},
   "source": [
    "Удалим столбцы из наших выборок для того, чтобы не вызвать переобучение модели"
   ]
  },
  {
   "cell_type": "code",
   "execution_count": 55,
   "metadata": {},
   "outputs": [
    {
     "name": "stdout",
     "output_type": "stream",
     "text": [
      "(13896, 55)\n"
     ]
    }
   ],
   "source": [
    "data_train = data_train.drop(['sum_concentration'], axis=1)\n",
    "print(data_train.shape)"
   ]
  },
  {
   "cell_type": "code",
   "execution_count": 56,
   "metadata": {},
   "outputs": [],
   "source": [
    "data_test = data_test.drop(['sum_concentration'], axis=1)"
   ]
  },
  {
   "cell_type": "code",
   "execution_count": 57,
   "metadata": {},
   "outputs": [
    {
     "name": "stdout",
     "output_type": "stream",
     "text": [
      "(5108, 55)\n"
     ]
    }
   ],
   "source": [
    "print(data_test.shape)"
   ]
  },
  {
   "cell_type": "markdown",
   "metadata": {},
   "source": [
    "Посмотрим на распределение данных в целевых столбцах в полной выборке данных"
   ]
  },
  {
   "cell_type": "code",
   "execution_count": 58,
   "metadata": {},
   "outputs": [
    {
     "data": {
      "image/png": "[encoded data removed]",
      "text/plain": [
       "<Figure size 1008x432 with 1 Axes>"
      ]
     },
     "metadata": {
      "needs_background": "light"
     },
     "output_type": "display_data"
    },
    {
     "name": "stdout",
     "output_type": "stream",
     "text": [
      "Распределение данных:\n",
      "  count    19033.000000\n",
      "mean        83.515919\n",
      "std         13.963362\n",
      "min          0.000000\n",
      "25%         81.168463\n",
      "50%         86.277219\n",
      "75%         90.060351\n",
      "max        100.000000\n",
      "Name: rougher.output.recovery, dtype: float64\n"
     ]
    }
   ],
   "source": [
    "data_full = concentration_clean(data_full,'rougher.output.recovery',-1)"
   ]
  },
  {
   "cell_type": "code",
   "execution_count": 59,
   "metadata": {},
   "outputs": [
    {
     "data": {
      "image/png": "[encoded data removed]",
      "text/plain": [
       "<Figure size 1008x432 with 1 Axes>"
      ]
     },
     "metadata": {
      "needs_background": "light"
     },
     "output_type": "display_data"
    },
    {
     "name": "stdout",
     "output_type": "stream",
     "text": [
      "Распределение данных:\n",
      "  count    19033.000000\n",
      "mean        67.399266\n",
      "std          8.729029\n",
      "min          0.430264\n",
      "25%         63.437355\n",
      "50%         68.215611\n",
      "75%         72.679494\n",
      "max        100.000000\n",
      "Name: final.output.recovery, dtype: float64\n"
     ]
    }
   ],
   "source": [
    "data_full = concentration_clean(data_full,'final.output.recovery', -1)"
   ]
  },
  {
   "cell_type": "markdown",
   "metadata": {},
   "source": [
    "Выбираем пороговое значение концентрации в 55 для rougher.output.recovery"
   ]
  },
  {
   "cell_type": "code",
   "execution_count": 60,
   "metadata": {},
   "outputs": [
    {
     "data": {
      "image/png": "[encoded data removed]",
      "text/plain": [
       "<Figure size 1008x432 with 1 Axes>"
      ]
     },
     "metadata": {
      "needs_background": "light"
     },
     "output_type": "display_data"
    },
    {
     "name": "stdout",
     "output_type": "stream",
     "text": [
      "Распределение данных:\n",
      "  count    18581.000000\n",
      "mean        85.384050\n",
      "std          6.784802\n",
      "min         55.050947\n",
      "25%         81.630886\n",
      "50%         86.480850\n",
      "75%         90.158858\n",
      "max        100.000000\n",
      "Name: rougher.output.recovery, dtype: float64\n"
     ]
    }
   ],
   "source": [
    "data_full = concentration_clean(data_full,'rougher.output.recovery', 55)"
   ]
  },
  {
   "cell_type": "markdown",
   "metadata": {},
   "source": [
    "Выбираем пороговое значение концентрации в 35 для final.output.recovery"
   ]
  },
  {
   "cell_type": "code",
   "execution_count": 61,
   "metadata": {},
   "outputs": [
    {
     "data": {
      "image/png": "[encoded data removed]",
      "text/plain": [
       "<Figure size 1008x432 with 1 Axes>"
      ]
     },
     "metadata": {
      "needs_background": "light"
     },
     "output_type": "display_data"
    },
    {
     "name": "stdout",
     "output_type": "stream",
     "text": [
      "Распределение данных:\n",
      "  count    18502.000000\n",
      "mean        67.762431\n",
      "std          7.966386\n",
      "min         35.105022\n",
      "25%         63.709100\n",
      "50%         68.348554\n",
      "75%         72.750555\n",
      "max        100.000000\n",
      "Name: final.output.recovery, dtype: float64\n"
     ]
    }
   ],
   "source": [
    "data_full = concentration_clean(data_full,'final.output.recovery', 35)"
   ]
  },
  {
   "cell_type": "markdown",
   "metadata": {},
   "source": [
    "Создадим функцию для удаления аномальных и неустраивающих нас строк с даными в целевых столбцах"
   ]
  },
  {
   "cell_type": "code",
   "execution_count": 62,
   "metadata": {},
   "outputs": [],
   "source": [
    "def concentration_clean2(data,concentrat_1,concentrat_2,trashold,trashold2):\n",
    "    data=data[data[concentrat_1] > trashold]\n",
    "    data=data[data[concentrat_2] > trashold2]\n",
    "    return data"
   ]
  },
  {
   "cell_type": "markdown",
   "metadata": {},
   "source": [
    "Выполним корректриовку значений в двух других выборках data_train и data_test"
   ]
  },
  {
   "cell_type": "markdown",
   "metadata": {},
   "source": [
    "Удалим данные из тренировочной выборки"
   ]
  },
  {
   "cell_type": "code",
   "execution_count": 63,
   "metadata": {},
   "outputs": [
    {
     "data": {
      "text/html": [
       "<div>\n",
       "<style scoped>\n",
       "    .dataframe tbody tr th:only-of-type {\n",
       "        vertical-align: middle;\n",
       "    }\n",
       "\n",
       "    .dataframe tbody tr th {\n",
       "        vertical-align: top;\n",
       "    }\n",
       "\n",
       "    .dataframe thead th {\n",
       "        text-align: right;\n",
       "    }\n",
       "</style>\n",
       "<table border=\"1\" class=\"dataframe\">\n",
       "  <thead>\n",
       "    <tr style=\"text-align: right;\">\n",
       "      <th></th>\n",
       "      <th>rougher.output.recovery</th>\n",
       "      <th>final.output.recovery</th>\n",
       "    </tr>\n",
       "  </thead>\n",
       "  <tbody>\n",
       "    <tr>\n",
       "      <th>count</th>\n",
       "      <td>13470.000000</td>\n",
       "      <td>13470.000000</td>\n",
       "    </tr>\n",
       "    <tr>\n",
       "      <th>mean</th>\n",
       "      <td>84.857071</td>\n",
       "      <td>67.213690</td>\n",
       "    </tr>\n",
       "    <tr>\n",
       "      <th>std</th>\n",
       "      <td>7.258538</td>\n",
       "      <td>8.318982</td>\n",
       "    </tr>\n",
       "    <tr>\n",
       "      <th>min</th>\n",
       "      <td>55.050947</td>\n",
       "      <td>35.105022</td>\n",
       "    </tr>\n",
       "    <tr>\n",
       "      <th>25%</th>\n",
       "      <td>80.558872</td>\n",
       "      <td>62.955420</td>\n",
       "    </tr>\n",
       "    <tr>\n",
       "      <th>50%</th>\n",
       "      <td>85.648396</td>\n",
       "      <td>67.547893</td>\n",
       "    </tr>\n",
       "    <tr>\n",
       "      <th>75%</th>\n",
       "      <td>90.368332</td>\n",
       "      <td>72.409952</td>\n",
       "    </tr>\n",
       "    <tr>\n",
       "      <th>max</th>\n",
       "      <td>100.000000</td>\n",
       "      <td>100.000000</td>\n",
       "    </tr>\n",
       "  </tbody>\n",
       "</table>\n",
       "</div>"
      ],
      "text/plain": [
       "       rougher.output.recovery  final.output.recovery\n",
       "count             13470.000000           13470.000000\n",
       "mean                 84.857071              67.213690\n",
       "std                   7.258538               8.318982\n",
       "min                  55.050947              35.105022\n",
       "25%                  80.558872              62.955420\n",
       "50%                  85.648396              67.547893\n",
       "75%                  90.368332              72.409952\n",
       "max                 100.000000             100.000000"
      ]
     },
     "execution_count": 63,
     "metadata": {},
     "output_type": "execute_result"
    }
   ],
   "source": [
    "data_train = concentration_clean2(data_train,'rougher.output.recovery','final.output.recovery',55,35)\n",
    "data_train[['rougher.output.recovery','final.output.recovery']].describe()"
   ]
  },
  {
   "cell_type": "markdown",
   "metadata": {},
   "source": [
    "Удалим данные из тестовой выборки"
   ]
  },
  {
   "cell_type": "code",
   "execution_count": 64,
   "metadata": {},
   "outputs": [
    {
     "data": {
      "text/html": [
       "<div>\n",
       "<style scoped>\n",
       "    .dataframe tbody tr th:only-of-type {\n",
       "        vertical-align: middle;\n",
       "    }\n",
       "\n",
       "    .dataframe tbody tr th {\n",
       "        vertical-align: top;\n",
       "    }\n",
       "\n",
       "    .dataframe thead th {\n",
       "        text-align: right;\n",
       "    }\n",
       "</style>\n",
       "<table border=\"1\" class=\"dataframe\">\n",
       "  <thead>\n",
       "    <tr style=\"text-align: right;\">\n",
       "      <th></th>\n",
       "      <th>rougher.output.recovery</th>\n",
       "      <th>final.output.recovery</th>\n",
       "    </tr>\n",
       "  </thead>\n",
       "  <tbody>\n",
       "    <tr>\n",
       "      <th>count</th>\n",
       "      <td>5005.000000</td>\n",
       "      <td>5005.000000</td>\n",
       "    </tr>\n",
       "    <tr>\n",
       "      <th>mean</th>\n",
       "      <td>86.978368</td>\n",
       "      <td>69.248823</td>\n",
       "    </tr>\n",
       "    <tr>\n",
       "      <th>std</th>\n",
       "      <td>4.724165</td>\n",
       "      <td>6.678996</td>\n",
       "    </tr>\n",
       "    <tr>\n",
       "      <th>min</th>\n",
       "      <td>56.179625</td>\n",
       "      <td>38.519412</td>\n",
       "    </tr>\n",
       "    <tr>\n",
       "      <th>25%</th>\n",
       "      <td>84.953720</td>\n",
       "      <td>65.900248</td>\n",
       "    </tr>\n",
       "    <tr>\n",
       "      <th>50%</th>\n",
       "      <td>87.532575</td>\n",
       "      <td>70.009681</td>\n",
       "    </tr>\n",
       "    <tr>\n",
       "      <th>75%</th>\n",
       "      <td>89.827854</td>\n",
       "      <td>73.320629</td>\n",
       "    </tr>\n",
       "    <tr>\n",
       "      <th>max</th>\n",
       "      <td>99.169699</td>\n",
       "      <td>100.000000</td>\n",
       "    </tr>\n",
       "  </tbody>\n",
       "</table>\n",
       "</div>"
      ],
      "text/plain": [
       "       rougher.output.recovery  final.output.recovery\n",
       "count              5005.000000            5005.000000\n",
       "mean                 86.978368              69.248823\n",
       "std                   4.724165               6.678996\n",
       "min                  56.179625              38.519412\n",
       "25%                  84.953720              65.900248\n",
       "50%                  87.532575              70.009681\n",
       "75%                  89.827854              73.320629\n",
       "max                  99.169699             100.000000"
      ]
     },
     "execution_count": 64,
     "metadata": {},
     "output_type": "execute_result"
    }
   ],
   "source": [
    "data_test = concentration_clean2(data_test,'rougher.output.recovery','final.output.recovery',55,35)\n",
    "data_test[['rougher.output.recovery','final.output.recovery']].describe()"
   ]
  },
  {
   "cell_type": "markdown",
   "metadata": {},
   "source": [
    "Вывод\n",
    "Мы удалили все не вошедшие признаки из тренировочной выборки, так как по факту они абсолютно бесполезны. Если у нас концентрация всех веществ 0, то из такого сырья ничего полезного мы не получим. Такие выбросы могли появиться, из-за сбоя на прозводстве и пр. факторов."
   ]
  },
  {
   "cell_type": "markdown",
   "metadata": {},
   "source": [
    "## Модель"
   ]
  },
  {
   "cell_type": "markdown",
   "metadata": {},
   "source": [
    "Отделим целевые выборки от тренировочных и тестовых данных и присвоим им свои переменные для дальнейшего обучения"
   ]
  },
  {
   "cell_type": "markdown",
   "metadata": {},
   "source": [
    "Тренировочная выборка"
   ]
  },
  {
   "cell_type": "code",
   "execution_count": 65,
   "metadata": {},
   "outputs": [],
   "source": [
    "data_train=data_train.drop('date',axis=1)"
   ]
  },
  {
   "cell_type": "code",
   "execution_count": 66,
   "metadata": {},
   "outputs": [],
   "source": [
    "dt_train_features = data_train.drop(['rougher.output.recovery','final.output.recovery'], axis=1)\n",
    "dt_train_target_r = data_train['rougher.output.recovery']\n",
    "dt_train_target_f = data_train['final.output.recovery']"
   ]
  },
  {
   "cell_type": "markdown",
   "metadata": {},
   "source": [
    "Применим масштабирование данных для более качественного обучения моделей на тренировочной выборке"
   ]
  },
  {
   "cell_type": "code",
   "execution_count": 67,
   "metadata": {},
   "outputs": [],
   "source": [
    "numeric = dt_train_features.columns\n",
    "scaler_rougher = StandardScaler()\n",
    "scaler_rougher.fit(dt_train_features[numeric]) \n",
    "dt_train_features[numeric] = scaler_rougher.transform(dt_train_features[numeric])"
   ]
  },
  {
   "cell_type": "code",
   "execution_count": 68,
   "metadata": {},
   "outputs": [
    {
     "data": {
      "image/png": "[encoded data removed]",
      "text/plain": [
       "<Figure size 792x288 with 1 Axes>"
      ]
     },
     "metadata": {
      "needs_background": "light"
     },
     "output_type": "display_data"
    }
   ],
   "source": [
    "plt.figure(figsize=(11,4))\n",
    "dt_train_target_r.hist(bins=40)\n",
    "plt.show()"
   ]
  },
  {
   "cell_type": "code",
   "execution_count": 69,
   "metadata": {},
   "outputs": [
    {
     "data": {
      "image/png": "[encoded data removed]",
      "text/plain": [
       "<Figure size 792x288 with 1 Axes>"
      ]
     },
     "metadata": {
      "needs_background": "light"
     },
     "output_type": "display_data"
    }
   ],
   "source": [
    "plt.figure(figsize=(11,4))\n",
    "dt_train_target_f.hist(bins=40)\n",
    "plt.show()"
   ]
  },
  {
   "cell_type": "markdown",
   "metadata": {},
   "source": [
    "тестовая выборка"
   ]
  },
  {
   "cell_type": "code",
   "execution_count": 70,
   "metadata": {},
   "outputs": [],
   "source": [
    "data_test=data_test.drop('date',axis=1)"
   ]
  },
  {
   "cell_type": "code",
   "execution_count": 71,
   "metadata": {},
   "outputs": [],
   "source": [
    "dt_test_features = data_test.drop(['rougher.output.recovery','final.output.recovery'], axis=1)\n",
    "dt_test_target_r = data_test['rougher.output.recovery']\n",
    "dt_test_target_f = data_test['final.output.recovery']"
   ]
  },
  {
   "cell_type": "markdown",
   "metadata": {},
   "source": [
    "Применим масштабирование данных для более качественного обучения моделей на тестовой выборке"
   ]
  },
  {
   "cell_type": "code",
   "execution_count": 72,
   "metadata": {},
   "outputs": [],
   "source": [
    "numerict = dt_test_features.columns\n",
    "\n",
    "dt_test_features[numeric] = scaler_rougher.transform(dt_test_features[numerict])"
   ]
  },
  {
   "cell_type": "code",
   "execution_count": 73,
   "metadata": {},
   "outputs": [
    {
     "data": {
      "image/png": "[encoded data removed]",
      "text/plain": [
       "<Figure size 792x288 with 1 Axes>"
      ]
     },
     "metadata": {
      "needs_background": "light"
     },
     "output_type": "display_data"
    }
   ],
   "source": [
    "plt.figure(figsize=(11,4))\n",
    "dt_test_target_r.hist(bins=50)\n",
    "plt.show()"
   ]
  },
  {
   "cell_type": "code",
   "execution_count": 74,
   "metadata": {},
   "outputs": [
    {
     "data": {
      "image/png": "[encoded data removed]",
      "text/plain": [
       "<Figure size 792x288 with 1 Axes>"
      ]
     },
     "metadata": {
      "needs_background": "light"
     },
     "output_type": "display_data"
    }
   ],
   "source": [
    "plt.figure(figsize=(11,4))\n",
    "dt_test_target_f.hist(bins=50)\n",
    "plt.show()"
   ]
  },
  {
   "cell_type": "markdown",
   "metadata": {},
   "source": [
    "Напишем функцию для вычисления итоговой sMAPE"
   ]
  },
  {
   "cell_type": "code",
   "execution_count": 75,
   "metadata": {},
   "outputs": [],
   "source": [
    "def sMAPE(y, y_pred):\n",
    "    results = abs(y - y_pred) / ((abs(y) + abs(y_pred)) / 2)\n",
    "    return -1*((results.sum() / len(results)) * 100).round(2)"
   ]
  },
  {
   "cell_type": "code",
   "execution_count": 76,
   "metadata": {},
   "outputs": [
    {
     "data": {
      "text/plain": [
       "-0.0"
      ]
     },
     "execution_count": 76,
     "metadata": {},
     "output_type": "execute_result"
    }
   ],
   "source": [
    "sMAPE(target_dt,predict_dt)"
   ]
  },
  {
   "cell_type": "markdown",
   "metadata": {},
   "source": [
    "Итоговое sMAPE"
   ]
  },
  {
   "cell_type": "code",
   "execution_count": 77,
   "metadata": {},
   "outputs": [],
   "source": [
    "def fin_smape2(rougher,final):\n",
    "    fin_smape = (0.25*rougher)+(0.75*final)\n",
    "    return fin_smape.round(2)"
   ]
  },
  {
   "cell_type": "markdown",
   "metadata": {},
   "source": [
    "Создадим константную модель и проверим значение sMAPE на её данных"
   ]
  },
  {
   "cell_type": "markdown",
   "metadata": {},
   "source": [
    "rougher.output.recovery"
   ]
  },
  {
   "cell_type": "code",
   "execution_count": 78,
   "metadata": {},
   "outputs": [
    {
     "data": {
      "text/plain": [
       "7.4"
      ]
     },
     "execution_count": 78,
     "metadata": {},
     "output_type": "execute_result"
    }
   ],
   "source": [
    "model_const_r=DummyRegressor(strategy=\"median\")\n",
    "model_const_r.fit(dt_train_features,dt_train_target_r)\n",
    "predict_const_model_r=cross_val_score(model_const_r,dt_train_features,dt_train_target_r, cv=5, scoring=make_scorer(sMAPE, greater_is_better=False)).mean()\n",
    "predict_const_model_r.round(2)"
   ]
  },
  {
   "cell_type": "markdown",
   "metadata": {},
   "source": [
    "final.output.recovery"
   ]
  },
  {
   "cell_type": "code",
   "execution_count": 79,
   "metadata": {},
   "outputs": [
    {
     "data": {
      "text/plain": [
       "9.57"
      ]
     },
     "execution_count": 79,
     "metadata": {},
     "output_type": "execute_result"
    }
   ],
   "source": [
    "model_const_f=DummyRegressor(strategy=\"median\")\n",
    "model_const_f.fit(dt_train_features,dt_train_target_f)\n",
    "\n",
    "predict_const_model_f =cross_val_score(model_const_f,dt_train_features,dt_train_target_f, cv=5, scoring=make_scorer(sMAPE, greater_is_better=False)).mean()\n",
    "predict_const_model_f.round(2)"
   ]
  },
  {
   "cell_type": "markdown",
   "metadata": {},
   "source": [
    "Проверим результат\n",
    "\n",
    "Вычислим итоговое значение sMAPE константной модели"
   ]
  },
  {
   "cell_type": "code",
   "execution_count": 80,
   "metadata": {},
   "outputs": [
    {
     "name": "stdout",
     "output_type": "stream",
     "text": [
      "Итоговое значение sMAPE константной модели:  9.03\n"
     ]
    }
   ],
   "source": [
    "const_model_smape = fin_smape2(predict_const_model_r,predict_const_model_f)\n",
    "print('Итоговое значение sMAPE константной модели: ', const_model_smape)"
   ]
  },
  {
   "cell_type": "markdown",
   "metadata": {},
   "source": [
    "Константная модель создана. Теперь проверим качество предсказания наших моделей"
   ]
  },
  {
   "cell_type": "markdown",
   "metadata": {},
   "source": [
    "Обучим разные модели и оценим их качество кросс-валидацией"
   ]
  },
  {
   "cell_type": "markdown",
   "metadata": {},
   "source": [
    "Дерево решений"
   ]
  },
  {
   "cell_type": "markdown",
   "metadata": {},
   "source": [
    "Создадим функцию для проверки качества модели на кросс-валидации"
   ]
  },
  {
   "cell_type": "code",
   "execution_count": 81,
   "metadata": {},
   "outputs": [],
   "source": [
    "def cross_validat(model):\n",
    "    score_val = (cross_val_score(model, dt_train_features, dt_train_target_r, cv=5, scoring=make_scorer(sMAPE, greater_is_better=True))).mean() \n",
    "    print('Cреднее значение sMAPE для `rougher`: ',-1*score_val.round(2))\n",
    "\n",
    "    \n",
    "    score_val_f = (cross_val_score(model, dt_train_features, dt_train_target_f, cv=5, scoring=make_scorer(sMAPE, greater_is_better=True))).mean() \n",
    "    print('Cреднее значение sMAPE для `final`: ',-1*score_val_f.round(2))\n",
    "\n",
    "    fin_score_smape= fin_smape2(score_val,score_val_f)\n",
    "    print('Итоговое sMAPE модели на кросс-валидации: ',-1*fin_score_smape.round(2)) "
   ]
  },
  {
   "cell_type": "markdown",
   "metadata": {},
   "source": [
    "Оценим модель методом кросс-валидации при помощи нашей функции"
   ]
  },
  {
   "cell_type": "code",
   "execution_count": 82,
   "metadata": {},
   "outputs": [
    {
     "name": "stdout",
     "output_type": "stream",
     "text": [
      "Cреднее значение sMAPE для `rougher`:  8.21\n",
      "Cреднее значение sMAPE для `final`:  15.38\n",
      "Итоговое sMAPE модели на кросс-валидации:  13.58\n"
     ]
    }
   ],
   "source": [
    "cross_validat(DecisionTreeRegressor(random_state=12345))"
   ]
  },
  {
   "cell_type": "markdown",
   "metadata": {},
   "source": [
    "Подберём параметры для модели Дерево решений при помощи цикла for"
   ]
  },
  {
   "cell_type": "markdown",
   "metadata": {},
   "source": [
    "rougher.output.recovery"
   ]
  },
  {
   "cell_type": "code",
   "execution_count": 83,
   "metadata": {},
   "outputs": [
    {
     "data": {
      "application/vnd.jupyter.widget-view+json": {
       "model_id": "15bf71ed0a9148ef9276340139ff1b62",
       "version_major": 2,
       "version_minor": 0
      },
      "text/plain": [
       "  0%|          | 0/12 [00:00<?, ?it/s]"
      ]
     },
     "metadata": {},
     "output_type": "display_data"
    },
    {
     "name": "stdout",
     "output_type": "stream",
     "text": [
      "Значение sMAPE наилучшей модели для целевого признака `rougher.output.recovery`: 6.65 \n",
      "Количество деревьев: 4\n"
     ]
    }
   ],
   "source": [
    "best_model = None\n",
    "best_result_r = 100\n",
    "best_depth = 0\n",
    "for depth in tqdm(range(1, 13)):\n",
    "    model_dr = DecisionTreeRegressor(random_state=12345, max_depth=depth)\n",
    "    #model.fit(dt_train_features,dt_train_target_r) \n",
    "   # predictions_valid_r = model.predict(dt_train_features) \n",
    "    result = -1*cross_val_score(model_dr,dt_train_features,dt_train_target_r, cv=5, scoring=make_scorer(sMAPE, greater_is_better=True)).mean()\n",
    "    #result = -1*sMAPE(dt_train_target_r,predictions_valid_r)\n",
    "    if result < best_result_r:\n",
    "        best_model = model_dr\n",
    "        best_result_r = result.round(2)\n",
    "        best_depth = depth\n",
    "\n",
    "print(\"Значение sMAPE наилучшей модели для целевого признака `rougher.output.recovery`:\", best_result_r, \"\\nКоличество деревьев:\", best_depth)"
   ]
  },
  {
   "cell_type": "markdown",
   "metadata": {},
   "source": [
    "final.output.recovery"
   ]
  },
  {
   "cell_type": "code",
   "execution_count": 84,
   "metadata": {},
   "outputs": [
    {
     "data": {
      "application/vnd.jupyter.widget-view+json": {
       "model_id": "2b27a3dbefa44992a266c32a4fba7c46",
       "version_major": 2,
       "version_minor": 0
      },
      "text/plain": [
       "  0%|          | 0/12 [00:00<?, ?it/s]"
      ]
     },
     "metadata": {},
     "output_type": "display_data"
    },
    {
     "name": "stdout",
     "output_type": "stream",
     "text": [
      "Значение sMAPE наилучшей модели для целевого признака `final.output.recovery`: 8.7 \n",
      "Количество деревьев: 1\n"
     ]
    }
   ],
   "source": [
    "best_model = None\n",
    "best_result_f = 100\n",
    "best_depth_f = 0\n",
    "for depth in tqdm(range(1, 13)):\n",
    "    model_d = DecisionTreeRegressor(random_state=12345, max_depth=depth)\n",
    "  \n",
    "    result = -1*cross_val_score(model_d,dt_train_features,dt_train_target_f, cv=5, scoring=make_scorer(sMAPE, greater_is_better=True)).mean()\n",
    "    if result < best_result_f:\n",
    "        best_model = model_d\n",
    "        best_result_f = result.round(2)\n",
    "        best_depth_f = depth\n",
    "\n",
    "print(\"Значение sMAPE наилучшей модели для целевого признака `final.output.recovery`:\", best_result_f, \"\\nКоличество деревьев:\", best_depth_f)"
   ]
  },
  {
   "cell_type": "markdown",
   "metadata": {},
   "source": [
    "Итоговое значение sMAPE модели Дерева решений"
   ]
  },
  {
   "cell_type": "code",
   "execution_count": 85,
   "metadata": {},
   "outputs": [
    {
     "name": "stdout",
     "output_type": "stream",
     "text": [
      "Итоговое значение sMAPE модели Дерева решений при подборе циклом `for`:  8.19\n"
     ]
    }
   ],
   "source": [
    "fin_score_dtf = fin_smape2(best_result_r,best_result_f)\n",
    "print('Итоговое значение sMAPE модели Дерева решений при подборе циклом `for`: ', fin_score_dtf )"
   ]
  },
  {
   "cell_type": "markdown",
   "metadata": {},
   "source": [
    "Подберём параметры для модели Дерева решений при помощи GridSearchCV"
   ]
  },
  {
   "cell_type": "markdown",
   "metadata": {},
   "source": [
    "rougher.output.recovery"
   ]
  },
  {
   "cell_type": "code",
   "execution_count": 86,
   "metadata": {},
   "outputs": [
    {
     "name": "stdout",
     "output_type": "stream",
     "text": [
      "Для целевого признака `rougher.output.recovery` значение sMAPE равно: 8.52 \n",
      "Максимальная глубина: 12\n"
     ]
    }
   ],
   "source": [
    "parametrs_r = { 'max_depth': range (1,13) }\n",
    "model_d = DecisionTreeRegressor(random_state=12345)  \n",
    "grid_r = GridSearchCV(model_d, parametrs_r, cv=5, scoring=make_scorer(sMAPE, greater_is_better=False))\n",
    "grid_r.fit(dt_train_features, dt_train_target_r)\n",
    "best_score_r = grid_r.best_score_\n",
    "parametrs_r_gs = pd.Series(grid_r.best_params_)[0]\n",
    "print('Для целевого признака `rougher.output.recovery` значение sMAPE равно: {:.2f}'.format(best_score_r), '\\nМаксимальная глубина:',parametrs_r_gs)"
   ]
  },
  {
   "cell_type": "markdown",
   "metadata": {},
   "source": [
    "final.output.recovery"
   ]
  },
  {
   "cell_type": "code",
   "execution_count": 87,
   "metadata": {},
   "outputs": [
    {
     "name": "stdout",
     "output_type": "stream",
     "text": [
      "Для целевого признака `final.output.recovery` значение sMAPE равно: 13.86 \n",
      "Максимальная глубина: 11\n"
     ]
    }
   ],
   "source": [
    "parametrs_f = {'max_depth': range (1,13)}\n",
    "model_df = DecisionTreeRegressor(random_state=12345)         \n",
    "grid_r = GridSearchCV(model_df, parametrs_f, cv=5, scoring=make_scorer(sMAPE, greater_is_better=False))\n",
    "grid_r.fit(dt_train_features, dt_train_target_f)\n",
    "parametrs_f_gs=pd.Series(grid_r.best_params_)[0]\n",
    "best_score_f = -1*grid_r.best_score_\n",
    "print('Для целевого признака `final.output.recovery` значение sMAPE равно: {:.2f}'.format(best_score_f), '\\nМаксимальная глубина:',parametrs_f_gs)"
   ]
  },
  {
   "cell_type": "markdown",
   "metadata": {},
   "source": [
    "Итоговое значение sMAPE модели Дерева решений"
   ]
  },
  {
   "cell_type": "code",
   "execution_count": 88,
   "metadata": {},
   "outputs": [
    {
     "name": "stdout",
     "output_type": "stream",
     "text": [
      "Итоговое значение sMAPE модели Дерева решений при подборе параметров методом GridSearchCV:  12.53\n"
     ]
    }
   ],
   "source": [
    "fin_score_dt= fin_smape2(best_score_r,best_score_f)\n",
    "print('Итоговое значение sMAPE модели Дерева решений при подборе параметров методом GridSearchCV: ',fin_score_dt) "
   ]
  },
  {
   "cell_type": "markdown",
   "metadata": {},
   "source": [
    "# Cлучайный лес регрессии"
   ]
  },
  {
   "cell_type": "markdown",
   "metadata": {},
   "source": [
    "Оценим модель методом кросс-валидации при помощи нашей функции"
   ]
  },
  {
   "cell_type": "code",
   "execution_count": 89,
   "metadata": {},
   "outputs": [
    {
     "name": "stdout",
     "output_type": "stream",
     "text": [
      "Cреднее значение sMAPE для `rougher`:  6.51\n",
      "Cреднее значение sMAPE для `final`:  8.66\n",
      "Итоговое sMAPE модели на кросс-валидации:  8.12\n"
     ]
    }
   ],
   "source": [
    "cross_validat(RandomForestRegressor(random_state=12345))"
   ]
  },
  {
   "cell_type": "markdown",
   "metadata": {},
   "source": [
    "Подберём параметры для модели Случайный лес при помощи GridSearchCV"
   ]
  },
  {
   "cell_type": "markdown",
   "metadata": {},
   "source": [
    "rougher.output.recovery"
   ]
  },
  {
   "cell_type": "code",
   "execution_count": 90,
   "metadata": {},
   "outputs": [],
   "source": [
    "parametrs = { 'n_estimators': range (1, 10, 2),\n",
    "              'max_depth': range (1, 13, 2)}"
   ]
  },
  {
   "cell_type": "code",
   "execution_count": 91,
   "metadata": {},
   "outputs": [
    {
     "name": "stdout",
     "output_type": "stream",
     "text": [
      "Для целевого признака `rougher.output.recovery` значение sMAPE равно: 6.18 \n",
      "Максимальная глубина: 5 \n",
      "Количество деревьев: 9\n"
     ]
    }
   ],
   "source": [
    "model_rf = RandomForestRegressor(random_state=12345)\n",
    "grid_rf = GridSearchCV(model_rf, parametrs, cv=5, scoring=make_scorer(sMAPE, greater_is_better=False))\n",
    "grid_rf.fit(dt_train_features, dt_train_target_r)\n",
    "\n",
    "best_score_rf = -1*grid_rf.best_score_\n",
    "\n",
    "parametrs_r_gs_d=pd.Series(grid_rf.best_params_)[0]\n",
    "parametrs_r_gs_n=pd.Series(grid_rf.best_params_)[1]\n",
    "print('Для целевого признака `rougher.output.recovery` значение sMAPE равно: {:.2f}'. format(best_score_rf), '\\nМаксимальная глубина:',parametrs_r_gs_d, '\\nКоличество деревьев:',parametrs_r_gs_n)\n"
   ]
  },
  {
   "cell_type": "markdown",
   "metadata": {},
   "source": [
    "final.output.recovery"
   ]
  },
  {
   "cell_type": "code",
   "execution_count": 92,
   "metadata": {},
   "outputs": [
    {
     "name": "stdout",
     "output_type": "stream",
     "text": [
      "Для целевого признака `final.output.recovery` значение sMAPE равно: 8.19 \n",
      "Максимальная глубина: 5 \n",
      "Количество деревьев: 9\n"
     ]
    }
   ],
   "source": [
    "model_rff = RandomForestRegressor(random_state=12345)\n",
    "grid_rff = GridSearchCV(model_rff, parametrs, cv=5, scoring=make_scorer(sMAPE, greater_is_better=False))\n",
    "grid_rff.fit(dt_train_features, dt_train_target_f)\n",
    "result_gs_f= grid_rff.best_score_\n",
    "\n",
    "parametrs_f_gs_d=pd.Series(grid_rff.best_params_)[0]\n",
    "parametrs_f_gs_n=pd.Series(grid_rff.best_params_)[1]\n",
    "print('Для целевого признака `final.output.recovery` значение sMAPE равно: {:.2f}'.format(result_gs_f), '\\nМаксимальная глубина:',parametrs_f_gs_d, '\\nКоличество деревьев:',parametrs_f_gs_n)\n"
   ]
  },
  {
   "cell_type": "code",
   "execution_count": 93,
   "metadata": {},
   "outputs": [
    {
     "name": "stdout",
     "output_type": "stream",
     "text": [
      "Итоговое значение sMAPE модели Дерева решений при подборе параметров методом GridSearchCV:  7.69\n"
     ]
    }
   ],
   "source": [
    "fin_score_rf= fin_smape2(best_score_rf,result_gs_f)\n",
    "print('Итоговое значение sMAPE модели Дерева решений при подборе параметров методом GridSearchCV: ',fin_score_rf) "
   ]
  },
  {
   "cell_type": "markdown",
   "metadata": {},
   "source": [
    "Подберём параметры для модели Случайный лес при помощи цикла for"
   ]
  },
  {
   "cell_type": "markdown",
   "metadata": {},
   "source": [
    "rougher.output.recovery"
   ]
  },
  {
   "cell_type": "code",
   "execution_count": 94,
   "metadata": {},
   "outputs": [
    {
     "data": {
      "application/vnd.jupyter.widget-view+json": {
       "model_id": "baad6fe0b99e4cd48f44a1f6acdecc95",
       "version_major": 2,
       "version_minor": 0
      },
      "text/plain": [
       "  0%|          | 0/5 [00:00<?, ?it/s]"
      ]
     },
     "metadata": {},
     "output_type": "display_data"
    },
    {
     "data": {
      "application/vnd.jupyter.widget-view+json": {
       "model_id": "",
       "version_major": 2,
       "version_minor": 0
      },
      "text/plain": [
       "depth loop:   0%|          | 0/6 [00:00<?, ?it/s]"
      ]
     },
     "metadata": {},
     "output_type": "display_data"
    },
    {
     "data": {
      "application/vnd.jupyter.widget-view+json": {
       "model_id": "",
       "version_major": 2,
       "version_minor": 0
      },
      "text/plain": [
       "depth loop:   0%|          | 0/6 [00:00<?, ?it/s]"
      ]
     },
     "metadata": {},
     "output_type": "display_data"
    },
    {
     "data": {
      "application/vnd.jupyter.widget-view+json": {
       "model_id": "",
       "version_major": 2,
       "version_minor": 0
      },
      "text/plain": [
       "depth loop:   0%|          | 0/6 [00:00<?, ?it/s]"
      ]
     },
     "metadata": {},
     "output_type": "display_data"
    },
    {
     "data": {
      "application/vnd.jupyter.widget-view+json": {
       "model_id": "",
       "version_major": 2,
       "version_minor": 0
      },
      "text/plain": [
       "depth loop:   0%|          | 0/6 [00:00<?, ?it/s]"
      ]
     },
     "metadata": {},
     "output_type": "display_data"
    },
    {
     "data": {
      "application/vnd.jupyter.widget-view+json": {
       "model_id": "",
       "version_major": 2,
       "version_minor": 0
      },
      "text/plain": [
       "depth loop:   0%|          | 0/6 [00:00<?, ?it/s]"
      ]
     },
     "metadata": {},
     "output_type": "display_data"
    },
    {
     "name": "stdout",
     "output_type": "stream",
     "text": [
      "Значение sMAPE наилучшей модели для целевого признака `rougher.output.recovery`: 6.18 \n",
      "Количество деревьев: 9 \n",
      "Максимальная глубина: 5\n"
     ]
    }
   ],
   "source": [
    "best_model = None\n",
    "best_result_r = 100\n",
    "best_est_r = 0\n",
    "best_depth_r = 0\n",
    "for est in tqdm(range(1,10, 2)):\n",
    "    for depth in tqdm(range (1,13,2), desc='depth loop', leave=False):\n",
    "        model_rf = RandomForestRegressor(random_state=12345, n_estimators=est, max_depth=depth)\n",
    "\n",
    "        result_rf = -1*cross_val_score(model_rf,dt_train_features,dt_train_target_r, cv=5, scoring=make_scorer(sMAPE, greater_is_better=True)).mean()\n",
    "     \n",
    "\n",
    "        if result_rf < best_result_r:\n",
    "            best_model = model_rf\n",
    "            best_result_r = result_rf\n",
    "            best_est_r = est\n",
    "            best_depth_r = depth\n",
    "\n",
    "print(\"Значение sMAPE наилучшей модели для целевого признака `rougher.output.recovery`:\", best_result_r.round(2), \"\\nКоличество деревьев:\", best_est_r, \"\\nМаксимальная глубина:\", best_depth_r)\n"
   ]
  },
  {
   "cell_type": "markdown",
   "metadata": {},
   "source": [
    "final.output.recovery"
   ]
  },
  {
   "cell_type": "code",
   "execution_count": 95,
   "metadata": {},
   "outputs": [
    {
     "data": {
      "application/vnd.jupyter.widget-view+json": {
       "model_id": "e8ef4f2138ad47deb84fff75b7a67a1b",
       "version_major": 2,
       "version_minor": 0
      },
      "text/plain": [
       "  0%|          | 0/5 [00:00<?, ?it/s]"
      ]
     },
     "metadata": {},
     "output_type": "display_data"
    },
    {
     "data": {
      "application/vnd.jupyter.widget-view+json": {
       "model_id": "",
       "version_major": 2,
       "version_minor": 0
      },
      "text/plain": [
       "depth loop:   0%|          | 0/6 [00:00<?, ?it/s]"
      ]
     },
     "metadata": {},
     "output_type": "display_data"
    },
    {
     "data": {
      "application/vnd.jupyter.widget-view+json": {
       "model_id": "",
       "version_major": 2,
       "version_minor": 0
      },
      "text/plain": [
       "depth loop:   0%|          | 0/6 [00:00<?, ?it/s]"
      ]
     },
     "metadata": {},
     "output_type": "display_data"
    },
    {
     "data": {
      "application/vnd.jupyter.widget-view+json": {
       "model_id": "",
       "version_major": 2,
       "version_minor": 0
      },
      "text/plain": [
       "depth loop:   0%|          | 0/6 [00:00<?, ?it/s]"
      ]
     },
     "metadata": {},
     "output_type": "display_data"
    },
    {
     "data": {
      "application/vnd.jupyter.widget-view+json": {
       "model_id": "",
       "version_major": 2,
       "version_minor": 0
      },
      "text/plain": [
       "depth loop:   0%|          | 0/6 [00:00<?, ?it/s]"
      ]
     },
     "metadata": {},
     "output_type": "display_data"
    },
    {
     "data": {
      "application/vnd.jupyter.widget-view+json": {
       "model_id": "",
       "version_major": 2,
       "version_minor": 0
      },
      "text/plain": [
       "depth loop:   0%|          | 0/6 [00:00<?, ?it/s]"
      ]
     },
     "metadata": {},
     "output_type": "display_data"
    },
    {
     "name": "stdout",
     "output_type": "stream",
     "text": [
      "Значение sMAPE наилучшей модели для целевого признака `final.output.recovery`: 8.19 \n",
      "Количество деревьев: 9 \n",
      "Максимальная глубина: 5\n"
     ]
    }
   ],
   "source": [
    "best_model = None\n",
    "best_result_f = 100\n",
    "best_est_f = 0\n",
    "best_depth_f = 0\n",
    "for est in tqdm(range(1,10, 2)):\n",
    "    for depth in tqdm(range (1,13, 2), desc='depth loop', leave=False):\n",
    "        model_rff = RandomForestRegressor(random_state=12345, n_estimators=est, max_depth=depth)\n",
    "    \n",
    "        result_rf = -1*cross_val_score(model_rff,dt_train_features,dt_train_target_f, cv=5, scoring=make_scorer(sMAPE, greater_is_better=True)).mean() \n",
    "        if result_rf < best_result_f:\n",
    "            best_model = model_rff\n",
    "            best_result_f = result_rf\n",
    "            best_est_f = est\n",
    "            best_depth_f = depth\n",
    "\n",
    "print(\"Значение sMAPE наилучшей модели для целевого признака `final.output.recovery`:\", best_result_f.round(2), \"\\nКоличество деревьев:\", best_est_f, \"\\nМаксимальная глубина:\", best_depth_f)\n"
   ]
  },
  {
   "cell_type": "code",
   "execution_count": 96,
   "metadata": {},
   "outputs": [
    {
     "name": "stdout",
     "output_type": "stream",
     "text": [
      "Итоговое значение sMAPE модели Случайный лес при подборе циклом `for`:  7.69\n"
     ]
    }
   ],
   "source": [
    "fin_score_rff =fin_smape2(best_result_r,best_result_f)\n",
    "print('Итоговое значение sMAPE модели Случайный лес при подборе циклом `for`: ',fin_score_rff.round(2)) "
   ]
  },
  {
   "cell_type": "markdown",
   "metadata": {},
   "source": [
    "Линейная регрессия"
   ]
  },
  {
   "cell_type": "markdown",
   "metadata": {},
   "source": [
    "Оценим модель методом кросс-валидации при помощи нашей функции"
   ]
  },
  {
   "cell_type": "code",
   "execution_count": 97,
   "metadata": {},
   "outputs": [
    {
     "name": "stdout",
     "output_type": "stream",
     "text": [
      "Cреднее значение sMAPE для `rougher`:  6.66\n",
      "Cреднее значение sMAPE для `final`:  9.88\n",
      "Итоговое sMAPE модели на кросс-валидации:  9.07\n"
     ]
    }
   ],
   "source": [
    "cross_validat(LinearRegression())"
   ]
  },
  {
   "cell_type": "markdown",
   "metadata": {},
   "source": [
    "Подберём параметры для модели Линейная регрессия при помощи GridSearchCV"
   ]
  },
  {
   "cell_type": "markdown",
   "metadata": {},
   "source": [
    "rougher.output.recovery"
   ]
  },
  {
   "cell_type": "code",
   "execution_count": 98,
   "metadata": {},
   "outputs": [],
   "source": [
    "parametrs = { 'fit_intercept': [True],\n",
    "              'normalize': [True, False]}"
   ]
  },
  {
   "cell_type": "code",
   "execution_count": 99,
   "metadata": {},
   "outputs": [
    {
     "name": "stdout",
     "output_type": "stream",
     "text": [
      "Для целевого признака `rougher.output.recovery` значение sMAPE равно: 6.66 \n",
      "fit_intercept: True \n",
      "normalize: True\n"
     ]
    }
   ],
   "source": [
    "model_lr_r = LinearRegression()\n",
    "grid_lr_r = GridSearchCV(model_lr_r, parametrs, cv=5, scoring=make_scorer(sMAPE, greater_is_better=False))\n",
    "grid_lr_r.fit(dt_train_features, dt_train_target_r)\n",
    "\n",
    "fit_intercept_r=pd.Series(grid_lr_r.best_params_)[0]\n",
    "normalize_r=pd.Series(grid_lr_r.best_params_)[1]\n",
    "\n",
    "result_lr_r = grid_lr_r.best_score_\n",
    "print('Для целевого признака `rougher.output.recovery` значение sMAPE равно: {:.2f}'.format(result_lr_r), '\\nfit_intercept:',fit_intercept_r, '\\nnormalize:',normalize_r)\n"
   ]
  },
  {
   "cell_type": "markdown",
   "metadata": {},
   "source": [
    "final.output.recovery"
   ]
  },
  {
   "cell_type": "code",
   "execution_count": 100,
   "metadata": {},
   "outputs": [
    {
     "name": "stdout",
     "output_type": "stream",
     "text": [
      "Для целевого признака `rougher.output.recovery` значение sMAPE равно: 9.88 \n",
      "fit_intercept: True \n",
      "normalize: True\n",
      "CPU times: user 1.05 s, sys: 2.77 s, total: 3.82 s\n",
      "Wall time: 3.88 s\n"
     ]
    }
   ],
   "source": [
    "%%time\n",
    "model_lr_f = LinearRegression()\n",
    "grid_lr_f = GridSearchCV(model_lr_f, parametrs, cv=5, scoring=make_scorer(sMAPE, greater_is_better=False))\n",
    "grid_lr_f.fit(dt_train_features, dt_train_target_f)\n",
    "\n",
    "fit_intercept_f = pd.Series(grid_lr_f.best_params_)[0]\n",
    "normalize_f = pd.Series(grid_lr_f.best_params_)[1]\n",
    "result_lr_f=grid_lr_f.best_score_\n",
    "print('Для целевого признака `rougher.output.recovery` значение sMAPE равно: {:.2f}'.format(result_lr_f), '\\nfit_intercept:',fit_intercept_f, '\\nnormalize:',normalize_f)\n"
   ]
  },
  {
   "cell_type": "code",
   "execution_count": 101,
   "metadata": {},
   "outputs": [
    {
     "name": "stdout",
     "output_type": "stream",
     "text": [
      "Итоговое значение sMAPE модели Линейная регрессия:  9.07\n"
     ]
    }
   ],
   "source": [
    "fin_score_lr= fin_smape2(result_lr_r,result_lr_f)\n",
    "print('Итоговое значение sMAPE модели Линейная регрессия: ',fin_score_lr) "
   ]
  },
  {
   "cell_type": "markdown",
   "metadata": {},
   "source": [
    "Выберем лучшую модель и проверим её на тестовой выборке\n",
    "\n",
    "Т.к. модель Случайный лес показала наилудшие показатели значения sMAPE при подборе гиперпараметров и оценке её методом кросс-валидации, предсказания и проверку на тестовой выборке будем строить на ней. Так же мы рассмотрим вторую по показателям расчёта гиперпапарметров модель - Линейная регрессия, у неёпоказатели оценки модели на кросс-валидации не на много отстают от модели Случайный лес."
   ]
  },
  {
   "cell_type": "markdown",
   "metadata": {},
   "source": [
    "Случайный лес"
   ]
  },
  {
   "cell_type": "markdown",
   "metadata": {},
   "source": [
    "rougher.output.recovery"
   ]
  },
  {
   "cell_type": "code",
   "execution_count": 102,
   "metadata": {},
   "outputs": [
    {
     "data": {
      "text/plain": [
       "4.06"
      ]
     },
     "execution_count": 102,
     "metadata": {},
     "output_type": "execute_result"
    }
   ],
   "source": [
    "model_rf_test_r = RandomForestRegressor(random_state=12345, n_estimators=best_est_r, max_depth=best_depth_r)\n",
    "model_rf_test_r.fit(dt_train_features, dt_train_target_r) \n",
    "predictions_test_rf_r = model_rf_test_r.predict(dt_test_features)\n",
    "result_rf_test_r = -1*sMAPE(dt_test_target_r,predictions_test_rf_r)\n",
    "result_rf_test_r"
   ]
  },
  {
   "cell_type": "code",
   "execution_count": 103,
   "metadata": {},
   "outputs": [
    {
     "data": {
      "image/png": "[encoded data removed]",
      "text/plain": [
       "<Figure size 792x360 with 1 Axes>"
      ]
     },
     "metadata": {
      "needs_background": "light"
     },
     "output_type": "display_data"
    }
   ],
   "source": [
    "plt.figure(figsize=(11,5))\n",
    "pd.Series(predictions_test_rf_r).plot(kind='hist', bins=range(55,100))\n",
    "pd.Series(dt_test_target_r).plot(kind='hist', bins=range(55,100), alpha= 0.7)\n",
    "plt.legend(['Предсказания','Цели'])\n",
    "plt.title('Распределение значений предсказание/цель')\n",
    "plt.xlabel('Значение')\n",
    "plt.ylabel('Количество')\n",
    "plt.show()"
   ]
  },
  {
   "cell_type": "markdown",
   "metadata": {},
   "source": [
    "final.output.recovery"
   ]
  },
  {
   "cell_type": "code",
   "execution_count": 104,
   "metadata": {},
   "outputs": [
    {
     "data": {
      "text/plain": [
       "8.02"
      ]
     },
     "execution_count": 104,
     "metadata": {},
     "output_type": "execute_result"
    }
   ],
   "source": [
    "model_rf_test_f = RandomForestRegressor(random_state=12345, n_estimators=best_est_f, max_depth=best_depth_f)\n",
    "model_rf_test_f.fit(dt_train_features, dt_train_target_f) \n",
    "predictions_test_rf_f = model_rf_test_f.predict(dt_test_features)\n",
    "result_rf_test_f = -1*sMAPE(dt_test_target_f,predictions_test_rf_f)\n",
    "result_rf_test_f"
   ]
  },
  {
   "cell_type": "code",
   "execution_count": 105,
   "metadata": {},
   "outputs": [
    {
     "data": {
      "image/png": "[encoded data removed]",
      "text/plain": [
       "<Figure size 792x360 with 1 Axes>"
      ]
     },
     "metadata": {
      "needs_background": "light"
     },
     "output_type": "display_data"
    }
   ],
   "source": [
    "plt.figure(figsize=(11,5))\n",
    "pd.Series(predictions_test_rf_f).plot(kind='hist', bins=range(55,100), alpha=1)\n",
    "pd.Series(dt_test_target_f).plot(kind='hist', bins=range(55,100), alpha= 0.7)\n",
    "plt.legend(['Предсказания','Цели'])\n",
    "plt.title('Распределение значений предсказание/цель')\n",
    "plt.xlabel('Значение')\n",
    "plt.ylabel('Количество')\n",
    "plt.show()"
   ]
  },
  {
   "cell_type": "markdown",
   "metadata": {},
   "source": [
    "Итоговое значение sMAPE модели Случайный лес на тестовой выборке"
   ]
  },
  {
   "cell_type": "code",
   "execution_count": 106,
   "metadata": {},
   "outputs": [
    {
     "name": "stdout",
     "output_type": "stream",
     "text": [
      "Итоговое значение sMAPE модели Случайный лес:  7.03\n"
     ]
    }
   ],
   "source": [
    "fin_score_test_rf = fin_smape2(result_rf_test_r, result_rf_test_f)\n",
    "print('Итоговое значение sMAPE модели Случайный лес: ', fin_score_test_rf) "
   ]
  },
  {
   "cell_type": "markdown",
   "metadata": {},
   "source": [
    "Проверим результат при помощи Константной модели"
   ]
  },
  {
   "cell_type": "markdown",
   "metadata": {},
   "source": [
    "Константная модель"
   ]
  },
  {
   "cell_type": "code",
   "execution_count": 107,
   "metadata": {},
   "outputs": [
    {
     "data": {
      "text/plain": [
       "4.4"
      ]
     },
     "execution_count": 107,
     "metadata": {},
     "output_type": "execute_result"
    }
   ],
   "source": [
    "predict_const_model_rt = model_const_r.predict(dt_test_features)\n",
    "result_lr_const_rt = -1*sMAPE(dt_test_target_r,predict_const_model_rt)\n",
    "result_lr_const_rt"
   ]
  },
  {
   "cell_type": "code",
   "execution_count": 108,
   "metadata": {},
   "outputs": [
    {
     "data": {
      "image/png": "[encoded data removed]",
      "text/plain": [
       "<Figure size 792x360 with 1 Axes>"
      ]
     },
     "metadata": {
      "needs_background": "light"
     },
     "output_type": "display_data"
    }
   ],
   "source": [
    "plt.figure(figsize=(11,5))\n",
    "pd.Series(predict_const_model_rt).hist(bins=range(55,100))\n",
    "pd.Series(dt_test_target_r).hist(alpha=0.8, bins=range(55,100))\n",
    "plt.title('Распределение значений предсказание/цель')\n",
    "plt.xlabel('Значение')\n",
    "plt.ylabel('Количество')\n",
    "plt.show()"
   ]
  },
  {
   "cell_type": "code",
   "execution_count": 109,
   "metadata": {},
   "outputs": [
    {
     "data": {
      "text/plain": [
       "7.73"
      ]
     },
     "execution_count": 109,
     "metadata": {},
     "output_type": "execute_result"
    }
   ],
   "source": [
    "predict_const_model_ft = model_const_f.predict(dt_test_features)\n",
    "result_lr_const_ft = -1*sMAPE(dt_test_target_f,predict_const_model_ft)\n",
    "result_lr_const_ft"
   ]
  },
  {
   "cell_type": "code",
   "execution_count": 110,
   "metadata": {},
   "outputs": [
    {
     "data": {
      "image/png": "[encoded data removed]",
      "text/plain": [
       "<Figure size 792x360 with 1 Axes>"
      ]
     },
     "metadata": {
      "needs_background": "light"
     },
     "output_type": "display_data"
    }
   ],
   "source": [
    "plt.figure(figsize=(11,5))\n",
    "pd.Series(predict_const_model_ft).hist(bins=range(55,100))\n",
    "pd.Series(dt_test_target_f).hist(alpha=0.8, bins=range(55,100))\n",
    "plt.title('Распределение значений предсказание/цель')\n",
    "plt.xlabel('Значение')\n",
    "plt.ylabel('Количество')\n",
    "plt.show()"
   ]
  },
  {
   "cell_type": "markdown",
   "metadata": {},
   "source": [
    "Итоговое значение sMAPE константной модели на тестовой выборке"
   ]
  },
  {
   "cell_type": "code",
   "execution_count": 111,
   "metadata": {},
   "outputs": [
    {
     "name": "stdout",
     "output_type": "stream",
     "text": [
      "Итоговое значение sMAPE константной модели:  6.9\n"
     ]
    }
   ],
   "source": [
    "const_fin=fin_smape2(result_lr_const_rt,result_lr_const_ft)\n",
    "print('Итоговое значение sMAPE константной модели: ',const_fin) "
   ]
  },
  {
   "cell_type": "markdown",
   "metadata": {},
   "source": [
    "Для подведения итогового сравнения значений sMAPE на тестовых данных сведём их в таблицу"
   ]
  },
  {
   "cell_type": "code",
   "execution_count": 112,
   "metadata": {},
   "outputs": [
    {
     "data": {
      "text/html": [
       "<style  type=\"text/css\" >\n",
       "#T_168d4_row0_col0{\n",
       "            background-color:  coral;\n",
       "        }#T_168d4_row1_col0{\n",
       "            background-color:  yellowgreen;\n",
       "        }</style><table id=\"T_168d4_\" ><thead>    <tr>        <th class=\"blank level0\" ></th>        <th class=\"col_heading level0 col0\" >Итоговое значение sMAPE</th>    </tr></thead><tbody>\n",
       "                <tr>\n",
       "                        <th id=\"T_168d4_level0_row0\" class=\"row_heading level0 row0\" >Случайный лес</th>\n",
       "                        <td id=\"T_168d4_row0_col0\" class=\"data row0 col0\" >7.030000</td>\n",
       "            </tr>\n",
       "            <tr>\n",
       "                        <th id=\"T_168d4_level0_row1\" class=\"row_heading level0 row1\" >Константная модель</th>\n",
       "                        <td id=\"T_168d4_row1_col0\" class=\"data row1 col0\" >6.900000</td>\n",
       "            </tr>\n",
       "    </tbody></table>"
      ],
      "text/plain": [
       "<pandas.io.formats.style.Styler at 0x7f1553bb0550>"
      ]
     },
     "execution_count": 112,
     "metadata": {},
     "output_type": "execute_result"
    }
   ],
   "source": [
    "column=['Итоговое значение sMAPE']\n",
    "comparison_tabl = pd.DataFrame(index=['Случайный лес','Константная модель'], columns=['Итоговое значение sMAPE'])\n",
    "comparison_tabl['Итоговое значение sMAPE'] = fin_score_test_rf,const_fin\n",
    "\n",
    "comparison_tabl.style.highlight_min(color='yellowgreen',subset=column).highlight_null(null_color='lightgrey').highlight_max(color='coral',subset=column)\n"
   ]
  },
  {
   "cell_type": "code",
   "execution_count": 113,
   "metadata": {},
   "outputs": [
    {
     "name": "stdout",
     "output_type": "stream",
     "text": [
      "Отставание в результатах предсказания составляет: 1.85% от константной модели \n"
     ]
    }
   ],
   "source": [
    "print('Отставание в результатах предсказания составляет: {:.2%} от константной модели '. format(abs(6.9/7.03-1)))"
   ]
  },
  {
   "cell_type": "markdown",
   "metadata": {},
   "source": [
    "Вывод\n",
    "При сравнении с константной моделью качество предсказания незначительно отстаёт на значение sMAPE в 0,04(1,85%) , но по плотности распределения значений на графиках видно, что предсказания модели более качественные, т.к. идёт большее перекрытие значений по спектру возможных значений, в отличии от константной."
   ]
  },
  {
   "cell_type": "markdown",
   "metadata": {},
   "source": [
    "# Вывод"
   ]
  },
  {
   "cell_type": "markdown",
   "metadata": {},
   "source": [
    "\n",
    "Была проведена большая работа по обработке и анализу данных по результату которых мы выяснили какие данные нам требуется определить в результате обработки данных, а какие данные не должны попадать в обучение модели. К тому же скорректировали и распределение значений во всех выборках выбрав минимальное пороговое значение.\n",
    "Перед нами стояла не лёгкая задача по определению наилучшей модели, предсказания которой, должны уложиться ниже константной модели, которая в свою очередь предсказвает только одно медианное значение. Для этого мы выбирали модели при помощи кросс-валидации и подбирали гиперпараметры двумя способами:\n",
    "- подбором при помощи GridSearchCV\n",
    "- и циклом for\n",
    "В результате с незначительным отрывом в 0,04 sMAPE(1,85%),по отношению к двум моделям: Линейная регрессии и Случайный лес, лидировала Константной модель, но по плотности распределения значений на графиках видно, что предсказания наших обученных моделей более качественные, т.к. идёт большее перекрытие правильно угаданных значений."
   ]
  },
  {
   "cell_type": "markdown",
   "metadata": {},
   "source": [
    "## Чек-лист готовности проекта"
   ]
  },
  {
   "cell_type": "code",
   "execution_count": null,
   "metadata": {},
   "outputs": [],
   "source": []
  },
  {
   "cell_type": "markdown",
   "metadata": {},
   "source": [
    "- [x]  Jupyter Notebook открыт\n",
    "- [ ]  Весь код выполняется без ошибок\n",
    "- [ ]  Ячейки с кодом расположены в порядке выполнения\n",
    "- [ ]  Выполнен шаг 1: данные подготовлены\n",
    "    - [ ]  Проверена формула вычисления эффективности обогащения\n",
    "    - [ ]  Проанализированы признаки, недоступные в тестовой выборке\n",
    "    - [ ]  Проведена предобработка данных\n",
    "- [ ]  Выполнен шаг 2: данные проанализированы\n",
    "    - [ ]  Исследовано изменение концентрации элементов на каждом этапе\n",
    "    - [ ]  Проанализированы распределения размеров гранул на обучающей и тестовой выборках\n",
    "    - [ ]  Исследованы суммарные концентрации\n",
    "- [ ]  Выполнен шаг 3: построена модель прогнозирования\n",
    "    - [ ]  Написана функция для вычисления итогового *sMAPE*\n",
    "    - [ ]  Обучено и проверено несколько моделей\n",
    "    - [ ]  Выбрана лучшая модель, её качество проверено на тестовой выборке"
   ]
  }
 ],
 "metadata": {
  "ExecuteTimeLog": [
   {
    "duration": 2943,
    "start_time": "2023-04-10T09:49:15.186Z"
   },
   {
    "duration": 4,
    "start_time": "2023-04-10T09:50:00.878Z"
   },
   {
    "duration": 17,
    "start_time": "2023-04-10T09:51:45.189Z"
   },
   {
    "duration": 20,
    "start_time": "2023-04-10T09:52:14.132Z"
   },
   {
    "duration": 2182,
    "start_time": "2023-04-10T09:56:14.371Z"
   },
   {
    "duration": 3,
    "start_time": "2023-04-10T09:56:20.768Z"
   },
   {
    "duration": 17,
    "start_time": "2023-04-10T09:56:25.832Z"
   },
   {
    "duration": 16,
    "start_time": "2023-04-10T09:56:33.584Z"
   },
   {
    "duration": 24,
    "start_time": "2023-04-10T09:59:00.223Z"
   },
   {
    "duration": 4,
    "start_time": "2023-04-10T10:01:09.015Z"
   },
   {
    "duration": 18,
    "start_time": "2023-04-10T10:01:25.124Z"
   },
   {
    "duration": 16,
    "start_time": "2023-04-10T10:04:40.239Z"
   },
   {
    "duration": 4,
    "start_time": "2023-04-10T10:05:33.080Z"
   },
   {
    "duration": 18,
    "start_time": "2023-04-10T10:06:10.246Z"
   },
   {
    "duration": 17,
    "start_time": "2023-04-10T10:08:27.299Z"
   },
   {
    "duration": 5,
    "start_time": "2023-04-10T10:09:26.770Z"
   },
   {
    "duration": 65,
    "start_time": "2023-04-10T19:40:22.444Z"
   },
   {
    "duration": 4100,
    "start_time": "2023-04-10T19:40:27.461Z"
   },
   {
    "duration": 6,
    "start_time": "2023-04-10T19:40:31.563Z"
   },
   {
    "duration": 59,
    "start_time": "2023-04-10T19:40:31.570Z"
   },
   {
    "duration": 18,
    "start_time": "2023-04-10T19:40:31.631Z"
   },
   {
    "duration": 5,
    "start_time": "2023-04-10T19:40:31.652Z"
   },
   {
    "duration": 48,
    "start_time": "2023-04-10T19:40:31.658Z"
   },
   {
    "duration": 13,
    "start_time": "2023-04-10T19:40:31.707Z"
   },
   {
    "duration": 5,
    "start_time": "2023-04-10T19:40:31.722Z"
   },
   {
    "duration": 53,
    "start_time": "2023-04-10T19:40:31.728Z"
   },
   {
    "duration": 31,
    "start_time": "2023-04-10T19:40:31.782Z"
   },
   {
    "duration": 7,
    "start_time": "2023-04-10T19:40:31.815Z"
   },
   {
    "duration": 27,
    "start_time": "2023-04-10T19:40:31.824Z"
   },
   {
    "duration": 4,
    "start_time": "2023-04-10T19:44:48.137Z"
   },
   {
    "duration": 9,
    "start_time": "2023-04-10T19:45:03.960Z"
   },
   {
    "duration": 9,
    "start_time": "2023-04-10T19:45:29.935Z"
   },
   {
    "duration": 5,
    "start_time": "2023-04-10T19:46:33.969Z"
   },
   {
    "duration": 6,
    "start_time": "2023-04-10T19:46:47.740Z"
   },
   {
    "duration": 3,
    "start_time": "2023-04-10T19:48:20.984Z"
   },
   {
    "duration": 5,
    "start_time": "2023-04-10T19:48:30.687Z"
   },
   {
    "duration": 5,
    "start_time": "2023-04-10T19:48:39.102Z"
   },
   {
    "duration": 4,
    "start_time": "2023-04-10T19:48:49.539Z"
   },
   {
    "duration": 6,
    "start_time": "2023-04-10T19:48:55.891Z"
   },
   {
    "duration": 756,
    "start_time": "2023-04-10T19:50:11.028Z"
   },
   {
    "duration": 6,
    "start_time": "2023-04-10T19:50:30.527Z"
   },
   {
    "duration": 6,
    "start_time": "2023-04-10T19:54:09.565Z"
   },
   {
    "duration": 5,
    "start_time": "2023-04-10T19:54:27.552Z"
   },
   {
    "duration": 5,
    "start_time": "2023-04-10T19:54:56.901Z"
   },
   {
    "duration": 5,
    "start_time": "2023-04-10T19:57:15.151Z"
   },
   {
    "duration": 16,
    "start_time": "2023-04-10T20:00:30.613Z"
   },
   {
    "duration": 6,
    "start_time": "2023-04-10T20:05:23.911Z"
   },
   {
    "duration": 19,
    "start_time": "2023-04-10T20:05:49.200Z"
   },
   {
    "duration": 24,
    "start_time": "2023-04-10T20:06:12.858Z"
   },
   {
    "duration": 30,
    "start_time": "2023-04-10T20:07:34.596Z"
   },
   {
    "duration": 7,
    "start_time": "2023-04-10T20:08:27.749Z"
   },
   {
    "duration": 6,
    "start_time": "2023-04-10T20:09:15.299Z"
   },
   {
    "duration": 4,
    "start_time": "2023-04-10T20:09:33.317Z"
   },
   {
    "duration": 13,
    "start_time": "2023-04-10T20:10:54.482Z"
   },
   {
    "duration": 482,
    "start_time": "2023-04-10T20:12:41.261Z"
   },
   {
    "duration": 531,
    "start_time": "2023-04-10T20:14:22.190Z"
   },
   {
    "duration": 444,
    "start_time": "2023-04-10T20:15:05.420Z"
   },
   {
    "duration": 439,
    "start_time": "2023-04-10T20:16:10.506Z"
   },
   {
    "duration": 5,
    "start_time": "2023-04-10T20:19:41.145Z"
   },
   {
    "duration": 748,
    "start_time": "2023-04-10T20:20:02.324Z"
   },
   {
    "duration": 4,
    "start_time": "2023-04-10T20:21:46.274Z"
   },
   {
    "duration": 386,
    "start_time": "2023-04-10T20:22:00.807Z"
   },
   {
    "duration": 435,
    "start_time": "2023-04-10T20:23:10.018Z"
   },
   {
    "duration": 337,
    "start_time": "2023-04-10T20:23:56.117Z"
   },
   {
    "duration": 4,
    "start_time": "2023-04-10T20:25:53.197Z"
   },
   {
    "duration": 6,
    "start_time": "2023-04-10T20:26:29.311Z"
   },
   {
    "duration": 27,
    "start_time": "2023-04-10T20:27:06.505Z"
   },
   {
    "duration": 11,
    "start_time": "2023-04-10T20:28:44.995Z"
   },
   {
    "duration": 9,
    "start_time": "2023-04-10T20:29:54.523Z"
   },
   {
    "duration": 8,
    "start_time": "2023-04-10T20:30:06.527Z"
   },
   {
    "duration": 11,
    "start_time": "2023-04-11T09:06:51.740Z"
   },
   {
    "duration": 47,
    "start_time": "2023-04-11T09:08:01.712Z"
   },
   {
    "duration": 3580,
    "start_time": "2023-04-11T09:08:05.171Z"
   },
   {
    "duration": 4,
    "start_time": "2023-04-11T09:08:08.754Z"
   },
   {
    "duration": 32,
    "start_time": "2023-04-11T09:08:08.760Z"
   },
   {
    "duration": 21,
    "start_time": "2023-04-11T09:08:08.794Z"
   },
   {
    "duration": 4,
    "start_time": "2023-04-11T09:08:08.817Z"
   },
   {
    "duration": 42,
    "start_time": "2023-04-11T09:08:08.822Z"
   },
   {
    "duration": 33,
    "start_time": "2023-04-11T09:08:08.866Z"
   },
   {
    "duration": 9,
    "start_time": "2023-04-11T09:08:08.901Z"
   },
   {
    "duration": 47,
    "start_time": "2023-04-11T09:08:08.913Z"
   },
   {
    "duration": 25,
    "start_time": "2023-04-11T09:08:08.963Z"
   },
   {
    "duration": 7,
    "start_time": "2023-04-11T09:08:08.990Z"
   },
   {
    "duration": 17,
    "start_time": "2023-04-11T09:08:08.999Z"
   },
   {
    "duration": 4,
    "start_time": "2023-04-11T09:08:09.019Z"
   },
   {
    "duration": 26,
    "start_time": "2023-04-11T09:08:09.026Z"
   },
   {
    "duration": 9,
    "start_time": "2023-04-11T09:08:09.054Z"
   },
   {
    "duration": 13,
    "start_time": "2023-04-11T09:08:09.065Z"
   },
   {
    "duration": 20,
    "start_time": "2023-04-11T09:08:09.080Z"
   },
   {
    "duration": 12,
    "start_time": "2023-04-11T09:08:09.103Z"
   },
   {
    "duration": 14,
    "start_time": "2023-04-11T09:08:09.117Z"
   },
   {
    "duration": 5,
    "start_time": "2023-04-11T09:08:09.133Z"
   },
   {
    "duration": 31,
    "start_time": "2023-04-11T09:08:09.140Z"
   },
   {
    "duration": 6,
    "start_time": "2023-04-11T09:08:09.173Z"
   },
   {
    "duration": 24,
    "start_time": "2023-04-11T09:08:09.181Z"
   },
   {
    "duration": 17,
    "start_time": "2023-04-11T09:08:09.208Z"
   },
   {
    "duration": 16,
    "start_time": "2023-04-11T09:08:09.230Z"
   },
   {
    "duration": 7,
    "start_time": "2023-04-11T09:08:09.249Z"
   },
   {
    "duration": 24,
    "start_time": "2023-04-11T09:08:09.259Z"
   },
   {
    "duration": 9,
    "start_time": "2023-04-11T09:08:09.297Z"
   },
   {
    "duration": 28,
    "start_time": "2023-04-11T09:08:09.308Z"
   },
   {
    "duration": 27,
    "start_time": "2023-04-11T09:08:09.338Z"
   },
   {
    "duration": 38,
    "start_time": "2023-04-11T09:08:09.367Z"
   },
   {
    "duration": 6,
    "start_time": "2023-04-11T09:08:09.407Z"
   },
   {
    "duration": 16,
    "start_time": "2023-04-11T09:08:09.414Z"
   },
   {
    "duration": 24,
    "start_time": "2023-04-11T09:08:09.431Z"
   },
   {
    "duration": 505,
    "start_time": "2023-04-11T09:08:09.457Z"
   },
   {
    "duration": 559,
    "start_time": "2023-04-11T09:08:09.965Z"
   },
   {
    "duration": 507,
    "start_time": "2023-04-11T09:08:10.525Z"
   },
   {
    "duration": 465,
    "start_time": "2023-04-11T09:08:11.034Z"
   },
   {
    "duration": 7,
    "start_time": "2023-04-11T09:08:11.502Z"
   },
   {
    "duration": 813,
    "start_time": "2023-04-11T09:08:11.512Z"
   },
   {
    "duration": 5,
    "start_time": "2023-04-11T09:08:12.327Z"
   },
   {
    "duration": 447,
    "start_time": "2023-04-11T09:08:12.334Z"
   },
   {
    "duration": 320,
    "start_time": "2023-04-11T09:08:12.783Z"
   },
   {
    "duration": 348,
    "start_time": "2023-04-11T09:08:13.105Z"
   },
   {
    "duration": 4,
    "start_time": "2023-04-11T09:08:13.455Z"
   },
   {
    "duration": 5,
    "start_time": "2023-04-11T09:08:13.461Z"
   },
   {
    "duration": 39,
    "start_time": "2023-04-11T09:08:13.468Z"
   },
   {
    "duration": 10,
    "start_time": "2023-04-11T09:08:13.509Z"
   },
   {
    "duration": 9,
    "start_time": "2023-04-11T09:08:13.521Z"
   },
   {
    "duration": 9,
    "start_time": "2023-04-11T09:08:13.532Z"
   },
   {
    "duration": 4,
    "start_time": "2023-04-11T09:08:13.542Z"
   },
   {
    "duration": 375,
    "start_time": "2023-04-11T09:08:13.548Z"
   },
   {
    "duration": 3901,
    "start_time": "2023-04-12T08:41:18.669Z"
   },
   {
    "duration": 4,
    "start_time": "2023-04-12T08:41:22.573Z"
   },
   {
    "duration": 34,
    "start_time": "2023-04-12T08:41:22.579Z"
   },
   {
    "duration": 19,
    "start_time": "2023-04-12T08:41:22.614Z"
   },
   {
    "duration": 4,
    "start_time": "2023-04-12T08:41:22.636Z"
   },
   {
    "duration": 41,
    "start_time": "2023-04-12T08:41:22.642Z"
   },
   {
    "duration": 15,
    "start_time": "2023-04-12T08:41:22.685Z"
   },
   {
    "duration": 4,
    "start_time": "2023-04-12T08:41:22.702Z"
   },
   {
    "duration": 27,
    "start_time": "2023-04-12T08:41:22.708Z"
   },
   {
    "duration": 37,
    "start_time": "2023-04-12T08:41:22.736Z"
   },
   {
    "duration": 6,
    "start_time": "2023-04-12T08:41:22.775Z"
   },
   {
    "duration": 24,
    "start_time": "2023-04-12T08:41:22.784Z"
   },
   {
    "duration": 7,
    "start_time": "2023-04-12T08:41:22.810Z"
   },
   {
    "duration": 37,
    "start_time": "2023-04-12T08:41:22.822Z"
   },
   {
    "duration": 12,
    "start_time": "2023-04-12T08:41:22.861Z"
   },
   {
    "duration": 7,
    "start_time": "2023-04-12T08:41:22.875Z"
   },
   {
    "duration": 28,
    "start_time": "2023-04-12T08:41:22.884Z"
   },
   {
    "duration": 7,
    "start_time": "2023-04-12T08:41:22.915Z"
   },
   {
    "duration": 15,
    "start_time": "2023-04-12T08:41:22.925Z"
   },
   {
    "duration": 21,
    "start_time": "2023-04-12T08:41:22.942Z"
   },
   {
    "duration": 7,
    "start_time": "2023-04-12T08:41:22.965Z"
   },
   {
    "duration": 14,
    "start_time": "2023-04-12T08:41:22.974Z"
   },
   {
    "duration": 9,
    "start_time": "2023-04-12T08:41:22.990Z"
   },
   {
    "duration": 9,
    "start_time": "2023-04-12T08:41:23.001Z"
   },
   {
    "duration": 26,
    "start_time": "2023-04-12T08:41:23.012Z"
   },
   {
    "duration": 21,
    "start_time": "2023-04-12T08:41:23.039Z"
   },
   {
    "duration": 22,
    "start_time": "2023-04-12T08:41:23.062Z"
   },
   {
    "duration": 12,
    "start_time": "2023-04-12T08:41:23.087Z"
   },
   {
    "duration": 28,
    "start_time": "2023-04-12T08:41:23.101Z"
   },
   {
    "duration": 37,
    "start_time": "2023-04-12T08:41:23.131Z"
   },
   {
    "duration": 34,
    "start_time": "2023-04-12T08:41:23.170Z"
   },
   {
    "duration": 5,
    "start_time": "2023-04-12T08:41:23.207Z"
   },
   {
    "duration": 10,
    "start_time": "2023-04-12T08:41:23.214Z"
   },
   {
    "duration": 33,
    "start_time": "2023-04-12T08:41:23.225Z"
   },
   {
    "duration": 674,
    "start_time": "2023-04-12T08:41:23.260Z"
   },
   {
    "duration": 584,
    "start_time": "2023-04-12T08:41:23.936Z"
   },
   {
    "duration": 458,
    "start_time": "2023-04-12T08:41:24.522Z"
   },
   {
    "duration": 546,
    "start_time": "2023-04-12T08:41:24.982Z"
   },
   {
    "duration": 4,
    "start_time": "2023-04-12T08:41:25.530Z"
   },
   {
    "duration": 676,
    "start_time": "2023-04-12T08:41:25.535Z"
   },
   {
    "duration": 7,
    "start_time": "2023-04-12T08:41:26.217Z"
   },
   {
    "duration": 511,
    "start_time": "2023-04-12T08:41:26.226Z"
   },
   {
    "duration": 385,
    "start_time": "2023-04-12T08:41:26.739Z"
   },
   {
    "duration": 339,
    "start_time": "2023-04-12T08:41:27.126Z"
   },
   {
    "duration": 4,
    "start_time": "2023-04-12T08:41:27.467Z"
   },
   {
    "duration": 7,
    "start_time": "2023-04-12T08:41:27.474Z"
   },
   {
    "duration": 27,
    "start_time": "2023-04-12T08:41:27.483Z"
   },
   {
    "duration": 11,
    "start_time": "2023-04-12T08:41:27.512Z"
   },
   {
    "duration": 42,
    "start_time": "2023-04-12T08:41:27.525Z"
   },
   {
    "duration": 13,
    "start_time": "2023-04-12T08:41:27.570Z"
   },
   {
    "duration": 5,
    "start_time": "2023-04-12T08:41:27.585Z"
   },
   {
    "duration": 414,
    "start_time": "2023-04-12T08:41:27.592Z"
   },
   {
    "duration": 387,
    "start_time": "2023-04-12T08:41:28.009Z"
   },
   {
    "duration": 340,
    "start_time": "2023-04-12T08:41:28.398Z"
   },
   {
    "duration": 15,
    "start_time": "2023-04-12T08:41:28.741Z"
   },
   {
    "duration": 18,
    "start_time": "2023-04-12T08:41:28.758Z"
   },
   {
    "duration": 24,
    "start_time": "2023-04-12T08:41:28.779Z"
   },
   {
    "duration": 507,
    "start_time": "2023-04-12T08:41:28.806Z"
   },
   {
    "duration": 304,
    "start_time": "2023-04-12T08:41:29.315Z"
   },
   {
    "duration": 315,
    "start_time": "2023-04-12T08:41:29.621Z"
   },
   {
    "duration": 347,
    "start_time": "2023-04-12T08:41:29.938Z"
   },
   {
    "duration": 3,
    "start_time": "2023-04-12T08:41:30.287Z"
   },
   {
    "duration": 50,
    "start_time": "2023-04-12T08:41:30.292Z"
   },
   {
    "duration": 21,
    "start_time": "2023-04-12T08:41:30.344Z"
   },
   {
    "duration": 40,
    "start_time": "2023-04-12T08:41:30.367Z"
   },
   {
    "duration": 29,
    "start_time": "2023-04-12T08:41:30.409Z"
   },
   {
    "duration": 48,
    "start_time": "2023-04-12T08:41:30.441Z"
   },
   {
    "duration": 224,
    "start_time": "2023-04-12T08:41:30.492Z"
   },
   {
    "duration": 232,
    "start_time": "2023-04-12T08:41:30.718Z"
   },
   {
    "duration": 5,
    "start_time": "2023-04-12T08:41:30.955Z"
   },
   {
    "duration": 33,
    "start_time": "2023-04-12T08:41:30.963Z"
   },
   {
    "duration": 51,
    "start_time": "2023-04-12T08:41:30.999Z"
   },
   {
    "duration": 289,
    "start_time": "2023-04-12T08:41:31.053Z"
   },
   {
    "duration": 361,
    "start_time": "2023-04-12T08:41:31.344Z"
   },
   {
    "duration": 3,
    "start_time": "2023-04-12T08:41:31.707Z"
   },
   {
    "duration": 59,
    "start_time": "2023-04-12T08:41:31.712Z"
   },
   {
    "duration": 43,
    "start_time": "2023-04-12T08:41:31.773Z"
   },
   {
    "duration": 73,
    "start_time": "2023-04-12T08:41:31.818Z"
   },
   {
    "duration": 38,
    "start_time": "2023-04-12T08:41:31.893Z"
   },
   {
    "duration": 4,
    "start_time": "2023-04-12T08:41:31.933Z"
   },
   {
    "duration": 33,
    "start_time": "2023-04-12T08:41:31.938Z"
   },
   {
    "duration": 7841,
    "start_time": "2023-04-12T08:41:31.973Z"
   },
   {
    "duration": 18560,
    "start_time": "2023-04-12T08:41:39.816Z"
   },
   {
    "duration": 18774,
    "start_time": "2023-04-12T08:41:58.378Z"
   },
   {
    "duration": 4,
    "start_time": "2023-04-12T08:42:17.156Z"
   },
   {
    "duration": 19396,
    "start_time": "2023-04-12T08:42:17.163Z"
   },
   {
    "duration": 19391,
    "start_time": "2023-04-12T08:42:36.561Z"
   },
   {
    "duration": 3,
    "start_time": "2023-04-12T08:42:55.953Z"
   },
   {
    "duration": 2351,
    "start_time": "2023-04-12T09:02:59.780Z"
   },
   {
    "duration": 5,
    "start_time": "2023-04-12T09:03:02.134Z"
   },
   {
    "duration": 63,
    "start_time": "2023-04-12T09:03:02.141Z"
   },
   {
    "duration": 21,
    "start_time": "2023-04-12T09:03:02.206Z"
   },
   {
    "duration": 16,
    "start_time": "2023-04-12T09:03:02.230Z"
   },
   {
    "duration": 48,
    "start_time": "2023-04-12T09:03:02.248Z"
   },
   {
    "duration": 26,
    "start_time": "2023-04-12T09:03:02.298Z"
   },
   {
    "duration": 23,
    "start_time": "2023-04-12T09:03:02.326Z"
   },
   {
    "duration": 68,
    "start_time": "2023-04-12T09:03:02.351Z"
   },
   {
    "duration": 50,
    "start_time": "2023-04-12T09:03:02.421Z"
   },
   {
    "duration": 21,
    "start_time": "2023-04-12T09:03:02.472Z"
   },
   {
    "duration": 31,
    "start_time": "2023-04-12T09:03:02.495Z"
   },
   {
    "duration": 11,
    "start_time": "2023-04-12T09:03:02.527Z"
   },
   {
    "duration": 40,
    "start_time": "2023-04-12T09:03:02.542Z"
   },
   {
    "duration": 14,
    "start_time": "2023-04-12T09:03:02.584Z"
   },
   {
    "duration": 20,
    "start_time": "2023-04-12T09:03:02.599Z"
   },
   {
    "duration": 9,
    "start_time": "2023-04-12T09:03:02.621Z"
   },
   {
    "duration": 4,
    "start_time": "2023-04-12T09:03:02.631Z"
   },
   {
    "duration": 15,
    "start_time": "2023-04-12T09:03:02.636Z"
   },
   {
    "duration": 31,
    "start_time": "2023-04-12T09:03:02.653Z"
   },
   {
    "duration": 17,
    "start_time": "2023-04-12T09:03:02.687Z"
   },
   {
    "duration": 7,
    "start_time": "2023-04-12T09:03:02.706Z"
   },
   {
    "duration": 7,
    "start_time": "2023-04-12T09:03:02.715Z"
   },
   {
    "duration": 18,
    "start_time": "2023-04-12T09:03:02.724Z"
   },
   {
    "duration": 25,
    "start_time": "2023-04-12T09:03:02.744Z"
   },
   {
    "duration": 10,
    "start_time": "2023-04-12T09:03:02.777Z"
   },
   {
    "duration": 46,
    "start_time": "2023-04-12T09:03:02.789Z"
   },
   {
    "duration": 12,
    "start_time": "2023-04-12T09:03:02.837Z"
   },
   {
    "duration": 40,
    "start_time": "2023-04-12T09:03:02.851Z"
   },
   {
    "duration": 25,
    "start_time": "2023-04-12T09:03:02.893Z"
   },
   {
    "duration": 30,
    "start_time": "2023-04-12T09:03:02.920Z"
   },
   {
    "duration": 12,
    "start_time": "2023-04-12T09:03:02.952Z"
   },
   {
    "duration": 13,
    "start_time": "2023-04-12T09:03:02.973Z"
   },
   {
    "duration": 18,
    "start_time": "2023-04-12T09:03:02.988Z"
   },
   {
    "duration": 595,
    "start_time": "2023-04-12T09:03:03.008Z"
   },
   {
    "duration": 619,
    "start_time": "2023-04-12T09:03:03.605Z"
   },
   {
    "duration": 558,
    "start_time": "2023-04-12T09:03:04.226Z"
   },
   {
    "duration": 522,
    "start_time": "2023-04-12T09:03:04.786Z"
   },
   {
    "duration": 5,
    "start_time": "2023-04-12T09:03:05.310Z"
   },
   {
    "duration": 713,
    "start_time": "2023-04-12T09:03:05.317Z"
   },
   {
    "duration": 5,
    "start_time": "2023-04-12T09:03:06.035Z"
   },
   {
    "duration": 480,
    "start_time": "2023-04-12T09:03:06.042Z"
   },
   {
    "duration": 315,
    "start_time": "2023-04-12T09:03:06.524Z"
   },
   {
    "duration": 344,
    "start_time": "2023-04-12T09:03:06.840Z"
   },
   {
    "duration": 3,
    "start_time": "2023-04-12T09:03:07.187Z"
   },
   {
    "duration": 10,
    "start_time": "2023-04-12T09:03:07.191Z"
   },
   {
    "duration": 25,
    "start_time": "2023-04-12T09:03:07.203Z"
   },
   {
    "duration": 8,
    "start_time": "2023-04-12T09:03:07.230Z"
   },
   {
    "duration": 32,
    "start_time": "2023-04-12T09:03:07.239Z"
   },
   {
    "duration": 14,
    "start_time": "2023-04-12T09:03:07.273Z"
   },
   {
    "duration": 11,
    "start_time": "2023-04-12T09:03:07.290Z"
   },
   {
    "duration": 337,
    "start_time": "2023-04-12T09:03:07.303Z"
   },
   {
    "duration": 349,
    "start_time": "2023-04-12T09:03:07.642Z"
   },
   {
    "duration": 332,
    "start_time": "2023-04-12T09:03:07.992Z"
   },
   {
    "duration": 6,
    "start_time": "2023-04-12T09:03:08.326Z"
   },
   {
    "duration": 18,
    "start_time": "2023-04-12T09:03:08.333Z"
   },
   {
    "duration": 30,
    "start_time": "2023-04-12T09:03:08.353Z"
   },
   {
    "duration": 473,
    "start_time": "2023-04-12T09:03:08.385Z"
   },
   {
    "duration": 334,
    "start_time": "2023-04-12T09:03:08.860Z"
   },
   {
    "duration": 388,
    "start_time": "2023-04-12T09:03:09.195Z"
   },
   {
    "duration": 350,
    "start_time": "2023-04-12T09:03:09.586Z"
   },
   {
    "duration": 3,
    "start_time": "2023-04-12T09:03:09.938Z"
   },
   {
    "duration": 40,
    "start_time": "2023-04-12T09:03:09.942Z"
   },
   {
    "duration": 19,
    "start_time": "2023-04-12T09:03:09.984Z"
   },
   {
    "duration": 5,
    "start_time": "2023-04-12T09:03:10.005Z"
   },
   {
    "duration": 13,
    "start_time": "2023-04-12T09:03:10.012Z"
   },
   {
    "duration": 55,
    "start_time": "2023-04-12T09:03:10.027Z"
   },
   {
    "duration": 212,
    "start_time": "2023-04-12T09:03:10.084Z"
   },
   {
    "duration": 205,
    "start_time": "2023-04-12T09:03:10.298Z"
   },
   {
    "duration": 4,
    "start_time": "2023-04-12T09:03:10.505Z"
   },
   {
    "duration": 9,
    "start_time": "2023-04-12T09:03:10.511Z"
   },
   {
    "duration": 14,
    "start_time": "2023-04-12T09:03:10.521Z"
   },
   {
    "duration": 210,
    "start_time": "2023-04-12T09:03:10.537Z"
   },
   {
    "duration": 347,
    "start_time": "2023-04-12T09:03:10.749Z"
   },
   {
    "duration": 3,
    "start_time": "2023-04-12T09:03:11.099Z"
   },
   {
    "duration": 18,
    "start_time": "2023-04-12T09:03:11.104Z"
   },
   {
    "duration": 12,
    "start_time": "2023-04-12T09:03:11.123Z"
   },
   {
    "duration": 43,
    "start_time": "2023-04-12T09:03:11.137Z"
   },
   {
    "duration": 30,
    "start_time": "2023-04-12T09:03:11.183Z"
   },
   {
    "duration": 3,
    "start_time": "2023-04-12T09:03:11.215Z"
   },
   {
    "duration": 15,
    "start_time": "2023-04-12T09:03:11.220Z"
   },
   {
    "duration": 8089,
    "start_time": "2023-04-12T09:03:11.237Z"
   },
   {
    "duration": 20130,
    "start_time": "2023-04-12T09:03:19.328Z"
   },
   {
    "duration": 20278,
    "start_time": "2023-04-12T09:03:39.462Z"
   },
   {
    "duration": 4,
    "start_time": "2023-04-12T09:03:59.741Z"
   },
   {
    "duration": 2399,
    "start_time": "2023-04-12T09:04:47.879Z"
   },
   {
    "duration": 4,
    "start_time": "2023-04-12T09:04:50.285Z"
   },
   {
    "duration": 42,
    "start_time": "2023-04-12T09:04:50.291Z"
   },
   {
    "duration": 20,
    "start_time": "2023-04-12T09:04:50.334Z"
   },
   {
    "duration": 20,
    "start_time": "2023-04-12T09:04:50.360Z"
   },
   {
    "duration": 30,
    "start_time": "2023-04-12T09:04:50.383Z"
   },
   {
    "duration": 23,
    "start_time": "2023-04-12T09:04:50.415Z"
   },
   {
    "duration": 4,
    "start_time": "2023-04-12T09:04:50.440Z"
   },
   {
    "duration": 33,
    "start_time": "2023-04-12T09:04:50.445Z"
   },
   {
    "duration": 23,
    "start_time": "2023-04-12T09:04:50.480Z"
   },
   {
    "duration": 5,
    "start_time": "2023-04-12T09:04:50.505Z"
   },
   {
    "duration": 12,
    "start_time": "2023-04-12T09:04:50.512Z"
   },
   {
    "duration": 10,
    "start_time": "2023-04-12T09:04:50.525Z"
   },
   {
    "duration": 31,
    "start_time": "2023-04-12T09:04:50.539Z"
   },
   {
    "duration": 14,
    "start_time": "2023-04-12T09:04:50.572Z"
   },
   {
    "duration": 16,
    "start_time": "2023-04-12T09:04:50.588Z"
   },
   {
    "duration": 30,
    "start_time": "2023-04-12T09:04:50.606Z"
   },
   {
    "duration": 6,
    "start_time": "2023-04-12T09:04:50.638Z"
   },
   {
    "duration": 23,
    "start_time": "2023-04-12T09:04:50.645Z"
   },
   {
    "duration": 20,
    "start_time": "2023-04-12T09:04:50.671Z"
   },
   {
    "duration": 18,
    "start_time": "2023-04-12T09:04:50.693Z"
   },
   {
    "duration": 20,
    "start_time": "2023-04-12T09:04:50.712Z"
   },
   {
    "duration": 23,
    "start_time": "2023-04-12T09:04:50.733Z"
   },
   {
    "duration": 15,
    "start_time": "2023-04-12T09:04:50.765Z"
   },
   {
    "duration": 46,
    "start_time": "2023-04-12T09:04:50.783Z"
   },
   {
    "duration": 5,
    "start_time": "2023-04-12T09:04:50.831Z"
   },
   {
    "duration": 30,
    "start_time": "2023-04-12T09:04:50.838Z"
   },
   {
    "duration": 8,
    "start_time": "2023-04-12T09:04:50.875Z"
   },
   {
    "duration": 37,
    "start_time": "2023-04-12T09:04:50.885Z"
   },
   {
    "duration": 23,
    "start_time": "2023-04-12T09:04:50.924Z"
   },
   {
    "duration": 37,
    "start_time": "2023-04-12T09:04:50.948Z"
   },
   {
    "duration": 5,
    "start_time": "2023-04-12T09:04:50.987Z"
   },
   {
    "duration": 21,
    "start_time": "2023-04-12T09:04:50.994Z"
   },
   {
    "duration": 14,
    "start_time": "2023-04-12T09:04:51.017Z"
   },
   {
    "duration": 486,
    "start_time": "2023-04-12T09:04:51.033Z"
   },
   {
    "duration": 527,
    "start_time": "2023-04-12T09:04:51.521Z"
   },
   {
    "duration": 485,
    "start_time": "2023-04-12T09:04:52.050Z"
   },
   {
    "duration": 478,
    "start_time": "2023-04-12T09:04:52.537Z"
   },
   {
    "duration": 4,
    "start_time": "2023-04-12T09:04:53.016Z"
   },
   {
    "duration": 704,
    "start_time": "2023-04-12T09:04:53.022Z"
   },
   {
    "duration": 7,
    "start_time": "2023-04-12T09:04:53.730Z"
   },
   {
    "duration": 490,
    "start_time": "2023-04-12T09:04:53.738Z"
   },
   {
    "duration": 389,
    "start_time": "2023-04-12T09:04:54.230Z"
   },
   {
    "duration": 360,
    "start_time": "2023-04-12T09:04:54.621Z"
   },
   {
    "duration": 5,
    "start_time": "2023-04-12T09:04:54.983Z"
   },
   {
    "duration": 37,
    "start_time": "2023-04-12T09:04:54.990Z"
   },
   {
    "duration": 47,
    "start_time": "2023-04-12T09:04:55.029Z"
   },
   {
    "duration": 13,
    "start_time": "2023-04-12T09:04:55.078Z"
   },
   {
    "duration": 20,
    "start_time": "2023-04-12T09:04:55.093Z"
   },
   {
    "duration": 16,
    "start_time": "2023-04-12T09:04:55.114Z"
   },
   {
    "duration": 7,
    "start_time": "2023-04-12T09:04:55.132Z"
   },
   {
    "duration": 395,
    "start_time": "2023-04-12T09:04:55.141Z"
   },
   {
    "duration": 356,
    "start_time": "2023-04-12T09:04:55.538Z"
   },
   {
    "duration": 322,
    "start_time": "2023-04-12T09:04:55.896Z"
   },
   {
    "duration": 6,
    "start_time": "2023-04-12T09:04:56.219Z"
   },
   {
    "duration": 16,
    "start_time": "2023-04-12T09:04:56.227Z"
   },
   {
    "duration": 15,
    "start_time": "2023-04-12T09:04:56.244Z"
   },
   {
    "duration": 467,
    "start_time": "2023-04-12T09:04:56.260Z"
   },
   {
    "duration": 322,
    "start_time": "2023-04-12T09:04:56.729Z"
   },
   {
    "duration": 328,
    "start_time": "2023-04-12T09:04:57.060Z"
   },
   {
    "duration": 337,
    "start_time": "2023-04-12T09:04:57.390Z"
   },
   {
    "duration": 3,
    "start_time": "2023-04-12T09:04:57.729Z"
   },
   {
    "duration": 51,
    "start_time": "2023-04-12T09:04:57.734Z"
   },
   {
    "duration": 20,
    "start_time": "2023-04-12T09:04:57.788Z"
   },
   {
    "duration": 5,
    "start_time": "2023-04-12T09:04:57.810Z"
   },
   {
    "duration": 10,
    "start_time": "2023-04-12T09:04:57.818Z"
   },
   {
    "duration": 46,
    "start_time": "2023-04-12T09:04:57.830Z"
   },
   {
    "duration": 208,
    "start_time": "2023-04-12T09:04:57.884Z"
   },
   {
    "duration": 212,
    "start_time": "2023-04-12T09:04:58.094Z"
   },
   {
    "duration": 4,
    "start_time": "2023-04-12T09:04:58.308Z"
   },
   {
    "duration": 20,
    "start_time": "2023-04-12T09:04:58.314Z"
   },
   {
    "duration": 40,
    "start_time": "2023-04-12T09:04:58.336Z"
   },
   {
    "duration": 210,
    "start_time": "2023-04-12T09:04:58.378Z"
   },
   {
    "duration": 321,
    "start_time": "2023-04-12T09:04:58.590Z"
   },
   {
    "duration": 4,
    "start_time": "2023-04-12T09:04:58.913Z"
   },
   {
    "duration": 9,
    "start_time": "2023-04-12T09:04:58.919Z"
   },
   {
    "duration": 6,
    "start_time": "2023-04-12T09:04:58.930Z"
   },
   {
    "duration": 53,
    "start_time": "2023-04-12T09:04:58.938Z"
   },
   {
    "duration": 27,
    "start_time": "2023-04-12T09:04:58.993Z"
   },
   {
    "duration": 3,
    "start_time": "2023-04-12T09:04:59.022Z"
   },
   {
    "duration": 8,
    "start_time": "2023-04-12T09:04:59.027Z"
   },
   {
    "duration": 8418,
    "start_time": "2023-04-12T09:04:59.036Z"
   },
   {
    "duration": 19472,
    "start_time": "2023-04-12T09:05:07.455Z"
   },
   {
    "duration": 20374,
    "start_time": "2023-04-12T09:05:26.928Z"
   },
   {
    "duration": 4,
    "start_time": "2023-04-12T09:05:47.304Z"
   },
   {
    "duration": 20393,
    "start_time": "2023-04-12T09:05:47.310Z"
   },
   {
    "duration": 19834,
    "start_time": "2023-04-12T09:06:07.704Z"
   },
   {
    "duration": 3,
    "start_time": "2023-04-12T09:06:27.540Z"
   },
   {
    "duration": 19,
    "start_time": "2023-04-12T09:14:26.146Z"
   },
   {
    "duration": 140650,
    "start_time": "2023-04-12T09:14:26.168Z"
   },
   {
    "duration": 142848,
    "start_time": "2023-04-12T09:16:46.821Z"
   },
   {
    "duration": 139630,
    "start_time": "2023-04-12T09:19:09.677Z"
   },
   {
    "duration": 0,
    "start_time": "2023-04-12T09:31:58.612Z"
   },
   {
    "duration": 0,
    "start_time": "2023-04-12T09:31:58.627Z"
   },
   {
    "duration": 0,
    "start_time": "2023-04-12T09:31:58.629Z"
   },
   {
    "duration": 0,
    "start_time": "2023-04-12T09:31:58.660Z"
   },
   {
    "duration": 0,
    "start_time": "2023-04-12T09:31:58.661Z"
   },
   {
    "duration": 0,
    "start_time": "2023-04-12T09:31:58.662Z"
   },
   {
    "duration": 0,
    "start_time": "2023-04-12T09:31:58.664Z"
   },
   {
    "duration": 0,
    "start_time": "2023-04-12T09:31:58.665Z"
   },
   {
    "duration": 0,
    "start_time": "2023-04-12T09:31:58.666Z"
   },
   {
    "duration": 0,
    "start_time": "2023-04-12T09:31:58.668Z"
   },
   {
    "duration": 0,
    "start_time": "2023-04-12T09:31:58.669Z"
   },
   {
    "duration": 0,
    "start_time": "2023-04-12T09:31:58.670Z"
   },
   {
    "duration": 0,
    "start_time": "2023-04-12T09:31:58.672Z"
   },
   {
    "duration": 0,
    "start_time": "2023-04-12T09:31:58.673Z"
   },
   {
    "duration": 0,
    "start_time": "2023-04-12T09:31:58.674Z"
   },
   {
    "duration": 0,
    "start_time": "2023-04-12T09:31:58.675Z"
   },
   {
    "duration": 0,
    "start_time": "2023-04-12T09:31:58.677Z"
   },
   {
    "duration": 0,
    "start_time": "2023-04-12T09:31:58.678Z"
   },
   {
    "duration": 0,
    "start_time": "2023-04-12T09:31:58.679Z"
   },
   {
    "duration": 0,
    "start_time": "2023-04-12T09:31:58.680Z"
   },
   {
    "duration": 0,
    "start_time": "2023-04-12T09:31:58.681Z"
   },
   {
    "duration": 0,
    "start_time": "2023-04-12T09:31:58.682Z"
   },
   {
    "duration": 0,
    "start_time": "2023-04-12T09:31:58.683Z"
   },
   {
    "duration": 0,
    "start_time": "2023-04-12T09:31:58.685Z"
   },
   {
    "duration": 0,
    "start_time": "2023-04-12T09:31:58.687Z"
   },
   {
    "duration": 0,
    "start_time": "2023-04-12T09:31:58.688Z"
   },
   {
    "duration": 0,
    "start_time": "2023-04-12T09:31:58.690Z"
   },
   {
    "duration": 0,
    "start_time": "2023-04-12T09:31:58.692Z"
   },
   {
    "duration": 0,
    "start_time": "2023-04-12T09:31:58.693Z"
   },
   {
    "duration": 0,
    "start_time": "2023-04-12T09:31:58.695Z"
   },
   {
    "duration": 0,
    "start_time": "2023-04-12T09:31:58.696Z"
   },
   {
    "duration": 0,
    "start_time": "2023-04-12T09:31:58.697Z"
   },
   {
    "duration": 0,
    "start_time": "2023-04-12T09:31:58.698Z"
   },
   {
    "duration": 0,
    "start_time": "2023-04-12T09:31:58.699Z"
   },
   {
    "duration": 0,
    "start_time": "2023-04-12T09:31:58.700Z"
   },
   {
    "duration": 0,
    "start_time": "2023-04-12T09:31:58.701Z"
   },
   {
    "duration": 0,
    "start_time": "2023-04-12T09:31:58.702Z"
   },
   {
    "duration": 0,
    "start_time": "2023-04-12T09:31:58.757Z"
   },
   {
    "duration": 0,
    "start_time": "2023-04-12T09:31:58.758Z"
   },
   {
    "duration": 0,
    "start_time": "2023-04-12T09:31:58.759Z"
   },
   {
    "duration": 0,
    "start_time": "2023-04-12T09:31:58.760Z"
   },
   {
    "duration": 0,
    "start_time": "2023-04-12T09:31:58.761Z"
   },
   {
    "duration": 0,
    "start_time": "2023-04-12T09:31:58.762Z"
   },
   {
    "duration": 0,
    "start_time": "2023-04-12T09:31:58.763Z"
   },
   {
    "duration": 0,
    "start_time": "2023-04-12T09:31:58.765Z"
   },
   {
    "duration": 0,
    "start_time": "2023-04-12T09:31:58.766Z"
   },
   {
    "duration": 0,
    "start_time": "2023-04-12T09:31:58.767Z"
   },
   {
    "duration": 0,
    "start_time": "2023-04-12T09:31:58.768Z"
   },
   {
    "duration": 0,
    "start_time": "2023-04-12T09:31:58.769Z"
   },
   {
    "duration": 0,
    "start_time": "2023-04-12T09:31:58.770Z"
   },
   {
    "duration": 0,
    "start_time": "2023-04-12T09:31:58.772Z"
   },
   {
    "duration": 0,
    "start_time": "2023-04-12T09:31:58.773Z"
   },
   {
    "duration": 0,
    "start_time": "2023-04-12T09:31:58.774Z"
   },
   {
    "duration": 0,
    "start_time": "2023-04-12T09:31:58.775Z"
   },
   {
    "duration": 0,
    "start_time": "2023-04-12T09:31:58.777Z"
   },
   {
    "duration": 0,
    "start_time": "2023-04-12T09:31:58.778Z"
   },
   {
    "duration": 0,
    "start_time": "2023-04-12T09:31:58.779Z"
   },
   {
    "duration": 0,
    "start_time": "2023-04-12T09:31:58.781Z"
   },
   {
    "duration": 0,
    "start_time": "2023-04-12T09:31:58.782Z"
   },
   {
    "duration": 0,
    "start_time": "2023-04-12T09:31:58.784Z"
   },
   {
    "duration": 0,
    "start_time": "2023-04-12T09:31:58.785Z"
   },
   {
    "duration": 0,
    "start_time": "2023-04-12T09:31:58.786Z"
   },
   {
    "duration": 1,
    "start_time": "2023-04-12T09:31:58.786Z"
   },
   {
    "duration": 0,
    "start_time": "2023-04-12T09:31:58.788Z"
   },
   {
    "duration": 0,
    "start_time": "2023-04-12T09:31:58.789Z"
   },
   {
    "duration": 0,
    "start_time": "2023-04-12T09:31:58.790Z"
   },
   {
    "duration": 0,
    "start_time": "2023-04-12T09:31:58.791Z"
   },
   {
    "duration": 0,
    "start_time": "2023-04-12T09:31:58.792Z"
   },
   {
    "duration": 0,
    "start_time": "2023-04-12T09:31:58.793Z"
   },
   {
    "duration": 0,
    "start_time": "2023-04-12T09:31:58.794Z"
   },
   {
    "duration": 0,
    "start_time": "2023-04-12T09:31:58.795Z"
   },
   {
    "duration": 0,
    "start_time": "2023-04-12T09:31:58.796Z"
   },
   {
    "duration": 0,
    "start_time": "2023-04-12T09:31:58.797Z"
   },
   {
    "duration": 0,
    "start_time": "2023-04-12T09:31:58.798Z"
   },
   {
    "duration": 0,
    "start_time": "2023-04-12T09:31:58.799Z"
   },
   {
    "duration": 0,
    "start_time": "2023-04-12T09:31:58.856Z"
   },
   {
    "duration": 0,
    "start_time": "2023-04-12T09:31:58.861Z"
   },
   {
    "duration": 0,
    "start_time": "2023-04-12T09:31:58.865Z"
   },
   {
    "duration": 0,
    "start_time": "2023-04-12T09:31:58.871Z"
   },
   {
    "duration": 0,
    "start_time": "2023-04-12T09:31:58.873Z"
   },
   {
    "duration": 0,
    "start_time": "2023-04-12T09:31:58.874Z"
   },
   {
    "duration": 0,
    "start_time": "2023-04-12T09:31:58.877Z"
   },
   {
    "duration": 0,
    "start_time": "2023-04-12T09:31:58.879Z"
   },
   {
    "duration": 0,
    "start_time": "2023-04-12T09:31:58.881Z"
   },
   {
    "duration": 0,
    "start_time": "2023-04-12T09:31:58.883Z"
   },
   {
    "duration": 0,
    "start_time": "2023-04-12T09:31:58.887Z"
   },
   {
    "duration": 0,
    "start_time": "2023-04-12T09:31:58.887Z"
   },
   {
    "duration": 0,
    "start_time": "2023-04-12T09:31:58.888Z"
   },
   {
    "duration": 0,
    "start_time": "2023-04-12T09:31:58.892Z"
   },
   {
    "duration": 0,
    "start_time": "2023-04-12T09:31:58.893Z"
   },
   {
    "duration": 0,
    "start_time": "2023-04-12T09:31:58.894Z"
   },
   {
    "duration": 0,
    "start_time": "2023-04-12T09:31:58.895Z"
   },
   {
    "duration": 0,
    "start_time": "2023-04-12T09:31:58.897Z"
   },
   {
    "duration": 0,
    "start_time": "2023-04-12T09:31:58.902Z"
   },
   {
    "duration": 0,
    "start_time": "2023-04-12T09:31:58.903Z"
   },
   {
    "duration": 0,
    "start_time": "2023-04-12T09:31:58.905Z"
   },
   {
    "duration": 0,
    "start_time": "2023-04-12T09:31:58.906Z"
   },
   {
    "duration": 0,
    "start_time": "2023-04-12T09:31:58.956Z"
   },
   {
    "duration": 0,
    "start_time": "2023-04-12T09:31:58.963Z"
   },
   {
    "duration": 0,
    "start_time": "2023-04-12T09:31:58.965Z"
   },
   {
    "duration": 0,
    "start_time": "2023-04-12T09:31:58.966Z"
   },
   {
    "duration": 0,
    "start_time": "2023-04-12T09:31:58.968Z"
   },
   {
    "duration": 0,
    "start_time": "2023-04-12T09:31:58.969Z"
   },
   {
    "duration": 0,
    "start_time": "2023-04-12T09:31:58.971Z"
   },
   {
    "duration": 0,
    "start_time": "2023-04-12T09:31:58.972Z"
   },
   {
    "duration": 0,
    "start_time": "2023-04-12T09:31:58.974Z"
   },
   {
    "duration": 0,
    "start_time": "2023-04-12T09:31:58.975Z"
   },
   {
    "duration": 0,
    "start_time": "2023-04-12T09:31:58.978Z"
   },
   {
    "duration": 0,
    "start_time": "2023-04-12T09:31:58.980Z"
   },
   {
    "duration": 0,
    "start_time": "2023-04-12T09:31:58.983Z"
   },
   {
    "duration": 0,
    "start_time": "2023-04-12T09:31:58.984Z"
   },
   {
    "duration": 0,
    "start_time": "2023-04-12T09:31:58.985Z"
   },
   {
    "duration": 0,
    "start_time": "2023-04-12T09:31:58.986Z"
   },
   {
    "duration": 0,
    "start_time": "2023-04-12T09:31:58.987Z"
   },
   {
    "duration": 0,
    "start_time": "2023-04-12T09:31:58.989Z"
   },
   {
    "duration": 0,
    "start_time": "2023-04-12T09:31:58.990Z"
   },
   {
    "duration": 0,
    "start_time": "2023-04-12T09:31:58.992Z"
   },
   {
    "duration": 0,
    "start_time": "2023-04-12T09:31:58.993Z"
   },
   {
    "duration": 0,
    "start_time": "2023-04-12T09:31:58.994Z"
   },
   {
    "duration": 0,
    "start_time": "2023-04-12T09:31:58.995Z"
   },
   {
    "duration": 0,
    "start_time": "2023-04-12T09:31:58.996Z"
   },
   {
    "duration": 2356,
    "start_time": "2023-04-12T09:33:02.982Z"
   },
   {
    "duration": 5,
    "start_time": "2023-04-12T09:33:05.341Z"
   },
   {
    "duration": 84,
    "start_time": "2023-04-12T09:33:05.348Z"
   },
   {
    "duration": 36,
    "start_time": "2023-04-12T09:33:05.436Z"
   },
   {
    "duration": 16,
    "start_time": "2023-04-12T09:33:05.474Z"
   },
   {
    "duration": 32,
    "start_time": "2023-04-12T09:33:05.492Z"
   },
   {
    "duration": 23,
    "start_time": "2023-04-12T09:33:05.526Z"
   },
   {
    "duration": 4,
    "start_time": "2023-04-12T09:33:05.550Z"
   },
   {
    "duration": 34,
    "start_time": "2023-04-12T09:33:05.559Z"
   },
   {
    "duration": 20,
    "start_time": "2023-04-12T09:33:05.596Z"
   },
   {
    "duration": 6,
    "start_time": "2023-04-12T09:33:05.617Z"
   },
   {
    "duration": 45,
    "start_time": "2023-04-12T09:33:05.625Z"
   },
   {
    "duration": 8,
    "start_time": "2023-04-12T09:33:05.673Z"
   },
   {
    "duration": 22,
    "start_time": "2023-04-12T09:33:05.683Z"
   },
   {
    "duration": 9,
    "start_time": "2023-04-12T09:33:05.707Z"
   },
   {
    "duration": 20,
    "start_time": "2023-04-12T09:33:05.718Z"
   },
   {
    "duration": 19,
    "start_time": "2023-04-12T09:33:05.740Z"
   },
   {
    "duration": 9,
    "start_time": "2023-04-12T09:33:05.765Z"
   },
   {
    "duration": 6,
    "start_time": "2023-04-12T09:33:05.780Z"
   },
   {
    "duration": 8,
    "start_time": "2023-04-12T09:33:05.788Z"
   },
   {
    "duration": 19,
    "start_time": "2023-04-12T09:33:05.798Z"
   },
   {
    "duration": 7,
    "start_time": "2023-04-12T09:33:05.818Z"
   },
   {
    "duration": 6,
    "start_time": "2023-04-12T09:33:05.827Z"
   },
   {
    "duration": 10,
    "start_time": "2023-04-12T09:33:05.835Z"
   },
   {
    "duration": 29,
    "start_time": "2023-04-12T09:33:05.847Z"
   },
   {
    "duration": 8,
    "start_time": "2023-04-12T09:33:05.881Z"
   },
   {
    "duration": 36,
    "start_time": "2023-04-12T09:33:05.890Z"
   },
   {
    "duration": 5,
    "start_time": "2023-04-12T09:33:05.931Z"
   },
   {
    "duration": 28,
    "start_time": "2023-04-12T09:33:05.938Z"
   },
   {
    "duration": 31,
    "start_time": "2023-04-12T09:33:05.970Z"
   },
   {
    "duration": 29,
    "start_time": "2023-04-12T09:33:06.003Z"
   },
   {
    "duration": 5,
    "start_time": "2023-04-12T09:33:06.035Z"
   },
   {
    "duration": 22,
    "start_time": "2023-04-12T09:33:06.042Z"
   },
   {
    "duration": 18,
    "start_time": "2023-04-12T09:33:06.065Z"
   },
   {
    "duration": 551,
    "start_time": "2023-04-12T09:33:06.085Z"
   },
   {
    "duration": 578,
    "start_time": "2023-04-12T09:33:06.639Z"
   },
   {
    "duration": 493,
    "start_time": "2023-04-12T09:33:07.219Z"
   },
   {
    "duration": 474,
    "start_time": "2023-04-12T09:33:07.714Z"
   },
   {
    "duration": 5,
    "start_time": "2023-04-12T09:33:08.189Z"
   },
   {
    "duration": 664,
    "start_time": "2023-04-12T09:33:08.195Z"
   },
   {
    "duration": 8,
    "start_time": "2023-04-12T09:33:08.863Z"
   },
   {
    "duration": 440,
    "start_time": "2023-04-12T09:33:08.878Z"
   },
   {
    "duration": 366,
    "start_time": "2023-04-12T09:33:09.319Z"
   },
   {
    "duration": 349,
    "start_time": "2023-04-12T09:33:09.687Z"
   },
   {
    "duration": 4,
    "start_time": "2023-04-12T09:33:10.038Z"
   },
   {
    "duration": 23,
    "start_time": "2023-04-12T09:33:10.043Z"
   },
   {
    "duration": 45,
    "start_time": "2023-04-12T09:33:10.068Z"
   },
   {
    "duration": 12,
    "start_time": "2023-04-12T09:33:10.115Z"
   },
   {
    "duration": 12,
    "start_time": "2023-04-12T09:33:10.128Z"
   },
   {
    "duration": 31,
    "start_time": "2023-04-12T09:33:10.141Z"
   },
   {
    "duration": 6,
    "start_time": "2023-04-12T09:33:10.179Z"
   },
   {
    "duration": 337,
    "start_time": "2023-04-12T09:33:10.187Z"
   },
   {
    "duration": 359,
    "start_time": "2023-04-12T09:33:10.526Z"
   },
   {
    "duration": 315,
    "start_time": "2023-04-12T09:33:10.887Z"
   },
   {
    "duration": 6,
    "start_time": "2023-04-12T09:33:11.203Z"
   },
   {
    "duration": 33,
    "start_time": "2023-04-12T09:33:11.210Z"
   },
   {
    "duration": 8,
    "start_time": "2023-04-12T09:33:11.245Z"
   },
   {
    "duration": 467,
    "start_time": "2023-04-12T09:33:11.259Z"
   },
   {
    "duration": 312,
    "start_time": "2023-04-12T09:33:11.728Z"
   },
   {
    "duration": 354,
    "start_time": "2023-04-12T09:33:12.042Z"
   },
   {
    "duration": 341,
    "start_time": "2023-04-12T09:33:12.398Z"
   },
   {
    "duration": 3,
    "start_time": "2023-04-12T09:33:12.740Z"
   },
   {
    "duration": 44,
    "start_time": "2023-04-12T09:33:12.745Z"
   },
   {
    "duration": 20,
    "start_time": "2023-04-12T09:33:12.790Z"
   },
   {
    "duration": 4,
    "start_time": "2023-04-12T09:33:12.812Z"
   },
   {
    "duration": 8,
    "start_time": "2023-04-12T09:33:12.818Z"
   },
   {
    "duration": 57,
    "start_time": "2023-04-12T09:33:12.828Z"
   },
   {
    "duration": 211,
    "start_time": "2023-04-12T09:33:12.887Z"
   },
   {
    "duration": 198,
    "start_time": "2023-04-12T09:33:13.100Z"
   },
   {
    "duration": 5,
    "start_time": "2023-04-12T09:33:13.300Z"
   },
   {
    "duration": 6,
    "start_time": "2023-04-12T09:33:13.307Z"
   },
   {
    "duration": 11,
    "start_time": "2023-04-12T09:33:13.315Z"
   },
   {
    "duration": 231,
    "start_time": "2023-04-12T09:33:13.328Z"
   },
   {
    "duration": 361,
    "start_time": "2023-04-12T09:33:13.562Z"
   },
   {
    "duration": 4,
    "start_time": "2023-04-12T09:33:13.926Z"
   },
   {
    "duration": 24,
    "start_time": "2023-04-12T09:33:13.932Z"
   },
   {
    "duration": 8,
    "start_time": "2023-04-12T09:33:13.958Z"
   },
   {
    "duration": 40,
    "start_time": "2023-04-12T09:33:13.968Z"
   },
   {
    "duration": 61,
    "start_time": "2023-04-12T09:33:14.011Z"
   },
   {
    "duration": 10,
    "start_time": "2023-04-12T09:33:14.081Z"
   },
   {
    "duration": 7,
    "start_time": "2023-04-12T09:33:14.094Z"
   },
   {
    "duration": 8213,
    "start_time": "2023-04-12T09:33:14.108Z"
   },
   {
    "duration": 20457,
    "start_time": "2023-04-12T09:33:22.322Z"
   },
   {
    "duration": 20354,
    "start_time": "2023-04-12T09:33:42.784Z"
   },
   {
    "duration": 4,
    "start_time": "2023-04-12T09:34:03.140Z"
   },
   {
    "duration": 19593,
    "start_time": "2023-04-12T09:34:03.156Z"
   },
   {
    "duration": 20173,
    "start_time": "2023-04-12T09:34:22.750Z"
   },
   {
    "duration": 3,
    "start_time": "2023-04-12T09:34:42.925Z"
   },
   {
    "duration": 479490,
    "start_time": "2023-04-12T09:34:42.930Z"
   },
   {
    "duration": 3,
    "start_time": "2023-04-12T09:42:42.423Z"
   },
   {
    "duration": 141936,
    "start_time": "2023-04-12T09:42:42.428Z"
   },
   {
    "duration": 139480,
    "start_time": "2023-04-12T09:47:27.956Z"
   },
   {
    "duration": 143331,
    "start_time": "2023-04-12T09:49:47.438Z"
   },
   {
    "duration": 10,
    "start_time": "2023-04-12T09:52:10.771Z"
   },
   {
    "duration": 6382,
    "start_time": "2023-04-12T09:52:10.783Z"
   },
   {
    "duration": 89,
    "start_time": "2023-04-12T09:52:17.170Z"
   },
   {
    "duration": 7322,
    "start_time": "2023-04-12T09:52:17.263Z"
   },
   {
    "duration": 8013,
    "start_time": "2023-04-12T09:52:24.659Z"
   },
   {
    "duration": 8,
    "start_time": "2023-04-12T09:52:32.681Z"
   },
   {
    "duration": 170,
    "start_time": "2023-04-12T09:52:32.755Z"
   },
   {
    "duration": 0,
    "start_time": "2023-04-12T09:52:32.927Z"
   },
   {
    "duration": 0,
    "start_time": "2023-04-12T09:52:32.928Z"
   },
   {
    "duration": 0,
    "start_time": "2023-04-12T09:52:32.929Z"
   },
   {
    "duration": 0,
    "start_time": "2023-04-12T09:52:32.930Z"
   },
   {
    "duration": 0,
    "start_time": "2023-04-12T09:52:32.931Z"
   },
   {
    "duration": 0,
    "start_time": "2023-04-12T09:52:32.933Z"
   },
   {
    "duration": 0,
    "start_time": "2023-04-12T09:52:32.934Z"
   },
   {
    "duration": 0,
    "start_time": "2023-04-12T09:52:32.935Z"
   },
   {
    "duration": 0,
    "start_time": "2023-04-12T09:52:32.936Z"
   },
   {
    "duration": 0,
    "start_time": "2023-04-12T09:52:32.937Z"
   },
   {
    "duration": 0,
    "start_time": "2023-04-12T09:52:32.938Z"
   },
   {
    "duration": 0,
    "start_time": "2023-04-12T09:52:32.958Z"
   },
   {
    "duration": 0,
    "start_time": "2023-04-12T09:52:32.960Z"
   },
   {
    "duration": 0,
    "start_time": "2023-04-12T09:52:32.961Z"
   },
   {
    "duration": 0,
    "start_time": "2023-04-12T09:52:32.962Z"
   },
   {
    "duration": 0,
    "start_time": "2023-04-12T09:52:32.963Z"
   },
   {
    "duration": 0,
    "start_time": "2023-04-12T09:52:32.964Z"
   },
   {
    "duration": 0,
    "start_time": "2023-04-12T09:52:32.965Z"
   },
   {
    "duration": 0,
    "start_time": "2023-04-12T09:52:32.966Z"
   },
   {
    "duration": 0,
    "start_time": "2023-04-12T09:52:32.967Z"
   },
   {
    "duration": 43,
    "start_time": "2023-04-12T09:54:24.151Z"
   },
   {
    "duration": 204,
    "start_time": "2023-04-12T09:55:17.183Z"
   },
   {
    "duration": 343,
    "start_time": "2023-04-12T09:55:18.311Z"
   },
   {
    "duration": 219,
    "start_time": "2023-04-12T09:55:21.846Z"
   },
   {
    "duration": 3844,
    "start_time": "2023-04-12T19:50:06.908Z"
   },
   {
    "duration": 4,
    "start_time": "2023-04-12T19:50:10.754Z"
   },
   {
    "duration": 30,
    "start_time": "2023-04-12T19:50:10.759Z"
   },
   {
    "duration": 17,
    "start_time": "2023-04-12T19:50:10.791Z"
   },
   {
    "duration": 4,
    "start_time": "2023-04-12T19:50:10.810Z"
   },
   {
    "duration": 23,
    "start_time": "2023-04-12T19:50:10.815Z"
   },
   {
    "duration": 14,
    "start_time": "2023-04-12T19:50:10.840Z"
   },
   {
    "duration": 35,
    "start_time": "2023-04-12T19:50:10.856Z"
   },
   {
    "duration": 27,
    "start_time": "2023-04-12T19:50:10.892Z"
   },
   {
    "duration": 19,
    "start_time": "2023-04-12T19:50:10.922Z"
   },
   {
    "duration": 5,
    "start_time": "2023-04-12T19:50:10.942Z"
   },
   {
    "duration": 11,
    "start_time": "2023-04-12T19:50:10.949Z"
   },
   {
    "duration": 29,
    "start_time": "2023-04-12T19:50:10.962Z"
   },
   {
    "duration": 13,
    "start_time": "2023-04-12T19:50:10.993Z"
   },
   {
    "duration": 9,
    "start_time": "2023-04-12T19:50:11.008Z"
   },
   {
    "duration": 5,
    "start_time": "2023-04-12T19:50:11.018Z"
   },
   {
    "duration": 8,
    "start_time": "2023-04-12T19:50:11.025Z"
   },
   {
    "duration": 4,
    "start_time": "2023-04-12T19:50:11.034Z"
   },
   {
    "duration": 8,
    "start_time": "2023-04-12T19:50:11.040Z"
   },
   {
    "duration": 41,
    "start_time": "2023-04-12T19:50:11.050Z"
   },
   {
    "duration": 11,
    "start_time": "2023-04-12T19:50:11.093Z"
   },
   {
    "duration": 12,
    "start_time": "2023-04-12T19:50:11.106Z"
   },
   {
    "duration": 10,
    "start_time": "2023-04-12T19:50:11.119Z"
   },
   {
    "duration": 14,
    "start_time": "2023-04-12T19:50:11.131Z"
   },
   {
    "duration": 23,
    "start_time": "2023-04-12T19:50:11.147Z"
   },
   {
    "duration": 18,
    "start_time": "2023-04-12T19:50:11.172Z"
   },
   {
    "duration": 21,
    "start_time": "2023-04-12T19:50:11.192Z"
   },
   {
    "duration": 13,
    "start_time": "2023-04-12T19:50:11.218Z"
   },
   {
    "duration": 21,
    "start_time": "2023-04-12T19:50:11.233Z"
   },
   {
    "duration": 45,
    "start_time": "2023-04-12T19:50:11.256Z"
   },
   {
    "duration": 28,
    "start_time": "2023-04-12T19:50:11.302Z"
   },
   {
    "duration": 5,
    "start_time": "2023-04-12T19:50:11.332Z"
   },
   {
    "duration": 8,
    "start_time": "2023-04-12T19:50:11.338Z"
   },
   {
    "duration": 8,
    "start_time": "2023-04-12T19:50:11.347Z"
   },
   {
    "duration": 506,
    "start_time": "2023-04-12T19:50:11.357Z"
   },
   {
    "duration": 543,
    "start_time": "2023-04-12T19:50:11.865Z"
   },
   {
    "duration": 488,
    "start_time": "2023-04-12T19:50:12.410Z"
   },
   {
    "duration": 449,
    "start_time": "2023-04-12T19:50:12.900Z"
   },
   {
    "duration": 4,
    "start_time": "2023-04-12T19:50:13.351Z"
   },
   {
    "duration": 705,
    "start_time": "2023-04-12T19:50:13.357Z"
   },
   {
    "duration": 4,
    "start_time": "2023-04-12T19:50:14.065Z"
   },
   {
    "duration": 432,
    "start_time": "2023-04-12T19:50:14.071Z"
   },
   {
    "duration": 308,
    "start_time": "2023-04-12T19:50:14.505Z"
   },
   {
    "duration": 314,
    "start_time": "2023-04-12T19:50:14.815Z"
   },
   {
    "duration": 4,
    "start_time": "2023-04-12T19:50:15.130Z"
   },
   {
    "duration": 7,
    "start_time": "2023-04-12T19:50:15.136Z"
   },
   {
    "duration": 46,
    "start_time": "2023-04-12T19:50:15.144Z"
   },
   {
    "duration": 8,
    "start_time": "2023-04-12T19:50:15.192Z"
   },
   {
    "duration": 10,
    "start_time": "2023-04-12T19:50:15.202Z"
   },
   {
    "duration": 9,
    "start_time": "2023-04-12T19:50:15.213Z"
   },
   {
    "duration": 4,
    "start_time": "2023-04-12T19:50:15.224Z"
   },
   {
    "duration": 334,
    "start_time": "2023-04-12T19:50:15.230Z"
   },
   {
    "duration": 341,
    "start_time": "2023-04-12T19:50:15.566Z"
   },
   {
    "duration": 314,
    "start_time": "2023-04-12T19:50:15.909Z"
   },
   {
    "duration": 7,
    "start_time": "2023-04-12T19:50:16.225Z"
   },
   {
    "duration": 14,
    "start_time": "2023-04-12T19:50:16.233Z"
   },
   {
    "duration": 5,
    "start_time": "2023-04-12T19:50:16.249Z"
   },
   {
    "duration": 448,
    "start_time": "2023-04-12T19:50:16.256Z"
   },
   {
    "duration": 314,
    "start_time": "2023-04-12T19:50:16.705Z"
   },
   {
    "duration": 309,
    "start_time": "2023-04-12T19:50:17.021Z"
   },
   {
    "duration": 323,
    "start_time": "2023-04-12T19:50:17.332Z"
   },
   {
    "duration": 4,
    "start_time": "2023-04-12T19:50:17.657Z"
   },
   {
    "duration": 39,
    "start_time": "2023-04-12T19:50:17.662Z"
   },
   {
    "duration": 18,
    "start_time": "2023-04-12T19:50:17.703Z"
   },
   {
    "duration": 5,
    "start_time": "2023-04-12T19:50:17.723Z"
   },
   {
    "duration": 73,
    "start_time": "2023-04-12T19:50:17.729Z"
   },
   {
    "duration": 27,
    "start_time": "2023-04-12T19:50:17.804Z"
   },
   {
    "duration": 190,
    "start_time": "2023-04-12T19:50:17.833Z"
   },
   {
    "duration": 190,
    "start_time": "2023-04-12T19:50:18.025Z"
   },
   {
    "duration": 4,
    "start_time": "2023-04-12T19:50:18.218Z"
   },
   {
    "duration": 10,
    "start_time": "2023-04-12T19:50:18.224Z"
   },
   {
    "duration": 11,
    "start_time": "2023-04-12T19:50:18.236Z"
   },
   {
    "duration": 200,
    "start_time": "2023-04-12T19:50:18.249Z"
   },
   {
    "duration": 305,
    "start_time": "2023-04-12T19:50:18.450Z"
   },
   {
    "duration": 3,
    "start_time": "2023-04-12T19:50:18.757Z"
   },
   {
    "duration": 40,
    "start_time": "2023-04-12T19:50:18.762Z"
   },
   {
    "duration": 18,
    "start_time": "2023-04-12T19:50:18.804Z"
   },
   {
    "duration": 33,
    "start_time": "2023-04-12T19:50:18.824Z"
   },
   {
    "duration": 27,
    "start_time": "2023-04-12T19:50:18.859Z"
   },
   {
    "duration": 4,
    "start_time": "2023-04-12T19:50:18.887Z"
   },
   {
    "duration": 20,
    "start_time": "2023-04-12T19:50:18.892Z"
   },
   {
    "duration": 8119,
    "start_time": "2023-04-12T19:50:18.919Z"
   },
   {
    "duration": 20028,
    "start_time": "2023-04-12T19:50:27.040Z"
   },
   {
    "duration": 20082,
    "start_time": "2023-04-12T19:50:47.070Z"
   },
   {
    "duration": 4,
    "start_time": "2023-04-12T19:51:07.154Z"
   },
   {
    "duration": 19947,
    "start_time": "2023-04-12T19:51:07.159Z"
   },
   {
    "duration": 19939,
    "start_time": "2023-04-12T19:51:27.108Z"
   },
   {
    "duration": 4,
    "start_time": "2023-04-12T19:51:47.049Z"
   },
   {
    "duration": 2303,
    "start_time": "2023-04-12T19:58:29.772Z"
   },
   {
    "duration": 4,
    "start_time": "2023-04-12T19:58:32.077Z"
   },
   {
    "duration": 24,
    "start_time": "2023-04-12T19:58:32.089Z"
   },
   {
    "duration": 18,
    "start_time": "2023-04-12T19:58:32.115Z"
   },
   {
    "duration": 3,
    "start_time": "2023-04-12T19:58:32.135Z"
   },
   {
    "duration": 32,
    "start_time": "2023-04-12T19:58:32.140Z"
   },
   {
    "duration": 29,
    "start_time": "2023-04-12T19:58:32.174Z"
   },
   {
    "duration": 4,
    "start_time": "2023-04-12T19:58:32.205Z"
   },
   {
    "duration": 23,
    "start_time": "2023-04-12T19:58:32.210Z"
   },
   {
    "duration": 23,
    "start_time": "2023-04-12T19:58:32.236Z"
   },
   {
    "duration": 6,
    "start_time": "2023-04-12T19:58:32.288Z"
   },
   {
    "duration": 15,
    "start_time": "2023-04-12T19:58:32.296Z"
   },
   {
    "duration": 4,
    "start_time": "2023-04-12T19:58:32.312Z"
   },
   {
    "duration": 19,
    "start_time": "2023-04-12T19:58:32.318Z"
   },
   {
    "duration": 26,
    "start_time": "2023-04-12T19:58:32.339Z"
   },
   {
    "duration": 5,
    "start_time": "2023-04-12T19:58:32.367Z"
   },
   {
    "duration": 8,
    "start_time": "2023-04-12T19:58:32.374Z"
   },
   {
    "duration": 4,
    "start_time": "2023-04-12T19:58:32.389Z"
   },
   {
    "duration": 8,
    "start_time": "2023-04-12T19:58:32.395Z"
   },
   {
    "duration": 7,
    "start_time": "2023-04-12T19:58:32.404Z"
   },
   {
    "duration": 5,
    "start_time": "2023-04-12T19:58:32.413Z"
   },
   {
    "duration": 10,
    "start_time": "2023-04-12T19:58:32.420Z"
   },
   {
    "duration": 20,
    "start_time": "2023-04-12T19:58:32.432Z"
   },
   {
    "duration": 6,
    "start_time": "2023-04-12T19:58:32.454Z"
   },
   {
    "duration": 36,
    "start_time": "2023-04-12T19:58:32.461Z"
   },
   {
    "duration": 6,
    "start_time": "2023-04-12T19:58:32.498Z"
   },
   {
    "duration": 15,
    "start_time": "2023-04-12T19:58:32.505Z"
   },
   {
    "duration": 6,
    "start_time": "2023-04-12T19:58:32.525Z"
   },
   {
    "duration": 19,
    "start_time": "2023-04-12T19:58:32.533Z"
   },
   {
    "duration": 54,
    "start_time": "2023-04-12T19:58:32.554Z"
   },
   {
    "duration": 29,
    "start_time": "2023-04-12T19:58:32.609Z"
   },
   {
    "duration": 6,
    "start_time": "2023-04-12T19:58:32.640Z"
   },
   {
    "duration": 8,
    "start_time": "2023-04-12T19:58:32.647Z"
   },
   {
    "duration": 8,
    "start_time": "2023-04-12T19:58:32.657Z"
   },
   {
    "duration": 476,
    "start_time": "2023-04-12T19:58:32.690Z"
   },
   {
    "duration": 526,
    "start_time": "2023-04-12T19:58:33.168Z"
   },
   {
    "duration": 481,
    "start_time": "2023-04-12T19:58:33.696Z"
   },
   {
    "duration": 462,
    "start_time": "2023-04-12T19:58:34.178Z"
   },
   {
    "duration": 4,
    "start_time": "2023-04-12T19:58:34.642Z"
   },
   {
    "duration": 690,
    "start_time": "2023-04-12T19:58:34.648Z"
   },
   {
    "duration": 4,
    "start_time": "2023-04-12T19:58:35.340Z"
   },
   {
    "duration": 423,
    "start_time": "2023-04-12T19:58:35.345Z"
   },
   {
    "duration": 312,
    "start_time": "2023-04-12T19:58:35.770Z"
   },
   {
    "duration": 314,
    "start_time": "2023-04-12T19:58:36.089Z"
   },
   {
    "duration": 4,
    "start_time": "2023-04-12T19:58:36.404Z"
   },
   {
    "duration": 7,
    "start_time": "2023-04-12T19:58:36.410Z"
   },
   {
    "duration": 29,
    "start_time": "2023-04-12T19:58:36.418Z"
   },
   {
    "duration": 10,
    "start_time": "2023-04-12T19:58:36.449Z"
   },
   {
    "duration": 37,
    "start_time": "2023-04-12T19:58:36.460Z"
   },
   {
    "duration": 9,
    "start_time": "2023-04-12T19:58:36.498Z"
   },
   {
    "duration": 5,
    "start_time": "2023-04-12T19:58:36.509Z"
   },
   {
    "duration": 340,
    "start_time": "2023-04-12T19:58:36.516Z"
   },
   {
    "duration": 333,
    "start_time": "2023-04-12T19:58:36.858Z"
   },
   {
    "duration": 313,
    "start_time": "2023-04-12T19:58:37.193Z"
   },
   {
    "duration": 6,
    "start_time": "2023-04-12T19:58:37.508Z"
   },
   {
    "duration": 13,
    "start_time": "2023-04-12T19:58:37.516Z"
   },
   {
    "duration": 24,
    "start_time": "2023-04-12T19:58:37.532Z"
   },
   {
    "duration": 447,
    "start_time": "2023-04-12T19:58:37.558Z"
   },
   {
    "duration": 313,
    "start_time": "2023-04-12T19:58:38.007Z"
   },
   {
    "duration": 326,
    "start_time": "2023-04-12T19:58:38.322Z"
   },
   {
    "duration": 317,
    "start_time": "2023-04-12T19:58:38.650Z"
   },
   {
    "duration": 3,
    "start_time": "2023-04-12T19:58:38.969Z"
   },
   {
    "duration": 35,
    "start_time": "2023-04-12T19:58:38.974Z"
   },
   {
    "duration": 19,
    "start_time": "2023-04-12T19:58:39.010Z"
   },
   {
    "duration": 7,
    "start_time": "2023-04-12T19:58:39.031Z"
   },
   {
    "duration": 27,
    "start_time": "2023-04-12T19:58:39.039Z"
   },
   {
    "duration": 48,
    "start_time": "2023-04-12T19:58:39.068Z"
   },
   {
    "duration": 198,
    "start_time": "2023-04-12T19:58:39.118Z"
   },
   {
    "duration": 187,
    "start_time": "2023-04-12T19:58:39.318Z"
   },
   {
    "duration": 5,
    "start_time": "2023-04-12T19:58:39.507Z"
   },
   {
    "duration": 31,
    "start_time": "2023-04-12T19:58:39.514Z"
   },
   {
    "duration": 22,
    "start_time": "2023-04-12T19:58:39.547Z"
   },
   {
    "duration": 182,
    "start_time": "2023-04-12T19:58:39.571Z"
   },
   {
    "duration": 314,
    "start_time": "2023-04-12T19:58:39.755Z"
   },
   {
    "duration": 4,
    "start_time": "2023-04-12T19:58:40.071Z"
   },
   {
    "duration": 16,
    "start_time": "2023-04-12T19:58:40.077Z"
   },
   {
    "duration": 19,
    "start_time": "2023-04-12T19:58:40.094Z"
   },
   {
    "duration": 38,
    "start_time": "2023-04-12T19:58:40.115Z"
   },
   {
    "duration": 27,
    "start_time": "2023-04-12T19:58:40.155Z"
   },
   {
    "duration": 14,
    "start_time": "2023-04-12T19:58:40.184Z"
   },
   {
    "duration": 29,
    "start_time": "2023-04-12T19:58:40.199Z"
   },
   {
    "duration": 7983,
    "start_time": "2023-04-12T19:58:40.235Z"
   },
   {
    "duration": 19650,
    "start_time": "2023-04-12T19:58:48.221Z"
   },
   {
    "duration": 20411,
    "start_time": "2023-04-12T19:59:07.873Z"
   },
   {
    "duration": 4,
    "start_time": "2023-04-12T19:59:28.289Z"
   },
   {
    "duration": 20394,
    "start_time": "2023-04-12T19:59:28.295Z"
   },
   {
    "duration": 20467,
    "start_time": "2023-04-12T19:59:48.691Z"
   },
   {
    "duration": 3,
    "start_time": "2023-04-12T20:00:09.160Z"
   },
   {
    "duration": 60,
    "start_time": "2023-04-13T18:35:42.042Z"
   },
   {
    "duration": 5248,
    "start_time": "2023-04-13T18:35:46.967Z"
   },
   {
    "duration": 4,
    "start_time": "2023-04-13T18:35:52.217Z"
   },
   {
    "duration": 28,
    "start_time": "2023-04-13T18:35:52.223Z"
   },
   {
    "duration": 19,
    "start_time": "2023-04-13T18:35:52.253Z"
   },
   {
    "duration": 17,
    "start_time": "2023-04-13T18:35:52.273Z"
   },
   {
    "duration": 40,
    "start_time": "2023-04-13T18:35:52.291Z"
   },
   {
    "duration": 27,
    "start_time": "2023-04-13T18:35:52.333Z"
   },
   {
    "duration": 14,
    "start_time": "2023-04-13T18:35:52.363Z"
   },
   {
    "duration": 50,
    "start_time": "2023-04-13T18:35:52.379Z"
   },
   {
    "duration": 26,
    "start_time": "2023-04-13T18:35:52.431Z"
   },
   {
    "duration": 6,
    "start_time": "2023-04-13T18:35:52.458Z"
   },
   {
    "duration": 16,
    "start_time": "2023-04-13T18:35:52.466Z"
   },
   {
    "duration": 4,
    "start_time": "2023-04-13T18:35:52.484Z"
   },
   {
    "duration": 15,
    "start_time": "2023-04-13T18:35:52.490Z"
   },
   {
    "duration": 13,
    "start_time": "2023-04-13T18:35:52.507Z"
   },
   {
    "duration": 19,
    "start_time": "2023-04-13T18:35:52.522Z"
   },
   {
    "duration": 14,
    "start_time": "2023-04-13T18:35:52.543Z"
   },
   {
    "duration": 12,
    "start_time": "2023-04-13T18:35:52.559Z"
   },
   {
    "duration": 10,
    "start_time": "2023-04-13T18:35:52.573Z"
   },
   {
    "duration": 16,
    "start_time": "2023-04-13T18:35:52.585Z"
   },
   {
    "duration": 8,
    "start_time": "2023-04-13T18:35:52.603Z"
   },
   {
    "duration": 7,
    "start_time": "2023-04-13T18:35:52.613Z"
   },
   {
    "duration": 27,
    "start_time": "2023-04-13T18:35:52.622Z"
   },
   {
    "duration": 18,
    "start_time": "2023-04-13T18:35:52.651Z"
   },
   {
    "duration": 17,
    "start_time": "2023-04-13T18:35:52.670Z"
   },
   {
    "duration": 8,
    "start_time": "2023-04-13T18:35:52.689Z"
   },
   {
    "duration": 27,
    "start_time": "2023-04-13T18:35:52.698Z"
   },
   {
    "duration": 14,
    "start_time": "2023-04-13T18:35:52.729Z"
   },
   {
    "duration": 20,
    "start_time": "2023-04-13T18:35:52.744Z"
   },
   {
    "duration": 31,
    "start_time": "2023-04-13T18:35:52.765Z"
   },
   {
    "duration": 35,
    "start_time": "2023-04-13T18:35:52.798Z"
   },
   {
    "duration": 5,
    "start_time": "2023-04-13T18:35:52.834Z"
   },
   {
    "duration": 8,
    "start_time": "2023-04-13T18:35:52.841Z"
   },
   {
    "duration": 7,
    "start_time": "2023-04-13T18:35:52.850Z"
   },
   {
    "duration": 473,
    "start_time": "2023-04-13T18:35:52.887Z"
   },
   {
    "duration": 540,
    "start_time": "2023-04-13T18:35:53.362Z"
   },
   {
    "duration": 457,
    "start_time": "2023-04-13T18:35:53.904Z"
   },
   {
    "duration": 450,
    "start_time": "2023-04-13T18:35:54.363Z"
   },
   {
    "duration": 4,
    "start_time": "2023-04-13T18:35:54.815Z"
   },
   {
    "duration": 718,
    "start_time": "2023-04-13T18:35:54.820Z"
   },
   {
    "duration": 5,
    "start_time": "2023-04-13T18:35:55.539Z"
   },
   {
    "duration": 416,
    "start_time": "2023-04-13T18:35:55.545Z"
   },
   {
    "duration": 288,
    "start_time": "2023-04-13T18:35:55.963Z"
   },
   {
    "duration": 306,
    "start_time": "2023-04-13T18:35:56.253Z"
   },
   {
    "duration": 3,
    "start_time": "2023-04-13T18:35:56.561Z"
   },
   {
    "duration": 8,
    "start_time": "2023-04-13T18:35:56.565Z"
   },
   {
    "duration": 38,
    "start_time": "2023-04-13T18:35:56.574Z"
   },
   {
    "duration": 10,
    "start_time": "2023-04-13T18:35:56.614Z"
   },
   {
    "duration": 9,
    "start_time": "2023-04-13T18:35:56.625Z"
   },
   {
    "duration": 7,
    "start_time": "2023-04-13T18:35:56.636Z"
   },
   {
    "duration": 3,
    "start_time": "2023-04-13T18:35:56.645Z"
   },
   {
    "duration": 327,
    "start_time": "2023-04-13T18:35:56.650Z"
   },
   {
    "duration": 327,
    "start_time": "2023-04-13T18:35:56.979Z"
   },
   {
    "duration": 295,
    "start_time": "2023-04-13T18:35:57.308Z"
   },
   {
    "duration": 5,
    "start_time": "2023-04-13T18:35:57.605Z"
   },
   {
    "duration": 6,
    "start_time": "2023-04-13T18:35:57.612Z"
   },
   {
    "duration": 5,
    "start_time": "2023-04-13T18:35:57.620Z"
   },
   {
    "duration": 392,
    "start_time": "2023-04-13T18:35:57.627Z"
   },
   {
    "duration": 277,
    "start_time": "2023-04-13T18:35:58.021Z"
   },
   {
    "duration": 289,
    "start_time": "2023-04-13T18:35:58.300Z"
   },
   {
    "duration": 294,
    "start_time": "2023-04-13T18:35:58.590Z"
   },
   {
    "duration": 3,
    "start_time": "2023-04-13T18:35:58.888Z"
   },
   {
    "duration": 25,
    "start_time": "2023-04-13T18:35:58.892Z"
   },
   {
    "duration": 19,
    "start_time": "2023-04-13T18:35:58.919Z"
   },
   {
    "duration": 22,
    "start_time": "2023-04-13T18:35:58.940Z"
   },
   {
    "duration": 20,
    "start_time": "2023-04-13T18:35:58.964Z"
   },
   {
    "duration": 33,
    "start_time": "2023-04-13T18:35:58.986Z"
   },
   {
    "duration": 175,
    "start_time": "2023-04-13T18:35:59.021Z"
   },
   {
    "duration": 182,
    "start_time": "2023-04-13T18:35:59.198Z"
   },
   {
    "duration": 4,
    "start_time": "2023-04-13T18:35:59.387Z"
   },
   {
    "duration": 31,
    "start_time": "2023-04-13T18:35:59.393Z"
   },
   {
    "duration": 21,
    "start_time": "2023-04-13T18:35:59.426Z"
   },
   {
    "duration": 194,
    "start_time": "2023-04-13T18:35:59.449Z"
   },
   {
    "duration": 302,
    "start_time": "2023-04-13T18:35:59.646Z"
   },
   {
    "duration": 4,
    "start_time": "2023-04-13T18:35:59.950Z"
   },
   {
    "duration": 28,
    "start_time": "2023-04-13T18:35:59.955Z"
   },
   {
    "duration": 9,
    "start_time": "2023-04-13T18:35:59.985Z"
   },
   {
    "duration": 55,
    "start_time": "2023-04-13T18:35:59.995Z"
   },
   {
    "duration": 26,
    "start_time": "2023-04-13T18:36:00.052Z"
   },
   {
    "duration": 3,
    "start_time": "2023-04-13T18:36:00.080Z"
   },
   {
    "duration": 33,
    "start_time": "2023-04-13T18:36:00.085Z"
   },
   {
    "duration": 8379,
    "start_time": "2023-04-13T18:36:00.124Z"
   },
   {
    "duration": 19432,
    "start_time": "2023-04-13T18:36:08.505Z"
   },
   {
    "duration": 19713,
    "start_time": "2023-04-13T18:36:27.939Z"
   },
   {
    "duration": 3,
    "start_time": "2023-04-13T18:36:47.654Z"
   },
   {
    "duration": 19590,
    "start_time": "2023-04-13T18:36:47.658Z"
   },
   {
    "duration": 19634,
    "start_time": "2023-04-13T18:37:07.249Z"
   },
   {
    "duration": 4,
    "start_time": "2023-04-13T18:37:26.887Z"
   },
   {
    "duration": 472611,
    "start_time": "2023-04-13T18:37:26.893Z"
   },
   {
    "duration": 2,
    "start_time": "2023-04-13T18:45:19.506Z"
   },
   {
    "duration": 135948,
    "start_time": "2023-04-13T18:45:19.510Z"
   },
   {
    "duration": 141921,
    "start_time": "2023-04-13T18:47:35.459Z"
   },
   {
    "duration": 136051,
    "start_time": "2023-04-13T18:49:57.381Z"
   },
   {
    "duration": 139941,
    "start_time": "2023-04-13T18:52:13.434Z"
   },
   {
    "duration": 10,
    "start_time": "2023-04-13T18:54:33.377Z"
   },
   {
    "duration": 2898,
    "start_time": "2023-04-13T18:54:33.389Z"
   },
   {
    "duration": 6,
    "start_time": "2023-04-13T18:54:36.290Z"
   },
   {
    "duration": 3496,
    "start_time": "2023-04-13T18:54:36.298Z"
   },
   {
    "duration": 3404,
    "start_time": "2023-04-13T18:54:39.796Z"
   },
   {
    "duration": 5,
    "start_time": "2023-04-13T18:54:43.287Z"
   },
   {
    "duration": 173,
    "start_time": "2023-04-13T18:54:43.294Z"
   },
   {
    "duration": 0,
    "start_time": "2023-04-13T18:54:43.468Z"
   },
   {
    "duration": 0,
    "start_time": "2023-04-13T18:54:43.470Z"
   },
   {
    "duration": 0,
    "start_time": "2023-04-13T18:54:43.470Z"
   },
   {
    "duration": 0,
    "start_time": "2023-04-13T18:54:43.472Z"
   },
   {
    "duration": 0,
    "start_time": "2023-04-13T18:54:43.473Z"
   },
   {
    "duration": 0,
    "start_time": "2023-04-13T18:54:43.487Z"
   },
   {
    "duration": 0,
    "start_time": "2023-04-13T18:54:43.488Z"
   },
   {
    "duration": 0,
    "start_time": "2023-04-13T18:54:43.489Z"
   },
   {
    "duration": 0,
    "start_time": "2023-04-13T18:54:43.490Z"
   },
   {
    "duration": 0,
    "start_time": "2023-04-13T18:54:43.491Z"
   },
   {
    "duration": 0,
    "start_time": "2023-04-13T18:54:43.492Z"
   },
   {
    "duration": 0,
    "start_time": "2023-04-13T18:54:43.493Z"
   },
   {
    "duration": 0,
    "start_time": "2023-04-13T18:54:43.494Z"
   },
   {
    "duration": 0,
    "start_time": "2023-04-13T18:54:43.494Z"
   },
   {
    "duration": 0,
    "start_time": "2023-04-13T18:54:43.495Z"
   },
   {
    "duration": 0,
    "start_time": "2023-04-13T18:54:43.496Z"
   },
   {
    "duration": 0,
    "start_time": "2023-04-13T18:54:43.497Z"
   },
   {
    "duration": 0,
    "start_time": "2023-04-13T18:54:43.498Z"
   },
   {
    "duration": 0,
    "start_time": "2023-04-13T18:54:43.499Z"
   },
   {
    "duration": 4,
    "start_time": "2023-04-13T20:09:03.697Z"
   },
   {
    "duration": 139884,
    "start_time": "2023-04-13T20:09:09.089Z"
   },
   {
    "duration": 140919,
    "start_time": "2023-04-13T20:11:39.892Z"
   },
   {
    "duration": 3,
    "start_time": "2023-04-13T20:14:16.384Z"
   },
   {
    "duration": 2549,
    "start_time": "2023-04-13T20:14:19.443Z"
   },
   {
    "duration": 3,
    "start_time": "2023-04-13T20:14:26.038Z"
   },
   {
    "duration": 3208,
    "start_time": "2023-04-13T20:14:30.980Z"
   },
   {
    "duration": 2904,
    "start_time": "2023-04-13T20:14:39.593Z"
   },
   {
    "duration": 4,
    "start_time": "2023-04-13T20:14:47.324Z"
   },
   {
    "duration": 17,
    "start_time": "2023-04-13T20:14:50.492Z"
   },
   {
    "duration": 1094,
    "start_time": "2023-04-13T20:15:02.340Z"
   },
   {
    "duration": 209,
    "start_time": "2023-04-13T20:16:11.376Z"
   },
   {
    "duration": 206,
    "start_time": "2023-04-13T20:16:37.883Z"
   },
   {
    "duration": 368,
    "start_time": "2023-04-13T20:16:40.241Z"
   },
   {
    "duration": 168,
    "start_time": "2023-04-13T20:16:42.043Z"
   },
   {
    "duration": 178,
    "start_time": "2023-04-13T20:16:44.712Z"
   },
   {
    "duration": 362,
    "start_time": "2023-04-13T20:16:45.698Z"
   },
   {
    "duration": 154,
    "start_time": "2023-04-13T20:16:46.886Z"
   },
   {
    "duration": 3,
    "start_time": "2023-04-13T20:16:48.991Z"
   },
   {
    "duration": 1786,
    "start_time": "2023-04-13T20:16:51.504Z"
   },
   {
    "duration": 280,
    "start_time": "2023-04-13T20:16:53.783Z"
   },
   {
    "duration": 1951,
    "start_time": "2023-04-13T20:16:59.899Z"
   },
   {
    "duration": 314,
    "start_time": "2023-04-13T20:17:02.841Z"
   },
   {
    "duration": 4,
    "start_time": "2023-04-13T20:17:07.034Z"
   },
   {
    "duration": 6,
    "start_time": "2023-04-13T20:17:09.987Z"
   },
   {
    "duration": 260,
    "start_time": "2023-04-13T20:17:11.099Z"
   },
   {
    "duration": 6,
    "start_time": "2023-04-13T20:17:12.900Z"
   },
   {
    "duration": 240,
    "start_time": "2023-04-13T20:17:14.205Z"
   },
   {
    "duration": 4,
    "start_time": "2023-04-13T20:17:16.252Z"
   },
   {
    "duration": 15,
    "start_time": "2023-04-13T20:17:17.986Z"
   },
   {
    "duration": 3,
    "start_time": "2023-04-13T20:17:22.601Z"
   },
   {
    "duration": 35179,
    "start_time": "2023-04-14T06:43:46.788Z"
   },
   {
    "duration": 24,
    "start_time": "2023-04-14T06:44:21.987Z"
   },
   {
    "duration": 407,
    "start_time": "2023-04-14T06:44:22.057Z"
   },
   {
    "duration": 408,
    "start_time": "2023-04-14T06:44:22.479Z"
   },
   {
    "duration": 73,
    "start_time": "2023-04-14T06:44:22.889Z"
   },
   {
    "duration": 267,
    "start_time": "2023-04-14T06:44:22.999Z"
   },
   {
    "duration": 215,
    "start_time": "2023-04-14T06:44:23.268Z"
   },
   {
    "duration": 66,
    "start_time": "2023-04-14T06:44:23.513Z"
   },
   {
    "duration": 286,
    "start_time": "2023-04-14T06:44:23.585Z"
   },
   {
    "duration": 276,
    "start_time": "2023-04-14T06:44:23.895Z"
   },
   {
    "duration": 86,
    "start_time": "2023-04-14T06:44:24.174Z"
   },
   {
    "duration": 97,
    "start_time": "2023-04-14T06:44:24.262Z"
   },
   {
    "duration": 53,
    "start_time": "2023-04-14T06:44:24.452Z"
   },
   {
    "duration": 119,
    "start_time": "2023-04-14T06:44:24.575Z"
   },
   {
    "duration": 91,
    "start_time": "2023-04-14T06:44:24.697Z"
   },
   {
    "duration": 267,
    "start_time": "2023-04-14T06:44:24.794Z"
   },
   {
    "duration": 105,
    "start_time": "2023-04-14T06:44:25.063Z"
   },
   {
    "duration": 118,
    "start_time": "2023-04-14T06:44:25.183Z"
   },
   {
    "duration": 12,
    "start_time": "2023-04-14T06:44:25.353Z"
   },
   {
    "duration": 129,
    "start_time": "2023-04-14T06:44:25.367Z"
   },
   {
    "duration": 165,
    "start_time": "2023-04-14T06:44:25.497Z"
   },
   {
    "duration": 136,
    "start_time": "2023-04-14T06:44:25.663Z"
   },
   {
    "duration": 161,
    "start_time": "2023-04-14T06:44:25.800Z"
   },
   {
    "duration": 233,
    "start_time": "2023-04-14T06:44:25.962Z"
   },
   {
    "duration": 399,
    "start_time": "2023-04-14T06:44:26.212Z"
   },
   {
    "duration": 29,
    "start_time": "2023-04-14T06:44:26.658Z"
   },
   {
    "duration": 204,
    "start_time": "2023-04-14T06:44:26.774Z"
   },
   {
    "duration": 74,
    "start_time": "2023-04-14T06:44:26.980Z"
   },
   {
    "duration": 386,
    "start_time": "2023-04-14T06:44:27.089Z"
   },
   {
    "duration": 492,
    "start_time": "2023-04-14T06:44:27.572Z"
   },
   {
    "duration": 325,
    "start_time": "2023-04-14T06:44:28.065Z"
   },
   {
    "duration": 32,
    "start_time": "2023-04-14T06:44:28.471Z"
   },
   {
    "duration": 144,
    "start_time": "2023-04-14T06:44:28.510Z"
   },
   {
    "duration": 185,
    "start_time": "2023-04-14T06:44:28.667Z"
   },
   {
    "duration": 5813,
    "start_time": "2023-04-14T06:44:28.853Z"
   },
   {
    "duration": 5684,
    "start_time": "2023-04-14T06:44:34.703Z"
   },
   {
    "duration": 4200,
    "start_time": "2023-04-14T06:44:40.471Z"
   },
   {
    "duration": 5619,
    "start_time": "2023-04-14T06:44:44.672Z"
   },
   {
    "duration": 131,
    "start_time": "2023-04-14T06:44:50.354Z"
   },
   {
    "duration": 5422,
    "start_time": "2023-04-14T06:44:50.557Z"
   },
   {
    "duration": 108,
    "start_time": "2023-04-14T06:44:55.981Z"
   },
   {
    "duration": 3364,
    "start_time": "2023-04-14T06:44:56.091Z"
   },
   {
    "duration": 4218,
    "start_time": "2023-04-14T06:44:59.457Z"
   },
   {
    "duration": 3777,
    "start_time": "2023-04-14T06:45:03.701Z"
   },
   {
    "duration": 29,
    "start_time": "2023-04-14T06:45:07.563Z"
   },
   {
    "duration": 124,
    "start_time": "2023-04-14T06:45:07.663Z"
   },
   {
    "duration": 1809,
    "start_time": "2023-04-14T06:45:07.850Z"
   },
   {
    "duration": 157,
    "start_time": "2023-04-14T06:45:09.692Z"
   },
   {
    "duration": 101,
    "start_time": "2023-04-14T06:45:09.862Z"
   },
   {
    "duration": 197,
    "start_time": "2023-04-14T06:45:10.059Z"
   },
   {
    "duration": 169,
    "start_time": "2023-04-14T06:45:10.283Z"
   },
   {
    "duration": 3807,
    "start_time": "2023-04-14T06:45:10.453Z"
   },
   {
    "duration": 2901,
    "start_time": "2023-04-14T06:45:14.262Z"
   },
   {
    "duration": 3923,
    "start_time": "2023-04-14T06:45:17.164Z"
   },
   {
    "duration": 48,
    "start_time": "2023-04-14T06:45:21.159Z"
   },
   {
    "duration": 39,
    "start_time": "2023-04-14T06:45:21.267Z"
   },
   {
    "duration": 118,
    "start_time": "2023-04-14T06:45:21.374Z"
   },
   {
    "duration": 3912,
    "start_time": "2023-04-14T06:45:21.498Z"
   },
   {
    "duration": 4454,
    "start_time": "2023-04-14T06:45:25.509Z"
   },
   {
    "duration": 2871,
    "start_time": "2023-04-14T06:45:29.996Z"
   },
   {
    "duration": 3085,
    "start_time": "2023-04-14T06:45:32.882Z"
   },
   {
    "duration": 22,
    "start_time": "2023-04-14T06:45:35.969Z"
   },
   {
    "duration": 485,
    "start_time": "2023-04-14T06:45:36.063Z"
   },
   {
    "duration": 277,
    "start_time": "2023-04-14T06:45:36.590Z"
   },
   {
    "duration": 74,
    "start_time": "2023-04-14T06:45:36.896Z"
   },
   {
    "duration": 82,
    "start_time": "2023-04-14T06:45:36.981Z"
   },
   {
    "duration": 211,
    "start_time": "2023-04-14T06:45:37.095Z"
   },
   {
    "duration": 1672,
    "start_time": "2023-04-14T06:45:37.311Z"
   },
   {
    "duration": 3017,
    "start_time": "2023-04-14T06:45:38.989Z"
   },
   {
    "duration": 88,
    "start_time": "2023-04-14T06:45:42.060Z"
   },
   {
    "duration": 92,
    "start_time": "2023-04-14T06:45:42.175Z"
   },
   {
    "duration": 166,
    "start_time": "2023-04-14T06:45:42.301Z"
   },
   {
    "duration": 1993,
    "start_time": "2023-04-14T06:45:42.474Z"
   },
   {
    "duration": 1572,
    "start_time": "2023-04-14T06:45:44.495Z"
   },
   {
    "duration": 19,
    "start_time": "2023-04-14T06:45:46.071Z"
   },
   {
    "duration": 164,
    "start_time": "2023-04-14T06:45:46.155Z"
   },
   {
    "duration": 108,
    "start_time": "2023-04-14T06:45:46.358Z"
   },
   {
    "duration": 488,
    "start_time": "2023-04-14T06:45:46.469Z"
   },
   {
    "duration": 484,
    "start_time": "2023-04-14T06:45:47.075Z"
   },
   {
    "duration": 43,
    "start_time": "2023-04-14T06:45:47.612Z"
   },
   {
    "duration": 321,
    "start_time": "2023-04-14T06:45:47.667Z"
   },
   {
    "duration": 87957,
    "start_time": "2023-04-14T06:45:48.050Z"
   },
   {
    "duration": 203409,
    "start_time": "2023-04-14T06:47:16.090Z"
   },
   {
    "duration": 222417,
    "start_time": "2023-04-14T06:50:39.582Z"
   },
   {
    "duration": 102,
    "start_time": "2023-04-14T06:54:22.075Z"
   },
   {
    "duration": 199896,
    "start_time": "2023-04-14T06:54:22.179Z"
   },
   {
    "duration": 209122,
    "start_time": "2023-04-14T06:57:42.151Z"
   },
   {
    "duration": 71,
    "start_time": "2023-04-14T07:01:11.288Z"
   },
   {
    "duration": 302,
    "start_time": "2023-04-14T08:49:52.383Z"
   },
   {
    "duration": 3372,
    "start_time": "2023-04-15T19:38:49.157Z"
   },
   {
    "duration": 8,
    "start_time": "2023-04-15T19:38:52.531Z"
   },
   {
    "duration": 60,
    "start_time": "2023-04-15T19:38:52.541Z"
   },
   {
    "duration": 22,
    "start_time": "2023-04-15T19:38:52.604Z"
   },
   {
    "duration": 4,
    "start_time": "2023-04-15T19:38:52.627Z"
   },
   {
    "duration": 34,
    "start_time": "2023-04-15T19:38:52.633Z"
   },
   {
    "duration": 23,
    "start_time": "2023-04-15T19:38:52.669Z"
   },
   {
    "duration": 4,
    "start_time": "2023-04-15T19:38:52.693Z"
   },
   {
    "duration": 53,
    "start_time": "2023-04-15T19:38:52.698Z"
   },
   {
    "duration": 34,
    "start_time": "2023-04-15T19:38:52.754Z"
   },
   {
    "duration": 21,
    "start_time": "2023-04-15T19:38:52.789Z"
   },
   {
    "duration": 21,
    "start_time": "2023-04-15T19:38:52.811Z"
   },
   {
    "duration": 15,
    "start_time": "2023-04-15T19:38:52.833Z"
   },
   {
    "duration": 23,
    "start_time": "2023-04-15T19:38:52.850Z"
   },
   {
    "duration": 9,
    "start_time": "2023-04-15T19:38:52.874Z"
   },
   {
    "duration": 5,
    "start_time": "2023-04-15T19:38:52.884Z"
   },
   {
    "duration": 11,
    "start_time": "2023-04-15T19:38:52.891Z"
   },
   {
    "duration": 3,
    "start_time": "2023-04-15T19:38:52.904Z"
   },
   {
    "duration": 7,
    "start_time": "2023-04-15T19:38:52.908Z"
   },
   {
    "duration": 12,
    "start_time": "2023-04-15T19:38:52.916Z"
   },
   {
    "duration": 23,
    "start_time": "2023-04-15T19:38:52.929Z"
   },
   {
    "duration": 11,
    "start_time": "2023-04-15T19:38:52.954Z"
   },
   {
    "duration": 6,
    "start_time": "2023-04-15T19:38:52.966Z"
   },
   {
    "duration": 7,
    "start_time": "2023-04-15T19:38:52.973Z"
   },
   {
    "duration": 16,
    "start_time": "2023-04-15T19:38:52.981Z"
   },
   {
    "duration": 5,
    "start_time": "2023-04-15T19:38:52.999Z"
   },
   {
    "duration": 21,
    "start_time": "2023-04-15T19:38:53.006Z"
   },
   {
    "duration": 18,
    "start_time": "2023-04-15T19:38:53.032Z"
   },
   {
    "duration": 17,
    "start_time": "2023-04-15T19:38:53.052Z"
   },
   {
    "duration": 20,
    "start_time": "2023-04-15T19:38:53.071Z"
   },
   {
    "duration": 24,
    "start_time": "2023-04-15T19:38:53.092Z"
   },
   {
    "duration": 4,
    "start_time": "2023-04-15T19:38:53.117Z"
   },
   {
    "duration": 15,
    "start_time": "2023-04-15T19:38:53.123Z"
   },
   {
    "duration": 14,
    "start_time": "2023-04-15T19:38:53.139Z"
   },
   {
    "duration": 399,
    "start_time": "2023-04-15T19:38:53.154Z"
   },
   {
    "duration": 440,
    "start_time": "2023-04-15T19:38:53.554Z"
   },
   {
    "duration": 387,
    "start_time": "2023-04-15T19:38:53.996Z"
   },
   {
    "duration": 371,
    "start_time": "2023-04-15T19:38:54.385Z"
   },
   {
    "duration": 4,
    "start_time": "2023-04-15T19:38:54.757Z"
   },
   {
    "duration": 569,
    "start_time": "2023-04-15T19:38:54.763Z"
   },
   {
    "duration": 14,
    "start_time": "2023-04-15T19:38:55.336Z"
   },
   {
    "duration": 349,
    "start_time": "2023-04-15T19:38:55.351Z"
   },
   {
    "duration": 266,
    "start_time": "2023-04-15T19:38:55.701Z"
   },
   {
    "duration": 262,
    "start_time": "2023-04-15T19:38:55.969Z"
   },
   {
    "duration": 14,
    "start_time": "2023-04-15T19:38:56.236Z"
   },
   {
    "duration": 8,
    "start_time": "2023-04-15T19:38:56.252Z"
   },
   {
    "duration": 23,
    "start_time": "2023-04-15T19:38:56.262Z"
   },
   {
    "duration": 7,
    "start_time": "2023-04-15T19:38:56.287Z"
   },
   {
    "duration": 8,
    "start_time": "2023-04-15T19:38:56.296Z"
   },
   {
    "duration": 15,
    "start_time": "2023-04-15T19:38:56.305Z"
   },
   {
    "duration": 25,
    "start_time": "2023-04-15T19:38:56.321Z"
   },
   {
    "duration": 289,
    "start_time": "2023-04-15T19:38:56.348Z"
   },
   {
    "duration": 263,
    "start_time": "2023-04-15T19:38:56.651Z"
   },
   {
    "duration": 257,
    "start_time": "2023-04-15T19:38:56.916Z"
   },
   {
    "duration": 5,
    "start_time": "2023-04-15T19:38:57.174Z"
   },
   {
    "duration": 5,
    "start_time": "2023-04-15T19:38:57.181Z"
   },
   {
    "duration": 4,
    "start_time": "2023-04-15T19:38:57.187Z"
   },
   {
    "duration": 354,
    "start_time": "2023-04-15T19:38:57.193Z"
   },
   {
    "duration": 248,
    "start_time": "2023-04-15T19:38:57.551Z"
   },
   {
    "duration": 261,
    "start_time": "2023-04-15T19:38:57.801Z"
   },
   {
    "duration": 263,
    "start_time": "2023-04-15T19:38:58.063Z"
   },
   {
    "duration": 18,
    "start_time": "2023-04-15T19:38:58.328Z"
   },
   {
    "duration": 20,
    "start_time": "2023-04-15T19:38:58.348Z"
   },
   {
    "duration": 15,
    "start_time": "2023-04-15T19:38:58.369Z"
   },
   {
    "duration": 3,
    "start_time": "2023-04-15T19:38:58.386Z"
   },
   {
    "duration": 9,
    "start_time": "2023-04-15T19:38:58.391Z"
   },
   {
    "duration": 22,
    "start_time": "2023-04-15T19:38:58.401Z"
   },
   {
    "duration": 156,
    "start_time": "2023-04-15T19:38:58.425Z"
   },
   {
    "duration": 165,
    "start_time": "2023-04-15T19:38:58.583Z"
   },
   {
    "duration": 4,
    "start_time": "2023-04-15T19:38:58.750Z"
   },
   {
    "duration": 14,
    "start_time": "2023-04-15T19:38:58.756Z"
   },
   {
    "duration": 14,
    "start_time": "2023-04-15T19:38:58.771Z"
   },
   {
    "duration": 163,
    "start_time": "2023-04-15T19:38:58.786Z"
   },
   {
    "duration": 240,
    "start_time": "2023-04-15T19:38:58.951Z"
   },
   {
    "duration": 3,
    "start_time": "2023-04-15T19:38:59.193Z"
   },
   {
    "duration": 8,
    "start_time": "2023-04-15T19:38:59.198Z"
   },
   {
    "duration": 6,
    "start_time": "2023-04-15T19:38:59.207Z"
   },
   {
    "duration": 35,
    "start_time": "2023-04-15T19:38:59.214Z"
   },
   {
    "duration": 22,
    "start_time": "2023-04-15T19:38:59.251Z"
   },
   {
    "duration": 4,
    "start_time": "2023-04-15T19:38:59.275Z"
   },
   {
    "duration": 5,
    "start_time": "2023-04-15T19:38:59.280Z"
   },
   {
    "duration": 7162,
    "start_time": "2023-04-15T19:38:59.289Z"
   },
   {
    "duration": 17646,
    "start_time": "2023-04-15T19:39:06.453Z"
   },
   {
    "duration": 17180,
    "start_time": "2023-04-15T19:39:24.101Z"
   },
   {
    "duration": 3,
    "start_time": "2023-04-15T19:39:41.283Z"
   },
   {
    "duration": 17465,
    "start_time": "2023-04-15T19:39:41.288Z"
   },
   {
    "duration": 17641,
    "start_time": "2023-04-15T19:39:58.754Z"
   },
   {
    "duration": 4,
    "start_time": "2023-04-15T19:40:16.396Z"
   },
   {
    "duration": 2004,
    "start_time": "2023-04-15T19:46:41.550Z"
   },
   {
    "duration": 4,
    "start_time": "2023-04-15T19:46:43.556Z"
   },
   {
    "duration": 26,
    "start_time": "2023-04-15T19:46:43.562Z"
   },
   {
    "duration": 16,
    "start_time": "2023-04-15T19:46:43.590Z"
   },
   {
    "duration": 4,
    "start_time": "2023-04-15T19:46:43.607Z"
   },
   {
    "duration": 35,
    "start_time": "2023-04-15T19:46:43.612Z"
   },
   {
    "duration": 11,
    "start_time": "2023-04-15T19:46:43.648Z"
   },
   {
    "duration": 9,
    "start_time": "2023-04-15T19:46:43.660Z"
   },
   {
    "duration": 22,
    "start_time": "2023-04-15T19:46:43.670Z"
   },
   {
    "duration": 14,
    "start_time": "2023-04-15T19:46:43.694Z"
   },
   {
    "duration": 15,
    "start_time": "2023-04-15T19:46:43.709Z"
   },
   {
    "duration": 27,
    "start_time": "2023-04-15T19:46:43.725Z"
   },
   {
    "duration": 14,
    "start_time": "2023-04-15T19:46:43.754Z"
   },
   {
    "duration": 19,
    "start_time": "2023-04-15T19:46:43.769Z"
   },
   {
    "duration": 27,
    "start_time": "2023-04-15T19:46:43.789Z"
   },
   {
    "duration": 4,
    "start_time": "2023-04-15T19:46:43.817Z"
   },
   {
    "duration": 19,
    "start_time": "2023-04-15T19:46:43.822Z"
   },
   {
    "duration": 7,
    "start_time": "2023-04-15T19:46:43.842Z"
   },
   {
    "duration": 8,
    "start_time": "2023-04-15T19:46:43.850Z"
   },
   {
    "duration": 9,
    "start_time": "2023-04-15T19:46:43.859Z"
   },
   {
    "duration": 16,
    "start_time": "2023-04-15T19:46:43.869Z"
   },
   {
    "duration": 16,
    "start_time": "2023-04-15T19:46:43.886Z"
   },
   {
    "duration": 18,
    "start_time": "2023-04-15T19:46:43.903Z"
   },
   {
    "duration": 15,
    "start_time": "2023-04-15T19:46:43.922Z"
   },
   {
    "duration": 15,
    "start_time": "2023-04-15T19:46:43.938Z"
   },
   {
    "duration": 5,
    "start_time": "2023-04-15T19:46:43.954Z"
   },
   {
    "duration": 22,
    "start_time": "2023-04-15T19:46:43.960Z"
   },
   {
    "duration": 11,
    "start_time": "2023-04-15T19:46:43.985Z"
   },
   {
    "duration": 27,
    "start_time": "2023-04-15T19:46:43.998Z"
   },
   {
    "duration": 24,
    "start_time": "2023-04-15T19:46:44.027Z"
   },
   {
    "duration": 24,
    "start_time": "2023-04-15T19:46:44.053Z"
   },
   {
    "duration": 5,
    "start_time": "2023-04-15T19:46:44.078Z"
   },
   {
    "duration": 7,
    "start_time": "2023-04-15T19:46:44.084Z"
   },
   {
    "duration": 21,
    "start_time": "2023-04-15T19:46:44.092Z"
   },
   {
    "duration": 384,
    "start_time": "2023-04-15T19:46:44.115Z"
   },
   {
    "duration": 451,
    "start_time": "2023-04-15T19:46:44.501Z"
   },
   {
    "duration": 383,
    "start_time": "2023-04-15T19:46:44.955Z"
   },
   {
    "duration": 360,
    "start_time": "2023-04-15T19:46:45.345Z"
   },
   {
    "duration": 3,
    "start_time": "2023-04-15T19:46:45.707Z"
   },
   {
    "duration": 603,
    "start_time": "2023-04-15T19:46:45.711Z"
   },
   {
    "duration": 4,
    "start_time": "2023-04-15T19:46:46.315Z"
   },
   {
    "duration": 365,
    "start_time": "2023-04-15T19:46:46.320Z"
   },
   {
    "duration": 267,
    "start_time": "2023-04-15T19:46:46.687Z"
   },
   {
    "duration": 290,
    "start_time": "2023-04-15T19:46:46.955Z"
   },
   {
    "duration": 5,
    "start_time": "2023-04-15T19:46:47.247Z"
   },
   {
    "duration": 5,
    "start_time": "2023-04-15T19:46:47.253Z"
   },
   {
    "duration": 24,
    "start_time": "2023-04-15T19:46:47.259Z"
   },
   {
    "duration": 8,
    "start_time": "2023-04-15T19:46:47.285Z"
   },
   {
    "duration": 11,
    "start_time": "2023-04-15T19:46:47.294Z"
   },
   {
    "duration": 7,
    "start_time": "2023-04-15T19:46:47.306Z"
   },
   {
    "duration": 34,
    "start_time": "2023-04-15T19:46:47.315Z"
   },
   {
    "duration": 261,
    "start_time": "2023-04-15T19:46:47.352Z"
   },
   {
    "duration": 277,
    "start_time": "2023-04-15T19:46:47.615Z"
   },
   {
    "duration": 262,
    "start_time": "2023-04-15T19:46:47.894Z"
   },
   {
    "duration": 5,
    "start_time": "2023-04-15T19:46:48.157Z"
   },
   {
    "duration": 9,
    "start_time": "2023-04-15T19:46:48.164Z"
   },
   {
    "duration": 6,
    "start_time": "2023-04-15T19:46:48.174Z"
   },
   {
    "duration": 378,
    "start_time": "2023-04-15T19:46:48.181Z"
   },
   {
    "duration": 261,
    "start_time": "2023-04-15T19:46:48.561Z"
   },
   {
    "duration": 263,
    "start_time": "2023-04-15T19:46:48.823Z"
   },
   {
    "duration": 267,
    "start_time": "2023-04-15T19:46:49.087Z"
   },
   {
    "duration": 3,
    "start_time": "2023-04-15T19:46:49.355Z"
   },
   {
    "duration": 21,
    "start_time": "2023-04-15T19:46:49.359Z"
   },
   {
    "duration": 15,
    "start_time": "2023-04-15T19:46:49.381Z"
   },
   {
    "duration": 4,
    "start_time": "2023-04-15T19:46:49.397Z"
   },
   {
    "duration": 9,
    "start_time": "2023-04-15T19:46:49.403Z"
   },
   {
    "duration": 36,
    "start_time": "2023-04-15T19:46:49.413Z"
   },
   {
    "duration": 159,
    "start_time": "2023-04-15T19:46:49.451Z"
   },
   {
    "duration": 164,
    "start_time": "2023-04-15T19:46:49.611Z"
   },
   {
    "duration": 3,
    "start_time": "2023-04-15T19:46:49.777Z"
   },
   {
    "duration": 10,
    "start_time": "2023-04-15T19:46:49.782Z"
   },
   {
    "duration": 11,
    "start_time": "2023-04-15T19:46:49.793Z"
   },
   {
    "duration": 159,
    "start_time": "2023-04-15T19:46:49.805Z"
   },
   {
    "duration": 257,
    "start_time": "2023-04-15T19:46:49.965Z"
   },
   {
    "duration": 3,
    "start_time": "2023-04-15T19:46:50.223Z"
   },
   {
    "duration": 19,
    "start_time": "2023-04-15T19:46:50.228Z"
   },
   {
    "duration": 2,
    "start_time": "2023-04-15T19:46:50.249Z"
   },
   {
    "duration": 34,
    "start_time": "2023-04-15T19:46:50.253Z"
   },
   {
    "duration": 22,
    "start_time": "2023-04-15T19:46:50.288Z"
   },
   {
    "duration": 3,
    "start_time": "2023-04-15T19:46:50.311Z"
   },
   {
    "duration": 7,
    "start_time": "2023-04-15T19:46:50.316Z"
   },
   {
    "duration": 7151,
    "start_time": "2023-04-15T19:46:50.327Z"
   },
   {
    "duration": 17098,
    "start_time": "2023-04-15T19:46:57.479Z"
   },
   {
    "duration": 17168,
    "start_time": "2023-04-15T19:47:14.579Z"
   },
   {
    "duration": 4,
    "start_time": "2023-04-15T19:47:31.751Z"
   },
   {
    "duration": 17415,
    "start_time": "2023-04-15T19:47:31.758Z"
   },
   {
    "duration": 17757,
    "start_time": "2023-04-15T19:47:49.175Z"
   },
   {
    "duration": 7,
    "start_time": "2023-04-15T19:48:06.936Z"
   },
   {
    "duration": 415182,
    "start_time": "2023-04-15T19:48:06.946Z"
   },
   {
    "duration": 14,
    "start_time": "2023-04-15T19:55:02.130Z"
   },
   {
    "duration": 124514,
    "start_time": "2023-04-15T19:55:02.151Z"
   },
   {
    "duration": 127061,
    "start_time": "2023-04-15T19:57:06.667Z"
   },
   {
    "duration": 6,
    "start_time": "2023-04-15T19:59:13.730Z"
   },
   {
    "duration": 121656,
    "start_time": "2023-04-15T19:59:13.738Z"
   },
   {
    "duration": 123636,
    "start_time": "2023-04-15T20:01:15.396Z"
   },
   {
    "duration": 6,
    "start_time": "2023-04-15T20:03:19.043Z"
   },
   {
    "duration": 4021,
    "start_time": "2023-04-15T20:03:19.050Z"
   },
   {
    "duration": 66,
    "start_time": "2023-04-15T20:03:23.073Z"
   },
   {
    "duration": 4512,
    "start_time": "2023-04-15T20:03:23.145Z"
   },
   {
    "duration": 3889,
    "start_time": "2023-04-15T20:03:27.659Z"
   },
   {
    "duration": 3,
    "start_time": "2023-04-15T20:03:31.550Z"
   },
   {
    "duration": 1717,
    "start_time": "2023-04-15T20:03:31.554Z"
   },
   {
    "duration": 251,
    "start_time": "2023-04-15T20:03:33.272Z"
   },
   {
    "duration": 1586,
    "start_time": "2023-04-15T20:03:33.525Z"
   },
   {
    "duration": 269,
    "start_time": "2023-04-15T20:03:35.112Z"
   },
   {
    "duration": 3,
    "start_time": "2023-04-15T20:03:35.383Z"
   },
   {
    "duration": 39,
    "start_time": "2023-04-15T20:03:35.387Z"
   },
   {
    "duration": 304,
    "start_time": "2023-04-15T20:03:35.428Z"
   },
   {
    "duration": 14,
    "start_time": "2023-04-15T20:03:35.733Z"
   },
   {
    "duration": 222,
    "start_time": "2023-04-15T20:03:35.750Z"
   },
   {
    "duration": 3,
    "start_time": "2023-04-15T20:03:35.974Z"
   },
   {
    "duration": 93,
    "start_time": "2023-04-15T20:03:35.979Z"
   },
   {
    "duration": 4,
    "start_time": "2023-04-15T20:03:36.073Z"
   }
  ],
  "kernelspec": {
   "display_name": "Python 3 (ipykernel)",
   "language": "python",
   "name": "python3"
  },
  "language_info": {
   "codemirror_mode": {
    "name": "ipython",
    "version": 3
   },
   "file_extension": ".py",
   "mimetype": "text/x-python",
   "name": "python",
   "nbconvert_exporter": "python",
   "pygments_lexer": "ipython3",
   "version": "3.10.9"
  },
  "toc": {
   "base_numbering": 1,
   "nav_menu": {},
   "number_sections": true,
   "sideBar": true,
   "skip_h1_title": true,
   "title_cell": "Содержание",
   "title_sidebar": "Contents",
   "toc_cell": true,
   "toc_position": {
    "height": "calc(100% - 180px)",
    "left": "10px",
    "top": "150px",
    "width": "165px"
   },
   "toc_section_display": true,
   "toc_window_display": true
  }
 },
 "nbformat": 4,
 "nbformat_minor": 2
}
