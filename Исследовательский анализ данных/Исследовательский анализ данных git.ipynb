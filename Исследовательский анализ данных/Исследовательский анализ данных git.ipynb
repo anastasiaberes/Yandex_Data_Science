{
 "cells": [
  {
   "cell_type": "markdown",
   "metadata": {},
   "source": [
    "# Исследование объявлений о продаже квартир\n",
    "\n",
    "В вашем распоряжении данные сервиса Яндекс.Недвижимость — архив объявлений о продаже квартир в Санкт-Петербурге и соседних населённых пунктов за несколько лет. Нужно научиться определять рыночную стоимость объектов недвижимости. Ваша задача — установить параметры. Это позволит построить автоматизированную систему: она отследит аномалии и мошенническую деятельность. \n",
    "\n",
    "По каждой квартире на продажу доступны два вида данных. Первые вписаны пользователем, вторые — получены автоматически на основе картографических данных. Например, расстояние до центра, аэропорта, ближайшего парка и водоёма. "
   ]
  },
  {
   "cell_type": "markdown",
   "metadata": {},
   "source": [
    "### Откройте файл с данными и изучите общую информацию. "
   ]
  },
  {
   "cell_type": "code",
   "execution_count": 1,
   "metadata": {
    "scrolled": true
   },
   "outputs": [],
   "source": [
    "import pandas as pd\n",
    "\n",
    "\n"
   ]
  },
  {
   "cell_type": "code",
   "execution_count": 2,
   "metadata": {},
   "outputs": [],
   "source": [
    "# check\n",
    "import seaborn as sns\n",
    "import matplotlib.pyplot as plt"
   ]
  },
  {
   "cell_type": "code",
   "execution_count": 3,
   "metadata": {},
   "outputs": [],
   "source": [
    "data=pd.read_csv('/datasets/real_estate_data.csv', sep='\\t')"
   ]
  },
  {
   "cell_type": "code",
   "execution_count": 4,
   "metadata": {},
   "outputs": [
    {
     "name": "stdout",
     "output_type": "stream",
     "text": [
      "<class 'pandas.core.frame.DataFrame'>\n",
      "RangeIndex: 23699 entries, 0 to 23698\n",
      "Data columns (total 22 columns):\n",
      " #   Column                Non-Null Count  Dtype  \n",
      "---  ------                --------------  -----  \n",
      " 0   total_images          23699 non-null  int64  \n",
      " 1   last_price            23699 non-null  float64\n",
      " 2   total_area            23699 non-null  float64\n",
      " 3   first_day_exposition  23699 non-null  object \n",
      " 4   rooms                 23699 non-null  int64  \n",
      " 5   ceiling_height        14504 non-null  float64\n",
      " 6   floors_total          23613 non-null  float64\n",
      " 7   living_area           21796 non-null  float64\n",
      " 8   floor                 23699 non-null  int64  \n",
      " 9   is_apartment          2775 non-null   object \n",
      " 10  studio                23699 non-null  bool   \n",
      " 11  open_plan             23699 non-null  bool   \n",
      " 12  kitchen_area          21421 non-null  float64\n",
      " 13  balcony               12180 non-null  float64\n",
      " 14  locality_name         23650 non-null  object \n",
      " 15  airports_nearest      18157 non-null  float64\n",
      " 16  cityCenters_nearest   18180 non-null  float64\n",
      " 17  parks_around3000      18181 non-null  float64\n",
      " 18  parks_nearest         8079 non-null   float64\n",
      " 19  ponds_around3000      18181 non-null  float64\n",
      " 20  ponds_nearest         9110 non-null   float64\n",
      " 21  days_exposition       20518 non-null  float64\n",
      "dtypes: bool(2), float64(14), int64(3), object(3)\n",
      "memory usage: 3.7+ MB\n"
     ]
    },
    {
     "data": {
      "text/html": [
       "<div>\n",
       "<style scoped>\n",
       "    .dataframe tbody tr th:only-of-type {\n",
       "        vertical-align: middle;\n",
       "    }\n",
       "\n",
       "    .dataframe tbody tr th {\n",
       "        vertical-align: top;\n",
       "    }\n",
       "\n",
       "    .dataframe thead th {\n",
       "        text-align: right;\n",
       "    }\n",
       "</style>\n",
       "<table border=\"1\" class=\"dataframe\">\n",
       "  <thead>\n",
       "    <tr style=\"text-align: right;\">\n",
       "      <th></th>\n",
       "      <th>total_images</th>\n",
       "      <th>last_price</th>\n",
       "      <th>total_area</th>\n",
       "      <th>first_day_exposition</th>\n",
       "      <th>rooms</th>\n",
       "      <th>ceiling_height</th>\n",
       "      <th>floors_total</th>\n",
       "      <th>living_area</th>\n",
       "      <th>floor</th>\n",
       "      <th>is_apartment</th>\n",
       "      <th>...</th>\n",
       "      <th>kitchen_area</th>\n",
       "      <th>balcony</th>\n",
       "      <th>locality_name</th>\n",
       "      <th>airports_nearest</th>\n",
       "      <th>cityCenters_nearest</th>\n",
       "      <th>parks_around3000</th>\n",
       "      <th>parks_nearest</th>\n",
       "      <th>ponds_around3000</th>\n",
       "      <th>ponds_nearest</th>\n",
       "      <th>days_exposition</th>\n",
       "    </tr>\n",
       "  </thead>\n",
       "  <tbody>\n",
       "    <tr>\n",
       "      <th>0</th>\n",
       "      <td>20</td>\n",
       "      <td>13000000.0</td>\n",
       "      <td>108.0</td>\n",
       "      <td>2019-03-07T00:00:00</td>\n",
       "      <td>3</td>\n",
       "      <td>2.70</td>\n",
       "      <td>16.0</td>\n",
       "      <td>51.0</td>\n",
       "      <td>8</td>\n",
       "      <td>NaN</td>\n",
       "      <td>...</td>\n",
       "      <td>25.0</td>\n",
       "      <td>NaN</td>\n",
       "      <td>Санкт-Петербург</td>\n",
       "      <td>18863.0</td>\n",
       "      <td>16028.0</td>\n",
       "      <td>1.0</td>\n",
       "      <td>482.0</td>\n",
       "      <td>2.0</td>\n",
       "      <td>755.0</td>\n",
       "      <td>NaN</td>\n",
       "    </tr>\n",
       "    <tr>\n",
       "      <th>1</th>\n",
       "      <td>7</td>\n",
       "      <td>3350000.0</td>\n",
       "      <td>40.4</td>\n",
       "      <td>2018-12-04T00:00:00</td>\n",
       "      <td>1</td>\n",
       "      <td>NaN</td>\n",
       "      <td>11.0</td>\n",
       "      <td>18.6</td>\n",
       "      <td>1</td>\n",
       "      <td>NaN</td>\n",
       "      <td>...</td>\n",
       "      <td>11.0</td>\n",
       "      <td>2.0</td>\n",
       "      <td>посёлок Шушары</td>\n",
       "      <td>12817.0</td>\n",
       "      <td>18603.0</td>\n",
       "      <td>0.0</td>\n",
       "      <td>NaN</td>\n",
       "      <td>0.0</td>\n",
       "      <td>NaN</td>\n",
       "      <td>81.0</td>\n",
       "    </tr>\n",
       "    <tr>\n",
       "      <th>2</th>\n",
       "      <td>10</td>\n",
       "      <td>5196000.0</td>\n",
       "      <td>56.0</td>\n",
       "      <td>2015-08-20T00:00:00</td>\n",
       "      <td>2</td>\n",
       "      <td>NaN</td>\n",
       "      <td>5.0</td>\n",
       "      <td>34.3</td>\n",
       "      <td>4</td>\n",
       "      <td>NaN</td>\n",
       "      <td>...</td>\n",
       "      <td>8.3</td>\n",
       "      <td>0.0</td>\n",
       "      <td>Санкт-Петербург</td>\n",
       "      <td>21741.0</td>\n",
       "      <td>13933.0</td>\n",
       "      <td>1.0</td>\n",
       "      <td>90.0</td>\n",
       "      <td>2.0</td>\n",
       "      <td>574.0</td>\n",
       "      <td>558.0</td>\n",
       "    </tr>\n",
       "    <tr>\n",
       "      <th>3</th>\n",
       "      <td>0</td>\n",
       "      <td>64900000.0</td>\n",
       "      <td>159.0</td>\n",
       "      <td>2015-07-24T00:00:00</td>\n",
       "      <td>3</td>\n",
       "      <td>NaN</td>\n",
       "      <td>14.0</td>\n",
       "      <td>NaN</td>\n",
       "      <td>9</td>\n",
       "      <td>NaN</td>\n",
       "      <td>...</td>\n",
       "      <td>NaN</td>\n",
       "      <td>0.0</td>\n",
       "      <td>Санкт-Петербург</td>\n",
       "      <td>28098.0</td>\n",
       "      <td>6800.0</td>\n",
       "      <td>2.0</td>\n",
       "      <td>84.0</td>\n",
       "      <td>3.0</td>\n",
       "      <td>234.0</td>\n",
       "      <td>424.0</td>\n",
       "    </tr>\n",
       "    <tr>\n",
       "      <th>4</th>\n",
       "      <td>2</td>\n",
       "      <td>10000000.0</td>\n",
       "      <td>100.0</td>\n",
       "      <td>2018-06-19T00:00:00</td>\n",
       "      <td>2</td>\n",
       "      <td>3.03</td>\n",
       "      <td>14.0</td>\n",
       "      <td>32.0</td>\n",
       "      <td>13</td>\n",
       "      <td>NaN</td>\n",
       "      <td>...</td>\n",
       "      <td>41.0</td>\n",
       "      <td>NaN</td>\n",
       "      <td>Санкт-Петербург</td>\n",
       "      <td>31856.0</td>\n",
       "      <td>8098.0</td>\n",
       "      <td>2.0</td>\n",
       "      <td>112.0</td>\n",
       "      <td>1.0</td>\n",
       "      <td>48.0</td>\n",
       "      <td>121.0</td>\n",
       "    </tr>\n",
       "  </tbody>\n",
       "</table>\n",
       "<p>5 rows × 22 columns</p>\n",
       "</div>"
      ],
      "text/plain": [
       "   total_images  last_price  total_area first_day_exposition  rooms  \\\n",
       "0            20  13000000.0       108.0  2019-03-07T00:00:00      3   \n",
       "1             7   3350000.0        40.4  2018-12-04T00:00:00      1   \n",
       "2            10   5196000.0        56.0  2015-08-20T00:00:00      2   \n",
       "3             0  64900000.0       159.0  2015-07-24T00:00:00      3   \n",
       "4             2  10000000.0       100.0  2018-06-19T00:00:00      2   \n",
       "\n",
       "   ceiling_height  floors_total  living_area  floor is_apartment  ...  \\\n",
       "0            2.70          16.0         51.0      8          NaN  ...   \n",
       "1             NaN          11.0         18.6      1          NaN  ...   \n",
       "2             NaN           5.0         34.3      4          NaN  ...   \n",
       "3             NaN          14.0          NaN      9          NaN  ...   \n",
       "4            3.03          14.0         32.0     13          NaN  ...   \n",
       "\n",
       "   kitchen_area  balcony    locality_name  airports_nearest  \\\n",
       "0          25.0      NaN  Санкт-Петербург           18863.0   \n",
       "1          11.0      2.0   посёлок Шушары           12817.0   \n",
       "2           8.3      0.0  Санкт-Петербург           21741.0   \n",
       "3           NaN      0.0  Санкт-Петербург           28098.0   \n",
       "4          41.0      NaN  Санкт-Петербург           31856.0   \n",
       "\n",
       "  cityCenters_nearest  parks_around3000  parks_nearest  ponds_around3000  \\\n",
       "0             16028.0               1.0          482.0               2.0   \n",
       "1             18603.0               0.0            NaN               0.0   \n",
       "2             13933.0               1.0           90.0               2.0   \n",
       "3              6800.0               2.0           84.0               3.0   \n",
       "4              8098.0               2.0          112.0               1.0   \n",
       "\n",
       "   ponds_nearest  days_exposition  \n",
       "0          755.0              NaN  \n",
       "1            NaN             81.0  \n",
       "2          574.0            558.0  \n",
       "3          234.0            424.0  \n",
       "4           48.0            121.0  \n",
       "\n",
       "[5 rows x 22 columns]"
      ]
     },
     "execution_count": 4,
     "metadata": {},
     "output_type": "execute_result"
    }
   ],
   "source": [
    "data.info()\n",
    "data.head(5)"
   ]
  },
  {
   "cell_type": "code",
   "execution_count": 5,
   "metadata": {},
   "outputs": [
    {
     "data": {
      "image/png": "[encoded data removed]",
      "text/plain": [
       "<Figure size 1080x1440 with 20 Axes>"
      ]
     },
     "metadata": {
      "needs_background": "light"
     },
     "output_type": "display_data"
    }
   ],
   "source": [
    "data.hist(figsize=(15, 20));"
   ]
  },
  {
   "cell_type": "markdown",
   "metadata": {},
   "source": [
    "### Предобработка данных"
   ]
  },
  {
   "cell_type": "code",
   "execution_count": 6,
   "metadata": {},
   "outputs": [
    {
     "data": {
      "text/plain": [
       "total_images                0\n",
       "last_price                  0\n",
       "total_area                  0\n",
       "first_day_exposition        0\n",
       "rooms                       0\n",
       "ceiling_height           9195\n",
       "floors_total               86\n",
       "living_area              1903\n",
       "floor                       0\n",
       "is_apartment            20924\n",
       "studio                      0\n",
       "open_plan                   0\n",
       "kitchen_area             2278\n",
       "balcony                 11519\n",
       "locality_name              49\n",
       "airports_nearest         5542\n",
       "cityCenters_nearest      5519\n",
       "parks_around3000         5518\n",
       "parks_nearest           15620\n",
       "ponds_around3000         5518\n",
       "ponds_nearest           14589\n",
       "days_exposition          3181\n",
       "dtype: int64"
      ]
     },
     "execution_count": 6,
     "metadata": {},
     "output_type": "execute_result"
    }
   ],
   "source": [
    "data.isna().sum()"
   ]
  },
  {
   "cell_type": "markdown",
   "metadata": {},
   "source": [
    "ceiling_height - высота потолка чаще всего в домах стандартная +- 20 см, поэтому высоту потолка чаще всего указывают, если она не стандартная\n",
    "floors_total - этих пропусков не так много, скорее всего ошибка при заполнении данных.\n",
    "living_area - пропуски в жилой площади допущены скорее всего в квартирах студиях.\n",
    "is_apartment - пропуски допущены, т.к. указаны данные только в тех случаях если недвижимость является аппартаментами\n",
    "kitchen_area -лощадь кухни может быть не указана в квартирах студиях или в квартирах с объединенным залом и кухней\n",
    "balcony - вместо балкона может быть указана лоджия\n",
    "locality_name - этих пропусков не так много, скорее всего ошибка при заполнении данных.\n",
    "airports_nearest, cityCenters_nearest, parks_around3000,parks_nearest, ponds_around3000, ponds_nearest - данные показатели дополнительные данные, которые показывают преимущество квартиры. Чаще всего заполнены данные, где этот показатель является преимуществом близостью расположения. \n",
    "days_exposition - пропуски в данном столбце могут показывать, что часть объявлений еще активны\n"
   ]
  },
  {
   "cell_type": "code",
   "execution_count": 8,
   "metadata": {},
   "outputs": [
    {
     "data": {
      "image/png": "[encoded data removed]",
      "text/plain": [
       "<Figure size 1368x432 with 1 Axes>"
      ]
     },
     "metadata": {
      "needs_background": "light"
     },
     "output_type": "display_data"
    }
   ],
   "source": [
    "pass_value_barh(data)"
   ]
  },
  {
   "cell_type": "code",
   "execution_count": 9,
   "metadata": {
    "scrolled": true
   },
   "outputs": [
    {
     "name": "stdout",
     "output_type": "stream",
     "text": [
      "<class 'pandas.core.frame.DataFrame'>\n",
      "RangeIndex: 23699 entries, 0 to 23698\n",
      "Data columns (total 22 columns):\n",
      " #   Column                Non-Null Count  Dtype  \n",
      "---  ------                --------------  -----  \n",
      " 0   total_images          23699 non-null  int64  \n",
      " 1   last_price            23699 non-null  float64\n",
      " 2   total_area            23699 non-null  float64\n",
      " 3   first_day_exposition  23699 non-null  object \n",
      " 4   rooms                 23699 non-null  int64  \n",
      " 5   ceiling_height        23699 non-null  float64\n",
      " 6   floors_total          23613 non-null  float64\n",
      " 7   living_area           21796 non-null  float64\n",
      " 8   floor                 23699 non-null  int64  \n",
      " 9   is_apartment          2775 non-null   object \n",
      " 10  studio                23699 non-null  bool   \n",
      " 11  open_plan             23699 non-null  bool   \n",
      " 12  kitchen_area          21421 non-null  float64\n",
      " 13  balcony               12180 non-null  float64\n",
      " 14  locality_name         23650 non-null  object \n",
      " 15  airports_nearest      18157 non-null  float64\n",
      " 16  cityCenters_nearest   18180 non-null  float64\n",
      " 17  parks_around3000      18181 non-null  float64\n",
      " 18  parks_nearest         8079 non-null   float64\n",
      " 19  ponds_around3000      18181 non-null  float64\n",
      " 20  ponds_nearest         9110 non-null   float64\n",
      " 21  days_exposition       20518 non-null  float64\n",
      "dtypes: bool(2), float64(14), int64(3), object(3)\n",
      "memory usage: 3.7+ MB\n"
     ]
    },
    {
     "data": {
      "text/plain": [
       "total_images                0\n",
       "last_price                  0\n",
       "total_area                  0\n",
       "first_day_exposition        0\n",
       "rooms                       0\n",
       "ceiling_height              0\n",
       "floors_total               86\n",
       "living_area              1903\n",
       "floor                       0\n",
       "is_apartment            20924\n",
       "studio                      0\n",
       "open_plan                   0\n",
       "kitchen_area             2278\n",
       "balcony                 11519\n",
       "locality_name              49\n",
       "airports_nearest         5542\n",
       "cityCenters_nearest      5519\n",
       "parks_around3000         5518\n",
       "parks_nearest           15620\n",
       "ponds_around3000         5518\n",
       "ponds_nearest           14589\n",
       "days_exposition          3181\n",
       "dtype: int64"
      ]
     },
     "execution_count": 9,
     "metadata": {},
     "output_type": "execute_result"
    }
   ],
   "source": [
    "data.dropna(subset=['locality_name','floors_total'])\n",
    "data['ceiling_height']=data['ceiling_height'].fillna(data['ceiling_height'].median())\n",
    "data.info()\n",
    "data.isna().sum()\n",
    "       "
   ]
  },
  {
   "cell_type": "code",
   "execution_count": 10,
   "metadata": {},
   "outputs": [
    {
     "data": {
      "text/plain": [
       "total_images                0\n",
       "last_price                  0\n",
       "total_area                  0\n",
       "first_day_exposition        0\n",
       "rooms                       0\n",
       "ceiling_height              0\n",
       "floors_total               86\n",
       "living_area                 0\n",
       "floor                       0\n",
       "is_apartment            20924\n",
       "studio                      0\n",
       "open_plan                   0\n",
       "kitchen_area                0\n",
       "balcony                 11519\n",
       "locality_name              49\n",
       "airports_nearest         5542\n",
       "cityCenters_nearest      5519\n",
       "parks_around3000         5518\n",
       "parks_nearest           15620\n",
       "ponds_around3000         5518\n",
       "ponds_nearest           14589\n",
       "days_exposition          3181\n",
       "dtype: int64"
      ]
     },
     "execution_count": 10,
     "metadata": {},
     "output_type": "execute_result"
    }
   ],
   "source": [
    "liv = data['living_area'].mean() / data['total_area'].mean()\n",
    "kitch = data['kitchen_area'].mean() / data['total_area'].mean()\n",
    "data['living_area'].fillna(liv * data['total_area'], inplace=True)\n",
    "data['kitchen_area'].fillna(kitch * data['total_area'], inplace=True)\n",
    "data.isna().sum()"
   ]
  },
  {
   "cell_type": "code",
   "execution_count": 11,
   "metadata": {},
   "outputs": [
    {
     "data": {
      "text/plain": [
       "0        True\n",
       "1        True\n",
       "2        True\n",
       "3        True\n",
       "4        True\n",
       "         ... \n",
       "23694    True\n",
       "23695    True\n",
       "23696    True\n",
       "23697    True\n",
       "23698    True\n",
       "Length: 23699, dtype: bool"
      ]
     },
     "execution_count": 11,
     "metadata": {},
     "output_type": "execute_result"
    }
   ],
   "source": [
    "data['total_area']*0.9 >= (data['living_area'] + data['kitchen_area'])"
   ]
  },
  {
   "cell_type": "code",
   "execution_count": 14,
   "metadata": {},
   "outputs": [],
   "source": [
    "data['kitchen_area'] = pd.to_numeric(data['kitchen_area'])\n",
    "data['living_area'] = pd.to_numeric(data['living_area'])"
   ]
  },
  {
   "cell_type": "markdown",
   "metadata": {},
   "source": [
    "После заполнения пропусков в столбцах, где производились замены тип данных был изменен на object.\n",
    "Для дальнейшей работы необходимо из верныть в числовые значения."
   ]
  },
  {
   "cell_type": "code",
   "execution_count": 16,
   "metadata": {},
   "outputs": [
    {
     "data": {
      "text/plain": [
       "array(['Санкт-Петербург', 'поселок Шушары',\n",
       "       'поселок городского типа Янино-1', 'поселок Парголово', 'Мурино',\n",
       "       'Ломоносов', 'Сертолово', 'Петергоф', 'Пушкин', 'Кудрово',\n",
       "       'Коммунар', 'Колпино', 'поселок городского типа Красный Бор',\n",
       "       'Гатчина', 'деревня Фёдоровское', 'Выборг', 'Кронштадт', 'Кировск',\n",
       "       'деревня Новое Девяткино', 'поселок Металлострой',\n",
       "       'поселок городского типа Лебяжье',\n",
       "       'поселок городского типа Сиверский', 'поселок Молодцово',\n",
       "       'поселок городского типа Кузьмоловский',\n",
       "       'садовое товарищество Новая Ропша', 'Павловск',\n",
       "       'деревня Пикколово', 'Всеволожск', 'Волхов', 'Кингисепп',\n",
       "       'Приозерск', 'Сестрорецк', 'деревня Куттузи', 'поселок Аннино',\n",
       "       'поселок городского типа Ефимовский', 'поселок Плодовое',\n",
       "       'деревня Заклинье', 'поселок Торковичи', 'поселок Первомайское',\n",
       "       'Красное Село', 'поселок Понтонный', 'Сясьстрой', 'деревня Старая',\n",
       "       'деревня Лесколово', 'поселок Новый Свет', 'Сланцы',\n",
       "       'село Путилово', 'Ивангород', 'Шлиссельбург', 'Никольское',\n",
       "       'Зеленогорск', 'Сосновый Бор', 'деревня Оржицы',\n",
       "       'деревня Кальтино', 'поселок Романовка', 'поселок Бугры',\n",
       "       'поселок городского типа Рощино', 'Кириши', 'Луга', 'Волосово',\n",
       "       'Отрадное', 'село Павлово', 'поселок Оредеж', 'село Копорье',\n",
       "       'поселок Молодёжное', 'Тихвин', 'поселок Победа', 'деревня Нурма',\n",
       "       'поселок городского типа Синявино', 'Тосно', 'поселок Стрельна',\n",
       "       'Бокситогорск', 'поселок Александровская', 'деревня Лопухинка',\n",
       "       'Пикалёво', 'поселок Терволово',\n",
       "       'поселок городского типа Советский', 'Подпорожье',\n",
       "       'поселок Петровское', 'поселок городского типа Токсово',\n",
       "       'поселок Сельцо', 'поселок городского типа Вырица',\n",
       "       'деревня Кипень', 'деревня Келози', 'деревня Вартемяги',\n",
       "       'поселок Тельмана', 'поселок Севастьяново',\n",
       "       'поселок городского типа Большая Ижора', nan,\n",
       "       'поселок городского типа Павлово', 'деревня Агалатово',\n",
       "       'поселок Новогорелово', 'поселок городского типа Лесогорский',\n",
       "       'деревня Лаголово', 'поселок Цвелодубово',\n",
       "       'поселок городского типа Рахья', 'деревня Белогорка',\n",
       "       'поселок Заводской', 'поселок городского типа Новоселье',\n",
       "       'деревня Большие Колпаны', 'деревня Горбунки', 'деревня Батово',\n",
       "       'деревня Заневка', 'деревня Иссад', 'Приморск',\n",
       "       'поселок городского типа Фёдоровское', 'деревня Мистолово',\n",
       "       'Новая Ладога', 'поселок Зимитицы', 'поселок Барышево',\n",
       "       'деревня Разметелево', 'поселок городского типа имени Свердлова',\n",
       "       'деревня Пеники', 'поселок Рябово', 'деревня Пудомяги',\n",
       "       'поселок станции Корнево', 'деревня Низино', 'деревня Бегуницы',\n",
       "       'поселок Поляны', 'поселок городского типа Мга',\n",
       "       'поселок Елизаветино', 'поселок городского типа Кузнечное',\n",
       "       'деревня Колтуши', 'поселок Запорожское', 'деревня Гостилицы',\n",
       "       'деревня Малое Карлино', 'поселок Мичуринское',\n",
       "       'поселок городского типа имени Морозова', 'поселок Песочный',\n",
       "       'поселок Сосново', 'деревня Аро', 'поселок Ильичёво',\n",
       "       'поселок городского типа Тайцы', 'деревня Малое Верево',\n",
       "       'деревня Извара', 'поселок станции Вещево', 'село Паша',\n",
       "       'деревня Калитино', 'поселок городского типа Ульяновка',\n",
       "       'деревня Чудской Бор', 'поселок городского типа Дубровка',\n",
       "       'деревня Мины', 'поселок Войсковицы', 'деревня Коркино',\n",
       "       'поселок Ропша', 'поселок городского типа Приладожский',\n",
       "       'поселок Щеглово', 'поселок Гаврилово', 'Лодейное Поле',\n",
       "       'деревня Рабитицы', 'поселок городского типа Никольский',\n",
       "       'деревня Кузьмолово', 'деревня Малые Колпаны',\n",
       "       'поселок Петро-Славянка', 'поселок городского типа Назия',\n",
       "       'поселок Репино', 'поселок Углово', 'поселок Старая Малукса',\n",
       "       'садовое товарищество Рахья', 'деревня Меньково',\n",
       "       'деревня Старые Бегуницы', 'поселок Сапёрный', 'поселок Семрино',\n",
       "       'поселок Глажево', 'поселок Кобринское', 'деревня Гарболово',\n",
       "       'деревня Юкки', 'поселок станции Приветнинское',\n",
       "       'деревня Мануйлово', 'деревня Пчева', 'поселок Цвылёво',\n",
       "       'поселок Мельниково', 'поселок Пудость', 'поселок Усть-Луга',\n",
       "       'Светогорск', 'Любань', 'поселок Селезнёво',\n",
       "       'поселок городского типа Рябово', 'Каменногорск', 'деревня Кривко',\n",
       "       'поселок Глебычево', 'деревня Парицы', 'поселок Жилпоселок',\n",
       "       'поселок Войскорово', 'село Никольское', 'поселок Стеклянный',\n",
       "       'поселок городского типа Важины', 'поселок Мыза-Ивановка',\n",
       "       'село Русско-Высоцкое', 'поселок городского типа Форносово',\n",
       "       'село Старая Ладога', 'поселок Житково',\n",
       "       'поселок городского типа Виллози', 'деревня Лампово',\n",
       "       'деревня Шпаньково', 'деревня Лаврики', 'поселок Сумино',\n",
       "       'поселок Возрождение', 'деревня Старосиверская',\n",
       "       'поселок Кикерино', 'деревня Старое Хинколово',\n",
       "       'поселок Пригородный', 'поселок Торфяное',\n",
       "       'поселок городского типа Будогощь', 'поселок Суходолье',\n",
       "       'поселок Красная Долина', 'деревня Хапо-Ое',\n",
       "       'поселок городского типа Дружная Горка', 'поселок Лисий Нос',\n",
       "       'деревня Яльгелево', 'село Рождествено', 'деревня Старополье',\n",
       "       'поселок Левашово', 'деревня Сяськелево', 'деревня Камышовка',\n",
       "       'садоводческое некоммерческое товарищество Лесная Поляна',\n",
       "       'деревня Хязельки', 'поселок Жилгородок', 'деревня Ялгино',\n",
       "       'поселок Новый Учхоз', 'поселок Гончарово', 'поселок Почап',\n",
       "       'поселок Сапёрное', 'поселок Платформа 69-й километр',\n",
       "       'поселок Каложицы', 'деревня Фалилеево', 'деревня Пельгора',\n",
       "       'деревня Торошковичи', 'поселок Белоостров', 'поселок Алексеевка',\n",
       "       'поселок Серебрянский', 'поселок Лукаши', 'деревня Щеглово',\n",
       "       'деревня Тарасово', 'поселок Кингисеппский',\n",
       "       'поселок при железнодорожной станции Вещево', 'поселок Ушаки',\n",
       "       'деревня Котлы', 'деревня Сижно', 'деревня Торосово',\n",
       "       'поселок Форт Красная Горка', 'деревня Новолисино',\n",
       "       'поселок станции Громово', 'деревня Глинка',\n",
       "       'деревня Старая Пустошь', 'поселок Коммунары', 'поселок Починок',\n",
       "       'поселок городского типа Вознесенье', 'деревня Разбегаево',\n",
       "       'поселок Гладкое',\n",
       "       'поселок при железнодорожной станции Приветнинское',\n",
       "       'поселок Тёсово-4', 'деревня Бор', 'поселок Коробицыно',\n",
       "       'деревня Большая Вруда', 'деревня Курковицы', 'поселок Кобралово',\n",
       "       'деревня Суоранда', 'поселок городского типа Кондратьево',\n",
       "       'коттеджный поселок Счастье', 'поселок Любань', 'деревня Реброво',\n",
       "       'деревня Зимитицы', 'деревня Тойворово', 'поселок Семиозерье',\n",
       "       'поселок Лесное', 'поселок Совхозный', 'поселок Ленинское',\n",
       "       'поселок Суйда', 'деревня Нижние Осельки', 'поселок станции Свирь',\n",
       "       'поселок Перово', 'Высоцк', 'поселок Гарболово', 'село Шум',\n",
       "       'поселок Котельский', 'поселок станции Лужайка',\n",
       "       'деревня Большая Пустомержа', 'поселок Красносельское',\n",
       "       'деревня Вахнова Кара', 'деревня Пижма',\n",
       "       'коттеджный поселок Кивеннапа Север', 'поселок Ромашки',\n",
       "       'деревня Каськово', 'деревня Куровицы', 'поселок Плоское',\n",
       "       'поселок Кирпичное', 'деревня Ям-Тесово', 'деревня Раздолье',\n",
       "       'деревня Терпилицы', 'поселок Шугозеро', 'деревня Ваганово',\n",
       "       'поселок Пушное', 'садовое товарищество Садко',\n",
       "       'поселок Усть-Ижора', 'деревня Выскатка',\n",
       "       'поселок городского типа Свирьстрой', 'поселок Громово',\n",
       "       'деревня Кисельня', 'деревня Трубников Бор', 'поселок Калитино',\n",
       "       'поселок Высокоключевой', 'садовое товарищество Приладожский',\n",
       "       'поселок Пансионат Зелёный Бор', 'деревня Ненимяки',\n",
       "       'деревня Снегирёвка', 'деревня Рапполово', 'деревня Пустынка',\n",
       "       'поселок Рабитицы', 'деревня Большой Сабск', 'деревня Русско',\n",
       "       'деревня Лупполово', 'деревня Большое Рейзино',\n",
       "       'деревня Малая Романовка', 'поселок Дружноселье', 'поселок Пчевжа',\n",
       "       'поселок Володарское', 'деревня Нижняя',\n",
       "       'коттеджный поселок Лесное', 'деревня Тихковицы',\n",
       "       'деревня Борисова Грива', 'поселок Дзержинского'], dtype=object)"
      ]
     },
     "execution_count": 16,
     "metadata": {},
     "output_type": "execute_result"
    }
   ],
   "source": [
    "data['locality_name']=data['locality_name'].str.replace(\"посёлок\", \"поселок\") \n",
    "data['locality_name']=data['locality_name'].str.replace(\"городской поселок\", \"поселок городского типа\")\n",
    "data['locality_name'].unique()\n",
    "duplicate=['поселок Мурино', 'деревня Кудрово']\n",
    "name=['Мурино', 'Кудрово']\n",
    "data['locality_name']=data['locality_name'].replace(duplicate, name)\n",
    "data['locality_name'].unique()\n",
    "\n"
   ]
  },
  {
   "cell_type": "code",
   "execution_count": 18,
   "metadata": {},
   "outputs": [
    {
     "data": {
      "text/plain": [
       "array([2.7 , 2.65, 3.03, 2.5 , 2.67, 2.56, 3.05, 2.75, 2.6 , 2.9 , 2.8 ,\n",
       "       2.55, 3.  , 3.2 , 2.61, 2.77, 2.85, 2.64, 2.57, 2.71, 2.47, 2.73,\n",
       "       2.84, 3.1 , 2.34, 3.06, 2.72, 2.54, 2.51, 2.78, 2.76, 2.58, 2.52,\n",
       "       2.87, 2.66, 2.59, 2.45, 2.92, 3.11, 3.13, 3.15, 3.16, 3.12, 2.53,\n",
       "       2.74, 2.96, 2.46, 2.79, 2.95, 2.94, 2.83, 2.4 , 3.01, 3.18, 2.3 ,\n",
       "       2.48, 2.62, 2.82, 2.63, 2.88, 3.08, 3.07, 3.09, 2.81, 2.97, 3.14,\n",
       "       2.68, 2.93, 2.98, 2.86, 3.17, 3.04, 3.02, 2.69, 2.99, 2.91, 2.89,\n",
       "       2.49])"
      ]
     },
     "execution_count": 18,
     "metadata": {},
     "output_type": "execute_result"
    }
   ],
   "source": [
    "data['ceiling_height'].unique()\n",
    "data.drop(index=data.query('ceiling_height > 3.2 and ceiling_height < 25').index,inplace=True)\n",
    "data.drop(index=data.query('ceiling_height < 2.3').index,inplace=True)\n",
    "data.update(data[(data['ceiling_height'] >= 25) & (data['ceiling_height'] <= 36)]['ceiling_height']/10)\n",
    "data.drop(index=data.query('ceiling_height > 36').index,inplace=True)\n",
    "data['ceiling_height'].unique()"
   ]
  },
  {
   "cell_type": "code",
   "execution_count": 19,
   "metadata": {},
   "outputs": [
    {
     "data": {
      "text/plain": [
       "25"
      ]
     },
     "execution_count": 19,
     "metadata": {},
     "output_type": "execute_result"
    }
   ],
   "source": [
    "data.query('floors_total == 1')['floors_total'].count()"
   ]
  },
  {
   "cell_type": "code",
   "execution_count": 20,
   "metadata": {},
   "outputs": [
    {
     "data": {
      "text/plain": [
       "31"
      ]
     },
     "execution_count": 20,
     "metadata": {},
     "output_type": "execute_result"
    }
   ],
   "source": [
    "data.query('floors_total >30')['floors_total'].count()"
   ]
  },
  {
   "cell_type": "code",
   "execution_count": 21,
   "metadata": {},
   "outputs": [],
   "source": [
    "data.drop(index=data.query('floors_total >30').index,inplace=True)"
   ]
  },
  {
   "cell_type": "markdown",
   "metadata": {},
   "source": [
    "#### check area"
   ]
  },
  {
   "cell_type": "code",
   "execution_count": 22,
   "metadata": {},
   "outputs": [
    {
     "data": {
      "image/png": "[encoded data removed]",
      "text/plain": [
       "<Figure size 1080x216 with 1 Axes>"
      ]
     },
     "metadata": {
      "needs_background": "light"
     },
     "output_type": "display_data"
    }
   ],
   "source": [
    "# check\n",
    "data.hist(column = 'kitchen_area', bins = 100, figsize = (15,3), range = (0,5));"
   ]
  },
  {
   "cell_type": "code",
   "execution_count": 24,
   "metadata": {},
   "outputs": [
    {
     "data": {
      "text/plain": [
       "29"
      ]
     },
     "execution_count": 24,
     "metadata": {},
     "output_type": "execute_result"
    }
   ],
   "source": [
    "data.query('living_area < 10')['living_area'].count()"
   ]
  },
  {
   "cell_type": "code",
   "execution_count": 25,
   "metadata": {},
   "outputs": [
    {
     "data": {
      "text/plain": [
       "23"
      ]
     },
     "execution_count": 25,
     "metadata": {},
     "output_type": "execute_result"
    }
   ],
   "source": [
    "data.query('living_area > 200')['living_area'].count()"
   ]
  },
  {
   "cell_type": "code",
   "execution_count": 26,
   "metadata": {},
   "outputs": [],
   "source": [
    "data.drop(index=data.query('living_area < 10').index,inplace=True)\n",
    "data.drop(index=data.query('living_area >200').index,inplace=True)"
   ]
  },
  {
   "cell_type": "code",
   "execution_count": 27,
   "metadata": {},
   "outputs": [
    {
     "data": {
      "text/plain": [
       "422"
      ]
     },
     "execution_count": 27,
     "metadata": {},
     "output_type": "execute_result"
    }
   ],
   "source": [
    "data.query('kitchen_area < 5')['kitchen_area'].count()"
   ]
  },
  {
   "cell_type": "code",
   "execution_count": 28,
   "metadata": {},
   "outputs": [
    {
     "data": {
      "text/plain": [
       "28"
      ]
     },
     "execution_count": 28,
     "metadata": {},
     "output_type": "execute_result"
    }
   ],
   "source": [
    "data.query('kitchen_area > 50')['kitchen_area'].count()"
   ]
  },
  {
   "cell_type": "code",
   "execution_count": 29,
   "metadata": {},
   "outputs": [],
   "source": [
    "data.drop(index=data.query('kitchen_area < 5').index,inplace=True)\n",
    "data.drop(index=data.query('kitchen_area >50').index,inplace=True)"
   ]
  },
  {
   "cell_type": "code",
   "execution_count": 30,
   "metadata": {},
   "outputs": [
    {
     "data": {
      "text/plain": [
       "150"
      ]
     },
     "execution_count": 30,
     "metadata": {},
     "output_type": "execute_result"
    }
   ],
   "source": [
    "data.query('days_exposition>365*3')['days_exposition'].count()"
   ]
  },
  {
   "cell_type": "code",
   "execution_count": 31,
   "metadata": {},
   "outputs": [],
   "source": [
    "data.drop(index=data.query('days_exposition>365*3').index,inplace=True)\n",
    "data.drop(index=data.query('days_exposition<3').index,inplace=True)"
   ]
  },
  {
   "cell_type": "code",
   "execution_count": 32,
   "metadata": {},
   "outputs": [],
   "source": [
    "data.drop(index=data.query('rooms >7').index,inplace=True)"
   ]
  },
  {
   "cell_type": "code",
   "execution_count": 33,
   "metadata": {},
   "outputs": [],
   "source": [
    "data.drop(index=data.query('last_price < 1000000').index,inplace=True)\n",
    "data.drop(index=data.query('total_area >550000000').index,inplace=True)"
   ]
  },
  {
   "cell_type": "code",
   "execution_count": 35,
   "metadata": {},
   "outputs": [
    {
     "name": "stdout",
     "output_type": "stream",
     "text": [
      "<class 'pandas.core.frame.DataFrame'>\n",
      "Int64Index: 21969 entries, 0 to 23698\n",
      "Data columns (total 22 columns):\n",
      " #   Column                Non-Null Count  Dtype  \n",
      "---  ------                --------------  -----  \n",
      " 0   total_images          21969 non-null  int64  \n",
      " 1   last_price            21969 non-null  float64\n",
      " 2   total_area            21969 non-null  float64\n",
      " 3   first_day_exposition  21969 non-null  object \n",
      " 4   rooms                 21969 non-null  int64  \n",
      " 5   ceiling_height        21969 non-null  float64\n",
      " 6   floors_total          21895 non-null  float64\n",
      " 7   living_area           21969 non-null  float64\n",
      " 8   floor                 21969 non-null  int64  \n",
      " 9   is_apartment          2571 non-null   object \n",
      " 10  studio                21969 non-null  bool   \n",
      " 11  open_plan             21969 non-null  bool   \n",
      " 12  kitchen_area          21969 non-null  float64\n",
      " 13  balcony               11494 non-null  float64\n",
      " 14  locality_name         21922 non-null  object \n",
      " 15  airports_nearest      16900 non-null  float64\n",
      " 16  cityCenters_nearest   16919 non-null  float64\n",
      " 17  parks_around3000      16920 non-null  float64\n",
      " 18  parks_nearest         7330 non-null   float64\n",
      " 19  ponds_around3000      16920 non-null  float64\n",
      " 20  ponds_nearest         8272 non-null   float64\n",
      " 21  days_exposition       19092 non-null  float64\n",
      "dtypes: bool(2), float64(14), int64(3), object(3)\n",
      "memory usage: 4.1+ MB\n"
     ]
    },
    {
     "data": {
      "text/plain": [
       "total_images                0\n",
       "last_price                  0\n",
       "total_area                  0\n",
       "first_day_exposition        0\n",
       "rooms                       0\n",
       "ceiling_height              0\n",
       "floors_total               74\n",
       "living_area                 0\n",
       "floor                       0\n",
       "is_apartment            19398\n",
       "studio                      0\n",
       "open_plan                   0\n",
       "kitchen_area                0\n",
       "balcony                 10475\n",
       "locality_name              47\n",
       "airports_nearest         5069\n",
       "cityCenters_nearest      5050\n",
       "parks_around3000         5049\n",
       "parks_nearest           14639\n",
       "ponds_around3000         5049\n",
       "ponds_nearest           13697\n",
       "days_exposition          2877\n",
       "dtype: int64"
      ]
     },
     "execution_count": 35,
     "metadata": {},
     "output_type": "execute_result"
    }
   ],
   "source": [
    "data['floors_total'].dropna(inplace= True)\n",
    "data['is_apartment'].dropna(inplace=True)\n",
    "data.info()\n",
    "data.isna().sum()"
   ]
  },
  {
   "cell_type": "code",
   "execution_count": 36,
   "metadata": {},
   "outputs": [
    {
     "name": "stdout",
     "output_type": "stream",
     "text": [
      "1ok\n",
      "3ok\n",
      "4ok\n",
      "<class 'pandas.core.frame.DataFrame'>\n",
      "Int64Index: 21969 entries, 0 to 23698\n",
      "Data columns (total 22 columns):\n",
      " #   Column                Non-Null Count  Dtype  \n",
      "---  ------                --------------  -----  \n",
      " 0   total_images          21969 non-null  int64  \n",
      " 1   last_price            21969 non-null  int64  \n",
      " 2   total_area            21969 non-null  float64\n",
      " 3   first_day_exposition  21969 non-null  object \n",
      " 4   rooms                 21969 non-null  int64  \n",
      " 5   ceiling_height        21969 non-null  float64\n",
      " 6   floors_total          21895 non-null  Int64  \n",
      " 7   living_area           21969 non-null  float64\n",
      " 8   floor                 21969 non-null  int64  \n",
      " 9   is_apartment          0 non-null      object \n",
      " 10  studio                21969 non-null  bool   \n",
      " 11  open_plan             21969 non-null  bool   \n",
      " 12  kitchen_area          21969 non-null  float64\n",
      " 13  balcony               11494 non-null  float64\n",
      " 14  locality_name         21922 non-null  object \n",
      " 15  airports_nearest      16900 non-null  float64\n",
      " 16  cityCenters_nearest   16919 non-null  float64\n",
      " 17  parks_around3000      16920 non-null  float64\n",
      " 18  parks_nearest         7330 non-null   float64\n",
      " 19  ponds_around3000      16920 non-null  float64\n",
      " 20  ponds_nearest         8272 non-null   float64\n",
      " 21  days_exposition       19092 non-null  float64\n",
      "dtypes: Int64(1), bool(2), float64(12), int64(4), object(3)\n",
      "memory usage: 4.1+ MB\n"
     ]
    }
   ],
   "source": [
    "try:\n",
    "    data['last_price'] = data['last_price'].astype('int64')\n",
    "    print('1ok')\n",
    "except:\n",
    "    print('last_price int type conversion fail')\n",
    "    \n",
    "try:\n",
    "    data['floors_total'] =  data['floors_total'].astype('Int64')\n",
    "    print('3ok')\n",
    "except:\n",
    "    print('floors_total int8 type conversion fail')\n",
    "      \n",
    "try:\n",
    "    data['is_apartment'] = data['is_apartment'].map({'False':False, 'True':True})\n",
    "    print('4ok')\n",
    "except:\n",
    "    print('is_apartment bool type conversion fail')\n",
    "data.info()\n",
    "        "
   ]
  },
  {
   "cell_type": "code",
   "execution_count": 44,
   "metadata": {},
   "outputs": [],
   "source": [
    "data.drop(index=data.query('total_area < 20').index,inplace=True)\n",
    "data.drop(index=data.query('total_area >250').index,inplace=True)"
   ]
  },
  {
   "cell_type": "code",
   "execution_count": 45,
   "metadata": {},
   "outputs": [
    {
     "data": {
      "image/png": "[encoded data removed]",
      "text/plain": [
       "<Figure size 1080x216 with 1 Axes>"
      ]
     },
     "metadata": {
      "needs_background": "light"
     },
     "output_type": "display_data"
    }
   ],
   "source": [
    "data['rooms'].sort_values(ascending=False).head(10)\n",
    "data['rooms'].hist(bins = 150, figsize = (15,3), range = (0,25));"
   ]
  },
  {
   "cell_type": "code",
   "execution_count": 46,
   "metadata": {},
   "outputs": [
    {
     "data": {
      "image/png": "[encoded data removed]",
      "text/plain": [
       "<Figure size 1080x216 with 1 Axes>"
      ]
     },
     "metadata": {
      "needs_background": "light"
     },
     "output_type": "display_data"
    }
   ],
   "source": [
    "data['floor'].sort_values(ascending=False).head(10)\n",
    "data['floor'].hist(bins = 150, figsize = (15,3), range = (0,35));"
   ]
  },
  {
   "cell_type": "markdown",
   "metadata": {},
   "source": []
  },
  {
   "cell_type": "markdown",
   "metadata": {},
   "source": [
    "### Посчитайте и добавьте в таблицу новые столбцы"
   ]
  },
  {
   "cell_type": "code",
   "execution_count": null,
   "metadata": {},
   "outputs": [],
   "source": [
    "data['price_sqr_m']=data['last_price']/data['total_area']"
   ]
  },
  {
   "cell_type": "code",
   "execution_count": 51,
   "metadata": {
    "scrolled": true
   },
   "outputs": [],
   "source": [
    "data['first_day_exposition'] = pd.to_datetime(data['first_day_exposition'],format='%Y-%m-%dT%H:%M:%S')\n",
    "data['dayofweek']=data['first_day_exposition'].dt.dayofweek"
   ]
  },
  {
   "cell_type": "code",
   "execution_count": 52,
   "metadata": {},
   "outputs": [],
   "source": [
    "data['month']=data['first_day_exposition'].dt.month"
   ]
  },
  {
   "cell_type": "code",
   "execution_count": 53,
   "metadata": {},
   "outputs": [],
   "source": [
    "data['year']=data['first_day_exposition'].dt.year"
   ]
  },
  {
   "cell_type": "code",
   "execution_count": 54,
   "metadata": {},
   "outputs": [],
   "source": [
    "data['floor_category'] = data.apply(\n",
    "    lambda x: 'первый' if (x.floor == 1) \n",
    "    else ('последний' if (x.floor == x.floors_total) & isinstance(x.floors_total,int) \n",
    "    else 'другой'), axis=1\n",
    ")"
   ]
  },
  {
   "cell_type": "code",
   "execution_count": 55,
   "metadata": {},
   "outputs": [
    {
     "data": {
      "text/plain": [
       "другой       16274\n",
       "последний     2991\n",
       "первый        2669\n",
       "Name: floor_category, dtype: int64"
      ]
     },
     "execution_count": 55,
     "metadata": {},
     "output_type": "execute_result"
    }
   ],
   "source": [
    "# check\n",
    "data['floor_category'].value_counts()"
   ]
  },
  {
   "cell_type": "code",
   "execution_count": 56,
   "metadata": {},
   "outputs": [
    {
     "name": "stdout",
     "output_type": "stream",
     "text": [
      "cityCenters_nearest_km ok\n"
     ]
    }
   ],
   "source": [
    "data['cityCenters_nearest_km'] = round(data['cityCenters_nearest'] / 1000)\n",
    "try:\n",
    "    data['cityCenters_nearest_km'] =  data['cityCenters_nearest_km'].astype('Int32')\n",
    "    print('cityCenters_nearest_km ok')\n",
    "except:\n",
    "    print('cityCenters_nearest_km')"
   ]
  },
  {
   "cell_type": "code",
   "execution_count": 57,
   "metadata": {},
   "outputs": [
    {
     "data": {
      "text/plain": [
       "0          16\n",
       "1          19\n",
       "2          14\n",
       "3           7\n",
       "4           8\n",
       "         ... \n",
       "23693      34\n",
       "23695    <NA>\n",
       "23696    <NA>\n",
       "23697      10\n",
       "23698    <NA>\n",
       "Name: cityCenters_nearest_km, Length: 21934, dtype: Int32"
      ]
     },
     "execution_count": 57,
     "metadata": {},
     "output_type": "execute_result"
    }
   ],
   "source": [
    "data['cityCenters_nearest_km']"
   ]
  },
  {
   "cell_type": "code",
   "execution_count": 58,
   "metadata": {},
   "outputs": [
    {
     "data": {
      "text/html": [
       "<div>\n",
       "<style scoped>\n",
       "    .dataframe tbody tr th:only-of-type {\n",
       "        vertical-align: middle;\n",
       "    }\n",
       "\n",
       "    .dataframe tbody tr th {\n",
       "        vertical-align: top;\n",
       "    }\n",
       "\n",
       "    .dataframe thead th {\n",
       "        text-align: right;\n",
       "    }\n",
       "</style>\n",
       "<table border=\"1\" class=\"dataframe\">\n",
       "  <thead>\n",
       "    <tr style=\"text-align: right;\">\n",
       "      <th></th>\n",
       "      <th>total_images</th>\n",
       "      <th>last_price</th>\n",
       "      <th>total_area</th>\n",
       "      <th>first_day_exposition</th>\n",
       "      <th>rooms</th>\n",
       "      <th>ceiling_height</th>\n",
       "      <th>floors_total</th>\n",
       "      <th>living_area</th>\n",
       "      <th>floor</th>\n",
       "      <th>is_apartment</th>\n",
       "      <th>...</th>\n",
       "      <th>parks_nearest</th>\n",
       "      <th>ponds_around3000</th>\n",
       "      <th>ponds_nearest</th>\n",
       "      <th>days_exposition</th>\n",
       "      <th>price_sqr_m</th>\n",
       "      <th>dayofweek</th>\n",
       "      <th>month</th>\n",
       "      <th>year</th>\n",
       "      <th>floor_category</th>\n",
       "      <th>cityCenters_nearest_km</th>\n",
       "    </tr>\n",
       "  </thead>\n",
       "  <tbody>\n",
       "    <tr>\n",
       "      <th>0</th>\n",
       "      <td>20</td>\n",
       "      <td>13000000</td>\n",
       "      <td>108.0</td>\n",
       "      <td>2019-03-07</td>\n",
       "      <td>3</td>\n",
       "      <td>2.70</td>\n",
       "      <td>16</td>\n",
       "      <td>51.000000</td>\n",
       "      <td>8</td>\n",
       "      <td>NaN</td>\n",
       "      <td>...</td>\n",
       "      <td>482.0</td>\n",
       "      <td>2.0</td>\n",
       "      <td>755.0</td>\n",
       "      <td>NaN</td>\n",
       "      <td>120370.370370</td>\n",
       "      <td>3</td>\n",
       "      <td>3</td>\n",
       "      <td>2019</td>\n",
       "      <td>другой</td>\n",
       "      <td>16</td>\n",
       "    </tr>\n",
       "    <tr>\n",
       "      <th>1</th>\n",
       "      <td>7</td>\n",
       "      <td>3350000</td>\n",
       "      <td>40.4</td>\n",
       "      <td>2018-12-04</td>\n",
       "      <td>1</td>\n",
       "      <td>2.65</td>\n",
       "      <td>11</td>\n",
       "      <td>18.600000</td>\n",
       "      <td>1</td>\n",
       "      <td>NaN</td>\n",
       "      <td>...</td>\n",
       "      <td>NaN</td>\n",
       "      <td>0.0</td>\n",
       "      <td>NaN</td>\n",
       "      <td>81.0</td>\n",
       "      <td>82920.792079</td>\n",
       "      <td>1</td>\n",
       "      <td>12</td>\n",
       "      <td>2018</td>\n",
       "      <td>первый</td>\n",
       "      <td>19</td>\n",
       "    </tr>\n",
       "    <tr>\n",
       "      <th>2</th>\n",
       "      <td>10</td>\n",
       "      <td>5196000</td>\n",
       "      <td>56.0</td>\n",
       "      <td>2015-08-20</td>\n",
       "      <td>2</td>\n",
       "      <td>2.65</td>\n",
       "      <td>5</td>\n",
       "      <td>34.300000</td>\n",
       "      <td>4</td>\n",
       "      <td>NaN</td>\n",
       "      <td>...</td>\n",
       "      <td>90.0</td>\n",
       "      <td>2.0</td>\n",
       "      <td>574.0</td>\n",
       "      <td>558.0</td>\n",
       "      <td>92785.714286</td>\n",
       "      <td>3</td>\n",
       "      <td>8</td>\n",
       "      <td>2015</td>\n",
       "      <td>другой</td>\n",
       "      <td>14</td>\n",
       "    </tr>\n",
       "    <tr>\n",
       "      <th>3</th>\n",
       "      <td>0</td>\n",
       "      <td>64900000</td>\n",
       "      <td>159.0</td>\n",
       "      <td>2015-07-24</td>\n",
       "      <td>3</td>\n",
       "      <td>2.65</td>\n",
       "      <td>14</td>\n",
       "      <td>90.785766</td>\n",
       "      <td>9</td>\n",
       "      <td>NaN</td>\n",
       "      <td>...</td>\n",
       "      <td>84.0</td>\n",
       "      <td>3.0</td>\n",
       "      <td>234.0</td>\n",
       "      <td>424.0</td>\n",
       "      <td>408176.100629</td>\n",
       "      <td>4</td>\n",
       "      <td>7</td>\n",
       "      <td>2015</td>\n",
       "      <td>другой</td>\n",
       "      <td>7</td>\n",
       "    </tr>\n",
       "    <tr>\n",
       "      <th>4</th>\n",
       "      <td>2</td>\n",
       "      <td>10000000</td>\n",
       "      <td>100.0</td>\n",
       "      <td>2018-06-19</td>\n",
       "      <td>2</td>\n",
       "      <td>3.03</td>\n",
       "      <td>14</td>\n",
       "      <td>32.000000</td>\n",
       "      <td>13</td>\n",
       "      <td>NaN</td>\n",
       "      <td>...</td>\n",
       "      <td>112.0</td>\n",
       "      <td>1.0</td>\n",
       "      <td>48.0</td>\n",
       "      <td>121.0</td>\n",
       "      <td>100000.000000</td>\n",
       "      <td>1</td>\n",
       "      <td>6</td>\n",
       "      <td>2018</td>\n",
       "      <td>другой</td>\n",
       "      <td>8</td>\n",
       "    </tr>\n",
       "  </tbody>\n",
       "</table>\n",
       "<p>5 rows × 28 columns</p>\n",
       "</div>"
      ],
      "text/plain": [
       "   total_images  last_price  total_area first_day_exposition  rooms  \\\n",
       "0            20    13000000       108.0           2019-03-07      3   \n",
       "1             7     3350000        40.4           2018-12-04      1   \n",
       "2            10     5196000        56.0           2015-08-20      2   \n",
       "3             0    64900000       159.0           2015-07-24      3   \n",
       "4             2    10000000       100.0           2018-06-19      2   \n",
       "\n",
       "   ceiling_height  floors_total  living_area  floor is_apartment  ...  \\\n",
       "0            2.70            16    51.000000      8          NaN  ...   \n",
       "1            2.65            11    18.600000      1          NaN  ...   \n",
       "2            2.65             5    34.300000      4          NaN  ...   \n",
       "3            2.65            14    90.785766      9          NaN  ...   \n",
       "4            3.03            14    32.000000     13          NaN  ...   \n",
       "\n",
       "   parks_nearest  ponds_around3000  ponds_nearest  days_exposition  \\\n",
       "0          482.0               2.0          755.0              NaN   \n",
       "1            NaN               0.0            NaN             81.0   \n",
       "2           90.0               2.0          574.0            558.0   \n",
       "3           84.0               3.0          234.0            424.0   \n",
       "4          112.0               1.0           48.0            121.0   \n",
       "\n",
       "     price_sqr_m  dayofweek  month  year  floor_category  \\\n",
       "0  120370.370370          3      3  2019          другой   \n",
       "1   82920.792079          1     12  2018          первый   \n",
       "2   92785.714286          3      8  2015          другой   \n",
       "3  408176.100629          4      7  2015          другой   \n",
       "4  100000.000000          1      6  2018          другой   \n",
       "\n",
       "   cityCenters_nearest_km  \n",
       "0                      16  \n",
       "1                      19  \n",
       "2                      14  \n",
       "3                       7  \n",
       "4                       8  \n",
       "\n",
       "[5 rows x 28 columns]"
      ]
     },
     "execution_count": 58,
     "metadata": {},
     "output_type": "execute_result"
    }
   ],
   "source": [
    "data.head()"
   ]
  },
  {
   "cell_type": "markdown",
   "metadata": {},
   "source": [
    "### Проведите исследовательский анализ данных"
   ]
  },
  {
   "cell_type": "code",
   "execution_count": 59,
   "metadata": {},
   "outputs": [
    {
     "data": {
      "image/png": "[encoded data removed]",
      "text/plain": [
       "<Figure size 432x288 with 1 Axes>"
      ]
     },
     "metadata": {
      "needs_background": "light"
     },
     "output_type": "display_data"
    }
   ],
   "source": [
    "data['total_area'].hist(bins=100);"
   ]
  },
  {
   "cell_type": "markdown",
   "metadata": {},
   "source": [
    "Максимальное количество квартир представлены в стандартной массовой застройке площадью от 30 до 100 кв.м."
   ]
  },
  {
   "cell_type": "code",
   "execution_count": 60,
   "metadata": {},
   "outputs": [
    {
     "data": {
      "text/plain": [
       "<AxesSubplot:>"
      ]
     },
     "execution_count": 60,
     "metadata": {},
     "output_type": "execute_result"
    },
    {
     "data": {
      "image/png": "[encoded data removed]",
      "text/plain": [
       "<Figure size 432x288 with 1 Axes>"
      ]
     },
     "metadata": {
      "needs_background": "light"
     },
     "output_type": "display_data"
    }
   ],
   "source": [
    "data['living_area'].hist(bins=100)"
   ]
  },
  {
   "cell_type": "markdown",
   "metadata": {},
   "source": [
    "Большая часть квартир имеет стандартные жилые площди от 12 кв.м (скорее всего студии) до 50 кв.м. (стандартные 3х комнатные)"
   ]
  },
  {
   "cell_type": "code",
   "execution_count": 61,
   "metadata": {},
   "outputs": [
    {
     "data": {
      "text/plain": [
       "<AxesSubplot:>"
      ]
     },
     "execution_count": 61,
     "metadata": {},
     "output_type": "execute_result"
    },
    {
     "data": {
      "image/png": "[encoded data removed]",
      "text/plain": [
       "<Figure size 432x288 with 1 Axes>"
      ]
     },
     "metadata": {
      "needs_background": "light"
     },
     "output_type": "display_data"
    }
   ],
   "source": [
    "data['kitchen_area'].hist(bins=100)"
   ]
  },
  {
   "cell_type": "markdown",
   "metadata": {},
   "source": [
    "Большая часть квартир имеет стандартные  площди кухни от 5 кв.м  до 15 кв.м. "
   ]
  },
  {
   "cell_type": "code",
   "execution_count": 62,
   "metadata": {},
   "outputs": [
    {
     "data": {
      "image/png": "[encoded data removed]",
      "text/plain": [
       "<Figure size 432x288 with 1 Axes>"
      ]
     },
     "metadata": {
      "needs_background": "light"
     },
     "output_type": "display_data"
    },
    {
     "data": {
      "image/png": "[encoded data removed]",
      "text/plain": [
       "<Figure size 432x288 with 1 Axes>"
      ]
     },
     "metadata": {
      "needs_background": "light"
     },
     "output_type": "display_data"
    }
   ],
   "source": [
    "data.hist('last_price', bins=100);\n",
    "data.hist('last_price', bins=100, range=(0,2e+07));"
   ]
  },
  {
   "cell_type": "markdown",
   "metadata": {},
   "source": [
    "Максимльное количество квартир продано за 3 млн."
   ]
  },
  {
   "cell_type": "code",
   "execution_count": 63,
   "metadata": {},
   "outputs": [
    {
     "data": {
      "image/png": "[encoded data removed]",
      "text/plain": [
       "<Figure size 432x288 with 1 Axes>"
      ]
     },
     "metadata": {
      "needs_background": "light"
     },
     "output_type": "display_data"
    }
   ],
   "source": [
    "data.hist('rooms', bins=data['rooms'].max());"
   ]
  },
  {
   "cell_type": "markdown",
   "metadata": {},
   "source": [
    "Большинство квартир имеет стандартные планировки 1,2,3 комнаты. Максимальное количество комнат 7"
   ]
  },
  {
   "cell_type": "code",
   "execution_count": 64,
   "metadata": {},
   "outputs": [
    {
     "data": {
      "image/png": "[encoded data removed]",
      "text/plain": [
       "<Figure size 432x288 with 1 Axes>"
      ]
     },
     "metadata": {
      "needs_background": "light"
     },
     "output_type": "display_data"
    }
   ],
   "source": [
    "data.hist('ceiling_height', bins=10);"
   ]
  },
  {
   "cell_type": "markdown",
   "metadata": {},
   "source": [
    "Большинство квартир имеет стандартные высоты потолков - 2,5 - 2,7 м. Встречаются небольшие исключения."
   ]
  },
  {
   "cell_type": "code",
   "execution_count": 65,
   "metadata": {},
   "outputs": [
    {
     "data": {
      "image/png": "[encoded data removed]",
      "text/plain": [
       "<Figure size 432x288 with 1 Axes>"
      ]
     },
     "metadata": {
      "needs_background": "light"
     },
     "output_type": "display_data"
    }
   ],
   "source": [
    "data.hist('floor', bins=100);"
   ]
  },
  {
   "cell_type": "markdown",
   "metadata": {},
   "source": [
    "Максимальное количество продаж квартир на этажах до 5. Что может объясняться старым массовым жилым фондом высотой до 5 этажей."
   ]
  },
  {
   "cell_type": "code",
   "execution_count": 66,
   "metadata": {},
   "outputs": [
    {
     "data": {
      "image/png": "[encoded data removed]",
      "text/plain": [
       "<Figure size 432x288 with 1 Axes>"
      ]
     },
     "metadata": {
      "needs_background": "light"
     },
     "output_type": "display_data"
    }
   ],
   "source": [
    "data.groupby(by='floor_category')['floor_category'].count().plot(kind='bar', ylabel = 'count');"
   ]
  },
  {
   "cell_type": "markdown",
   "metadata": {},
   "source": [
    "Минимальное количество квартир на первом этаже. "
   ]
  },
  {
   "cell_type": "code",
   "execution_count": 67,
   "metadata": {
    "scrolled": true
   },
   "outputs": [
    {
     "data": {
      "image/png": "[encoded data removed]",
      "text/plain": [
       "<Figure size 432x288 with 1 Axes>"
      ]
     },
     "metadata": {
      "needs_background": "light"
     },
     "output_type": "display_data"
    }
   ],
   "source": [
    "data.hist('floors_total', bins=100);"
   ]
  },
  {
   "cell_type": "markdown",
   "metadata": {},
   "source": [
    "Максимальное количество домов в 5 и 9 этажей. Что может объясняться старым массовым жилым фондом высотой до 5 и 9 этажей."
   ]
  },
  {
   "cell_type": "code",
   "execution_count": 68,
   "metadata": {},
   "outputs": [
    {
     "data": {
      "image/png": "[encoded data removed]",
      "text/plain": [
       "<Figure size 432x288 with 1 Axes>"
      ]
     },
     "metadata": {
      "needs_background": "light"
     },
     "output_type": "display_data"
    }
   ],
   "source": [
    "data.hist('cityCenters_nearest', bins=100);"
   ]
  },
  {
   "cell_type": "markdown",
   "metadata": {},
   "source": [
    "Максимальное количество продаж фиксируется в спальных районах."
   ]
  },
  {
   "cell_type": "code",
   "execution_count": 69,
   "metadata": {},
   "outputs": [
    {
     "data": {
      "image/png": "[encoded data removed]",
      "text/plain": [
       "<Figure size 432x288 with 1 Axes>"
      ]
     },
     "metadata": {
      "needs_background": "light"
     },
     "output_type": "display_data"
    }
   ],
   "source": [
    "data.hist('airports_nearest', bins=30);"
   ]
  },
  {
   "cell_type": "markdown",
   "metadata": {},
   "source": [
    "В среднем расстояние до аэропорта составляет 20 км до 40 км. "
   ]
  },
  {
   "cell_type": "code",
   "execution_count": 70,
   "metadata": {},
   "outputs": [
    {
     "data": {
      "image/png": "[encoded data removed]",
      "text/plain": [
       "<Figure size 432x288 with 1 Axes>"
      ]
     },
     "metadata": {
      "needs_background": "light"
     },
     "output_type": "display_data"
    }
   ],
   "source": [
    "data.hist('parks_nearest', bins=30);"
   ]
  },
  {
   "cell_type": "markdown",
   "metadata": {},
   "source": [
    "В основном квартиры находятся в шаговой доступности от парковой зоны до 1 км."
   ]
  },
  {
   "cell_type": "code",
   "execution_count": 71,
   "metadata": {
    "scrolled": false
   },
   "outputs": [
    {
     "data": {
      "image/png": "[encoded data removed]",
      "text/plain": [
       "<Figure size 432x288 with 1 Axes>"
      ]
     },
     "metadata": {
      "needs_background": "light"
     },
     "output_type": "display_data"
    },
    {
     "data": {
      "image/png": "[encoded data removed]",
      "text/plain": [
       "<Figure size 432x288 with 1 Axes>"
      ]
     },
     "metadata": {
      "needs_background": "light"
     },
     "output_type": "display_data"
    }
   ],
   "source": [
    "data.hist('dayofweek', bins=7);\n",
    "\n",
    "data.hist('month', bins=12);"
   ]
  },
  {
   "cell_type": "markdown",
   "metadata": {},
   "source": []
  },
  {
   "cell_type": "code",
   "execution_count": 72,
   "metadata": {},
   "outputs": [
    {
     "name": "stdout",
     "output_type": "stream",
     "text": [
      "Среднее время продажи квартиры в днях: 170\n",
      "Медианное время продажи квартиры в днях: 93\n"
     ]
    },
    {
     "data": {
      "image/png": "[encoded data removed]",
      "text/plain": [
       "<Figure size 432x288 with 1 Axes>"
      ]
     },
     "metadata": {
      "needs_background": "light"
     },
     "output_type": "display_data"
    },
    {
     "data": {
      "image/png": "[encoded data removed]",
      "text/plain": [
       "<Figure size 432x288 with 1 Axes>"
      ]
     },
     "metadata": {
      "needs_background": "light"
     },
     "output_type": "display_data"
    }
   ],
   "source": [
    "data.hist('days_exposition', bins=100);\n",
    "data.hist('days_exposition', bins=100, range = (0,100));\n",
    "print(f'Среднее время продажи квартиры в днях:',int(data['days_exposition'].mean()))\n",
    "print('Медианное время продажи квартиры в днях:',int(data['days_exposition'].median()))"
   ]
  },
  {
   "cell_type": "code",
   "execution_count": 73,
   "metadata": {
    "scrolled": true
   },
   "outputs": [
    {
     "data": {
      "text/html": [
       "<div>\n",
       "<style scoped>\n",
       "    .dataframe tbody tr th:only-of-type {\n",
       "        vertical-align: middle;\n",
       "    }\n",
       "\n",
       "    .dataframe tbody tr th {\n",
       "        vertical-align: top;\n",
       "    }\n",
       "\n",
       "    .dataframe thead th {\n",
       "        text-align: right;\n",
       "    }\n",
       "</style>\n",
       "<table border=\"1\" class=\"dataframe\">\n",
       "  <thead>\n",
       "    <tr style=\"text-align: right;\">\n",
       "      <th></th>\n",
       "      <th>total_area</th>\n",
       "      <th>last_price</th>\n",
       "    </tr>\n",
       "  </thead>\n",
       "  <tbody>\n",
       "    <tr>\n",
       "      <th>total_area</th>\n",
       "      <td>1.0000</td>\n",
       "      <td>0.7193</td>\n",
       "    </tr>\n",
       "    <tr>\n",
       "      <th>last_price</th>\n",
       "      <td>0.7193</td>\n",
       "      <td>1.0000</td>\n",
       "    </tr>\n",
       "  </tbody>\n",
       "</table>\n",
       "</div>"
      ],
      "text/plain": [
       "            total_area  last_price\n",
       "total_area      1.0000      0.7193\n",
       "last_price      0.7193      1.0000"
      ]
     },
     "execution_count": 73,
     "metadata": {},
     "output_type": "execute_result"
    },
    {
     "data": {
      "image/png": "[encoded data removed]",
      "text/plain": [
       "<Figure size 360x360 with 1 Axes>"
      ]
     },
     "metadata": {
      "needs_background": "light"
     },
     "output_type": "display_data"
    }
   ],
   "source": [
    "data.pivot_table(index='total_area', values='last_price').plot(grid=True, style='o', figsize=(5, 5))\n",
    "#data.pivot_table(index='floor', values=['total_area', 'last_price']).corr(),'\\n'\n",
    "columns=['total_area', 'last_price']\n",
    "subset=data[columns]\n",
    "subset.corr()"
   ]
  },
  {
   "cell_type": "code",
   "execution_count": 75,
   "metadata": {},
   "outputs": [
    {
     "data": {
      "text/html": [
       "<div>\n",
       "<style scoped>\n",
       "    .dataframe tbody tr th:only-of-type {\n",
       "        vertical-align: middle;\n",
       "    }\n",
       "\n",
       "    .dataframe tbody tr th {\n",
       "        vertical-align: top;\n",
       "    }\n",
       "\n",
       "    .dataframe thead th {\n",
       "        text-align: right;\n",
       "    }\n",
       "</style>\n",
       "<table border=\"1\" class=\"dataframe\">\n",
       "  <thead>\n",
       "    <tr style=\"text-align: right;\">\n",
       "      <th></th>\n",
       "      <th>living_area</th>\n",
       "      <th>last_price</th>\n",
       "    </tr>\n",
       "  </thead>\n",
       "  <tbody>\n",
       "    <tr>\n",
       "      <th>living_area</th>\n",
       "      <td>1.000000</td>\n",
       "      <td>0.628347</td>\n",
       "    </tr>\n",
       "    <tr>\n",
       "      <th>last_price</th>\n",
       "      <td>0.628347</td>\n",
       "      <td>1.000000</td>\n",
       "    </tr>\n",
       "  </tbody>\n",
       "</table>\n",
       "</div>"
      ],
      "text/plain": [
       "             living_area  last_price\n",
       "living_area     1.000000    0.628347\n",
       "last_price      0.628347    1.000000"
      ]
     },
     "execution_count": 75,
     "metadata": {},
     "output_type": "execute_result"
    },
    {
     "data": {
      "image/png": "[encoded data removed]",
      "text/plain": [
       "<Figure size 360x360 with 1 Axes>"
      ]
     },
     "metadata": {
      "needs_background": "light"
     },
     "output_type": "display_data"
    }
   ],
   "source": [
    "data.pivot_table(index='living_area', values='last_price').plot(grid=True, style='o', figsize=(5, 5))\n",
    "#data.pivot_table(index='floor', values=['living_area', 'last_price']).corr(),'\\n'\n",
    "columns=['living_area', 'last_price']\n",
    "subset=data[columns]\n",
    "subset.corr()"
   ]
  },
  {
   "cell_type": "code",
   "execution_count": 76,
   "metadata": {},
   "outputs": [
    {
     "data": {
      "image/png": "[encoded data removed]",
      "text/plain": [
       "<Figure size 360x360 with 1 Axes>"
      ]
     },
     "metadata": {
      "needs_background": "light"
     },
     "output_type": "display_data"
    }
   ],
   "source": [
    "data.pivot_table(index='kitchen_area', values='last_price').plot(grid=True, style='o', figsize=(5, 5))\n",
    "#data.pivot_table(index='floor', values=['kitchen_area', 'last_price']).corr(),'\\n'\n",
    "columns=['kitchen_area', 'last_price']\n",
    "subset=data[columns]"
   ]
  },
  {
   "cell_type": "code",
   "execution_count": 77,
   "metadata": {},
   "outputs": [
    {
     "data": {
      "text/html": [
       "<div>\n",
       "<style scoped>\n",
       "    .dataframe tbody tr th:only-of-type {\n",
       "        vertical-align: middle;\n",
       "    }\n",
       "\n",
       "    .dataframe tbody tr th {\n",
       "        vertical-align: top;\n",
       "    }\n",
       "\n",
       "    .dataframe thead th {\n",
       "        text-align: right;\n",
       "    }\n",
       "</style>\n",
       "<table border=\"1\" class=\"dataframe\">\n",
       "  <thead>\n",
       "    <tr style=\"text-align: right;\">\n",
       "      <th></th>\n",
       "      <th>rooms</th>\n",
       "      <th>last_price</th>\n",
       "    </tr>\n",
       "  </thead>\n",
       "  <tbody>\n",
       "    <tr>\n",
       "      <th>rooms</th>\n",
       "      <td>1.000000</td>\n",
       "      <td>0.421818</td>\n",
       "    </tr>\n",
       "    <tr>\n",
       "      <th>last_price</th>\n",
       "      <td>0.421818</td>\n",
       "      <td>1.000000</td>\n",
       "    </tr>\n",
       "  </tbody>\n",
       "</table>\n",
       "</div>"
      ],
      "text/plain": [
       "               rooms  last_price\n",
       "rooms       1.000000    0.421818\n",
       "last_price  0.421818    1.000000"
      ]
     },
     "execution_count": 77,
     "metadata": {},
     "output_type": "execute_result"
    },
    {
     "data": {
      "image/png": "[encoded data removed]",
      "text/plain": [
       "<Figure size 360x360 with 1 Axes>"
      ]
     },
     "metadata": {
      "needs_background": "light"
     },
     "output_type": "display_data"
    }
   ],
   "source": [
    "data.pivot_table(index='rooms', values='last_price').plot(grid=True, style='o', figsize=(5, 5))\n",
    "#data.pivot_table(index='floor', values=['rooms', 'last_price']).corr(),'\\n'\n",
    "columns=['rooms', 'last_price']\n",
    "subset=data[columns]\n",
    "subset.corr()"
   ]
  },
  {
   "cell_type": "code",
   "execution_count": 78,
   "metadata": {},
   "outputs": [
    {
     "data": {
      "text/html": [
       "<div>\n",
       "<style scoped>\n",
       "    .dataframe tbody tr th:only-of-type {\n",
       "        vertical-align: middle;\n",
       "    }\n",
       "\n",
       "    .dataframe tbody tr th {\n",
       "        vertical-align: top;\n",
       "    }\n",
       "\n",
       "    .dataframe thead th {\n",
       "        text-align: right;\n",
       "    }\n",
       "</style>\n",
       "<table border=\"1\" class=\"dataframe\">\n",
       "  <thead>\n",
       "    <tr style=\"text-align: right;\">\n",
       "      <th></th>\n",
       "      <th>last_price</th>\n",
       "    </tr>\n",
       "  </thead>\n",
       "  <tbody>\n",
       "    <tr>\n",
       "      <th>last_price</th>\n",
       "      <td>1.0</td>\n",
       "    </tr>\n",
       "  </tbody>\n",
       "</table>\n",
       "</div>"
      ],
      "text/plain": [
       "            last_price\n",
       "last_price         1.0"
      ]
     },
     "execution_count": 78,
     "metadata": {},
     "output_type": "execute_result"
    },
    {
     "data": {
      "image/png": "[encoded data removed]",
      "text/plain": [
       "<Figure size 360x360 with 1 Axes>"
      ]
     },
     "metadata": {
      "needs_background": "light"
     },
     "output_type": "display_data"
    }
   ],
   "source": [
    "data.pivot_table(index='floor_category', values='last_price').plot(kind='barh', grid=True, style='o', figsize=(5, 5));\n",
    "#data.pivot_table(index='floor', values=['floor_category', 'last_price']).corr(),'\\n'\n",
    "columns=['floor_category', 'last_price']\n",
    "subset=data[columns]\n",
    "subset.corr()"
   ]
  },
  {
   "cell_type": "code",
   "execution_count": 79,
   "metadata": {},
   "outputs": [
    {
     "data": {
      "text/html": [
       "<div>\n",
       "<style scoped>\n",
       "    .dataframe tbody tr th:only-of-type {\n",
       "        vertical-align: middle;\n",
       "    }\n",
       "\n",
       "    .dataframe tbody tr th {\n",
       "        vertical-align: top;\n",
       "    }\n",
       "\n",
       "    .dataframe thead th {\n",
       "        text-align: right;\n",
       "    }\n",
       "</style>\n",
       "<table border=\"1\" class=\"dataframe\">\n",
       "  <thead>\n",
       "    <tr style=\"text-align: right;\">\n",
       "      <th></th>\n",
       "      <th>last_price</th>\n",
       "    </tr>\n",
       "  </thead>\n",
       "  <tbody>\n",
       "    <tr>\n",
       "      <th>last_price</th>\n",
       "      <td>1.0</td>\n",
       "    </tr>\n",
       "  </tbody>\n",
       "</table>\n",
       "</div>"
      ],
      "text/plain": [
       "            last_price\n",
       "last_price         1.0"
      ]
     },
     "execution_count": 79,
     "metadata": {},
     "output_type": "execute_result"
    },
    {
     "data": {
      "image/png": "[encoded data removed]",
      "text/plain": [
       "<Figure size 720x720 with 1 Axes>"
      ]
     },
     "metadata": {
      "needs_background": "light"
     },
     "output_type": "display_data"
    }
   ],
   "source": [
    "data.pivot_table(index=['dayofweek'], values='last_price').plot(kind='barh', grid=True, style='o', figsize=(10, 10));\n",
    "#data.pivot_table(index='floor', values=['dayofweek', 'month', 'year', 'last_price']).corr(),'\\n'\n",
    "subset.corr()"
   ]
  },
  {
   "cell_type": "code",
   "execution_count": 80,
   "metadata": {},
   "outputs": [],
   "source": [
    "columns=['dayofweek', 'last_price']\n",
    "subset=data[columns]"
   ]
  },
  {
   "cell_type": "code",
   "execution_count": 81,
   "metadata": {},
   "outputs": [
    {
     "data": {
      "image/png": "[encoded data removed]",
      "text/plain": [
       "<Figure size 720x720 with 1 Axes>"
      ]
     },
     "metadata": {
      "needs_background": "light"
     },
     "output_type": "display_data"
    }
   ],
   "source": [
    "data.pivot_table(index=['month'], values='last_price').plot(kind='barh', grid=True, style='o', figsize=(10, 10));"
   ]
  },
  {
   "cell_type": "code",
   "execution_count": 82,
   "metadata": {},
   "outputs": [
    {
     "data": {
      "image/png": "[encoded data removed]",
      "text/plain": [
       "<Figure size 720x720 with 1 Axes>"
      ]
     },
     "metadata": {
      "needs_background": "light"
     },
     "output_type": "display_data"
    },
    {
     "data": {
      "image/png": "[encoded data removed]",
      "text/plain": [
       "<Figure size 720x720 with 1 Axes>"
      ]
     },
     "metadata": {
      "needs_background": "light"
     },
     "output_type": "display_data"
    }
   ],
   "source": [
    "data.pivot_table(index=['year'], values='last_price').plot(kind='barh', grid=True, style='o', figsize=(10, 10));\n",
    "data.pivot_table(index=['year'], values='total_area').plot(kind='barh', grid=True, style='o', figsize=(10, 10));\n"
   ]
  },
  {
   "cell_type": "code",
   "execution_count": 83,
   "metadata": {},
   "outputs": [
    {
     "data": {
      "image/png": "[encoded data removed]",
      "text/plain": [
       "<Figure size 432x288 with 1 Axes>"
      ]
     },
     "metadata": {
      "needs_background": "light"
     },
     "output_type": "display_data"
    }
   ],
   "source": [
    "data.groupby(by='year')['last_price'].count().plot(kind='bar', ylabel = 'count');"
   ]
  },
  {
   "cell_type": "markdown",
   "metadata": {},
   "source": [
    "Исходя из полученных данных можно сделать вывод, что цена квартиры на прямую зависит от площади картиры, количества комнат и этаж располажения квартир. На стоимость квартир не влияет день и месяц публикации объявления. Так же можно сделать выводы что с 2014 по 2018 год стоимость квартир снижалась и в 2019 году начала подниматься. Стомость снижалась в 2017 и 2018 годах из-за большого количества предложений."
   ]
  },
  {
   "cell_type": "code",
   "execution_count": 84,
   "metadata": {},
   "outputs": [
    {
     "name": "stdout",
     "output_type": "stream",
     "text": [
      "                     price_sqr_m\n",
      "locality_name                   \n",
      "Всеволожск          68668.540879\n",
      "Выборг              58245.190455\n",
      "Гатчина             69059.609003\n",
      "Колпино             75229.566500\n",
      "Кудрово             94742.080098\n",
      "Мурино              84904.602486\n",
      "Пушкин             102685.350326\n",
      "Санкт-Петербург    112009.111311\n",
      "поселок Парголово   90197.547284\n",
      "поселок Шушары      77980.635341\n"
     ]
    },
    {
     "data": {
      "image/png": "[encoded data removed]",
      "text/plain": [
       "<Figure size 432x288 with 1 Axes>"
      ]
     },
     "metadata": {
      "needs_background": "light"
     },
     "output_type": "display_data"
    }
   ],
   "source": [
    "city_ten = data['locality_name'].value_counts().head(10)\n",
    "city_sm_price = data.query('locality_name in (@city_ten.index)').pivot_table(values='price_sqr_m', index='locality_name')\n",
    "print(city_sm_price.head(10))\n",
    "city_sm_price = city_sm_price.astype(int)\n",
    "#city_sm_price.sort_values('price_sqr_m', ascending=False).plot(grid=True, style='o', figsize=(10,10));\n",
    "city_sm_price['price_sqr_m'].plot(kind='barh');"
   ]
  },
  {
   "cell_type": "code",
   "execution_count": 85,
   "metadata": {},
   "outputs": [
    {
     "name": "stdout",
     "output_type": "stream",
     "text": [
      "406513.3922916714\n"
     ]
    },
    {
     "data": {
      "image/png": "[encoded data removed]",
      "text/plain": [
       "<Figure size 720x360 with 1 Axes>"
      ]
     },
     "metadata": {
      "needs_background": "light"
     },
     "output_type": "display_data"
    }
   ],
   "source": [
    "center_km=data.query('locality_name == \"Санкт-Петербург\"').pivot_table(index='cityCenters_nearest_km', values='last_price').plot(grid=True, style='o-', xlim=(0,30), figsize=(10, 5))\n",
    "cost_km=data['last_price'].mean()/data['cityCenters_nearest_km'].mean()\n",
    "print(cost_km)"
   ]
  },
  {
   "cell_type": "markdown",
   "metadata": {},
   "source": [
    "Данный расчет производился для собственного понятия покажет ли что-то эта цифра. в итоге нигде не исполльзовалась. "
   ]
  },
  {
   "cell_type": "code",
   "execution_count": 86,
   "metadata": {
    "scrolled": true
   },
   "outputs": [
    {
     "data": {
      "text/plain": [
       "0"
      ]
     },
     "execution_count": 86,
     "metadata": {},
     "output_type": "execute_result"
    }
   ],
   "source": [
    "data.query('cityCenters_nearest_km == 27' and 'locality_name == \"Санкт-Петербур\"')['cityCenters_nearest_km'].count()\n"
   ]
  },
  {
   "cell_type": "code",
   "execution_count": 87,
   "metadata": {},
   "outputs": [
    {
     "data": {
      "text/html": [
       "<div>\n",
       "<style scoped>\n",
       "    .dataframe tbody tr th:only-of-type {\n",
       "        vertical-align: middle;\n",
       "    }\n",
       "\n",
       "    .dataframe tbody tr th {\n",
       "        vertical-align: top;\n",
       "    }\n",
       "\n",
       "    .dataframe thead th {\n",
       "        text-align: right;\n",
       "    }\n",
       "</style>\n",
       "<table border=\"1\" class=\"dataframe\">\n",
       "  <thead>\n",
       "    <tr style=\"text-align: right;\">\n",
       "      <th></th>\n",
       "      <th>total_images</th>\n",
       "      <th>last_price</th>\n",
       "      <th>total_area</th>\n",
       "      <th>first_day_exposition</th>\n",
       "      <th>rooms</th>\n",
       "      <th>ceiling_height</th>\n",
       "      <th>floors_total</th>\n",
       "      <th>living_area</th>\n",
       "      <th>floor</th>\n",
       "      <th>is_apartment</th>\n",
       "      <th>...</th>\n",
       "      <th>parks_nearest</th>\n",
       "      <th>ponds_around3000</th>\n",
       "      <th>ponds_nearest</th>\n",
       "      <th>days_exposition</th>\n",
       "      <th>price_sqr_m</th>\n",
       "      <th>dayofweek</th>\n",
       "      <th>month</th>\n",
       "      <th>year</th>\n",
       "      <th>floor_category</th>\n",
       "      <th>cityCenters_nearest_km</th>\n",
       "    </tr>\n",
       "  </thead>\n",
       "  <tbody>\n",
       "  </tbody>\n",
       "</table>\n",
       "<p>0 rows × 28 columns</p>\n",
       "</div>"
      ],
      "text/plain": [
       "Empty DataFrame\n",
       "Columns: [total_images, last_price, total_area, first_day_exposition, rooms, ceiling_height, floors_total, living_area, floor, is_apartment, studio, open_plan, kitchen_area, balcony, locality_name, airports_nearest, cityCenters_nearest, parks_around3000, parks_nearest, ponds_around3000, ponds_nearest, days_exposition, price_sqr_m, dayofweek, month, year, floor_category, cityCenters_nearest_km]\n",
       "Index: []\n",
       "\n",
       "[0 rows x 28 columns]"
      ]
     },
     "execution_count": 87,
     "metadata": {},
     "output_type": "execute_result"
    }
   ],
   "source": [
    "data.query('cityCenters_nearest_km == 27' and 'locality_name == \"Санкт-Петербур\"').sort_values(by='last_price', ascending=False).head(25)"
   ]
  },
  {
   "cell_type": "code",
   "execution_count": 89,
   "metadata": {},
   "outputs": [
    {
     "data": {
      "text/html": [
       "<div>\n",
       "<style scoped>\n",
       "    .dataframe tbody tr th:only-of-type {\n",
       "        vertical-align: middle;\n",
       "    }\n",
       "\n",
       "    .dataframe tbody tr th {\n",
       "        vertical-align: top;\n",
       "    }\n",
       "\n",
       "    .dataframe thead th {\n",
       "        text-align: right;\n",
       "    }\n",
       "</style>\n",
       "<table border=\"1\" class=\"dataframe\">\n",
       "  <thead>\n",
       "    <tr style=\"text-align: right;\">\n",
       "      <th></th>\n",
       "      <th></th>\n",
       "      <th>last_price</th>\n",
       "      <th>total_area</th>\n",
       "    </tr>\n",
       "    <tr>\n",
       "      <th>cityCenters_nearest_km</th>\n",
       "      <th>locality_name</th>\n",
       "      <th></th>\n",
       "      <th></th>\n",
       "    </tr>\n",
       "  </thead>\n",
       "  <tbody>\n",
       "    <tr>\n",
       "      <th rowspan=\"5\" valign=\"top\">26</th>\n",
       "      <th>Пушкин</th>\n",
       "      <td>26500000</td>\n",
       "      <td>157.3</td>\n",
       "    </tr>\n",
       "    <tr>\n",
       "      <th>Санкт-Петербург</th>\n",
       "      <td>7900000</td>\n",
       "      <td>100.0</td>\n",
       "    </tr>\n",
       "    <tr>\n",
       "      <th>поселок Левашово</th>\n",
       "      <td>4200000</td>\n",
       "      <td>43.3</td>\n",
       "    </tr>\n",
       "    <tr>\n",
       "      <th>поселок Лисий Нос</th>\n",
       "      <td>7305000</td>\n",
       "      <td>43.3</td>\n",
       "    </tr>\n",
       "    <tr>\n",
       "      <th>поселок Песочный</th>\n",
       "      <td>2900000</td>\n",
       "      <td>30.1</td>\n",
       "    </tr>\n",
       "    <tr>\n",
       "      <th rowspan=\"5\" valign=\"top\">27</th>\n",
       "      <th>Красное Село</th>\n",
       "      <td>3000000</td>\n",
       "      <td>37.0</td>\n",
       "    </tr>\n",
       "    <tr>\n",
       "      <th>Пушкин</th>\n",
       "      <td>29500000</td>\n",
       "      <td>190.0</td>\n",
       "    </tr>\n",
       "    <tr>\n",
       "      <th>Санкт-Петербург</th>\n",
       "      <td>14350000</td>\n",
       "      <td>74.0</td>\n",
       "    </tr>\n",
       "    <tr>\n",
       "      <th>поселок Александровская</th>\n",
       "      <td>3750000</td>\n",
       "      <td>59.0</td>\n",
       "    </tr>\n",
       "    <tr>\n",
       "      <th>поселок Металлострой</th>\n",
       "      <td>5350000</td>\n",
       "      <td>75.0</td>\n",
       "    </tr>\n",
       "    <tr>\n",
       "      <th rowspan=\"9\" valign=\"top\">28</th>\n",
       "      <th>Красное Село</th>\n",
       "      <td>21000000</td>\n",
       "      <td>215.0</td>\n",
       "    </tr>\n",
       "    <tr>\n",
       "      <th>Пушкин</th>\n",
       "      <td>16500000</td>\n",
       "      <td>151.0</td>\n",
       "    </tr>\n",
       "    <tr>\n",
       "      <th>Санкт-Петербург</th>\n",
       "      <td>7600000</td>\n",
       "      <td>111.0</td>\n",
       "    </tr>\n",
       "    <tr>\n",
       "      <th>поселок Александровская</th>\n",
       "      <td>13700000</td>\n",
       "      <td>178.0</td>\n",
       "    </tr>\n",
       "    <tr>\n",
       "      <th>поселок Лисий Нос</th>\n",
       "      <td>2350000</td>\n",
       "      <td>40.0</td>\n",
       "    </tr>\n",
       "    <tr>\n",
       "      <th>поселок Металлострой</th>\n",
       "      <td>5500000</td>\n",
       "      <td>94.0</td>\n",
       "    </tr>\n",
       "    <tr>\n",
       "      <th>поселок Песочный</th>\n",
       "      <td>3200000</td>\n",
       "      <td>49.0</td>\n",
       "    </tr>\n",
       "    <tr>\n",
       "      <th>поселок Усть-Ижора</th>\n",
       "      <td>3900000</td>\n",
       "      <td>57.0</td>\n",
       "    </tr>\n",
       "    <tr>\n",
       "      <th>поселок Шушары</th>\n",
       "      <td>2550000</td>\n",
       "      <td>41.0</td>\n",
       "    </tr>\n",
       "  </tbody>\n",
       "</table>\n",
       "</div>"
      ],
      "text/plain": [
       "                                                last_price  total_area\n",
       "cityCenters_nearest_km locality_name                                  \n",
       "26                     Пушкин                     26500000       157.3\n",
       "                       Санкт-Петербург             7900000       100.0\n",
       "                       поселок Левашово            4200000        43.3\n",
       "                       поселок Лисий Нос           7305000        43.3\n",
       "                       поселок Песочный            2900000        30.1\n",
       "27                     Красное Село                3000000        37.0\n",
       "                       Пушкин                     29500000       190.0\n",
       "                       Санкт-Петербург            14350000        74.0\n",
       "                       поселок Александровская     3750000        59.0\n",
       "                       поселок Металлострой        5350000        75.0\n",
       "28                     Красное Село               21000000       215.0\n",
       "                       Пушкин                     16500000       151.0\n",
       "                       Санкт-Петербург             7600000       111.0\n",
       "                       поселок Александровская    13700000       178.0\n",
       "                       поселок Лисий Нос           2350000        40.0\n",
       "                       поселок Металлострой        5500000        94.0\n",
       "                       поселок Песочный            3200000        49.0\n",
       "                       поселок Усть-Ижора          3900000        57.0\n",
       "                       поселок Шушары              2550000        41.0"
      ]
     },
     "execution_count": 89,
     "metadata": {},
     "output_type": "execute_result"
    }
   ],
   "source": [
    "data.groupby(['cityCenters_nearest_km', 'locality_name']).agg({'last_price':'max', 'total_area':'max'}).loc[26:28].head(27)"
   ]
  },
  {
   "cell_type": "code",
   "execution_count": 90,
   "metadata": {
    "scrolled": true
   },
   "outputs": [
    {
     "data": {
      "text/html": [
       "<div>\n",
       "<style scoped>\n",
       "    .dataframe tbody tr th:only-of-type {\n",
       "        vertical-align: middle;\n",
       "    }\n",
       "\n",
       "    .dataframe tbody tr th {\n",
       "        vertical-align: top;\n",
       "    }\n",
       "\n",
       "    .dataframe thead th {\n",
       "        text-align: right;\n",
       "    }\n",
       "</style>\n",
       "<table border=\"1\" class=\"dataframe\">\n",
       "  <thead>\n",
       "    <tr style=\"text-align: right;\">\n",
       "      <th></th>\n",
       "      <th>cityCenters_nearest_km</th>\n",
       "    </tr>\n",
       "    <tr>\n",
       "      <th>locality_name</th>\n",
       "      <th></th>\n",
       "    </tr>\n",
       "  </thead>\n",
       "  <tbody>\n",
       "    <tr>\n",
       "      <th>Зеленогорск</th>\n",
       "      <td>54.909091</td>\n",
       "    </tr>\n",
       "    <tr>\n",
       "      <th>Колпино</th>\n",
       "      <td>32.018072</td>\n",
       "    </tr>\n",
       "    <tr>\n",
       "      <th>Красное Село</th>\n",
       "      <td>29.976608</td>\n",
       "    </tr>\n",
       "    <tr>\n",
       "      <th>Кронштадт</th>\n",
       "      <td>49.059524</td>\n",
       "    </tr>\n",
       "    <tr>\n",
       "      <th>Ломоносов</th>\n",
       "      <td>50.614173</td>\n",
       "    </tr>\n",
       "    <tr>\n",
       "      <th>Мурино</th>\n",
       "      <td>22.0</td>\n",
       "    </tr>\n",
       "    <tr>\n",
       "      <th>Павловск</th>\n",
       "      <td>33.25</td>\n",
       "    </tr>\n",
       "    <tr>\n",
       "      <th>Петергоф</th>\n",
       "      <td>35.523077</td>\n",
       "    </tr>\n",
       "    <tr>\n",
       "      <th>Пушкин</th>\n",
       "      <td>28.736232</td>\n",
       "    </tr>\n",
       "    <tr>\n",
       "      <th>Санкт-Петербург</th>\n",
       "      <td>11.96189</td>\n",
       "    </tr>\n",
       "    <tr>\n",
       "      <th>Сестрорецк</th>\n",
       "      <td>34.606742</td>\n",
       "    </tr>\n",
       "    <tr>\n",
       "      <th>поселок Александровская</th>\n",
       "      <td>27.5</td>\n",
       "    </tr>\n",
       "    <tr>\n",
       "      <th>поселок Белоостров</th>\n",
       "      <td>39.0</td>\n",
       "    </tr>\n",
       "    <tr>\n",
       "      <th>поселок Левашово</th>\n",
       "      <td>26.0</td>\n",
       "    </tr>\n",
       "    <tr>\n",
       "      <th>поселок Лисий Нос</th>\n",
       "      <td>27.0</td>\n",
       "    </tr>\n",
       "    <tr>\n",
       "      <th>поселок Металлострой</th>\n",
       "      <td>27.539683</td>\n",
       "    </tr>\n",
       "    <tr>\n",
       "      <th>поселок Молодёжное</th>\n",
       "      <td>65.5</td>\n",
       "    </tr>\n",
       "    <tr>\n",
       "      <th>поселок Парголово</th>\n",
       "      <td>19.95356</td>\n",
       "    </tr>\n",
       "    <tr>\n",
       "      <th>поселок Песочный</th>\n",
       "      <td>27.0</td>\n",
       "    </tr>\n",
       "    <tr>\n",
       "      <th>поселок Понтонный</th>\n",
       "      <td>32.15</td>\n",
       "    </tr>\n",
       "    <tr>\n",
       "      <th>поселок Репино</th>\n",
       "      <td>43.5</td>\n",
       "    </tr>\n",
       "    <tr>\n",
       "      <th>поселок Сапёрный</th>\n",
       "      <td>36.0</td>\n",
       "    </tr>\n",
       "    <tr>\n",
       "      <th>поселок Стрельна</th>\n",
       "      <td>23.45</td>\n",
       "    </tr>\n",
       "    <tr>\n",
       "      <th>поселок Усть-Ижора</th>\n",
       "      <td>28.0</td>\n",
       "    </tr>\n",
       "    <tr>\n",
       "      <th>поселок Шушары</th>\n",
       "      <td>24.246479</td>\n",
       "    </tr>\n",
       "  </tbody>\n",
       "</table>\n",
       "</div>"
      ],
      "text/plain": [
       "                         cityCenters_nearest_km\n",
       "locality_name                                  \n",
       "Зеленогорск                           54.909091\n",
       "Колпино                               32.018072\n",
       "Красное Село                          29.976608\n",
       "Кронштадт                             49.059524\n",
       "Ломоносов                             50.614173\n",
       "Мурино                                     22.0\n",
       "Павловск                                  33.25\n",
       "Петергоф                              35.523077\n",
       "Пушкин                                28.736232\n",
       "Санкт-Петербург                        11.96189\n",
       "Сестрорецк                            34.606742\n",
       "поселок Александровская                    27.5\n",
       "поселок Белоостров                         39.0\n",
       "поселок Левашово                           26.0\n",
       "поселок Лисий Нос                          27.0\n",
       "поселок Металлострой                  27.539683\n",
       "поселок Молодёжное                         65.5\n",
       "поселок Парголово                      19.95356\n",
       "поселок Песочный                           27.0\n",
       "поселок Понтонный                         32.15\n",
       "поселок Репино                             43.5\n",
       "поселок Сапёрный                           36.0\n",
       "поселок Стрельна                          23.45\n",
       "поселок Усть-Ижора                         28.0\n",
       "поселок Шушары                        24.246479"
      ]
     },
     "execution_count": 90,
     "metadata": {},
     "output_type": "execute_result"
    }
   ],
   "source": [
    "rating.isna()"
   ]
  },
  {
   "cell_type": "code",
   "execution_count": 91,
   "metadata": {},
   "outputs": [
    {
     "data": {
      "text/html": [
       "<div>\n",
       "<style scoped>\n",
       "    .dataframe tbody tr th:only-of-type {\n",
       "        vertical-align: middle;\n",
       "    }\n",
       "\n",
       "    .dataframe tbody tr th {\n",
       "        vertical-align: top;\n",
       "    }\n",
       "\n",
       "    .dataframe thead th {\n",
       "        text-align: right;\n",
       "    }\n",
       "</style>\n",
       "<table border=\"1\" class=\"dataframe\">\n",
       "  <thead>\n",
       "    <tr style=\"text-align: right;\">\n",
       "      <th></th>\n",
       "      <th></th>\n",
       "      <th>floor_category</th>\n",
       "    </tr>\n",
       "    <tr>\n",
       "      <th>cityCenters_nearest_km</th>\n",
       "      <th>floor_category</th>\n",
       "      <th></th>\n",
       "    </tr>\n",
       "  </thead>\n",
       "  <tbody>\n",
       "    <tr>\n",
       "      <th rowspan=\"3\" valign=\"top\">3</th>\n",
       "      <th>другой</th>\n",
       "      <td>144</td>\n",
       "    </tr>\n",
       "    <tr>\n",
       "      <th>первый</th>\n",
       "      <td>42</td>\n",
       "    </tr>\n",
       "    <tr>\n",
       "      <th>последний</th>\n",
       "      <td>61</td>\n",
       "    </tr>\n",
       "    <tr>\n",
       "      <th rowspan=\"3\" valign=\"top\">4</th>\n",
       "      <th>другой</th>\n",
       "      <td>389</td>\n",
       "    </tr>\n",
       "    <tr>\n",
       "      <th>первый</th>\n",
       "      <td>67</td>\n",
       "    </tr>\n",
       "    <tr>\n",
       "      <th>последний</th>\n",
       "      <td>87</td>\n",
       "    </tr>\n",
       "    <tr>\n",
       "      <th rowspan=\"3\" valign=\"top\">5</th>\n",
       "      <th>другой</th>\n",
       "      <td>543</td>\n",
       "    </tr>\n",
       "    <tr>\n",
       "      <th>первый</th>\n",
       "      <td>63</td>\n",
       "    </tr>\n",
       "    <tr>\n",
       "      <th>последний</th>\n",
       "      <td>105</td>\n",
       "    </tr>\n",
       "  </tbody>\n",
       "</table>\n",
       "</div>"
      ],
      "text/plain": [
       "                                       floor_category\n",
       "cityCenters_nearest_km floor_category                \n",
       "3                      другой                     144\n",
       "                       первый                      42\n",
       "                       последний                   61\n",
       "4                      другой                     389\n",
       "                       первый                      67\n",
       "                       последний                   87\n",
       "5                      другой                     543\n",
       "                       первый                      63\n",
       "                       последний                  105"
      ]
     },
     "execution_count": 91,
     "metadata": {},
     "output_type": "execute_result"
    }
   ],
   "source": [
    "data.groupby(['cityCenters_nearest_km', 'floor_category']).agg({'floor_category':'count'}).loc[3:5].head(60)\n",
    "                                                               "
   ]
  },
  {
   "cell_type": "code",
   "execution_count": 92,
   "metadata": {},
   "outputs": [
    {
     "data": {
      "text/html": [
       "<div>\n",
       "<style scoped>\n",
       "    .dataframe tbody tr th:only-of-type {\n",
       "        vertical-align: middle;\n",
       "    }\n",
       "\n",
       "    .dataframe tbody tr th {\n",
       "        vertical-align: top;\n",
       "    }\n",
       "\n",
       "    .dataframe thead th {\n",
       "        text-align: right;\n",
       "    }\n",
       "</style>\n",
       "<table border=\"1\" class=\"dataframe\">\n",
       "  <thead>\n",
       "    <tr style=\"text-align: right;\">\n",
       "      <th></th>\n",
       "      <th>cityCenters_nearest_km</th>\n",
       "      <th>last_price</th>\n",
       "    </tr>\n",
       "  </thead>\n",
       "  <tbody>\n",
       "    <tr>\n",
       "      <th>cityCenters_nearest_km</th>\n",
       "      <td>1.000000</td>\n",
       "      <td>-0.288141</td>\n",
       "    </tr>\n",
       "    <tr>\n",
       "      <th>last_price</th>\n",
       "      <td>-0.288141</td>\n",
       "      <td>1.000000</td>\n",
       "    </tr>\n",
       "  </tbody>\n",
       "</table>\n",
       "</div>"
      ],
      "text/plain": [
       "                        cityCenters_nearest_km  last_price\n",
       "cityCenters_nearest_km                1.000000   -0.288141\n",
       "last_price                           -0.288141    1.000000"
      ]
     },
     "execution_count": 92,
     "metadata": {},
     "output_type": "execute_result"
    }
   ],
   "source": [
    "columns=['cityCenters_nearest_km', 'last_price']\n",
    "subset=data[columns]\n",
    "subset.corr()"
   ]
  },
  {
   "cell_type": "markdown",
   "metadata": {},
   "source": [
    "На расстоянии 27 км, от центра выставлена квартира с ценником в 2 раза больше чем на 26 и 28 км. Возможно данная квартира находится в г. Пушкин, т.к. ценники за квадрат примерно равны. "
   ]
  },
  {
   "cell_type": "markdown",
   "metadata": {},
   "source": [
    "На 3м км большинство квартир продаются на первых и последних этажах, что оказывает влияние на стоимость. "
   ]
  },
  {
   "cell_type": "markdown",
   "metadata": {},
   "source": [
    "### Общий вывод"
   ]
  },
  {
   "cell_type": "markdown",
   "metadata": {},
   "source": [
    "Большая часть квартир продается за 93 дня. Так же есть пики продаж квартир за 45 и 60 дней, \n",
    "что является хорошим показателем.\n",
    "На стоимость больше влияет площадь квартиры, этаж квартиры и район расположения квартиры, чем ближе к центру, \n",
    "тем дороже квартиры. Есть провал на 3 км. 71% это первые и последние этажи. Вероятно, это старая застройка. Возможно остатки 2х этажных старых домов. \n",
    "Стоимость квадратного метра в топ-10 населённых пунктов\n",
    "\n",
    "Дороже всего квадратный метр в Санкт-Петербурге - 112009.11\n",
    "Дешевле всего квадратный метр в Выборге - 58245.19\n",
    "Далее 8 км от центра стоимость квартир примерно одинаковые.\n",
    "Повышение стоимости начало фиксироваться в 2019 году, т.к. снизилось количество предложений.\n",
    "Большая активность начала продажи фиксируется в феврале-апреле. "
   ]
  }
 ],
 "metadata": {
  "ExecuteTimeLog": [
   {
    "duration": 478,
    "start_time": "2023-01-08T20:45:23.439Z"
   },
   {
    "duration": 79,
    "start_time": "2023-01-08T20:46:07.442Z"
   },
   {
    "duration": 11,
    "start_time": "2023-01-08T20:46:07.523Z"
   },
   {
    "duration": 10,
    "start_time": "2023-01-08T20:46:38.410Z"
   },
   {
    "duration": 76,
    "start_time": "2023-01-08T20:48:57.582Z"
   },
   {
    "duration": 13,
    "start_time": "2023-01-08T20:48:57.660Z"
   },
   {
    "duration": 616,
    "start_time": "2023-01-09T19:30:46.253Z"
   },
   {
    "duration": 427,
    "start_time": "2023-01-09T19:30:46.871Z"
   },
   {
    "duration": 100,
    "start_time": "2023-01-09T19:33:25.813Z"
   },
   {
    "duration": 103,
    "start_time": "2023-01-09T19:33:33.882Z"
   },
   {
    "duration": 21,
    "start_time": "2023-01-09T19:33:33.988Z"
   },
   {
    "duration": 107,
    "start_time": "2023-01-09T19:35:57.323Z"
   },
   {
    "duration": 2287,
    "start_time": "2023-01-09T19:35:57.432Z"
   },
   {
    "duration": 2180,
    "start_time": "2023-01-09T19:39:33.026Z"
   },
   {
    "duration": 2371,
    "start_time": "2023-01-09T19:41:30.805Z"
   },
   {
    "duration": 115,
    "start_time": "2023-01-09T19:41:53.706Z"
   },
   {
    "duration": 125,
    "start_time": "2023-01-09T19:42:28.617Z"
   },
   {
    "duration": 2026,
    "start_time": "2023-01-09T19:42:36.989Z"
   },
   {
    "duration": 130,
    "start_time": "2023-01-09T19:42:50.419Z"
   },
   {
    "duration": 147,
    "start_time": "2023-01-09T19:44:39.340Z"
   },
   {
    "duration": 2210,
    "start_time": "2023-01-09T19:44:39.489Z"
   },
   {
    "duration": 125,
    "start_time": "2023-01-09T19:51:46.590Z"
   },
   {
    "duration": 2164,
    "start_time": "2023-01-09T19:51:46.717Z"
   },
   {
    "duration": 38,
    "start_time": "2023-01-09T19:51:48.883Z"
   },
   {
    "duration": 17,
    "start_time": "2023-01-09T19:52:14.754Z"
   },
   {
    "duration": 71,
    "start_time": "2023-01-09T20:01:52.844Z"
   },
   {
    "duration": 6,
    "start_time": "2023-01-09T20:06:50.739Z"
   },
   {
    "duration": 177,
    "start_time": "2023-01-09T20:07:14.483Z"
   },
   {
    "duration": 2060,
    "start_time": "2023-01-09T20:07:14.665Z"
   },
   {
    "duration": 11,
    "start_time": "2023-01-09T20:07:16.727Z"
   },
   {
    "duration": 87,
    "start_time": "2023-01-09T20:07:16.757Z"
   },
   {
    "duration": 15,
    "start_time": "2023-01-09T20:07:16.846Z"
   },
   {
    "duration": 12,
    "start_time": "2023-01-09T20:07:31.207Z"
   },
   {
    "duration": 27,
    "start_time": "2023-01-09T20:08:37.663Z"
   },
   {
    "duration": 8,
    "start_time": "2023-01-09T20:10:53.715Z"
   },
   {
    "duration": 33,
    "start_time": "2023-01-09T20:11:14.846Z"
   },
   {
    "duration": 25,
    "start_time": "2023-01-09T20:12:56.124Z"
   },
   {
    "duration": 28,
    "start_time": "2023-01-09T20:13:44.474Z"
   },
   {
    "duration": 240,
    "start_time": "2023-01-09T20:14:16.856Z"
   },
   {
    "duration": 34,
    "start_time": "2023-01-09T20:15:20.422Z"
   },
   {
    "duration": 26,
    "start_time": "2023-01-09T20:16:00.075Z"
   },
   {
    "duration": 32,
    "start_time": "2023-01-09T20:53:03.201Z"
   },
   {
    "duration": 139,
    "start_time": "2023-01-09T20:53:24.581Z"
   },
   {
    "duration": 1934,
    "start_time": "2023-01-09T20:53:24.722Z"
   },
   {
    "duration": 10,
    "start_time": "2023-01-09T20:53:26.658Z"
   },
   {
    "duration": 62,
    "start_time": "2023-01-09T20:53:26.670Z"
   },
   {
    "duration": 49,
    "start_time": "2023-01-09T20:53:26.734Z"
   },
   {
    "duration": 35,
    "start_time": "2023-01-09T20:53:26.785Z"
   },
   {
    "duration": 30,
    "start_time": "2023-01-09T20:55:10.186Z"
   },
   {
    "duration": 139,
    "start_time": "2023-01-09T20:55:44.933Z"
   },
   {
    "duration": 1910,
    "start_time": "2023-01-09T20:55:45.075Z"
   },
   {
    "duration": 14,
    "start_time": "2023-01-09T20:55:46.987Z"
   },
   {
    "duration": 66,
    "start_time": "2023-01-09T20:55:47.003Z"
   },
   {
    "duration": 26,
    "start_time": "2023-01-09T20:55:47.071Z"
   },
   {
    "duration": 29,
    "start_time": "2023-01-09T20:55:47.099Z"
   },
   {
    "duration": 17,
    "start_time": "2023-01-09T20:56:31.703Z"
   },
   {
    "duration": 18,
    "start_time": "2023-01-09T20:59:23.644Z"
   },
   {
    "duration": 26,
    "start_time": "2023-01-09T21:00:14.114Z"
   },
   {
    "duration": 26,
    "start_time": "2023-01-09T21:00:26.609Z"
   },
   {
    "duration": 20,
    "start_time": "2023-01-09T21:01:44.373Z"
   },
   {
    "duration": 28,
    "start_time": "2023-01-09T21:02:09.487Z"
   },
   {
    "duration": 30,
    "start_time": "2023-01-09T21:02:51.939Z"
   },
   {
    "duration": 19,
    "start_time": "2023-01-09T21:03:27.568Z"
   },
   {
    "duration": 21,
    "start_time": "2023-01-09T21:03:50.626Z"
   },
   {
    "duration": 22,
    "start_time": "2023-01-09T21:04:00.369Z"
   },
   {
    "duration": 21,
    "start_time": "2023-01-09T21:04:02.800Z"
   },
   {
    "duration": 29,
    "start_time": "2023-01-09T21:11:47.237Z"
   },
   {
    "duration": 272,
    "start_time": "2023-01-09T21:13:05.362Z"
   },
   {
    "duration": 28,
    "start_time": "2023-01-09T21:13:32.087Z"
   },
   {
    "duration": 28,
    "start_time": "2023-01-09T21:14:35.992Z"
   },
   {
    "duration": 26,
    "start_time": "2023-01-09T21:18:17.088Z"
   },
   {
    "duration": 125,
    "start_time": "2023-01-09T21:18:29.517Z"
   },
   {
    "duration": 1865,
    "start_time": "2023-01-09T21:18:29.644Z"
   },
   {
    "duration": 8,
    "start_time": "2023-01-09T21:18:31.511Z"
   },
   {
    "duration": 46,
    "start_time": "2023-01-09T21:18:31.521Z"
   },
   {
    "duration": 35,
    "start_time": "2023-01-09T21:20:03.150Z"
   },
   {
    "duration": 83,
    "start_time": "2023-01-10T09:06:21.282Z"
   },
   {
    "duration": 737,
    "start_time": "2023-01-10T09:06:29.699Z"
   },
   {
    "duration": 2860,
    "start_time": "2023-01-10T09:06:30.438Z"
   },
   {
    "duration": 13,
    "start_time": "2023-01-10T09:06:33.300Z"
   },
   {
    "duration": 61,
    "start_time": "2023-01-10T09:06:33.315Z"
   },
   {
    "duration": 168,
    "start_time": "2023-01-10T09:07:17.323Z"
   },
   {
    "duration": 2437,
    "start_time": "2023-01-10T09:07:17.493Z"
   },
   {
    "duration": 15,
    "start_time": "2023-01-10T09:07:19.932Z"
   },
   {
    "duration": 97,
    "start_time": "2023-01-10T09:07:19.949Z"
   },
   {
    "duration": 39,
    "start_time": "2023-01-10T09:07:55.688Z"
   },
   {
    "duration": 210,
    "start_time": "2023-01-10T09:10:28.318Z"
   },
   {
    "duration": 2448,
    "start_time": "2023-01-10T09:10:28.533Z"
   },
   {
    "duration": 11,
    "start_time": "2023-01-10T09:10:30.982Z"
   },
   {
    "duration": 50,
    "start_time": "2023-01-10T09:10:31.008Z"
   },
   {
    "duration": 93,
    "start_time": "2023-01-10T09:10:50.543Z"
   },
   {
    "duration": 41,
    "start_time": "2023-01-10T09:11:12.016Z"
   },
   {
    "duration": 42,
    "start_time": "2023-01-10T09:11:33.830Z"
   },
   {
    "duration": 195,
    "start_time": "2023-01-10T09:11:56.893Z"
   },
   {
    "duration": 2826,
    "start_time": "2023-01-10T09:11:57.090Z"
   },
   {
    "duration": 16,
    "start_time": "2023-01-10T09:11:59.918Z"
   },
   {
    "duration": 35,
    "start_time": "2023-01-10T09:11:59.936Z"
   },
   {
    "duration": 35,
    "start_time": "2023-01-10T09:27:41.391Z"
   },
   {
    "duration": 51,
    "start_time": "2023-01-10T09:28:09.272Z"
   },
   {
    "duration": 29,
    "start_time": "2023-01-10T09:34:12.482Z"
   },
   {
    "duration": 33,
    "start_time": "2023-01-10T09:34:55.596Z"
   },
   {
    "duration": 267,
    "start_time": "2023-01-10T09:35:00.728Z"
   },
   {
    "duration": 2003,
    "start_time": "2023-01-10T09:35:00.997Z"
   },
   {
    "duration": 15,
    "start_time": "2023-01-10T09:35:03.006Z"
   },
   {
    "duration": 32,
    "start_time": "2023-01-10T09:35:24.520Z"
   },
   {
    "duration": 37,
    "start_time": "2023-01-10T09:40:15.409Z"
   },
   {
    "duration": 33,
    "start_time": "2023-01-10T09:42:04.390Z"
   },
   {
    "duration": 30,
    "start_time": "2023-01-10T09:42:42.839Z"
   },
   {
    "duration": 34,
    "start_time": "2023-01-10T09:49:01.724Z"
   },
   {
    "duration": 29,
    "start_time": "2023-01-10T09:49:50.253Z"
   },
   {
    "duration": 141,
    "start_time": "2023-01-10T09:49:56.622Z"
   },
   {
    "duration": 2371,
    "start_time": "2023-01-10T09:49:56.765Z"
   },
   {
    "duration": 16,
    "start_time": "2023-01-10T09:49:59.138Z"
   },
   {
    "duration": 98,
    "start_time": "2023-01-10T09:49:59.157Z"
   },
   {
    "duration": 156,
    "start_time": "2023-01-10T09:51:08.396Z"
   },
   {
    "duration": 2123,
    "start_time": "2023-01-10T09:51:08.554Z"
   },
   {
    "duration": 9,
    "start_time": "2023-01-10T09:51:10.678Z"
   },
   {
    "duration": 56,
    "start_time": "2023-01-10T09:51:10.689Z"
   },
   {
    "duration": 140,
    "start_time": "2023-01-10T09:53:30.712Z"
   },
   {
    "duration": 2375,
    "start_time": "2023-01-10T09:53:30.854Z"
   },
   {
    "duration": 10,
    "start_time": "2023-01-10T09:53:33.231Z"
   },
   {
    "duration": 1276,
    "start_time": "2023-01-10T09:53:33.243Z"
   },
   {
    "duration": 650,
    "start_time": "2023-01-10T14:40:31.008Z"
   },
   {
    "duration": 2571,
    "start_time": "2023-01-10T14:40:31.660Z"
   },
   {
    "duration": 12,
    "start_time": "2023-01-10T14:40:34.233Z"
   },
   {
    "duration": 41,
    "start_time": "2023-01-10T14:40:34.247Z"
   },
   {
    "duration": 101,
    "start_time": "2023-01-10T14:41:25.566Z"
   },
   {
    "duration": 216,
    "start_time": "2023-01-10T14:41:31.622Z"
   },
   {
    "duration": 2064,
    "start_time": "2023-01-10T14:41:31.841Z"
   },
   {
    "duration": 12,
    "start_time": "2023-01-10T14:41:33.906Z"
   },
   {
    "duration": 59,
    "start_time": "2023-01-10T14:41:33.920Z"
   },
   {
    "duration": 45,
    "start_time": "2023-01-10T14:44:34.718Z"
   },
   {
    "duration": 163,
    "start_time": "2023-01-10T14:44:37.886Z"
   },
   {
    "duration": 2352,
    "start_time": "2023-01-10T14:44:38.051Z"
   },
   {
    "duration": 10,
    "start_time": "2023-01-10T14:44:40.405Z"
   },
   {
    "duration": 64,
    "start_time": "2023-01-10T14:44:40.418Z"
   },
   {
    "duration": 168,
    "start_time": "2023-01-10T14:45:02.309Z"
   },
   {
    "duration": 2172,
    "start_time": "2023-01-10T14:45:02.479Z"
   },
   {
    "duration": 17,
    "start_time": "2023-01-10T14:45:04.658Z"
   },
   {
    "duration": 93,
    "start_time": "2023-01-10T14:45:04.678Z"
   },
   {
    "duration": 162,
    "start_time": "2023-01-10T14:45:25.000Z"
   },
   {
    "duration": 2301,
    "start_time": "2023-01-10T14:45:25.164Z"
   },
   {
    "duration": 16,
    "start_time": "2023-01-10T14:45:27.468Z"
   },
   {
    "duration": 81,
    "start_time": "2023-01-10T14:45:27.487Z"
   },
   {
    "duration": 192,
    "start_time": "2023-01-10T14:45:49.289Z"
   },
   {
    "duration": 2543,
    "start_time": "2023-01-10T14:45:49.484Z"
   },
   {
    "duration": 20,
    "start_time": "2023-01-10T14:45:52.029Z"
   },
   {
    "duration": 97,
    "start_time": "2023-01-10T14:45:52.051Z"
   },
   {
    "duration": 138,
    "start_time": "2023-01-10T14:46:40.087Z"
   },
   {
    "duration": 2110,
    "start_time": "2023-01-10T14:46:40.227Z"
   },
   {
    "duration": 13,
    "start_time": "2023-01-10T14:46:42.339Z"
   },
   {
    "duration": 320,
    "start_time": "2023-01-10T14:46:42.355Z"
   },
   {
    "duration": 1082,
    "start_time": "2023-01-10T19:01:30.644Z"
   },
   {
    "duration": 2114,
    "start_time": "2023-01-10T19:01:31.728Z"
   },
   {
    "duration": 9,
    "start_time": "2023-01-10T19:01:33.844Z"
   },
   {
    "duration": 51,
    "start_time": "2023-01-10T19:01:33.855Z"
   },
   {
    "duration": 169,
    "start_time": "2023-01-10T19:06:24.874Z"
   },
   {
    "duration": 2149,
    "start_time": "2023-01-10T19:06:25.045Z"
   },
   {
    "duration": 15,
    "start_time": "2023-01-10T19:06:27.199Z"
   },
   {
    "duration": 666,
    "start_time": "2023-01-10T19:06:27.217Z"
   },
   {
    "duration": 129,
    "start_time": "2023-01-10T19:07:00.109Z"
   },
   {
    "duration": 1932,
    "start_time": "2023-01-10T19:07:00.240Z"
   },
   {
    "duration": 12,
    "start_time": "2023-01-10T19:07:02.174Z"
   },
   {
    "duration": 286,
    "start_time": "2023-01-10T19:07:02.188Z"
   },
   {
    "duration": 123,
    "start_time": "2023-01-10T19:07:58.117Z"
   },
   {
    "duration": 1847,
    "start_time": "2023-01-10T19:07:58.242Z"
   },
   {
    "duration": 10,
    "start_time": "2023-01-10T19:08:00.098Z"
   },
   {
    "duration": 417,
    "start_time": "2023-01-10T19:08:00.110Z"
   },
   {
    "duration": 126,
    "start_time": "2023-01-10T19:08:26.798Z"
   },
   {
    "duration": 2027,
    "start_time": "2023-01-10T19:08:26.928Z"
   },
   {
    "duration": 12,
    "start_time": "2023-01-10T19:08:28.958Z"
   },
   {
    "duration": 284,
    "start_time": "2023-01-10T19:08:28.973Z"
   },
   {
    "duration": 153,
    "start_time": "2023-01-10T19:13:56.496Z"
   },
   {
    "duration": 2213,
    "start_time": "2023-01-10T19:13:56.650Z"
   },
   {
    "duration": 10,
    "start_time": "2023-01-10T19:13:58.865Z"
   },
   {
    "duration": 82,
    "start_time": "2023-01-10T19:13:58.877Z"
   },
   {
    "duration": 143,
    "start_time": "2023-01-10T19:14:19.369Z"
   },
   {
    "duration": 1927,
    "start_time": "2023-01-10T19:14:19.514Z"
   },
   {
    "duration": 11,
    "start_time": "2023-01-10T19:14:21.443Z"
   },
   {
    "duration": 273,
    "start_time": "2023-01-10T19:14:21.456Z"
   },
   {
    "duration": 214,
    "start_time": "2023-01-10T19:34:58.939Z"
   },
   {
    "duration": 224,
    "start_time": "2023-01-10T19:37:58.520Z"
   },
   {
    "duration": 743,
    "start_time": "2023-01-10T19:38:29.515Z"
   },
   {
    "duration": 48,
    "start_time": "2023-01-10T19:38:57.703Z"
   },
   {
    "duration": 27,
    "start_time": "2023-01-10T19:39:13.348Z"
   },
   {
    "duration": 193,
    "start_time": "2023-01-10T19:41:31.256Z"
   },
   {
    "duration": 228,
    "start_time": "2023-01-10T19:42:28.107Z"
   },
   {
    "duration": 26,
    "start_time": "2023-01-10T19:43:00.197Z"
   },
   {
    "duration": 200,
    "start_time": "2023-01-10T19:44:31.763Z"
   },
   {
    "duration": 28,
    "start_time": "2023-01-10T19:47:03.749Z"
   },
   {
    "duration": 26,
    "start_time": "2023-01-10T19:47:27.724Z"
   },
   {
    "duration": 119,
    "start_time": "2023-01-10T19:47:32.654Z"
   },
   {
    "duration": 1835,
    "start_time": "2023-01-10T19:47:32.774Z"
   },
   {
    "duration": 10,
    "start_time": "2023-01-10T19:47:34.613Z"
   },
   {
    "duration": 37,
    "start_time": "2023-01-10T19:47:34.625Z"
   },
   {
    "duration": 181,
    "start_time": "2023-01-10T19:47:34.663Z"
   },
   {
    "duration": 210,
    "start_time": "2023-01-10T19:48:22.876Z"
   },
   {
    "duration": 239,
    "start_time": "2023-01-10T19:49:00.822Z"
   },
   {
    "duration": 21,
    "start_time": "2023-01-10T19:50:09.794Z"
   },
   {
    "duration": 9,
    "start_time": "2023-01-10T19:54:27.720Z"
   },
   {
    "duration": 415,
    "start_time": "2023-01-10T19:55:04.359Z"
   },
   {
    "duration": 45,
    "start_time": "2023-01-10T19:59:39.233Z"
   },
   {
    "duration": 31,
    "start_time": "2023-01-10T19:59:59.934Z"
   },
   {
    "duration": 36,
    "start_time": "2023-01-10T20:00:29.679Z"
   },
   {
    "duration": 128,
    "start_time": "2023-01-10T20:00:33.439Z"
   },
   {
    "duration": 2063,
    "start_time": "2023-01-10T20:00:33.569Z"
   },
   {
    "duration": 12,
    "start_time": "2023-01-10T20:00:35.634Z"
   },
   {
    "duration": 313,
    "start_time": "2023-01-10T20:00:35.649Z"
   },
   {
    "duration": 377,
    "start_time": "2023-01-10T20:00:35.964Z"
   },
   {
    "duration": 131,
    "start_time": "2023-01-10T20:02:30.585Z"
   },
   {
    "duration": 1911,
    "start_time": "2023-01-10T20:02:30.718Z"
   },
   {
    "duration": 11,
    "start_time": "2023-01-10T20:02:32.632Z"
   },
   {
    "duration": 56,
    "start_time": "2023-01-10T20:02:32.645Z"
   },
   {
    "duration": 671,
    "start_time": "2023-01-10T20:02:32.703Z"
   },
   {
    "duration": 20,
    "start_time": "2023-01-10T20:03:00.361Z"
   },
   {
    "duration": 36,
    "start_time": "2023-01-10T20:03:35.014Z"
   },
   {
    "duration": 30,
    "start_time": "2023-01-10T20:04:58.049Z"
   },
   {
    "duration": 115,
    "start_time": "2023-01-10T20:05:26.729Z"
   },
   {
    "duration": 1757,
    "start_time": "2023-01-10T20:05:26.845Z"
   },
   {
    "duration": 10,
    "start_time": "2023-01-10T20:05:28.604Z"
   },
   {
    "duration": 33,
    "start_time": "2023-01-10T20:05:28.616Z"
   },
   {
    "duration": 18,
    "start_time": "2023-01-10T20:05:28.651Z"
   },
   {
    "duration": 118,
    "start_time": "2023-01-10T20:06:22.627Z"
   },
   {
    "duration": 2162,
    "start_time": "2023-01-10T20:06:22.747Z"
   },
   {
    "duration": 11,
    "start_time": "2023-01-10T20:06:24.912Z"
   },
   {
    "duration": 38,
    "start_time": "2023-01-10T20:06:24.925Z"
   },
   {
    "duration": 39,
    "start_time": "2023-01-10T20:06:24.965Z"
   },
   {
    "duration": 23,
    "start_time": "2023-01-10T20:07:37.432Z"
   },
   {
    "duration": 22,
    "start_time": "2023-01-10T20:08:17.655Z"
   },
   {
    "duration": 115,
    "start_time": "2023-01-10T20:11:43.191Z"
   },
   {
    "duration": 1782,
    "start_time": "2023-01-10T20:11:43.307Z"
   },
   {
    "duration": 11,
    "start_time": "2023-01-10T20:11:45.090Z"
   },
   {
    "duration": 38,
    "start_time": "2023-01-10T20:11:45.103Z"
   },
   {
    "duration": 29,
    "start_time": "2023-01-10T20:11:45.142Z"
   },
   {
    "duration": 7,
    "start_time": "2023-01-10T20:13:56.465Z"
   },
   {
    "duration": 5,
    "start_time": "2023-01-10T20:16:14.125Z"
   },
   {
    "duration": 6,
    "start_time": "2023-01-10T20:16:25.484Z"
   },
   {
    "duration": 52,
    "start_time": "2023-01-11T08:31:56.756Z"
   },
   {
    "duration": 752,
    "start_time": "2023-01-11T08:56:23.867Z"
   },
   {
    "duration": 2987,
    "start_time": "2023-01-11T08:56:24.622Z"
   },
   {
    "duration": 11,
    "start_time": "2023-01-11T08:56:27.611Z"
   },
   {
    "duration": 44,
    "start_time": "2023-01-11T08:56:27.625Z"
   },
   {
    "duration": 19,
    "start_time": "2023-01-11T08:56:27.671Z"
   },
   {
    "duration": 13,
    "start_time": "2023-01-11T08:56:27.691Z"
   },
   {
    "duration": 53,
    "start_time": "2023-01-11T09:00:59.758Z"
   },
   {
    "duration": 13,
    "start_time": "2023-01-11T09:01:11.306Z"
   },
   {
    "duration": 12,
    "start_time": "2023-01-11T09:02:48.472Z"
   },
   {
    "duration": 664,
    "start_time": "2023-01-11T12:39:09.613Z"
   },
   {
    "duration": 2772,
    "start_time": "2023-01-11T12:39:10.280Z"
   },
   {
    "duration": 13,
    "start_time": "2023-01-11T12:39:13.055Z"
   },
   {
    "duration": 51,
    "start_time": "2023-01-11T12:39:13.070Z"
   },
   {
    "duration": 36,
    "start_time": "2023-01-11T12:39:13.123Z"
   },
   {
    "duration": 10,
    "start_time": "2023-01-11T12:39:13.161Z"
   },
   {
    "duration": 164,
    "start_time": "2023-01-11T12:39:41.463Z"
   },
   {
    "duration": 2485,
    "start_time": "2023-01-11T12:39:41.629Z"
   },
   {
    "duration": 11,
    "start_time": "2023-01-11T12:39:44.116Z"
   },
   {
    "duration": 75,
    "start_time": "2023-01-11T12:39:44.145Z"
   },
   {
    "duration": 43,
    "start_time": "2023-01-11T12:39:44.223Z"
   },
   {
    "duration": 26,
    "start_time": "2023-01-11T12:39:44.269Z"
   },
   {
    "duration": 8,
    "start_time": "2023-01-11T12:39:53.021Z"
   },
   {
    "duration": 19,
    "start_time": "2023-01-11T12:44:28.436Z"
   },
   {
    "duration": 12,
    "start_time": "2023-01-11T12:45:19.304Z"
   },
   {
    "duration": 128,
    "start_time": "2023-01-11T13:32:56.443Z"
   },
   {
    "duration": 2084,
    "start_time": "2023-01-11T13:32:56.573Z"
   },
   {
    "duration": 11,
    "start_time": "2023-01-11T13:32:58.659Z"
   },
   {
    "duration": 213,
    "start_time": "2023-01-11T13:32:58.671Z"
   },
   {
    "duration": 28,
    "start_time": "2023-01-11T13:32:58.887Z"
   },
   {
    "duration": 39,
    "start_time": "2023-01-11T13:32:58.917Z"
   },
   {
    "duration": 10,
    "start_time": "2023-01-11T13:33:17.487Z"
   },
   {
    "duration": 21,
    "start_time": "2023-01-11T13:35:33.391Z"
   },
   {
    "duration": 36,
    "start_time": "2023-01-11T13:40:44.255Z"
   },
   {
    "duration": 39,
    "start_time": "2023-01-11T13:42:47.177Z"
   },
   {
    "duration": 25,
    "start_time": "2023-01-11T13:46:17.201Z"
   },
   {
    "duration": 28,
    "start_time": "2023-01-11T13:50:37.284Z"
   },
   {
    "duration": 156,
    "start_time": "2023-01-11T13:50:48.286Z"
   },
   {
    "duration": 2337,
    "start_time": "2023-01-11T13:50:48.445Z"
   },
   {
    "duration": 18,
    "start_time": "2023-01-11T13:50:50.784Z"
   },
   {
    "duration": 64,
    "start_time": "2023-01-11T13:50:50.805Z"
   },
   {
    "duration": 21,
    "start_time": "2023-01-11T13:50:50.871Z"
   },
   {
    "duration": 44,
    "start_time": "2023-01-11T13:50:50.895Z"
   },
   {
    "duration": 147,
    "start_time": "2023-01-11T13:52:26.063Z"
   },
   {
    "duration": 2943,
    "start_time": "2023-01-11T13:52:26.213Z"
   },
   {
    "duration": 18,
    "start_time": "2023-01-11T13:52:29.158Z"
   },
   {
    "duration": 77,
    "start_time": "2023-01-11T13:52:29.179Z"
   },
   {
    "duration": 37,
    "start_time": "2023-01-11T13:52:29.259Z"
   },
   {
    "duration": 101,
    "start_time": "2023-01-11T13:52:29.301Z"
   },
   {
    "duration": 29,
    "start_time": "2023-01-11T13:58:29.711Z"
   },
   {
    "duration": 27,
    "start_time": "2023-01-11T13:58:50.995Z"
   },
   {
    "duration": 36,
    "start_time": "2023-01-11T13:59:04.463Z"
   },
   {
    "duration": 31,
    "start_time": "2023-01-11T13:59:25.610Z"
   },
   {
    "duration": 31,
    "start_time": "2023-01-11T13:59:57.856Z"
   },
   {
    "duration": 36,
    "start_time": "2023-01-11T14:00:21.125Z"
   },
   {
    "duration": 139,
    "start_time": "2023-01-11T14:01:15.521Z"
   },
   {
    "duration": 2132,
    "start_time": "2023-01-11T14:01:15.662Z"
   },
   {
    "duration": 11,
    "start_time": "2023-01-11T14:01:17.796Z"
   },
   {
    "duration": 273,
    "start_time": "2023-01-11T14:01:17.809Z"
   },
   {
    "duration": 20,
    "start_time": "2023-01-11T14:01:18.084Z"
   },
   {
    "duration": 51,
    "start_time": "2023-01-11T14:01:18.106Z"
   },
   {
    "duration": 154,
    "start_time": "2023-01-11T14:09:32.515Z"
   },
   {
    "duration": 2198,
    "start_time": "2023-01-11T14:09:32.671Z"
   },
   {
    "duration": 10,
    "start_time": "2023-01-11T14:09:34.871Z"
   },
   {
    "duration": 38,
    "start_time": "2023-01-11T14:09:34.883Z"
   },
   {
    "duration": 29,
    "start_time": "2023-01-11T14:09:34.946Z"
   },
   {
    "duration": 24,
    "start_time": "2023-01-11T14:09:34.977Z"
   },
   {
    "duration": 100,
    "start_time": "2023-01-11T14:09:35.003Z"
   },
   {
    "duration": 12,
    "start_time": "2023-01-11T14:09:54.678Z"
   },
   {
    "duration": 9,
    "start_time": "2023-01-11T14:10:07.097Z"
   },
   {
    "duration": 10,
    "start_time": "2023-01-11T14:10:41.464Z"
   },
   {
    "duration": 48,
    "start_time": "2023-01-11T18:51:27.380Z"
   },
   {
    "duration": 594,
    "start_time": "2023-01-11T18:51:31.949Z"
   },
   {
    "duration": 2405,
    "start_time": "2023-01-11T18:51:32.545Z"
   },
   {
    "duration": 12,
    "start_time": "2023-01-11T18:51:34.951Z"
   },
   {
    "duration": 42,
    "start_time": "2023-01-11T18:51:34.965Z"
   },
   {
    "duration": 24,
    "start_time": "2023-01-11T18:51:35.009Z"
   },
   {
    "duration": 49,
    "start_time": "2023-01-11T18:51:35.035Z"
   },
   {
    "duration": 7,
    "start_time": "2023-01-11T18:51:35.087Z"
   },
   {
    "duration": 60,
    "start_time": "2023-01-11T18:52:07.215Z"
   },
   {
    "duration": 4,
    "start_time": "2023-01-11T19:02:23.915Z"
   },
   {
    "duration": 145,
    "start_time": "2023-01-11T19:02:30.255Z"
   },
   {
    "duration": 1968,
    "start_time": "2023-01-11T19:02:30.403Z"
   },
   {
    "duration": 10,
    "start_time": "2023-01-11T19:02:32.378Z"
   },
   {
    "duration": 38,
    "start_time": "2023-01-11T19:02:32.389Z"
   },
   {
    "duration": 18,
    "start_time": "2023-01-11T19:02:32.429Z"
   },
   {
    "duration": 43,
    "start_time": "2023-01-11T19:02:32.449Z"
   },
   {
    "duration": 30,
    "start_time": "2023-01-11T19:02:32.493Z"
   },
   {
    "duration": 40,
    "start_time": "2023-01-11T19:02:48.072Z"
   },
   {
    "duration": 7,
    "start_time": "2023-01-11T19:03:02.795Z"
   },
   {
    "duration": 8,
    "start_time": "2023-01-11T19:03:53.361Z"
   },
   {
    "duration": 5,
    "start_time": "2023-01-11T19:04:01.357Z"
   },
   {
    "duration": 6,
    "start_time": "2023-01-11T19:08:31.756Z"
   },
   {
    "duration": 10,
    "start_time": "2023-01-11T19:18:13.010Z"
   },
   {
    "duration": 123,
    "start_time": "2023-01-11T19:18:23.572Z"
   },
   {
    "duration": 2058,
    "start_time": "2023-01-11T19:18:23.697Z"
   },
   {
    "duration": 26,
    "start_time": "2023-01-11T19:18:25.757Z"
   },
   {
    "duration": 40,
    "start_time": "2023-01-11T19:18:25.784Z"
   },
   {
    "duration": 18,
    "start_time": "2023-01-11T19:18:25.826Z"
   },
   {
    "duration": 48,
    "start_time": "2023-01-11T19:18:25.846Z"
   },
   {
    "duration": 8,
    "start_time": "2023-01-11T19:18:25.895Z"
   },
   {
    "duration": 16,
    "start_time": "2023-01-11T19:19:38.541Z"
   },
   {
    "duration": 123,
    "start_time": "2023-01-11T19:19:49.463Z"
   },
   {
    "duration": 1907,
    "start_time": "2023-01-11T19:19:49.587Z"
   },
   {
    "duration": 10,
    "start_time": "2023-01-11T19:19:51.496Z"
   },
   {
    "duration": 183,
    "start_time": "2023-01-11T19:19:51.509Z"
   },
   {
    "duration": 19,
    "start_time": "2023-01-11T19:19:51.694Z"
   },
   {
    "duration": 30,
    "start_time": "2023-01-11T19:19:51.715Z"
   },
   {
    "duration": 7,
    "start_time": "2023-01-11T19:19:51.747Z"
   },
   {
    "duration": 1154,
    "start_time": "2023-01-11T19:25:32.376Z"
   },
   {
    "duration": 1388,
    "start_time": "2023-01-11T19:25:48.951Z"
   },
   {
    "duration": 124,
    "start_time": "2023-01-11T19:25:53.019Z"
   },
   {
    "duration": 1786,
    "start_time": "2023-01-11T19:25:53.145Z"
   },
   {
    "duration": 9,
    "start_time": "2023-01-11T19:25:54.933Z"
   },
   {
    "duration": 44,
    "start_time": "2023-01-11T19:25:54.943Z"
   },
   {
    "duration": 19,
    "start_time": "2023-01-11T19:25:54.989Z"
   },
   {
    "duration": 26,
    "start_time": "2023-01-11T19:25:55.009Z"
   },
   {
    "duration": 1086,
    "start_time": "2023-01-11T19:25:55.037Z"
   },
   {
    "duration": 21,
    "start_time": "2023-01-11T19:26:09.847Z"
   },
   {
    "duration": 30,
    "start_time": "2023-01-11T19:29:35.656Z"
   },
   {
    "duration": 24,
    "start_time": "2023-01-11T19:29:45.582Z"
   },
   {
    "duration": 57,
    "start_time": "2023-01-11T19:37:23.646Z"
   },
   {
    "duration": 124,
    "start_time": "2023-01-11T19:39:53.109Z"
   },
   {
    "duration": 2024,
    "start_time": "2023-01-11T19:39:53.235Z"
   },
   {
    "duration": 19,
    "start_time": "2023-01-11T19:39:55.261Z"
   },
   {
    "duration": 38,
    "start_time": "2023-01-11T19:39:55.282Z"
   },
   {
    "duration": 19,
    "start_time": "2023-01-11T19:39:55.321Z"
   },
   {
    "duration": 56,
    "start_time": "2023-01-11T19:39:55.341Z"
   },
   {
    "duration": 29,
    "start_time": "2023-01-11T19:39:55.398Z"
   },
   {
    "duration": 30,
    "start_time": "2023-01-11T19:44:48.416Z"
   },
   {
    "duration": 114,
    "start_time": "2023-01-11T19:45:17.123Z"
   },
   {
    "duration": 1732,
    "start_time": "2023-01-11T19:45:17.239Z"
   },
   {
    "duration": 11,
    "start_time": "2023-01-11T19:45:18.973Z"
   },
   {
    "duration": 251,
    "start_time": "2023-01-11T19:45:18.986Z"
   },
   {
    "duration": 17,
    "start_time": "2023-01-11T19:45:19.238Z"
   },
   {
    "duration": 47,
    "start_time": "2023-01-11T19:45:19.256Z"
   },
   {
    "duration": 25,
    "start_time": "2023-01-11T19:45:19.305Z"
   },
   {
    "duration": 6,
    "start_time": "2023-01-11T19:45:19.331Z"
   },
   {
    "duration": 8,
    "start_time": "2023-01-11T19:47:57.453Z"
   },
   {
    "duration": 8,
    "start_time": "2023-01-11T19:51:29.560Z"
   },
   {
    "duration": 8,
    "start_time": "2023-01-11T19:51:51.827Z"
   },
   {
    "duration": 9,
    "start_time": "2023-01-11T19:54:17.596Z"
   },
   {
    "duration": 15,
    "start_time": "2023-01-11T19:54:37.382Z"
   },
   {
    "duration": 21,
    "start_time": "2023-01-11T19:57:00.158Z"
   },
   {
    "duration": 16,
    "start_time": "2023-01-11T19:57:09.673Z"
   },
   {
    "duration": 9,
    "start_time": "2023-01-11T20:02:33.184Z"
   },
   {
    "duration": 7,
    "start_time": "2023-01-11T20:03:08.358Z"
   },
   {
    "duration": 7,
    "start_time": "2023-01-11T20:03:13.147Z"
   },
   {
    "duration": 13,
    "start_time": "2023-01-11T20:03:43.781Z"
   },
   {
    "duration": 113,
    "start_time": "2023-01-11T20:03:47.846Z"
   },
   {
    "duration": 1739,
    "start_time": "2023-01-11T20:03:47.961Z"
   },
   {
    "duration": 11,
    "start_time": "2023-01-11T20:03:49.702Z"
   },
   {
    "duration": 34,
    "start_time": "2023-01-11T20:03:49.715Z"
   },
   {
    "duration": 36,
    "start_time": "2023-01-11T20:03:49.751Z"
   },
   {
    "duration": 36,
    "start_time": "2023-01-11T20:03:49.789Z"
   },
   {
    "duration": 30,
    "start_time": "2023-01-11T20:03:49.836Z"
   },
   {
    "duration": 8,
    "start_time": "2023-01-11T20:03:49.878Z"
   },
   {
    "duration": 7,
    "start_time": "2023-01-11T20:03:49.887Z"
   },
   {
    "duration": 8,
    "start_time": "2023-01-11T20:03:49.896Z"
   },
   {
    "duration": 8,
    "start_time": "2023-01-11T20:03:49.906Z"
   },
   {
    "duration": 6,
    "start_time": "2023-01-11T20:03:49.916Z"
   },
   {
    "duration": 15,
    "start_time": "2023-01-11T20:03:49.923Z"
   },
   {
    "duration": 44,
    "start_time": "2023-01-11T20:03:49.940Z"
   },
   {
    "duration": 7,
    "start_time": "2023-01-11T20:03:49.985Z"
   },
   {
    "duration": 18,
    "start_time": "2023-01-11T20:03:49.994Z"
   },
   {
    "duration": 125,
    "start_time": "2023-01-11T20:34:00.357Z"
   },
   {
    "duration": 1779,
    "start_time": "2023-01-11T20:34:00.484Z"
   },
   {
    "duration": 18,
    "start_time": "2023-01-11T20:34:02.265Z"
   },
   {
    "duration": 270,
    "start_time": "2023-01-11T20:34:02.284Z"
   },
   {
    "duration": 37,
    "start_time": "2023-01-11T20:34:02.556Z"
   },
   {
    "duration": 41,
    "start_time": "2023-01-11T20:34:02.594Z"
   },
   {
    "duration": 27,
    "start_time": "2023-01-11T20:34:02.637Z"
   },
   {
    "duration": 13,
    "start_time": "2023-01-11T20:34:02.665Z"
   },
   {
    "duration": 20,
    "start_time": "2023-01-11T20:34:02.680Z"
   },
   {
    "duration": 25,
    "start_time": "2023-01-11T20:34:02.701Z"
   },
   {
    "duration": 34,
    "start_time": "2023-01-11T20:34:02.727Z"
   },
   {
    "duration": 27,
    "start_time": "2023-01-11T20:34:02.763Z"
   },
   {
    "duration": 50,
    "start_time": "2023-01-11T20:34:02.792Z"
   },
   {
    "duration": 21,
    "start_time": "2023-01-11T20:34:02.845Z"
   },
   {
    "duration": 47,
    "start_time": "2023-01-11T20:34:02.867Z"
   },
   {
    "duration": 29,
    "start_time": "2023-01-11T20:34:02.915Z"
   },
   {
    "duration": 54,
    "start_time": "2023-01-11T20:34:02.946Z"
   },
   {
    "duration": 15,
    "start_time": "2023-01-11T20:34:38.951Z"
   },
   {
    "duration": 124,
    "start_time": "2023-01-11T20:34:50.563Z"
   },
   {
    "duration": 1737,
    "start_time": "2023-01-11T20:34:50.689Z"
   },
   {
    "duration": 9,
    "start_time": "2023-01-11T20:34:52.428Z"
   },
   {
    "duration": 48,
    "start_time": "2023-01-11T20:34:52.439Z"
   },
   {
    "duration": 18,
    "start_time": "2023-01-11T20:34:52.490Z"
   },
   {
    "duration": 42,
    "start_time": "2023-01-11T20:34:52.509Z"
   },
   {
    "duration": 37,
    "start_time": "2023-01-11T20:34:52.553Z"
   },
   {
    "duration": 10,
    "start_time": "2023-01-11T20:34:52.592Z"
   },
   {
    "duration": 14,
    "start_time": "2023-01-11T20:34:52.604Z"
   },
   {
    "duration": 9,
    "start_time": "2023-01-11T20:34:52.620Z"
   },
   {
    "duration": 7,
    "start_time": "2023-01-11T20:34:52.631Z"
   },
   {
    "duration": 6,
    "start_time": "2023-01-11T20:34:52.640Z"
   },
   {
    "duration": 41,
    "start_time": "2023-01-11T20:34:52.647Z"
   },
   {
    "duration": 8,
    "start_time": "2023-01-11T20:34:52.691Z"
   },
   {
    "duration": 7,
    "start_time": "2023-01-11T20:34:52.701Z"
   },
   {
    "duration": 13,
    "start_time": "2023-01-11T20:34:52.710Z"
   },
   {
    "duration": 8,
    "start_time": "2023-01-11T20:34:52.725Z"
   },
   {
    "duration": 23,
    "start_time": "2023-01-11T20:36:19.899Z"
   },
   {
    "duration": 125,
    "start_time": "2023-01-11T20:36:33.657Z"
   },
   {
    "duration": 1822,
    "start_time": "2023-01-11T20:36:33.784Z"
   },
   {
    "duration": 10,
    "start_time": "2023-01-11T20:36:35.608Z"
   },
   {
    "duration": 35,
    "start_time": "2023-01-11T20:36:35.620Z"
   },
   {
    "duration": 37,
    "start_time": "2023-01-11T20:36:35.657Z"
   },
   {
    "duration": 35,
    "start_time": "2023-01-11T20:36:35.695Z"
   },
   {
    "duration": 48,
    "start_time": "2023-01-11T20:36:35.731Z"
   },
   {
    "duration": 7,
    "start_time": "2023-01-11T20:36:35.781Z"
   },
   {
    "duration": 6,
    "start_time": "2023-01-11T20:36:35.790Z"
   },
   {
    "duration": 9,
    "start_time": "2023-01-11T20:36:35.798Z"
   },
   {
    "duration": 8,
    "start_time": "2023-01-11T20:36:35.808Z"
   },
   {
    "duration": 8,
    "start_time": "2023-01-11T20:36:35.817Z"
   },
   {
    "duration": 22,
    "start_time": "2023-01-11T20:36:35.826Z"
   },
   {
    "duration": 31,
    "start_time": "2023-01-11T20:36:35.850Z"
   },
   {
    "duration": 7,
    "start_time": "2023-01-11T20:36:35.882Z"
   },
   {
    "duration": 19,
    "start_time": "2023-01-11T20:36:35.891Z"
   },
   {
    "duration": 7,
    "start_time": "2023-01-11T20:36:35.912Z"
   },
   {
    "duration": 24,
    "start_time": "2023-01-11T20:36:35.920Z"
   },
   {
    "duration": 8,
    "start_time": "2023-01-11T20:37:09.073Z"
   },
   {
    "duration": 121,
    "start_time": "2023-01-11T20:37:16.706Z"
   },
   {
    "duration": 2034,
    "start_time": "2023-01-11T20:37:16.829Z"
   },
   {
    "duration": 16,
    "start_time": "2023-01-11T20:37:18.865Z"
   },
   {
    "duration": 34,
    "start_time": "2023-01-11T20:37:18.883Z"
   },
   {
    "duration": 17,
    "start_time": "2023-01-11T20:37:18.920Z"
   },
   {
    "duration": 59,
    "start_time": "2023-01-11T20:37:18.939Z"
   },
   {
    "duration": 35,
    "start_time": "2023-01-11T20:37:19.000Z"
   },
   {
    "duration": 13,
    "start_time": "2023-01-11T20:37:19.037Z"
   },
   {
    "duration": 26,
    "start_time": "2023-01-11T20:37:19.053Z"
   },
   {
    "duration": 27,
    "start_time": "2023-01-11T20:37:19.081Z"
   },
   {
    "duration": 21,
    "start_time": "2023-01-11T20:37:19.111Z"
   },
   {
    "duration": 8,
    "start_time": "2023-01-11T20:37:19.134Z"
   },
   {
    "duration": 22,
    "start_time": "2023-01-11T20:37:19.144Z"
   },
   {
    "duration": 10,
    "start_time": "2023-01-11T20:37:19.170Z"
   },
   {
    "duration": 8,
    "start_time": "2023-01-11T20:37:19.184Z"
   },
   {
    "duration": 23,
    "start_time": "2023-01-11T20:37:19.194Z"
   },
   {
    "duration": 12,
    "start_time": "2023-01-11T20:37:19.219Z"
   },
   {
    "duration": 14,
    "start_time": "2023-01-11T20:37:19.233Z"
   },
   {
    "duration": 807,
    "start_time": "2023-01-12T08:37:14.903Z"
   },
   {
    "duration": 2287,
    "start_time": "2023-01-12T08:37:15.712Z"
   },
   {
    "duration": 12,
    "start_time": "2023-01-12T08:37:18.001Z"
   },
   {
    "duration": 36,
    "start_time": "2023-01-12T08:37:18.014Z"
   },
   {
    "duration": 17,
    "start_time": "2023-01-12T08:37:18.052Z"
   },
   {
    "duration": 50,
    "start_time": "2023-01-12T08:37:18.070Z"
   },
   {
    "duration": 31,
    "start_time": "2023-01-12T08:37:18.122Z"
   },
   {
    "duration": 8,
    "start_time": "2023-01-12T08:37:18.154Z"
   },
   {
    "duration": 28,
    "start_time": "2023-01-12T08:37:18.164Z"
   },
   {
    "duration": 21,
    "start_time": "2023-01-12T08:37:18.194Z"
   },
   {
    "duration": 10,
    "start_time": "2023-01-12T08:37:18.216Z"
   },
   {
    "duration": 8,
    "start_time": "2023-01-12T08:37:18.227Z"
   },
   {
    "duration": 15,
    "start_time": "2023-01-12T08:37:18.236Z"
   },
   {
    "duration": 8,
    "start_time": "2023-01-12T08:37:18.254Z"
   },
   {
    "duration": 9,
    "start_time": "2023-01-12T08:37:18.263Z"
   },
   {
    "duration": 50,
    "start_time": "2023-01-12T08:37:18.274Z"
   },
   {
    "duration": 9,
    "start_time": "2023-01-12T08:37:18.325Z"
   },
   {
    "duration": 11,
    "start_time": "2023-01-12T08:37:18.336Z"
   },
   {
    "duration": 5,
    "start_time": "2023-01-12T08:37:18.348Z"
   },
   {
    "duration": 94,
    "start_time": "2023-01-12T08:37:18.354Z"
   },
   {
    "duration": 0,
    "start_time": "2023-01-12T08:37:18.451Z"
   },
   {
    "duration": 13,
    "start_time": "2023-01-12T08:40:35.466Z"
   },
   {
    "duration": 18,
    "start_time": "2023-01-12T08:41:37.133Z"
   },
   {
    "duration": 4,
    "start_time": "2023-01-12T08:47:15.529Z"
   },
   {
    "duration": 4,
    "start_time": "2023-01-12T08:47:22.332Z"
   },
   {
    "duration": 5,
    "start_time": "2023-01-12T08:47:40.356Z"
   },
   {
    "duration": 133,
    "start_time": "2023-01-12T08:47:48.105Z"
   },
   {
    "duration": 2060,
    "start_time": "2023-01-12T08:47:48.240Z"
   },
   {
    "duration": 15,
    "start_time": "2023-01-12T08:47:50.302Z"
   },
   {
    "duration": 67,
    "start_time": "2023-01-12T08:47:50.319Z"
   },
   {
    "duration": 55,
    "start_time": "2023-01-12T08:47:50.388Z"
   },
   {
    "duration": 73,
    "start_time": "2023-01-12T08:47:50.445Z"
   },
   {
    "duration": 59,
    "start_time": "2023-01-12T08:47:50.519Z"
   },
   {
    "duration": 89,
    "start_time": "2023-01-12T08:47:50.580Z"
   },
   {
    "duration": 76,
    "start_time": "2023-01-12T08:47:50.671Z"
   },
   {
    "duration": 21,
    "start_time": "2023-01-12T08:47:50.749Z"
   },
   {
    "duration": 20,
    "start_time": "2023-01-12T08:47:50.772Z"
   },
   {
    "duration": 19,
    "start_time": "2023-01-12T08:47:50.794Z"
   },
   {
    "duration": 35,
    "start_time": "2023-01-12T08:47:50.815Z"
   },
   {
    "duration": 8,
    "start_time": "2023-01-12T08:47:50.853Z"
   },
   {
    "duration": 16,
    "start_time": "2023-01-12T08:47:50.863Z"
   },
   {
    "duration": 25,
    "start_time": "2023-01-12T08:47:50.881Z"
   },
   {
    "duration": 27,
    "start_time": "2023-01-12T08:47:50.908Z"
   },
   {
    "duration": 46,
    "start_time": "2023-01-12T08:47:50.936Z"
   },
   {
    "duration": 45,
    "start_time": "2023-01-12T08:47:50.984Z"
   },
   {
    "duration": 36,
    "start_time": "2023-01-12T08:47:51.031Z"
   },
   {
    "duration": 41,
    "start_time": "2023-01-12T08:47:51.069Z"
   },
   {
    "duration": 183,
    "start_time": "2023-01-12T09:16:19.085Z"
   },
   {
    "duration": 2241,
    "start_time": "2023-01-12T09:16:19.271Z"
   },
   {
    "duration": 10,
    "start_time": "2023-01-12T09:16:21.515Z"
   },
   {
    "duration": 40,
    "start_time": "2023-01-12T09:16:21.527Z"
   },
   {
    "duration": 19,
    "start_time": "2023-01-12T09:16:21.568Z"
   },
   {
    "duration": 60,
    "start_time": "2023-01-12T09:16:21.589Z"
   },
   {
    "duration": 31,
    "start_time": "2023-01-12T09:16:21.651Z"
   },
   {
    "duration": 34,
    "start_time": "2023-01-12T09:16:21.684Z"
   },
   {
    "duration": 8,
    "start_time": "2023-01-12T09:16:21.720Z"
   },
   {
    "duration": 8,
    "start_time": "2023-01-12T09:16:21.730Z"
   },
   {
    "duration": 14,
    "start_time": "2023-01-12T09:16:21.740Z"
   },
   {
    "duration": 12,
    "start_time": "2023-01-12T09:16:21.756Z"
   },
   {
    "duration": 58,
    "start_time": "2023-01-12T09:16:21.770Z"
   },
   {
    "duration": 9,
    "start_time": "2023-01-12T09:16:21.831Z"
   },
   {
    "duration": 10,
    "start_time": "2023-01-12T09:16:21.842Z"
   },
   {
    "duration": 16,
    "start_time": "2023-01-12T09:16:21.854Z"
   },
   {
    "duration": 8,
    "start_time": "2023-01-12T09:16:21.871Z"
   },
   {
    "duration": 39,
    "start_time": "2023-01-12T09:16:21.881Z"
   },
   {
    "duration": 5,
    "start_time": "2023-01-12T09:16:21.923Z"
   },
   {
    "duration": 14,
    "start_time": "2023-01-12T09:16:21.930Z"
   },
   {
    "duration": 6,
    "start_time": "2023-01-12T09:16:21.946Z"
   },
   {
    "duration": 27,
    "start_time": "2023-01-12T09:16:21.954Z"
   },
   {
    "duration": 121,
    "start_time": "2023-01-12T10:00:15.035Z"
   },
   {
    "duration": 2215,
    "start_time": "2023-01-12T10:00:15.158Z"
   },
   {
    "duration": 11,
    "start_time": "2023-01-12T10:00:17.375Z"
   },
   {
    "duration": 54,
    "start_time": "2023-01-12T10:00:17.389Z"
   },
   {
    "duration": 18,
    "start_time": "2023-01-12T10:00:17.445Z"
   },
   {
    "duration": 52,
    "start_time": "2023-01-12T10:00:17.465Z"
   },
   {
    "duration": 30,
    "start_time": "2023-01-12T10:00:17.519Z"
   },
   {
    "duration": 7,
    "start_time": "2023-01-12T10:00:17.551Z"
   },
   {
    "duration": 9,
    "start_time": "2023-01-12T10:00:17.560Z"
   },
   {
    "duration": 15,
    "start_time": "2023-01-12T10:00:17.571Z"
   },
   {
    "duration": 30,
    "start_time": "2023-01-12T10:00:17.588Z"
   },
   {
    "duration": 9,
    "start_time": "2023-01-12T10:00:17.620Z"
   },
   {
    "duration": 19,
    "start_time": "2023-01-12T10:00:17.631Z"
   },
   {
    "duration": 9,
    "start_time": "2023-01-12T10:00:17.652Z"
   },
   {
    "duration": 10,
    "start_time": "2023-01-12T10:00:17.662Z"
   },
   {
    "duration": 41,
    "start_time": "2023-01-12T10:00:17.674Z"
   },
   {
    "duration": 9,
    "start_time": "2023-01-12T10:00:17.717Z"
   },
   {
    "duration": 17,
    "start_time": "2023-01-12T10:00:17.727Z"
   },
   {
    "duration": 13,
    "start_time": "2023-01-12T10:00:17.746Z"
   },
   {
    "duration": 27,
    "start_time": "2023-01-12T10:00:17.761Z"
   },
   {
    "duration": 7,
    "start_time": "2023-01-12T10:00:17.790Z"
   },
   {
    "duration": 14,
    "start_time": "2023-01-12T10:00:17.798Z"
   },
   {
    "duration": 172,
    "start_time": "2023-01-12T10:00:17.813Z"
   },
   {
    "duration": 754,
    "start_time": "2023-01-12T19:02:41.139Z"
   },
   {
    "duration": 2510,
    "start_time": "2023-01-12T19:02:41.895Z"
   },
   {
    "duration": 10,
    "start_time": "2023-01-12T19:02:44.407Z"
   },
   {
    "duration": 60,
    "start_time": "2023-01-12T19:02:44.419Z"
   },
   {
    "duration": 19,
    "start_time": "2023-01-12T19:02:44.481Z"
   },
   {
    "duration": 58,
    "start_time": "2023-01-12T19:02:44.502Z"
   },
   {
    "duration": 31,
    "start_time": "2023-01-12T19:02:44.562Z"
   },
   {
    "duration": 8,
    "start_time": "2023-01-12T19:02:44.595Z"
   },
   {
    "duration": 31,
    "start_time": "2023-01-12T19:02:44.604Z"
   },
   {
    "duration": 8,
    "start_time": "2023-01-12T19:02:44.638Z"
   },
   {
    "duration": 16,
    "start_time": "2023-01-12T19:02:44.647Z"
   },
   {
    "duration": 8,
    "start_time": "2023-01-12T19:02:44.665Z"
   },
   {
    "duration": 37,
    "start_time": "2023-01-12T19:02:44.674Z"
   },
   {
    "duration": 17,
    "start_time": "2023-01-12T19:02:44.712Z"
   },
   {
    "duration": 24,
    "start_time": "2023-01-12T19:02:44.730Z"
   },
   {
    "duration": 22,
    "start_time": "2023-01-12T19:02:44.756Z"
   },
   {
    "duration": 26,
    "start_time": "2023-01-12T19:02:44.780Z"
   },
   {
    "duration": 18,
    "start_time": "2023-01-12T19:02:44.808Z"
   },
   {
    "duration": 15,
    "start_time": "2023-01-12T19:02:44.828Z"
   },
   {
    "duration": 20,
    "start_time": "2023-01-12T19:02:44.845Z"
   },
   {
    "duration": 18,
    "start_time": "2023-01-12T19:02:44.866Z"
   },
   {
    "duration": 9,
    "start_time": "2023-01-12T19:02:44.885Z"
   },
   {
    "duration": 90,
    "start_time": "2023-01-12T19:02:44.895Z"
   },
   {
    "duration": 0,
    "start_time": "2023-01-12T19:02:44.987Z"
   },
   {
    "duration": 465,
    "start_time": "2023-01-12T19:03:00.453Z"
   },
   {
    "duration": 136,
    "start_time": "2023-01-12T19:03:04.655Z"
   },
   {
    "duration": 2047,
    "start_time": "2023-01-12T19:03:04.793Z"
   },
   {
    "duration": 13,
    "start_time": "2023-01-12T19:03:06.842Z"
   },
   {
    "duration": 41,
    "start_time": "2023-01-12T19:03:06.858Z"
   },
   {
    "duration": 41,
    "start_time": "2023-01-12T19:03:06.901Z"
   },
   {
    "duration": 35,
    "start_time": "2023-01-12T19:03:06.943Z"
   },
   {
    "duration": 28,
    "start_time": "2023-01-12T19:03:06.980Z"
   },
   {
    "duration": 32,
    "start_time": "2023-01-12T19:03:07.010Z"
   },
   {
    "duration": 7,
    "start_time": "2023-01-12T19:03:07.044Z"
   },
   {
    "duration": 8,
    "start_time": "2023-01-12T19:03:07.055Z"
   },
   {
    "duration": 13,
    "start_time": "2023-01-12T19:03:07.064Z"
   },
   {
    "duration": 7,
    "start_time": "2023-01-12T19:03:07.079Z"
   },
   {
    "duration": 17,
    "start_time": "2023-01-12T19:03:07.087Z"
   },
   {
    "duration": 9,
    "start_time": "2023-01-12T19:03:07.135Z"
   },
   {
    "duration": 9,
    "start_time": "2023-01-12T19:03:07.146Z"
   },
   {
    "duration": 19,
    "start_time": "2023-01-12T19:03:07.157Z"
   },
   {
    "duration": 10,
    "start_time": "2023-01-12T19:03:07.179Z"
   },
   {
    "duration": 10,
    "start_time": "2023-01-12T19:03:07.191Z"
   },
   {
    "duration": 34,
    "start_time": "2023-01-12T19:03:07.204Z"
   },
   {
    "duration": 17,
    "start_time": "2023-01-12T19:03:07.240Z"
   },
   {
    "duration": 7,
    "start_time": "2023-01-12T19:03:07.259Z"
   },
   {
    "duration": 6,
    "start_time": "2023-01-12T19:03:07.268Z"
   },
   {
    "duration": 528,
    "start_time": "2023-01-12T19:03:07.276Z"
   },
   {
    "duration": 31,
    "start_time": "2023-01-12T19:03:07.806Z"
   },
   {
    "duration": 122,
    "start_time": "2023-01-12T19:09:09.459Z"
   },
   {
    "duration": 1975,
    "start_time": "2023-01-12T19:09:09.583Z"
   },
   {
    "duration": 9,
    "start_time": "2023-01-12T19:09:11.560Z"
   },
   {
    "duration": 36,
    "start_time": "2023-01-12T19:09:11.571Z"
   },
   {
    "duration": 37,
    "start_time": "2023-01-12T19:09:11.609Z"
   },
   {
    "duration": 38,
    "start_time": "2023-01-12T19:09:11.648Z"
   },
   {
    "duration": 50,
    "start_time": "2023-01-12T19:09:11.688Z"
   },
   {
    "duration": 7,
    "start_time": "2023-01-12T19:09:11.740Z"
   },
   {
    "duration": 10,
    "start_time": "2023-01-12T19:09:11.748Z"
   },
   {
    "duration": 8,
    "start_time": "2023-01-12T19:09:11.760Z"
   },
   {
    "duration": 8,
    "start_time": "2023-01-12T19:09:11.769Z"
   },
   {
    "duration": 6,
    "start_time": "2023-01-12T19:09:11.779Z"
   },
   {
    "duration": 55,
    "start_time": "2023-01-12T19:09:11.787Z"
   },
   {
    "duration": 8,
    "start_time": "2023-01-12T19:09:11.843Z"
   },
   {
    "duration": 8,
    "start_time": "2023-01-12T19:09:11.853Z"
   },
   {
    "duration": 15,
    "start_time": "2023-01-12T19:09:11.863Z"
   },
   {
    "duration": 8,
    "start_time": "2023-01-12T19:09:11.879Z"
   },
   {
    "duration": 11,
    "start_time": "2023-01-12T19:09:11.888Z"
   },
   {
    "duration": 36,
    "start_time": "2023-01-12T19:09:11.900Z"
   },
   {
    "duration": 12,
    "start_time": "2023-01-12T19:09:11.938Z"
   },
   {
    "duration": 9,
    "start_time": "2023-01-12T19:09:11.952Z"
   },
   {
    "duration": 5,
    "start_time": "2023-01-12T19:09:11.962Z"
   },
   {
    "duration": 533,
    "start_time": "2023-01-12T19:09:11.969Z"
   },
   {
    "duration": 5,
    "start_time": "2023-01-12T19:09:12.504Z"
   },
   {
    "duration": 48,
    "start_time": "2023-01-12T19:09:12.511Z"
   },
   {
    "duration": 291,
    "start_time": "2023-01-12T19:10:51.718Z"
   },
   {
    "duration": 230,
    "start_time": "2023-01-12T19:12:28.820Z"
   },
   {
    "duration": 241,
    "start_time": "2023-01-12T19:13:32.430Z"
   },
   {
    "duration": 181,
    "start_time": "2023-01-12T19:16:06.097Z"
   },
   {
    "duration": 206,
    "start_time": "2023-01-12T19:17:19.673Z"
   },
   {
    "duration": 526,
    "start_time": "2023-01-12T19:17:50.754Z"
   },
   {
    "duration": 253,
    "start_time": "2023-01-12T19:19:48.395Z"
   },
   {
    "duration": 19,
    "start_time": "2023-01-12T19:20:43.819Z"
   },
   {
    "duration": 177,
    "start_time": "2023-01-12T19:20:52.598Z"
   },
   {
    "duration": 289,
    "start_time": "2023-01-12T19:22:39.961Z"
   },
   {
    "duration": 165,
    "start_time": "2023-01-12T19:23:41.828Z"
   },
   {
    "duration": 12,
    "start_time": "2023-01-12T19:24:55.678Z"
   },
   {
    "duration": 9,
    "start_time": "2023-01-12T19:25:41.850Z"
   },
   {
    "duration": 15,
    "start_time": "2023-01-12T19:26:03.071Z"
   },
   {
    "duration": 113,
    "start_time": "2023-01-12T19:27:30.060Z"
   },
   {
    "duration": 154,
    "start_time": "2023-01-12T19:29:11.842Z"
   },
   {
    "duration": 140,
    "start_time": "2023-01-12T19:30:31.279Z"
   },
   {
    "duration": 149,
    "start_time": "2023-01-12T19:32:06.443Z"
   },
   {
    "duration": 169,
    "start_time": "2023-01-12T19:33:46.566Z"
   },
   {
    "duration": 192,
    "start_time": "2023-01-12T19:34:54.638Z"
   },
   {
    "duration": 182,
    "start_time": "2023-01-12T19:35:14.003Z"
   },
   {
    "duration": 248,
    "start_time": "2023-01-12T19:35:30.610Z"
   },
   {
    "duration": 278,
    "start_time": "2023-01-12T19:36:13.412Z"
   },
   {
    "duration": 320,
    "start_time": "2023-01-12T19:36:20.951Z"
   },
   {
    "duration": 281,
    "start_time": "2023-01-12T19:37:13.349Z"
   },
   {
    "duration": 685,
    "start_time": "2023-01-12T19:39:53.741Z"
   },
   {
    "duration": 19,
    "start_time": "2023-01-12T19:44:20.664Z"
   },
   {
    "duration": 58,
    "start_time": "2023-01-12T19:48:53.321Z"
   },
   {
    "duration": 176,
    "start_time": "2023-01-12T19:48:59.746Z"
   },
   {
    "duration": 187,
    "start_time": "2023-01-12T19:50:02.935Z"
   },
   {
    "duration": 168,
    "start_time": "2023-01-12T19:50:27.943Z"
   },
   {
    "duration": 180,
    "start_time": "2023-01-12T19:51:05.743Z"
   },
   {
    "duration": 145,
    "start_time": "2023-01-12T19:52:25.849Z"
   },
   {
    "duration": 162,
    "start_time": "2023-01-12T19:53:16.108Z"
   },
   {
    "duration": 181,
    "start_time": "2023-01-12T19:54:35.889Z"
   },
   {
    "duration": 339,
    "start_time": "2023-01-12T19:55:01.279Z"
   },
   {
    "duration": 312,
    "start_time": "2023-01-12T19:55:45.824Z"
   },
   {
    "duration": 180,
    "start_time": "2023-01-12T19:57:59.593Z"
   },
   {
    "duration": 184,
    "start_time": "2023-01-12T19:58:37.921Z"
   },
   {
    "duration": 167,
    "start_time": "2023-01-12T19:59:14.082Z"
   },
   {
    "duration": 160,
    "start_time": "2023-01-12T20:00:46.916Z"
   },
   {
    "duration": 152,
    "start_time": "2023-01-12T20:01:15.185Z"
   },
   {
    "duration": 308,
    "start_time": "2023-01-12T20:01:55.820Z"
   },
   {
    "duration": 21,
    "start_time": "2023-01-12T20:04:03.683Z"
   },
   {
    "duration": 22,
    "start_time": "2023-01-12T20:04:50.570Z"
   },
   {
    "duration": 178,
    "start_time": "2023-01-12T20:05:48.716Z"
   },
   {
    "duration": 176,
    "start_time": "2023-01-12T20:05:57.897Z"
   },
   {
    "duration": 47,
    "start_time": "2023-01-13T08:40:52.972Z"
   },
   {
    "duration": 7,
    "start_time": "2023-01-13T08:44:16.310Z"
   },
   {
    "duration": 827,
    "start_time": "2023-01-13T08:44:26.521Z"
   },
   {
    "duration": 2427,
    "start_time": "2023-01-13T08:44:27.350Z"
   },
   {
    "duration": 12,
    "start_time": "2023-01-13T08:44:29.780Z"
   },
   {
    "duration": 43,
    "start_time": "2023-01-13T08:44:29.794Z"
   },
   {
    "duration": 19,
    "start_time": "2023-01-13T08:44:29.840Z"
   },
   {
    "duration": 42,
    "start_time": "2023-01-13T08:44:29.861Z"
   },
   {
    "duration": 42,
    "start_time": "2023-01-13T08:44:29.904Z"
   },
   {
    "duration": 8,
    "start_time": "2023-01-13T08:44:29.948Z"
   },
   {
    "duration": 25,
    "start_time": "2023-01-13T08:44:29.957Z"
   },
   {
    "duration": 16,
    "start_time": "2023-01-13T08:44:29.983Z"
   },
   {
    "duration": 28,
    "start_time": "2023-01-13T08:44:30.001Z"
   },
   {
    "duration": 36,
    "start_time": "2023-01-13T08:44:30.031Z"
   },
   {
    "duration": 47,
    "start_time": "2023-01-13T08:44:30.069Z"
   },
   {
    "duration": 60,
    "start_time": "2023-01-13T08:44:30.119Z"
   },
   {
    "duration": 58,
    "start_time": "2023-01-13T08:44:30.181Z"
   },
   {
    "duration": 37,
    "start_time": "2023-01-13T08:44:30.240Z"
   },
   {
    "duration": 29,
    "start_time": "2023-01-13T08:44:30.279Z"
   },
   {
    "duration": 46,
    "start_time": "2023-01-13T08:44:30.310Z"
   },
   {
    "duration": 34,
    "start_time": "2023-01-13T08:44:30.358Z"
   },
   {
    "duration": 62,
    "start_time": "2023-01-13T08:44:30.393Z"
   },
   {
    "duration": 28,
    "start_time": "2023-01-13T08:44:30.457Z"
   },
   {
    "duration": 31,
    "start_time": "2023-01-13T08:44:30.487Z"
   },
   {
    "duration": 515,
    "start_time": "2023-01-13T08:44:30.520Z"
   },
   {
    "duration": 4,
    "start_time": "2023-01-13T08:44:31.037Z"
   },
   {
    "duration": 84,
    "start_time": "2023-01-13T08:44:31.042Z"
   },
   {
    "duration": 227,
    "start_time": "2023-01-13T08:44:31.128Z"
   },
   {
    "duration": 204,
    "start_time": "2023-01-13T08:44:31.357Z"
   },
   {
    "duration": 262,
    "start_time": "2023-01-13T08:44:31.563Z"
   },
   {
    "duration": 495,
    "start_time": "2023-01-13T08:44:31.827Z"
   },
   {
    "duration": 203,
    "start_time": "2023-01-13T08:44:32.324Z"
   },
   {
    "duration": 177,
    "start_time": "2023-01-13T08:44:32.529Z"
   },
   {
    "duration": 159,
    "start_time": "2023-01-13T08:44:32.708Z"
   },
   {
    "duration": 122,
    "start_time": "2023-01-13T08:44:32.869Z"
   },
   {
    "duration": 168,
    "start_time": "2023-01-13T08:44:32.993Z"
   },
   {
    "duration": 349,
    "start_time": "2023-01-13T08:44:33.163Z"
   },
   {
    "duration": 186,
    "start_time": "2023-01-13T08:44:33.514Z"
   },
   {
    "duration": 188,
    "start_time": "2023-01-13T08:44:33.702Z"
   },
   {
    "duration": 286,
    "start_time": "2023-01-13T08:44:33.891Z"
   },
   {
    "duration": 513,
    "start_time": "2023-01-13T08:44:34.178Z"
   },
   {
    "duration": 189,
    "start_time": "2023-01-13T08:44:34.693Z"
   },
   {
    "duration": 181,
    "start_time": "2023-01-13T08:44:34.886Z"
   },
   {
    "duration": 171,
    "start_time": "2023-01-13T08:44:35.069Z"
   },
   {
    "duration": 281,
    "start_time": "2023-01-13T08:44:35.242Z"
   },
   {
    "duration": 153,
    "start_time": "2023-01-13T08:44:35.524Z"
   },
   {
    "duration": 301,
    "start_time": "2023-01-13T08:44:35.679Z"
   },
   {
    "duration": 28,
    "start_time": "2023-01-13T08:44:35.981Z"
   },
   {
    "duration": 68,
    "start_time": "2023-01-13T08:44:36.011Z"
   },
   {
    "duration": 181,
    "start_time": "2023-01-13T08:45:14.613Z"
   },
   {
    "duration": 82,
    "start_time": "2023-01-13T19:28:02.925Z"
   },
   {
    "duration": 641,
    "start_time": "2023-01-13T19:28:06.564Z"
   },
   {
    "duration": 2757,
    "start_time": "2023-01-13T19:28:07.207Z"
   },
   {
    "duration": 10,
    "start_time": "2023-01-13T19:28:09.966Z"
   },
   {
    "duration": 92,
    "start_time": "2023-01-13T19:28:09.979Z"
   },
   {
    "duration": 37,
    "start_time": "2023-01-13T19:28:10.073Z"
   },
   {
    "duration": 70,
    "start_time": "2023-01-13T19:28:10.112Z"
   },
   {
    "duration": 39,
    "start_time": "2023-01-13T19:28:10.184Z"
   },
   {
    "duration": 11,
    "start_time": "2023-01-13T19:28:10.225Z"
   },
   {
    "duration": 30,
    "start_time": "2023-01-13T19:28:10.238Z"
   },
   {
    "duration": 9,
    "start_time": "2023-01-13T19:28:10.271Z"
   },
   {
    "duration": 9,
    "start_time": "2023-01-13T19:28:10.282Z"
   },
   {
    "duration": 7,
    "start_time": "2023-01-13T19:28:10.293Z"
   },
   {
    "duration": 43,
    "start_time": "2023-01-13T19:28:10.301Z"
   },
   {
    "duration": 14,
    "start_time": "2023-01-13T19:28:10.347Z"
   },
   {
    "duration": 14,
    "start_time": "2023-01-13T19:28:10.363Z"
   },
   {
    "duration": 16,
    "start_time": "2023-01-13T19:28:10.379Z"
   },
   {
    "duration": 9,
    "start_time": "2023-01-13T19:28:10.397Z"
   },
   {
    "duration": 26,
    "start_time": "2023-01-13T19:28:10.408Z"
   },
   {
    "duration": 27,
    "start_time": "2023-01-13T19:28:10.436Z"
   },
   {
    "duration": 15,
    "start_time": "2023-01-13T19:28:10.466Z"
   },
   {
    "duration": 9,
    "start_time": "2023-01-13T19:28:10.483Z"
   },
   {
    "duration": 7,
    "start_time": "2023-01-13T19:28:10.494Z"
   },
   {
    "duration": 630,
    "start_time": "2023-01-13T19:28:10.503Z"
   },
   {
    "duration": 5,
    "start_time": "2023-01-13T19:28:11.134Z"
   },
   {
    "duration": 38,
    "start_time": "2023-01-13T19:28:11.143Z"
   },
   {
    "duration": 262,
    "start_time": "2023-01-13T19:28:11.183Z"
   },
   {
    "duration": 204,
    "start_time": "2023-01-13T19:28:11.447Z"
   },
   {
    "duration": 303,
    "start_time": "2023-01-13T19:28:11.656Z"
   },
   {
    "duration": 544,
    "start_time": "2023-01-13T19:28:11.961Z"
   },
   {
    "duration": 180,
    "start_time": "2023-01-13T19:28:12.507Z"
   },
   {
    "duration": 202,
    "start_time": "2023-01-13T19:28:12.689Z"
   },
   {
    "duration": 212,
    "start_time": "2023-01-13T19:28:12.892Z"
   },
   {
    "duration": 183,
    "start_time": "2023-01-13T19:28:13.107Z"
   },
   {
    "duration": 171,
    "start_time": "2023-01-13T19:28:13.292Z"
   },
   {
    "duration": 500,
    "start_time": "2023-01-13T19:28:13.464Z"
   },
   {
    "duration": 247,
    "start_time": "2023-01-13T19:28:13.967Z"
   },
   {
    "duration": 234,
    "start_time": "2023-01-13T19:28:14.216Z"
   },
   {
    "duration": 355,
    "start_time": "2023-01-13T19:28:14.454Z"
   },
   {
    "duration": 641,
    "start_time": "2023-01-13T19:28:14.812Z"
   },
   {
    "duration": 225,
    "start_time": "2023-01-13T19:28:15.460Z"
   },
   {
    "duration": 226,
    "start_time": "2023-01-13T19:28:15.688Z"
   },
   {
    "duration": 194,
    "start_time": "2023-01-13T19:28:15.917Z"
   },
   {
    "duration": 305,
    "start_time": "2023-01-13T19:28:16.113Z"
   },
   {
    "duration": 179,
    "start_time": "2023-01-13T19:28:16.425Z"
   },
   {
    "duration": 367,
    "start_time": "2023-01-13T19:28:16.607Z"
   },
   {
    "duration": 37,
    "start_time": "2023-01-13T19:28:16.977Z"
   },
   {
    "duration": 246,
    "start_time": "2023-01-13T19:28:17.016Z"
   },
   {
    "duration": 623,
    "start_time": "2023-01-13T22:12:03.366Z"
   },
   {
    "duration": 2588,
    "start_time": "2023-01-13T22:12:03.991Z"
   },
   {
    "duration": 13,
    "start_time": "2023-01-13T22:12:06.580Z"
   },
   {
    "duration": 67,
    "start_time": "2023-01-13T22:12:06.595Z"
   },
   {
    "duration": 44,
    "start_time": "2023-01-13T22:12:06.664Z"
   },
   {
    "duration": 102,
    "start_time": "2023-01-13T22:12:06.710Z"
   },
   {
    "duration": 98,
    "start_time": "2023-01-13T22:12:06.814Z"
   },
   {
    "duration": 68,
    "start_time": "2023-01-13T22:12:06.914Z"
   },
   {
    "duration": 11,
    "start_time": "2023-01-13T22:12:06.985Z"
   },
   {
    "duration": 18,
    "start_time": "2023-01-13T22:12:06.999Z"
   },
   {
    "duration": 68,
    "start_time": "2023-01-13T22:12:07.019Z"
   },
   {
    "duration": 29,
    "start_time": "2023-01-13T22:12:07.090Z"
   },
   {
    "duration": 75,
    "start_time": "2023-01-13T22:12:07.120Z"
   },
   {
    "duration": 12,
    "start_time": "2023-01-13T22:12:07.198Z"
   },
   {
    "duration": 8,
    "start_time": "2023-01-13T22:12:07.212Z"
   },
   {
    "duration": 19,
    "start_time": "2023-01-13T22:12:07.278Z"
   },
   {
    "duration": 24,
    "start_time": "2023-01-13T22:12:07.300Z"
   },
   {
    "duration": 63,
    "start_time": "2023-01-13T22:12:07.326Z"
   },
   {
    "duration": 26,
    "start_time": "2023-01-13T22:12:07.392Z"
   },
   {
    "duration": 102,
    "start_time": "2023-01-13T22:12:07.477Z"
   },
   {
    "duration": 301,
    "start_time": "2023-01-13T22:12:07.582Z"
   },
   {
    "duration": 13,
    "start_time": "2023-01-13T22:12:07.885Z"
   },
   {
    "duration": 901,
    "start_time": "2023-01-13T22:12:07.904Z"
   },
   {
    "duration": 592,
    "start_time": "2023-01-13T22:12:08.807Z"
   },
   {
    "duration": 591,
    "start_time": "2023-01-13T22:12:09.401Z"
   },
   {
    "duration": 136,
    "start_time": "2023-01-13T22:12:09.994Z"
   },
   {
    "duration": 14,
    "start_time": "2023-01-13T22:12:10.132Z"
   },
   {
    "duration": 4,
    "start_time": "2023-01-13T22:12:10.150Z"
   },
   {
    "duration": 30,
    "start_time": "2023-01-13T22:12:10.155Z"
   },
   {
    "duration": 8,
    "start_time": "2023-01-13T22:12:10.187Z"
   },
   {
    "duration": 22,
    "start_time": "2023-01-13T22:12:10.196Z"
   },
   {
    "duration": 526,
    "start_time": "2023-01-13T22:12:10.220Z"
   },
   {
    "duration": 3,
    "start_time": "2023-01-13T22:12:10.748Z"
   },
   {
    "duration": 25,
    "start_time": "2023-01-13T22:12:10.753Z"
   },
   {
    "duration": 301,
    "start_time": "2023-01-13T22:12:10.779Z"
   },
   {
    "duration": 184,
    "start_time": "2023-01-13T22:12:11.081Z"
   },
   {
    "duration": 177,
    "start_time": "2023-01-13T22:12:11.267Z"
   },
   {
    "duration": 469,
    "start_time": "2023-01-13T22:12:11.445Z"
   },
   {
    "duration": 228,
    "start_time": "2023-01-13T22:12:11.916Z"
   },
   {
    "duration": 149,
    "start_time": "2023-01-13T22:12:12.146Z"
   },
   {
    "duration": 166,
    "start_time": "2023-01-13T22:12:12.296Z"
   },
   {
    "duration": 159,
    "start_time": "2023-01-13T22:12:12.464Z"
   },
   {
    "duration": 311,
    "start_time": "2023-01-13T22:12:12.679Z"
   },
   {
    "duration": 488,
    "start_time": "2023-01-13T22:12:12.992Z"
   },
   {
    "duration": 331,
    "start_time": "2023-01-13T22:12:13.482Z"
   },
   {
    "duration": 469,
    "start_time": "2023-01-13T22:12:13.814Z"
   },
   {
    "duration": 280,
    "start_time": "2023-01-13T22:12:14.285Z"
   },
   {
    "duration": 590,
    "start_time": "2023-01-13T22:12:14.567Z"
   },
   {
    "duration": 164,
    "start_time": "2023-01-13T22:12:15.159Z"
   },
   {
    "duration": 166,
    "start_time": "2023-01-13T22:12:15.325Z"
   },
   {
    "duration": 162,
    "start_time": "2023-01-13T22:12:15.493Z"
   },
   {
    "duration": 155,
    "start_time": "2023-01-13T22:12:15.657Z"
   },
   {
    "duration": 149,
    "start_time": "2023-01-13T22:12:15.814Z"
   },
   {
    "duration": 287,
    "start_time": "2023-01-13T22:12:15.965Z"
   },
   {
    "duration": 34,
    "start_time": "2023-01-13T22:12:16.254Z"
   },
   {
    "duration": 184,
    "start_time": "2023-01-13T22:12:16.290Z"
   },
   {
    "duration": 79,
    "start_time": "2023-01-13T22:12:16.476Z"
   },
   {
    "duration": 503,
    "start_time": "2023-01-13T22:19:46.190Z"
   },
   {
    "duration": 2030,
    "start_time": "2023-01-13T22:19:46.695Z"
   },
   {
    "duration": 9,
    "start_time": "2023-01-13T22:19:48.726Z"
   },
   {
    "duration": 4,
    "start_time": "2023-01-13T22:19:48.737Z"
   },
   {
    "duration": 231,
    "start_time": "2023-01-13T22:19:48.743Z"
   },
   {
    "duration": 60,
    "start_time": "2023-01-13T22:19:48.978Z"
   },
   {
    "duration": 38,
    "start_time": "2023-01-13T22:19:49.040Z"
   },
   {
    "duration": 16,
    "start_time": "2023-01-13T22:19:49.079Z"
   },
   {
    "duration": 36,
    "start_time": "2023-01-13T22:19:49.096Z"
   },
   {
    "duration": 7,
    "start_time": "2023-01-13T22:19:49.134Z"
   },
   {
    "duration": 56,
    "start_time": "2023-01-13T22:19:49.143Z"
   },
   {
    "duration": 8,
    "start_time": "2023-01-13T22:19:49.201Z"
   },
   {
    "duration": 9,
    "start_time": "2023-01-13T22:19:49.210Z"
   },
   {
    "duration": 9,
    "start_time": "2023-01-13T22:19:49.221Z"
   },
   {
    "duration": 10,
    "start_time": "2023-01-13T22:19:49.231Z"
   },
   {
    "duration": 6,
    "start_time": "2023-01-13T22:19:49.243Z"
   },
   {
    "duration": 15,
    "start_time": "2023-01-13T22:19:49.278Z"
   },
   {
    "duration": 7,
    "start_time": "2023-01-13T22:19:49.294Z"
   },
   {
    "duration": 5,
    "start_time": "2023-01-13T22:19:49.302Z"
   },
   {
    "duration": 12,
    "start_time": "2023-01-13T22:19:49.309Z"
   },
   {
    "duration": 7,
    "start_time": "2023-01-13T22:19:49.322Z"
   },
   {
    "duration": 9,
    "start_time": "2023-01-13T22:19:49.330Z"
   },
   {
    "duration": 46,
    "start_time": "2023-01-13T22:19:49.340Z"
   },
   {
    "duration": 48,
    "start_time": "2023-01-13T22:19:49.388Z"
   },
   {
    "duration": 139,
    "start_time": "2023-01-13T22:19:49.438Z"
   },
   {
    "duration": 7,
    "start_time": "2023-01-13T22:19:49.579Z"
   },
   {
    "duration": 291,
    "start_time": "2023-01-13T22:19:49.588Z"
   },
   {
    "duration": 381,
    "start_time": "2023-01-13T22:19:49.881Z"
   },
   {
    "duration": 140,
    "start_time": "2023-01-13T22:19:50.264Z"
   },
   {
    "duration": 145,
    "start_time": "2023-01-13T22:19:50.406Z"
   },
   {
    "duration": 14,
    "start_time": "2023-01-13T22:19:50.553Z"
   },
   {
    "duration": 3,
    "start_time": "2023-01-13T22:19:50.578Z"
   },
   {
    "duration": 33,
    "start_time": "2023-01-13T22:19:50.583Z"
   },
   {
    "duration": 17,
    "start_time": "2023-01-13T22:19:50.617Z"
   },
   {
    "duration": 18,
    "start_time": "2023-01-13T22:19:50.636Z"
   },
   {
    "duration": 477,
    "start_time": "2023-01-13T22:19:50.656Z"
   },
   {
    "duration": 4,
    "start_time": "2023-01-13T22:19:51.134Z"
   },
   {
    "duration": 45,
    "start_time": "2023-01-13T22:19:51.139Z"
   },
   {
    "duration": 180,
    "start_time": "2023-01-13T22:19:51.185Z"
   },
   {
    "duration": 183,
    "start_time": "2023-01-13T22:19:51.367Z"
   },
   {
    "duration": 165,
    "start_time": "2023-01-13T22:19:51.554Z"
   },
   {
    "duration": 531,
    "start_time": "2023-01-13T22:19:51.721Z"
   },
   {
    "duration": 146,
    "start_time": "2023-01-13T22:19:52.253Z"
   },
   {
    "duration": 163,
    "start_time": "2023-01-13T22:19:52.400Z"
   },
   {
    "duration": 184,
    "start_time": "2023-01-13T22:19:52.565Z"
   },
   {
    "duration": 144,
    "start_time": "2023-01-13T22:19:52.751Z"
   },
   {
    "duration": 173,
    "start_time": "2023-01-13T22:19:52.897Z"
   },
   {
    "duration": 247,
    "start_time": "2023-01-13T22:19:53.077Z"
   },
   {
    "duration": 166,
    "start_time": "2023-01-13T22:19:53.326Z"
   },
   {
    "duration": 224,
    "start_time": "2023-01-13T22:19:53.494Z"
   },
   {
    "duration": 282,
    "start_time": "2023-01-13T22:19:53.720Z"
   },
   {
    "duration": 690,
    "start_time": "2023-01-13T22:19:54.004Z"
   },
   {
    "duration": 168,
    "start_time": "2023-01-13T22:19:54.695Z"
   },
   {
    "duration": 168,
    "start_time": "2023-01-13T22:19:54.865Z"
   },
   {
    "duration": 201,
    "start_time": "2023-01-13T22:19:55.035Z"
   },
   {
    "duration": 166,
    "start_time": "2023-01-13T22:19:55.238Z"
   },
   {
    "duration": 164,
    "start_time": "2023-01-13T22:19:55.406Z"
   },
   {
    "duration": 299,
    "start_time": "2023-01-13T22:19:55.572Z"
   },
   {
    "duration": 24,
    "start_time": "2023-01-13T22:19:55.878Z"
   },
   {
    "duration": 208,
    "start_time": "2023-01-13T22:19:55.907Z"
   },
   {
    "duration": 87,
    "start_time": "2023-01-13T22:19:56.116Z"
   },
   {
    "duration": 3,
    "start_time": "2023-01-13T22:26:38.679Z"
   },
   {
    "duration": 546,
    "start_time": "2023-01-13T22:26:47.760Z"
   },
   {
    "duration": 2169,
    "start_time": "2023-01-13T22:26:48.308Z"
   },
   {
    "duration": 10,
    "start_time": "2023-01-13T22:26:50.478Z"
   },
   {
    "duration": 5,
    "start_time": "2023-01-13T22:26:50.490Z"
   },
   {
    "duration": 244,
    "start_time": "2023-01-13T22:26:50.497Z"
   },
   {
    "duration": 61,
    "start_time": "2023-01-13T22:26:50.742Z"
   },
   {
    "duration": 17,
    "start_time": "2023-01-13T22:26:50.805Z"
   },
   {
    "duration": 18,
    "start_time": "2023-01-13T22:26:50.824Z"
   },
   {
    "duration": 53,
    "start_time": "2023-01-13T22:26:50.843Z"
   },
   {
    "duration": 8,
    "start_time": "2023-01-13T22:26:50.899Z"
   },
   {
    "duration": 34,
    "start_time": "2023-01-13T22:26:50.909Z"
   },
   {
    "duration": 7,
    "start_time": "2023-01-13T22:26:50.944Z"
   },
   {
    "duration": 8,
    "start_time": "2023-01-13T22:26:50.978Z"
   },
   {
    "duration": 17,
    "start_time": "2023-01-13T22:26:50.988Z"
   },
   {
    "duration": 207,
    "start_time": "2023-01-13T22:26:51.007Z"
   },
   {
    "duration": 189,
    "start_time": "2023-01-13T22:26:51.215Z"
   },
   {
    "duration": 10,
    "start_time": "2023-01-13T22:26:51.406Z"
   },
   {
    "duration": 20,
    "start_time": "2023-01-13T22:26:51.418Z"
   },
   {
    "duration": 20,
    "start_time": "2023-01-13T22:26:51.440Z"
   },
   {
    "duration": 16,
    "start_time": "2023-01-13T22:26:51.462Z"
   },
   {
    "duration": 9,
    "start_time": "2023-01-13T22:26:51.479Z"
   },
   {
    "duration": 15,
    "start_time": "2023-01-13T22:26:51.490Z"
   },
   {
    "duration": 9,
    "start_time": "2023-01-13T22:26:51.507Z"
   },
   {
    "duration": 8,
    "start_time": "2023-01-13T22:26:51.517Z"
   },
   {
    "duration": 17,
    "start_time": "2023-01-13T22:26:51.527Z"
   },
   {
    "duration": 80,
    "start_time": "2023-01-13T22:26:51.545Z"
   },
   {
    "duration": 169,
    "start_time": "2023-01-13T22:26:51.627Z"
   },
   {
    "duration": 8,
    "start_time": "2023-01-13T22:26:51.801Z"
   },
   {
    "duration": 378,
    "start_time": "2023-01-13T22:26:51.811Z"
   },
   {
    "duration": 327,
    "start_time": "2023-01-13T22:26:52.190Z"
   },
   {
    "duration": 143,
    "start_time": "2023-01-13T22:26:52.518Z"
   },
   {
    "duration": 146,
    "start_time": "2023-01-13T22:26:52.663Z"
   },
   {
    "duration": 19,
    "start_time": "2023-01-13T22:26:52.812Z"
   },
   {
    "duration": 5,
    "start_time": "2023-01-13T22:26:52.834Z"
   },
   {
    "duration": 59,
    "start_time": "2023-01-13T22:26:52.841Z"
   },
   {
    "duration": 14,
    "start_time": "2023-01-13T22:26:52.902Z"
   },
   {
    "duration": 8,
    "start_time": "2023-01-13T22:26:52.918Z"
   },
   {
    "duration": 475,
    "start_time": "2023-01-13T22:26:52.928Z"
   },
   {
    "duration": 5,
    "start_time": "2023-01-13T22:26:53.404Z"
   },
   {
    "duration": 29,
    "start_time": "2023-01-13T22:26:53.410Z"
   },
   {
    "duration": 194,
    "start_time": "2023-01-13T22:26:53.441Z"
   },
   {
    "duration": 179,
    "start_time": "2023-01-13T22:26:53.637Z"
   },
   {
    "duration": 320,
    "start_time": "2023-01-13T22:26:53.817Z"
   },
   {
    "duration": 509,
    "start_time": "2023-01-13T22:26:54.140Z"
   },
   {
    "duration": 182,
    "start_time": "2023-01-13T22:26:54.651Z"
   },
   {
    "duration": 179,
    "start_time": "2023-01-13T22:26:54.835Z"
   },
   {
    "duration": 181,
    "start_time": "2023-01-13T22:26:55.016Z"
   },
   {
    "duration": 116,
    "start_time": "2023-01-13T22:26:55.198Z"
   },
   {
    "duration": 147,
    "start_time": "2023-01-13T22:26:55.316Z"
   },
   {
    "duration": 351,
    "start_time": "2023-01-13T22:26:55.465Z"
   },
   {
    "duration": 176,
    "start_time": "2023-01-13T22:26:55.818Z"
   },
   {
    "duration": 171,
    "start_time": "2023-01-13T22:26:55.996Z"
   },
   {
    "duration": 253,
    "start_time": "2023-01-13T22:26:56.168Z"
   },
   {
    "duration": 472,
    "start_time": "2023-01-13T22:26:56.423Z"
   },
   {
    "duration": 177,
    "start_time": "2023-01-13T22:26:56.897Z"
   },
   {
    "duration": 167,
    "start_time": "2023-01-13T22:26:57.078Z"
   },
   {
    "duration": 170,
    "start_time": "2023-01-13T22:26:57.247Z"
   },
   {
    "duration": 285,
    "start_time": "2023-01-13T22:26:57.419Z"
   },
   {
    "duration": 143,
    "start_time": "2023-01-13T22:26:57.706Z"
   },
   {
    "duration": 283,
    "start_time": "2023-01-13T22:26:57.850Z"
   },
   {
    "duration": 26,
    "start_time": "2023-01-13T22:26:58.134Z"
   },
   {
    "duration": 185,
    "start_time": "2023-01-13T22:26:58.162Z"
   },
   {
    "duration": 25,
    "start_time": "2023-01-13T22:35:07.866Z"
   },
   {
    "duration": 10,
    "start_time": "2023-01-13T22:36:38.199Z"
   },
   {
    "duration": 79,
    "start_time": "2023-01-13T22:43:27.303Z"
   },
   {
    "duration": 7,
    "start_time": "2023-01-13T22:43:30.709Z"
   },
   {
    "duration": 577,
    "start_time": "2023-01-13T22:43:57.517Z"
   },
   {
    "duration": 7,
    "start_time": "2023-01-13T22:44:02.662Z"
   },
   {
    "duration": 46,
    "start_time": "2023-01-13T22:44:14.351Z"
   },
   {
    "duration": 538,
    "start_time": "2023-01-13T22:44:21.070Z"
   },
   {
    "duration": 8,
    "start_time": "2023-01-13T22:44:21.758Z"
   },
   {
    "duration": 22,
    "start_time": "2023-01-13T22:46:52.905Z"
   },
   {
    "duration": 13,
    "start_time": "2023-01-13T22:46:59.139Z"
   },
   {
    "duration": 18,
    "start_time": "2023-01-13T22:47:06.835Z"
   },
   {
    "duration": 17,
    "start_time": "2023-01-13T22:47:14.203Z"
   },
   {
    "duration": 24,
    "start_time": "2023-01-13T22:47:23.158Z"
   },
   {
    "duration": 4,
    "start_time": "2023-01-13T23:00:03.769Z"
   },
   {
    "duration": 181,
    "start_time": "2023-01-13T23:00:04.618Z"
   },
   {
    "duration": 166,
    "start_time": "2023-01-13T23:00:22.618Z"
   },
   {
    "duration": 595,
    "start_time": "2023-01-13T23:01:44.770Z"
   },
   {
    "duration": 2348,
    "start_time": "2023-01-13T23:01:45.367Z"
   },
   {
    "duration": 8,
    "start_time": "2023-01-13T23:01:47.717Z"
   },
   {
    "duration": 4,
    "start_time": "2023-01-13T23:01:47.727Z"
   },
   {
    "duration": 281,
    "start_time": "2023-01-13T23:01:47.733Z"
   },
   {
    "duration": 70,
    "start_time": "2023-01-13T23:01:48.016Z"
   },
   {
    "duration": 27,
    "start_time": "2023-01-13T23:01:48.088Z"
   },
   {
    "duration": 23,
    "start_time": "2023-01-13T23:01:48.117Z"
   },
   {
    "duration": 53,
    "start_time": "2023-01-13T23:01:48.143Z"
   },
   {
    "duration": 9,
    "start_time": "2023-01-13T23:01:48.198Z"
   },
   {
    "duration": 32,
    "start_time": "2023-01-13T23:01:48.209Z"
   },
   {
    "duration": 7,
    "start_time": "2023-01-13T23:01:48.242Z"
   },
   {
    "duration": 32,
    "start_time": "2023-01-13T23:01:48.251Z"
   },
   {
    "duration": 15,
    "start_time": "2023-01-13T23:01:48.288Z"
   },
   {
    "duration": 183,
    "start_time": "2023-01-13T23:01:48.305Z"
   },
   {
    "duration": 218,
    "start_time": "2023-01-13T23:01:48.491Z"
   },
   {
    "duration": 9,
    "start_time": "2023-01-13T23:01:48.711Z"
   },
   {
    "duration": 9,
    "start_time": "2023-01-13T23:01:48.721Z"
   },
   {
    "duration": 14,
    "start_time": "2023-01-13T23:01:48.731Z"
   },
   {
    "duration": 32,
    "start_time": "2023-01-13T23:01:48.747Z"
   },
   {
    "duration": 7,
    "start_time": "2023-01-13T23:01:48.781Z"
   },
   {
    "duration": 25,
    "start_time": "2023-01-13T23:01:48.790Z"
   },
   {
    "duration": 7,
    "start_time": "2023-01-13T23:01:48.817Z"
   },
   {
    "duration": 13,
    "start_time": "2023-01-13T23:01:48.826Z"
   },
   {
    "duration": 18,
    "start_time": "2023-01-13T23:01:48.840Z"
   },
   {
    "duration": 74,
    "start_time": "2023-01-13T23:01:48.860Z"
   },
   {
    "duration": 297,
    "start_time": "2023-01-13T23:01:48.935Z"
   },
   {
    "duration": 10,
    "start_time": "2023-01-13T23:01:49.234Z"
   },
   {
    "duration": 412,
    "start_time": "2023-01-13T23:01:49.247Z"
   },
   {
    "duration": 402,
    "start_time": "2023-01-13T23:01:49.662Z"
   },
   {
    "duration": 173,
    "start_time": "2023-01-13T23:01:50.066Z"
   },
   {
    "duration": 180,
    "start_time": "2023-01-13T23:01:50.241Z"
   },
   {
    "duration": 14,
    "start_time": "2023-01-13T23:01:50.423Z"
   },
   {
    "duration": 4,
    "start_time": "2023-01-13T23:01:50.439Z"
   },
   {
    "duration": 15,
    "start_time": "2023-01-13T23:01:50.444Z"
   },
   {
    "duration": 20,
    "start_time": "2023-01-13T23:01:50.460Z"
   },
   {
    "duration": 5,
    "start_time": "2023-01-13T23:01:50.483Z"
   },
   {
    "duration": 567,
    "start_time": "2023-01-13T23:01:50.490Z"
   },
   {
    "duration": 7,
    "start_time": "2023-01-13T23:01:51.058Z"
   },
   {
    "duration": 14,
    "start_time": "2023-01-13T23:01:51.067Z"
   },
   {
    "duration": 30,
    "start_time": "2023-01-13T23:01:51.089Z"
   },
   {
    "duration": 220,
    "start_time": "2023-01-13T23:01:51.121Z"
   },
   {
    "duration": 197,
    "start_time": "2023-01-13T23:01:51.343Z"
   },
   {
    "duration": 296,
    "start_time": "2023-01-13T23:01:51.542Z"
   },
   {
    "duration": 513,
    "start_time": "2023-01-13T23:01:51.840Z"
   },
   {
    "duration": 165,
    "start_time": "2023-01-13T23:01:52.355Z"
   },
   {
    "duration": 177,
    "start_time": "2023-01-13T23:01:52.522Z"
   },
   {
    "duration": 167,
    "start_time": "2023-01-13T23:01:52.700Z"
   },
   {
    "duration": 138,
    "start_time": "2023-01-13T23:01:52.878Z"
   },
   {
    "duration": 169,
    "start_time": "2023-01-13T23:01:53.017Z"
   },
   {
    "duration": 379,
    "start_time": "2023-01-13T23:01:53.188Z"
   },
   {
    "duration": 180,
    "start_time": "2023-01-13T23:01:53.569Z"
   },
   {
    "duration": 189,
    "start_time": "2023-01-13T23:01:53.751Z"
   },
   {
    "duration": 318,
    "start_time": "2023-01-13T23:01:53.942Z"
   },
   {
    "duration": 528,
    "start_time": "2023-01-13T23:01:54.261Z"
   },
   {
    "duration": 229,
    "start_time": "2023-01-13T23:01:54.790Z"
   },
   {
    "duration": 220,
    "start_time": "2023-01-13T23:01:55.022Z"
   },
   {
    "duration": 182,
    "start_time": "2023-01-13T23:01:55.244Z"
   },
   {
    "duration": 303,
    "start_time": "2023-01-13T23:01:55.427Z"
   },
   {
    "duration": 171,
    "start_time": "2023-01-13T23:01:55.731Z"
   },
   {
    "duration": 307,
    "start_time": "2023-01-13T23:01:55.903Z"
   },
   {
    "duration": 19,
    "start_time": "2023-01-13T23:01:56.211Z"
   },
   {
    "duration": 20,
    "start_time": "2023-01-13T23:01:56.232Z"
   },
   {
    "duration": 215,
    "start_time": "2023-01-13T23:01:56.253Z"
   },
   {
    "duration": 48,
    "start_time": "2023-01-14T17:04:03.133Z"
   },
   {
    "duration": 607,
    "start_time": "2023-01-14T17:04:13.151Z"
   },
   {
    "duration": 2476,
    "start_time": "2023-01-14T17:04:13.761Z"
   },
   {
    "duration": 10,
    "start_time": "2023-01-14T17:04:16.239Z"
   },
   {
    "duration": 5,
    "start_time": "2023-01-14T17:04:16.251Z"
   },
   {
    "duration": 244,
    "start_time": "2023-01-14T17:04:16.258Z"
   },
   {
    "duration": 56,
    "start_time": "2023-01-14T17:04:16.504Z"
   },
   {
    "duration": 20,
    "start_time": "2023-01-14T17:04:16.561Z"
   },
   {
    "duration": 35,
    "start_time": "2023-01-14T17:04:16.582Z"
   },
   {
    "duration": 43,
    "start_time": "2023-01-14T17:04:16.618Z"
   },
   {
    "duration": 7,
    "start_time": "2023-01-14T17:04:16.663Z"
   },
   {
    "duration": 57,
    "start_time": "2023-01-14T17:04:16.671Z"
   },
   {
    "duration": 8,
    "start_time": "2023-01-14T17:04:16.730Z"
   },
   {
    "duration": 11,
    "start_time": "2023-01-14T17:04:16.739Z"
   },
   {
    "duration": 11,
    "start_time": "2023-01-14T17:04:16.752Z"
   },
   {
    "duration": 211,
    "start_time": "2023-01-14T17:04:16.765Z"
   },
   {
    "duration": 207,
    "start_time": "2023-01-14T17:04:16.978Z"
   },
   {
    "duration": 15,
    "start_time": "2023-01-14T17:04:17.187Z"
   },
   {
    "duration": 11,
    "start_time": "2023-01-14T17:04:17.212Z"
   },
   {
    "duration": 15,
    "start_time": "2023-01-14T17:04:17.225Z"
   },
   {
    "duration": 9,
    "start_time": "2023-01-14T17:04:17.242Z"
   },
   {
    "duration": 11,
    "start_time": "2023-01-14T17:04:17.252Z"
   },
   {
    "duration": 18,
    "start_time": "2023-01-14T17:04:17.264Z"
   },
   {
    "duration": 30,
    "start_time": "2023-01-14T17:04:17.284Z"
   },
   {
    "duration": 9,
    "start_time": "2023-01-14T17:04:17.316Z"
   },
   {
    "duration": 19,
    "start_time": "2023-01-14T17:04:17.327Z"
   },
   {
    "duration": 79,
    "start_time": "2023-01-14T17:04:17.348Z"
   },
   {
    "duration": 172,
    "start_time": "2023-01-14T17:04:17.429Z"
   },
   {
    "duration": 8,
    "start_time": "2023-01-14T17:04:17.606Z"
   },
   {
    "duration": 417,
    "start_time": "2023-01-14T17:04:17.616Z"
   },
   {
    "duration": 340,
    "start_time": "2023-01-14T17:04:18.035Z"
   },
   {
    "duration": 138,
    "start_time": "2023-01-14T17:04:18.377Z"
   },
   {
    "duration": 148,
    "start_time": "2023-01-14T17:04:18.517Z"
   },
   {
    "duration": 16,
    "start_time": "2023-01-14T17:04:18.667Z"
   },
   {
    "duration": 4,
    "start_time": "2023-01-14T17:04:18.685Z"
   },
   {
    "duration": 28,
    "start_time": "2023-01-14T17:04:18.691Z"
   },
   {
    "duration": 6,
    "start_time": "2023-01-14T17:04:18.721Z"
   },
   {
    "duration": 6,
    "start_time": "2023-01-14T17:04:18.729Z"
   },
   {
    "duration": 566,
    "start_time": "2023-01-14T17:04:18.736Z"
   },
   {
    "duration": 10,
    "start_time": "2023-01-14T17:04:19.304Z"
   },
   {
    "duration": 4,
    "start_time": "2023-01-14T17:04:19.316Z"
   },
   {
    "duration": 36,
    "start_time": "2023-01-14T17:04:19.321Z"
   },
   {
    "duration": 211,
    "start_time": "2023-01-14T17:04:19.359Z"
   },
   {
    "duration": 272,
    "start_time": "2023-01-14T17:04:19.572Z"
   },
   {
    "duration": 187,
    "start_time": "2023-01-14T17:04:19.845Z"
   },
   {
    "duration": 587,
    "start_time": "2023-01-14T17:04:20.034Z"
   },
   {
    "duration": 159,
    "start_time": "2023-01-14T17:04:20.623Z"
   },
   {
    "duration": 168,
    "start_time": "2023-01-14T17:04:20.784Z"
   },
   {
    "duration": 152,
    "start_time": "2023-01-14T17:04:20.954Z"
   },
   {
    "duration": 124,
    "start_time": "2023-01-14T17:04:21.114Z"
   },
   {
    "duration": 153,
    "start_time": "2023-01-14T17:04:21.240Z"
   },
   {
    "duration": 322,
    "start_time": "2023-01-14T17:04:21.395Z"
   },
   {
    "duration": 175,
    "start_time": "2023-01-14T17:04:21.719Z"
   },
   {
    "duration": 179,
    "start_time": "2023-01-14T17:04:21.896Z"
   },
   {
    "duration": 277,
    "start_time": "2023-01-14T17:04:22.077Z"
   },
   {
    "duration": 505,
    "start_time": "2023-01-14T17:04:22.355Z"
   },
   {
    "duration": 186,
    "start_time": "2023-01-14T17:04:22.861Z"
   },
   {
    "duration": 179,
    "start_time": "2023-01-14T17:04:23.048Z"
   },
   {
    "duration": 269,
    "start_time": "2023-01-14T17:04:23.229Z"
   },
   {
    "duration": 165,
    "start_time": "2023-01-14T17:04:23.500Z"
   },
   {
    "duration": 159,
    "start_time": "2023-01-14T17:04:23.666Z"
   },
   {
    "duration": 299,
    "start_time": "2023-01-14T17:04:23.827Z"
   },
   {
    "duration": 21,
    "start_time": "2023-01-14T17:04:24.128Z"
   },
   {
    "duration": 31,
    "start_time": "2023-01-14T17:04:24.151Z"
   },
   {
    "duration": 215,
    "start_time": "2023-01-14T17:04:24.184Z"
   },
   {
    "duration": 120,
    "start_time": "2023-01-14T17:10:27.463Z"
   },
   {
    "duration": 2069,
    "start_time": "2023-01-14T17:10:27.585Z"
   },
   {
    "duration": 10,
    "start_time": "2023-01-14T17:10:29.657Z"
   },
   {
    "duration": 10,
    "start_time": "2023-01-14T17:10:29.670Z"
   },
   {
    "duration": 250,
    "start_time": "2023-01-14T17:10:29.682Z"
   },
   {
    "duration": 26,
    "start_time": "2023-01-14T17:10:29.934Z"
   },
   {
    "duration": 5,
    "start_time": "2023-01-14T17:10:29.962Z"
   },
   {
    "duration": 35,
    "start_time": "2023-01-14T17:10:29.969Z"
   },
   {
    "duration": 54,
    "start_time": "2023-01-14T17:10:30.006Z"
   },
   {
    "duration": 18,
    "start_time": "2023-01-14T17:10:30.063Z"
   },
   {
    "duration": 60,
    "start_time": "2023-01-14T17:10:30.083Z"
   },
   {
    "duration": 8,
    "start_time": "2023-01-14T17:10:30.145Z"
   },
   {
    "duration": 27,
    "start_time": "2023-01-14T17:10:30.154Z"
   },
   {
    "duration": 21,
    "start_time": "2023-01-14T17:10:30.183Z"
   },
   {
    "duration": 225,
    "start_time": "2023-01-14T17:10:30.206Z"
   },
   {
    "duration": 249,
    "start_time": "2023-01-14T17:10:30.434Z"
   },
   {
    "duration": 10,
    "start_time": "2023-01-14T17:10:30.685Z"
   },
   {
    "duration": 31,
    "start_time": "2023-01-14T17:10:30.697Z"
   },
   {
    "duration": 31,
    "start_time": "2023-01-14T17:10:30.730Z"
   },
   {
    "duration": 11,
    "start_time": "2023-01-14T17:10:30.763Z"
   },
   {
    "duration": 24,
    "start_time": "2023-01-14T17:10:30.776Z"
   },
   {
    "duration": 45,
    "start_time": "2023-01-14T17:10:30.802Z"
   },
   {
    "duration": 21,
    "start_time": "2023-01-14T17:10:30.849Z"
   },
   {
    "duration": 33,
    "start_time": "2023-01-14T17:10:30.872Z"
   },
   {
    "duration": 29,
    "start_time": "2023-01-14T17:10:30.907Z"
   },
   {
    "duration": 35,
    "start_time": "2023-01-14T17:10:30.939Z"
   },
   {
    "duration": 173,
    "start_time": "2023-01-14T17:10:30.976Z"
   },
   {
    "duration": 8,
    "start_time": "2023-01-14T17:10:31.153Z"
   },
   {
    "duration": 310,
    "start_time": "2023-01-14T17:10:31.163Z"
   },
   {
    "duration": 312,
    "start_time": "2023-01-14T17:10:31.475Z"
   },
   {
    "duration": 322,
    "start_time": "2023-01-14T17:10:31.789Z"
   },
   {
    "duration": 149,
    "start_time": "2023-01-14T17:10:32.113Z"
   },
   {
    "duration": 15,
    "start_time": "2023-01-14T17:10:32.264Z"
   },
   {
    "duration": 5,
    "start_time": "2023-01-14T17:10:32.280Z"
   },
   {
    "duration": 29,
    "start_time": "2023-01-14T17:10:32.287Z"
   },
   {
    "duration": 5,
    "start_time": "2023-01-14T17:10:32.317Z"
   },
   {
    "duration": 6,
    "start_time": "2023-01-14T17:10:32.325Z"
   },
   {
    "duration": 508,
    "start_time": "2023-01-14T17:10:32.333Z"
   },
   {
    "duration": 7,
    "start_time": "2023-01-14T17:10:32.843Z"
   },
   {
    "duration": 11,
    "start_time": "2023-01-14T17:10:32.852Z"
   },
   {
    "duration": 26,
    "start_time": "2023-01-14T17:10:32.864Z"
   },
   {
    "duration": 218,
    "start_time": "2023-01-14T17:10:32.892Z"
   },
   {
    "duration": 205,
    "start_time": "2023-01-14T17:10:33.112Z"
   },
   {
    "duration": 198,
    "start_time": "2023-01-14T17:10:33.319Z"
   },
   {
    "duration": 494,
    "start_time": "2023-01-14T17:10:33.520Z"
   },
   {
    "duration": 261,
    "start_time": "2023-01-14T17:10:34.016Z"
   },
   {
    "duration": 167,
    "start_time": "2023-01-14T17:10:34.278Z"
   },
   {
    "duration": 168,
    "start_time": "2023-01-14T17:10:34.447Z"
   },
   {
    "duration": 147,
    "start_time": "2023-01-14T17:10:34.616Z"
   },
   {
    "duration": 155,
    "start_time": "2023-01-14T17:10:34.765Z"
   },
   {
    "duration": 270,
    "start_time": "2023-01-14T17:10:34.922Z"
   },
   {
    "duration": 186,
    "start_time": "2023-01-14T17:10:35.193Z"
   },
   {
    "duration": 177,
    "start_time": "2023-01-14T17:10:35.380Z"
   },
   {
    "duration": 267,
    "start_time": "2023-01-14T17:10:35.559Z"
   },
   {
    "duration": 585,
    "start_time": "2023-01-14T17:10:35.828Z"
   },
   {
    "duration": 170,
    "start_time": "2023-01-14T17:10:36.414Z"
   },
   {
    "duration": 175,
    "start_time": "2023-01-14T17:10:36.585Z"
   },
   {
    "duration": 171,
    "start_time": "2023-01-14T17:10:36.762Z"
   },
   {
    "duration": 166,
    "start_time": "2023-01-14T17:10:36.935Z"
   },
   {
    "duration": 157,
    "start_time": "2023-01-14T17:10:37.103Z"
   },
   {
    "duration": 302,
    "start_time": "2023-01-14T17:10:37.262Z"
   },
   {
    "duration": 32,
    "start_time": "2023-01-14T17:10:37.567Z"
   },
   {
    "duration": 38,
    "start_time": "2023-01-14T17:10:37.601Z"
   },
   {
    "duration": 212,
    "start_time": "2023-01-14T17:10:37.641Z"
   },
   {
    "duration": 130,
    "start_time": "2023-01-14T17:12:56.936Z"
   },
   {
    "duration": 2188,
    "start_time": "2023-01-14T17:12:57.068Z"
   },
   {
    "duration": 10,
    "start_time": "2023-01-14T17:12:59.257Z"
   },
   {
    "duration": 7,
    "start_time": "2023-01-14T17:12:59.269Z"
   },
   {
    "duration": 238,
    "start_time": "2023-01-14T17:12:59.277Z"
   },
   {
    "duration": 40,
    "start_time": "2023-01-14T17:12:59.517Z"
   },
   {
    "duration": 4,
    "start_time": "2023-01-14T17:12:59.559Z"
   },
   {
    "duration": 16,
    "start_time": "2023-01-14T17:12:59.565Z"
   },
   {
    "duration": 58,
    "start_time": "2023-01-14T17:12:59.583Z"
   },
   {
    "duration": 7,
    "start_time": "2023-01-14T17:12:59.644Z"
   },
   {
    "duration": 44,
    "start_time": "2023-01-14T17:12:59.652Z"
   },
   {
    "duration": 9,
    "start_time": "2023-01-14T17:12:59.713Z"
   },
   {
    "duration": 16,
    "start_time": "2023-01-14T17:12:59.724Z"
   },
   {
    "duration": 12,
    "start_time": "2023-01-14T17:12:59.742Z"
   },
   {
    "duration": 247,
    "start_time": "2023-01-14T17:12:59.757Z"
   },
   {
    "duration": 200,
    "start_time": "2023-01-14T17:13:00.006Z"
   },
   {
    "duration": 12,
    "start_time": "2023-01-14T17:13:00.208Z"
   },
   {
    "duration": 18,
    "start_time": "2023-01-14T17:13:00.222Z"
   },
   {
    "duration": 27,
    "start_time": "2023-01-14T17:13:00.242Z"
   },
   {
    "duration": 9,
    "start_time": "2023-01-14T17:13:00.271Z"
   },
   {
    "duration": 19,
    "start_time": "2023-01-14T17:13:00.281Z"
   },
   {
    "duration": 24,
    "start_time": "2023-01-14T17:13:00.302Z"
   },
   {
    "duration": 9,
    "start_time": "2023-01-14T17:13:00.327Z"
   },
   {
    "duration": 17,
    "start_time": "2023-01-14T17:13:00.337Z"
   },
   {
    "duration": 44,
    "start_time": "2023-01-14T17:13:00.356Z"
   },
   {
    "duration": 24,
    "start_time": "2023-01-14T17:13:00.402Z"
   },
   {
    "duration": 185,
    "start_time": "2023-01-14T17:13:00.428Z"
   },
   {
    "duration": 7,
    "start_time": "2023-01-14T17:13:00.617Z"
   },
   {
    "duration": 506,
    "start_time": "2023-01-14T17:13:00.626Z"
   },
   {
    "duration": 322,
    "start_time": "2023-01-14T17:13:01.134Z"
   },
   {
    "duration": 146,
    "start_time": "2023-01-14T17:13:01.458Z"
   },
   {
    "duration": 145,
    "start_time": "2023-01-14T17:13:01.605Z"
   },
   {
    "duration": 15,
    "start_time": "2023-01-14T17:13:01.752Z"
   },
   {
    "duration": 17,
    "start_time": "2023-01-14T17:13:01.768Z"
   },
   {
    "duration": 24,
    "start_time": "2023-01-14T17:13:01.787Z"
   },
   {
    "duration": 21,
    "start_time": "2023-01-14T17:13:01.813Z"
   },
   {
    "duration": 25,
    "start_time": "2023-01-14T17:13:01.836Z"
   },
   {
    "duration": 543,
    "start_time": "2023-01-14T17:13:01.863Z"
   },
   {
    "duration": 9,
    "start_time": "2023-01-14T17:13:02.408Z"
   },
   {
    "duration": 23,
    "start_time": "2023-01-14T17:13:02.418Z"
   },
   {
    "duration": 38,
    "start_time": "2023-01-14T17:13:02.443Z"
   },
   {
    "duration": 213,
    "start_time": "2023-01-14T17:13:02.483Z"
   },
   {
    "duration": 193,
    "start_time": "2023-01-14T17:13:02.697Z"
   },
   {
    "duration": 310,
    "start_time": "2023-01-14T17:13:02.892Z"
   },
   {
    "duration": 480,
    "start_time": "2023-01-14T17:13:03.203Z"
   },
   {
    "duration": 154,
    "start_time": "2023-01-14T17:13:03.684Z"
   },
   {
    "duration": 168,
    "start_time": "2023-01-14T17:13:03.840Z"
   },
   {
    "duration": 152,
    "start_time": "2023-01-14T17:13:04.009Z"
   },
   {
    "duration": 122,
    "start_time": "2023-01-14T17:13:04.163Z"
   },
   {
    "duration": 161,
    "start_time": "2023-01-14T17:13:04.286Z"
   },
   {
    "duration": 280,
    "start_time": "2023-01-14T17:13:04.449Z"
   },
   {
    "duration": 320,
    "start_time": "2023-01-14T17:13:04.731Z"
   },
   {
    "duration": 182,
    "start_time": "2023-01-14T17:13:05.052Z"
   },
   {
    "duration": 266,
    "start_time": "2023-01-14T17:13:05.236Z"
   },
   {
    "duration": 489,
    "start_time": "2023-01-14T17:13:05.503Z"
   },
   {
    "duration": 179,
    "start_time": "2023-01-14T17:13:05.994Z"
   },
   {
    "duration": 176,
    "start_time": "2023-01-14T17:13:06.175Z"
   },
   {
    "duration": 162,
    "start_time": "2023-01-14T17:13:06.353Z"
   },
   {
    "duration": 168,
    "start_time": "2023-01-14T17:13:06.517Z"
   },
   {
    "duration": 151,
    "start_time": "2023-01-14T17:13:06.687Z"
   },
   {
    "duration": 307,
    "start_time": "2023-01-14T17:13:06.840Z"
   },
   {
    "duration": 21,
    "start_time": "2023-01-14T17:13:07.149Z"
   },
   {
    "duration": 42,
    "start_time": "2023-01-14T17:13:07.172Z"
   },
   {
    "duration": 179,
    "start_time": "2023-01-14T17:13:07.216Z"
   },
   {
    "duration": 47,
    "start_time": "2023-01-16T19:38:04.199Z"
   },
   {
    "duration": 801,
    "start_time": "2023-01-16T19:38:07.267Z"
   },
   {
    "duration": 2371,
    "start_time": "2023-01-16T19:38:08.070Z"
   },
   {
    "duration": 10,
    "start_time": "2023-01-16T19:38:10.443Z"
   },
   {
    "duration": 5,
    "start_time": "2023-01-16T19:38:10.454Z"
   },
   {
    "duration": 235,
    "start_time": "2023-01-16T19:38:10.461Z"
   },
   {
    "duration": 28,
    "start_time": "2023-01-16T19:38:10.698Z"
   },
   {
    "duration": 4,
    "start_time": "2023-01-16T19:38:10.727Z"
   },
   {
    "duration": 23,
    "start_time": "2023-01-16T19:38:10.732Z"
   },
   {
    "duration": 60,
    "start_time": "2023-01-16T19:38:10.757Z"
   },
   {
    "duration": 7,
    "start_time": "2023-01-16T19:38:10.818Z"
   },
   {
    "duration": 30,
    "start_time": "2023-01-16T19:38:10.826Z"
   },
   {
    "duration": 7,
    "start_time": "2023-01-16T19:38:10.858Z"
   },
   {
    "duration": 32,
    "start_time": "2023-01-16T19:38:10.866Z"
   },
   {
    "duration": 8,
    "start_time": "2023-01-16T19:38:10.901Z"
   },
   {
    "duration": 188,
    "start_time": "2023-01-16T19:38:10.910Z"
   },
   {
    "duration": 193,
    "start_time": "2023-01-16T19:38:11.099Z"
   },
   {
    "duration": 8,
    "start_time": "2023-01-16T19:38:11.295Z"
   },
   {
    "duration": 8,
    "start_time": "2023-01-16T19:38:11.305Z"
   },
   {
    "duration": 16,
    "start_time": "2023-01-16T19:38:11.314Z"
   },
   {
    "duration": 7,
    "start_time": "2023-01-16T19:38:11.332Z"
   },
   {
    "duration": 6,
    "start_time": "2023-01-16T19:38:11.341Z"
   },
   {
    "duration": 51,
    "start_time": "2023-01-16T19:38:11.349Z"
   },
   {
    "duration": 7,
    "start_time": "2023-01-16T19:38:11.402Z"
   },
   {
    "duration": 10,
    "start_time": "2023-01-16T19:38:11.411Z"
   },
   {
    "duration": 12,
    "start_time": "2023-01-16T19:38:11.423Z"
   },
   {
    "duration": 65,
    "start_time": "2023-01-16T19:38:11.437Z"
   },
   {
    "duration": 150,
    "start_time": "2023-01-16T19:38:11.503Z"
   },
   {
    "duration": 8,
    "start_time": "2023-01-16T19:38:11.654Z"
   },
   {
    "duration": 413,
    "start_time": "2023-01-16T19:38:11.663Z"
   },
   {
    "duration": 312,
    "start_time": "2023-01-16T19:38:12.078Z"
   },
   {
    "duration": 140,
    "start_time": "2023-01-16T19:38:12.391Z"
   },
   {
    "duration": 157,
    "start_time": "2023-01-16T19:38:12.533Z"
   },
   {
    "duration": 19,
    "start_time": "2023-01-16T19:38:12.691Z"
   },
   {
    "duration": 4,
    "start_time": "2023-01-16T19:38:12.712Z"
   },
   {
    "duration": 12,
    "start_time": "2023-01-16T19:38:12.718Z"
   },
   {
    "duration": 6,
    "start_time": "2023-01-16T19:38:12.732Z"
   },
   {
    "duration": 6,
    "start_time": "2023-01-16T19:38:12.739Z"
   },
   {
    "duration": 524,
    "start_time": "2023-01-16T19:38:12.746Z"
   },
   {
    "duration": 6,
    "start_time": "2023-01-16T19:38:13.272Z"
   },
   {
    "duration": 17,
    "start_time": "2023-01-16T19:38:13.280Z"
   },
   {
    "duration": 27,
    "start_time": "2023-01-16T19:38:13.302Z"
   },
   {
    "duration": 208,
    "start_time": "2023-01-16T19:38:13.331Z"
   },
   {
    "duration": 269,
    "start_time": "2023-01-16T19:38:13.541Z"
   },
   {
    "duration": 186,
    "start_time": "2023-01-16T19:38:13.812Z"
   },
   {
    "duration": 480,
    "start_time": "2023-01-16T19:38:14.000Z"
   },
   {
    "duration": 153,
    "start_time": "2023-01-16T19:38:14.481Z"
   },
   {
    "duration": 160,
    "start_time": "2023-01-16T19:38:14.636Z"
   },
   {
    "duration": 150,
    "start_time": "2023-01-16T19:38:14.797Z"
   },
   {
    "duration": 128,
    "start_time": "2023-01-16T19:38:14.949Z"
   },
   {
    "duration": 329,
    "start_time": "2023-01-16T19:38:15.078Z"
   },
   {
    "duration": 249,
    "start_time": "2023-01-16T19:38:15.408Z"
   },
   {
    "duration": 172,
    "start_time": "2023-01-16T19:38:15.659Z"
   },
   {
    "duration": 181,
    "start_time": "2023-01-16T19:38:15.833Z"
   },
   {
    "duration": 288,
    "start_time": "2023-01-16T19:38:16.016Z"
   },
   {
    "duration": 527,
    "start_time": "2023-01-16T19:38:16.306Z"
   },
   {
    "duration": 179,
    "start_time": "2023-01-16T19:38:16.835Z"
   },
   {
    "duration": 251,
    "start_time": "2023-01-16T19:38:17.015Z"
   },
   {
    "duration": 163,
    "start_time": "2023-01-16T19:38:17.268Z"
   },
   {
    "duration": 153,
    "start_time": "2023-01-16T19:38:17.433Z"
   },
   {
    "duration": 154,
    "start_time": "2023-01-16T19:38:17.588Z"
   },
   {
    "duration": 293,
    "start_time": "2023-01-16T19:38:17.745Z"
   },
   {
    "duration": 20,
    "start_time": "2023-01-16T19:38:18.039Z"
   },
   {
    "duration": 36,
    "start_time": "2023-01-16T19:38:18.061Z"
   },
   {
    "duration": 180,
    "start_time": "2023-01-16T19:38:18.099Z"
   },
   {
    "duration": 248,
    "start_time": "2023-01-16T19:38:41.232Z"
   },
   {
    "duration": 255,
    "start_time": "2023-01-16T19:44:45.579Z"
   },
   {
    "duration": 357,
    "start_time": "2023-01-16T19:45:06.416Z"
   },
   {
    "duration": 2,
    "start_time": "2023-01-16T19:47:04.098Z"
   },
   {
    "duration": 87,
    "start_time": "2023-01-16T19:47:04.102Z"
   },
   {
    "duration": 39,
    "start_time": "2023-01-16T19:47:04.191Z"
   },
   {
    "duration": 2074,
    "start_time": "2023-01-16T19:47:04.232Z"
   },
   {
    "duration": 9,
    "start_time": "2023-01-16T19:47:06.309Z"
   },
   {
    "duration": 5,
    "start_time": "2023-01-16T19:47:06.320Z"
   },
   {
    "duration": 253,
    "start_time": "2023-01-16T19:47:06.327Z"
   },
   {
    "duration": 36,
    "start_time": "2023-01-16T19:47:06.583Z"
   },
   {
    "duration": 3,
    "start_time": "2023-01-16T19:47:06.620Z"
   },
   {
    "duration": 17,
    "start_time": "2023-01-16T19:47:06.625Z"
   },
   {
    "duration": 176,
    "start_time": "2023-01-16T19:47:06.646Z"
   },
   {
    "duration": 9,
    "start_time": "2023-01-16T19:47:06.824Z"
   },
   {
    "duration": 31,
    "start_time": "2023-01-16T19:47:06.835Z"
   },
   {
    "duration": 29,
    "start_time": "2023-01-16T19:47:06.868Z"
   },
   {
    "duration": 7,
    "start_time": "2023-01-16T19:47:06.900Z"
   },
   {
    "duration": 10,
    "start_time": "2023-01-16T19:47:06.908Z"
   },
   {
    "duration": 202,
    "start_time": "2023-01-16T19:47:06.920Z"
   },
   {
    "duration": 209,
    "start_time": "2023-01-16T19:47:07.124Z"
   },
   {
    "duration": 9,
    "start_time": "2023-01-16T19:47:07.335Z"
   },
   {
    "duration": 7,
    "start_time": "2023-01-16T19:47:07.347Z"
   },
   {
    "duration": 15,
    "start_time": "2023-01-16T19:47:07.356Z"
   },
   {
    "duration": 30,
    "start_time": "2023-01-16T19:47:07.372Z"
   },
   {
    "duration": 10,
    "start_time": "2023-01-16T19:47:07.404Z"
   },
   {
    "duration": 15,
    "start_time": "2023-01-16T19:47:07.416Z"
   },
   {
    "duration": 9,
    "start_time": "2023-01-16T19:47:07.433Z"
   },
   {
    "duration": 11,
    "start_time": "2023-01-16T19:47:07.443Z"
   },
   {
    "duration": 47,
    "start_time": "2023-01-16T19:47:07.456Z"
   },
   {
    "duration": 19,
    "start_time": "2023-01-16T19:47:07.505Z"
   },
   {
    "duration": 189,
    "start_time": "2023-01-16T19:47:07.527Z"
   },
   {
    "duration": 8,
    "start_time": "2023-01-16T19:47:07.718Z"
   },
   {
    "duration": 308,
    "start_time": "2023-01-16T19:47:07.727Z"
   },
   {
    "duration": 307,
    "start_time": "2023-01-16T19:47:08.036Z"
   },
   {
    "duration": 137,
    "start_time": "2023-01-16T19:47:08.345Z"
   },
   {
    "duration": 136,
    "start_time": "2023-01-16T19:47:08.484Z"
   },
   {
    "duration": 14,
    "start_time": "2023-01-16T19:47:08.622Z"
   },
   {
    "duration": 4,
    "start_time": "2023-01-16T19:47:08.637Z"
   },
   {
    "duration": 12,
    "start_time": "2023-01-16T19:47:08.642Z"
   },
   {
    "duration": 5,
    "start_time": "2023-01-16T19:47:08.655Z"
   },
   {
    "duration": 5,
    "start_time": "2023-01-16T19:47:08.661Z"
   },
   {
    "duration": 633,
    "start_time": "2023-01-16T19:47:08.668Z"
   },
   {
    "duration": 6,
    "start_time": "2023-01-16T19:47:09.303Z"
   },
   {
    "duration": 8,
    "start_time": "2023-01-16T19:47:09.310Z"
   },
   {
    "duration": 26,
    "start_time": "2023-01-16T19:47:09.319Z"
   },
   {
    "duration": 203,
    "start_time": "2023-01-16T19:47:09.347Z"
   },
   {
    "duration": 235,
    "start_time": "2023-01-16T19:47:09.552Z"
   },
   {
    "duration": 262,
    "start_time": "2023-01-16T19:47:09.788Z"
   },
   {
    "duration": 551,
    "start_time": "2023-01-16T19:47:10.052Z"
   },
   {
    "duration": 279,
    "start_time": "2023-01-16T19:47:10.605Z"
   },
   {
    "duration": 157,
    "start_time": "2023-01-16T19:47:10.886Z"
   },
   {
    "duration": 298,
    "start_time": "2023-01-16T19:47:11.045Z"
   },
   {
    "duration": 271,
    "start_time": "2023-01-16T19:47:11.344Z"
   },
   {
    "duration": 494,
    "start_time": "2023-01-16T19:47:11.617Z"
   },
   {
    "duration": 498,
    "start_time": "2023-01-16T19:47:12.112Z"
   },
   {
    "duration": 316,
    "start_time": "2023-01-16T19:47:12.612Z"
   },
   {
    "duration": 204,
    "start_time": "2023-01-16T19:47:12.930Z"
   },
   {
    "duration": 261,
    "start_time": "2023-01-16T19:47:13.136Z"
   },
   {
    "duration": 589,
    "start_time": "2023-01-16T19:47:13.399Z"
   },
   {
    "duration": 170,
    "start_time": "2023-01-16T19:47:13.989Z"
   },
   {
    "duration": 168,
    "start_time": "2023-01-16T19:47:14.161Z"
   },
   {
    "duration": 175,
    "start_time": "2023-01-16T19:47:14.331Z"
   },
   {
    "duration": 159,
    "start_time": "2023-01-16T19:47:14.508Z"
   },
   {
    "duration": 146,
    "start_time": "2023-01-16T19:47:14.668Z"
   },
   {
    "duration": 275,
    "start_time": "2023-01-16T19:47:14.817Z"
   },
   {
    "duration": 19,
    "start_time": "2023-01-16T19:47:15.093Z"
   },
   {
    "duration": 20,
    "start_time": "2023-01-16T19:47:15.114Z"
   },
   {
    "duration": 202,
    "start_time": "2023-01-16T19:47:15.136Z"
   },
   {
    "duration": 9,
    "start_time": "2023-01-16T19:49:03.055Z"
   },
   {
    "duration": 8,
    "start_time": "2023-01-16T19:49:21.694Z"
   },
   {
    "duration": 7,
    "start_time": "2023-01-16T19:49:36.629Z"
   },
   {
    "duration": 36,
    "start_time": "2023-01-16T19:50:31.211Z"
   },
   {
    "duration": 6,
    "start_time": "2023-01-16T19:50:45.104Z"
   },
   {
    "duration": 31,
    "start_time": "2023-01-16T19:52:48.180Z"
   },
   {
    "duration": 33,
    "start_time": "2023-01-16T19:54:32.925Z"
   },
   {
    "duration": 9,
    "start_time": "2023-01-16T19:54:39.992Z"
   },
   {
    "duration": 3,
    "start_time": "2023-01-16T19:56:27.737Z"
   },
   {
    "duration": 90,
    "start_time": "2023-01-16T19:56:27.744Z"
   },
   {
    "duration": 38,
    "start_time": "2023-01-16T19:56:27.836Z"
   },
   {
    "duration": 2135,
    "start_time": "2023-01-16T19:56:27.875Z"
   },
   {
    "duration": 11,
    "start_time": "2023-01-16T19:56:30.012Z"
   },
   {
    "duration": 18,
    "start_time": "2023-01-16T19:56:30.025Z"
   },
   {
    "duration": 278,
    "start_time": "2023-01-16T19:56:30.045Z"
   },
   {
    "duration": 40,
    "start_time": "2023-01-16T19:56:30.325Z"
   },
   {
    "duration": 31,
    "start_time": "2023-01-16T19:56:30.367Z"
   },
   {
    "duration": 18,
    "start_time": "2023-01-16T19:56:30.400Z"
   },
   {
    "duration": 28,
    "start_time": "2023-01-16T19:56:30.422Z"
   },
   {
    "duration": 56,
    "start_time": "2023-01-16T19:56:30.452Z"
   },
   {
    "duration": 7,
    "start_time": "2023-01-16T19:56:30.509Z"
   },
   {
    "duration": 60,
    "start_time": "2023-01-16T19:56:30.517Z"
   },
   {
    "duration": 43,
    "start_time": "2023-01-16T19:56:30.579Z"
   },
   {
    "duration": 38,
    "start_time": "2023-01-16T19:56:30.624Z"
   },
   {
    "duration": 28,
    "start_time": "2023-01-16T19:56:30.664Z"
   },
   {
    "duration": 201,
    "start_time": "2023-01-16T19:56:30.693Z"
   },
   {
    "duration": 216,
    "start_time": "2023-01-16T19:56:30.896Z"
   },
   {
    "duration": 8,
    "start_time": "2023-01-16T19:56:31.114Z"
   },
   {
    "duration": 54,
    "start_time": "2023-01-16T19:56:31.123Z"
   },
   {
    "duration": 30,
    "start_time": "2023-01-16T19:56:31.178Z"
   },
   {
    "duration": 39,
    "start_time": "2023-01-16T19:56:31.209Z"
   },
   {
    "duration": 40,
    "start_time": "2023-01-16T19:56:31.249Z"
   },
   {
    "duration": 43,
    "start_time": "2023-01-16T19:56:31.291Z"
   },
   {
    "duration": 48,
    "start_time": "2023-01-16T19:56:31.336Z"
   },
   {
    "duration": 12,
    "start_time": "2023-01-16T19:56:31.386Z"
   },
   {
    "duration": 18,
    "start_time": "2023-01-16T19:56:31.400Z"
   },
   {
    "duration": 21,
    "start_time": "2023-01-16T19:56:31.422Z"
   },
   {
    "duration": 204,
    "start_time": "2023-01-16T19:56:31.444Z"
   },
   {
    "duration": 7,
    "start_time": "2023-01-16T19:56:31.650Z"
   },
   {
    "duration": 341,
    "start_time": "2023-01-16T19:56:31.659Z"
   },
   {
    "duration": 500,
    "start_time": "2023-01-16T19:56:32.002Z"
   },
   {
    "duration": 142,
    "start_time": "2023-01-16T19:56:32.504Z"
   },
   {
    "duration": 144,
    "start_time": "2023-01-16T19:56:32.647Z"
   },
   {
    "duration": 15,
    "start_time": "2023-01-16T19:56:32.796Z"
   },
   {
    "duration": 8,
    "start_time": "2023-01-16T19:56:32.813Z"
   },
   {
    "duration": 22,
    "start_time": "2023-01-16T19:56:32.823Z"
   },
   {
    "duration": 21,
    "start_time": "2023-01-16T19:56:32.847Z"
   },
   {
    "duration": 9,
    "start_time": "2023-01-16T19:56:32.870Z"
   },
   {
    "duration": 486,
    "start_time": "2023-01-16T19:56:32.880Z"
   },
   {
    "duration": 7,
    "start_time": "2023-01-16T19:56:33.367Z"
   },
   {
    "duration": 16,
    "start_time": "2023-01-16T19:56:33.375Z"
   },
   {
    "duration": 26,
    "start_time": "2023-01-16T19:56:33.392Z"
   },
   {
    "duration": 203,
    "start_time": "2023-01-16T19:56:33.419Z"
   },
   {
    "duration": 242,
    "start_time": "2023-01-16T19:56:33.624Z"
   },
   {
    "duration": 258,
    "start_time": "2023-01-16T19:56:33.868Z"
   },
   {
    "duration": 638,
    "start_time": "2023-01-16T19:56:34.128Z"
   },
   {
    "duration": 159,
    "start_time": "2023-01-16T19:56:34.768Z"
   },
   {
    "duration": 172,
    "start_time": "2023-01-16T19:56:34.929Z"
   },
   {
    "duration": 253,
    "start_time": "2023-01-16T19:56:35.102Z"
   },
   {
    "duration": 117,
    "start_time": "2023-01-16T19:56:35.357Z"
   },
   {
    "duration": 245,
    "start_time": "2023-01-16T19:56:35.476Z"
   },
   {
    "duration": 278,
    "start_time": "2023-01-16T19:56:35.722Z"
   },
   {
    "duration": 223,
    "start_time": "2023-01-16T19:56:36.002Z"
   },
   {
    "duration": 171,
    "start_time": "2023-01-16T19:56:36.227Z"
   },
   {
    "duration": 266,
    "start_time": "2023-01-16T19:56:36.400Z"
   },
   {
    "duration": 687,
    "start_time": "2023-01-16T19:56:36.668Z"
   },
   {
    "duration": 176,
    "start_time": "2023-01-16T19:56:37.357Z"
   },
   {
    "duration": 172,
    "start_time": "2023-01-16T19:56:37.535Z"
   },
   {
    "duration": 177,
    "start_time": "2023-01-16T19:56:37.709Z"
   },
   {
    "duration": 202,
    "start_time": "2023-01-16T19:56:37.888Z"
   },
   {
    "duration": 164,
    "start_time": "2023-01-16T19:56:38.096Z"
   },
   {
    "duration": 318,
    "start_time": "2023-01-16T19:56:38.262Z"
   },
   {
    "duration": 31,
    "start_time": "2023-01-16T19:56:38.582Z"
   },
   {
    "duration": 30,
    "start_time": "2023-01-16T19:56:38.615Z"
   },
   {
    "duration": 226,
    "start_time": "2023-01-16T19:56:38.647Z"
   },
   {
    "duration": 34,
    "start_time": "2023-01-16T20:01:13.745Z"
   },
   {
    "duration": 10,
    "start_time": "2023-01-16T20:01:22.189Z"
   },
   {
    "duration": 2,
    "start_time": "2023-01-16T20:01:30.325Z"
   },
   {
    "duration": 91,
    "start_time": "2023-01-16T20:01:30.419Z"
   },
   {
    "duration": 38,
    "start_time": "2023-01-16T20:01:30.512Z"
   },
   {
    "duration": 2126,
    "start_time": "2023-01-16T20:01:30.551Z"
   },
   {
    "duration": 20,
    "start_time": "2023-01-16T20:01:32.679Z"
   },
   {
    "duration": 4,
    "start_time": "2023-01-16T20:01:32.701Z"
   },
   {
    "duration": 228,
    "start_time": "2023-01-16T20:01:32.707Z"
   },
   {
    "duration": 34,
    "start_time": "2023-01-16T20:01:32.937Z"
   },
   {
    "duration": 24,
    "start_time": "2023-01-16T20:01:32.973Z"
   },
   {
    "duration": 6,
    "start_time": "2023-01-16T20:01:32.999Z"
   },
   {
    "duration": 17,
    "start_time": "2023-01-16T20:01:33.006Z"
   },
   {
    "duration": 34,
    "start_time": "2023-01-16T20:01:33.024Z"
   },
   {
    "duration": 8,
    "start_time": "2023-01-16T20:01:33.060Z"
   },
   {
    "duration": 54,
    "start_time": "2023-01-16T20:01:33.069Z"
   },
   {
    "duration": 9,
    "start_time": "2023-01-16T20:01:33.126Z"
   },
   {
    "duration": 10,
    "start_time": "2023-01-16T20:01:33.137Z"
   },
   {
    "duration": 9,
    "start_time": "2023-01-16T20:01:33.149Z"
   },
   {
    "duration": 200,
    "start_time": "2023-01-16T20:01:33.160Z"
   },
   {
    "duration": 13,
    "start_time": "2023-01-16T20:01:33.362Z"
   },
   {
    "duration": 0,
    "start_time": "2023-01-16T20:01:33.377Z"
   },
   {
    "duration": 0,
    "start_time": "2023-01-16T20:01:33.378Z"
   },
   {
    "duration": 0,
    "start_time": "2023-01-16T20:01:33.379Z"
   },
   {
    "duration": 0,
    "start_time": "2023-01-16T20:01:33.380Z"
   },
   {
    "duration": 0,
    "start_time": "2023-01-16T20:01:33.396Z"
   },
   {
    "duration": 0,
    "start_time": "2023-01-16T20:01:33.398Z"
   },
   {
    "duration": 0,
    "start_time": "2023-01-16T20:01:33.399Z"
   },
   {
    "duration": 0,
    "start_time": "2023-01-16T20:01:33.400Z"
   },
   {
    "duration": 0,
    "start_time": "2023-01-16T20:01:33.402Z"
   },
   {
    "duration": 0,
    "start_time": "2023-01-16T20:01:33.404Z"
   },
   {
    "duration": 0,
    "start_time": "2023-01-16T20:01:33.405Z"
   },
   {
    "duration": 0,
    "start_time": "2023-01-16T20:01:33.406Z"
   },
   {
    "duration": 0,
    "start_time": "2023-01-16T20:01:33.408Z"
   },
   {
    "duration": 0,
    "start_time": "2023-01-16T20:01:33.409Z"
   },
   {
    "duration": 0,
    "start_time": "2023-01-16T20:01:33.410Z"
   },
   {
    "duration": 0,
    "start_time": "2023-01-16T20:01:33.411Z"
   },
   {
    "duration": 0,
    "start_time": "2023-01-16T20:01:33.412Z"
   },
   {
    "duration": 0,
    "start_time": "2023-01-16T20:01:33.414Z"
   },
   {
    "duration": 0,
    "start_time": "2023-01-16T20:01:33.415Z"
   },
   {
    "duration": 0,
    "start_time": "2023-01-16T20:01:33.416Z"
   },
   {
    "duration": 0,
    "start_time": "2023-01-16T20:01:33.418Z"
   },
   {
    "duration": 0,
    "start_time": "2023-01-16T20:01:33.418Z"
   },
   {
    "duration": 0,
    "start_time": "2023-01-16T20:01:33.421Z"
   },
   {
    "duration": 0,
    "start_time": "2023-01-16T20:01:33.422Z"
   },
   {
    "duration": 0,
    "start_time": "2023-01-16T20:01:33.422Z"
   },
   {
    "duration": 0,
    "start_time": "2023-01-16T20:01:33.424Z"
   },
   {
    "duration": 0,
    "start_time": "2023-01-16T20:01:33.425Z"
   },
   {
    "duration": 0,
    "start_time": "2023-01-16T20:01:33.426Z"
   },
   {
    "duration": 0,
    "start_time": "2023-01-16T20:01:33.427Z"
   },
   {
    "duration": 0,
    "start_time": "2023-01-16T20:01:33.428Z"
   },
   {
    "duration": 0,
    "start_time": "2023-01-16T20:01:33.429Z"
   },
   {
    "duration": 0,
    "start_time": "2023-01-16T20:01:33.430Z"
   },
   {
    "duration": 0,
    "start_time": "2023-01-16T20:01:33.431Z"
   },
   {
    "duration": 0,
    "start_time": "2023-01-16T20:01:33.432Z"
   },
   {
    "duration": 0,
    "start_time": "2023-01-16T20:01:33.496Z"
   },
   {
    "duration": 0,
    "start_time": "2023-01-16T20:01:33.498Z"
   },
   {
    "duration": 0,
    "start_time": "2023-01-16T20:01:33.498Z"
   },
   {
    "duration": 0,
    "start_time": "2023-01-16T20:01:33.500Z"
   },
   {
    "duration": 0,
    "start_time": "2023-01-16T20:01:33.501Z"
   },
   {
    "duration": 0,
    "start_time": "2023-01-16T20:01:33.502Z"
   },
   {
    "duration": 0,
    "start_time": "2023-01-16T20:01:33.503Z"
   },
   {
    "duration": 0,
    "start_time": "2023-01-16T20:01:33.504Z"
   },
   {
    "duration": 0,
    "start_time": "2023-01-16T20:01:33.505Z"
   },
   {
    "duration": 0,
    "start_time": "2023-01-16T20:01:33.506Z"
   },
   {
    "duration": 0,
    "start_time": "2023-01-16T20:01:33.507Z"
   },
   {
    "duration": 0,
    "start_time": "2023-01-16T20:01:33.508Z"
   },
   {
    "duration": 0,
    "start_time": "2023-01-16T20:01:33.509Z"
   },
   {
    "duration": 0,
    "start_time": "2023-01-16T20:01:33.510Z"
   },
   {
    "duration": 3,
    "start_time": "2023-01-16T20:04:24.312Z"
   },
   {
    "duration": 92,
    "start_time": "2023-01-16T20:04:24.319Z"
   },
   {
    "duration": 34,
    "start_time": "2023-01-16T20:04:24.413Z"
   },
   {
    "duration": 1987,
    "start_time": "2023-01-16T20:04:24.448Z"
   },
   {
    "duration": 9,
    "start_time": "2023-01-16T20:04:26.437Z"
   },
   {
    "duration": 4,
    "start_time": "2023-01-16T20:04:26.447Z"
   },
   {
    "duration": 234,
    "start_time": "2023-01-16T20:04:26.452Z"
   },
   {
    "duration": 38,
    "start_time": "2023-01-16T20:04:26.687Z"
   },
   {
    "duration": 9,
    "start_time": "2023-01-16T20:04:26.726Z"
   },
   {
    "duration": 10,
    "start_time": "2023-01-16T20:04:26.736Z"
   },
   {
    "duration": 15,
    "start_time": "2023-01-16T20:04:26.748Z"
   },
   {
    "duration": 54,
    "start_time": "2023-01-16T20:04:26.764Z"
   },
   {
    "duration": 7,
    "start_time": "2023-01-16T20:04:26.820Z"
   },
   {
    "duration": 36,
    "start_time": "2023-01-16T20:04:26.828Z"
   },
   {
    "duration": 7,
    "start_time": "2023-01-16T20:04:26.866Z"
   },
   {
    "duration": 23,
    "start_time": "2023-01-16T20:04:26.874Z"
   },
   {
    "duration": 8,
    "start_time": "2023-01-16T20:04:26.898Z"
   },
   {
    "duration": 188,
    "start_time": "2023-01-16T20:04:26.908Z"
   },
   {
    "duration": 13,
    "start_time": "2023-01-16T20:04:27.097Z"
   },
   {
    "duration": 0,
    "start_time": "2023-01-16T20:04:27.112Z"
   },
   {
    "duration": 0,
    "start_time": "2023-01-16T20:04:27.113Z"
   },
   {
    "duration": 0,
    "start_time": "2023-01-16T20:04:27.114Z"
   },
   {
    "duration": 0,
    "start_time": "2023-01-16T20:04:27.115Z"
   },
   {
    "duration": 0,
    "start_time": "2023-01-16T20:04:27.117Z"
   },
   {
    "duration": 0,
    "start_time": "2023-01-16T20:04:27.118Z"
   },
   {
    "duration": 0,
    "start_time": "2023-01-16T20:04:27.120Z"
   },
   {
    "duration": 0,
    "start_time": "2023-01-16T20:04:27.121Z"
   },
   {
    "duration": 0,
    "start_time": "2023-01-16T20:04:27.122Z"
   },
   {
    "duration": 0,
    "start_time": "2023-01-16T20:04:27.123Z"
   },
   {
    "duration": 0,
    "start_time": "2023-01-16T20:04:27.125Z"
   },
   {
    "duration": 0,
    "start_time": "2023-01-16T20:04:27.126Z"
   },
   {
    "duration": 0,
    "start_time": "2023-01-16T20:04:27.127Z"
   },
   {
    "duration": 0,
    "start_time": "2023-01-16T20:04:27.128Z"
   },
   {
    "duration": 0,
    "start_time": "2023-01-16T20:04:27.129Z"
   },
   {
    "duration": 0,
    "start_time": "2023-01-16T20:04:27.130Z"
   },
   {
    "duration": 0,
    "start_time": "2023-01-16T20:04:27.132Z"
   },
   {
    "duration": 0,
    "start_time": "2023-01-16T20:04:27.133Z"
   },
   {
    "duration": 0,
    "start_time": "2023-01-16T20:04:27.134Z"
   },
   {
    "duration": 0,
    "start_time": "2023-01-16T20:04:27.135Z"
   },
   {
    "duration": 0,
    "start_time": "2023-01-16T20:04:27.136Z"
   },
   {
    "duration": 0,
    "start_time": "2023-01-16T20:04:27.137Z"
   },
   {
    "duration": 0,
    "start_time": "2023-01-16T20:04:27.138Z"
   },
   {
    "duration": 0,
    "start_time": "2023-01-16T20:04:27.139Z"
   },
   {
    "duration": 0,
    "start_time": "2023-01-16T20:04:27.140Z"
   },
   {
    "duration": 0,
    "start_time": "2023-01-16T20:04:27.141Z"
   },
   {
    "duration": 0,
    "start_time": "2023-01-16T20:04:27.142Z"
   },
   {
    "duration": 0,
    "start_time": "2023-01-16T20:04:27.143Z"
   },
   {
    "duration": 0,
    "start_time": "2023-01-16T20:04:27.144Z"
   },
   {
    "duration": 0,
    "start_time": "2023-01-16T20:04:27.197Z"
   },
   {
    "duration": 0,
    "start_time": "2023-01-16T20:04:27.198Z"
   },
   {
    "duration": 0,
    "start_time": "2023-01-16T20:04:27.199Z"
   },
   {
    "duration": 0,
    "start_time": "2023-01-16T20:04:27.200Z"
   },
   {
    "duration": 0,
    "start_time": "2023-01-16T20:04:27.201Z"
   },
   {
    "duration": 0,
    "start_time": "2023-01-16T20:04:27.203Z"
   },
   {
    "duration": 0,
    "start_time": "2023-01-16T20:04:27.204Z"
   },
   {
    "duration": 0,
    "start_time": "2023-01-16T20:04:27.205Z"
   },
   {
    "duration": 0,
    "start_time": "2023-01-16T20:04:27.206Z"
   },
   {
    "duration": 0,
    "start_time": "2023-01-16T20:04:27.207Z"
   },
   {
    "duration": 0,
    "start_time": "2023-01-16T20:04:27.208Z"
   },
   {
    "duration": 0,
    "start_time": "2023-01-16T20:04:27.209Z"
   },
   {
    "duration": 0,
    "start_time": "2023-01-16T20:04:27.210Z"
   },
   {
    "duration": 0,
    "start_time": "2023-01-16T20:04:27.211Z"
   },
   {
    "duration": 0,
    "start_time": "2023-01-16T20:04:27.212Z"
   },
   {
    "duration": 0,
    "start_time": "2023-01-16T20:04:27.213Z"
   },
   {
    "duration": 0,
    "start_time": "2023-01-16T20:04:27.215Z"
   },
   {
    "duration": 0,
    "start_time": "2023-01-16T20:04:27.215Z"
   },
   {
    "duration": 0,
    "start_time": "2023-01-16T20:04:27.217Z"
   },
   {
    "duration": 3,
    "start_time": "2023-01-16T20:05:39.937Z"
   },
   {
    "duration": 88,
    "start_time": "2023-01-16T20:05:39.949Z"
   },
   {
    "duration": 35,
    "start_time": "2023-01-16T20:05:40.039Z"
   },
   {
    "duration": 2174,
    "start_time": "2023-01-16T20:05:40.077Z"
   },
   {
    "duration": 9,
    "start_time": "2023-01-16T20:05:42.253Z"
   },
   {
    "duration": 11,
    "start_time": "2023-01-16T20:05:42.263Z"
   },
   {
    "duration": 239,
    "start_time": "2023-01-16T20:05:42.275Z"
   },
   {
    "duration": 37,
    "start_time": "2023-01-16T20:05:42.516Z"
   },
   {
    "duration": 9,
    "start_time": "2023-01-16T20:05:42.554Z"
   },
   {
    "duration": 8,
    "start_time": "2023-01-16T20:05:42.565Z"
   },
   {
    "duration": 15,
    "start_time": "2023-01-16T20:05:42.596Z"
   },
   {
    "duration": 34,
    "start_time": "2023-01-16T20:05:42.613Z"
   },
   {
    "duration": 6,
    "start_time": "2023-01-16T20:05:42.648Z"
   },
   {
    "duration": 53,
    "start_time": "2023-01-16T20:05:42.656Z"
   },
   {
    "duration": 8,
    "start_time": "2023-01-16T20:05:42.710Z"
   },
   {
    "duration": 12,
    "start_time": "2023-01-16T20:05:42.719Z"
   },
   {
    "duration": 17,
    "start_time": "2023-01-16T20:05:42.732Z"
   },
   {
    "duration": 176,
    "start_time": "2023-01-16T20:05:42.750Z"
   },
   {
    "duration": 182,
    "start_time": "2023-01-16T20:05:42.928Z"
   },
   {
    "duration": 7,
    "start_time": "2023-01-16T20:05:43.112Z"
   },
   {
    "duration": 9,
    "start_time": "2023-01-16T20:05:43.121Z"
   },
   {
    "duration": 17,
    "start_time": "2023-01-16T20:05:43.132Z"
   },
   {
    "duration": 7,
    "start_time": "2023-01-16T20:05:43.151Z"
   },
   {
    "duration": 8,
    "start_time": "2023-01-16T20:05:43.160Z"
   },
   {
    "duration": 39,
    "start_time": "2023-01-16T20:05:43.169Z"
   },
   {
    "duration": 8,
    "start_time": "2023-01-16T20:05:43.210Z"
   },
   {
    "duration": 9,
    "start_time": "2023-01-16T20:05:43.219Z"
   },
   {
    "duration": 14,
    "start_time": "2023-01-16T20:05:43.229Z"
   },
   {
    "duration": 17,
    "start_time": "2023-01-16T20:05:43.246Z"
   },
   {
    "duration": 159,
    "start_time": "2023-01-16T20:05:43.297Z"
   },
   {
    "duration": 8,
    "start_time": "2023-01-16T20:05:43.457Z"
   },
   {
    "duration": 538,
    "start_time": "2023-01-16T20:05:43.466Z"
   },
   {
    "duration": 305,
    "start_time": "2023-01-16T20:05:44.006Z"
   },
   {
    "duration": 142,
    "start_time": "2023-01-16T20:05:44.313Z"
   },
   {
    "duration": 141,
    "start_time": "2023-01-16T20:05:44.457Z"
   },
   {
    "duration": 15,
    "start_time": "2023-01-16T20:05:44.599Z"
   },
   {
    "duration": 4,
    "start_time": "2023-01-16T20:05:44.616Z"
   },
   {
    "duration": 14,
    "start_time": "2023-01-16T20:05:44.621Z"
   },
   {
    "duration": 6,
    "start_time": "2023-01-16T20:05:44.636Z"
   },
   {
    "duration": 6,
    "start_time": "2023-01-16T20:05:44.643Z"
   },
   {
    "duration": 607,
    "start_time": "2023-01-16T20:05:44.651Z"
   },
   {
    "duration": 7,
    "start_time": "2023-01-16T20:05:45.260Z"
   },
   {
    "duration": 13,
    "start_time": "2023-01-16T20:05:45.268Z"
   },
   {
    "duration": 36,
    "start_time": "2023-01-16T20:05:45.282Z"
   },
   {
    "duration": 179,
    "start_time": "2023-01-16T20:05:45.319Z"
   },
   {
    "duration": 230,
    "start_time": "2023-01-16T20:05:45.500Z"
   },
   {
    "duration": 235,
    "start_time": "2023-01-16T20:05:45.731Z"
   },
   {
    "duration": 812,
    "start_time": "2023-01-16T20:05:45.968Z"
   },
   {
    "duration": 171,
    "start_time": "2023-01-16T20:05:46.782Z"
   },
   {
    "duration": 149,
    "start_time": "2023-01-16T20:05:46.955Z"
   },
   {
    "duration": 238,
    "start_time": "2023-01-16T20:05:47.105Z"
   },
   {
    "duration": 126,
    "start_time": "2023-01-16T20:05:47.345Z"
   },
   {
    "duration": 253,
    "start_time": "2023-01-16T20:05:47.473Z"
   },
   {
    "duration": 257,
    "start_time": "2023-01-16T20:05:47.728Z"
   },
   {
    "duration": 165,
    "start_time": "2023-01-16T20:05:47.987Z"
   },
   {
    "duration": 180,
    "start_time": "2023-01-16T20:05:48.154Z"
   },
   {
    "duration": 278,
    "start_time": "2023-01-16T20:05:48.336Z"
   },
   {
    "duration": 498,
    "start_time": "2023-01-16T20:05:48.616Z"
   },
   {
    "duration": 171,
    "start_time": "2023-01-16T20:05:49.116Z"
   },
   {
    "duration": 21,
    "start_time": "2023-01-16T20:05:49.289Z"
   },
   {
    "duration": 0,
    "start_time": "2023-01-16T20:05:49.311Z"
   },
   {
    "duration": 0,
    "start_time": "2023-01-16T20:05:49.312Z"
   },
   {
    "duration": 0,
    "start_time": "2023-01-16T20:05:49.313Z"
   },
   {
    "duration": 0,
    "start_time": "2023-01-16T20:05:49.314Z"
   },
   {
    "duration": 0,
    "start_time": "2023-01-16T20:05:49.315Z"
   },
   {
    "duration": 0,
    "start_time": "2023-01-16T20:05:49.317Z"
   },
   {
    "duration": 0,
    "start_time": "2023-01-16T20:05:49.318Z"
   },
   {
    "duration": 496,
    "start_time": "2023-01-16T20:06:33.820Z"
   },
   {
    "duration": 348,
    "start_time": "2023-01-16T20:11:19.531Z"
   },
   {
    "duration": 2,
    "start_time": "2023-01-16T20:11:28.669Z"
   },
   {
    "duration": 114,
    "start_time": "2023-01-16T20:11:28.673Z"
   },
   {
    "duration": 42,
    "start_time": "2023-01-16T20:11:28.789Z"
   },
   {
    "duration": 2077,
    "start_time": "2023-01-16T20:11:28.834Z"
   },
   {
    "duration": 10,
    "start_time": "2023-01-16T20:11:30.913Z"
   },
   {
    "duration": 5,
    "start_time": "2023-01-16T20:11:30.925Z"
   },
   {
    "duration": 264,
    "start_time": "2023-01-16T20:11:30.932Z"
   },
   {
    "duration": 40,
    "start_time": "2023-01-16T20:11:31.198Z"
   },
   {
    "duration": 11,
    "start_time": "2023-01-16T20:11:31.239Z"
   },
   {
    "duration": 8,
    "start_time": "2023-01-16T20:11:31.252Z"
   },
   {
    "duration": 38,
    "start_time": "2023-01-16T20:11:31.262Z"
   },
   {
    "duration": 35,
    "start_time": "2023-01-16T20:11:31.302Z"
   },
   {
    "duration": 8,
    "start_time": "2023-01-16T20:11:31.339Z"
   },
   {
    "duration": 52,
    "start_time": "2023-01-16T20:11:31.349Z"
   },
   {
    "duration": 7,
    "start_time": "2023-01-16T20:11:31.403Z"
   },
   {
    "duration": 17,
    "start_time": "2023-01-16T20:11:31.412Z"
   },
   {
    "duration": 9,
    "start_time": "2023-01-16T20:11:31.431Z"
   },
   {
    "duration": 270,
    "start_time": "2023-01-16T20:11:31.442Z"
   },
   {
    "duration": 482,
    "start_time": "2023-01-16T20:11:31.714Z"
   },
   {
    "duration": 9,
    "start_time": "2023-01-16T20:11:32.198Z"
   },
   {
    "duration": 38,
    "start_time": "2023-01-16T20:11:32.208Z"
   },
   {
    "duration": 35,
    "start_time": "2023-01-16T20:11:32.248Z"
   },
   {
    "duration": 20,
    "start_time": "2023-01-16T20:11:32.285Z"
   },
   {
    "duration": 7,
    "start_time": "2023-01-16T20:11:32.307Z"
   },
   {
    "duration": 15,
    "start_time": "2023-01-16T20:11:32.316Z"
   },
   {
    "duration": 9,
    "start_time": "2023-01-16T20:11:32.332Z"
   },
   {
    "duration": 11,
    "start_time": "2023-01-16T20:11:32.342Z"
   },
   {
    "duration": 13,
    "start_time": "2023-01-16T20:11:32.354Z"
   },
   {
    "duration": 42,
    "start_time": "2023-01-16T20:11:32.371Z"
   },
   {
    "duration": 134,
    "start_time": "2023-01-16T20:11:32.415Z"
   },
   {
    "duration": 8,
    "start_time": "2023-01-16T20:11:32.550Z"
   },
   {
    "duration": 305,
    "start_time": "2023-01-16T20:11:32.560Z"
   },
   {
    "duration": 311,
    "start_time": "2023-01-16T20:11:32.867Z"
   },
   {
    "duration": 144,
    "start_time": "2023-01-16T20:11:33.179Z"
   },
   {
    "duration": 142,
    "start_time": "2023-01-16T20:11:33.324Z"
   },
   {
    "duration": 14,
    "start_time": "2023-01-16T20:11:33.468Z"
   },
   {
    "duration": 4,
    "start_time": "2023-01-16T20:11:33.496Z"
   },
   {
    "duration": 26,
    "start_time": "2023-01-16T20:11:33.501Z"
   },
   {
    "duration": 5,
    "start_time": "2023-01-16T20:11:33.529Z"
   },
   {
    "duration": 8,
    "start_time": "2023-01-16T20:11:33.535Z"
   },
   {
    "duration": 319,
    "start_time": "2023-01-16T20:11:33.544Z"
   },
   {
    "duration": 683,
    "start_time": "2023-01-16T20:11:33.865Z"
   },
   {
    "duration": 0,
    "start_time": "2023-01-16T20:11:34.549Z"
   },
   {
    "duration": 0,
    "start_time": "2023-01-16T20:11:34.551Z"
   },
   {
    "duration": 0,
    "start_time": "2023-01-16T20:11:34.552Z"
   },
   {
    "duration": 0,
    "start_time": "2023-01-16T20:11:34.553Z"
   },
   {
    "duration": 0,
    "start_time": "2023-01-16T20:11:34.554Z"
   },
   {
    "duration": 0,
    "start_time": "2023-01-16T20:11:34.555Z"
   },
   {
    "duration": 0,
    "start_time": "2023-01-16T20:11:34.556Z"
   },
   {
    "duration": 0,
    "start_time": "2023-01-16T20:11:34.557Z"
   },
   {
    "duration": 0,
    "start_time": "2023-01-16T20:11:34.558Z"
   },
   {
    "duration": 0,
    "start_time": "2023-01-16T20:11:34.559Z"
   },
   {
    "duration": 0,
    "start_time": "2023-01-16T20:11:34.560Z"
   },
   {
    "duration": 0,
    "start_time": "2023-01-16T20:11:34.561Z"
   },
   {
    "duration": 0,
    "start_time": "2023-01-16T20:11:34.562Z"
   },
   {
    "duration": 0,
    "start_time": "2023-01-16T20:11:34.563Z"
   },
   {
    "duration": 0,
    "start_time": "2023-01-16T20:11:34.563Z"
   },
   {
    "duration": 0,
    "start_time": "2023-01-16T20:11:34.565Z"
   },
   {
    "duration": 0,
    "start_time": "2023-01-16T20:11:34.565Z"
   },
   {
    "duration": 0,
    "start_time": "2023-01-16T20:11:34.566Z"
   },
   {
    "duration": 0,
    "start_time": "2023-01-16T20:11:34.567Z"
   },
   {
    "duration": 0,
    "start_time": "2023-01-16T20:11:34.568Z"
   },
   {
    "duration": 0,
    "start_time": "2023-01-16T20:11:34.569Z"
   },
   {
    "duration": 0,
    "start_time": "2023-01-16T20:11:34.570Z"
   },
   {
    "duration": 0,
    "start_time": "2023-01-16T20:11:34.572Z"
   },
   {
    "duration": 0,
    "start_time": "2023-01-16T20:11:34.573Z"
   },
   {
    "duration": 0,
    "start_time": "2023-01-16T20:11:34.574Z"
   },
   {
    "duration": 329,
    "start_time": "2023-01-16T20:12:57.318Z"
   },
   {
    "duration": 7,
    "start_time": "2023-01-16T20:13:17.352Z"
   },
   {
    "duration": 2,
    "start_time": "2023-01-16T20:13:30.840Z"
   },
   {
    "duration": 95,
    "start_time": "2023-01-16T20:13:30.850Z"
   },
   {
    "duration": 52,
    "start_time": "2023-01-16T20:13:30.947Z"
   },
   {
    "duration": 2160,
    "start_time": "2023-01-16T20:13:31.001Z"
   },
   {
    "duration": 9,
    "start_time": "2023-01-16T20:13:33.164Z"
   },
   {
    "duration": 5,
    "start_time": "2023-01-16T20:13:33.174Z"
   },
   {
    "duration": 233,
    "start_time": "2023-01-16T20:13:33.180Z"
   },
   {
    "duration": 35,
    "start_time": "2023-01-16T20:13:33.415Z"
   },
   {
    "duration": 9,
    "start_time": "2023-01-16T20:13:33.452Z"
   },
   {
    "duration": 11,
    "start_time": "2023-01-16T20:13:33.462Z"
   },
   {
    "duration": 14,
    "start_time": "2023-01-16T20:13:33.495Z"
   },
   {
    "duration": 41,
    "start_time": "2023-01-16T20:13:33.511Z"
   },
   {
    "duration": 7,
    "start_time": "2023-01-16T20:13:33.553Z"
   },
   {
    "duration": 44,
    "start_time": "2023-01-16T20:13:33.562Z"
   },
   {
    "duration": 7,
    "start_time": "2023-01-16T20:13:33.608Z"
   },
   {
    "duration": 7,
    "start_time": "2023-01-16T20:13:33.616Z"
   },
   {
    "duration": 7,
    "start_time": "2023-01-16T20:13:33.625Z"
   },
   {
    "duration": 257,
    "start_time": "2023-01-16T20:13:33.634Z"
   },
   {
    "duration": 193,
    "start_time": "2023-01-16T20:13:33.896Z"
   },
   {
    "duration": 8,
    "start_time": "2023-01-16T20:13:34.095Z"
   },
   {
    "duration": 17,
    "start_time": "2023-01-16T20:13:34.105Z"
   },
   {
    "duration": 27,
    "start_time": "2023-01-16T20:13:34.124Z"
   },
   {
    "duration": 8,
    "start_time": "2023-01-16T20:13:34.152Z"
   },
   {
    "duration": 11,
    "start_time": "2023-01-16T20:13:34.162Z"
   },
   {
    "duration": 24,
    "start_time": "2023-01-16T20:13:34.175Z"
   },
   {
    "duration": 7,
    "start_time": "2023-01-16T20:13:34.201Z"
   },
   {
    "duration": 14,
    "start_time": "2023-01-16T20:13:34.209Z"
   },
   {
    "duration": 23,
    "start_time": "2023-01-16T20:13:34.225Z"
   },
   {
    "duration": 17,
    "start_time": "2023-01-16T20:13:34.253Z"
   },
   {
    "duration": 147,
    "start_time": "2023-01-16T20:13:34.272Z"
   },
   {
    "duration": 8,
    "start_time": "2023-01-16T20:13:34.421Z"
   },
   {
    "duration": 308,
    "start_time": "2023-01-16T20:13:34.430Z"
   },
   {
    "duration": 377,
    "start_time": "2023-01-16T20:13:34.740Z"
   },
   {
    "duration": 156,
    "start_time": "2023-01-16T20:13:35.119Z"
   },
   {
    "duration": 140,
    "start_time": "2023-01-16T20:13:35.277Z"
   },
   {
    "duration": 14,
    "start_time": "2023-01-16T20:13:35.419Z"
   },
   {
    "duration": 17,
    "start_time": "2023-01-16T20:13:35.435Z"
   },
   {
    "duration": 23,
    "start_time": "2023-01-16T20:13:35.454Z"
   },
   {
    "duration": 12,
    "start_time": "2023-01-16T20:13:35.478Z"
   },
   {
    "duration": 9,
    "start_time": "2023-01-16T20:13:35.492Z"
   },
   {
    "duration": 618,
    "start_time": "2023-01-16T20:13:35.502Z"
   },
   {
    "duration": 7,
    "start_time": "2023-01-16T20:13:36.122Z"
   },
   {
    "duration": 9,
    "start_time": "2023-01-16T20:13:36.130Z"
   },
   {
    "duration": 24,
    "start_time": "2023-01-16T20:13:36.141Z"
   },
   {
    "duration": 184,
    "start_time": "2023-01-16T20:13:36.167Z"
   },
   {
    "duration": 233,
    "start_time": "2023-01-16T20:13:36.352Z"
   },
   {
    "duration": 257,
    "start_time": "2023-01-16T20:13:36.587Z"
   },
   {
    "duration": 514,
    "start_time": "2023-01-16T20:13:36.847Z"
   },
   {
    "duration": 176,
    "start_time": "2023-01-16T20:13:37.363Z"
   },
   {
    "duration": 163,
    "start_time": "2023-01-16T20:13:37.541Z"
   },
   {
    "duration": 262,
    "start_time": "2023-01-16T20:13:37.706Z"
   },
   {
    "duration": 129,
    "start_time": "2023-01-16T20:13:37.970Z"
   },
   {
    "duration": 259,
    "start_time": "2023-01-16T20:13:38.101Z"
   },
   {
    "duration": 261,
    "start_time": "2023-01-16T20:13:38.362Z"
   },
   {
    "duration": 407,
    "start_time": "2023-01-16T20:13:38.626Z"
   },
   {
    "duration": 185,
    "start_time": "2023-01-16T20:13:39.035Z"
   },
   {
    "duration": 275,
    "start_time": "2023-01-16T20:13:39.222Z"
   },
   {
    "duration": 505,
    "start_time": "2023-01-16T20:13:39.499Z"
   },
   {
    "duration": 162,
    "start_time": "2023-01-16T20:13:40.005Z"
   },
   {
    "duration": 28,
    "start_time": "2023-01-16T20:13:40.169Z"
   },
   {
    "duration": 0,
    "start_time": "2023-01-16T20:13:40.199Z"
   },
   {
    "duration": 0,
    "start_time": "2023-01-16T20:13:40.200Z"
   },
   {
    "duration": 0,
    "start_time": "2023-01-16T20:13:40.202Z"
   },
   {
    "duration": 0,
    "start_time": "2023-01-16T20:13:40.203Z"
   },
   {
    "duration": 0,
    "start_time": "2023-01-16T20:13:40.205Z"
   },
   {
    "duration": 0,
    "start_time": "2023-01-16T20:13:40.206Z"
   },
   {
    "duration": 0,
    "start_time": "2023-01-16T20:13:40.207Z"
   },
   {
    "duration": 142,
    "start_time": "2023-01-16T20:20:37.966Z"
   },
   {
    "duration": 131,
    "start_time": "2023-01-16T20:20:54.723Z"
   },
   {
    "duration": 143,
    "start_time": "2023-01-16T20:21:10.024Z"
   },
   {
    "duration": 92,
    "start_time": "2023-01-17T20:10:51.198Z"
   },
   {
    "duration": 49,
    "start_time": "2023-01-17T20:10:57.209Z"
   },
   {
    "duration": 476,
    "start_time": "2023-01-17T20:11:01.444Z"
   },
   {
    "duration": 174,
    "start_time": "2023-01-17T20:11:01.922Z"
   },
   {
    "duration": 71,
    "start_time": "2023-01-17T20:11:02.098Z"
   },
   {
    "duration": 2887,
    "start_time": "2023-01-17T20:11:02.172Z"
   },
   {
    "duration": 18,
    "start_time": "2023-01-17T20:11:05.062Z"
   },
   {
    "duration": 67,
    "start_time": "2023-01-17T20:11:05.082Z"
   },
   {
    "duration": 295,
    "start_time": "2023-01-17T20:11:05.151Z"
   },
   {
    "duration": 57,
    "start_time": "2023-01-17T20:11:05.447Z"
   },
   {
    "duration": 16,
    "start_time": "2023-01-17T20:11:05.506Z"
   },
   {
    "duration": 13,
    "start_time": "2023-01-17T20:11:05.552Z"
   },
   {
    "duration": 40,
    "start_time": "2023-01-17T20:11:05.567Z"
   },
   {
    "duration": 61,
    "start_time": "2023-01-17T20:11:05.609Z"
   },
   {
    "duration": 50,
    "start_time": "2023-01-17T20:11:05.673Z"
   },
   {
    "duration": 53,
    "start_time": "2023-01-17T20:11:05.725Z"
   },
   {
    "duration": 11,
    "start_time": "2023-01-17T20:11:05.780Z"
   },
   {
    "duration": 21,
    "start_time": "2023-01-17T20:11:05.793Z"
   },
   {
    "duration": 16,
    "start_time": "2023-01-17T20:11:05.816Z"
   },
   {
    "duration": 322,
    "start_time": "2023-01-17T20:11:05.835Z"
   },
   {
    "duration": 266,
    "start_time": "2023-01-17T20:11:06.160Z"
   },
   {
    "duration": 24,
    "start_time": "2023-01-17T20:11:06.428Z"
   },
   {
    "duration": 14,
    "start_time": "2023-01-17T20:11:06.454Z"
   },
   {
    "duration": 24,
    "start_time": "2023-01-17T20:11:06.470Z"
   },
   {
    "duration": 11,
    "start_time": "2023-01-17T20:11:06.496Z"
   },
   {
    "duration": 44,
    "start_time": "2023-01-17T20:11:06.509Z"
   },
   {
    "duration": 22,
    "start_time": "2023-01-17T20:11:06.556Z"
   },
   {
    "duration": 10,
    "start_time": "2023-01-17T20:11:06.582Z"
   },
   {
    "duration": 14,
    "start_time": "2023-01-17T20:11:06.594Z"
   },
   {
    "duration": 47,
    "start_time": "2023-01-17T20:11:06.614Z"
   },
   {
    "duration": 61,
    "start_time": "2023-01-17T20:11:06.663Z"
   },
   {
    "duration": 205,
    "start_time": "2023-01-17T20:11:06.725Z"
   },
   {
    "duration": 10,
    "start_time": "2023-01-17T20:11:06.932Z"
   },
   {
    "duration": 489,
    "start_time": "2023-01-17T20:11:06.944Z"
   },
   {
    "duration": 358,
    "start_time": "2023-01-17T20:11:07.435Z"
   },
   {
    "duration": 164,
    "start_time": "2023-01-17T20:11:07.795Z"
   },
   {
    "duration": 189,
    "start_time": "2023-01-17T20:11:07.961Z"
   },
   {
    "duration": 23,
    "start_time": "2023-01-17T20:11:08.154Z"
   },
   {
    "duration": 6,
    "start_time": "2023-01-17T20:11:08.180Z"
   },
   {
    "duration": 33,
    "start_time": "2023-01-17T20:11:08.189Z"
   },
   {
    "duration": 19,
    "start_time": "2023-01-17T20:11:08.224Z"
   },
   {
    "duration": 13,
    "start_time": "2023-01-17T20:11:08.246Z"
   },
   {
    "duration": 347,
    "start_time": "2023-01-17T20:11:08.261Z"
   },
   {
    "duration": 14,
    "start_time": "2023-01-17T20:11:08.611Z"
   },
   {
    "duration": 66,
    "start_time": "2023-01-17T20:11:08.627Z"
   },
   {
    "duration": 0,
    "start_time": "2023-01-17T20:11:08.695Z"
   },
   {
    "duration": 0,
    "start_time": "2023-01-17T20:11:08.697Z"
   },
   {
    "duration": 0,
    "start_time": "2023-01-17T20:11:08.698Z"
   },
   {
    "duration": 0,
    "start_time": "2023-01-17T20:11:08.699Z"
   },
   {
    "duration": 0,
    "start_time": "2023-01-17T20:11:08.700Z"
   },
   {
    "duration": 0,
    "start_time": "2023-01-17T20:11:08.701Z"
   },
   {
    "duration": 0,
    "start_time": "2023-01-17T20:11:08.702Z"
   },
   {
    "duration": 0,
    "start_time": "2023-01-17T20:11:08.704Z"
   },
   {
    "duration": 0,
    "start_time": "2023-01-17T20:11:08.705Z"
   },
   {
    "duration": 0,
    "start_time": "2023-01-17T20:11:08.707Z"
   },
   {
    "duration": 0,
    "start_time": "2023-01-17T20:11:08.708Z"
   },
   {
    "duration": 0,
    "start_time": "2023-01-17T20:11:08.710Z"
   },
   {
    "duration": 0,
    "start_time": "2023-01-17T20:11:08.711Z"
   },
   {
    "duration": 0,
    "start_time": "2023-01-17T20:11:08.712Z"
   },
   {
    "duration": 0,
    "start_time": "2023-01-17T20:11:08.714Z"
   },
   {
    "duration": 0,
    "start_time": "2023-01-17T20:11:08.715Z"
   },
   {
    "duration": 0,
    "start_time": "2023-01-17T20:11:08.750Z"
   },
   {
    "duration": 0,
    "start_time": "2023-01-17T20:11:08.752Z"
   },
   {
    "duration": 0,
    "start_time": "2023-01-17T20:11:08.753Z"
   },
   {
    "duration": 0,
    "start_time": "2023-01-17T20:11:08.755Z"
   },
   {
    "duration": 0,
    "start_time": "2023-01-17T20:11:08.756Z"
   },
   {
    "duration": 0,
    "start_time": "2023-01-17T20:11:08.757Z"
   },
   {
    "duration": 0,
    "start_time": "2023-01-17T20:11:08.758Z"
   },
   {
    "duration": 0,
    "start_time": "2023-01-17T20:11:08.759Z"
   },
   {
    "duration": 111,
    "start_time": "2023-01-17T20:12:55.004Z"
   },
   {
    "duration": 1184,
    "start_time": "2023-01-17T20:13:00.999Z"
   },
   {
    "duration": 28,
    "start_time": "2023-01-17T20:13:28.576Z"
   },
   {
    "duration": 6,
    "start_time": "2023-01-17T20:14:15.376Z"
   },
   {
    "duration": 7,
    "start_time": "2023-01-17T20:14:30.655Z"
   },
   {
    "duration": 4,
    "start_time": "2023-01-17T20:14:47.090Z"
   },
   {
    "duration": 94,
    "start_time": "2023-01-17T20:14:47.101Z"
   },
   {
    "duration": 63,
    "start_time": "2023-01-17T20:14:47.197Z"
   },
   {
    "duration": 2513,
    "start_time": "2023-01-17T20:14:47.262Z"
   },
   {
    "duration": 15,
    "start_time": "2023-01-17T20:14:49.778Z"
   },
   {
    "duration": 17,
    "start_time": "2023-01-17T20:14:49.795Z"
   },
   {
    "duration": 337,
    "start_time": "2023-01-17T20:14:49.814Z"
   },
   {
    "duration": 47,
    "start_time": "2023-01-17T20:14:50.153Z"
   },
   {
    "duration": 12,
    "start_time": "2023-01-17T20:14:50.205Z"
   },
   {
    "duration": 38,
    "start_time": "2023-01-17T20:14:50.220Z"
   },
   {
    "duration": 22,
    "start_time": "2023-01-17T20:14:50.262Z"
   },
   {
    "duration": 66,
    "start_time": "2023-01-17T20:14:50.286Z"
   },
   {
    "duration": 12,
    "start_time": "2023-01-17T20:14:50.354Z"
   },
   {
    "duration": 34,
    "start_time": "2023-01-17T20:14:50.368Z"
   },
   {
    "duration": 10,
    "start_time": "2023-01-17T20:14:50.404Z"
   },
   {
    "duration": 44,
    "start_time": "2023-01-17T20:14:50.416Z"
   },
   {
    "duration": 10,
    "start_time": "2023-01-17T20:14:50.462Z"
   },
   {
    "duration": 305,
    "start_time": "2023-01-17T20:14:50.474Z"
   },
   {
    "duration": 403,
    "start_time": "2023-01-17T20:14:50.781Z"
   },
   {
    "duration": 9,
    "start_time": "2023-01-17T20:14:51.186Z"
   },
   {
    "duration": 11,
    "start_time": "2023-01-17T20:14:51.198Z"
   },
   {
    "duration": 50,
    "start_time": "2023-01-17T20:14:51.211Z"
   },
   {
    "duration": 12,
    "start_time": "2023-01-17T20:14:51.263Z"
   },
   {
    "duration": 17,
    "start_time": "2023-01-17T20:14:51.277Z"
   },
   {
    "duration": 22,
    "start_time": "2023-01-17T20:14:51.296Z"
   },
   {
    "duration": 12,
    "start_time": "2023-01-17T20:14:51.322Z"
   },
   {
    "duration": 13,
    "start_time": "2023-01-17T20:14:51.352Z"
   },
   {
    "duration": 26,
    "start_time": "2023-01-17T20:14:51.367Z"
   },
   {
    "duration": 21,
    "start_time": "2023-01-17T20:14:51.399Z"
   },
   {
    "duration": 381,
    "start_time": "2023-01-17T20:14:51.422Z"
   },
   {
    "duration": 9,
    "start_time": "2023-01-17T20:14:51.805Z"
   },
   {
    "duration": 376,
    "start_time": "2023-01-17T20:14:51.816Z"
   },
   {
    "duration": 422,
    "start_time": "2023-01-17T20:14:52.194Z"
   },
   {
    "duration": 179,
    "start_time": "2023-01-17T20:14:52.617Z"
   },
   {
    "duration": 193,
    "start_time": "2023-01-17T20:14:52.798Z"
   },
   {
    "duration": 18,
    "start_time": "2023-01-17T20:14:52.993Z"
   },
   {
    "duration": 14,
    "start_time": "2023-01-17T20:14:53.013Z"
   },
   {
    "duration": 53,
    "start_time": "2023-01-17T20:14:53.029Z"
   },
   {
    "duration": 30,
    "start_time": "2023-01-17T20:14:53.084Z"
   },
   {
    "duration": 23,
    "start_time": "2023-01-17T20:14:53.116Z"
   },
   {
    "duration": 488,
    "start_time": "2023-01-17T20:14:53.141Z"
   },
   {
    "duration": 10,
    "start_time": "2023-01-17T20:14:53.631Z"
   },
   {
    "duration": 11,
    "start_time": "2023-01-17T20:14:53.652Z"
   },
   {
    "duration": 41,
    "start_time": "2023-01-17T20:14:53.666Z"
   },
   {
    "duration": 196,
    "start_time": "2023-01-17T20:14:53.709Z"
   },
   {
    "duration": 321,
    "start_time": "2023-01-17T20:14:53.907Z"
   },
   {
    "duration": 405,
    "start_time": "2023-01-17T20:14:54.230Z"
   },
   {
    "duration": 757,
    "start_time": "2023-01-17T20:14:54.638Z"
   },
   {
    "duration": 217,
    "start_time": "2023-01-17T20:14:55.397Z"
   },
   {
    "duration": 274,
    "start_time": "2023-01-17T20:14:55.615Z"
   },
   {
    "duration": 349,
    "start_time": "2023-01-17T20:14:55.891Z"
   },
   {
    "duration": 150,
    "start_time": "2023-01-17T20:14:56.242Z"
   },
   {
    "duration": 316,
    "start_time": "2023-01-17T20:14:56.395Z"
   },
   {
    "duration": 279,
    "start_time": "2023-01-17T20:14:56.713Z"
   },
   {
    "duration": 224,
    "start_time": "2023-01-17T20:14:56.994Z"
   },
   {
    "duration": 197,
    "start_time": "2023-01-17T20:14:57.220Z"
   },
   {
    "duration": 294,
    "start_time": "2023-01-17T20:14:57.420Z"
   },
   {
    "duration": 693,
    "start_time": "2023-01-17T20:14:57.715Z"
   },
   {
    "duration": 1345,
    "start_time": "2023-01-17T20:14:58.410Z"
   },
   {
    "duration": 0,
    "start_time": "2023-01-17T20:14:59.757Z"
   },
   {
    "duration": 0,
    "start_time": "2023-01-17T20:14:59.759Z"
   },
   {
    "duration": 0,
    "start_time": "2023-01-17T20:14:59.760Z"
   },
   {
    "duration": 0,
    "start_time": "2023-01-17T20:14:59.762Z"
   },
   {
    "duration": 0,
    "start_time": "2023-01-17T20:14:59.763Z"
   },
   {
    "duration": 0,
    "start_time": "2023-01-17T20:14:59.765Z"
   },
   {
    "duration": 0,
    "start_time": "2023-01-17T20:14:59.766Z"
   },
   {
    "duration": 0,
    "start_time": "2023-01-17T20:14:59.768Z"
   },
   {
    "duration": 160,
    "start_time": "2023-01-17T20:16:20.705Z"
   },
   {
    "duration": 23,
    "start_time": "2023-01-17T20:16:57.432Z"
   },
   {
    "duration": 3,
    "start_time": "2023-01-17T20:17:14.907Z"
   },
   {
    "duration": 105,
    "start_time": "2023-01-17T20:17:14.919Z"
   },
   {
    "duration": 66,
    "start_time": "2023-01-17T20:17:15.027Z"
   },
   {
    "duration": 2395,
    "start_time": "2023-01-17T20:17:15.095Z"
   },
   {
    "duration": 10,
    "start_time": "2023-01-17T20:17:17.492Z"
   },
   {
    "duration": 10,
    "start_time": "2023-01-17T20:17:17.504Z"
   },
   {
    "duration": 268,
    "start_time": "2023-01-17T20:17:17.516Z"
   },
   {
    "duration": 42,
    "start_time": "2023-01-17T20:17:17.786Z"
   },
   {
    "duration": 25,
    "start_time": "2023-01-17T20:17:17.829Z"
   },
   {
    "duration": 10,
    "start_time": "2023-01-17T20:17:17.856Z"
   },
   {
    "duration": 30,
    "start_time": "2023-01-17T20:17:17.871Z"
   },
   {
    "duration": 64,
    "start_time": "2023-01-17T20:17:17.904Z"
   },
   {
    "duration": 8,
    "start_time": "2023-01-17T20:17:17.970Z"
   },
   {
    "duration": 39,
    "start_time": "2023-01-17T20:17:17.980Z"
   },
   {
    "duration": 30,
    "start_time": "2023-01-17T20:17:18.021Z"
   },
   {
    "duration": 10,
    "start_time": "2023-01-17T20:17:18.053Z"
   },
   {
    "duration": 10,
    "start_time": "2023-01-17T20:17:18.065Z"
   },
   {
    "duration": 293,
    "start_time": "2023-01-17T20:17:18.077Z"
   },
   {
    "duration": 213,
    "start_time": "2023-01-17T20:17:18.372Z"
   },
   {
    "duration": 10,
    "start_time": "2023-01-17T20:17:18.586Z"
   },
   {
    "duration": 18,
    "start_time": "2023-01-17T20:17:18.597Z"
   },
   {
    "duration": 35,
    "start_time": "2023-01-17T20:17:18.618Z"
   },
   {
    "duration": 12,
    "start_time": "2023-01-17T20:17:18.655Z"
   },
   {
    "duration": 30,
    "start_time": "2023-01-17T20:17:18.669Z"
   },
   {
    "duration": 34,
    "start_time": "2023-01-17T20:17:18.701Z"
   },
   {
    "duration": 23,
    "start_time": "2023-01-17T20:17:18.737Z"
   },
   {
    "duration": 20,
    "start_time": "2023-01-17T20:17:18.762Z"
   },
   {
    "duration": 40,
    "start_time": "2023-01-17T20:17:18.784Z"
   },
   {
    "duration": 24,
    "start_time": "2023-01-17T20:17:18.830Z"
   },
   {
    "duration": 269,
    "start_time": "2023-01-17T20:17:18.856Z"
   },
   {
    "duration": 24,
    "start_time": "2023-01-17T20:17:19.127Z"
   },
   {
    "duration": 369,
    "start_time": "2023-01-17T20:17:19.154Z"
   },
   {
    "duration": 663,
    "start_time": "2023-01-17T20:17:19.525Z"
   },
   {
    "duration": 161,
    "start_time": "2023-01-17T20:17:20.190Z"
   },
   {
    "duration": 167,
    "start_time": "2023-01-17T20:17:20.353Z"
   },
   {
    "duration": 17,
    "start_time": "2023-01-17T20:17:20.522Z"
   },
   {
    "duration": 16,
    "start_time": "2023-01-17T20:17:20.552Z"
   },
   {
    "duration": 26,
    "start_time": "2023-01-17T20:17:20.570Z"
   },
   {
    "duration": 40,
    "start_time": "2023-01-17T20:17:20.598Z"
   },
   {
    "duration": 31,
    "start_time": "2023-01-17T20:17:20.641Z"
   },
   {
    "duration": 368,
    "start_time": "2023-01-17T20:17:20.674Z"
   },
   {
    "duration": 12,
    "start_time": "2023-01-17T20:17:21.044Z"
   },
   {
    "duration": 14,
    "start_time": "2023-01-17T20:17:21.057Z"
   },
   {
    "duration": 31,
    "start_time": "2023-01-17T20:17:21.073Z"
   },
   {
    "duration": 195,
    "start_time": "2023-01-17T20:17:21.106Z"
   },
   {
    "duration": 270,
    "start_time": "2023-01-17T20:17:21.303Z"
   },
   {
    "duration": 266,
    "start_time": "2023-01-17T20:17:21.575Z"
   },
   {
    "duration": 696,
    "start_time": "2023-01-17T20:17:21.843Z"
   },
   {
    "duration": 195,
    "start_time": "2023-01-17T20:17:22.541Z"
   },
   {
    "duration": 184,
    "start_time": "2023-01-17T20:17:22.738Z"
   },
   {
    "duration": 278,
    "start_time": "2023-01-17T20:17:22.924Z"
   },
   {
    "duration": 148,
    "start_time": "2023-01-17T20:17:23.204Z"
   },
   {
    "duration": 276,
    "start_time": "2023-01-17T20:17:23.355Z"
   },
   {
    "duration": 410,
    "start_time": "2023-01-17T20:17:23.634Z"
   },
   {
    "duration": 189,
    "start_time": "2023-01-17T20:17:24.050Z"
   },
   {
    "duration": 196,
    "start_time": "2023-01-17T20:17:24.241Z"
   },
   {
    "duration": 291,
    "start_time": "2023-01-17T20:17:24.438Z"
   },
   {
    "duration": 553,
    "start_time": "2023-01-17T20:17:24.731Z"
   },
   {
    "duration": 157,
    "start_time": "2023-01-17T20:17:25.286Z"
   },
   {
    "duration": 22,
    "start_time": "2023-01-17T20:17:25.445Z"
   },
   {
    "duration": 0,
    "start_time": "2023-01-17T20:17:25.469Z"
   },
   {
    "duration": 0,
    "start_time": "2023-01-17T20:17:25.471Z"
   },
   {
    "duration": 0,
    "start_time": "2023-01-17T20:17:25.472Z"
   },
   {
    "duration": 0,
    "start_time": "2023-01-17T20:17:25.474Z"
   },
   {
    "duration": 0,
    "start_time": "2023-01-17T20:17:25.476Z"
   },
   {
    "duration": 0,
    "start_time": "2023-01-17T20:17:25.478Z"
   },
   {
    "duration": 0,
    "start_time": "2023-01-17T20:17:25.479Z"
   },
   {
    "duration": 21,
    "start_time": "2023-01-17T20:17:50.738Z"
   },
   {
    "duration": 153,
    "start_time": "2023-01-17T20:18:34.824Z"
   },
   {
    "duration": 172,
    "start_time": "2023-01-17T20:19:10.545Z"
   },
   {
    "duration": 446,
    "start_time": "2023-01-18T18:53:00.504Z"
   },
   {
    "duration": 765,
    "start_time": "2023-01-18T18:53:00.953Z"
   },
   {
    "duration": 53,
    "start_time": "2023-01-18T18:53:01.720Z"
   },
   {
    "duration": 2588,
    "start_time": "2023-01-18T18:53:01.776Z"
   },
   {
    "duration": 14,
    "start_time": "2023-01-18T18:53:04.365Z"
   },
   {
    "duration": 44,
    "start_time": "2023-01-18T18:53:04.381Z"
   },
   {
    "duration": 310,
    "start_time": "2023-01-18T18:53:04.427Z"
   },
   {
    "duration": 45,
    "start_time": "2023-01-18T18:53:04.739Z"
   },
   {
    "duration": 20,
    "start_time": "2023-01-18T18:53:04.786Z"
   },
   {
    "duration": 50,
    "start_time": "2023-01-18T18:53:04.809Z"
   },
   {
    "duration": 59,
    "start_time": "2023-01-18T18:53:04.861Z"
   },
   {
    "duration": 48,
    "start_time": "2023-01-18T18:53:04.923Z"
   },
   {
    "duration": 8,
    "start_time": "2023-01-18T18:53:04.973Z"
   },
   {
    "duration": 35,
    "start_time": "2023-01-18T18:53:04.983Z"
   },
   {
    "duration": 11,
    "start_time": "2023-01-18T18:53:05.037Z"
   },
   {
    "duration": 23,
    "start_time": "2023-01-18T18:53:05.051Z"
   },
   {
    "duration": 11,
    "start_time": "2023-01-18T18:53:05.076Z"
   },
   {
    "duration": 316,
    "start_time": "2023-01-18T18:53:05.089Z"
   },
   {
    "duration": 245,
    "start_time": "2023-01-18T18:53:05.407Z"
   },
   {
    "duration": 10,
    "start_time": "2023-01-18T18:53:05.654Z"
   },
   {
    "duration": 22,
    "start_time": "2023-01-18T18:53:05.667Z"
   },
   {
    "duration": 22,
    "start_time": "2023-01-18T18:53:05.691Z"
   },
   {
    "duration": 22,
    "start_time": "2023-01-18T18:53:05.716Z"
   },
   {
    "duration": 24,
    "start_time": "2023-01-18T18:53:05.740Z"
   },
   {
    "duration": 18,
    "start_time": "2023-01-18T18:53:05.766Z"
   },
   {
    "duration": 8,
    "start_time": "2023-01-18T18:53:05.787Z"
   },
   {
    "duration": 17,
    "start_time": "2023-01-18T18:53:05.796Z"
   },
   {
    "duration": 75,
    "start_time": "2023-01-18T18:53:05.817Z"
   },
   {
    "duration": 174,
    "start_time": "2023-01-18T18:53:05.893Z"
   },
   {
    "duration": 9,
    "start_time": "2023-01-18T18:53:06.069Z"
   },
   {
    "duration": 483,
    "start_time": "2023-01-18T18:53:06.081Z"
   },
   {
    "duration": 331,
    "start_time": "2023-01-18T18:53:06.566Z"
   },
   {
    "duration": 155,
    "start_time": "2023-01-18T18:53:06.899Z"
   },
   {
    "duration": 158,
    "start_time": "2023-01-18T18:53:07.056Z"
   },
   {
    "duration": 23,
    "start_time": "2023-01-18T18:53:07.217Z"
   },
   {
    "duration": 14,
    "start_time": "2023-01-18T18:53:07.243Z"
   },
   {
    "duration": 31,
    "start_time": "2023-01-18T18:53:07.259Z"
   },
   {
    "duration": 9,
    "start_time": "2023-01-18T18:53:07.292Z"
   },
   {
    "duration": 20,
    "start_time": "2023-01-18T18:53:07.303Z"
   },
   {
    "duration": 394,
    "start_time": "2023-01-18T18:53:07.326Z"
   },
   {
    "duration": 8,
    "start_time": "2023-01-18T18:53:07.721Z"
   },
   {
    "duration": 27,
    "start_time": "2023-01-18T18:53:07.730Z"
   },
   {
    "duration": 27,
    "start_time": "2023-01-18T18:53:07.759Z"
   },
   {
    "duration": 195,
    "start_time": "2023-01-18T18:53:07.788Z"
   },
   {
    "duration": 372,
    "start_time": "2023-01-18T18:53:07.985Z"
   },
   {
    "duration": 320,
    "start_time": "2023-01-18T18:53:08.359Z"
   },
   {
    "duration": 547,
    "start_time": "2023-01-18T18:53:08.680Z"
   },
   {
    "duration": 232,
    "start_time": "2023-01-18T18:53:09.229Z"
   },
   {
    "duration": 167,
    "start_time": "2023-01-18T18:53:09.464Z"
   },
   {
    "duration": 397,
    "start_time": "2023-01-18T18:53:09.637Z"
   },
   {
    "duration": 130,
    "start_time": "2023-01-18T18:53:10.042Z"
   },
   {
    "duration": 263,
    "start_time": "2023-01-18T18:53:10.173Z"
   },
   {
    "duration": 274,
    "start_time": "2023-01-18T18:53:10.438Z"
   },
   {
    "duration": 192,
    "start_time": "2023-01-18T18:53:10.714Z"
   },
   {
    "duration": 185,
    "start_time": "2023-01-18T18:53:10.908Z"
   },
   {
    "duration": 302,
    "start_time": "2023-01-18T18:53:11.095Z"
   },
   {
    "duration": 673,
    "start_time": "2023-01-18T18:53:11.399Z"
   },
   {
    "duration": 147,
    "start_time": "2023-01-18T18:53:12.074Z"
   },
   {
    "duration": 95,
    "start_time": "2023-01-18T18:53:12.223Z"
   },
   {
    "duration": 0,
    "start_time": "2023-01-18T18:53:12.319Z"
   },
   {
    "duration": 0,
    "start_time": "2023-01-18T18:53:12.321Z"
   },
   {
    "duration": 0,
    "start_time": "2023-01-18T18:53:12.322Z"
   },
   {
    "duration": 0,
    "start_time": "2023-01-18T18:53:12.323Z"
   },
   {
    "duration": 0,
    "start_time": "2023-01-18T18:53:12.337Z"
   },
   {
    "duration": 0,
    "start_time": "2023-01-18T18:53:12.339Z"
   },
   {
    "duration": 0,
    "start_time": "2023-01-18T18:53:12.340Z"
   },
   {
    "duration": 242,
    "start_time": "2023-01-18T18:54:45.151Z"
   },
   {
    "duration": 176,
    "start_time": "2023-01-18T18:57:02.050Z"
   },
   {
    "duration": 175,
    "start_time": "2023-01-18T18:57:17.372Z"
   },
   {
    "duration": 300,
    "start_time": "2023-01-18T18:57:30.963Z"
   },
   {
    "duration": 298,
    "start_time": "2023-01-18T18:58:12.238Z"
   },
   {
    "duration": 297,
    "start_time": "2023-01-18T18:58:25.863Z"
   },
   {
    "duration": 225,
    "start_time": "2023-01-18T18:58:51.854Z"
   },
   {
    "duration": 5,
    "start_time": "2023-01-18T18:59:24.409Z"
   },
   {
    "duration": 4,
    "start_time": "2023-01-18T18:59:27.876Z"
   },
   {
    "duration": 19,
    "start_time": "2023-01-18T18:59:38.696Z"
   },
   {
    "duration": 285,
    "start_time": "2023-01-18T18:59:49.531Z"
   },
   {
    "duration": 190,
    "start_time": "2023-01-18T19:00:10.334Z"
   },
   {
    "duration": 207,
    "start_time": "2023-01-18T19:00:16.732Z"
   },
   {
    "duration": 130,
    "start_time": "2023-01-18T19:00:44.836Z"
   },
   {
    "duration": 158,
    "start_time": "2023-01-18T19:02:22.829Z"
   },
   {
    "duration": 261,
    "start_time": "2023-01-18T19:08:14.287Z"
   },
   {
    "duration": 23,
    "start_time": "2023-01-18T19:08:36.515Z"
   },
   {
    "duration": 168,
    "start_time": "2023-01-18T19:09:20.952Z"
   },
   {
    "duration": 35,
    "start_time": "2023-01-18T19:10:12.992Z"
   },
   {
    "duration": 61,
    "start_time": "2023-01-18T19:11:54.409Z"
   },
   {
    "duration": 236,
    "start_time": "2023-01-18T19:11:59.990Z"
   },
   {
    "duration": 265,
    "start_time": "2023-01-18T19:13:33.310Z"
   },
   {
    "duration": 179,
    "start_time": "2023-01-18T19:14:29.852Z"
   },
   {
    "duration": 49,
    "start_time": "2023-01-18T19:15:58.227Z"
   },
   {
    "duration": 15,
    "start_time": "2023-01-18T19:16:15.625Z"
   },
   {
    "duration": 57,
    "start_time": "2023-01-18T19:17:00.661Z"
   },
   {
    "duration": 19,
    "start_time": "2023-01-18T19:17:31.756Z"
   },
   {
    "duration": 242,
    "start_time": "2023-01-18T19:18:20.562Z"
   },
   {
    "duration": 4,
    "start_time": "2023-01-18T19:19:15.624Z"
   },
   {
    "duration": 25,
    "start_time": "2023-01-18T19:20:48.290Z"
   },
   {
    "duration": 9,
    "start_time": "2023-01-18T19:26:23.944Z"
   },
   {
    "duration": 23,
    "start_time": "2023-01-18T19:26:34.087Z"
   },
   {
    "duration": 4,
    "start_time": "2023-01-18T19:28:23.750Z"
   },
   {
    "duration": 18,
    "start_time": "2023-01-18T19:28:49.456Z"
   },
   {
    "duration": 24,
    "start_time": "2023-01-18T19:30:07.381Z"
   },
   {
    "duration": 23,
    "start_time": "2023-01-18T19:30:59.082Z"
   },
   {
    "duration": 9,
    "start_time": "2023-01-18T19:31:58.178Z"
   },
   {
    "duration": 15,
    "start_time": "2023-01-18T19:32:33.796Z"
   },
   {
    "duration": 24,
    "start_time": "2023-01-18T19:32:50.369Z"
   },
   {
    "duration": 139,
    "start_time": "2023-01-18T19:34:52.881Z"
   },
   {
    "duration": 13,
    "start_time": "2023-01-18T19:35:06.689Z"
   },
   {
    "duration": 28,
    "start_time": "2023-01-18T19:35:32.273Z"
   },
   {
    "duration": 5,
    "start_time": "2023-01-18T19:36:50.414Z"
   },
   {
    "duration": 12,
    "start_time": "2023-01-18T19:37:24.735Z"
   },
   {
    "duration": 13,
    "start_time": "2023-01-18T19:37:40.643Z"
   },
   {
    "duration": 22,
    "start_time": "2023-01-18T19:43:06.335Z"
   },
   {
    "duration": 142,
    "start_time": "2023-01-18T19:43:28.904Z"
   },
   {
    "duration": 234,
    "start_time": "2023-01-18T19:43:38.241Z"
   },
   {
    "duration": 28,
    "start_time": "2023-01-18T19:43:50.337Z"
   },
   {
    "duration": 2,
    "start_time": "2023-01-18T19:44:08.324Z"
   },
   {
    "duration": 134,
    "start_time": "2023-01-18T19:44:08.331Z"
   },
   {
    "duration": 69,
    "start_time": "2023-01-18T19:44:08.468Z"
   },
   {
    "duration": 2049,
    "start_time": "2023-01-18T19:44:08.540Z"
   },
   {
    "duration": 10,
    "start_time": "2023-01-18T19:44:10.591Z"
   },
   {
    "duration": 5,
    "start_time": "2023-01-18T19:44:10.603Z"
   },
   {
    "duration": 413,
    "start_time": "2023-01-18T19:44:10.609Z"
   },
   {
    "duration": 46,
    "start_time": "2023-01-18T19:44:11.024Z"
   },
   {
    "duration": 9,
    "start_time": "2023-01-18T19:44:11.072Z"
   },
   {
    "duration": 11,
    "start_time": "2023-01-18T19:44:11.083Z"
   },
   {
    "duration": 19,
    "start_time": "2023-01-18T19:44:11.097Z"
   },
   {
    "duration": 69,
    "start_time": "2023-01-18T19:44:11.118Z"
   },
   {
    "duration": 8,
    "start_time": "2023-01-18T19:44:11.189Z"
   },
   {
    "duration": 58,
    "start_time": "2023-01-18T19:44:11.198Z"
   },
   {
    "duration": 10,
    "start_time": "2023-01-18T19:44:11.258Z"
   },
   {
    "duration": 60,
    "start_time": "2023-01-18T19:44:11.270Z"
   },
   {
    "duration": 81,
    "start_time": "2023-01-18T19:44:11.333Z"
   },
   {
    "duration": 300,
    "start_time": "2023-01-18T19:44:11.416Z"
   },
   {
    "duration": 214,
    "start_time": "2023-01-18T19:44:11.717Z"
   },
   {
    "duration": 12,
    "start_time": "2023-01-18T19:44:11.936Z"
   },
   {
    "duration": 12,
    "start_time": "2023-01-18T19:44:11.950Z"
   },
   {
    "duration": 17,
    "start_time": "2023-01-18T19:44:11.964Z"
   },
   {
    "duration": 8,
    "start_time": "2023-01-18T19:44:11.982Z"
   },
   {
    "duration": 23,
    "start_time": "2023-01-18T19:44:11.992Z"
   },
   {
    "duration": 37,
    "start_time": "2023-01-18T19:44:12.017Z"
   },
   {
    "duration": 9,
    "start_time": "2023-01-18T19:44:12.056Z"
   },
   {
    "duration": 23,
    "start_time": "2023-01-18T19:44:12.067Z"
   },
   {
    "duration": 25,
    "start_time": "2023-01-18T19:44:12.091Z"
   },
   {
    "duration": 25,
    "start_time": "2023-01-18T19:44:12.136Z"
   },
   {
    "duration": 20,
    "start_time": "2023-01-18T19:44:12.163Z"
   },
   {
    "duration": 186,
    "start_time": "2023-01-18T19:44:12.185Z"
   },
   {
    "duration": 9,
    "start_time": "2023-01-18T19:44:12.373Z"
   },
   {
    "duration": 308,
    "start_time": "2023-01-18T19:44:12.384Z"
   },
   {
    "duration": 320,
    "start_time": "2023-01-18T19:44:12.694Z"
   },
   {
    "duration": 148,
    "start_time": "2023-01-18T19:44:13.016Z"
   },
   {
    "duration": 297,
    "start_time": "2023-01-18T19:44:13.165Z"
   },
   {
    "duration": 23,
    "start_time": "2023-01-18T19:44:13.463Z"
   },
   {
    "duration": 0,
    "start_time": "2023-01-18T19:44:13.488Z"
   },
   {
    "duration": 0,
    "start_time": "2023-01-18T19:44:13.490Z"
   },
   {
    "duration": 0,
    "start_time": "2023-01-18T19:44:13.491Z"
   },
   {
    "duration": 0,
    "start_time": "2023-01-18T19:44:13.492Z"
   },
   {
    "duration": 0,
    "start_time": "2023-01-18T19:44:13.493Z"
   },
   {
    "duration": 0,
    "start_time": "2023-01-18T19:44:13.494Z"
   },
   {
    "duration": 0,
    "start_time": "2023-01-18T19:44:13.495Z"
   },
   {
    "duration": 0,
    "start_time": "2023-01-18T19:44:13.496Z"
   },
   {
    "duration": 0,
    "start_time": "2023-01-18T19:44:13.497Z"
   },
   {
    "duration": 0,
    "start_time": "2023-01-18T19:44:13.498Z"
   },
   {
    "duration": 0,
    "start_time": "2023-01-18T19:44:13.499Z"
   },
   {
    "duration": 0,
    "start_time": "2023-01-18T19:44:13.500Z"
   },
   {
    "duration": 0,
    "start_time": "2023-01-18T19:44:13.501Z"
   },
   {
    "duration": 0,
    "start_time": "2023-01-18T19:44:13.502Z"
   },
   {
    "duration": 0,
    "start_time": "2023-01-18T19:44:13.537Z"
   },
   {
    "duration": 0,
    "start_time": "2023-01-18T19:44:13.539Z"
   },
   {
    "duration": 0,
    "start_time": "2023-01-18T19:44:13.540Z"
   },
   {
    "duration": 0,
    "start_time": "2023-01-18T19:44:13.542Z"
   },
   {
    "duration": 0,
    "start_time": "2023-01-18T19:44:13.543Z"
   },
   {
    "duration": 0,
    "start_time": "2023-01-18T19:44:13.545Z"
   },
   {
    "duration": 0,
    "start_time": "2023-01-18T19:44:13.546Z"
   },
   {
    "duration": 0,
    "start_time": "2023-01-18T19:44:13.548Z"
   },
   {
    "duration": 0,
    "start_time": "2023-01-18T19:44:13.549Z"
   },
   {
    "duration": 0,
    "start_time": "2023-01-18T19:44:13.551Z"
   },
   {
    "duration": 0,
    "start_time": "2023-01-18T19:44:13.553Z"
   },
   {
    "duration": 0,
    "start_time": "2023-01-18T19:44:13.554Z"
   },
   {
    "duration": 0,
    "start_time": "2023-01-18T19:44:13.555Z"
   },
   {
    "duration": 0,
    "start_time": "2023-01-18T19:44:13.557Z"
   },
   {
    "duration": 0,
    "start_time": "2023-01-18T19:44:13.558Z"
   },
   {
    "duration": 0,
    "start_time": "2023-01-18T19:44:13.560Z"
   },
   {
    "duration": 0,
    "start_time": "2023-01-18T19:44:13.561Z"
   },
   {
    "duration": 0,
    "start_time": "2023-01-18T19:44:13.563Z"
   },
   {
    "duration": 0,
    "start_time": "2023-01-18T19:44:13.564Z"
   },
   {
    "duration": 0,
    "start_time": "2023-01-18T19:44:13.566Z"
   },
   {
    "duration": 32,
    "start_time": "2023-01-18T19:44:51.782Z"
   },
   {
    "duration": 57,
    "start_time": "2023-01-18T19:45:19.719Z"
   },
   {
    "duration": 32,
    "start_time": "2023-01-18T19:45:53.588Z"
   },
   {
    "duration": 8,
    "start_time": "2023-01-18T19:47:50.895Z"
   },
   {
    "duration": 8,
    "start_time": "2023-01-18T19:48:15.083Z"
   },
   {
    "duration": 7,
    "start_time": "2023-01-18T19:48:26.961Z"
   },
   {
    "duration": 316,
    "start_time": "2023-01-18T19:49:10.482Z"
   },
   {
    "duration": 291,
    "start_time": "2023-01-18T19:49:27.671Z"
   },
   {
    "duration": 327,
    "start_time": "2023-01-18T19:50:40.642Z"
   },
   {
    "duration": 457,
    "start_time": "2023-01-18T19:50:47.423Z"
   },
   {
    "duration": 991,
    "start_time": "2023-01-22T10:14:41.956Z"
   },
   {
    "duration": 320,
    "start_time": "2023-01-22T10:14:42.955Z"
   },
   {
    "duration": 134,
    "start_time": "2023-01-22T10:14:43.348Z"
   },
   {
    "duration": 9140,
    "start_time": "2023-01-22T10:14:43.543Z"
   },
   {
    "duration": 13,
    "start_time": "2023-01-22T10:14:52.745Z"
   },
   {
    "duration": 89,
    "start_time": "2023-01-22T10:14:52.760Z"
   },
   {
    "duration": 1025,
    "start_time": "2023-01-22T10:14:52.851Z"
   },
   {
    "duration": 167,
    "start_time": "2023-01-22T10:14:53.878Z"
   },
   {
    "duration": 110,
    "start_time": "2023-01-22T10:14:54.051Z"
   },
   {
    "duration": 86,
    "start_time": "2023-01-22T10:14:54.163Z"
   },
   {
    "duration": 28,
    "start_time": "2023-01-22T10:14:54.250Z"
   },
   {
    "duration": 79,
    "start_time": "2023-01-22T10:14:54.280Z"
   },
   {
    "duration": 212,
    "start_time": "2023-01-22T10:14:54.361Z"
   },
   {
    "duration": 73,
    "start_time": "2023-01-22T10:14:54.578Z"
   },
   {
    "duration": 104,
    "start_time": "2023-01-22T10:14:54.653Z"
   },
   {
    "duration": 7,
    "start_time": "2023-01-22T10:14:54.759Z"
   },
   {
    "duration": 587,
    "start_time": "2023-01-22T10:14:54.768Z"
   },
   {
    "duration": 191,
    "start_time": "2023-01-22T10:14:55.357Z"
   },
   {
    "duration": 1097,
    "start_time": "2023-01-22T10:14:55.550Z"
   },
   {
    "duration": 703,
    "start_time": "2023-01-22T10:14:56.649Z"
   },
   {
    "duration": 10,
    "start_time": "2023-01-22T10:14:57.354Z"
   },
   {
    "duration": 119,
    "start_time": "2023-01-22T10:14:57.367Z"
   },
   {
    "duration": 27,
    "start_time": "2023-01-22T10:14:57.548Z"
   },
   {
    "duration": 169,
    "start_time": "2023-01-22T10:14:57.578Z"
   },
   {
    "duration": 11,
    "start_time": "2023-01-22T10:14:57.749Z"
   },
   {
    "duration": 121,
    "start_time": "2023-01-22T10:14:57.762Z"
   },
   {
    "duration": 11,
    "start_time": "2023-01-22T10:14:57.945Z"
   },
   {
    "duration": 94,
    "start_time": "2023-01-22T10:14:57.960Z"
   },
   {
    "duration": 12,
    "start_time": "2023-01-22T10:14:58.056Z"
   },
   {
    "duration": 180,
    "start_time": "2023-01-22T10:14:58.070Z"
   },
   {
    "duration": 94,
    "start_time": "2023-01-22T10:14:58.256Z"
   },
   {
    "duration": 118,
    "start_time": "2023-01-22T10:14:58.351Z"
   },
   {
    "duration": 276,
    "start_time": "2023-01-22T10:14:58.471Z"
   },
   {
    "duration": 695,
    "start_time": "2023-01-22T10:14:58.757Z"
   },
   {
    "duration": 14,
    "start_time": "2023-01-22T10:14:59.454Z"
   },
   {
    "duration": 1789,
    "start_time": "2023-01-22T10:14:59.470Z"
   },
   {
    "duration": 1204,
    "start_time": "2023-01-22T10:15:01.264Z"
   },
   {
    "duration": 679,
    "start_time": "2023-01-22T10:15:02.476Z"
   },
   {
    "duration": 501,
    "start_time": "2023-01-22T10:15:03.157Z"
   },
   {
    "duration": 93,
    "start_time": "2023-01-22T10:15:03.670Z"
   },
   {
    "duration": 1475,
    "start_time": "2023-01-22T10:15:03.770Z"
   },
   {
    "duration": 1316,
    "start_time": "2023-01-22T10:15:05.247Z"
   },
   {
    "duration": 182,
    "start_time": "2023-01-22T10:15:06.565Z"
   },
   {
    "duration": 108,
    "start_time": "2023-01-22T10:15:06.749Z"
   },
   {
    "duration": 104,
    "start_time": "2023-01-22T10:15:06.859Z"
   },
   {
    "duration": 185,
    "start_time": "2023-01-22T10:15:06.964Z"
   },
   {
    "duration": 124,
    "start_time": "2023-01-22T10:15:07.150Z"
   },
   {
    "duration": 2374,
    "start_time": "2023-01-22T10:15:07.276Z"
   },
   {
    "duration": 16,
    "start_time": "2023-01-22T10:15:09.652Z"
   },
   {
    "duration": 178,
    "start_time": "2023-01-22T10:15:09.674Z"
   },
   {
    "duration": 126,
    "start_time": "2023-01-22T10:15:09.855Z"
   },
   {
    "duration": 887,
    "start_time": "2023-01-22T10:15:09.984Z"
   },
   {
    "duration": 986,
    "start_time": "2023-01-22T10:15:10.873Z"
   },
   {
    "duration": 795,
    "start_time": "2023-01-22T10:15:11.873Z"
   },
   {
    "duration": 2389,
    "start_time": "2023-01-22T10:15:12.671Z"
   },
   {
    "duration": 603,
    "start_time": "2023-01-22T10:15:15.063Z"
   },
   {
    "duration": 607,
    "start_time": "2023-01-22T10:15:15.669Z"
   },
   {
    "duration": 1020,
    "start_time": "2023-01-22T10:15:16.359Z"
   },
   {
    "duration": 569,
    "start_time": "2023-01-22T10:15:17.381Z"
   },
   {
    "duration": 1007,
    "start_time": "2023-01-22T10:15:17.952Z"
   },
   {
    "duration": 1019,
    "start_time": "2023-01-22T10:15:18.961Z"
   },
   {
    "duration": 718,
    "start_time": "2023-01-22T10:15:20.044Z"
   },
   {
    "duration": 1179,
    "start_time": "2023-01-22T10:15:20.769Z"
   },
   {
    "duration": 1118,
    "start_time": "2023-01-22T10:15:21.951Z"
   },
   {
    "duration": 1917,
    "start_time": "2023-01-22T10:15:23.070Z"
   },
   {
    "duration": 607,
    "start_time": "2023-01-22T10:15:25.044Z"
   },
   {
    "duration": 714,
    "start_time": "2023-01-22T10:15:25.653Z"
   },
   {
    "duration": 706,
    "start_time": "2023-01-22T10:15:26.375Z"
   },
   {
    "duration": 680,
    "start_time": "2023-01-22T10:15:27.085Z"
   },
   {
    "duration": 809,
    "start_time": "2023-01-22T10:15:27.770Z"
   },
   {
    "duration": 477,
    "start_time": "2023-01-22T10:15:28.584Z"
   },
   {
    "duration": 5,
    "start_time": "2023-01-22T10:15:29.062Z"
   },
   {
    "duration": 624,
    "start_time": "2023-01-22T10:15:29.068Z"
   },
   {
    "duration": 484,
    "start_time": "2023-01-22T10:15:29.693Z"
   },
   {
    "duration": 481,
    "start_time": "2023-01-22T10:15:30.181Z"
   },
   {
    "duration": 434,
    "start_time": "2023-01-22T10:15:30.664Z"
   },
   {
    "duration": 57,
    "start_time": "2023-01-22T10:15:31.101Z"
   },
   {
    "duration": 115,
    "start_time": "2023-01-22T10:15:31.161Z"
   },
   {
    "duration": 82,
    "start_time": "2023-01-22T10:15:31.278Z"
   },
   {
    "duration": 34,
    "start_time": "2023-01-22T10:15:31.371Z"
   },
   {
    "duration": 359,
    "start_time": "2023-01-22T10:15:48.145Z"
   },
   {
    "duration": 40,
    "start_time": "2023-01-22T11:10:15.185Z"
   },
   {
    "duration": 46,
    "start_time": "2023-01-22T11:10:24.538Z"
   },
   {
    "duration": 13,
    "start_time": "2023-01-22T11:10:52.315Z"
   },
   {
    "duration": 194,
    "start_time": "2023-01-22T11:12:01.269Z"
   },
   {
    "duration": 18,
    "start_time": "2023-01-22T11:13:18.975Z"
   },
   {
    "duration": 401,
    "start_time": "2023-01-22T11:13:39.665Z"
   },
   {
    "duration": 14,
    "start_time": "2023-01-22T11:14:29.209Z"
   },
   {
    "duration": 9,
    "start_time": "2023-01-22T11:14:41.779Z"
   },
   {
    "duration": 5,
    "start_time": "2023-01-22T11:14:58.463Z"
   },
   {
    "duration": 13,
    "start_time": "2023-01-22T11:16:52.176Z"
   },
   {
    "duration": 379,
    "start_time": "2023-01-22T11:25:58.274Z"
   },
   {
    "duration": 725,
    "start_time": "2023-01-22T11:25:58.655Z"
   },
   {
    "duration": 89,
    "start_time": "2023-01-22T11:25:59.382Z"
   },
   {
    "duration": 38,
    "start_time": "2023-01-22T11:25:59.472Z"
   },
   {
    "duration": 1840,
    "start_time": "2023-01-22T11:25:59.512Z"
   },
   {
    "duration": 10,
    "start_time": "2023-01-22T11:26:01.354Z"
   },
   {
    "duration": 20,
    "start_time": "2023-01-22T11:26:01.365Z"
   },
   {
    "duration": 369,
    "start_time": "2023-01-22T11:26:01.387Z"
   },
   {
    "duration": 32,
    "start_time": "2023-01-22T11:26:01.758Z"
   },
   {
    "duration": 15,
    "start_time": "2023-01-22T11:26:01.791Z"
   },
   {
    "duration": 12,
    "start_time": "2023-01-22T11:26:01.807Z"
   },
   {
    "duration": 50,
    "start_time": "2023-01-22T11:26:01.820Z"
   },
   {
    "duration": 217,
    "start_time": "2023-01-22T11:26:01.872Z"
   },
   {
    "duration": 4,
    "start_time": "2023-01-22T11:26:02.092Z"
   },
   {
    "duration": 21,
    "start_time": "2023-01-22T11:26:02.097Z"
   },
   {
    "duration": 52,
    "start_time": "2023-01-22T11:26:02.119Z"
   },
   {
    "duration": 8,
    "start_time": "2023-01-22T11:26:02.172Z"
   },
   {
    "duration": 54,
    "start_time": "2023-01-22T11:26:02.181Z"
   },
   {
    "duration": 7,
    "start_time": "2023-01-22T11:26:02.237Z"
   },
   {
    "duration": 16,
    "start_time": "2023-01-22T11:26:02.246Z"
   },
   {
    "duration": 27,
    "start_time": "2023-01-22T11:26:02.264Z"
   },
   {
    "duration": 240,
    "start_time": "2023-01-22T11:26:02.293Z"
   },
   {
    "duration": 203,
    "start_time": "2023-01-22T11:26:02.535Z"
   },
   {
    "duration": 8,
    "start_time": "2023-01-22T11:26:02.744Z"
   },
   {
    "duration": 8,
    "start_time": "2023-01-22T11:26:02.754Z"
   },
   {
    "duration": 14,
    "start_time": "2023-01-22T11:26:02.764Z"
   },
   {
    "duration": 20,
    "start_time": "2023-01-22T11:26:02.780Z"
   },
   {
    "duration": 11,
    "start_time": "2023-01-22T11:26:02.802Z"
   },
   {
    "duration": 37,
    "start_time": "2023-01-22T11:26:02.816Z"
   },
   {
    "duration": 9,
    "start_time": "2023-01-22T11:26:02.855Z"
   },
   {
    "duration": 35,
    "start_time": "2023-01-22T11:26:02.865Z"
   },
   {
    "duration": 20,
    "start_time": "2023-01-22T11:26:02.902Z"
   },
   {
    "duration": 39,
    "start_time": "2023-01-22T11:26:02.924Z"
   },
   {
    "duration": 23,
    "start_time": "2023-01-22T11:26:02.964Z"
   },
   {
    "duration": 24,
    "start_time": "2023-01-22T11:26:02.989Z"
   },
   {
    "duration": 71,
    "start_time": "2023-01-22T11:26:03.016Z"
   },
   {
    "duration": 151,
    "start_time": "2023-01-22T11:26:03.089Z"
   },
   {
    "duration": 7,
    "start_time": "2023-01-22T11:26:03.242Z"
   },
   {
    "duration": 307,
    "start_time": "2023-01-22T11:26:03.250Z"
   },
   {
    "duration": 304,
    "start_time": "2023-01-22T11:26:03.559Z"
   },
   {
    "duration": 239,
    "start_time": "2023-01-22T11:26:03.868Z"
   },
   {
    "duration": 146,
    "start_time": "2023-01-22T11:26:04.108Z"
   },
   {
    "duration": 15,
    "start_time": "2023-01-22T11:26:04.256Z"
   },
   {
    "duration": 284,
    "start_time": "2023-01-22T11:26:04.272Z"
   },
   {
    "duration": 289,
    "start_time": "2023-01-22T11:26:04.558Z"
   },
   {
    "duration": 23,
    "start_time": "2023-01-22T11:26:04.849Z"
   },
   {
    "duration": 26,
    "start_time": "2023-01-22T11:26:04.873Z"
   },
   {
    "duration": 458,
    "start_time": "2023-01-22T11:26:04.902Z"
   },
   {
    "duration": 4,
    "start_time": "2023-01-22T11:26:05.362Z"
   },
   {
    "duration": 15,
    "start_time": "2023-01-22T11:26:05.368Z"
   },
   {
    "duration": 12,
    "start_time": "2023-01-22T11:26:05.385Z"
   },
   {
    "duration": 6,
    "start_time": "2023-01-22T11:26:05.399Z"
   },
   {
    "duration": 632,
    "start_time": "2023-01-22T11:26:05.406Z"
   },
   {
    "duration": 8,
    "start_time": "2023-01-22T11:26:06.039Z"
   },
   {
    "duration": 17,
    "start_time": "2023-01-22T11:26:06.048Z"
   },
   {
    "duration": 26,
    "start_time": "2023-01-22T11:26:06.066Z"
   },
   {
    "duration": 35,
    "start_time": "2023-01-22T11:26:06.094Z"
   },
   {
    "duration": 249,
    "start_time": "2023-01-22T11:26:06.131Z"
   },
   {
    "duration": 280,
    "start_time": "2023-01-22T11:26:06.383Z"
   },
   {
    "duration": 238,
    "start_time": "2023-01-22T11:26:06.664Z"
   },
   {
    "duration": 545,
    "start_time": "2023-01-22T11:26:06.904Z"
   },
   {
    "duration": 240,
    "start_time": "2023-01-22T11:26:07.450Z"
   },
   {
    "duration": 146,
    "start_time": "2023-01-22T11:26:07.692Z"
   },
   {
    "duration": 231,
    "start_time": "2023-01-22T11:26:07.843Z"
   },
   {
    "duration": 121,
    "start_time": "2023-01-22T11:26:08.076Z"
   },
   {
    "duration": 246,
    "start_time": "2023-01-22T11:26:08.198Z"
   },
   {
    "duration": 224,
    "start_time": "2023-01-22T11:26:08.446Z"
   },
   {
    "duration": 155,
    "start_time": "2023-01-22T11:26:08.672Z"
   },
   {
    "duration": 160,
    "start_time": "2023-01-22T11:26:08.828Z"
   },
   {
    "duration": 355,
    "start_time": "2023-01-22T11:26:08.989Z"
   },
   {
    "duration": 442,
    "start_time": "2023-01-22T11:26:09.345Z"
   },
   {
    "duration": 157,
    "start_time": "2023-01-22T11:26:09.788Z"
   },
   {
    "duration": 8,
    "start_time": "2023-01-22T11:26:09.947Z"
   },
   {
    "duration": 171,
    "start_time": "2023-01-22T11:26:09.957Z"
   },
   {
    "duration": 142,
    "start_time": "2023-01-22T11:26:10.129Z"
   },
   {
    "duration": 155,
    "start_time": "2023-01-22T11:26:10.272Z"
   },
   {
    "duration": 134,
    "start_time": "2023-01-22T11:26:10.429Z"
   },
   {
    "duration": 175,
    "start_time": "2023-01-22T11:26:10.565Z"
   },
   {
    "duration": 4,
    "start_time": "2023-01-22T11:26:10.743Z"
   },
   {
    "duration": 320,
    "start_time": "2023-01-22T11:26:10.749Z"
   },
   {
    "duration": 159,
    "start_time": "2023-01-22T11:26:11.071Z"
   },
   {
    "duration": 163,
    "start_time": "2023-01-22T11:26:11.232Z"
   },
   {
    "duration": 177,
    "start_time": "2023-01-22T11:26:11.397Z"
   },
   {
    "duration": 8,
    "start_time": "2023-01-22T11:26:11.575Z"
   },
   {
    "duration": 39,
    "start_time": "2023-01-22T11:26:11.585Z"
   },
   {
    "duration": 36,
    "start_time": "2023-01-22T11:26:11.625Z"
   },
   {
    "duration": 9,
    "start_time": "2023-01-22T11:26:11.662Z"
   },
   {
    "duration": 17,
    "start_time": "2023-01-22T11:26:11.673Z"
   },
   {
    "duration": 118,
    "start_time": "2023-01-22T11:26:11.691Z"
   },
   {
    "duration": 0,
    "start_time": "2023-01-22T11:26:11.811Z"
   },
   {
    "duration": 0,
    "start_time": "2023-01-22T11:26:11.813Z"
   },
   {
    "duration": 10961,
    "start_time": "2023-01-22T11:27:22.923Z"
   },
   {
    "duration": 924,
    "start_time": "2023-01-22T11:27:33.943Z"
   },
   {
    "duration": 1712,
    "start_time": "2023-01-22T11:27:34.869Z"
   },
   {
    "duration": 428,
    "start_time": "2023-01-24T16:18:03.134Z"
   },
   {
    "duration": 914,
    "start_time": "2023-01-24T16:18:03.564Z"
   },
   {
    "duration": 300,
    "start_time": "2023-01-24T16:18:04.480Z"
   },
   {
    "duration": 40,
    "start_time": "2023-01-24T16:18:04.782Z"
   },
   {
    "duration": 1827,
    "start_time": "2023-01-24T16:18:04.824Z"
   },
   {
    "duration": 9,
    "start_time": "2023-01-24T16:18:06.652Z"
   },
   {
    "duration": 4,
    "start_time": "2023-01-24T16:18:06.662Z"
   },
   {
    "duration": 296,
    "start_time": "2023-01-24T16:18:06.667Z"
   },
   {
    "duration": 26,
    "start_time": "2023-01-24T16:18:06.964Z"
   },
   {
    "duration": 12,
    "start_time": "2023-01-24T16:18:06.992Z"
   },
   {
    "duration": 6,
    "start_time": "2023-01-24T16:18:07.005Z"
   },
   {
    "duration": 35,
    "start_time": "2023-01-24T16:18:07.012Z"
   },
   {
    "duration": 176,
    "start_time": "2023-01-24T16:18:07.049Z"
   },
   {
    "duration": 3,
    "start_time": "2023-01-24T16:18:07.227Z"
   },
   {
    "duration": 23,
    "start_time": "2023-01-24T16:18:07.231Z"
   },
   {
    "duration": 35,
    "start_time": "2023-01-24T16:18:07.255Z"
   },
   {
    "duration": 6,
    "start_time": "2023-01-24T16:18:07.291Z"
   },
   {
    "duration": 26,
    "start_time": "2023-01-24T16:18:07.299Z"
   },
   {
    "duration": 7,
    "start_time": "2023-01-24T16:18:07.348Z"
   },
   {
    "duration": 11,
    "start_time": "2023-01-24T16:18:07.356Z"
   },
   {
    "duration": 7,
    "start_time": "2023-01-24T16:18:07.368Z"
   },
   {
    "duration": 232,
    "start_time": "2023-01-24T16:18:07.376Z"
   },
   {
    "duration": 183,
    "start_time": "2023-01-24T16:18:07.609Z"
   },
   {
    "duration": 8,
    "start_time": "2023-01-24T16:18:07.793Z"
   },
   {
    "duration": 7,
    "start_time": "2023-01-24T16:18:07.802Z"
   },
   {
    "duration": 12,
    "start_time": "2023-01-24T16:18:07.811Z"
   },
   {
    "duration": 26,
    "start_time": "2023-01-24T16:18:07.824Z"
   },
   {
    "duration": 5,
    "start_time": "2023-01-24T16:18:07.854Z"
   },
   {
    "duration": 14,
    "start_time": "2023-01-24T16:18:07.861Z"
   },
   {
    "duration": 6,
    "start_time": "2023-01-24T16:18:07.876Z"
   },
   {
    "duration": 11,
    "start_time": "2023-01-24T16:18:07.884Z"
   },
   {
    "duration": 7,
    "start_time": "2023-01-24T16:18:07.896Z"
   },
   {
    "duration": 13,
    "start_time": "2023-01-24T16:18:07.905Z"
   },
   {
    "duration": 46,
    "start_time": "2023-01-24T16:18:07.920Z"
   },
   {
    "duration": 21,
    "start_time": "2023-01-24T16:18:07.968Z"
   },
   {
    "duration": 59,
    "start_time": "2023-01-24T16:18:07.991Z"
   },
   {
    "duration": 162,
    "start_time": "2023-01-24T16:18:08.051Z"
   },
   {
    "duration": 7,
    "start_time": "2023-01-24T16:18:08.215Z"
   },
   {
    "duration": 265,
    "start_time": "2023-01-24T16:18:08.223Z"
   },
   {
    "duration": 277,
    "start_time": "2023-01-24T16:18:08.490Z"
   },
   {
    "duration": 206,
    "start_time": "2023-01-24T16:18:08.769Z"
   },
   {
    "duration": 135,
    "start_time": "2023-01-24T16:18:08.976Z"
   },
   {
    "duration": 16,
    "start_time": "2023-01-24T16:18:09.113Z"
   },
   {
    "duration": 289,
    "start_time": "2023-01-24T16:18:09.132Z"
   },
   {
    "duration": 300,
    "start_time": "2023-01-24T16:18:09.423Z"
   },
   {
    "duration": 32,
    "start_time": "2023-01-24T16:18:09.725Z"
   },
   {
    "duration": 18,
    "start_time": "2023-01-24T16:18:09.758Z"
   },
   {
    "duration": 410,
    "start_time": "2023-01-24T16:18:09.778Z"
   },
   {
    "duration": 4,
    "start_time": "2023-01-24T16:18:10.190Z"
   },
   {
    "duration": 14,
    "start_time": "2023-01-24T16:18:10.195Z"
   },
   {
    "duration": 11,
    "start_time": "2023-01-24T16:18:10.211Z"
   },
   {
    "duration": 10,
    "start_time": "2023-01-24T16:18:10.223Z"
   },
   {
    "duration": 576,
    "start_time": "2023-01-24T16:18:10.235Z"
   },
   {
    "duration": 13,
    "start_time": "2023-01-24T16:18:10.813Z"
   },
   {
    "duration": 31,
    "start_time": "2023-01-24T16:18:10.827Z"
   },
   {
    "duration": 25,
    "start_time": "2023-01-24T16:18:10.860Z"
   },
   {
    "duration": 36,
    "start_time": "2023-01-24T16:18:10.887Z"
   },
   {
    "duration": 201,
    "start_time": "2023-01-24T16:18:10.925Z"
   },
   {
    "duration": 211,
    "start_time": "2023-01-24T16:18:11.127Z"
   },
   {
    "duration": 205,
    "start_time": "2023-01-24T16:18:11.339Z"
   },
   {
    "duration": 466,
    "start_time": "2023-01-24T16:18:11.547Z"
   },
   {
    "duration": 217,
    "start_time": "2023-01-24T16:18:12.015Z"
   },
   {
    "duration": 128,
    "start_time": "2023-01-24T16:18:12.234Z"
   },
   {
    "duration": 220,
    "start_time": "2023-01-24T16:18:12.364Z"
   },
   {
    "duration": 121,
    "start_time": "2023-01-24T16:18:12.586Z"
   },
   {
    "duration": 266,
    "start_time": "2023-01-24T16:18:12.708Z"
   },
   {
    "duration": 214,
    "start_time": "2023-01-24T16:18:12.976Z"
   },
   {
    "duration": 149,
    "start_time": "2023-01-24T16:18:13.191Z"
   },
   {
    "duration": 155,
    "start_time": "2023-01-24T16:18:13.342Z"
   },
   {
    "duration": 330,
    "start_time": "2023-01-24T16:18:13.498Z"
   },
   {
    "duration": 451,
    "start_time": "2023-01-24T16:18:13.836Z"
   },
   {
    "duration": 159,
    "start_time": "2023-01-24T16:18:14.289Z"
   },
   {
    "duration": 9,
    "start_time": "2023-01-24T16:18:14.449Z"
   },
   {
    "duration": 168,
    "start_time": "2023-01-24T16:18:14.459Z"
   },
   {
    "duration": 142,
    "start_time": "2023-01-24T16:18:14.629Z"
   },
   {
    "duration": 158,
    "start_time": "2023-01-24T16:18:14.773Z"
   },
   {
    "duration": 138,
    "start_time": "2023-01-24T16:18:14.933Z"
   },
   {
    "duration": 168,
    "start_time": "2023-01-24T16:18:15.072Z"
   },
   {
    "duration": 3,
    "start_time": "2023-01-24T16:18:15.248Z"
   },
   {
    "duration": 334,
    "start_time": "2023-01-24T16:18:15.252Z"
   },
   {
    "duration": 149,
    "start_time": "2023-01-24T16:18:15.588Z"
   },
   {
    "duration": 161,
    "start_time": "2023-01-24T16:18:15.749Z"
   },
   {
    "duration": 148,
    "start_time": "2023-01-24T16:18:15.912Z"
   },
   {
    "duration": 7,
    "start_time": "2023-01-24T16:18:16.061Z"
   },
   {
    "duration": 19,
    "start_time": "2023-01-24T16:18:16.070Z"
   },
   {
    "duration": 21,
    "start_time": "2023-01-24T16:18:16.090Z"
   },
   {
    "duration": 8,
    "start_time": "2023-01-24T16:18:16.112Z"
   },
   {
    "duration": 28,
    "start_time": "2023-01-24T16:18:16.121Z"
   },
   {
    "duration": 4117,
    "start_time": "2023-01-24T16:18:16.150Z"
   },
   {
    "duration": 392,
    "start_time": "2023-01-24T16:18:20.269Z"
   },
   {
    "duration": 907,
    "start_time": "2023-01-24T16:18:20.663Z"
   },
   {
    "duration": 3,
    "start_time": "2023-01-24T16:27:49.049Z"
   },
   {
    "duration": 15,
    "start_time": "2023-01-24T16:27:49.058Z"
   },
   {
    "duration": 101,
    "start_time": "2023-01-24T16:27:49.074Z"
   },
   {
    "duration": 35,
    "start_time": "2023-01-24T16:27:49.176Z"
   },
   {
    "duration": 2079,
    "start_time": "2023-01-24T16:27:49.213Z"
   },
   {
    "duration": 11,
    "start_time": "2023-01-24T16:27:51.293Z"
   },
   {
    "duration": 26,
    "start_time": "2023-01-24T16:27:51.306Z"
   },
   {
    "duration": 215,
    "start_time": "2023-01-24T16:27:51.334Z"
   },
   {
    "duration": 28,
    "start_time": "2023-01-24T16:27:51.551Z"
   },
   {
    "duration": 11,
    "start_time": "2023-01-24T16:27:51.582Z"
   },
   {
    "duration": 6,
    "start_time": "2023-01-24T16:27:51.594Z"
   },
   {
    "duration": 21,
    "start_time": "2023-01-24T16:27:51.601Z"
   },
   {
    "duration": 189,
    "start_time": "2023-01-24T16:27:51.624Z"
   },
   {
    "duration": 4,
    "start_time": "2023-01-24T16:27:51.815Z"
   },
   {
    "duration": 28,
    "start_time": "2023-01-24T16:27:51.820Z"
   },
   {
    "duration": 35,
    "start_time": "2023-01-24T16:27:51.849Z"
   },
   {
    "duration": 17,
    "start_time": "2023-01-24T16:27:51.886Z"
   },
   {
    "duration": 41,
    "start_time": "2023-01-24T16:27:51.905Z"
   },
   {
    "duration": 8,
    "start_time": "2023-01-24T16:27:51.948Z"
   },
   {
    "duration": 21,
    "start_time": "2023-01-24T16:27:51.957Z"
   },
   {
    "duration": 7,
    "start_time": "2023-01-24T16:27:51.980Z"
   },
   {
    "duration": 226,
    "start_time": "2023-01-24T16:27:51.988Z"
   },
   {
    "duration": 181,
    "start_time": "2023-01-24T16:27:52.216Z"
   },
   {
    "duration": 8,
    "start_time": "2023-01-24T16:27:52.398Z"
   },
   {
    "duration": 24,
    "start_time": "2023-01-24T16:27:52.409Z"
   },
   {
    "duration": 14,
    "start_time": "2023-01-24T16:27:52.434Z"
   },
   {
    "duration": 8,
    "start_time": "2023-01-24T16:27:52.450Z"
   },
   {
    "duration": 10,
    "start_time": "2023-01-24T16:27:52.459Z"
   },
   {
    "duration": 12,
    "start_time": "2023-01-24T16:27:52.470Z"
   },
   {
    "duration": 6,
    "start_time": "2023-01-24T16:27:52.484Z"
   },
   {
    "duration": 11,
    "start_time": "2023-01-24T16:27:52.491Z"
   },
   {
    "duration": 7,
    "start_time": "2023-01-24T16:27:52.503Z"
   },
   {
    "duration": 37,
    "start_time": "2023-01-24T16:27:52.512Z"
   },
   {
    "duration": 13,
    "start_time": "2023-01-24T16:27:52.551Z"
   },
   {
    "duration": 22,
    "start_time": "2023-01-24T16:27:52.565Z"
   },
   {
    "duration": 22,
    "start_time": "2023-01-24T16:27:52.589Z"
   },
   {
    "duration": 43,
    "start_time": "2023-01-24T16:27:52.613Z"
   },
   {
    "duration": 166,
    "start_time": "2023-01-24T16:27:52.658Z"
   },
   {
    "duration": 8,
    "start_time": "2023-01-24T16:27:52.827Z"
   },
   {
    "duration": 267,
    "start_time": "2023-01-24T16:27:52.836Z"
   },
   {
    "duration": 411,
    "start_time": "2023-01-24T16:27:53.104Z"
   },
   {
    "duration": 131,
    "start_time": "2023-01-24T16:27:53.517Z"
   },
   {
    "duration": 133,
    "start_time": "2023-01-24T16:27:53.649Z"
   },
   {
    "duration": 14,
    "start_time": "2023-01-24T16:27:53.783Z"
   },
   {
    "duration": 305,
    "start_time": "2023-01-24T16:27:53.798Z"
   },
   {
    "duration": 315,
    "start_time": "2023-01-24T16:27:54.105Z"
   },
   {
    "duration": 29,
    "start_time": "2023-01-24T16:27:54.422Z"
   },
   {
    "duration": 17,
    "start_time": "2023-01-24T16:27:54.452Z"
   },
   {
    "duration": 369,
    "start_time": "2023-01-24T16:27:54.470Z"
   },
   {
    "duration": 6,
    "start_time": "2023-01-24T16:27:54.842Z"
   },
   {
    "duration": 16,
    "start_time": "2023-01-24T16:27:54.850Z"
   },
   {
    "duration": 6,
    "start_time": "2023-01-24T16:27:54.868Z"
   },
   {
    "duration": 5,
    "start_time": "2023-01-24T16:27:54.876Z"
   },
   {
    "duration": 600,
    "start_time": "2023-01-24T16:27:54.882Z"
   },
   {
    "duration": 8,
    "start_time": "2023-01-24T16:27:55.484Z"
   },
   {
    "duration": 7,
    "start_time": "2023-01-24T16:27:55.494Z"
   },
   {
    "duration": 7,
    "start_time": "2023-01-24T16:27:55.503Z"
   },
   {
    "duration": 52,
    "start_time": "2023-01-24T16:27:55.511Z"
   },
   {
    "duration": 276,
    "start_time": "2023-01-24T16:27:55.565Z"
   },
   {
    "duration": 222,
    "start_time": "2023-01-24T16:27:55.842Z"
   },
   {
    "duration": 238,
    "start_time": "2023-01-24T16:27:56.065Z"
   },
   {
    "duration": 540,
    "start_time": "2023-01-24T16:27:56.304Z"
   },
   {
    "duration": 140,
    "start_time": "2023-01-24T16:27:56.847Z"
   },
   {
    "duration": 129,
    "start_time": "2023-01-24T16:27:56.988Z"
   },
   {
    "duration": 227,
    "start_time": "2023-01-24T16:27:57.119Z"
   },
   {
    "duration": 112,
    "start_time": "2023-01-24T16:27:57.348Z"
   },
   {
    "duration": 244,
    "start_time": "2023-01-24T16:27:57.462Z"
   },
   {
    "duration": 231,
    "start_time": "2023-01-24T16:27:57.707Z"
   },
   {
    "duration": 146,
    "start_time": "2023-01-24T16:27:57.940Z"
   },
   {
    "duration": 272,
    "start_time": "2023-01-24T16:27:58.091Z"
   },
   {
    "duration": 247,
    "start_time": "2023-01-24T16:27:58.365Z"
   },
   {
    "duration": 443,
    "start_time": "2023-01-24T16:27:58.613Z"
   },
   {
    "duration": 158,
    "start_time": "2023-01-24T16:27:59.057Z"
   },
   {
    "duration": 9,
    "start_time": "2023-01-24T16:27:59.216Z"
   },
   {
    "duration": 170,
    "start_time": "2023-01-24T16:27:59.226Z"
   },
   {
    "duration": 143,
    "start_time": "2023-01-24T16:27:59.397Z"
   },
   {
    "duration": 148,
    "start_time": "2023-01-24T16:27:59.547Z"
   },
   {
    "duration": 248,
    "start_time": "2023-01-24T16:27:59.696Z"
   },
   {
    "duration": 168,
    "start_time": "2023-01-24T16:27:59.948Z"
   },
   {
    "duration": 4,
    "start_time": "2023-01-24T16:28:00.118Z"
   },
   {
    "duration": 191,
    "start_time": "2023-01-24T16:28:00.123Z"
   },
   {
    "duration": 162,
    "start_time": "2023-01-24T16:28:00.316Z"
   },
   {
    "duration": 159,
    "start_time": "2023-01-24T16:28:00.479Z"
   },
   {
    "duration": 154,
    "start_time": "2023-01-24T16:28:00.640Z"
   },
   {
    "duration": 7,
    "start_time": "2023-01-24T16:28:00.796Z"
   },
   {
    "duration": 42,
    "start_time": "2023-01-24T16:28:00.805Z"
   },
   {
    "duration": 43,
    "start_time": "2023-01-24T16:28:00.848Z"
   },
   {
    "duration": 14,
    "start_time": "2023-01-24T16:28:00.892Z"
   },
   {
    "duration": 29,
    "start_time": "2023-01-24T16:28:00.908Z"
   },
   {
    "duration": 4173,
    "start_time": "2023-01-24T16:28:00.939Z"
   },
   {
    "duration": 430,
    "start_time": "2023-01-24T16:28:05.114Z"
   },
   {
    "duration": 909,
    "start_time": "2023-01-24T16:28:05.548Z"
   },
   {
    "duration": 570,
    "start_time": "2023-01-29T20:08:16.654Z"
   },
   {
    "duration": 1767,
    "start_time": "2023-01-29T20:08:17.227Z"
   },
   {
    "duration": 332,
    "start_time": "2023-01-29T20:08:18.996Z"
   },
   {
    "duration": 57,
    "start_time": "2023-01-29T20:08:19.332Z"
   },
   {
    "duration": 2014,
    "start_time": "2023-01-29T20:08:19.391Z"
   },
   {
    "duration": 10,
    "start_time": "2023-01-29T20:08:21.407Z"
   },
   {
    "duration": 16,
    "start_time": "2023-01-29T20:08:21.418Z"
   },
   {
    "duration": 353,
    "start_time": "2023-01-29T20:08:21.438Z"
   },
   {
    "duration": 32,
    "start_time": "2023-01-29T20:08:21.792Z"
   },
   {
    "duration": 17,
    "start_time": "2023-01-29T20:08:21.828Z"
   },
   {
    "duration": 10,
    "start_time": "2023-01-29T20:08:21.847Z"
   },
   {
    "duration": 43,
    "start_time": "2023-01-29T20:08:21.858Z"
   },
   {
    "duration": 217,
    "start_time": "2023-01-29T20:08:21.903Z"
   },
   {
    "duration": 4,
    "start_time": "2023-01-29T20:08:22.122Z"
   },
   {
    "duration": 18,
    "start_time": "2023-01-29T20:08:22.127Z"
   },
   {
    "duration": 54,
    "start_time": "2023-01-29T20:08:22.146Z"
   },
   {
    "duration": 7,
    "start_time": "2023-01-29T20:08:22.202Z"
   },
   {
    "duration": 28,
    "start_time": "2023-01-29T20:08:22.211Z"
   },
   {
    "duration": 8,
    "start_time": "2023-01-29T20:08:22.240Z"
   },
   {
    "duration": 12,
    "start_time": "2023-01-29T20:08:22.250Z"
   },
   {
    "duration": 35,
    "start_time": "2023-01-29T20:08:22.264Z"
   },
   {
    "duration": 346,
    "start_time": "2023-01-29T20:08:22.301Z"
   },
   {
    "duration": 221,
    "start_time": "2023-01-29T20:08:22.649Z"
   },
   {
    "duration": 7,
    "start_time": "2023-01-29T20:08:22.872Z"
   },
   {
    "duration": 23,
    "start_time": "2023-01-29T20:08:22.881Z"
   },
   {
    "duration": 17,
    "start_time": "2023-01-29T20:08:22.906Z"
   },
   {
    "duration": 10,
    "start_time": "2023-01-29T20:08:22.925Z"
   },
   {
    "duration": 12,
    "start_time": "2023-01-29T20:08:22.939Z"
   },
   {
    "duration": 28,
    "start_time": "2023-01-29T20:08:22.952Z"
   },
   {
    "duration": 10,
    "start_time": "2023-01-29T20:08:22.982Z"
   },
   {
    "duration": 16,
    "start_time": "2023-01-29T20:08:22.995Z"
   },
   {
    "duration": 14,
    "start_time": "2023-01-29T20:08:23.012Z"
   },
   {
    "duration": 22,
    "start_time": "2023-01-29T20:08:23.028Z"
   },
   {
    "duration": 15,
    "start_time": "2023-01-29T20:08:23.052Z"
   },
   {
    "duration": 37,
    "start_time": "2023-01-29T20:08:23.069Z"
   },
   {
    "duration": 22,
    "start_time": "2023-01-29T20:08:23.108Z"
   },
   {
    "duration": 76,
    "start_time": "2023-01-29T20:08:23.131Z"
   },
   {
    "duration": 231,
    "start_time": "2023-01-29T20:08:23.209Z"
   },
   {
    "duration": 9,
    "start_time": "2023-01-29T20:08:23.441Z"
   },
   {
    "duration": 318,
    "start_time": "2023-01-29T20:08:23.451Z"
   },
   {
    "duration": 334,
    "start_time": "2023-01-29T20:08:23.772Z"
   },
   {
    "duration": 247,
    "start_time": "2023-01-29T20:08:24.107Z"
   },
   {
    "duration": 166,
    "start_time": "2023-01-29T20:08:24.356Z"
   },
   {
    "duration": 17,
    "start_time": "2023-01-29T20:08:24.525Z"
   },
   {
    "duration": 316,
    "start_time": "2023-01-29T20:08:24.544Z"
   },
   {
    "duration": 330,
    "start_time": "2023-01-29T20:08:24.862Z"
   },
   {
    "duration": 27,
    "start_time": "2023-01-29T20:08:25.194Z"
   },
   {
    "duration": 21,
    "start_time": "2023-01-29T20:08:25.223Z"
   },
   {
    "duration": 434,
    "start_time": "2023-01-29T20:08:25.246Z"
   },
   {
    "duration": 10,
    "start_time": "2023-01-29T20:08:25.681Z"
   },
   {
    "duration": 12,
    "start_time": "2023-01-29T20:08:25.693Z"
   },
   {
    "duration": 22,
    "start_time": "2023-01-29T20:08:25.707Z"
   },
   {
    "duration": 13,
    "start_time": "2023-01-29T20:08:25.732Z"
   },
   {
    "duration": 701,
    "start_time": "2023-01-29T20:08:25.747Z"
   },
   {
    "duration": 9,
    "start_time": "2023-01-29T20:08:26.450Z"
   },
   {
    "duration": 45,
    "start_time": "2023-01-29T20:08:26.461Z"
   },
   {
    "duration": 28,
    "start_time": "2023-01-29T20:08:26.508Z"
   },
   {
    "duration": 45,
    "start_time": "2023-01-29T20:08:26.539Z"
   },
   {
    "duration": 254,
    "start_time": "2023-01-29T20:08:26.586Z"
   },
   {
    "duration": 250,
    "start_time": "2023-01-29T20:08:26.842Z"
   },
   {
    "duration": 277,
    "start_time": "2023-01-29T20:08:27.094Z"
   },
   {
    "duration": 520,
    "start_time": "2023-01-29T20:08:27.374Z"
   },
   {
    "duration": 232,
    "start_time": "2023-01-29T20:08:27.895Z"
   },
   {
    "duration": 212,
    "start_time": "2023-01-29T20:08:28.129Z"
   },
   {
    "duration": 244,
    "start_time": "2023-01-29T20:08:28.342Z"
   },
   {
    "duration": 126,
    "start_time": "2023-01-29T20:08:28.588Z"
   },
   {
    "duration": 248,
    "start_time": "2023-01-29T20:08:28.716Z"
   },
   {
    "duration": 269,
    "start_time": "2023-01-29T20:08:28.966Z"
   },
   {
    "duration": 207,
    "start_time": "2023-01-29T20:08:29.237Z"
   },
   {
    "duration": 187,
    "start_time": "2023-01-29T20:08:29.447Z"
   },
   {
    "duration": 381,
    "start_time": "2023-01-29T20:08:29.636Z"
   },
   {
    "duration": 517,
    "start_time": "2023-01-29T20:08:30.020Z"
   },
   {
    "duration": 184,
    "start_time": "2023-01-29T20:08:30.539Z"
   },
   {
    "duration": 10,
    "start_time": "2023-01-29T20:08:30.726Z"
   },
   {
    "duration": 281,
    "start_time": "2023-01-29T20:08:30.738Z"
   },
   {
    "duration": 168,
    "start_time": "2023-01-29T20:08:31.021Z"
   },
   {
    "duration": 187,
    "start_time": "2023-01-29T20:08:31.191Z"
   },
   {
    "duration": 154,
    "start_time": "2023-01-29T20:08:31.379Z"
   },
   {
    "duration": 198,
    "start_time": "2023-01-29T20:08:31.535Z"
   },
   {
    "duration": 5,
    "start_time": "2023-01-29T20:08:31.735Z"
   },
   {
    "duration": 295,
    "start_time": "2023-01-29T20:08:31.743Z"
   },
   {
    "duration": 176,
    "start_time": "2023-01-29T20:08:32.043Z"
   },
   {
    "duration": 199,
    "start_time": "2023-01-29T20:08:32.221Z"
   },
   {
    "duration": 172,
    "start_time": "2023-01-29T20:08:32.422Z"
   },
   {
    "duration": 8,
    "start_time": "2023-01-29T20:08:32.596Z"
   },
   {
    "duration": 26,
    "start_time": "2023-01-29T20:08:32.606Z"
   },
   {
    "duration": 25,
    "start_time": "2023-01-29T20:08:32.634Z"
   },
   {
    "duration": 33,
    "start_time": "2023-01-29T20:08:32.661Z"
   },
   {
    "duration": 2,
    "start_time": "2023-01-29T20:08:32.696Z"
   },
   {
    "duration": 4557,
    "start_time": "2023-01-29T20:08:32.700Z"
   },
   {
    "duration": 393,
    "start_time": "2023-01-29T20:08:37.259Z"
   },
   {
    "duration": 975,
    "start_time": "2023-01-29T20:08:37.653Z"
   },
   {
    "duration": 40,
    "start_time": "2023-01-29T20:10:27.415Z"
   },
   {
    "duration": 3,
    "start_time": "2023-01-29T20:10:33.907Z"
   },
   {
    "duration": 29,
    "start_time": "2023-01-29T20:10:33.912Z"
   },
   {
    "duration": 105,
    "start_time": "2023-01-29T20:10:33.942Z"
   },
   {
    "duration": 51,
    "start_time": "2023-01-29T20:10:34.050Z"
   },
   {
    "duration": 2488,
    "start_time": "2023-01-29T20:10:34.104Z"
   },
   {
    "duration": 12,
    "start_time": "2023-01-29T20:10:36.593Z"
   },
   {
    "duration": 10,
    "start_time": "2023-01-29T20:10:36.608Z"
   },
   {
    "duration": 247,
    "start_time": "2023-01-29T20:10:36.619Z"
   },
   {
    "duration": 46,
    "start_time": "2023-01-29T20:10:36.868Z"
   },
   {
    "duration": 13,
    "start_time": "2023-01-29T20:10:36.916Z"
   },
   {
    "duration": 9,
    "start_time": "2023-01-29T20:10:36.932Z"
   },
   {
    "duration": 14,
    "start_time": "2023-01-29T20:10:36.943Z"
   },
   {
    "duration": 244,
    "start_time": "2023-01-29T20:10:36.959Z"
   },
   {
    "duration": 9,
    "start_time": "2023-01-29T20:10:37.211Z"
   },
   {
    "duration": 19,
    "start_time": "2023-01-29T20:10:37.222Z"
   },
   {
    "duration": 34,
    "start_time": "2023-01-29T20:10:37.243Z"
   },
   {
    "duration": 14,
    "start_time": "2023-01-29T20:10:37.279Z"
   },
   {
    "duration": 47,
    "start_time": "2023-01-29T20:10:37.295Z"
   },
   {
    "duration": 9,
    "start_time": "2023-01-29T20:10:37.344Z"
   },
   {
    "duration": 11,
    "start_time": "2023-01-29T20:10:37.354Z"
   },
   {
    "duration": 16,
    "start_time": "2023-01-29T20:10:37.367Z"
   },
   {
    "duration": 276,
    "start_time": "2023-01-29T20:10:37.385Z"
   },
   {
    "duration": 216,
    "start_time": "2023-01-29T20:10:37.663Z"
   },
   {
    "duration": 12,
    "start_time": "2023-01-29T20:10:37.881Z"
   },
   {
    "duration": 25,
    "start_time": "2023-01-29T20:10:37.895Z"
   },
   {
    "duration": 13,
    "start_time": "2023-01-29T20:10:37.922Z"
   },
   {
    "duration": 8,
    "start_time": "2023-01-29T20:10:37.937Z"
   },
   {
    "duration": 11,
    "start_time": "2023-01-29T20:10:37.947Z"
   },
   {
    "duration": 12,
    "start_time": "2023-01-29T20:10:37.962Z"
   },
   {
    "duration": 19,
    "start_time": "2023-01-29T20:10:37.976Z"
   },
   {
    "duration": 30,
    "start_time": "2023-01-29T20:10:37.998Z"
   },
   {
    "duration": 9,
    "start_time": "2023-01-29T20:10:38.030Z"
   },
   {
    "duration": 19,
    "start_time": "2023-01-29T20:10:38.040Z"
   },
   {
    "duration": 14,
    "start_time": "2023-01-29T20:10:38.061Z"
   },
   {
    "duration": 33,
    "start_time": "2023-01-29T20:10:38.077Z"
   },
   {
    "duration": 28,
    "start_time": "2023-01-29T20:10:38.112Z"
   },
   {
    "duration": 20,
    "start_time": "2023-01-29T20:10:38.142Z"
   },
   {
    "duration": 213,
    "start_time": "2023-01-29T20:10:38.164Z"
   },
   {
    "duration": 8,
    "start_time": "2023-01-29T20:10:38.378Z"
   },
   {
    "duration": 310,
    "start_time": "2023-01-29T20:10:38.388Z"
   },
   {
    "duration": 484,
    "start_time": "2023-01-29T20:10:38.700Z"
   },
   {
    "duration": 169,
    "start_time": "2023-01-29T20:10:39.186Z"
   },
   {
    "duration": 156,
    "start_time": "2023-01-29T20:10:39.356Z"
   },
   {
    "duration": 16,
    "start_time": "2023-01-29T20:10:39.514Z"
   },
   {
    "duration": 338,
    "start_time": "2023-01-29T20:10:39.532Z"
   },
   {
    "duration": 334,
    "start_time": "2023-01-29T20:10:39.872Z"
   },
   {
    "duration": 24,
    "start_time": "2023-01-29T20:10:40.209Z"
   },
   {
    "duration": 18,
    "start_time": "2023-01-29T20:10:40.235Z"
   },
   {
    "duration": 423,
    "start_time": "2023-01-29T20:10:40.254Z"
   },
   {
    "duration": 4,
    "start_time": "2023-01-29T20:10:40.679Z"
   },
   {
    "duration": 18,
    "start_time": "2023-01-29T20:10:40.692Z"
   },
   {
    "duration": 10,
    "start_time": "2023-01-29T20:10:40.712Z"
   },
   {
    "duration": 7,
    "start_time": "2023-01-29T20:10:40.724Z"
   },
   {
    "duration": 684,
    "start_time": "2023-01-29T20:10:40.732Z"
   },
   {
    "duration": 7,
    "start_time": "2023-01-29T20:10:41.418Z"
   },
   {
    "duration": 21,
    "start_time": "2023-01-29T20:10:41.427Z"
   },
   {
    "duration": 20,
    "start_time": "2023-01-29T20:10:41.449Z"
   },
   {
    "duration": 42,
    "start_time": "2023-01-29T20:10:41.470Z"
   },
   {
    "duration": 259,
    "start_time": "2023-01-29T20:10:41.514Z"
   },
   {
    "duration": 264,
    "start_time": "2023-01-29T20:10:41.775Z"
   },
   {
    "duration": 265,
    "start_time": "2023-01-29T20:10:42.041Z"
   },
   {
    "duration": 600,
    "start_time": "2023-01-29T20:10:42.309Z"
   },
   {
    "duration": 155,
    "start_time": "2023-01-29T20:10:42.910Z"
   },
   {
    "duration": 150,
    "start_time": "2023-01-29T20:10:43.067Z"
   },
   {
    "duration": 266,
    "start_time": "2023-01-29T20:10:43.219Z"
   },
   {
    "duration": 154,
    "start_time": "2023-01-29T20:10:43.487Z"
   },
   {
    "duration": 273,
    "start_time": "2023-01-29T20:10:43.643Z"
   },
   {
    "duration": 274,
    "start_time": "2023-01-29T20:10:43.918Z"
   },
   {
    "duration": 171,
    "start_time": "2023-01-29T20:10:44.198Z"
   },
   {
    "duration": 305,
    "start_time": "2023-01-29T20:10:44.370Z"
   },
   {
    "duration": 294,
    "start_time": "2023-01-29T20:10:44.677Z"
   },
   {
    "duration": 585,
    "start_time": "2023-01-29T20:10:44.973Z"
   },
   {
    "duration": 210,
    "start_time": "2023-01-29T20:10:45.561Z"
   },
   {
    "duration": 10,
    "start_time": "2023-01-29T20:10:45.772Z"
   },
   {
    "duration": 215,
    "start_time": "2023-01-29T20:10:45.792Z"
   },
   {
    "duration": 201,
    "start_time": "2023-01-29T20:10:46.009Z"
   },
   {
    "duration": 204,
    "start_time": "2023-01-29T20:10:46.212Z"
   },
   {
    "duration": 295,
    "start_time": "2023-01-29T20:10:46.418Z"
   },
   {
    "duration": 197,
    "start_time": "2023-01-29T20:10:46.715Z"
   },
   {
    "duration": 5,
    "start_time": "2023-01-29T20:10:46.915Z"
   },
   {
    "duration": 220,
    "start_time": "2023-01-29T20:10:46.921Z"
   },
   {
    "duration": 198,
    "start_time": "2023-01-29T20:10:47.143Z"
   },
   {
    "duration": 206,
    "start_time": "2023-01-29T20:10:47.347Z"
   },
   {
    "duration": 179,
    "start_time": "2023-01-29T20:10:47.555Z"
   },
   {
    "duration": 9,
    "start_time": "2023-01-29T20:10:47.736Z"
   },
   {
    "duration": 33,
    "start_time": "2023-01-29T20:10:47.746Z"
   },
   {
    "duration": 36,
    "start_time": "2023-01-29T20:10:47.781Z"
   },
   {
    "duration": 9,
    "start_time": "2023-01-29T20:10:47.819Z"
   },
   {
    "duration": 4,
    "start_time": "2023-01-29T20:10:47.830Z"
   },
   {
    "duration": 4815,
    "start_time": "2023-01-29T20:10:47.835Z"
   },
   {
    "duration": 436,
    "start_time": "2023-01-29T20:10:52.652Z"
   },
   {
    "duration": 962,
    "start_time": "2023-01-29T20:10:53.090Z"
   },
   {
    "duration": 186,
    "start_time": "2023-01-29T20:12:52.479Z"
   },
   {
    "duration": 177,
    "start_time": "2023-01-29T20:13:38.136Z"
   },
   {
    "duration": 351,
    "start_time": "2023-01-29T20:17:21.588Z"
   },
   {
    "duration": 344,
    "start_time": "2023-01-29T20:18:14.985Z"
   },
   {
    "duration": 76,
    "start_time": "2023-01-29T20:19:01.979Z"
   },
   {
    "duration": 547,
    "start_time": "2023-01-29T20:19:26.570Z"
   },
   {
    "duration": 515,
    "start_time": "2023-01-29T20:21:10.269Z"
   },
   {
    "duration": 70,
    "start_time": "2023-01-29T20:21:26.783Z"
   },
   {
    "duration": 362,
    "start_time": "2023-01-29T20:21:38.429Z"
   },
   {
    "duration": 73,
    "start_time": "2023-01-29T20:21:48.404Z"
   },
   {
    "duration": 366,
    "start_time": "2023-01-29T20:21:59.302Z"
   },
   {
    "duration": 335,
    "start_time": "2023-01-29T20:23:11.904Z"
   },
   {
    "duration": 355,
    "start_time": "2023-01-29T20:23:43.771Z"
   },
   {
    "duration": 368,
    "start_time": "2023-01-29T20:23:53.342Z"
   },
   {
    "duration": 279,
    "start_time": "2023-01-29T20:24:01.846Z"
   },
   {
    "duration": 3,
    "start_time": "2023-01-29T20:25:54.604Z"
   },
   {
    "duration": 93,
    "start_time": "2023-01-29T20:26:01.986Z"
   },
   {
    "duration": 71,
    "start_time": "2023-01-29T20:26:12.395Z"
   },
   {
    "duration": 20,
    "start_time": "2023-01-29T20:26:20.014Z"
   },
   {
    "duration": 10,
    "start_time": "2023-01-29T20:26:26.857Z"
   },
   {
    "duration": 72,
    "start_time": "2023-01-29T20:26:50.550Z"
   },
   {
    "duration": 12,
    "start_time": "2023-01-29T20:27:04.575Z"
   },
   {
    "duration": 35,
    "start_time": "2023-01-29T20:27:22.872Z"
   },
   {
    "duration": 10,
    "start_time": "2023-01-29T20:28:13.116Z"
   },
   {
    "duration": 954,
    "start_time": "2023-01-31T12:30:25.518Z"
   },
   {
    "duration": 1474,
    "start_time": "2023-01-31T12:30:26.474Z"
   },
   {
    "duration": 221,
    "start_time": "2023-01-31T12:30:27.950Z"
   },
   {
    "duration": 177,
    "start_time": "2023-01-31T12:30:28.173Z"
   },
   {
    "duration": 3612,
    "start_time": "2023-01-31T12:30:28.352Z"
   },
   {
    "duration": 9,
    "start_time": "2023-01-31T12:30:31.965Z"
   },
   {
    "duration": 72,
    "start_time": "2023-01-31T12:30:31.976Z"
   },
   {
    "duration": 523,
    "start_time": "2023-01-31T12:30:32.050Z"
   },
   {
    "duration": 74,
    "start_time": "2023-01-31T12:30:32.574Z"
   },
   {
    "duration": 431,
    "start_time": "2023-01-31T12:30:32.651Z"
   },
   {
    "duration": 18,
    "start_time": "2023-01-31T12:30:33.083Z"
   },
   {
    "duration": 67,
    "start_time": "2023-01-31T12:30:33.103Z"
   },
   {
    "duration": 394,
    "start_time": "2023-01-31T12:30:33.172Z"
   },
   {
    "duration": 4,
    "start_time": "2023-01-31T12:30:33.568Z"
   },
   {
    "duration": 84,
    "start_time": "2023-01-31T12:30:33.573Z"
   },
   {
    "duration": 93,
    "start_time": "2023-01-31T12:30:33.659Z"
   },
   {
    "duration": 7,
    "start_time": "2023-01-31T12:30:33.754Z"
   },
   {
    "duration": 106,
    "start_time": "2023-01-31T12:30:33.763Z"
   },
   {
    "duration": 7,
    "start_time": "2023-01-31T12:30:33.871Z"
   },
   {
    "duration": 171,
    "start_time": "2023-01-31T12:30:33.880Z"
   },
   {
    "duration": 13,
    "start_time": "2023-01-31T12:30:34.052Z"
   },
   {
    "duration": 418,
    "start_time": "2023-01-31T12:30:34.067Z"
   },
   {
    "duration": 386,
    "start_time": "2023-01-31T12:30:34.487Z"
   },
   {
    "duration": 7,
    "start_time": "2023-01-31T12:30:34.874Z"
   },
   {
    "duration": 224,
    "start_time": "2023-01-31T12:30:34.882Z"
   },
   {
    "duration": 46,
    "start_time": "2023-01-31T12:30:35.108Z"
   },
   {
    "duration": 11,
    "start_time": "2023-01-31T12:30:35.155Z"
   },
   {
    "duration": 29,
    "start_time": "2023-01-31T12:30:35.169Z"
   },
   {
    "duration": 34,
    "start_time": "2023-01-31T12:30:35.200Z"
   },
   {
    "duration": 14,
    "start_time": "2023-01-31T12:30:35.236Z"
   },
   {
    "duration": 29,
    "start_time": "2023-01-31T12:30:35.252Z"
   },
   {
    "duration": 18,
    "start_time": "2023-01-31T12:30:35.283Z"
   },
   {
    "duration": 41,
    "start_time": "2023-01-31T12:30:35.303Z"
   },
   {
    "duration": 22,
    "start_time": "2023-01-31T12:30:35.348Z"
   },
   {
    "duration": 41,
    "start_time": "2023-01-31T12:30:35.372Z"
   },
   {
    "duration": 46,
    "start_time": "2023-01-31T12:30:35.414Z"
   },
   {
    "duration": 187,
    "start_time": "2023-01-31T12:30:35.462Z"
   },
   {
    "duration": 212,
    "start_time": "2023-01-31T12:30:35.651Z"
   },
   {
    "duration": 8,
    "start_time": "2023-01-31T12:30:35.865Z"
   },
   {
    "duration": 604,
    "start_time": "2023-01-31T12:30:35.875Z"
   },
   {
    "duration": 590,
    "start_time": "2023-01-31T12:30:36.481Z"
   },
   {
    "duration": 276,
    "start_time": "2023-01-31T12:30:37.072Z"
   },
   {
    "duration": 138,
    "start_time": "2023-01-31T12:30:37.350Z"
   },
   {
    "duration": 67,
    "start_time": "2023-01-31T12:30:37.490Z"
   },
   {
    "duration": 537,
    "start_time": "2023-01-31T12:30:37.559Z"
   },
   {
    "duration": 580,
    "start_time": "2023-01-31T12:30:38.097Z"
   },
   {
    "duration": 76,
    "start_time": "2023-01-31T12:30:38.679Z"
   },
   {
    "duration": 16,
    "start_time": "2023-01-31T12:30:38.757Z"
   },
   {
    "duration": 706,
    "start_time": "2023-01-31T12:30:38.774Z"
   },
   {
    "duration": 3,
    "start_time": "2023-01-31T12:30:39.482Z"
   },
   {
    "duration": 115,
    "start_time": "2023-01-31T12:30:39.487Z"
   },
   {
    "duration": 4,
    "start_time": "2023-01-31T12:30:39.604Z"
   },
   {
    "duration": 4,
    "start_time": "2023-01-31T12:30:39.648Z"
   },
   {
    "duration": 1204,
    "start_time": "2023-01-31T12:30:39.654Z"
   },
   {
    "duration": 7,
    "start_time": "2023-01-31T12:30:40.860Z"
   },
   {
    "duration": 14,
    "start_time": "2023-01-31T12:30:40.868Z"
   },
   {
    "duration": 66,
    "start_time": "2023-01-31T12:30:40.883Z"
   },
   {
    "duration": 47,
    "start_time": "2023-01-31T12:30:40.951Z"
   },
   {
    "duration": 394,
    "start_time": "2023-01-31T12:30:41.000Z"
   },
   {
    "duration": 421,
    "start_time": "2023-01-31T12:30:41.447Z"
   },
   {
    "duration": 419,
    "start_time": "2023-01-31T12:30:41.870Z"
   },
   {
    "duration": 998,
    "start_time": "2023-01-31T12:30:42.291Z"
   },
   {
    "duration": 462,
    "start_time": "2023-01-31T12:30:43.291Z"
   },
   {
    "duration": 306,
    "start_time": "2023-01-31T12:30:43.755Z"
   },
   {
    "duration": 430,
    "start_time": "2023-01-31T12:30:44.063Z"
   },
   {
    "duration": 219,
    "start_time": "2023-01-31T12:30:44.548Z"
   },
   {
    "duration": 484,
    "start_time": "2023-01-31T12:30:44.768Z"
   },
   {
    "duration": 508,
    "start_time": "2023-01-31T12:30:45.254Z"
   },
   {
    "duration": 300,
    "start_time": "2023-01-31T12:30:45.764Z"
   },
   {
    "duration": 307,
    "start_time": "2023-01-31T12:30:46.065Z"
   },
   {
    "duration": 710,
    "start_time": "2023-01-31T12:30:46.374Z"
   },
   {
    "duration": 978,
    "start_time": "2023-01-31T12:30:47.086Z"
   },
   {
    "duration": 309,
    "start_time": "2023-01-31T12:30:48.066Z"
   },
   {
    "duration": 8,
    "start_time": "2023-01-31T12:30:48.377Z"
   },
   {
    "duration": 304,
    "start_time": "2023-01-31T12:30:48.448Z"
   },
   {
    "duration": 296,
    "start_time": "2023-01-31T12:30:48.754Z"
   },
   {
    "duration": 316,
    "start_time": "2023-01-31T12:30:49.052Z"
   },
   {
    "duration": 285,
    "start_time": "2023-01-31T12:30:49.370Z"
   },
   {
    "duration": 327,
    "start_time": "2023-01-31T12:30:49.656Z"
   },
   {
    "duration": 3,
    "start_time": "2023-01-31T12:30:49.985Z"
   },
   {
    "duration": 593,
    "start_time": "2023-01-31T12:30:49.990Z"
   },
   {
    "duration": 661,
    "start_time": "2023-01-31T12:30:50.589Z"
   },
   {
    "duration": 233,
    "start_time": "2023-01-31T12:30:51.252Z"
   },
   {
    "duration": 301,
    "start_time": "2023-01-31T12:30:51.486Z"
   },
   {
    "duration": 306,
    "start_time": "2023-01-31T12:30:51.788Z"
   },
   {
    "duration": 8,
    "start_time": "2023-01-31T12:30:52.149Z"
   },
   {
    "duration": 23,
    "start_time": "2023-01-31T12:30:52.158Z"
   },
   {
    "duration": 76,
    "start_time": "2023-01-31T12:30:52.183Z"
   },
   {
    "duration": 14,
    "start_time": "2023-01-31T12:30:52.260Z"
   },
   {
    "duration": 12,
    "start_time": "2023-01-31T12:30:52.276Z"
   },
   {
    "duration": 9,
    "start_time": "2023-01-31T12:30:52.347Z"
   },
   {
    "duration": 24,
    "start_time": "2023-01-31T12:30:52.358Z"
   },
   {
    "duration": 8581,
    "start_time": "2023-01-31T12:30:52.383Z"
   },
   {
    "duration": 814,
    "start_time": "2023-01-31T12:31:00.967Z"
   },
   {
    "duration": 1591,
    "start_time": "2023-01-31T12:31:01.783Z"
   },
   {
    "duration": 41,
    "start_time": "2023-01-31T12:47:52.448Z"
   },
   {
    "duration": 26,
    "start_time": "2023-01-31T12:48:01.250Z"
   },
   {
    "duration": 452,
    "start_time": "2023-01-31T12:49:51.028Z"
   },
   {
    "duration": 759,
    "start_time": "2023-01-31T12:49:51.482Z"
   },
   {
    "duration": 90,
    "start_time": "2023-01-31T12:49:52.243Z"
   },
   {
    "duration": 43,
    "start_time": "2023-01-31T12:49:52.336Z"
   },
   {
    "duration": 1788,
    "start_time": "2023-01-31T12:49:52.381Z"
   },
   {
    "duration": 10,
    "start_time": "2023-01-31T12:49:54.171Z"
   },
   {
    "duration": 9,
    "start_time": "2023-01-31T12:49:54.183Z"
   },
   {
    "duration": 306,
    "start_time": "2023-01-31T12:49:54.194Z"
   },
   {
    "duration": 26,
    "start_time": "2023-01-31T12:49:54.502Z"
   },
   {
    "duration": 26,
    "start_time": "2023-01-31T12:49:54.531Z"
   },
   {
    "duration": 12,
    "start_time": "2023-01-31T12:49:54.559Z"
   },
   {
    "duration": 14,
    "start_time": "2023-01-31T12:49:54.573Z"
   },
   {
    "duration": 196,
    "start_time": "2023-01-31T12:49:54.589Z"
   },
   {
    "duration": 4,
    "start_time": "2023-01-31T12:49:54.787Z"
   },
   {
    "duration": 19,
    "start_time": "2023-01-31T12:49:54.793Z"
   },
   {
    "duration": 51,
    "start_time": "2023-01-31T12:49:54.813Z"
   },
   {
    "duration": 7,
    "start_time": "2023-01-31T12:49:54.866Z"
   },
   {
    "duration": 31,
    "start_time": "2023-01-31T12:49:54.875Z"
   },
   {
    "duration": 7,
    "start_time": "2023-01-31T12:49:54.908Z"
   },
   {
    "duration": 37,
    "start_time": "2023-01-31T12:49:54.916Z"
   },
   {
    "duration": 16,
    "start_time": "2023-01-31T12:49:54.954Z"
   },
   {
    "duration": 253,
    "start_time": "2023-01-31T12:49:54.972Z"
   },
   {
    "duration": 249,
    "start_time": "2023-01-31T12:49:55.228Z"
   },
   {
    "duration": 9,
    "start_time": "2023-01-31T12:49:55.478Z"
   },
   {
    "duration": 8,
    "start_time": "2023-01-31T12:49:55.488Z"
   },
   {
    "duration": 12,
    "start_time": "2023-01-31T12:49:55.497Z"
   },
   {
    "duration": 8,
    "start_time": "2023-01-31T12:49:55.511Z"
   },
   {
    "duration": 6,
    "start_time": "2023-01-31T12:49:55.550Z"
   },
   {
    "duration": 19,
    "start_time": "2023-01-31T12:49:55.557Z"
   },
   {
    "duration": 7,
    "start_time": "2023-01-31T12:49:55.578Z"
   },
   {
    "duration": 16,
    "start_time": "2023-01-31T12:49:55.586Z"
   },
   {
    "duration": 9,
    "start_time": "2023-01-31T12:49:55.604Z"
   },
   {
    "duration": 18,
    "start_time": "2023-01-31T12:49:55.614Z"
   },
   {
    "duration": 24,
    "start_time": "2023-01-31T12:49:55.633Z"
   },
   {
    "duration": 20,
    "start_time": "2023-01-31T12:49:55.658Z"
   },
   {
    "duration": 21,
    "start_time": "2023-01-31T12:49:55.680Z"
   },
   {
    "duration": 73,
    "start_time": "2023-01-31T12:49:55.703Z"
   },
   {
    "duration": 228,
    "start_time": "2023-01-31T12:49:55.778Z"
   },
   {
    "duration": 7,
    "start_time": "2023-01-31T12:49:56.008Z"
   },
   {
    "duration": 273,
    "start_time": "2023-01-31T12:49:56.016Z"
   },
   {
    "duration": 277,
    "start_time": "2023-01-31T12:49:56.290Z"
   },
   {
    "duration": 208,
    "start_time": "2023-01-31T12:49:56.569Z"
   },
   {
    "duration": 134,
    "start_time": "2023-01-31T12:49:56.779Z"
   },
   {
    "duration": 14,
    "start_time": "2023-01-31T12:49:56.914Z"
   },
   {
    "duration": 283,
    "start_time": "2023-01-31T12:49:56.930Z"
   },
   {
    "duration": 291,
    "start_time": "2023-01-31T12:49:57.215Z"
   },
   {
    "duration": 22,
    "start_time": "2023-01-31T12:49:57.508Z"
   },
   {
    "duration": 26,
    "start_time": "2023-01-31T12:49:57.532Z"
   },
   {
    "duration": 341,
    "start_time": "2023-01-31T12:49:57.559Z"
   },
   {
    "duration": 4,
    "start_time": "2023-01-31T12:49:57.901Z"
   },
   {
    "duration": 13,
    "start_time": "2023-01-31T12:49:57.907Z"
   },
   {
    "duration": 7,
    "start_time": "2023-01-31T12:49:57.921Z"
   },
   {
    "duration": 20,
    "start_time": "2023-01-31T12:49:57.929Z"
   },
   {
    "duration": 566,
    "start_time": "2023-01-31T12:49:57.951Z"
   },
   {
    "duration": 8,
    "start_time": "2023-01-31T12:49:58.518Z"
   },
   {
    "duration": 8,
    "start_time": "2023-01-31T12:49:58.528Z"
   },
   {
    "duration": 15,
    "start_time": "2023-01-31T12:49:58.537Z"
   },
   {
    "duration": 23,
    "start_time": "2023-01-31T12:49:58.553Z"
   },
   {
    "duration": 231,
    "start_time": "2023-01-31T12:49:58.577Z"
   },
   {
    "duration": 242,
    "start_time": "2023-01-31T12:49:58.810Z"
   },
   {
    "duration": 223,
    "start_time": "2023-01-31T12:49:59.054Z"
   },
   {
    "duration": 472,
    "start_time": "2023-01-31T12:49:59.279Z"
   },
   {
    "duration": 225,
    "start_time": "2023-01-31T12:49:59.752Z"
   },
   {
    "duration": 124,
    "start_time": "2023-01-31T12:49:59.979Z"
   },
   {
    "duration": 361,
    "start_time": "2023-01-31T12:50:00.105Z"
   },
   {
    "duration": 217,
    "start_time": "2023-01-31T12:50:00.468Z"
   },
   {
    "duration": 494,
    "start_time": "2023-01-31T12:50:00.687Z"
   },
   {
    "duration": 599,
    "start_time": "2023-01-31T12:50:01.183Z"
   },
   {
    "duration": 218,
    "start_time": "2023-01-31T12:50:01.784Z"
   },
   {
    "duration": 157,
    "start_time": "2023-01-31T12:50:02.004Z"
   },
   {
    "duration": 358,
    "start_time": "2023-01-31T12:50:02.163Z"
   },
   {
    "duration": 539,
    "start_time": "2023-01-31T12:50:02.523Z"
   },
   {
    "duration": 168,
    "start_time": "2023-01-31T12:50:03.064Z"
   },
   {
    "duration": 15,
    "start_time": "2023-01-31T12:50:03.233Z"
   },
   {
    "duration": 165,
    "start_time": "2023-01-31T12:50:03.250Z"
   },
   {
    "duration": 148,
    "start_time": "2023-01-31T12:50:03.416Z"
   },
   {
    "duration": 157,
    "start_time": "2023-01-31T12:50:03.565Z"
   },
   {
    "duration": 150,
    "start_time": "2023-01-31T12:50:03.724Z"
   },
   {
    "duration": 193,
    "start_time": "2023-01-31T12:50:03.875Z"
   },
   {
    "duration": 4,
    "start_time": "2023-01-31T12:50:04.070Z"
   },
   {
    "duration": 308,
    "start_time": "2023-01-31T12:50:04.075Z"
   },
   {
    "duration": 326,
    "start_time": "2023-01-31T12:50:04.388Z"
   },
   {
    "duration": 134,
    "start_time": "2023-01-31T12:50:04.716Z"
   },
   {
    "duration": 157,
    "start_time": "2023-01-31T12:50:04.851Z"
   },
   {
    "duration": 163,
    "start_time": "2023-01-31T12:50:05.009Z"
   },
   {
    "duration": 7,
    "start_time": "2023-01-31T12:50:05.174Z"
   },
   {
    "duration": 20,
    "start_time": "2023-01-31T12:50:05.184Z"
   },
   {
    "duration": 50,
    "start_time": "2023-01-31T12:50:05.206Z"
   },
   {
    "duration": 23,
    "start_time": "2023-01-31T12:50:05.258Z"
   },
   {
    "duration": 20,
    "start_time": "2023-01-31T12:50:05.283Z"
   },
   {
    "duration": 46,
    "start_time": "2023-01-31T12:50:05.305Z"
   },
   {
    "duration": 12,
    "start_time": "2023-01-31T12:50:05.353Z"
   },
   {
    "duration": 6,
    "start_time": "2023-01-31T12:50:05.367Z"
   },
   {
    "duration": 4232,
    "start_time": "2023-01-31T12:50:05.376Z"
   },
   {
    "duration": 369,
    "start_time": "2023-01-31T12:50:09.609Z"
   },
   {
    "duration": 871,
    "start_time": "2023-01-31T12:50:09.979Z"
   },
   {
    "duration": 406,
    "start_time": "2023-01-31T12:51:54.258Z"
   },
   {
    "duration": 673,
    "start_time": "2023-01-31T12:51:54.665Z"
   },
   {
    "duration": 98,
    "start_time": "2023-01-31T12:51:55.340Z"
   },
   {
    "duration": 47,
    "start_time": "2023-01-31T12:51:55.441Z"
   },
   {
    "duration": 1771,
    "start_time": "2023-01-31T12:51:55.490Z"
   },
   {
    "duration": 9,
    "start_time": "2023-01-31T12:51:57.263Z"
   },
   {
    "duration": 4,
    "start_time": "2023-01-31T12:51:57.273Z"
   },
   {
    "duration": 301,
    "start_time": "2023-01-31T12:51:57.279Z"
   },
   {
    "duration": 26,
    "start_time": "2023-01-31T12:51:57.582Z"
   },
   {
    "duration": 11,
    "start_time": "2023-01-31T12:51:57.610Z"
   },
   {
    "duration": 55,
    "start_time": "2023-01-31T12:51:57.622Z"
   },
   {
    "duration": 12,
    "start_time": "2023-01-31T12:51:57.678Z"
   },
   {
    "duration": 170,
    "start_time": "2023-01-31T12:51:57.691Z"
   },
   {
    "duration": 4,
    "start_time": "2023-01-31T12:51:57.863Z"
   },
   {
    "duration": 16,
    "start_time": "2023-01-31T12:51:57.868Z"
   },
   {
    "duration": 40,
    "start_time": "2023-01-31T12:51:57.886Z"
   },
   {
    "duration": 26,
    "start_time": "2023-01-31T12:51:57.928Z"
   },
   {
    "duration": 33,
    "start_time": "2023-01-31T12:51:57.956Z"
   },
   {
    "duration": 6,
    "start_time": "2023-01-31T12:51:57.990Z"
   },
   {
    "duration": 20,
    "start_time": "2023-01-31T12:51:57.998Z"
   },
   {
    "duration": 32,
    "start_time": "2023-01-31T12:51:58.020Z"
   },
   {
    "duration": 237,
    "start_time": "2023-01-31T12:51:58.054Z"
   },
   {
    "duration": 178,
    "start_time": "2023-01-31T12:51:58.292Z"
   },
   {
    "duration": 7,
    "start_time": "2023-01-31T12:51:58.472Z"
   },
   {
    "duration": 12,
    "start_time": "2023-01-31T12:51:58.481Z"
   },
   {
    "duration": 33,
    "start_time": "2023-01-31T12:51:58.494Z"
   },
   {
    "duration": 13,
    "start_time": "2023-01-31T12:51:58.528Z"
   },
   {
    "duration": 20,
    "start_time": "2023-01-31T12:51:58.542Z"
   },
   {
    "duration": 34,
    "start_time": "2023-01-31T12:51:58.564Z"
   },
   {
    "duration": 13,
    "start_time": "2023-01-31T12:51:58.599Z"
   },
   {
    "duration": 26,
    "start_time": "2023-01-31T12:51:58.614Z"
   },
   {
    "duration": 17,
    "start_time": "2023-01-31T12:51:58.642Z"
   },
   {
    "duration": 31,
    "start_time": "2023-01-31T12:51:58.660Z"
   },
   {
    "duration": 36,
    "start_time": "2023-01-31T12:51:58.693Z"
   },
   {
    "duration": 21,
    "start_time": "2023-01-31T12:51:58.731Z"
   },
   {
    "duration": 18,
    "start_time": "2023-01-31T12:51:58.754Z"
   },
   {
    "duration": 62,
    "start_time": "2023-01-31T12:51:58.774Z"
   },
   {
    "duration": 141,
    "start_time": "2023-01-31T12:51:58.837Z"
   },
   {
    "duration": 9,
    "start_time": "2023-01-31T12:51:58.980Z"
   },
   {
    "duration": 312,
    "start_time": "2023-01-31T12:51:58.991Z"
   },
   {
    "duration": 293,
    "start_time": "2023-01-31T12:51:59.308Z"
   },
   {
    "duration": 202,
    "start_time": "2023-01-31T12:51:59.603Z"
   },
   {
    "duration": 152,
    "start_time": "2023-01-31T12:51:59.807Z"
   },
   {
    "duration": 21,
    "start_time": "2023-01-31T12:51:59.961Z"
   },
   {
    "duration": 315,
    "start_time": "2023-01-31T12:51:59.983Z"
   },
   {
    "duration": 300,
    "start_time": "2023-01-31T12:52:00.299Z"
   },
   {
    "duration": 21,
    "start_time": "2023-01-31T12:52:00.601Z"
   },
   {
    "duration": 26,
    "start_time": "2023-01-31T12:52:00.624Z"
   },
   {
    "duration": 374,
    "start_time": "2023-01-31T12:52:00.651Z"
   },
   {
    "duration": 4,
    "start_time": "2023-01-31T12:52:01.026Z"
   },
   {
    "duration": 93,
    "start_time": "2023-01-31T12:52:01.032Z"
   },
   {
    "duration": 41,
    "start_time": "2023-01-31T12:52:01.126Z"
   },
   {
    "duration": 49,
    "start_time": "2023-01-31T12:52:01.169Z"
   },
   {
    "duration": 619,
    "start_time": "2023-01-31T12:52:01.219Z"
   },
   {
    "duration": 10,
    "start_time": "2023-01-31T12:52:01.840Z"
   },
   {
    "duration": 25,
    "start_time": "2023-01-31T12:52:01.852Z"
   },
   {
    "duration": 51,
    "start_time": "2023-01-31T12:52:01.878Z"
   },
   {
    "duration": 51,
    "start_time": "2023-01-31T12:52:01.931Z"
   },
   {
    "duration": 240,
    "start_time": "2023-01-31T12:52:01.984Z"
   },
   {
    "duration": 212,
    "start_time": "2023-01-31T12:52:02.225Z"
   },
   {
    "duration": 233,
    "start_time": "2023-01-31T12:52:02.438Z"
   },
   {
    "duration": 481,
    "start_time": "2023-01-31T12:52:02.673Z"
   },
   {
    "duration": 217,
    "start_time": "2023-01-31T12:52:03.156Z"
   },
   {
    "duration": 127,
    "start_time": "2023-01-31T12:52:03.375Z"
   },
   {
    "duration": 218,
    "start_time": "2023-01-31T12:52:03.504Z"
   },
   {
    "duration": 115,
    "start_time": "2023-01-31T12:52:03.723Z"
   },
   {
    "duration": 242,
    "start_time": "2023-01-31T12:52:03.840Z"
   },
   {
    "duration": 244,
    "start_time": "2023-01-31T12:52:04.084Z"
   },
   {
    "duration": 153,
    "start_time": "2023-01-31T12:52:04.329Z"
   },
   {
    "duration": 153,
    "start_time": "2023-01-31T12:52:04.484Z"
   },
   {
    "duration": 350,
    "start_time": "2023-01-31T12:52:04.639Z"
   },
   {
    "duration": 459,
    "start_time": "2023-01-31T12:52:04.990Z"
   },
   {
    "duration": 163,
    "start_time": "2023-01-31T12:52:05.451Z"
   },
   {
    "duration": 11,
    "start_time": "2023-01-31T12:52:05.616Z"
   },
   {
    "duration": 219,
    "start_time": "2023-01-31T12:52:05.629Z"
   },
   {
    "duration": 243,
    "start_time": "2023-01-31T12:52:05.850Z"
   },
   {
    "duration": 183,
    "start_time": "2023-01-31T12:52:06.094Z"
   },
   {
    "duration": 188,
    "start_time": "2023-01-31T12:52:06.279Z"
   },
   {
    "duration": 326,
    "start_time": "2023-01-31T12:52:06.468Z"
   },
   {
    "duration": 4,
    "start_time": "2023-01-31T12:52:06.848Z"
   },
   {
    "duration": 533,
    "start_time": "2023-01-31T12:52:06.853Z"
   },
   {
    "duration": 610,
    "start_time": "2023-01-31T12:52:07.388Z"
   },
   {
    "duration": 151,
    "start_time": "2023-01-31T12:52:07.999Z"
   },
   {
    "duration": 151,
    "start_time": "2023-01-31T12:52:08.151Z"
   },
   {
    "duration": 158,
    "start_time": "2023-01-31T12:52:08.304Z"
   },
   {
    "duration": 7,
    "start_time": "2023-01-31T12:52:08.464Z"
   },
   {
    "duration": 19,
    "start_time": "2023-01-31T12:52:08.473Z"
   },
   {
    "duration": 22,
    "start_time": "2023-01-31T12:52:08.494Z"
   },
   {
    "duration": 38,
    "start_time": "2023-01-31T12:52:08.517Z"
   },
   {
    "duration": 12,
    "start_time": "2023-01-31T12:52:08.557Z"
   },
   {
    "duration": 12,
    "start_time": "2023-01-31T12:52:08.571Z"
   },
   {
    "duration": 8,
    "start_time": "2023-01-31T12:52:08.585Z"
   },
   {
    "duration": 3,
    "start_time": "2023-01-31T12:52:08.594Z"
   },
   {
    "duration": 4668,
    "start_time": "2023-01-31T12:52:08.598Z"
   },
   {
    "duration": 393,
    "start_time": "2023-01-31T12:52:13.268Z"
   },
   {
    "duration": 899,
    "start_time": "2023-01-31T12:52:13.663Z"
   }
  ],
  "kernelspec": {
   "display_name": "Python 3 (ipykernel)",
   "language": "python",
   "name": "python3"
  },
  "language_info": {
   "codemirror_mode": {
    "name": "ipython",
    "version": 3
   },
   "file_extension": ".py",
   "mimetype": "text/x-python",
   "name": "python",
   "nbconvert_exporter": "python",
   "pygments_lexer": "ipython3",
   "version": "3.10.9"
  },
  "toc": {
   "base_numbering": 1,
   "nav_menu": {},
   "number_sections": true,
   "sideBar": true,
   "skip_h1_title": true,
   "title_cell": "Table of Contents",
   "title_sidebar": "Contents",
   "toc_cell": false,
   "toc_position": {
    "height": "calc(100% - 180px)",
    "left": "10px",
    "top": "150px",
    "width": "209.727px"
   },
   "toc_section_display": true,
   "toc_window_display": true
  }
 },
 "nbformat": 4,
 "nbformat_minor": 2
}
