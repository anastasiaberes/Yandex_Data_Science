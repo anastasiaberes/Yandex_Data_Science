{
 "cells": [
  {
   "cell_type": "markdown",
   "metadata": {},
   "source": [
    "# Выбор локации для скважины"
   ]
  },
  {
   "cell_type": "markdown",
   "metadata": {},
   "source": [
    "Допустим, вы работаете в добывающей компании «ГлавРосГосНефть». Нужно решить, где бурить новую скважину.\n",
    "\n",
    "Вам предоставлены пробы нефти в трёх регионах: в каждом 10 000 месторождений, где измерили качество нефти и объём её запасов. Постройте модель машинного обучения, которая поможет определить регион, где добыча принесёт наибольшую прибыль. Проанализируйте возможную прибыль и риски техникой *Bootstrap.*\n",
    "\n",
    "Шаги для выбора локации:\n",
    "\n",
    "- В избранном регионе ищут месторождения, для каждого определяют значения признаков;\n",
    "- Строят модель и оценивают объём запасов;\n",
    "- Выбирают месторождения с самым высокими оценками значений. Количество месторождений зависит от бюджета компании и стоимости разработки одной скважины;\n",
    "- Прибыль равна суммарной прибыли отобранных месторождений."
   ]
  },
  {
   "cell_type": "markdown",
   "metadata": {},
   "source": [
    "## Загрузка и подготовка данных"
   ]
  },
  {
   "cell_type": "code",
   "execution_count": 1,
   "metadata": {},
   "outputs": [
    {
     "data": {
      "text/html": [
       "<style>.container { width:90% !important; }</style>"
      ],
      "text/plain": [
       "<IPython.core.display.HTML object>"
      ]
     },
     "metadata": {},
     "output_type": "display_data"
    }
   ],
   "source": [
    "import pandas as pd\n",
    "from sklearn.model_selection import train_test_split\n",
    "from sklearn.linear_model import LinearRegression\n",
    "from sklearn.preprocessing import StandardScaler\n",
    "from sklearn.metrics import accuracy_score\n",
    "from scipy import stats as st\n",
    "import numpy as np\n",
    "from sklearn.metrics import mean_squared_error, r2_score\n",
    "from tqdm.notebook import tqdm\n",
    "import matplotlib.pyplot as plt\n",
    "import seaborn as sns\n",
    "from sklearn.utils import shuffle\n",
    "from sklearn.preprocessing import OrdinalEncoder \n",
    "from IPython.core.display import display, HTML\n",
    "display(HTML(\"<style>.container { width:90% !important; }</style>\"))\n",
    "\n",
    "data_0 = pd.read_csv('/datasets/geo_data_0.csv')\n",
    "data_1 = pd.read_csv('/datasets/geo_data_1.csv')\n",
    "data_2 = pd.read_csv('/datasets/geo_data_2.csv')"
   ]
  },
  {
   "cell_type": "markdown",
   "metadata": {},
   "source": [
    "# Данные геологоразведки первый регион"
   ]
  },
  {
   "cell_type": "code",
   "execution_count": 2,
   "metadata": {},
   "outputs": [
    {
     "data": {
      "text/plain": [
       "(100000, 5)"
      ]
     },
     "execution_count": 2,
     "metadata": {},
     "output_type": "execute_result"
    }
   ],
   "source": [
    "data_0.shape"
   ]
  },
  {
   "cell_type": "code",
   "execution_count": 3,
   "metadata": {},
   "outputs": [
    {
     "data": {
      "text/html": [
       "<div>\n",
       "<style scoped>\n",
       "    .dataframe tbody tr th:only-of-type {\n",
       "        vertical-align: middle;\n",
       "    }\n",
       "\n",
       "    .dataframe tbody tr th {\n",
       "        vertical-align: top;\n",
       "    }\n",
       "\n",
       "    .dataframe thead th {\n",
       "        text-align: right;\n",
       "    }\n",
       "</style>\n",
       "<table border=\"1\" class=\"dataframe\">\n",
       "  <thead>\n",
       "    <tr style=\"text-align: right;\">\n",
       "      <th></th>\n",
       "      <th>id</th>\n",
       "      <th>f0</th>\n",
       "      <th>f1</th>\n",
       "      <th>f2</th>\n",
       "      <th>product</th>\n",
       "    </tr>\n",
       "  </thead>\n",
       "  <tbody>\n",
       "    <tr>\n",
       "      <th>0</th>\n",
       "      <td>txEyH</td>\n",
       "      <td>0.705745</td>\n",
       "      <td>-0.497823</td>\n",
       "      <td>1.221170</td>\n",
       "      <td>105.280062</td>\n",
       "    </tr>\n",
       "    <tr>\n",
       "      <th>1</th>\n",
       "      <td>2acmU</td>\n",
       "      <td>1.334711</td>\n",
       "      <td>-0.340164</td>\n",
       "      <td>4.365080</td>\n",
       "      <td>73.037750</td>\n",
       "    </tr>\n",
       "    <tr>\n",
       "      <th>2</th>\n",
       "      <td>409Wp</td>\n",
       "      <td>1.022732</td>\n",
       "      <td>0.151990</td>\n",
       "      <td>1.419926</td>\n",
       "      <td>85.265647</td>\n",
       "    </tr>\n",
       "    <tr>\n",
       "      <th>3</th>\n",
       "      <td>iJLyR</td>\n",
       "      <td>-0.032172</td>\n",
       "      <td>0.139033</td>\n",
       "      <td>2.978566</td>\n",
       "      <td>168.620776</td>\n",
       "    </tr>\n",
       "    <tr>\n",
       "      <th>4</th>\n",
       "      <td>Xdl7t</td>\n",
       "      <td>1.988431</td>\n",
       "      <td>0.155413</td>\n",
       "      <td>4.751769</td>\n",
       "      <td>154.036647</td>\n",
       "    </tr>\n",
       "  </tbody>\n",
       "</table>\n",
       "</div>"
      ],
      "text/plain": [
       "      id        f0        f1        f2     product\n",
       "0  txEyH  0.705745 -0.497823  1.221170  105.280062\n",
       "1  2acmU  1.334711 -0.340164  4.365080   73.037750\n",
       "2  409Wp  1.022732  0.151990  1.419926   85.265647\n",
       "3  iJLyR -0.032172  0.139033  2.978566  168.620776\n",
       "4  Xdl7t  1.988431  0.155413  4.751769  154.036647"
      ]
     },
     "execution_count": 3,
     "metadata": {},
     "output_type": "execute_result"
    }
   ],
   "source": [
    "data_0.head()"
   ]
  },
  {
   "cell_type": "code",
   "execution_count": 4,
   "metadata": {},
   "outputs": [
    {
     "name": "stdout",
     "output_type": "stream",
     "text": [
      "<class 'pandas.core.frame.DataFrame'>\n",
      "RangeIndex: 100000 entries, 0 to 99999\n",
      "Data columns (total 5 columns):\n",
      " #   Column   Non-Null Count   Dtype  \n",
      "---  ------   --------------   -----  \n",
      " 0   id       100000 non-null  object \n",
      " 1   f0       100000 non-null  float64\n",
      " 2   f1       100000 non-null  float64\n",
      " 3   f2       100000 non-null  float64\n",
      " 4   product  100000 non-null  float64\n",
      "dtypes: float64(4), object(1)\n",
      "memory usage: 3.8+ MB\n"
     ]
    }
   ],
   "source": [
    "data_0.info()"
   ]
  },
  {
   "cell_type": "markdown",
   "metadata": {},
   "source": [
    "Пропуски в данных отсутсвуют"
   ]
  },
  {
   "cell_type": "markdown",
   "metadata": {},
   "source": [
    "# Данные геологоразведки второй регион"
   ]
  },
  {
   "cell_type": "code",
   "execution_count": 5,
   "metadata": {},
   "outputs": [
    {
     "data": {
      "text/plain": [
       "(100000, 5)"
      ]
     },
     "execution_count": 5,
     "metadata": {},
     "output_type": "execute_result"
    }
   ],
   "source": [
    "data_1.shape"
   ]
  },
  {
   "cell_type": "code",
   "execution_count": 6,
   "metadata": {},
   "outputs": [
    {
     "data": {
      "text/html": [
       "<div>\n",
       "<style scoped>\n",
       "    .dataframe tbody tr th:only-of-type {\n",
       "        vertical-align: middle;\n",
       "    }\n",
       "\n",
       "    .dataframe tbody tr th {\n",
       "        vertical-align: top;\n",
       "    }\n",
       "\n",
       "    .dataframe thead th {\n",
       "        text-align: right;\n",
       "    }\n",
       "</style>\n",
       "<table border=\"1\" class=\"dataframe\">\n",
       "  <thead>\n",
       "    <tr style=\"text-align: right;\">\n",
       "      <th></th>\n",
       "      <th>id</th>\n",
       "      <th>f0</th>\n",
       "      <th>f1</th>\n",
       "      <th>f2</th>\n",
       "      <th>product</th>\n",
       "    </tr>\n",
       "  </thead>\n",
       "  <tbody>\n",
       "    <tr>\n",
       "      <th>0</th>\n",
       "      <td>kBEdx</td>\n",
       "      <td>-15.001348</td>\n",
       "      <td>-8.276000</td>\n",
       "      <td>-0.005876</td>\n",
       "      <td>3.179103</td>\n",
       "    </tr>\n",
       "    <tr>\n",
       "      <th>1</th>\n",
       "      <td>62mP7</td>\n",
       "      <td>14.272088</td>\n",
       "      <td>-3.475083</td>\n",
       "      <td>0.999183</td>\n",
       "      <td>26.953261</td>\n",
       "    </tr>\n",
       "    <tr>\n",
       "      <th>2</th>\n",
       "      <td>vyE1P</td>\n",
       "      <td>6.263187</td>\n",
       "      <td>-5.948386</td>\n",
       "      <td>5.001160</td>\n",
       "      <td>134.766305</td>\n",
       "    </tr>\n",
       "    <tr>\n",
       "      <th>3</th>\n",
       "      <td>KcrkZ</td>\n",
       "      <td>-13.081196</td>\n",
       "      <td>-11.506057</td>\n",
       "      <td>4.999415</td>\n",
       "      <td>137.945408</td>\n",
       "    </tr>\n",
       "    <tr>\n",
       "      <th>4</th>\n",
       "      <td>AHL4O</td>\n",
       "      <td>12.702195</td>\n",
       "      <td>-8.147433</td>\n",
       "      <td>5.004363</td>\n",
       "      <td>134.766305</td>\n",
       "    </tr>\n",
       "  </tbody>\n",
       "</table>\n",
       "</div>"
      ],
      "text/plain": [
       "      id         f0         f1        f2     product\n",
       "0  kBEdx -15.001348  -8.276000 -0.005876    3.179103\n",
       "1  62mP7  14.272088  -3.475083  0.999183   26.953261\n",
       "2  vyE1P   6.263187  -5.948386  5.001160  134.766305\n",
       "3  KcrkZ -13.081196 -11.506057  4.999415  137.945408\n",
       "4  AHL4O  12.702195  -8.147433  5.004363  134.766305"
      ]
     },
     "execution_count": 6,
     "metadata": {},
     "output_type": "execute_result"
    }
   ],
   "source": [
    "data_1.head()"
   ]
  },
  {
   "cell_type": "code",
   "execution_count": 7,
   "metadata": {},
   "outputs": [
    {
     "name": "stdout",
     "output_type": "stream",
     "text": [
      "<class 'pandas.core.frame.DataFrame'>\n",
      "RangeIndex: 100000 entries, 0 to 99999\n",
      "Data columns (total 5 columns):\n",
      " #   Column   Non-Null Count   Dtype  \n",
      "---  ------   --------------   -----  \n",
      " 0   id       100000 non-null  object \n",
      " 1   f0       100000 non-null  float64\n",
      " 2   f1       100000 non-null  float64\n",
      " 3   f2       100000 non-null  float64\n",
      " 4   product  100000 non-null  float64\n",
      "dtypes: float64(4), object(1)\n",
      "memory usage: 3.8+ MB\n"
     ]
    }
   ],
   "source": [
    "data_1.info()"
   ]
  },
  {
   "cell_type": "markdown",
   "metadata": {},
   "source": [
    "Пропуски в данных отсутсвуют"
   ]
  },
  {
   "cell_type": "markdown",
   "metadata": {},
   "source": [
    "# Данные геологоразведки третий регион"
   ]
  },
  {
   "cell_type": "code",
   "execution_count": 8,
   "metadata": {},
   "outputs": [
    {
     "data": {
      "text/plain": [
       "(100000, 5)"
      ]
     },
     "execution_count": 8,
     "metadata": {},
     "output_type": "execute_result"
    }
   ],
   "source": [
    "data_2.shape"
   ]
  },
  {
   "cell_type": "code",
   "execution_count": 9,
   "metadata": {},
   "outputs": [
    {
     "data": {
      "text/html": [
       "<div>\n",
       "<style scoped>\n",
       "    .dataframe tbody tr th:only-of-type {\n",
       "        vertical-align: middle;\n",
       "    }\n",
       "\n",
       "    .dataframe tbody tr th {\n",
       "        vertical-align: top;\n",
       "    }\n",
       "\n",
       "    .dataframe thead th {\n",
       "        text-align: right;\n",
       "    }\n",
       "</style>\n",
       "<table border=\"1\" class=\"dataframe\">\n",
       "  <thead>\n",
       "    <tr style=\"text-align: right;\">\n",
       "      <th></th>\n",
       "      <th>id</th>\n",
       "      <th>f0</th>\n",
       "      <th>f1</th>\n",
       "      <th>f2</th>\n",
       "      <th>product</th>\n",
       "    </tr>\n",
       "  </thead>\n",
       "  <tbody>\n",
       "    <tr>\n",
       "      <th>0</th>\n",
       "      <td>fwXo0</td>\n",
       "      <td>-1.146987</td>\n",
       "      <td>0.963328</td>\n",
       "      <td>-0.828965</td>\n",
       "      <td>27.758673</td>\n",
       "    </tr>\n",
       "    <tr>\n",
       "      <th>1</th>\n",
       "      <td>WJtFt</td>\n",
       "      <td>0.262778</td>\n",
       "      <td>0.269839</td>\n",
       "      <td>-2.530187</td>\n",
       "      <td>56.069697</td>\n",
       "    </tr>\n",
       "    <tr>\n",
       "      <th>2</th>\n",
       "      <td>ovLUW</td>\n",
       "      <td>0.194587</td>\n",
       "      <td>0.289035</td>\n",
       "      <td>-5.586433</td>\n",
       "      <td>62.871910</td>\n",
       "    </tr>\n",
       "    <tr>\n",
       "      <th>3</th>\n",
       "      <td>q6cA6</td>\n",
       "      <td>2.236060</td>\n",
       "      <td>-0.553760</td>\n",
       "      <td>0.930038</td>\n",
       "      <td>114.572842</td>\n",
       "    </tr>\n",
       "    <tr>\n",
       "      <th>4</th>\n",
       "      <td>WPMUX</td>\n",
       "      <td>-0.515993</td>\n",
       "      <td>1.716266</td>\n",
       "      <td>5.899011</td>\n",
       "      <td>149.600746</td>\n",
       "    </tr>\n",
       "  </tbody>\n",
       "</table>\n",
       "</div>"
      ],
      "text/plain": [
       "      id        f0        f1        f2     product\n",
       "0  fwXo0 -1.146987  0.963328 -0.828965   27.758673\n",
       "1  WJtFt  0.262778  0.269839 -2.530187   56.069697\n",
       "2  ovLUW  0.194587  0.289035 -5.586433   62.871910\n",
       "3  q6cA6  2.236060 -0.553760  0.930038  114.572842\n",
       "4  WPMUX -0.515993  1.716266  5.899011  149.600746"
      ]
     },
     "execution_count": 9,
     "metadata": {},
     "output_type": "execute_result"
    }
   ],
   "source": [
    "data_2.head()"
   ]
  },
  {
   "cell_type": "code",
   "execution_count": 10,
   "metadata": {},
   "outputs": [
    {
     "name": "stdout",
     "output_type": "stream",
     "text": [
      "<class 'pandas.core.frame.DataFrame'>\n",
      "RangeIndex: 100000 entries, 0 to 99999\n",
      "Data columns (total 5 columns):\n",
      " #   Column   Non-Null Count   Dtype  \n",
      "---  ------   --------------   -----  \n",
      " 0   id       100000 non-null  object \n",
      " 1   f0       100000 non-null  float64\n",
      " 2   f1       100000 non-null  float64\n",
      " 3   f2       100000 non-null  float64\n",
      " 4   product  100000 non-null  float64\n",
      "dtypes: float64(4), object(1)\n",
      "memory usage: 3.8+ MB\n"
     ]
    }
   ],
   "source": [
    "data_2.info()"
   ]
  },
  {
   "cell_type": "markdown",
   "metadata": {},
   "source": [
    "Пропуски в данных отсутсвуют"
   ]
  },
  {
   "cell_type": "markdown",
   "metadata": {},
   "source": [
    "Для наглядности построим график распределения сырья в регионах"
   ]
  },
  {
   "cell_type": "code",
   "execution_count": 11,
   "metadata": {},
   "outputs": [
    {
     "data": {
      "image/png": "[encoded data removed]",
      "text/plain": [
       "<Figure size 864x504 with 1 Axes>"
      ]
     },
     "metadata": {
      "needs_background": "light"
     },
     "output_type": "display_data"
    }
   ],
   "source": [
    "plt.title('Графики распределения запасов сырья в регионах')\n",
    "ax=data_0['product'].plot(kind='hist',figsize=(12,7),grid=True, legend=True, alpha=0.7, histtype='step', linewidth=5, label='1 регион')\n",
    "ax1=data_1['product'].plot(kind='hist',figsize=(12,7),grid=True, legend=True, alpha=0.7,histtype='step', linewidth=5, label='2 регион', ax=ax)\n",
    "data_2['product'].plot(kind='hist',figsize=(12,7),grid=True, legend=True, alpha=0.7,histtype='step', linewidth=5, label='3 регион', ax=ax1)\n",
    "plt.xlabel('Распределение данных по запасам сырья в регионах')\n",
    "plt.ylabel('Запасы сырья, тыс.баррелей')\n",
    "plt.show()"
   ]
  },
  {
   "cell_type": "markdown",
   "metadata": {},
   "source": [
    "# Выводы"
   ]
  },
  {
   "cell_type": "markdown",
   "metadata": {},
   "source": [
    "В данных отсутсвуют пропуски, дополнительных обработок не требуется. График нам показал, что 2 региона (1й и 3й) показывают одинаковую динамику. Во втором регионе наблюдаются скачки"
   ]
  },
  {
   "cell_type": "markdown",
   "metadata": {},
   "source": [
    "## Обучение и проверка модели"
   ]
  },
  {
   "cell_type": "code",
   "execution_count": 12,
   "metadata": {},
   "outputs": [],
   "source": [
    "target_0=data_0['product']\n",
    "features_0=data_0.drop(['product', 'id'], axis=1)\n",
    "\n",
    "target_1=data_1['product']\n",
    "features_1=data_1.drop(['product','id'], axis=1)\n",
    "\n",
    "target_2=data_2['product']\n",
    "features_2=data_2.drop(['product','id'], axis=1)"
   ]
  },
  {
   "cell_type": "markdown",
   "metadata": {},
   "source": [
    "# 1 регион "
   ]
  },
  {
   "cell_type": "code",
   "execution_count": 13,
   "metadata": {},
   "outputs": [
    {
     "name": "stdout",
     "output_type": "stream",
     "text": [
      "Размер тренировочной выборки- 75%\n",
      "Размер валидационной выборки - 25%\n"
     ]
    }
   ],
   "source": [
    "features_train_0, features_valid_0, target_train_0, target_valid_0 = train_test_split(features_0, target_0, test_size=0.25, random_state=42)\n",
    "tv=target_valid_0.shape[0]/target_0.shape[0]\n",
    "tt=target_train_0.shape[0]/target_0.shape[0]\n",
    "print('Размер тренировочной выборки- {:.0%}'.format(tt))\n",
    "print('Размер валидационной выборки - {:.0%}'.format(tv))"
   ]
  },
  {
   "cell_type": "markdown",
   "metadata": {},
   "source": [
    "# 2 регион"
   ]
  },
  {
   "cell_type": "code",
   "execution_count": 14,
   "metadata": {},
   "outputs": [
    {
     "name": "stdout",
     "output_type": "stream",
     "text": [
      "Размер тренировочной выборки- 75%\n",
      "Размер валидационной выборки - 25%\n"
     ]
    }
   ],
   "source": [
    "features_train_1, features_valid_1, target_train_1, target_valid_1 = train_test_split(features_1, target_1, test_size=0.25, random_state=42)\n",
    "tv=target_valid_1.shape[0]/target_1.shape[0]\n",
    "tt=target_train_1.shape[0]/target_1.shape[0]\n",
    "print('Размер тренировочной выборки- {:.0%}'.format(tt))\n",
    "print('Размер валидационной выборки - {:.0%}'.format(tv))"
   ]
  },
  {
   "cell_type": "markdown",
   "metadata": {},
   "source": [
    "# 3 регион"
   ]
  },
  {
   "cell_type": "code",
   "execution_count": 15,
   "metadata": {},
   "outputs": [
    {
     "name": "stdout",
     "output_type": "stream",
     "text": [
      "Размер тренировочной выборки- 75%\n",
      "Размер валидационной выборки - 25%\n"
     ]
    }
   ],
   "source": [
    "features_train_2, features_valid_2, target_train_2, target_valid_2 = train_test_split(features_2, target_2, test_size=0.25, random_state=42)\n",
    "tv=target_valid_0.shape[0]/target_0.shape[0]\n",
    "tt=target_train_0.shape[0]/target_0.shape[0]\n",
    "print('Размер тренировочной выборки- {:.0%}'.format(tt))\n",
    "print('Размер валидационной выборки - {:.0%}'.format(tv))"
   ]
  },
  {
   "cell_type": "markdown",
   "metadata": {},
   "source": [
    "Обучим модель и сделаем предсказания на валидационной выборке, а так же оценим качество модели техникой RMSEи коэффициентом детерминации R2"
   ]
  },
  {
   "cell_type": "code",
   "execution_count": 16,
   "metadata": {},
   "outputs": [
    {
     "name": "stdout",
     "output_type": "stream",
     "text": [
      "Среднеквадратичная ошибка RMSE: 37.76\n",
      "Коэффициент детерминации: 0.27\n"
     ]
    }
   ],
   "source": [
    "model_0=LinearRegression()\n",
    "model_0.fit(features_train_0,target_train_0)\n",
    "predict_0=model_0.predict(features_valid_0)\n",
    "rmse_0 = mean_squared_error(target_valid_0, predict_0)**0.5\n",
    "print('Среднеквадратичная ошибка RMSE: %.2f'% rmse_0)\n",
    "print('Коэффициент детерминации: %.2f' % r2_score(target_valid_0, predict_0))"
   ]
  },
  {
   "cell_type": "code",
   "execution_count": 17,
   "metadata": {},
   "outputs": [
    {
     "name": "stdout",
     "output_type": "stream",
     "text": [
      "Среднеквадратичная ошибка RMSE: 0.89\n",
      "Коэффициент детерминации: 1.00\n"
     ]
    }
   ],
   "source": [
    "model_1=LinearRegression()\n",
    "model_1.fit(features_train_1,target_train_1)\n",
    "predict_1=model_1.predict(features_valid_1)\n",
    "rmse_1 = mean_squared_error(target_valid_1, predict_1)**0.5\n",
    "print('Среднеквадратичная ошибка RMSE: %.2f'% rmse_1)\n",
    "print('Коэффициент детерминации: %.2f' % r2_score(target_valid_1, predict_1))"
   ]
  },
  {
   "cell_type": "code",
   "execution_count": 18,
   "metadata": {},
   "outputs": [
    {
     "name": "stdout",
     "output_type": "stream",
     "text": [
      "Среднеквадратичная ошибка RMSE: 40.15\n",
      "Коэффициент детерминации: 0.20\n"
     ]
    }
   ],
   "source": [
    "model_2=LinearRegression()\n",
    "model_2.fit(features_train_2,target_train_2)\n",
    "predict_2=model_2.predict(features_valid_2)\n",
    "rmse_2 = mean_squared_error(target_valid_2, predict_2)**0.5\n",
    "print('Среднеквадратичная ошибка RMSE: %.2f'% rmse_2)\n",
    "print('Коэффициент детерминации: %.2f' % r2_score(target_valid_2, predict_2))"
   ]
  },
  {
   "cell_type": "code",
   "execution_count": 19,
   "metadata": {},
   "outputs": [
    {
     "name": "stdout",
     "output_type": "stream",
     "text": [
      "1 регион:\n",
      "- предсказания модели0.27 \n",
      "- правильные ответы:37.76\n",
      "2 регион:\n",
      "- предсказания модели1.00 \n",
      "- правильные ответы:0.89\n",
      "3 регион:\n",
      "- предсказания модели0.20 \n",
      "- правильные ответы:40.15\n"
     ]
    }
   ],
   "source": [
    "print('1 регион:\\n- предсказания модели%.2f'%r2_score(target_valid_0, predict_0),'\\n- правильные ответы:%.2f'%rmse_0 )\n",
    "\n",
    "print('2 регион:\\n- предсказания модели%.2f'%r2_score(target_valid_1, predict_1),'\\n- правильные ответы:%.2f'%rmse_1 )\n",
    "print('3 регион:\\n- предсказания модели%.2f'%r2_score(target_valid_2, predict_2),'\\n- правильные ответы:%.2f'%rmse_2 )\n"
   ]
  },
  {
   "cell_type": "markdown",
   "metadata": {},
   "source": [
    "# Напечатаем на экране средний запас предсказанного сырья и RMSE модели"
   ]
  },
  {
   "cell_type": "code",
   "execution_count": 20,
   "metadata": {},
   "outputs": [
    {
     "data": {
      "text/html": [
       "<div>\n",
       "<style scoped>\n",
       "    .dataframe tbody tr th:only-of-type {\n",
       "        vertical-align: middle;\n",
       "    }\n",
       "\n",
       "    .dataframe tbody tr th {\n",
       "        vertical-align: top;\n",
       "    }\n",
       "\n",
       "    .dataframe thead th {\n",
       "        text-align: right;\n",
       "    }\n",
       "</style>\n",
       "<table border=\"1\" class=\"dataframe\">\n",
       "  <thead>\n",
       "    <tr style=\"text-align: right;\">\n",
       "      <th></th>\n",
       "      <th>1 регион</th>\n",
       "      <th>2 регион</th>\n",
       "      <th>3 регион</th>\n",
       "    </tr>\n",
       "  </thead>\n",
       "  <tbody>\n",
       "    <tr>\n",
       "      <th>средний запас предсказанного сырья</th>\n",
       "      <td>92.3988</td>\n",
       "      <td>68.712878</td>\n",
       "      <td>94.771024</td>\n",
       "    </tr>\n",
       "    <tr>\n",
       "      <th>RMSE модели</th>\n",
       "      <td>37.7566</td>\n",
       "      <td>0.890280</td>\n",
       "      <td>40.145872</td>\n",
       "    </tr>\n",
       "  </tbody>\n",
       "</table>\n",
       "</div>"
      ],
      "text/plain": [
       "                                    1 регион   2 регион   3 регион\n",
       "средний запас предсказанного сырья   92.3988  68.712878  94.771024\n",
       "RMSE модели                          37.7566   0.890280  40.145872"
      ]
     },
     "execution_count": 20,
     "metadata": {},
     "output_type": "execute_result"
    }
   ],
   "source": [
    "comparison_tabl = pd.DataFrame(index=['средний запас предсказанного сырья','RMSE модели'], columns=['1 регион','2 регион','3 регион'])\n",
    "comparison_tabl['1 регион'] = predict_0.mean(), rmse_0\n",
    "comparison_tabl['2 регион'] = predict_1.mean(), rmse_1\n",
    "comparison_tabl['3 регион'] = predict_2.mean(), rmse_2\n",
    "comparison_tabl"
   ]
  },
  {
   "cell_type": "markdown",
   "metadata": {},
   "source": [
    "Вывод: Самый большой запас нам показывает 3й регион."
   ]
  },
  {
   "cell_type": "markdown",
   "metadata": {},
   "source": [
    "## Подготовка к расчёту прибыли"
   ]
  },
  {
   "cell_type": "markdown",
   "metadata": {},
   "source": [
    "Ключевые значения для расчётов сохраняем в отдельных переменных."
   ]
  },
  {
   "cell_type": "markdown",
   "metadata": {},
   "source": [
    "При разведке региона исследуют 500 точек, из которых с помощью машинного обучения выбирают 200 лучших для разработки.\n",
    "Бюджет на разработку скважин в регионе — 10 млрд рублей.\n",
    "При нынешних ценах один баррель сырья приносит 450 рублей дохода. Доход с каждой единицы продукта составляет 450 тыс. рублей, поскольку объём указан в тысячах баррелей.\n",
    "После оценки рисков нужно оставить лишь те регионы, в которых вероятность убытков меньше 2.5%. Среди них выбирают регион с наибольшей средней прибылью."
   ]
  },
  {
   "cell_type": "code",
   "execution_count": 21,
   "metadata": {},
   "outputs": [],
   "source": [
    "Budg=10000000 \n",
    "Price_one_bar=450\n",
    "losses=2.5/100\n",
    "point = 500\n",
    "best_point = 200\n",
    "product_mean_0 = data_0['product'].mean()\n",
    "product_mean_1 = data_1['product'].mean()\n",
    "product_mean_2 = data_2['product'].mean()"
   ]
  },
  {
   "cell_type": "code",
   "execution_count": 22,
   "metadata": {},
   "outputs": [
    {
     "name": "stdout",
     "output_type": "stream",
     "text": [
      "Cредний запас сырья в 1 регионе: 92.50 млн.баррелей\n",
      "Cредний запас сырья в 2 регионе: 68.83 млн.баррелей\n",
      "Cредний запас сырья в 3 регионе: 95.00 млн.баррелей\n"
     ]
    }
   ],
   "source": [
    "print('Cредний запас сырья в 1 регионе: %.2f млн.баррелей'%product_mean_0)\n",
    "print('Cредний запас сырья в 2 регионе: %.2f млн.баррелей'%product_mean_1)\n",
    "print('Cредний запас сырья в 3 регионе: %.2f млн.баррелей'%product_mean_2)"
   ]
  },
  {
   "cell_type": "code",
   "execution_count": 23,
   "metadata": {},
   "outputs": [
    {
     "name": "stdout",
     "output_type": "stream",
     "text": [
      "Бюджет на разработку одной скважины: 50.0 млн.руб\n"
     ]
    }
   ],
   "source": [
    "budg_per_1_point=(Budg/best_point)# тыс.руб\n",
    "print('Бюджет на разработку одной скважины:', budg_per_1_point/1000,'млн.руб')"
   ]
  },
  {
   "cell_type": "markdown",
   "metadata": {},
   "source": [
    "Рассчитаем достаточный объём сырья для безубыточной разработки новой скважины"
   ]
  },
  {
   "cell_type": "code",
   "execution_count": 24,
   "metadata": {},
   "outputs": [
    {
     "name": "stdout",
     "output_type": "stream",
     "text": [
      "Объём каждой скважины для безубыточной разработки должен составлять не менее: 111.11 тыс.баррелей\n"
     ]
    }
   ],
   "source": [
    "v_prod=budg_per_1_point/Price_one_bar\n",
    "print('Объём каждой скважины для безубыточной разработки должен составлять не менее: %.2f'%v_prod,'тыс.баррелей')"
   ]
  },
  {
   "cell_type": "markdown",
   "metadata": {},
   "source": [
    "Сравним полученный объём сырья со средним запасом в каждом регионе"
   ]
  },
  {
   "cell_type": "code",
   "execution_count": 25,
   "metadata": {},
   "outputs": [
    {
     "data": {
      "text/html": [
       "<div>\n",
       "<style scoped>\n",
       "    .dataframe tbody tr th:only-of-type {\n",
       "        vertical-align: middle;\n",
       "    }\n",
       "\n",
       "    .dataframe tbody tr th {\n",
       "        vertical-align: top;\n",
       "    }\n",
       "\n",
       "    .dataframe thead th {\n",
       "        text-align: right;\n",
       "    }\n",
       "</style>\n",
       "<table border=\"1\" class=\"dataframe\">\n",
       "  <thead>\n",
       "    <tr style=\"text-align: right;\">\n",
       "      <th></th>\n",
       "      <th>id</th>\n",
       "      <th>f0</th>\n",
       "      <th>f1</th>\n",
       "      <th>f2</th>\n",
       "      <th>product</th>\n",
       "      <th>profit</th>\n",
       "    </tr>\n",
       "  </thead>\n",
       "  <tbody>\n",
       "    <tr>\n",
       "      <th>0</th>\n",
       "      <td>txEyH</td>\n",
       "      <td>0.705745</td>\n",
       "      <td>-0.497823</td>\n",
       "      <td>1.221170</td>\n",
       "      <td>105.280062</td>\n",
       "      <td>47376.03</td>\n",
       "    </tr>\n",
       "    <tr>\n",
       "      <th>1</th>\n",
       "      <td>2acmU</td>\n",
       "      <td>1.334711</td>\n",
       "      <td>-0.340164</td>\n",
       "      <td>4.365080</td>\n",
       "      <td>73.037750</td>\n",
       "      <td>32866.99</td>\n",
       "    </tr>\n",
       "    <tr>\n",
       "      <th>2</th>\n",
       "      <td>409Wp</td>\n",
       "      <td>1.022732</td>\n",
       "      <td>0.151990</td>\n",
       "      <td>1.419926</td>\n",
       "      <td>85.265647</td>\n",
       "      <td>38369.54</td>\n",
       "    </tr>\n",
       "    <tr>\n",
       "      <th>3</th>\n",
       "      <td>iJLyR</td>\n",
       "      <td>-0.032172</td>\n",
       "      <td>0.139033</td>\n",
       "      <td>2.978566</td>\n",
       "      <td>168.620776</td>\n",
       "      <td>75879.35</td>\n",
       "    </tr>\n",
       "    <tr>\n",
       "      <th>4</th>\n",
       "      <td>Xdl7t</td>\n",
       "      <td>1.988431</td>\n",
       "      <td>0.155413</td>\n",
       "      <td>4.751769</td>\n",
       "      <td>154.036647</td>\n",
       "      <td>69316.49</td>\n",
       "    </tr>\n",
       "  </tbody>\n",
       "</table>\n",
       "</div>"
      ],
      "text/plain": [
       "      id        f0        f1        f2     product    profit\n",
       "0  txEyH  0.705745 -0.497823  1.221170  105.280062  47376.03\n",
       "1  2acmU  1.334711 -0.340164  4.365080   73.037750  32866.99\n",
       "2  409Wp  1.022732  0.151990  1.419926   85.265647  38369.54\n",
       "3  iJLyR -0.032172  0.139033  2.978566  168.620776  75879.35\n",
       "4  Xdl7t  1.988431  0.155413  4.751769  154.036647  69316.49"
      ]
     },
     "execution_count": 25,
     "metadata": {},
     "output_type": "execute_result"
    }
   ],
   "source": [
    "data_0['profit']=(data_0['product']*(Price_one_bar)).round(2) # profit, тыс.руб\n",
    "data_0.head()"
   ]
  },
  {
   "cell_type": "markdown",
   "metadata": {},
   "source": [
    "Определим значение ROI для каждой скважины по отношению к затратам на разработку"
   ]
  },
  {
   "cell_type": "code",
   "execution_count": 26,
   "metadata": {},
   "outputs": [
    {
     "data": {
      "text/html": [
       "<div>\n",
       "<style scoped>\n",
       "    .dataframe tbody tr th:only-of-type {\n",
       "        vertical-align: middle;\n",
       "    }\n",
       "\n",
       "    .dataframe tbody tr th {\n",
       "        vertical-align: top;\n",
       "    }\n",
       "\n",
       "    .dataframe thead th {\n",
       "        text-align: right;\n",
       "    }\n",
       "</style>\n",
       "<table border=\"1\" class=\"dataframe\">\n",
       "  <thead>\n",
       "    <tr style=\"text-align: right;\">\n",
       "      <th></th>\n",
       "      <th>id</th>\n",
       "      <th>f0</th>\n",
       "      <th>f1</th>\n",
       "      <th>f2</th>\n",
       "      <th>product</th>\n",
       "      <th>profit</th>\n",
       "      <th>roi_%</th>\n",
       "    </tr>\n",
       "  </thead>\n",
       "  <tbody>\n",
       "    <tr>\n",
       "      <th>0</th>\n",
       "      <td>txEyH</td>\n",
       "      <td>0.705745</td>\n",
       "      <td>-0.497823</td>\n",
       "      <td>1.221170</td>\n",
       "      <td>105.280062</td>\n",
       "      <td>47376.03</td>\n",
       "      <td>-5.25</td>\n",
       "    </tr>\n",
       "    <tr>\n",
       "      <th>1</th>\n",
       "      <td>2acmU</td>\n",
       "      <td>1.334711</td>\n",
       "      <td>-0.340164</td>\n",
       "      <td>4.365080</td>\n",
       "      <td>73.037750</td>\n",
       "      <td>32866.99</td>\n",
       "      <td>-34.27</td>\n",
       "    </tr>\n",
       "    <tr>\n",
       "      <th>2</th>\n",
       "      <td>409Wp</td>\n",
       "      <td>1.022732</td>\n",
       "      <td>0.151990</td>\n",
       "      <td>1.419926</td>\n",
       "      <td>85.265647</td>\n",
       "      <td>38369.54</td>\n",
       "      <td>-23.26</td>\n",
       "    </tr>\n",
       "    <tr>\n",
       "      <th>3</th>\n",
       "      <td>iJLyR</td>\n",
       "      <td>-0.032172</td>\n",
       "      <td>0.139033</td>\n",
       "      <td>2.978566</td>\n",
       "      <td>168.620776</td>\n",
       "      <td>75879.35</td>\n",
       "      <td>51.76</td>\n",
       "    </tr>\n",
       "    <tr>\n",
       "      <th>4</th>\n",
       "      <td>Xdl7t</td>\n",
       "      <td>1.988431</td>\n",
       "      <td>0.155413</td>\n",
       "      <td>4.751769</td>\n",
       "      <td>154.036647</td>\n",
       "      <td>69316.49</td>\n",
       "      <td>38.63</td>\n",
       "    </tr>\n",
       "  </tbody>\n",
       "</table>\n",
       "</div>"
      ],
      "text/plain": [
       "      id        f0        f1        f2     product    profit  roi_%\n",
       "0  txEyH  0.705745 -0.497823  1.221170  105.280062  47376.03  -5.25\n",
       "1  2acmU  1.334711 -0.340164  4.365080   73.037750  32866.99 -34.27\n",
       "2  409Wp  1.022732  0.151990  1.419926   85.265647  38369.54 -23.26\n",
       "3  iJLyR -0.032172  0.139033  2.978566  168.620776  75879.35  51.76\n",
       "4  Xdl7t  1.988431  0.155413  4.751769  154.036647  69316.49  38.63"
      ]
     },
     "execution_count": 26,
     "metadata": {},
     "output_type": "execute_result"
    }
   ],
   "source": [
    "data_0['roi_%']=((data_0['profit']-budg_per_1_point)/budg_per_1_point*100).round(2)\n",
    "data_0.head()"
   ]
  },
  {
   "cell_type": "code",
   "execution_count": 27,
   "metadata": {},
   "outputs": [
    {
     "name": "stdout",
     "output_type": "stream",
     "text": [
      "Разница объёма сырья для безубыточной разработки скважины относительно среднего значения по 1 региону составляет: -16.75%\n",
      "Или 18.61 тыс.баррелей\n"
     ]
    }
   ],
   "source": [
    "print('Разница объёма сырья для безубыточной разработки скважины относительно среднего значения по 1 региону составляет: {:.2%}'.format(product_mean_0/v_prod-1))\n",
    "print('Или {:.2f} тыс.баррелей'.format(v_prod-product_mean_0))"
   ]
  },
  {
   "cell_type": "code",
   "execution_count": 28,
   "metadata": {},
   "outputs": [
    {
     "data": {
      "text/html": [
       "<div>\n",
       "<style scoped>\n",
       "    .dataframe tbody tr th:only-of-type {\n",
       "        vertical-align: middle;\n",
       "    }\n",
       "\n",
       "    .dataframe tbody tr th {\n",
       "        vertical-align: top;\n",
       "    }\n",
       "\n",
       "    .dataframe thead th {\n",
       "        text-align: right;\n",
       "    }\n",
       "</style>\n",
       "<table border=\"1\" class=\"dataframe\">\n",
       "  <thead>\n",
       "    <tr style=\"text-align: right;\">\n",
       "      <th></th>\n",
       "      <th>id</th>\n",
       "      <th>f0</th>\n",
       "      <th>f1</th>\n",
       "      <th>f2</th>\n",
       "      <th>product</th>\n",
       "      <th>profit</th>\n",
       "    </tr>\n",
       "  </thead>\n",
       "  <tbody>\n",
       "    <tr>\n",
       "      <th>0</th>\n",
       "      <td>kBEdx</td>\n",
       "      <td>-15.001348</td>\n",
       "      <td>-8.276000</td>\n",
       "      <td>-0.005876</td>\n",
       "      <td>3.179103</td>\n",
       "      <td>1430.60</td>\n",
       "    </tr>\n",
       "    <tr>\n",
       "      <th>1</th>\n",
       "      <td>62mP7</td>\n",
       "      <td>14.272088</td>\n",
       "      <td>-3.475083</td>\n",
       "      <td>0.999183</td>\n",
       "      <td>26.953261</td>\n",
       "      <td>12128.97</td>\n",
       "    </tr>\n",
       "    <tr>\n",
       "      <th>2</th>\n",
       "      <td>vyE1P</td>\n",
       "      <td>6.263187</td>\n",
       "      <td>-5.948386</td>\n",
       "      <td>5.001160</td>\n",
       "      <td>134.766305</td>\n",
       "      <td>60644.84</td>\n",
       "    </tr>\n",
       "    <tr>\n",
       "      <th>3</th>\n",
       "      <td>KcrkZ</td>\n",
       "      <td>-13.081196</td>\n",
       "      <td>-11.506057</td>\n",
       "      <td>4.999415</td>\n",
       "      <td>137.945408</td>\n",
       "      <td>62075.43</td>\n",
       "    </tr>\n",
       "    <tr>\n",
       "      <th>4</th>\n",
       "      <td>AHL4O</td>\n",
       "      <td>12.702195</td>\n",
       "      <td>-8.147433</td>\n",
       "      <td>5.004363</td>\n",
       "      <td>134.766305</td>\n",
       "      <td>60644.84</td>\n",
       "    </tr>\n",
       "  </tbody>\n",
       "</table>\n",
       "</div>"
      ],
      "text/plain": [
       "      id         f0         f1        f2     product    profit\n",
       "0  kBEdx -15.001348  -8.276000 -0.005876    3.179103   1430.60\n",
       "1  62mP7  14.272088  -3.475083  0.999183   26.953261  12128.97\n",
       "2  vyE1P   6.263187  -5.948386  5.001160  134.766305  60644.84\n",
       "3  KcrkZ -13.081196 -11.506057  4.999415  137.945408  62075.43\n",
       "4  AHL4O  12.702195  -8.147433  5.004363  134.766305  60644.84"
      ]
     },
     "execution_count": 28,
     "metadata": {},
     "output_type": "execute_result"
    }
   ],
   "source": [
    "data_1['profit']=(data_1['product']*(Price_one_bar)).round(2) # profit, тыс.руб\n",
    "data_1.head()"
   ]
  },
  {
   "cell_type": "markdown",
   "metadata": {},
   "source": [
    "Определим значение ROI для каждой скважины по отношению к затратам на разработку"
   ]
  },
  {
   "cell_type": "code",
   "execution_count": 29,
   "metadata": {},
   "outputs": [
    {
     "data": {
      "text/html": [
       "<div>\n",
       "<style scoped>\n",
       "    .dataframe tbody tr th:only-of-type {\n",
       "        vertical-align: middle;\n",
       "    }\n",
       "\n",
       "    .dataframe tbody tr th {\n",
       "        vertical-align: top;\n",
       "    }\n",
       "\n",
       "    .dataframe thead th {\n",
       "        text-align: right;\n",
       "    }\n",
       "</style>\n",
       "<table border=\"1\" class=\"dataframe\">\n",
       "  <thead>\n",
       "    <tr style=\"text-align: right;\">\n",
       "      <th></th>\n",
       "      <th>id</th>\n",
       "      <th>f0</th>\n",
       "      <th>f1</th>\n",
       "      <th>f2</th>\n",
       "      <th>product</th>\n",
       "      <th>profit</th>\n",
       "      <th>roi_%</th>\n",
       "    </tr>\n",
       "  </thead>\n",
       "  <tbody>\n",
       "    <tr>\n",
       "      <th>0</th>\n",
       "      <td>kBEdx</td>\n",
       "      <td>-15.001348</td>\n",
       "      <td>-8.276000</td>\n",
       "      <td>-0.005876</td>\n",
       "      <td>3.179103</td>\n",
       "      <td>1430.60</td>\n",
       "      <td>-97.14</td>\n",
       "    </tr>\n",
       "    <tr>\n",
       "      <th>1</th>\n",
       "      <td>62mP7</td>\n",
       "      <td>14.272088</td>\n",
       "      <td>-3.475083</td>\n",
       "      <td>0.999183</td>\n",
       "      <td>26.953261</td>\n",
       "      <td>12128.97</td>\n",
       "      <td>-75.74</td>\n",
       "    </tr>\n",
       "    <tr>\n",
       "      <th>2</th>\n",
       "      <td>vyE1P</td>\n",
       "      <td>6.263187</td>\n",
       "      <td>-5.948386</td>\n",
       "      <td>5.001160</td>\n",
       "      <td>134.766305</td>\n",
       "      <td>60644.84</td>\n",
       "      <td>21.29</td>\n",
       "    </tr>\n",
       "    <tr>\n",
       "      <th>3</th>\n",
       "      <td>KcrkZ</td>\n",
       "      <td>-13.081196</td>\n",
       "      <td>-11.506057</td>\n",
       "      <td>4.999415</td>\n",
       "      <td>137.945408</td>\n",
       "      <td>62075.43</td>\n",
       "      <td>24.15</td>\n",
       "    </tr>\n",
       "    <tr>\n",
       "      <th>4</th>\n",
       "      <td>AHL4O</td>\n",
       "      <td>12.702195</td>\n",
       "      <td>-8.147433</td>\n",
       "      <td>5.004363</td>\n",
       "      <td>134.766305</td>\n",
       "      <td>60644.84</td>\n",
       "      <td>21.29</td>\n",
       "    </tr>\n",
       "  </tbody>\n",
       "</table>\n",
       "</div>"
      ],
      "text/plain": [
       "      id         f0         f1        f2     product    profit  roi_%\n",
       "0  kBEdx -15.001348  -8.276000 -0.005876    3.179103   1430.60 -97.14\n",
       "1  62mP7  14.272088  -3.475083  0.999183   26.953261  12128.97 -75.74\n",
       "2  vyE1P   6.263187  -5.948386  5.001160  134.766305  60644.84  21.29\n",
       "3  KcrkZ -13.081196 -11.506057  4.999415  137.945408  62075.43  24.15\n",
       "4  AHL4O  12.702195  -8.147433  5.004363  134.766305  60644.84  21.29"
      ]
     },
     "execution_count": 29,
     "metadata": {},
     "output_type": "execute_result"
    }
   ],
   "source": [
    "data_1['roi_%']=((data_1['profit']-budg_per_1_point)/budg_per_1_point*100).round(2)\n",
    "data_1.head()"
   ]
  },
  {
   "cell_type": "code",
   "execution_count": 30,
   "metadata": {},
   "outputs": [
    {
     "name": "stdout",
     "output_type": "stream",
     "text": [
      "Разница объёма сырья для безубыточной разработки скважины относительно среднего значения по 2 региону составляет: -38.06%\n",
      "Или 42.29 тыс.баррелей\n"
     ]
    }
   ],
   "source": [
    "print('Разница объёма сырья для безубыточной разработки скважины относительно среднего значения по 2 региону составляет: {:.2%}'.format(product_mean_1/v_prod-1))\n",
    "print('Или {:.2f} тыс.баррелей'.format(v_prod-product_mean_1))"
   ]
  },
  {
   "cell_type": "code",
   "execution_count": 31,
   "metadata": {},
   "outputs": [
    {
     "data": {
      "text/html": [
       "<div>\n",
       "<style scoped>\n",
       "    .dataframe tbody tr th:only-of-type {\n",
       "        vertical-align: middle;\n",
       "    }\n",
       "\n",
       "    .dataframe tbody tr th {\n",
       "        vertical-align: top;\n",
       "    }\n",
       "\n",
       "    .dataframe thead th {\n",
       "        text-align: right;\n",
       "    }\n",
       "</style>\n",
       "<table border=\"1\" class=\"dataframe\">\n",
       "  <thead>\n",
       "    <tr style=\"text-align: right;\">\n",
       "      <th></th>\n",
       "      <th>id</th>\n",
       "      <th>f0</th>\n",
       "      <th>f1</th>\n",
       "      <th>f2</th>\n",
       "      <th>product</th>\n",
       "      <th>profit</th>\n",
       "    </tr>\n",
       "  </thead>\n",
       "  <tbody>\n",
       "    <tr>\n",
       "      <th>0</th>\n",
       "      <td>fwXo0</td>\n",
       "      <td>-1.146987</td>\n",
       "      <td>0.963328</td>\n",
       "      <td>-0.828965</td>\n",
       "      <td>27.758673</td>\n",
       "      <td>12491.40</td>\n",
       "    </tr>\n",
       "    <tr>\n",
       "      <th>1</th>\n",
       "      <td>WJtFt</td>\n",
       "      <td>0.262778</td>\n",
       "      <td>0.269839</td>\n",
       "      <td>-2.530187</td>\n",
       "      <td>56.069697</td>\n",
       "      <td>25231.36</td>\n",
       "    </tr>\n",
       "    <tr>\n",
       "      <th>2</th>\n",
       "      <td>ovLUW</td>\n",
       "      <td>0.194587</td>\n",
       "      <td>0.289035</td>\n",
       "      <td>-5.586433</td>\n",
       "      <td>62.871910</td>\n",
       "      <td>28292.36</td>\n",
       "    </tr>\n",
       "    <tr>\n",
       "      <th>3</th>\n",
       "      <td>q6cA6</td>\n",
       "      <td>2.236060</td>\n",
       "      <td>-0.553760</td>\n",
       "      <td>0.930038</td>\n",
       "      <td>114.572842</td>\n",
       "      <td>51557.78</td>\n",
       "    </tr>\n",
       "    <tr>\n",
       "      <th>4</th>\n",
       "      <td>WPMUX</td>\n",
       "      <td>-0.515993</td>\n",
       "      <td>1.716266</td>\n",
       "      <td>5.899011</td>\n",
       "      <td>149.600746</td>\n",
       "      <td>67320.34</td>\n",
       "    </tr>\n",
       "  </tbody>\n",
       "</table>\n",
       "</div>"
      ],
      "text/plain": [
       "      id        f0        f1        f2     product    profit\n",
       "0  fwXo0 -1.146987  0.963328 -0.828965   27.758673  12491.40\n",
       "1  WJtFt  0.262778  0.269839 -2.530187   56.069697  25231.36\n",
       "2  ovLUW  0.194587  0.289035 -5.586433   62.871910  28292.36\n",
       "3  q6cA6  2.236060 -0.553760  0.930038  114.572842  51557.78\n",
       "4  WPMUX -0.515993  1.716266  5.899011  149.600746  67320.34"
      ]
     },
     "execution_count": 31,
     "metadata": {},
     "output_type": "execute_result"
    }
   ],
   "source": [
    "data_2['profit']=(data_2['product']*(Price_one_bar)).round(2) # profit, тыс.руб\n",
    "data_2.head()"
   ]
  },
  {
   "cell_type": "markdown",
   "metadata": {},
   "source": [
    "Определим значение ROI для каждой скважины по отношению к затратам на разработку"
   ]
  },
  {
   "cell_type": "code",
   "execution_count": 32,
   "metadata": {},
   "outputs": [
    {
     "data": {
      "text/html": [
       "<div>\n",
       "<style scoped>\n",
       "    .dataframe tbody tr th:only-of-type {\n",
       "        vertical-align: middle;\n",
       "    }\n",
       "\n",
       "    .dataframe tbody tr th {\n",
       "        vertical-align: top;\n",
       "    }\n",
       "\n",
       "    .dataframe thead th {\n",
       "        text-align: right;\n",
       "    }\n",
       "</style>\n",
       "<table border=\"1\" class=\"dataframe\">\n",
       "  <thead>\n",
       "    <tr style=\"text-align: right;\">\n",
       "      <th></th>\n",
       "      <th>id</th>\n",
       "      <th>f0</th>\n",
       "      <th>f1</th>\n",
       "      <th>f2</th>\n",
       "      <th>product</th>\n",
       "      <th>profit</th>\n",
       "      <th>roi_%</th>\n",
       "    </tr>\n",
       "  </thead>\n",
       "  <tbody>\n",
       "    <tr>\n",
       "      <th>0</th>\n",
       "      <td>fwXo0</td>\n",
       "      <td>-1.146987</td>\n",
       "      <td>0.963328</td>\n",
       "      <td>-0.828965</td>\n",
       "      <td>27.758673</td>\n",
       "      <td>12491.40</td>\n",
       "      <td>-75.02</td>\n",
       "    </tr>\n",
       "    <tr>\n",
       "      <th>1</th>\n",
       "      <td>WJtFt</td>\n",
       "      <td>0.262778</td>\n",
       "      <td>0.269839</td>\n",
       "      <td>-2.530187</td>\n",
       "      <td>56.069697</td>\n",
       "      <td>25231.36</td>\n",
       "      <td>-49.54</td>\n",
       "    </tr>\n",
       "    <tr>\n",
       "      <th>2</th>\n",
       "      <td>ovLUW</td>\n",
       "      <td>0.194587</td>\n",
       "      <td>0.289035</td>\n",
       "      <td>-5.586433</td>\n",
       "      <td>62.871910</td>\n",
       "      <td>28292.36</td>\n",
       "      <td>-43.42</td>\n",
       "    </tr>\n",
       "    <tr>\n",
       "      <th>3</th>\n",
       "      <td>q6cA6</td>\n",
       "      <td>2.236060</td>\n",
       "      <td>-0.553760</td>\n",
       "      <td>0.930038</td>\n",
       "      <td>114.572842</td>\n",
       "      <td>51557.78</td>\n",
       "      <td>3.12</td>\n",
       "    </tr>\n",
       "    <tr>\n",
       "      <th>4</th>\n",
       "      <td>WPMUX</td>\n",
       "      <td>-0.515993</td>\n",
       "      <td>1.716266</td>\n",
       "      <td>5.899011</td>\n",
       "      <td>149.600746</td>\n",
       "      <td>67320.34</td>\n",
       "      <td>34.64</td>\n",
       "    </tr>\n",
       "  </tbody>\n",
       "</table>\n",
       "</div>"
      ],
      "text/plain": [
       "      id        f0        f1        f2     product    profit  roi_%\n",
       "0  fwXo0 -1.146987  0.963328 -0.828965   27.758673  12491.40 -75.02\n",
       "1  WJtFt  0.262778  0.269839 -2.530187   56.069697  25231.36 -49.54\n",
       "2  ovLUW  0.194587  0.289035 -5.586433   62.871910  28292.36 -43.42\n",
       "3  q6cA6  2.236060 -0.553760  0.930038  114.572842  51557.78   3.12\n",
       "4  WPMUX -0.515993  1.716266  5.899011  149.600746  67320.34  34.64"
      ]
     },
     "execution_count": 32,
     "metadata": {},
     "output_type": "execute_result"
    }
   ],
   "source": [
    "data_2['roi_%']=((data_2['profit']-budg_per_1_point)/budg_per_1_point*100).round(2)\n",
    "data_2.head()"
   ]
  },
  {
   "cell_type": "code",
   "execution_count": 33,
   "metadata": {},
   "outputs": [
    {
     "name": "stdout",
     "output_type": "stream",
     "text": [
      "Разница объёма сырья для безубыточной разработки скважины относительно среднего значения по 2 региону составляет: -14.50%\n",
      "Или 16.11 тыс.баррелей\n"
     ]
    }
   ],
   "source": [
    "print('Разница объёма сырья для безубыточной разработки скважины относительно среднего значения по 2 региону составляет: {:.2%}'.format(product_mean_2/v_prod-1))\n",
    "print('Или {:.2f} тыс.баррелей'.format(v_prod-product_mean_2))"
   ]
  },
  {
   "cell_type": "markdown",
   "metadata": {},
   "source": [
    "Вывод: Как показали расчеты, в скважинах недостаточно сырья для работы хотя бы в ноль."
   ]
  },
  {
   "cell_type": "markdown",
   "metadata": {},
   "source": [
    "## Расчёт прибыли и рисков "
   ]
  },
  {
   "cell_type": "markdown",
   "metadata": {},
   "source": [
    "Выбераем скважины с максимальными значениями предсказаний."
   ]
  },
  {
   "cell_type": "code",
   "execution_count": 34,
   "metadata": {},
   "outputs": [
    {
     "data": {
      "text/plain": [
       "array([101.90101715,  78.21777385, 115.26690103, ...,  82.54439653,\n",
       "        81.82668931,  93.12106221])"
      ]
     },
     "execution_count": 34,
     "metadata": {},
     "output_type": "execute_result"
    }
   ],
   "source": [
    "predict_0"
   ]
  },
  {
   "cell_type": "code",
   "execution_count": 35,
   "metadata": {},
   "outputs": [
    {
     "data": {
      "text/plain": [
       "46784    176.536104\n",
       "27658    176.274510\n",
       "6496     173.249504\n",
       "65743    172.802708\n",
       "93716    172.744977\n",
       "            ...    \n",
       "14042    146.952653\n",
       "65925    146.948764\n",
       "65549    146.947483\n",
       "9462     146.946515\n",
       "39838    146.874947\n",
       "Length: 200, dtype: float64"
      ]
     },
     "execution_count": 35,
     "metadata": {},
     "output_type": "execute_result"
    }
   ],
   "source": [
    "probs_sorted_0 = pd.Series(predict_0, index=target_valid_0.index).sort_values(ascending=False)\n",
    "selected_max_0 = probs_sorted_0[:200]\n",
    "selected_max_0"
   ]
  },
  {
   "cell_type": "code",
   "execution_count": 36,
   "metadata": {},
   "outputs": [
    {
     "data": {
      "text/plain": [
       "array([  0.84473806,  52.92161194, 135.11038454, ...,  26.70873415,\n",
       "       109.82308735, 135.44878039])"
      ]
     },
     "execution_count": 36,
     "metadata": {},
     "output_type": "execute_result"
    }
   ],
   "source": [
    "predict_1"
   ]
  },
  {
   "cell_type": "code",
   "execution_count": 37,
   "metadata": {},
   "outputs": [
    {
     "data": {
      "text/plain": [
       "80439    139.983277\n",
       "14041    139.700803\n",
       "62413    139.616544\n",
       "55563    139.514768\n",
       "42432    139.472212\n",
       "            ...    \n",
       "99088    138.428338\n",
       "5058     138.427500\n",
       "80836    138.426488\n",
       "78084    138.424348\n",
       "77320    138.423809\n",
       "Length: 200, dtype: float64"
      ]
     },
     "execution_count": 37,
     "metadata": {},
     "output_type": "execute_result"
    }
   ],
   "source": [
    "probs_sorted_1 = pd.Series(predict_1, index=target_valid_0.index).sort_values(ascending=False)\n",
    "selected_max_1 = probs_sorted_1[:200]\n",
    "selected_max_1"
   ]
  },
  {
   "cell_type": "code",
   "execution_count": 38,
   "metadata": {},
   "outputs": [
    {
     "data": {
      "text/plain": [
       "array([ 98.30191642, 101.59246124,  52.4490989 , ...,  64.09839   ,\n",
       "        83.76413542,  86.55864415])"
      ]
     },
     "execution_count": 38,
     "metadata": {},
     "output_type": "execute_result"
    }
   ],
   "source": [
    "predict_2"
   ]
  },
  {
   "cell_type": "code",
   "execution_count": 39,
   "metadata": {},
   "outputs": [
    {
     "data": {
      "text/plain": [
       "80439    139.983277\n",
       "14041    139.700803\n",
       "62413    139.616544\n",
       "55563    139.514768\n",
       "42432    139.472212\n",
       "            ...    \n",
       "99088    138.428338\n",
       "5058     138.427500\n",
       "80836    138.426488\n",
       "78084    138.424348\n",
       "77320    138.423809\n",
       "Length: 200, dtype: float64"
      ]
     },
     "execution_count": 39,
     "metadata": {},
     "output_type": "execute_result"
    }
   ],
   "source": [
    "probs_sorted_2 = pd.Series(predict_2, index=target_valid_0.index).sort_values(ascending=False)\n",
    "selected_max_2 = probs_sorted_1[:200]\n",
    "selected_max_2"
   ]
  },
  {
   "cell_type": "markdown",
   "metadata": {},
   "source": [
    "Максиммальные значения предсказаний показывает регион 1"
   ]
  },
  {
   "cell_type": "markdown",
   "metadata": {},
   "source": [
    "Просуммируем целевое значение объёма сырья, соответствующее этим предсказаниям."
   ]
  },
  {
   "cell_type": "code",
   "execution_count": 40,
   "metadata": {},
   "outputs": [
    {
     "name": "stdout",
     "output_type": "stream",
     "text": [
      "Сумма целевого значения объема сырья по региону 1: 30881.463288146988 тыс.бар\n"
     ]
    }
   ],
   "source": [
    "selected_max_0_sum = selected_max_0.sum()\n",
    "print('Сумма целевого значения объема сырья по региону 1:', selected_max_0.sum(),'тыс.бар')"
   ]
  },
  {
   "cell_type": "code",
   "execution_count": 41,
   "metadata": {},
   "outputs": [
    {
     "name": "stdout",
     "output_type": "stream",
     "text": [
      "Сумма целевого значения объема сырья по региону 2: 27748.75136666462 тыс.бар\n"
     ]
    }
   ],
   "source": [
    "selected_max_1_sum = selected_max_1.sum()\n",
    "print('Сумма целевого значения объема сырья по региону 2:', selected_max_1.sum(),'тыс.бар')"
   ]
  },
  {
   "cell_type": "code",
   "execution_count": 42,
   "metadata": {},
   "outputs": [
    {
     "name": "stdout",
     "output_type": "stream",
     "text": [
      "Сумма целевого значения объема сырья по региону 3: 27748.75136666462 тыс.бар\n"
     ]
    }
   ],
   "source": [
    "selected_max_2_sum = selected_max_2.sum()\n",
    "print('Сумма целевого значения объема сырья по региону 3:', selected_max_2.sum(),'тыс.бар')"
   ]
  },
  {
   "cell_type": "markdown",
   "metadata": {},
   "source": [
    "Вывод: Максимальные значения по региону 1"
   ]
  },
  {
   "cell_type": "markdown",
   "metadata": {},
   "source": [
    "Рассчитаем прибыль для полученного объёма сырья"
   ]
  },
  {
   "cell_type": "code",
   "execution_count": 43,
   "metadata": {},
   "outputs": [
    {
     "name": "stdout",
     "output_type": "stream",
     "text": [
      "Прибыль для полученного объёма сырья 1 регион составит 3896658.48 тыс.рублей\n"
     ]
    }
   ],
   "source": [
    "profit_pred_0=(selected_max_0_sum*Price_one_bar)-Budg\n",
    "print('Прибыль для полученного объёма сырья 1 регион составит %.2f тыс.рублей'%profit_pred_0)"
   ]
  },
  {
   "cell_type": "code",
   "execution_count": 44,
   "metadata": {},
   "outputs": [
    {
     "name": "stdout",
     "output_type": "stream",
     "text": [
      "Прибыль для полученного объёма сырья 2 регион составит 2486938.11 тыс.рублей\n"
     ]
    }
   ],
   "source": [
    "profit_pred_1=(selected_max_1_sum*Price_one_bar)-Budg\n",
    "print('Прибыль для полученного объёма сырья 2 регион составит %.2f тыс.рублей'%profit_pred_1)"
   ]
  },
  {
   "cell_type": "code",
   "execution_count": 45,
   "metadata": {},
   "outputs": [
    {
     "name": "stdout",
     "output_type": "stream",
     "text": [
      "Прибыль для полученного объёма сырья 3 регион составит 2486938.11 тыс.рублей\n"
     ]
    }
   ],
   "source": [
    "profit_pred_2=(selected_max_2_sum*Price_one_bar)-Budg\n",
    "print('Прибыль для полученного объёма сырья 3 регион составит %.2f тыс.рублей'%profit_pred_2)"
   ]
  },
  {
   "cell_type": "markdown",
   "metadata": {},
   "source": [
    "Вывод: самую высокую прибыль показывает 1й регион"
   ]
  },
  {
   "cell_type": "markdown",
   "metadata": {},
   "source": [
    "Занесём все вычисления в функцию"
   ]
  },
  {
   "cell_type": "code",
   "execution_count": 46,
   "metadata": {},
   "outputs": [],
   "source": [
    "def profit_for_vp(predict,target,count):\n",
    "    probs_sorted = pd.Series(predict, index=target.index).sort_values(ascending=False)\n",
    "    selected_max = probs_sorted[:count].sum()\n",
    "    profit_pred=(selected_max*Price_one_bar)-Budg\n",
    "\n",
    "    print('Суммарный запас сырья в 200 лучших скважинах составит: %.2f тыс.баррелей'%selected_max)\n",
    "    print('Прибыль для полученного объёма сырья составит %.2f млн.рублей'%(profit_pred/1000))"
   ]
  },
  {
   "cell_type": "markdown",
   "metadata": {},
   "source": [
    "1й регион"
   ]
  },
  {
   "cell_type": "code",
   "execution_count": 47,
   "metadata": {},
   "outputs": [
    {
     "name": "stdout",
     "output_type": "stream",
     "text": [
      "Суммарный запас сырья в 200 лучших скважинах составит: 30881.46 тыс.баррелей\n",
      "Прибыль для полученного объёма сырья составит 3896.66 млн.рублей\n"
     ]
    }
   ],
   "source": [
    "profit_for_vp(predict_0,target_valid_0,200)"
   ]
  },
  {
   "cell_type": "code",
   "execution_count": null,
   "metadata": {},
   "outputs": [],
   "source": []
  },
  {
   "cell_type": "markdown",
   "metadata": {},
   "source": [
    "2й регион"
   ]
  },
  {
   "cell_type": "code",
   "execution_count": 48,
   "metadata": {},
   "outputs": [
    {
     "name": "stdout",
     "output_type": "stream",
     "text": [
      "Суммарный запас сырья в 200 лучших скважинах составит: 27748.75 тыс.баррелей\n",
      "Прибыль для полученного объёма сырья составит 2486.94 млн.рублей\n"
     ]
    }
   ],
   "source": [
    "profit_for_vp(predict_1,target_valid_1,200)"
   ]
  },
  {
   "cell_type": "markdown",
   "metadata": {},
   "source": [
    "3й регион"
   ]
  },
  {
   "cell_type": "code",
   "execution_count": 49,
   "metadata": {},
   "outputs": [
    {
     "name": "stdout",
     "output_type": "stream",
     "text": [
      "Суммарный запас сырья в 200 лучших скважинах составит: 29728.85 тыс.баррелей\n",
      "Прибыль для полученного объёма сырья составит 3377.98 млн.рублей\n"
     ]
    }
   ],
   "source": [
    "profit_for_vp(predict_2,target_valid_2,200)"
   ]
  },
  {
   "cell_type": "markdown",
   "metadata": {},
   "source": [
    "    Вывод: самую большую прибыль дают все регионы, но 1й регион самую высокую прибыль. Расчитаем окупаемость"
   ]
  },
  {
   "cell_type": "markdown",
   "metadata": {},
   "source": [
    "# 5.Посчитаем риски и прибыль для каждого региона"
   ]
  },
  {
   "cell_type": "markdown",
   "metadata": {},
   "source": [
    "Применим технику Bootstrap с 1000 выборок, чтобы найти распределение прибыли\n",
    "\n",
    "Найдём среднюю прибыль, 95%-й доверительный интервал и риск убытков"
   ]
  },
  {
   "cell_type": "code",
   "execution_count": 50,
   "metadata": {},
   "outputs": [],
   "source": [
    "def profit_for_vp2(predict,target,count):\n",
    "    probs_sorted = pd.Series(predict).sort_values(ascending=False)\n",
    "    selected_points = target[probs_sorted.index][:count]\n",
    "    product = selected_points.sum()\n",
    "    revenue = product * Price_one_bar\n",
    "    return revenue - Budg"
   ]
  },
  {
   "cell_type": "code",
   "execution_count": 55,
   "metadata": {},
   "outputs": [],
   "source": [
    "def bootstap_1000(target,predict):\n",
    "    values = []\n",
    "    table = []\n",
    "    count=0\n",
    "    state = np.random.RandomState(12345)\n",
    "    predict_e = pd.Series(predict,index=target.index)\n",
    "    \n",
    "    for i in tqdm(range(1000)):\n",
    "        target_subsample = target.sample(n=point,replace=True, random_state=state)\n",
    "  \n",
    "        probs_subsample = predict_e[target_subsample.index]\n",
    "        values.append(profit_for_vp2(probs_subsample,target_subsample, best_point))  \n",
    "    for i in values:\n",
    "        if i < 0:\n",
    "            count +=1\n",
    "    \n",
    "    values = pd.Series(values)\n",
    "    mean = values.mean()\n",
    "    confidence_interval = st.t.interval(0.95, len(values)-1, values.mean(), values.sem())\n",
    "    \n",
    "    plt.title('Распределение прибыли')\n",
    "    values.plot(kind=\"hist\", grid=True, figsize=(8,5))\n",
    "    plt.xlabel('Прибыль, тыс.руб')\n",
    "    plt.ylabel('Количество')\n",
    "    plt.show()\n",
    "\n",
    "    \n",
    "    \n",
    "    low_95 = values.quantile(0.025)\n",
    "    high_95 = values.quantile(0.975)\n",
    "    \n",
    "    print(\"Средняя прибыль: {:.2f} млн.руб\".format(mean/1000))\n",
    "    print('С вероятностью 95% прибыль в данном регионе будет составлять от: {:.2f} млн.руб до: {:.2f} млн.руб'.format((low_95/1000),(high_95/1000)))\n",
    "    print(\"95%-ый доверительный интервал: от {:.2f} млн.руб до {:.2f} млн.руб\". format((confidence_interval[0]/1000),(confidence_interval[1]/1000)))\n",
    "    print ('Процент вероятности убытка в данном регионе составит {:.1%}'.format(count/1000))\n",
    "    \n",
    "    return mean, low_95, high_95, (values<0).mean()"
   ]
  },
  {
   "cell_type": "markdown",
   "metadata": {},
   "source": [
    "Распределение прибыли 1 регион"
   ]
  },
  {
   "cell_type": "code",
   "execution_count": 56,
   "metadata": {},
   "outputs": [
    {
     "data": {
      "application/vnd.jupyter.widget-view+json": {
       "model_id": "cd56c41c8e8f47d68b07ba89cd00f3c5",
       "version_major": 2,
       "version_minor": 0
      },
      "text/plain": [
       "  0%|          | 0/1000 [00:00<?, ?it/s]"
      ]
     },
     "metadata": {},
     "output_type": "display_data"
    },
    {
     "data": {
      "image/png": "[encoded data removed]",
      "text/plain": [
       "<Figure size 576x360 with 1 Axes>"
      ]
     },
     "metadata": {
      "needs_background": "light"
     },
     "output_type": "display_data"
    },
    {
     "name": "stdout",
     "output_type": "stream",
     "text": [
      "Средняя прибыль: 435.93 млн.руб\n",
      "С вероятностью 95% прибыль в данном регионе будет составлять от: -116.23 млн.руб до: 966.50 млн.руб\n",
      "95%-ый доверительный интервал: от 418.76 млн.руб до 453.11 млн.руб\n",
      "Процент вероятности убытка в данном регионе составит 6.1%\n"
     ]
    }
   ],
   "source": [
    "result_0=bootstap_1000(target_valid_0,predict_0)"
   ]
  },
  {
   "cell_type": "markdown",
   "metadata": {},
   "source": [
    "Распределение прибыли 2 регион"
   ]
  },
  {
   "cell_type": "code",
   "execution_count": 57,
   "metadata": {},
   "outputs": [
    {
     "data": {
      "application/vnd.jupyter.widget-view+json": {
       "model_id": "7fccb10f4f044aaf9608383fdad1c00f",
       "version_major": 2,
       "version_minor": 0
      },
      "text/plain": [
       "  0%|          | 0/1000 [00:00<?, ?it/s]"
      ]
     },
     "metadata": {},
     "output_type": "display_data"
    },
    {
     "data": {
      "image/png": "[encoded data removed]",
      "text/plain": [
       "<Figure size 576x360 with 1 Axes>"
      ]
     },
     "metadata": {
      "needs_background": "light"
     },
     "output_type": "display_data"
    },
    {
     "name": "stdout",
     "output_type": "stream",
     "text": [
      "Средняя прибыль: 489.66 млн.руб\n",
      "С вероятностью 95% прибыль в данном регионе будет составлять от: 55.12 млн.руб до: 905.76 млн.руб\n",
      "95%-ый доверительный интервал: от 476.23 млн.руб до 503.09 млн.руб\n",
      "Процент вероятности убытка в данном регионе составит 1.1%\n"
     ]
    }
   ],
   "source": [
    "result_1=bootstap_1000(target_valid_1,predict_1)"
   ]
  },
  {
   "cell_type": "markdown",
   "metadata": {},
   "source": [
    "Распределение прибыли 3 регион"
   ]
  },
  {
   "cell_type": "code",
   "execution_count": 58,
   "metadata": {},
   "outputs": [
    {
     "data": {
      "application/vnd.jupyter.widget-view+json": {
       "model_id": "f9b07021d9044090b29466fb458d31a4",
       "version_major": 2,
       "version_minor": 0
      },
      "text/plain": [
       "  0%|          | 0/1000 [00:00<?, ?it/s]"
      ]
     },
     "metadata": {},
     "output_type": "display_data"
    },
    {
     "data": {
      "image/png": "[encoded data removed]",
      "text/plain": [
       "<Figure size 576x360 with 1 Axes>"
      ]
     },
     "metadata": {
      "needs_background": "light"
     },
     "output_type": "display_data"
    },
    {
     "name": "stdout",
     "output_type": "stream",
     "text": [
      "Средняя прибыль: 403.69 млн.руб\n",
      "С вероятностью 95% прибыль в данном регионе будет составлять от: -153.12 млн.руб до: 952.89 млн.руб\n",
      "95%-ый доверительный интервал: от 386.21 млн.руб до 421.17 млн.руб\n",
      "Процент вероятности убытка в данном регионе составит 7.1%\n"
     ]
    }
   ],
   "source": [
    "result_2=bootstap_1000(target_valid_2,predict_2);"
   ]
  },
  {
   "cell_type": "markdown",
   "metadata": {},
   "source": [
    "Сравним среднюю прибыль, вероятность убытка и суммарный запас сырья трёх представленных регионов в таблице"
   ]
  },
  {
   "cell_type": "code",
   "execution_count": 64,
   "metadata": {},
   "outputs": [
    {
     "data": {
      "text/html": [
       "<div>\n",
       "<style scoped>\n",
       "    .dataframe tbody tr th:only-of-type {\n",
       "        vertical-align: middle;\n",
       "    }\n",
       "\n",
       "    .dataframe tbody tr th {\n",
       "        vertical-align: top;\n",
       "    }\n",
       "\n",
       "    .dataframe thead th {\n",
       "        text-align: right;\n",
       "    }\n",
       "</style>\n",
       "<table border=\"1\" class=\"dataframe\">\n",
       "  <thead>\n",
       "    <tr style=\"text-align: right;\">\n",
       "      <th></th>\n",
       "      <th>mean</th>\n",
       "      <th>low_95</th>\n",
       "      <th>high_95</th>\n",
       "      <th>risk</th>\n",
       "    </tr>\n",
       "  </thead>\n",
       "  <tbody>\n",
       "    <tr>\n",
       "      <th>0</th>\n",
       "      <td>435933.772139</td>\n",
       "      <td>-116231.612777</td>\n",
       "      <td>966504.180707</td>\n",
       "      <td>0.061</td>\n",
       "    </tr>\n",
       "    <tr>\n",
       "      <th>1</th>\n",
       "      <td>489661.254412</td>\n",
       "      <td>55116.177274</td>\n",
       "      <td>905762.650425</td>\n",
       "      <td>0.011</td>\n",
       "    </tr>\n",
       "    <tr>\n",
       "      <th>2</th>\n",
       "      <td>403687.927862</td>\n",
       "      <td>-153116.984762</td>\n",
       "      <td>952887.416708</td>\n",
       "      <td>0.071</td>\n",
       "    </tr>\n",
       "  </tbody>\n",
       "</table>\n",
       "</div>"
      ],
      "text/plain": [
       "            mean         low_95        high_95   risk\n",
       "0  435933.772139 -116231.612777  966504.180707  0.061\n",
       "1  489661.254412   55116.177274  905762.650425  0.011\n",
       "2  403687.927862 -153116.984762  952887.416708  0.071"
      ]
     },
     "execution_count": 64,
     "metadata": {},
     "output_type": "execute_result"
    }
   ],
   "source": [
    "pd.DataFrame(np.array([result_0, result_1, result_2]), columns=['mean', 'low_95', 'high_95', 'risk'])"
   ]
  },
  {
   "cell_type": "markdown",
   "metadata": {},
   "source": [
    "# Вывод"
   ]
  },
  {
   "cell_type": "markdown",
   "metadata": {},
   "source": [
    "Исходя из проведенного исследования видно, не смотря на то, что самый большой запас нам показываеи 1й регион, разрабатывать прибыльно будет второй регион. Так как у него сымый низкий риск получить убыток - менее 2,5%. "
   ]
  }
 ],
 "metadata": {
  "ExecuteTimeLog": [
   {
    "duration": 2651,
    "start_time": "2023-04-03T07:48:31.306Z"
   },
   {
    "duration": 7,
    "start_time": "2023-04-03T07:49:36.811Z"
   },
   {
    "duration": 12,
    "start_time": "2023-04-03T07:49:53.189Z"
   },
   {
    "duration": 32,
    "start_time": "2023-04-03T07:50:36.060Z"
   },
   {
    "duration": 181,
    "start_time": "2023-04-03T07:51:05.020Z"
   },
   {
    "duration": 5,
    "start_time": "2023-04-03T07:51:11.051Z"
   },
   {
    "duration": 12,
    "start_time": "2023-04-03T07:51:16.732Z"
   },
   {
    "duration": 24,
    "start_time": "2023-04-03T07:51:29.307Z"
   },
   {
    "duration": 775,
    "start_time": "2023-04-03T07:51:55.818Z"
   },
   {
    "duration": 64,
    "start_time": "2023-04-03T07:56:01.334Z"
   },
   {
    "duration": 3190,
    "start_time": "2023-04-03T07:56:14.023Z"
   },
   {
    "duration": 84,
    "start_time": "2023-04-03T07:56:17.215Z"
   },
   {
    "duration": 7,
    "start_time": "2023-04-03T07:56:21.196Z"
   },
   {
    "duration": 13,
    "start_time": "2023-04-03T07:56:22.038Z"
   },
   {
    "duration": 24,
    "start_time": "2023-04-03T07:56:23.078Z"
   },
   {
    "duration": 60,
    "start_time": "2023-04-03T07:57:18.086Z"
   },
   {
    "duration": 2902,
    "start_time": "2023-04-03T07:57:21.587Z"
   },
   {
    "duration": 8,
    "start_time": "2023-04-03T07:57:24.494Z"
   },
   {
    "duration": 15,
    "start_time": "2023-04-03T07:57:25.198Z"
   },
   {
    "duration": 20,
    "start_time": "2023-04-03T07:57:26.102Z"
   },
   {
    "duration": 7,
    "start_time": "2023-04-03T07:58:00.061Z"
   },
   {
    "duration": 19,
    "start_time": "2023-04-03T07:58:03.986Z"
   },
   {
    "duration": 11,
    "start_time": "2023-04-03T07:58:13.933Z"
   },
   {
    "duration": 21,
    "start_time": "2023-04-03T07:58:15.394Z"
   },
   {
    "duration": 5,
    "start_time": "2023-04-03T07:59:43.652Z"
   },
   {
    "duration": 14,
    "start_time": "2023-04-03T07:59:44.486Z"
   },
   {
    "duration": 28,
    "start_time": "2023-04-03T07:59:48.100Z"
   },
   {
    "duration": 357,
    "start_time": "2023-04-03T08:00:40.097Z"
   },
   {
    "duration": 139,
    "start_time": "2023-04-03T08:06:41.110Z"
   },
   {
    "duration": 0,
    "start_time": "2023-04-03T08:17:52.788Z"
   },
   {
    "duration": 0,
    "start_time": "2023-04-03T08:17:52.791Z"
   },
   {
    "duration": 0,
    "start_time": "2023-04-03T08:17:52.794Z"
   },
   {
    "duration": 0,
    "start_time": "2023-04-03T08:17:52.797Z"
   },
   {
    "duration": 0,
    "start_time": "2023-04-03T08:17:52.800Z"
   },
   {
    "duration": 0,
    "start_time": "2023-04-03T08:17:52.803Z"
   },
   {
    "duration": 0,
    "start_time": "2023-04-03T08:17:52.805Z"
   },
   {
    "duration": 0,
    "start_time": "2023-04-03T08:17:52.809Z"
   },
   {
    "duration": 0,
    "start_time": "2023-04-03T08:17:52.811Z"
   },
   {
    "duration": 0,
    "start_time": "2023-04-03T08:17:52.814Z"
   },
   {
    "duration": 0,
    "start_time": "2023-04-03T08:17:52.817Z"
   },
   {
    "duration": 0,
    "start_time": "2023-04-03T08:17:52.820Z"
   },
   {
    "duration": 0,
    "start_time": "2023-04-03T08:17:52.874Z"
   },
   {
    "duration": 0,
    "start_time": "2023-04-03T08:17:52.876Z"
   },
   {
    "duration": 466,
    "start_time": "2023-04-03T08:18:03.046Z"
   },
   {
    "duration": 5,
    "start_time": "2023-04-03T08:18:06.086Z"
   },
   {
    "duration": 12,
    "start_time": "2023-04-03T08:18:06.707Z"
   },
   {
    "duration": 22,
    "start_time": "2023-04-03T08:18:07.260Z"
   },
   {
    "duration": 5,
    "start_time": "2023-04-03T08:18:11.096Z"
   },
   {
    "duration": 18,
    "start_time": "2023-04-03T08:18:12.062Z"
   },
   {
    "duration": 21,
    "start_time": "2023-04-03T08:18:14.434Z"
   },
   {
    "duration": 6,
    "start_time": "2023-04-03T08:18:18.707Z"
   },
   {
    "duration": 12,
    "start_time": "2023-04-03T08:18:19.444Z"
   },
   {
    "duration": 21,
    "start_time": "2023-04-03T08:18:20.103Z"
   },
   {
    "duration": 385,
    "start_time": "2023-04-03T08:18:23.893Z"
   },
   {
    "duration": 35,
    "start_time": "2023-04-03T08:18:27.155Z"
   },
   {
    "duration": 14,
    "start_time": "2023-04-03T08:19:17.019Z"
   },
   {
    "duration": 29,
    "start_time": "2023-04-03T08:20:49.810Z"
   },
   {
    "duration": 26,
    "start_time": "2023-04-03T08:21:16.191Z"
   },
   {
    "duration": 34,
    "start_time": "2023-04-03T08:21:35.280Z"
   },
   {
    "duration": 37,
    "start_time": "2023-04-03T08:22:22.848Z"
   },
   {
    "duration": 30,
    "start_time": "2023-04-03T08:22:52.855Z"
   },
   {
    "duration": 55,
    "start_time": "2023-04-03T08:26:55.156Z"
   },
   {
    "duration": 45,
    "start_time": "2023-04-03T08:28:16.952Z"
   },
   {
    "duration": 46,
    "start_time": "2023-04-03T08:37:28.892Z"
   },
   {
    "duration": 52,
    "start_time": "2023-04-03T08:38:28.671Z"
   },
   {
    "duration": 418,
    "start_time": "2023-04-03T08:38:34.656Z"
   },
   {
    "duration": 36,
    "start_time": "2023-04-03T08:38:42.586Z"
   },
   {
    "duration": 95,
    "start_time": "2023-04-03T08:41:01.807Z"
   },
   {
    "duration": 47,
    "start_time": "2023-04-03T08:41:12.894Z"
   },
   {
    "duration": 25,
    "start_time": "2023-04-03T08:45:43.184Z"
   },
   {
    "duration": 12,
    "start_time": "2023-04-03T08:47:12.298Z"
   },
   {
    "duration": 14,
    "start_time": "2023-04-03T08:47:14.901Z"
   },
   {
    "duration": 81,
    "start_time": "2023-04-03T08:47:17.494Z"
   },
   {
    "duration": 37,
    "start_time": "2023-04-03T08:52:11.621Z"
   },
   {
    "duration": 10,
    "start_time": "2023-04-03T08:52:37.497Z"
   },
   {
    "duration": 14,
    "start_time": "2023-04-03T08:52:40.612Z"
   },
   {
    "duration": 90,
    "start_time": "2023-04-03T08:52:43.477Z"
   },
   {
    "duration": 56,
    "start_time": "2023-04-04T18:58:01.337Z"
   },
   {
    "duration": 2470,
    "start_time": "2023-04-04T18:58:05.189Z"
   },
   {
    "duration": 5,
    "start_time": "2023-04-04T18:58:07.662Z"
   },
   {
    "duration": 25,
    "start_time": "2023-04-04T18:58:07.669Z"
   },
   {
    "duration": 30,
    "start_time": "2023-04-04T18:58:07.696Z"
   },
   {
    "duration": 4,
    "start_time": "2023-04-04T18:58:07.727Z"
   },
   {
    "duration": 21,
    "start_time": "2023-04-04T18:58:07.732Z"
   },
   {
    "duration": 18,
    "start_time": "2023-04-04T18:58:07.755Z"
   },
   {
    "duration": 4,
    "start_time": "2023-04-04T18:58:07.775Z"
   },
   {
    "duration": 13,
    "start_time": "2023-04-04T18:58:07.780Z"
   },
   {
    "duration": 18,
    "start_time": "2023-04-04T18:58:07.795Z"
   },
   {
    "duration": 333,
    "start_time": "2023-04-04T18:58:07.815Z"
   },
   {
    "duration": 13,
    "start_time": "2023-04-04T18:58:08.150Z"
   },
   {
    "duration": 20,
    "start_time": "2023-04-04T18:58:08.164Z"
   },
   {
    "duration": 14,
    "start_time": "2023-04-04T18:58:08.186Z"
   },
   {
    "duration": 13,
    "start_time": "2023-04-04T18:58:08.202Z"
   },
   {
    "duration": 145,
    "start_time": "2023-04-04T18:58:08.217Z"
   },
   {
    "duration": 102,
    "start_time": "2023-04-04T18:58:08.364Z"
   },
   {
    "duration": 198,
    "start_time": "2023-04-04T18:58:08.467Z"
   },
   {
    "duration": 72,
    "start_time": "2023-04-04T19:15:49.264Z"
   },
   {
    "duration": 4,
    "start_time": "2023-04-04T19:17:22.632Z"
   },
   {
    "duration": 4,
    "start_time": "2023-04-04T19:18:26.429Z"
   },
   {
    "duration": 4,
    "start_time": "2023-04-04T19:19:25.233Z"
   },
   {
    "duration": 5,
    "start_time": "2023-04-04T19:20:38.200Z"
   },
   {
    "duration": 5,
    "start_time": "2023-04-04T19:20:49.622Z"
   },
   {
    "duration": 4,
    "start_time": "2023-04-04T19:20:58.028Z"
   },
   {
    "duration": 15,
    "start_time": "2023-04-04T19:22:38.431Z"
   },
   {
    "duration": 50,
    "start_time": "2023-04-04T19:27:42.445Z"
   },
   {
    "duration": 6,
    "start_time": "2023-04-04T19:30:01.184Z"
   },
   {
    "duration": 3,
    "start_time": "2023-04-04T19:30:29.219Z"
   },
   {
    "duration": 10,
    "start_time": "2023-04-04T19:35:46.668Z"
   },
   {
    "duration": 5,
    "start_time": "2023-04-04T19:35:59.909Z"
   },
   {
    "duration": 15,
    "start_time": "2023-04-04T19:40:30.079Z"
   },
   {
    "duration": 4,
    "start_time": "2023-04-04T19:40:43.238Z"
   },
   {
    "duration": 13,
    "start_time": "2023-04-05T08:24:49.369Z"
   },
   {
    "duration": 136,
    "start_time": "2023-04-05T08:25:19.405Z"
   },
   {
    "duration": 274,
    "start_time": "2023-04-05T08:25:30.980Z"
   },
   {
    "duration": 46,
    "start_time": "2023-04-05T08:29:38.484Z"
   },
   {
    "duration": 3403,
    "start_time": "2023-04-05T08:29:42.529Z"
   },
   {
    "duration": 9,
    "start_time": "2023-04-05T08:29:45.935Z"
   },
   {
    "duration": 24,
    "start_time": "2023-04-05T08:29:45.946Z"
   },
   {
    "duration": 17,
    "start_time": "2023-04-05T08:29:45.972Z"
   },
   {
    "duration": 4,
    "start_time": "2023-04-05T08:29:45.991Z"
   },
   {
    "duration": 16,
    "start_time": "2023-04-05T08:29:45.997Z"
   },
   {
    "duration": 20,
    "start_time": "2023-04-05T08:29:46.033Z"
   },
   {
    "duration": 9,
    "start_time": "2023-04-05T08:29:46.055Z"
   },
   {
    "duration": 17,
    "start_time": "2023-04-05T08:29:46.066Z"
   },
   {
    "duration": 26,
    "start_time": "2023-04-05T08:29:46.086Z"
   },
   {
    "duration": 360,
    "start_time": "2023-04-05T08:29:46.114Z"
   },
   {
    "duration": 11,
    "start_time": "2023-04-05T08:29:46.475Z"
   },
   {
    "duration": 15,
    "start_time": "2023-04-05T08:29:46.488Z"
   },
   {
    "duration": 37,
    "start_time": "2023-04-05T08:29:46.505Z"
   },
   {
    "duration": 18,
    "start_time": "2023-04-05T08:29:46.545Z"
   },
   {
    "duration": 173,
    "start_time": "2023-04-05T08:29:46.565Z"
   },
   {
    "duration": 198,
    "start_time": "2023-04-05T08:29:46.740Z"
   },
   {
    "duration": 120,
    "start_time": "2023-04-05T08:29:46.940Z"
   },
   {
    "duration": 273,
    "start_time": "2023-04-05T08:29:47.063Z"
   },
   {
    "duration": 0,
    "start_time": "2023-04-05T08:29:47.339Z"
   },
   {
    "duration": 0,
    "start_time": "2023-04-05T08:29:47.341Z"
   },
   {
    "duration": 0,
    "start_time": "2023-04-05T08:29:47.342Z"
   },
   {
    "duration": 0,
    "start_time": "2023-04-05T08:29:47.344Z"
   },
   {
    "duration": 0,
    "start_time": "2023-04-05T08:29:47.345Z"
   },
   {
    "duration": 0,
    "start_time": "2023-04-05T08:29:47.347Z"
   },
   {
    "duration": 3,
    "start_time": "2023-04-05T08:30:25.370Z"
   },
   {
    "duration": 12,
    "start_time": "2023-04-05T08:30:29.209Z"
   },
   {
    "duration": 5,
    "start_time": "2023-04-05T08:30:31.993Z"
   },
   {
    "duration": 5,
    "start_time": "2023-04-05T08:30:33.111Z"
   },
   {
    "duration": 4,
    "start_time": "2023-04-05T08:30:36.110Z"
   },
   {
    "duration": 3,
    "start_time": "2023-04-05T08:30:38.816Z"
   },
   {
    "duration": 16,
    "start_time": "2023-04-05T08:30:46.463Z"
   },
   {
    "duration": 13,
    "start_time": "2023-04-05T08:31:34.610Z"
   },
   {
    "duration": 13,
    "start_time": "2023-04-05T08:33:03.918Z"
   },
   {
    "duration": 4,
    "start_time": "2023-04-05T08:36:45.251Z"
   },
   {
    "duration": 4,
    "start_time": "2023-04-05T08:37:14.394Z"
   },
   {
    "duration": 4,
    "start_time": "2023-04-05T08:37:38.258Z"
   },
   {
    "duration": 4,
    "start_time": "2023-04-05T08:38:34.218Z"
   },
   {
    "duration": 15,
    "start_time": "2023-04-05T08:43:41.349Z"
   },
   {
    "duration": 14,
    "start_time": "2023-04-05T08:44:20.895Z"
   },
   {
    "duration": 14,
    "start_time": "2023-04-05T08:45:00.140Z"
   },
   {
    "duration": 5,
    "start_time": "2023-04-05T08:47:21.858Z"
   },
   {
    "duration": 10,
    "start_time": "2023-04-05T08:47:50.785Z"
   },
   {
    "duration": 5,
    "start_time": "2023-04-05T08:51:28.759Z"
   },
   {
    "duration": 10,
    "start_time": "2023-04-05T08:51:54.550Z"
   },
   {
    "duration": 5,
    "start_time": "2023-04-05T08:52:11.149Z"
   },
   {
    "duration": 10,
    "start_time": "2023-04-05T08:52:27.614Z"
   },
   {
    "duration": 4,
    "start_time": "2023-04-05T08:54:29.004Z"
   },
   {
    "duration": 4,
    "start_time": "2023-04-05T08:55:59.650Z"
   },
   {
    "duration": 109,
    "start_time": "2023-04-05T08:56:09.139Z"
   },
   {
    "duration": 4,
    "start_time": "2023-04-05T08:56:12.874Z"
   },
   {
    "duration": 83,
    "start_time": "2023-04-05T08:56:15.746Z"
   },
   {
    "duration": 116,
    "start_time": "2023-04-05T08:56:44.154Z"
   },
   {
    "duration": 4,
    "start_time": "2023-04-05T08:56:48.146Z"
   },
   {
    "duration": 6,
    "start_time": "2023-04-05T08:57:02.050Z"
   },
   {
    "duration": 6,
    "start_time": "2023-04-05T08:58:04.257Z"
   },
   {
    "duration": 5,
    "start_time": "2023-04-05T08:58:09.840Z"
   },
   {
    "duration": 4,
    "start_time": "2023-04-05T08:58:52.673Z"
   },
   {
    "duration": 4,
    "start_time": "2023-04-05T08:59:04.209Z"
   },
   {
    "duration": 4,
    "start_time": "2023-04-05T09:04:23.588Z"
   },
   {
    "duration": 5,
    "start_time": "2023-04-05T09:04:46.131Z"
   },
   {
    "duration": 3,
    "start_time": "2023-04-05T09:07:56.921Z"
   },
   {
    "duration": 4,
    "start_time": "2023-04-05T09:08:18.456Z"
   },
   {
    "duration": 4,
    "start_time": "2023-04-05T09:08:33.759Z"
   },
   {
    "duration": 5,
    "start_time": "2023-04-05T09:08:39.335Z"
   },
   {
    "duration": 4,
    "start_time": "2023-04-05T09:13:02.814Z"
   },
   {
    "duration": 18,
    "start_time": "2023-04-05T09:13:35.372Z"
   },
   {
    "duration": 5,
    "start_time": "2023-04-05T09:13:54.068Z"
   },
   {
    "duration": 8,
    "start_time": "2023-04-05T09:13:55.300Z"
   },
   {
    "duration": 8,
    "start_time": "2023-04-05T09:14:21.604Z"
   },
   {
    "duration": 7,
    "start_time": "2023-04-05T09:14:41.116Z"
   },
   {
    "duration": 3,
    "start_time": "2023-04-05T09:14:50.356Z"
   },
   {
    "duration": 4,
    "start_time": "2023-04-05T09:18:12.376Z"
   },
   {
    "duration": 7,
    "start_time": "2023-04-05T09:18:57.969Z"
   },
   {
    "duration": 1891,
    "start_time": "2023-04-05T09:19:26.576Z"
   },
   {
    "duration": 1844,
    "start_time": "2023-04-05T09:19:58.946Z"
   },
   {
    "duration": 1967,
    "start_time": "2023-04-05T09:20:45.752Z"
   },
   {
    "duration": 1860,
    "start_time": "2023-04-05T09:20:50.815Z"
   },
   {
    "duration": 12,
    "start_time": "2023-04-05T09:22:24.134Z"
   },
   {
    "duration": 137,
    "start_time": "2023-04-05T09:22:49.965Z"
   },
   {
    "duration": 98,
    "start_time": "2023-04-05T09:23:10.966Z"
   },
   {
    "duration": 7,
    "start_time": "2023-04-05T09:30:08.872Z"
   },
   {
    "duration": 10,
    "start_time": "2023-04-05T09:31:14.454Z"
   },
   {
    "duration": 7,
    "start_time": "2023-04-05T09:31:31.438Z"
   },
   {
    "duration": 6,
    "start_time": "2023-04-05T09:31:49.789Z"
   },
   {
    "duration": 6,
    "start_time": "2023-04-05T09:32:01.853Z"
   },
   {
    "duration": 7,
    "start_time": "2023-04-05T09:32:18.005Z"
   },
   {
    "duration": 8,
    "start_time": "2023-04-05T09:32:39.517Z"
   },
   {
    "duration": 9,
    "start_time": "2023-04-05T09:32:51.196Z"
   },
   {
    "duration": 2333,
    "start_time": "2023-04-05T18:12:48.005Z"
   },
   {
    "duration": 6,
    "start_time": "2023-04-05T18:12:50.340Z"
   },
   {
    "duration": 22,
    "start_time": "2023-04-05T18:12:50.348Z"
   },
   {
    "duration": 21,
    "start_time": "2023-04-05T18:12:50.373Z"
   },
   {
    "duration": 4,
    "start_time": "2023-04-05T18:12:50.397Z"
   },
   {
    "duration": 15,
    "start_time": "2023-04-05T18:12:50.403Z"
   },
   {
    "duration": 35,
    "start_time": "2023-04-05T18:12:50.420Z"
   },
   {
    "duration": 5,
    "start_time": "2023-04-05T18:12:50.457Z"
   },
   {
    "duration": 21,
    "start_time": "2023-04-05T18:12:50.463Z"
   },
   {
    "duration": 21,
    "start_time": "2023-04-05T18:12:50.486Z"
   },
   {
    "duration": 322,
    "start_time": "2023-04-05T18:12:50.509Z"
   },
   {
    "duration": 15,
    "start_time": "2023-04-05T18:12:50.832Z"
   },
   {
    "duration": 16,
    "start_time": "2023-04-05T18:12:50.850Z"
   },
   {
    "duration": 20,
    "start_time": "2023-04-05T18:12:50.868Z"
   },
   {
    "duration": 19,
    "start_time": "2023-04-05T18:12:50.890Z"
   },
   {
    "duration": 59,
    "start_time": "2023-04-05T18:12:50.911Z"
   },
   {
    "duration": 202,
    "start_time": "2023-04-05T18:12:51.042Z"
   },
   {
    "duration": 195,
    "start_time": "2023-04-05T18:12:51.246Z"
   },
   {
    "duration": 94,
    "start_time": "2023-04-05T18:12:51.447Z"
   },
   {
    "duration": 39,
    "start_time": "2023-04-05T18:12:51.544Z"
   },
   {
    "duration": 15,
    "start_time": "2023-04-05T18:12:51.586Z"
   },
   {
    "duration": 26,
    "start_time": "2023-04-05T18:12:51.603Z"
   },
   {
    "duration": 16,
    "start_time": "2023-04-05T18:12:51.631Z"
   },
   {
    "duration": 8,
    "start_time": "2023-04-05T18:12:51.649Z"
   },
   {
    "duration": 29,
    "start_time": "2023-04-05T18:12:51.658Z"
   },
   {
    "duration": 25,
    "start_time": "2023-04-05T18:12:51.689Z"
   },
   {
    "duration": 4,
    "start_time": "2023-04-05T18:12:51.715Z"
   },
   {
    "duration": 51,
    "start_time": "2023-04-05T18:12:51.723Z"
   },
   {
    "duration": 27,
    "start_time": "2023-04-05T18:12:51.776Z"
   },
   {
    "duration": 36,
    "start_time": "2023-04-05T18:12:51.805Z"
   },
   {
    "duration": 53,
    "start_time": "2023-04-05T18:12:51.842Z"
   },
   {
    "duration": 18,
    "start_time": "2023-04-05T18:12:51.897Z"
   },
   {
    "duration": 12,
    "start_time": "2023-04-05T18:12:51.916Z"
   },
   {
    "duration": 17,
    "start_time": "2023-04-05T18:12:51.929Z"
   },
   {
    "duration": 15,
    "start_time": "2023-04-05T18:12:51.948Z"
   },
   {
    "duration": 19,
    "start_time": "2023-04-05T18:12:51.965Z"
   },
   {
    "duration": 15,
    "start_time": "2023-04-05T18:12:51.985Z"
   },
   {
    "duration": 4,
    "start_time": "2023-04-05T18:12:52.001Z"
   },
   {
    "duration": 42,
    "start_time": "2023-04-05T18:12:52.007Z"
   },
   {
    "duration": 26,
    "start_time": "2023-04-05T18:12:52.051Z"
   },
   {
    "duration": 7,
    "start_time": "2023-04-05T18:12:52.078Z"
   },
   {
    "duration": 18,
    "start_time": "2023-04-05T18:12:52.087Z"
   },
   {
    "duration": 5,
    "start_time": "2023-04-05T18:12:52.108Z"
   },
   {
    "duration": 8,
    "start_time": "2023-04-05T18:12:52.115Z"
   },
   {
    "duration": 5,
    "start_time": "2023-04-05T18:12:52.125Z"
   },
   {
    "duration": 5,
    "start_time": "2023-04-05T18:12:52.131Z"
   },
   {
    "duration": 22,
    "start_time": "2023-04-05T18:12:52.137Z"
   },
   {
    "duration": 10,
    "start_time": "2023-04-05T18:12:52.160Z"
   },
   {
    "duration": 7,
    "start_time": "2023-04-05T18:12:52.172Z"
   },
   {
    "duration": 6,
    "start_time": "2023-04-05T18:12:52.180Z"
   },
   {
    "duration": 16,
    "start_time": "2023-04-05T18:12:52.188Z"
   },
   {
    "duration": 1819,
    "start_time": "2023-04-05T18:12:52.206Z"
   },
   {
    "duration": 1892,
    "start_time": "2023-04-05T18:12:54.027Z"
   },
   {
    "duration": 1865,
    "start_time": "2023-04-05T18:12:55.921Z"
   },
   {
    "duration": 11,
    "start_time": "2023-04-05T18:12:57.788Z"
   },
   {
    "duration": 154,
    "start_time": "2023-04-05T18:12:57.801Z"
   },
   {
    "duration": 126,
    "start_time": "2023-04-05T18:12:57.957Z"
   },
   {
    "duration": 2362,
    "start_time": "2023-04-06T09:21:27.642Z"
   },
   {
    "duration": 7,
    "start_time": "2023-04-06T09:21:30.006Z"
   },
   {
    "duration": 38,
    "start_time": "2023-04-06T09:21:30.014Z"
   },
   {
    "duration": 38,
    "start_time": "2023-04-06T09:21:30.054Z"
   },
   {
    "duration": 21,
    "start_time": "2023-04-06T09:21:30.094Z"
   },
   {
    "duration": 31,
    "start_time": "2023-04-06T09:21:30.116Z"
   },
   {
    "duration": 43,
    "start_time": "2023-04-06T09:21:30.149Z"
   },
   {
    "duration": 34,
    "start_time": "2023-04-06T09:21:30.193Z"
   },
   {
    "duration": 42,
    "start_time": "2023-04-06T09:21:30.229Z"
   },
   {
    "duration": 46,
    "start_time": "2023-04-06T09:21:30.275Z"
   },
   {
    "duration": 260,
    "start_time": "2023-04-06T09:21:30.322Z"
   },
   {
    "duration": 11,
    "start_time": "2023-04-06T09:21:30.584Z"
   },
   {
    "duration": 37,
    "start_time": "2023-04-06T09:21:30.597Z"
   },
   {
    "duration": 39,
    "start_time": "2023-04-06T09:21:30.636Z"
   },
   {
    "duration": 29,
    "start_time": "2023-04-06T09:21:30.677Z"
   },
   {
    "duration": 63,
    "start_time": "2023-04-06T09:21:30.708Z"
   },
   {
    "duration": 196,
    "start_time": "2023-04-06T09:21:30.773Z"
   },
   {
    "duration": 105,
    "start_time": "2023-04-06T09:21:30.971Z"
   },
   {
    "duration": 90,
    "start_time": "2023-04-06T09:21:31.079Z"
   },
   {
    "duration": 102,
    "start_time": "2023-04-06T09:21:31.173Z"
   },
   {
    "duration": 22,
    "start_time": "2023-04-06T09:21:31.276Z"
   },
   {
    "duration": 18,
    "start_time": "2023-04-06T09:21:31.299Z"
   },
   {
    "duration": 30,
    "start_time": "2023-04-06T09:21:31.318Z"
   },
   {
    "duration": 32,
    "start_time": "2023-04-06T09:21:31.349Z"
   },
   {
    "duration": 55,
    "start_time": "2023-04-06T09:21:31.382Z"
   },
   {
    "duration": 30,
    "start_time": "2023-04-06T09:21:31.438Z"
   },
   {
    "duration": 35,
    "start_time": "2023-04-06T09:21:31.469Z"
   },
   {
    "duration": 23,
    "start_time": "2023-04-06T09:21:31.508Z"
   },
   {
    "duration": 29,
    "start_time": "2023-04-06T09:21:31.532Z"
   },
   {
    "duration": 12,
    "start_time": "2023-04-06T09:21:31.562Z"
   },
   {
    "duration": 36,
    "start_time": "2023-04-06T09:21:31.576Z"
   },
   {
    "duration": 31,
    "start_time": "2023-04-06T09:21:31.614Z"
   },
   {
    "duration": 3,
    "start_time": "2023-04-06T09:21:31.648Z"
   },
   {
    "duration": 21,
    "start_time": "2023-04-06T09:21:31.654Z"
   },
   {
    "duration": 35,
    "start_time": "2023-04-06T09:21:31.677Z"
   },
   {
    "duration": 18,
    "start_time": "2023-04-06T09:21:31.714Z"
   },
   {
    "duration": 31,
    "start_time": "2023-04-06T09:21:31.734Z"
   },
   {
    "duration": 5,
    "start_time": "2023-04-06T09:21:31.767Z"
   },
   {
    "duration": 12,
    "start_time": "2023-04-06T09:21:31.773Z"
   },
   {
    "duration": 7,
    "start_time": "2023-04-06T09:21:31.786Z"
   },
   {
    "duration": 33,
    "start_time": "2023-04-06T09:21:31.794Z"
   },
   {
    "duration": 8,
    "start_time": "2023-04-06T09:21:31.828Z"
   },
   {
    "duration": 32,
    "start_time": "2023-04-06T09:21:31.837Z"
   },
   {
    "duration": 24,
    "start_time": "2023-04-06T09:21:31.871Z"
   },
   {
    "duration": 15,
    "start_time": "2023-04-06T09:21:31.897Z"
   },
   {
    "duration": 25,
    "start_time": "2023-04-06T09:21:31.914Z"
   },
   {
    "duration": 16,
    "start_time": "2023-04-06T09:21:31.940Z"
   },
   {
    "duration": 15,
    "start_time": "2023-04-06T09:21:31.958Z"
   },
   {
    "duration": 6,
    "start_time": "2023-04-06T09:21:31.974Z"
   },
   {
    "duration": 8,
    "start_time": "2023-04-06T09:21:31.982Z"
   },
   {
    "duration": 18,
    "start_time": "2023-04-06T09:21:31.991Z"
   },
   {
    "duration": 149,
    "start_time": "2023-04-06T09:21:32.011Z"
   },
   {
    "duration": 0,
    "start_time": "2023-04-06T09:21:32.162Z"
   },
   {
    "duration": 0,
    "start_time": "2023-04-06T09:21:32.163Z"
   },
   {
    "duration": 0,
    "start_time": "2023-04-06T09:21:32.168Z"
   },
   {
    "duration": 0,
    "start_time": "2023-04-06T09:21:32.168Z"
   },
   {
    "duration": 0,
    "start_time": "2023-04-06T09:21:32.170Z"
   },
   {
    "duration": 9,
    "start_time": "2023-04-06T09:23:48.483Z"
   },
   {
    "duration": 1507,
    "start_time": "2023-04-06T09:23:55.580Z"
   },
   {
    "duration": 1640,
    "start_time": "2023-04-06T09:24:19.440Z"
   },
   {
    "duration": 1519,
    "start_time": "2023-04-06T09:24:24.283Z"
   },
   {
    "duration": 4,
    "start_time": "2023-04-06T10:01:43.609Z"
   },
   {
    "duration": 10,
    "start_time": "2023-04-06T10:01:51.830Z"
   },
   {
    "duration": 54,
    "start_time": "2023-04-06T19:12:50.620Z"
   },
   {
    "duration": 12,
    "start_time": "2023-04-06T19:13:37.437Z"
   },
   {
    "duration": 3787,
    "start_time": "2023-04-06T19:13:44.513Z"
   },
   {
    "duration": 6,
    "start_time": "2023-04-06T19:13:48.303Z"
   },
   {
    "duration": 20,
    "start_time": "2023-04-06T19:13:48.311Z"
   },
   {
    "duration": 19,
    "start_time": "2023-04-06T19:13:48.334Z"
   },
   {
    "duration": 5,
    "start_time": "2023-04-06T19:13:48.356Z"
   },
   {
    "duration": 16,
    "start_time": "2023-04-06T19:13:48.363Z"
   },
   {
    "duration": 24,
    "start_time": "2023-04-06T19:13:48.382Z"
   },
   {
    "duration": 4,
    "start_time": "2023-04-06T19:13:48.434Z"
   },
   {
    "duration": 13,
    "start_time": "2023-04-06T19:13:48.440Z"
   },
   {
    "duration": 21,
    "start_time": "2023-04-06T19:13:48.454Z"
   },
   {
    "duration": 336,
    "start_time": "2023-04-06T19:13:48.476Z"
   },
   {
    "duration": 21,
    "start_time": "2023-04-06T19:13:48.814Z"
   },
   {
    "duration": 28,
    "start_time": "2023-04-06T19:13:48.838Z"
   },
   {
    "duration": 22,
    "start_time": "2023-04-06T19:13:48.871Z"
   },
   {
    "duration": 38,
    "start_time": "2023-04-06T19:13:48.896Z"
   },
   {
    "duration": 110,
    "start_time": "2023-04-06T19:13:48.936Z"
   },
   {
    "duration": 100,
    "start_time": "2023-04-06T19:13:49.048Z"
   },
   {
    "duration": 106,
    "start_time": "2023-04-06T19:13:49.235Z"
   },
   {
    "duration": 198,
    "start_time": "2023-04-06T19:13:49.344Z"
   },
   {
    "duration": 17,
    "start_time": "2023-04-06T19:13:49.544Z"
   },
   {
    "duration": 13,
    "start_time": "2023-04-06T19:13:49.563Z"
   },
   {
    "duration": 17,
    "start_time": "2023-04-06T19:13:49.578Z"
   },
   {
    "duration": 13,
    "start_time": "2023-04-06T19:13:49.597Z"
   },
   {
    "duration": 15,
    "start_time": "2023-04-06T19:13:49.612Z"
   },
   {
    "duration": 33,
    "start_time": "2023-04-06T19:13:49.634Z"
   },
   {
    "duration": 13,
    "start_time": "2023-04-06T19:13:49.669Z"
   },
   {
    "duration": 6,
    "start_time": "2023-04-06T19:13:49.684Z"
   },
   {
    "duration": 28,
    "start_time": "2023-04-06T19:13:49.691Z"
   },
   {
    "duration": 25,
    "start_time": "2023-04-06T19:13:49.722Z"
   },
   {
    "duration": 4,
    "start_time": "2023-04-06T19:13:49.749Z"
   },
   {
    "duration": 23,
    "start_time": "2023-04-06T19:13:49.755Z"
   },
   {
    "duration": 17,
    "start_time": "2023-04-06T19:13:49.780Z"
   },
   {
    "duration": 6,
    "start_time": "2023-04-06T19:13:49.799Z"
   },
   {
    "duration": 5,
    "start_time": "2023-04-06T19:13:49.834Z"
   },
   {
    "duration": 12,
    "start_time": "2023-04-06T19:13:49.841Z"
   },
   {
    "duration": 5,
    "start_time": "2023-04-06T19:13:49.854Z"
   },
   {
    "duration": 16,
    "start_time": "2023-04-06T19:13:49.861Z"
   },
   {
    "duration": 4,
    "start_time": "2023-04-06T19:13:49.879Z"
   },
   {
    "duration": 49,
    "start_time": "2023-04-06T19:13:49.885Z"
   },
   {
    "duration": 4,
    "start_time": "2023-04-06T19:13:49.937Z"
   },
   {
    "duration": 10,
    "start_time": "2023-04-06T19:13:49.945Z"
   },
   {
    "duration": 8,
    "start_time": "2023-04-06T19:13:49.957Z"
   },
   {
    "duration": 13,
    "start_time": "2023-04-06T19:13:49.967Z"
   },
   {
    "duration": 10,
    "start_time": "2023-04-06T19:13:49.986Z"
   },
   {
    "duration": 11,
    "start_time": "2023-04-06T19:13:49.998Z"
   },
   {
    "duration": 5,
    "start_time": "2023-04-06T19:13:50.035Z"
   },
   {
    "duration": 14,
    "start_time": "2023-04-06T19:13:50.042Z"
   },
   {
    "duration": 15,
    "start_time": "2023-04-06T19:13:50.058Z"
   },
   {
    "duration": 11,
    "start_time": "2023-04-06T19:13:50.075Z"
   },
   {
    "duration": 4,
    "start_time": "2023-04-06T19:13:50.089Z"
   },
   {
    "duration": 14,
    "start_time": "2023-04-06T19:13:50.095Z"
   },
   {
    "duration": 1840,
    "start_time": "2023-04-06T19:13:50.133Z"
   },
   {
    "duration": 1887,
    "start_time": "2023-04-06T19:13:51.974Z"
   },
   {
    "duration": 1897,
    "start_time": "2023-04-06T19:13:53.862Z"
   },
   {
    "duration": 12,
    "start_time": "2023-04-06T19:13:55.761Z"
   },
   {
    "duration": 124,
    "start_time": "2023-04-06T19:13:55.775Z"
   },
   {
    "duration": 0,
    "start_time": "2023-04-06T19:13:55.900Z"
   },
   {
    "duration": 0,
    "start_time": "2023-04-06T19:13:55.902Z"
   },
   {
    "duration": 11,
    "start_time": "2023-04-06T19:31:09.741Z"
   },
   {
    "duration": 30,
    "start_time": "2023-04-06T19:32:02.606Z"
   },
   {
    "duration": 17,
    "start_time": "2023-04-06T19:33:46.546Z"
   },
   {
    "duration": 12,
    "start_time": "2023-04-06T19:37:43.363Z"
   },
   {
    "duration": 11,
    "start_time": "2023-04-06T19:37:56.556Z"
   },
   {
    "duration": 7,
    "start_time": "2023-04-06T19:38:07.046Z"
   },
   {
    "duration": 9,
    "start_time": "2023-04-06T19:39:08.662Z"
   },
   {
    "duration": 41,
    "start_time": "2023-04-06T19:39:12.315Z"
   },
   {
    "duration": 11,
    "start_time": "2023-04-06T19:39:32.007Z"
   },
   {
    "duration": 2052,
    "start_time": "2023-04-06T19:39:35.687Z"
   },
   {
    "duration": 2576,
    "start_time": "2023-04-07T08:23:47.297Z"
   },
   {
    "duration": 6,
    "start_time": "2023-04-07T08:23:49.876Z"
   },
   {
    "duration": 29,
    "start_time": "2023-04-07T08:23:49.883Z"
   },
   {
    "duration": 34,
    "start_time": "2023-04-07T08:23:49.914Z"
   },
   {
    "duration": 5,
    "start_time": "2023-04-07T08:23:49.950Z"
   },
   {
    "duration": 33,
    "start_time": "2023-04-07T08:23:49.956Z"
   },
   {
    "duration": 22,
    "start_time": "2023-04-07T08:23:49.992Z"
   },
   {
    "duration": 4,
    "start_time": "2023-04-07T08:23:50.016Z"
   },
   {
    "duration": 16,
    "start_time": "2023-04-07T08:23:50.022Z"
   },
   {
    "duration": 21,
    "start_time": "2023-04-07T08:23:50.041Z"
   },
   {
    "duration": 344,
    "start_time": "2023-04-07T08:23:50.064Z"
   },
   {
    "duration": 23,
    "start_time": "2023-04-07T08:23:50.410Z"
   },
   {
    "duration": 30,
    "start_time": "2023-04-07T08:23:50.435Z"
   },
   {
    "duration": 32,
    "start_time": "2023-04-07T08:23:50.467Z"
   },
   {
    "duration": 42,
    "start_time": "2023-04-07T08:23:50.502Z"
   },
   {
    "duration": 181,
    "start_time": "2023-04-07T08:23:50.546Z"
   },
   {
    "duration": 95,
    "start_time": "2023-04-07T08:23:50.729Z"
   },
   {
    "duration": 103,
    "start_time": "2023-04-07T08:23:50.827Z"
   },
   {
    "duration": 92,
    "start_time": "2023-04-07T08:23:50.932Z"
   },
   {
    "duration": 112,
    "start_time": "2023-04-07T08:23:51.026Z"
   },
   {
    "duration": 13,
    "start_time": "2023-04-07T08:23:51.140Z"
   },
   {
    "duration": 31,
    "start_time": "2023-04-07T08:23:51.156Z"
   },
   {
    "duration": 36,
    "start_time": "2023-04-07T08:23:51.189Z"
   },
   {
    "duration": 43,
    "start_time": "2023-04-07T08:23:51.227Z"
   },
   {
    "duration": 43,
    "start_time": "2023-04-07T08:23:51.272Z"
   },
   {
    "duration": 21,
    "start_time": "2023-04-07T08:23:51.317Z"
   },
   {
    "duration": 20,
    "start_time": "2023-04-07T08:23:51.340Z"
   },
   {
    "duration": 49,
    "start_time": "2023-04-07T08:23:51.364Z"
   },
   {
    "duration": 37,
    "start_time": "2023-04-07T08:23:51.414Z"
   },
   {
    "duration": 25,
    "start_time": "2023-04-07T08:23:51.452Z"
   },
   {
    "duration": 34,
    "start_time": "2023-04-07T08:23:51.479Z"
   },
   {
    "duration": 18,
    "start_time": "2023-04-07T08:23:51.515Z"
   },
   {
    "duration": 11,
    "start_time": "2023-04-07T08:23:51.535Z"
   },
   {
    "duration": 29,
    "start_time": "2023-04-07T08:23:51.548Z"
   },
   {
    "duration": 37,
    "start_time": "2023-04-07T08:23:51.579Z"
   },
   {
    "duration": 38,
    "start_time": "2023-04-07T08:23:51.618Z"
   },
   {
    "duration": 43,
    "start_time": "2023-04-07T08:23:51.658Z"
   },
   {
    "duration": 14,
    "start_time": "2023-04-07T08:23:51.703Z"
   },
   {
    "duration": 28,
    "start_time": "2023-04-07T08:23:51.719Z"
   },
   {
    "duration": 36,
    "start_time": "2023-04-07T08:23:51.749Z"
   },
   {
    "duration": 31,
    "start_time": "2023-04-07T08:23:51.787Z"
   },
   {
    "duration": 36,
    "start_time": "2023-04-07T08:23:51.820Z"
   },
   {
    "duration": 24,
    "start_time": "2023-04-07T08:23:51.858Z"
   },
   {
    "duration": 29,
    "start_time": "2023-04-07T08:23:51.884Z"
   },
   {
    "duration": 7,
    "start_time": "2023-04-07T08:23:51.915Z"
   },
   {
    "duration": 40,
    "start_time": "2023-04-07T08:23:51.924Z"
   },
   {
    "duration": 38,
    "start_time": "2023-04-07T08:23:51.966Z"
   },
   {
    "duration": 20,
    "start_time": "2023-04-07T08:23:52.007Z"
   },
   {
    "duration": 23,
    "start_time": "2023-04-07T08:23:52.029Z"
   },
   {
    "duration": 8,
    "start_time": "2023-04-07T08:23:52.054Z"
   },
   {
    "duration": 28,
    "start_time": "2023-04-07T08:23:52.063Z"
   },
   {
    "duration": 1906,
    "start_time": "2023-04-07T08:23:52.092Z"
   },
   {
    "duration": 1908,
    "start_time": "2023-04-07T08:23:54.000Z"
   },
   {
    "duration": 1867,
    "start_time": "2023-04-07T08:23:55.909Z"
   },
   {
    "duration": 45,
    "start_time": "2023-04-07T08:23:57.778Z"
   },
   {
    "duration": 0,
    "start_time": "2023-04-07T08:23:57.825Z"
   },
   {
    "duration": 0,
    "start_time": "2023-04-07T08:23:57.827Z"
   },
   {
    "duration": 0,
    "start_time": "2023-04-07T08:23:57.828Z"
   },
   {
    "duration": 128,
    "start_time": "2023-04-07T08:24:26.392Z"
   },
   {
    "duration": 3,
    "start_time": "2023-04-07T08:24:42.945Z"
   },
   {
    "duration": 8,
    "start_time": "2023-04-07T08:24:43.905Z"
   },
   {
    "duration": 11,
    "start_time": "2023-04-07T08:55:27.968Z"
   },
   {
    "duration": 8,
    "start_time": "2023-04-07T08:55:50.787Z"
   },
   {
    "duration": 1869,
    "start_time": "2023-04-07T08:55:55.496Z"
   },
   {
    "duration": 2002,
    "start_time": "2023-04-07T08:55:59.247Z"
   },
   {
    "duration": 1887,
    "start_time": "2023-04-07T08:56:03.471Z"
   },
   {
    "duration": 3,
    "start_time": "2023-04-07T08:56:07.337Z"
   },
   {
    "duration": 11,
    "start_time": "2023-04-07T08:56:08.070Z"
   },
   {
    "duration": 128,
    "start_time": "2023-04-07T09:12:54.536Z"
   },
   {
    "duration": 81,
    "start_time": "2023-04-07T09:13:06.408Z"
   },
   {
    "duration": 399,
    "start_time": "2023-04-07T09:14:08.250Z"
   },
   {
    "duration": 5,
    "start_time": "2023-04-07T09:14:08.651Z"
   },
   {
    "duration": 12,
    "start_time": "2023-04-07T09:14:08.658Z"
   },
   {
    "duration": 23,
    "start_time": "2023-04-07T09:14:08.673Z"
   },
   {
    "duration": 4,
    "start_time": "2023-04-07T09:14:08.699Z"
   },
   {
    "duration": 13,
    "start_time": "2023-04-07T09:14:08.724Z"
   },
   {
    "duration": 61,
    "start_time": "2023-04-07T09:14:08.739Z"
   },
   {
    "duration": 26,
    "start_time": "2023-04-07T09:14:08.803Z"
   },
   {
    "duration": 12,
    "start_time": "2023-04-07T09:14:08.831Z"
   },
   {
    "duration": 20,
    "start_time": "2023-04-07T09:14:08.847Z"
   },
   {
    "duration": 285,
    "start_time": "2023-04-07T09:14:08.869Z"
   },
   {
    "duration": 12,
    "start_time": "2023-04-07T09:14:09.155Z"
   },
   {
    "duration": 21,
    "start_time": "2023-04-07T09:14:09.169Z"
   },
   {
    "duration": 31,
    "start_time": "2023-04-07T09:14:09.192Z"
   },
   {
    "duration": 15,
    "start_time": "2023-04-07T09:14:09.225Z"
   },
   {
    "duration": 89,
    "start_time": "2023-04-07T09:14:09.242Z"
   },
   {
    "duration": 99,
    "start_time": "2023-04-07T09:14:09.334Z"
   },
   {
    "duration": 196,
    "start_time": "2023-04-07T09:14:09.434Z"
   },
   {
    "duration": 95,
    "start_time": "2023-04-07T09:14:09.635Z"
   },
   {
    "duration": 17,
    "start_time": "2023-04-07T09:14:09.732Z"
   },
   {
    "duration": 13,
    "start_time": "2023-04-07T09:14:09.751Z"
   },
   {
    "duration": 39,
    "start_time": "2023-04-07T09:14:09.766Z"
   },
   {
    "duration": 25,
    "start_time": "2023-04-07T09:14:09.824Z"
   },
   {
    "duration": 10,
    "start_time": "2023-04-07T09:14:09.851Z"
   },
   {
    "duration": 42,
    "start_time": "2023-04-07T09:14:09.863Z"
   },
   {
    "duration": 21,
    "start_time": "2023-04-07T09:14:09.907Z"
   },
   {
    "duration": 14,
    "start_time": "2023-04-07T09:14:09.930Z"
   },
   {
    "duration": 40,
    "start_time": "2023-04-07T09:14:09.948Z"
   },
   {
    "duration": 33,
    "start_time": "2023-04-07T09:14:09.990Z"
   },
   {
    "duration": 9,
    "start_time": "2023-04-07T09:14:10.025Z"
   },
   {
    "duration": 44,
    "start_time": "2023-04-07T09:14:10.036Z"
   },
   {
    "duration": 29,
    "start_time": "2023-04-07T09:14:10.081Z"
   },
   {
    "duration": 12,
    "start_time": "2023-04-07T09:14:10.112Z"
   },
   {
    "duration": 21,
    "start_time": "2023-04-07T09:14:10.126Z"
   },
   {
    "duration": 21,
    "start_time": "2023-04-07T09:14:10.149Z"
   },
   {
    "duration": 12,
    "start_time": "2023-04-07T09:14:10.172Z"
   },
   {
    "duration": 23,
    "start_time": "2023-04-07T09:14:10.186Z"
   },
   {
    "duration": 8,
    "start_time": "2023-04-07T09:14:10.211Z"
   },
   {
    "duration": 32,
    "start_time": "2023-04-07T09:14:10.221Z"
   },
   {
    "duration": 5,
    "start_time": "2023-04-07T09:14:10.256Z"
   },
   {
    "duration": 19,
    "start_time": "2023-04-07T09:14:10.263Z"
   },
   {
    "duration": 22,
    "start_time": "2023-04-07T09:14:10.284Z"
   },
   {
    "duration": 9,
    "start_time": "2023-04-07T09:14:10.309Z"
   },
   {
    "duration": 9,
    "start_time": "2023-04-07T09:14:10.320Z"
   },
   {
    "duration": 10,
    "start_time": "2023-04-07T09:14:10.332Z"
   },
   {
    "duration": 16,
    "start_time": "2023-04-07T09:14:10.344Z"
   },
   {
    "duration": 28,
    "start_time": "2023-04-07T09:14:10.363Z"
   },
   {
    "duration": 8,
    "start_time": "2023-04-07T09:14:10.393Z"
   },
   {
    "duration": 9,
    "start_time": "2023-04-07T09:14:10.404Z"
   },
   {
    "duration": 4,
    "start_time": "2023-04-07T09:14:10.423Z"
   },
   {
    "duration": 10,
    "start_time": "2023-04-07T09:14:10.429Z"
   },
   {
    "duration": 1795,
    "start_time": "2023-04-07T09:14:10.441Z"
   },
   {
    "duration": 1735,
    "start_time": "2023-04-07T09:14:12.238Z"
   },
   {
    "duration": 1932,
    "start_time": "2023-04-07T09:14:13.975Z"
   },
   {
    "duration": 3,
    "start_time": "2023-04-07T09:14:15.909Z"
   },
   {
    "duration": 11,
    "start_time": "2023-04-07T09:14:15.924Z"
   },
   {
    "duration": 0,
    "start_time": "2023-04-07T09:14:15.937Z"
   },
   {
    "duration": 0,
    "start_time": "2023-04-07T09:14:15.938Z"
   },
   {
    "duration": 2,
    "start_time": "2023-04-07T09:14:33.095Z"
   },
   {
    "duration": 124,
    "start_time": "2023-04-07T09:14:34.206Z"
   },
   {
    "duration": 94,
    "start_time": "2023-04-07T09:14:35.238Z"
   },
   {
    "duration": 3496,
    "start_time": "2023-04-07T18:30:03.811Z"
   },
   {
    "duration": 5,
    "start_time": "2023-04-07T18:30:07.310Z"
   },
   {
    "duration": 21,
    "start_time": "2023-04-07T18:30:07.316Z"
   },
   {
    "duration": 14,
    "start_time": "2023-04-07T18:30:07.340Z"
   },
   {
    "duration": 3,
    "start_time": "2023-04-07T18:30:07.356Z"
   },
   {
    "duration": 18,
    "start_time": "2023-04-07T18:30:07.360Z"
   },
   {
    "duration": 39,
    "start_time": "2023-04-07T18:30:07.380Z"
   },
   {
    "duration": 9,
    "start_time": "2023-04-07T18:30:07.421Z"
   },
   {
    "duration": 23,
    "start_time": "2023-04-07T18:30:07.431Z"
   },
   {
    "duration": 20,
    "start_time": "2023-04-07T18:30:07.457Z"
   },
   {
    "duration": 287,
    "start_time": "2023-04-07T18:30:07.478Z"
   },
   {
    "duration": 11,
    "start_time": "2023-04-07T18:30:07.767Z"
   },
   {
    "duration": 18,
    "start_time": "2023-04-07T18:30:07.780Z"
   },
   {
    "duration": 15,
    "start_time": "2023-04-07T18:30:07.800Z"
   },
   {
    "duration": 35,
    "start_time": "2023-04-07T18:30:07.817Z"
   },
   {
    "duration": 95,
    "start_time": "2023-04-07T18:30:07.855Z"
   },
   {
    "duration": 197,
    "start_time": "2023-04-07T18:30:07.952Z"
   },
   {
    "duration": 104,
    "start_time": "2023-04-07T18:30:08.151Z"
   },
   {
    "duration": 91,
    "start_time": "2023-04-07T18:30:08.256Z"
   },
   {
    "duration": 109,
    "start_time": "2023-04-07T18:30:08.348Z"
   },
   {
    "duration": 14,
    "start_time": "2023-04-07T18:30:08.459Z"
   },
   {
    "duration": 4,
    "start_time": "2023-04-07T18:30:08.475Z"
   },
   {
    "duration": 10,
    "start_time": "2023-04-07T18:30:08.481Z"
   },
   {
    "duration": 8,
    "start_time": "2023-04-07T18:30:08.493Z"
   },
   {
    "duration": 22,
    "start_time": "2023-04-07T18:30:08.503Z"
   },
   {
    "duration": 28,
    "start_time": "2023-04-07T18:30:08.526Z"
   },
   {
    "duration": 3,
    "start_time": "2023-04-07T18:30:08.556Z"
   },
   {
    "duration": 22,
    "start_time": "2023-04-07T18:30:08.563Z"
   },
   {
    "duration": 12,
    "start_time": "2023-04-07T18:30:08.587Z"
   },
   {
    "duration": 24,
    "start_time": "2023-04-07T18:30:08.601Z"
   },
   {
    "duration": 22,
    "start_time": "2023-04-07T18:30:08.627Z"
   },
   {
    "duration": 24,
    "start_time": "2023-04-07T18:30:08.651Z"
   },
   {
    "duration": 4,
    "start_time": "2023-04-07T18:30:08.677Z"
   },
   {
    "duration": 9,
    "start_time": "2023-04-07T18:30:08.682Z"
   },
   {
    "duration": 16,
    "start_time": "2023-04-07T18:30:08.692Z"
   },
   {
    "duration": 20,
    "start_time": "2023-04-07T18:30:08.709Z"
   },
   {
    "duration": 24,
    "start_time": "2023-04-07T18:30:08.730Z"
   },
   {
    "duration": 5,
    "start_time": "2023-04-07T18:30:08.755Z"
   },
   {
    "duration": 35,
    "start_time": "2023-04-07T18:30:08.761Z"
   },
   {
    "duration": 11,
    "start_time": "2023-04-07T18:30:08.798Z"
   },
   {
    "duration": 6,
    "start_time": "2023-04-07T18:30:08.811Z"
   },
   {
    "duration": 26,
    "start_time": "2023-04-07T18:30:08.818Z"
   },
   {
    "duration": 26,
    "start_time": "2023-04-07T18:30:08.846Z"
   },
   {
    "duration": 28,
    "start_time": "2023-04-07T18:30:08.874Z"
   },
   {
    "duration": 27,
    "start_time": "2023-04-07T18:30:08.904Z"
   },
   {
    "duration": 44,
    "start_time": "2023-04-07T18:30:08.933Z"
   },
   {
    "duration": 42,
    "start_time": "2023-04-07T18:30:08.979Z"
   },
   {
    "duration": 14,
    "start_time": "2023-04-07T18:30:09.023Z"
   },
   {
    "duration": 29,
    "start_time": "2023-04-07T18:30:09.038Z"
   },
   {
    "duration": 6,
    "start_time": "2023-04-07T18:30:09.069Z"
   },
   {
    "duration": 18,
    "start_time": "2023-04-07T18:30:09.077Z"
   },
   {
    "duration": 1672,
    "start_time": "2023-04-07T18:30:09.096Z"
   },
   {
    "duration": 1780,
    "start_time": "2023-04-07T18:30:10.770Z"
   },
   {
    "duration": 1662,
    "start_time": "2023-04-07T18:30:12.552Z"
   },
   {
    "duration": 3,
    "start_time": "2023-04-07T18:30:14.216Z"
   },
   {
    "duration": 133,
    "start_time": "2023-04-07T18:30:14.220Z"
   },
   {
    "duration": 103,
    "start_time": "2023-04-07T18:30:14.355Z"
   },
   {
    "duration": 125,
    "start_time": "2023-04-07T18:31:28.633Z"
   },
   {
    "duration": 437,
    "start_time": "2023-04-07T18:31:41.111Z"
   },
   {
    "duration": 4,
    "start_time": "2023-04-07T18:31:41.551Z"
   },
   {
    "duration": 15,
    "start_time": "2023-04-07T18:31:41.557Z"
   },
   {
    "duration": 24,
    "start_time": "2023-04-07T18:31:41.576Z"
   },
   {
    "duration": 4,
    "start_time": "2023-04-07T18:31:41.602Z"
   },
   {
    "duration": 40,
    "start_time": "2023-04-07T18:31:41.608Z"
   },
   {
    "duration": 23,
    "start_time": "2023-04-07T18:31:41.650Z"
   },
   {
    "duration": 8,
    "start_time": "2023-04-07T18:31:41.674Z"
   },
   {
    "duration": 28,
    "start_time": "2023-04-07T18:31:41.684Z"
   },
   {
    "duration": 27,
    "start_time": "2023-04-07T18:31:41.716Z"
   },
   {
    "duration": 291,
    "start_time": "2023-04-07T18:31:41.744Z"
   },
   {
    "duration": 14,
    "start_time": "2023-04-07T18:31:42.037Z"
   },
   {
    "duration": 22,
    "start_time": "2023-04-07T18:31:42.053Z"
   },
   {
    "duration": 15,
    "start_time": "2023-04-07T18:31:42.076Z"
   },
   {
    "duration": 17,
    "start_time": "2023-04-07T18:31:42.093Z"
   },
   {
    "duration": 131,
    "start_time": "2023-04-07T18:31:42.111Z"
   },
   {
    "duration": 108,
    "start_time": "2023-04-07T18:31:42.244Z"
   },
   {
    "duration": 215,
    "start_time": "2023-04-07T18:31:42.354Z"
   },
   {
    "duration": 171,
    "start_time": "2023-04-07T18:31:42.571Z"
   },
   {
    "duration": 17,
    "start_time": "2023-04-07T18:31:42.744Z"
   },
   {
    "duration": 17,
    "start_time": "2023-04-07T18:31:42.763Z"
   },
   {
    "duration": 7,
    "start_time": "2023-04-07T18:31:42.782Z"
   },
   {
    "duration": 8,
    "start_time": "2023-04-07T18:31:42.791Z"
   },
   {
    "duration": 6,
    "start_time": "2023-04-07T18:31:42.802Z"
   },
   {
    "duration": 40,
    "start_time": "2023-04-07T18:31:42.810Z"
   },
   {
    "duration": 15,
    "start_time": "2023-04-07T18:31:42.852Z"
   },
   {
    "duration": 4,
    "start_time": "2023-04-07T18:31:42.869Z"
   },
   {
    "duration": 22,
    "start_time": "2023-04-07T18:31:42.877Z"
   },
   {
    "duration": 41,
    "start_time": "2023-04-07T18:31:42.901Z"
   },
   {
    "duration": 4,
    "start_time": "2023-04-07T18:31:42.944Z"
   },
   {
    "duration": 20,
    "start_time": "2023-04-07T18:31:42.950Z"
   },
   {
    "duration": 18,
    "start_time": "2023-04-07T18:31:42.972Z"
   },
   {
    "duration": 5,
    "start_time": "2023-04-07T18:31:42.992Z"
   },
   {
    "duration": 9,
    "start_time": "2023-04-07T18:31:42.999Z"
   },
   {
    "duration": 13,
    "start_time": "2023-04-07T18:31:43.041Z"
   },
   {
    "duration": 6,
    "start_time": "2023-04-07T18:31:43.056Z"
   },
   {
    "duration": 21,
    "start_time": "2023-04-07T18:31:43.065Z"
   },
   {
    "duration": 4,
    "start_time": "2023-04-07T18:31:43.088Z"
   },
   {
    "duration": 22,
    "start_time": "2023-04-07T18:31:43.094Z"
   },
   {
    "duration": 24,
    "start_time": "2023-04-07T18:31:43.118Z"
   },
   {
    "duration": 10,
    "start_time": "2023-04-07T18:31:43.144Z"
   },
   {
    "duration": 16,
    "start_time": "2023-04-07T18:31:43.156Z"
   },
   {
    "duration": 10,
    "start_time": "2023-04-07T18:31:43.174Z"
   },
   {
    "duration": 19,
    "start_time": "2023-04-07T18:31:43.186Z"
   },
   {
    "duration": 29,
    "start_time": "2023-04-07T18:31:43.207Z"
   },
   {
    "duration": 11,
    "start_time": "2023-04-07T18:31:43.238Z"
   },
   {
    "duration": 16,
    "start_time": "2023-04-07T18:31:43.251Z"
   },
   {
    "duration": 8,
    "start_time": "2023-04-07T18:31:43.269Z"
   },
   {
    "duration": 7,
    "start_time": "2023-04-07T18:31:43.279Z"
   },
   {
    "duration": 4,
    "start_time": "2023-04-07T18:31:43.288Z"
   },
   {
    "duration": 30,
    "start_time": "2023-04-07T18:31:43.294Z"
   },
   {
    "duration": 1859,
    "start_time": "2023-04-07T18:31:43.326Z"
   },
   {
    "duration": 1978,
    "start_time": "2023-04-07T18:31:45.187Z"
   },
   {
    "duration": 1782,
    "start_time": "2023-04-07T18:31:47.166Z"
   },
   {
    "duration": 17,
    "start_time": "2023-04-07T18:31:48.949Z"
   },
   {
    "duration": 0,
    "start_time": "2023-04-07T18:31:48.968Z"
   },
   {
    "duration": 0,
    "start_time": "2023-04-07T18:31:48.969Z"
   },
   {
    "duration": 16,
    "start_time": "2023-04-07T18:32:02.645Z"
   },
   {
    "duration": 13,
    "start_time": "2023-04-07T18:32:12.943Z"
   },
   {
    "duration": 16,
    "start_time": "2023-04-07T18:33:09.371Z"
   },
   {
    "duration": 17,
    "start_time": "2023-04-07T18:37:25.055Z"
   },
   {
    "duration": 15,
    "start_time": "2023-04-07T18:37:49.940Z"
   },
   {
    "duration": 13,
    "start_time": "2023-04-07T18:37:58.649Z"
   },
   {
    "duration": 15,
    "start_time": "2023-04-07T18:38:50.006Z"
   },
   {
    "duration": 13,
    "start_time": "2023-04-07T18:39:27.442Z"
   },
   {
    "duration": 12,
    "start_time": "2023-04-07T18:40:31.777Z"
   },
   {
    "duration": 15,
    "start_time": "2023-04-07T18:40:45.027Z"
   },
   {
    "duration": 12,
    "start_time": "2023-04-07T18:41:43.923Z"
   },
   {
    "duration": 15,
    "start_time": "2023-04-07T18:42:11.760Z"
   },
   {
    "duration": 13,
    "start_time": "2023-04-07T18:42:23.486Z"
   },
   {
    "duration": 15,
    "start_time": "2023-04-07T18:44:04.502Z"
   },
   {
    "duration": 22,
    "start_time": "2023-04-07T18:44:07.405Z"
   },
   {
    "duration": 19,
    "start_time": "2023-04-07T18:44:11.462Z"
   },
   {
    "duration": 16,
    "start_time": "2023-04-07T18:44:26.599Z"
   },
   {
    "duration": 14,
    "start_time": "2023-04-07T18:44:38.302Z"
   },
   {
    "duration": 14,
    "start_time": "2023-04-07T18:47:20.335Z"
   },
   {
    "duration": 126,
    "start_time": "2023-04-07T18:49:01.597Z"
   },
   {
    "duration": 100,
    "start_time": "2023-04-07T18:49:03.983Z"
   },
   {
    "duration": 16,
    "start_time": "2023-04-07T18:50:15.601Z"
   },
   {
    "duration": 12,
    "start_time": "2023-04-07T18:52:35.519Z"
   },
   {
    "duration": 14,
    "start_time": "2023-04-07T18:53:09.303Z"
   },
   {
    "duration": 13,
    "start_time": "2023-04-07T18:53:23.508Z"
   },
   {
    "duration": 83,
    "start_time": "2023-04-07T18:53:47.482Z"
   },
   {
    "duration": 13,
    "start_time": "2023-04-07T18:53:57.082Z"
   },
   {
    "duration": 78,
    "start_time": "2023-04-07T18:54:08.747Z"
   },
   {
    "duration": 75,
    "start_time": "2023-04-07T18:54:20.848Z"
   },
   {
    "duration": 21,
    "start_time": "2023-04-07T18:56:23.010Z"
   },
   {
    "duration": 13,
    "start_time": "2023-04-07T18:57:18.442Z"
   },
   {
    "duration": 13,
    "start_time": "2023-04-07T18:57:41.096Z"
   },
   {
    "duration": 15,
    "start_time": "2023-04-07T18:58:00.609Z"
   },
   {
    "duration": 14,
    "start_time": "2023-04-07T19:08:55.592Z"
   },
   {
    "duration": 14,
    "start_time": "2023-04-07T19:08:59.989Z"
   },
   {
    "duration": 14,
    "start_time": "2023-04-07T19:09:10.344Z"
   },
   {
    "duration": 15,
    "start_time": "2023-04-07T19:09:47.220Z"
   },
   {
    "duration": 17,
    "start_time": "2023-04-07T19:09:58.760Z"
   },
   {
    "duration": 12,
    "start_time": "2023-04-07T19:11:59.909Z"
   },
   {
    "duration": 1114,
    "start_time": "2023-04-07T19:12:25.986Z"
   },
   {
    "duration": 14,
    "start_time": "2023-04-07T19:21:54.187Z"
   },
   {
    "duration": 1666,
    "start_time": "2023-04-07T19:23:58.095Z"
   },
   {
    "duration": 2206,
    "start_time": "2023-04-07T19:25:33.768Z"
   },
   {
    "duration": 11,
    "start_time": "2023-04-07T19:25:54.237Z"
   },
   {
    "duration": 1803,
    "start_time": "2023-04-07T19:27:34.761Z"
   },
   {
    "duration": 95,
    "start_time": "2023-04-07T19:36:05.174Z"
   },
   {
    "duration": 16,
    "start_time": "2023-04-07T19:36:11.677Z"
   },
   {
    "duration": 13,
    "start_time": "2023-04-07T19:36:27.912Z"
   },
   {
    "duration": 12,
    "start_time": "2023-04-07T19:37:29.908Z"
   },
   {
    "duration": 12,
    "start_time": "2023-04-07T19:38:01.694Z"
   },
   {
    "duration": 11,
    "start_time": "2023-04-07T19:39:08.456Z"
   },
   {
    "duration": 13,
    "start_time": "2023-04-07T19:39:44.412Z"
   },
   {
    "duration": 12,
    "start_time": "2023-04-07T19:40:08.272Z"
   },
   {
    "duration": 13,
    "start_time": "2023-04-07T19:45:21.264Z"
   },
   {
    "duration": 12,
    "start_time": "2023-04-07T19:45:50.389Z"
   },
   {
    "duration": 12,
    "start_time": "2023-04-07T19:46:15.765Z"
   },
   {
    "duration": 12,
    "start_time": "2023-04-07T19:47:55.018Z"
   },
   {
    "duration": 11,
    "start_time": "2023-04-07T19:48:11.307Z"
   },
   {
    "duration": 11,
    "start_time": "2023-04-07T19:48:23.680Z"
   },
   {
    "duration": 13,
    "start_time": "2023-04-07T19:52:51.442Z"
   },
   {
    "duration": 13,
    "start_time": "2023-04-07T20:21:44.893Z"
   },
   {
    "duration": 22,
    "start_time": "2023-04-07T20:22:03.640Z"
   },
   {
    "duration": 13,
    "start_time": "2023-04-07T20:22:19.412Z"
   },
   {
    "duration": 12,
    "start_time": "2023-04-07T20:29:25.588Z"
   },
   {
    "duration": 13,
    "start_time": "2023-04-07T20:29:35.678Z"
   },
   {
    "duration": 2987,
    "start_time": "2023-04-08T19:19:37.109Z"
   },
   {
    "duration": 6,
    "start_time": "2023-04-08T19:19:40.097Z"
   },
   {
    "duration": 15,
    "start_time": "2023-04-08T19:19:40.104Z"
   },
   {
    "duration": 20,
    "start_time": "2023-04-08T19:19:40.120Z"
   },
   {
    "duration": 4,
    "start_time": "2023-04-08T19:19:40.141Z"
   },
   {
    "duration": 24,
    "start_time": "2023-04-08T19:19:40.146Z"
   },
   {
    "duration": 21,
    "start_time": "2023-04-08T19:19:40.171Z"
   },
   {
    "duration": 5,
    "start_time": "2023-04-08T19:19:40.194Z"
   },
   {
    "duration": 10,
    "start_time": "2023-04-08T19:19:40.200Z"
   },
   {
    "duration": 12,
    "start_time": "2023-04-08T19:19:40.212Z"
   },
   {
    "duration": 264,
    "start_time": "2023-04-08T19:19:40.226Z"
   },
   {
    "duration": 10,
    "start_time": "2023-04-08T19:19:40.491Z"
   },
   {
    "duration": 16,
    "start_time": "2023-04-08T19:19:40.504Z"
   },
   {
    "duration": 26,
    "start_time": "2023-04-08T19:19:40.522Z"
   },
   {
    "duration": 14,
    "start_time": "2023-04-08T19:19:40.550Z"
   },
   {
    "duration": 81,
    "start_time": "2023-04-08T19:19:40.565Z"
   },
   {
    "duration": 189,
    "start_time": "2023-04-08T19:19:40.658Z"
   },
   {
    "duration": 195,
    "start_time": "2023-04-08T19:19:40.849Z"
   },
   {
    "duration": 188,
    "start_time": "2023-04-08T19:19:41.046Z"
   },
   {
    "duration": 13,
    "start_time": "2023-04-08T19:19:41.236Z"
   },
   {
    "duration": 5,
    "start_time": "2023-04-08T19:19:41.251Z"
   },
   {
    "duration": 8,
    "start_time": "2023-04-08T19:19:41.257Z"
   },
   {
    "duration": 7,
    "start_time": "2023-04-08T19:19:41.266Z"
   },
   {
    "duration": 13,
    "start_time": "2023-04-08T19:19:41.275Z"
   },
   {
    "duration": 21,
    "start_time": "2023-04-08T19:19:41.290Z"
   },
   {
    "duration": 22,
    "start_time": "2023-04-08T19:19:41.314Z"
   },
   {
    "duration": 4,
    "start_time": "2023-04-08T19:19:41.337Z"
   },
   {
    "duration": 12,
    "start_time": "2023-04-08T19:19:41.344Z"
   },
   {
    "duration": 13,
    "start_time": "2023-04-08T19:19:41.357Z"
   },
   {
    "duration": 3,
    "start_time": "2023-04-08T19:19:41.372Z"
   },
   {
    "duration": 16,
    "start_time": "2023-04-08T19:19:41.377Z"
   },
   {
    "duration": 50,
    "start_time": "2023-04-08T19:19:41.395Z"
   },
   {
    "duration": 3,
    "start_time": "2023-04-08T19:19:41.447Z"
   },
   {
    "duration": 6,
    "start_time": "2023-04-08T19:19:41.452Z"
   },
   {
    "duration": 9,
    "start_time": "2023-04-08T19:19:41.459Z"
   },
   {
    "duration": 3,
    "start_time": "2023-04-08T19:19:41.470Z"
   },
   {
    "duration": 9,
    "start_time": "2023-04-08T19:19:41.475Z"
   },
   {
    "duration": 4,
    "start_time": "2023-04-08T19:19:41.485Z"
   },
   {
    "duration": 9,
    "start_time": "2023-04-08T19:19:41.534Z"
   },
   {
    "duration": 7,
    "start_time": "2023-04-08T19:19:41.545Z"
   },
   {
    "duration": 5,
    "start_time": "2023-04-08T19:19:41.553Z"
   },
   {
    "duration": 5,
    "start_time": "2023-04-08T19:19:41.560Z"
   },
   {
    "duration": 5,
    "start_time": "2023-04-08T19:19:41.566Z"
   },
   {
    "duration": 5,
    "start_time": "2023-04-08T19:19:41.572Z"
   },
   {
    "duration": 5,
    "start_time": "2023-04-08T19:19:41.578Z"
   },
   {
    "duration": 5,
    "start_time": "2023-04-08T19:19:41.585Z"
   },
   {
    "duration": 11,
    "start_time": "2023-04-08T19:19:41.591Z"
   },
   {
    "duration": 34,
    "start_time": "2023-04-08T19:19:41.604Z"
   },
   {
    "duration": 7,
    "start_time": "2023-04-08T19:19:41.640Z"
   },
   {
    "duration": 4,
    "start_time": "2023-04-08T19:19:41.649Z"
   },
   {
    "duration": 82,
    "start_time": "2023-04-08T19:19:41.655Z"
   },
   {
    "duration": 0,
    "start_time": "2023-04-08T19:19:41.738Z"
   },
   {
    "duration": 0,
    "start_time": "2023-04-08T19:19:41.740Z"
   },
   {
    "duration": 0,
    "start_time": "2023-04-08T19:19:41.742Z"
   },
   {
    "duration": 0,
    "start_time": "2023-04-08T19:19:41.743Z"
   },
   {
    "duration": 0,
    "start_time": "2023-04-08T19:19:41.745Z"
   },
   {
    "duration": 0,
    "start_time": "2023-04-08T19:19:41.747Z"
   },
   {
    "duration": 0,
    "start_time": "2023-04-08T19:19:41.748Z"
   },
   {
    "duration": 8,
    "start_time": "2023-04-08T19:20:23.727Z"
   },
   {
    "duration": 1668,
    "start_time": "2023-04-08T19:20:30.714Z"
   },
   {
    "duration": 7,
    "start_time": "2023-04-08T19:20:51.361Z"
   },
   {
    "duration": 1558,
    "start_time": "2023-04-08T19:20:54.088Z"
   },
   {
    "duration": 6,
    "start_time": "2023-04-08T19:21:07.188Z"
   },
   {
    "duration": 1540,
    "start_time": "2023-04-08T19:21:10.122Z"
   },
   {
    "duration": 1541,
    "start_time": "2023-04-08T19:21:15.422Z"
   },
   {
    "duration": 11,
    "start_time": "2023-04-08T19:22:18.835Z"
   },
   {
    "duration": 1469,
    "start_time": "2023-04-08T19:22:31.374Z"
   },
   {
    "duration": 9,
    "start_time": "2023-04-08T19:22:36.440Z"
   },
   {
    "duration": 11,
    "start_time": "2023-04-08T19:23:16.955Z"
   },
   {
    "duration": 11,
    "start_time": "2023-04-08T19:32:33.025Z"
   },
   {
    "duration": 4729,
    "start_time": "2023-04-08T19:37:09.374Z"
   },
   {
    "duration": 5550,
    "start_time": "2023-04-08T19:40:22.215Z"
   },
   {
    "duration": 5485,
    "start_time": "2023-04-08T19:41:49.595Z"
   },
   {
    "duration": 115,
    "start_time": "2023-04-08T19:42:41.025Z"
   },
   {
    "duration": 55,
    "start_time": "2023-04-08T19:42:45.954Z"
   },
   {
    "duration": 5011,
    "start_time": "2023-04-08T19:45:36.146Z"
   },
   {
    "duration": 4985,
    "start_time": "2023-04-08T19:48:35.351Z"
   },
   {
    "duration": 5110,
    "start_time": "2023-04-08T19:50:39.353Z"
   },
   {
    "duration": 10,
    "start_time": "2023-04-08T19:51:45.069Z"
   },
   {
    "duration": 11,
    "start_time": "2023-04-08T19:52:42.166Z"
   },
   {
    "duration": 6,
    "start_time": "2023-04-08T19:55:24.642Z"
   },
   {
    "duration": 4,
    "start_time": "2023-04-08T19:56:02.944Z"
   },
   {
    "duration": 10,
    "start_time": "2023-04-08T19:56:24.975Z"
   },
   {
    "duration": 1431,
    "start_time": "2023-04-08T19:56:31.603Z"
   },
   {
    "duration": 9,
    "start_time": "2023-04-08T19:57:13.455Z"
   },
   {
    "duration": 1698,
    "start_time": "2023-04-08T19:57:16.985Z"
   },
   {
    "duration": 7,
    "start_time": "2023-04-08T20:00:09.107Z"
   },
   {
    "duration": 1491,
    "start_time": "2023-04-08T20:00:11.443Z"
   },
   {
    "duration": 359,
    "start_time": "2023-04-08T20:06:50.828Z"
   },
   {
    "duration": 4,
    "start_time": "2023-04-08T20:06:51.189Z"
   },
   {
    "duration": 24,
    "start_time": "2023-04-08T20:06:51.195Z"
   },
   {
    "duration": 23,
    "start_time": "2023-04-08T20:06:51.222Z"
   },
   {
    "duration": 4,
    "start_time": "2023-04-08T20:06:51.246Z"
   },
   {
    "duration": 42,
    "start_time": "2023-04-08T20:06:51.252Z"
   },
   {
    "duration": 20,
    "start_time": "2023-04-08T20:06:51.296Z"
   },
   {
    "duration": 4,
    "start_time": "2023-04-08T20:06:51.317Z"
   },
   {
    "duration": 10,
    "start_time": "2023-04-08T20:06:51.323Z"
   },
   {
    "duration": 24,
    "start_time": "2023-04-08T20:06:51.336Z"
   },
   {
    "duration": 253,
    "start_time": "2023-04-08T20:06:51.361Z"
   },
   {
    "duration": 10,
    "start_time": "2023-04-08T20:06:51.615Z"
   },
   {
    "duration": 18,
    "start_time": "2023-04-08T20:06:51.626Z"
   },
   {
    "duration": 11,
    "start_time": "2023-04-08T20:06:51.646Z"
   },
   {
    "duration": 13,
    "start_time": "2023-04-08T20:06:51.658Z"
   },
   {
    "duration": 73,
    "start_time": "2023-04-08T20:06:51.672Z"
   },
   {
    "duration": 98,
    "start_time": "2023-04-08T20:06:51.749Z"
   },
   {
    "duration": 192,
    "start_time": "2023-04-08T20:06:51.850Z"
   },
   {
    "duration": 194,
    "start_time": "2023-04-08T20:06:52.045Z"
   },
   {
    "duration": 22,
    "start_time": "2023-04-08T20:06:52.240Z"
   },
   {
    "duration": 11,
    "start_time": "2023-04-08T20:06:52.264Z"
   },
   {
    "duration": 5,
    "start_time": "2023-04-08T20:06:52.276Z"
   },
   {
    "duration": 13,
    "start_time": "2023-04-08T20:06:52.282Z"
   },
   {
    "duration": 5,
    "start_time": "2023-04-08T20:06:52.297Z"
   },
   {
    "duration": 13,
    "start_time": "2023-04-08T20:06:52.304Z"
   },
   {
    "duration": 18,
    "start_time": "2023-04-08T20:06:52.318Z"
   },
   {
    "duration": 5,
    "start_time": "2023-04-08T20:06:52.337Z"
   },
   {
    "duration": 10,
    "start_time": "2023-04-08T20:06:52.344Z"
   },
   {
    "duration": 10,
    "start_time": "2023-04-08T20:06:52.355Z"
   },
   {
    "duration": 5,
    "start_time": "2023-04-08T20:06:52.367Z"
   },
   {
    "duration": 13,
    "start_time": "2023-04-08T20:06:52.373Z"
   },
   {
    "duration": 10,
    "start_time": "2023-04-08T20:06:52.389Z"
   },
   {
    "duration": 5,
    "start_time": "2023-04-08T20:06:52.400Z"
   },
   {
    "duration": 29,
    "start_time": "2023-04-08T20:06:52.406Z"
   },
   {
    "duration": 11,
    "start_time": "2023-04-08T20:06:52.437Z"
   },
   {
    "duration": 7,
    "start_time": "2023-04-08T20:06:52.449Z"
   },
   {
    "duration": 14,
    "start_time": "2023-04-08T20:06:52.458Z"
   },
   {
    "duration": 5,
    "start_time": "2023-04-08T20:06:52.474Z"
   },
   {
    "duration": 9,
    "start_time": "2023-04-08T20:06:52.481Z"
   },
   {
    "duration": 4,
    "start_time": "2023-04-08T20:06:52.491Z"
   },
   {
    "duration": 10,
    "start_time": "2023-04-08T20:06:52.496Z"
   },
   {
    "duration": 26,
    "start_time": "2023-04-08T20:06:52.508Z"
   },
   {
    "duration": 3,
    "start_time": "2023-04-08T20:06:52.536Z"
   },
   {
    "duration": 5,
    "start_time": "2023-04-08T20:06:52.540Z"
   },
   {
    "duration": 12,
    "start_time": "2023-04-08T20:06:52.547Z"
   },
   {
    "duration": 5,
    "start_time": "2023-04-08T20:06:52.560Z"
   },
   {
    "duration": 10,
    "start_time": "2023-04-08T20:06:52.567Z"
   },
   {
    "duration": 6,
    "start_time": "2023-04-08T20:06:52.579Z"
   },
   {
    "duration": 9,
    "start_time": "2023-04-08T20:06:52.586Z"
   },
   {
    "duration": 4,
    "start_time": "2023-04-08T20:06:52.597Z"
   },
   {
    "duration": 32,
    "start_time": "2023-04-08T20:06:52.602Z"
   },
   {
    "duration": 1537,
    "start_time": "2023-04-08T20:06:52.636Z"
   },
   {
    "duration": 1601,
    "start_time": "2023-04-08T20:06:54.175Z"
   },
   {
    "duration": 1542,
    "start_time": "2023-04-08T20:06:55.778Z"
   },
   {
    "duration": 18,
    "start_time": "2023-04-08T20:06:57.322Z"
   },
   {
    "duration": 476,
    "start_time": "2023-04-08T20:10:27.270Z"
   },
   {
    "duration": 4,
    "start_time": "2023-04-08T20:10:27.748Z"
   },
   {
    "duration": 15,
    "start_time": "2023-04-08T20:10:27.754Z"
   },
   {
    "duration": 17,
    "start_time": "2023-04-08T20:10:27.771Z"
   },
   {
    "duration": 5,
    "start_time": "2023-04-08T20:10:27.790Z"
   },
   {
    "duration": 13,
    "start_time": "2023-04-08T20:10:27.796Z"
   },
   {
    "duration": 43,
    "start_time": "2023-04-08T20:10:27.811Z"
   },
   {
    "duration": 4,
    "start_time": "2023-04-08T20:10:27.855Z"
   },
   {
    "duration": 10,
    "start_time": "2023-04-08T20:10:27.861Z"
   },
   {
    "duration": 29,
    "start_time": "2023-04-08T20:10:27.873Z"
   },
   {
    "duration": 299,
    "start_time": "2023-04-08T20:10:27.903Z"
   },
   {
    "duration": 8,
    "start_time": "2023-04-08T20:10:28.204Z"
   },
   {
    "duration": 29,
    "start_time": "2023-04-08T20:10:28.214Z"
   },
   {
    "duration": 13,
    "start_time": "2023-04-08T20:10:28.246Z"
   },
   {
    "duration": 28,
    "start_time": "2023-04-08T20:10:28.261Z"
   },
   {
    "duration": 49,
    "start_time": "2023-04-08T20:10:28.291Z"
   },
   {
    "duration": 101,
    "start_time": "2023-04-08T20:10:28.341Z"
   },
   {
    "duration": 194,
    "start_time": "2023-04-08T20:10:28.445Z"
   },
   {
    "duration": 105,
    "start_time": "2023-04-08T20:10:28.641Z"
   },
   {
    "duration": 91,
    "start_time": "2023-04-08T20:10:28.749Z"
   },
   {
    "duration": 5,
    "start_time": "2023-04-08T20:10:28.842Z"
   },
   {
    "duration": 6,
    "start_time": "2023-04-08T20:10:28.849Z"
   },
   {
    "duration": 7,
    "start_time": "2023-04-08T20:10:28.857Z"
   },
   {
    "duration": 10,
    "start_time": "2023-04-08T20:10:28.865Z"
   },
   {
    "duration": 17,
    "start_time": "2023-04-08T20:10:28.877Z"
   },
   {
    "duration": 40,
    "start_time": "2023-04-08T20:10:28.895Z"
   },
   {
    "duration": 4,
    "start_time": "2023-04-08T20:10:28.937Z"
   },
   {
    "duration": 14,
    "start_time": "2023-04-08T20:10:28.943Z"
   },
   {
    "duration": 11,
    "start_time": "2023-04-08T20:10:28.959Z"
   },
   {
    "duration": 10,
    "start_time": "2023-04-08T20:10:28.972Z"
   },
   {
    "duration": 14,
    "start_time": "2023-04-08T20:10:28.983Z"
   },
   {
    "duration": 42,
    "start_time": "2023-04-08T20:10:28.998Z"
   },
   {
    "duration": 4,
    "start_time": "2023-04-08T20:10:29.041Z"
   },
   {
    "duration": 8,
    "start_time": "2023-04-08T20:10:29.047Z"
   },
   {
    "duration": 15,
    "start_time": "2023-04-08T20:10:29.056Z"
   },
   {
    "duration": 5,
    "start_time": "2023-04-08T20:10:29.072Z"
   },
   {
    "duration": 13,
    "start_time": "2023-04-08T20:10:29.079Z"
   },
   {
    "duration": 4,
    "start_time": "2023-04-08T20:10:29.095Z"
   },
   {
    "duration": 38,
    "start_time": "2023-04-08T20:10:29.101Z"
   },
   {
    "duration": 9,
    "start_time": "2023-04-08T20:10:29.141Z"
   },
   {
    "duration": 5,
    "start_time": "2023-04-08T20:10:29.155Z"
   },
   {
    "duration": 17,
    "start_time": "2023-04-08T20:10:29.162Z"
   },
   {
    "duration": 10,
    "start_time": "2023-04-08T20:10:29.181Z"
   },
   {
    "duration": 9,
    "start_time": "2023-04-08T20:10:29.192Z"
   },
   {
    "duration": 13,
    "start_time": "2023-04-08T20:10:29.202Z"
   },
   {
    "duration": 19,
    "start_time": "2023-04-08T20:10:29.217Z"
   },
   {
    "duration": 12,
    "start_time": "2023-04-08T20:10:29.238Z"
   },
   {
    "duration": 12,
    "start_time": "2023-04-08T20:10:29.252Z"
   },
   {
    "duration": 18,
    "start_time": "2023-04-08T20:10:29.266Z"
   },
   {
    "duration": 9,
    "start_time": "2023-04-08T20:10:29.286Z"
   },
   {
    "duration": 9,
    "start_time": "2023-04-08T20:10:29.297Z"
   },
   {
    "duration": 1697,
    "start_time": "2023-04-08T20:10:29.308Z"
   },
   {
    "duration": 1658,
    "start_time": "2023-04-08T20:10:31.007Z"
   },
   {
    "duration": 1573,
    "start_time": "2023-04-08T20:10:32.666Z"
   },
   {
    "duration": 457,
    "start_time": "2023-04-08T20:11:14.296Z"
   },
   {
    "duration": 4,
    "start_time": "2023-04-08T20:11:19.231Z"
   },
   {
    "duration": 10,
    "start_time": "2023-04-08T20:11:20.131Z"
   },
   {
    "duration": 3899,
    "start_time": "2023-04-09T15:42:33.075Z"
   },
   {
    "duration": 21,
    "start_time": "2023-04-09T15:42:36.983Z"
   },
   {
    "duration": 124,
    "start_time": "2023-04-09T15:42:37.011Z"
   },
   {
    "duration": 125,
    "start_time": "2023-04-09T15:42:37.139Z"
   },
   {
    "duration": 65,
    "start_time": "2023-04-09T15:42:37.271Z"
   },
   {
    "duration": 67,
    "start_time": "2023-04-09T15:42:37.338Z"
   },
   {
    "duration": 40,
    "start_time": "2023-04-09T15:42:37.407Z"
   },
   {
    "duration": 85,
    "start_time": "2023-04-09T15:42:37.452Z"
   },
   {
    "duration": 93,
    "start_time": "2023-04-09T15:42:37.539Z"
   },
   {
    "duration": 36,
    "start_time": "2023-04-09T15:42:37.635Z"
   },
   {
    "duration": 419,
    "start_time": "2023-04-09T15:42:37.676Z"
   },
   {
    "duration": 29,
    "start_time": "2023-04-09T15:42:38.100Z"
   },
   {
    "duration": 77,
    "start_time": "2023-04-09T15:42:38.131Z"
   },
   {
    "duration": 17,
    "start_time": "2023-04-09T15:42:38.216Z"
   },
   {
    "duration": 39,
    "start_time": "2023-04-09T15:42:38.235Z"
   },
   {
    "duration": 112,
    "start_time": "2023-04-09T15:42:38.276Z"
   },
   {
    "duration": 148,
    "start_time": "2023-04-09T15:42:38.400Z"
   },
   {
    "duration": 130,
    "start_time": "2023-04-09T15:42:38.562Z"
   },
   {
    "duration": 30,
    "start_time": "2023-04-09T15:42:38.783Z"
   },
   {
    "duration": 17,
    "start_time": "2023-04-09T15:42:38.816Z"
   },
   {
    "duration": 30,
    "start_time": "2023-04-09T15:42:38.835Z"
   },
   {
    "duration": 55,
    "start_time": "2023-04-09T15:42:38.867Z"
   },
   {
    "duration": 7,
    "start_time": "2023-04-09T15:42:38.924Z"
   },
   {
    "duration": 26,
    "start_time": "2023-04-09T15:42:38.933Z"
   },
   {
    "duration": 68,
    "start_time": "2023-04-09T15:42:38.963Z"
   },
   {
    "duration": 19,
    "start_time": "2023-04-09T15:42:39.033Z"
   },
   {
    "duration": 45,
    "start_time": "2023-04-09T15:42:39.058Z"
   },
   {
    "duration": 23,
    "start_time": "2023-04-09T15:42:39.112Z"
   },
   {
    "duration": 26,
    "start_time": "2023-04-09T15:42:39.137Z"
   },
   {
    "duration": 76,
    "start_time": "2023-04-09T15:42:39.165Z"
   },
   {
    "duration": 86,
    "start_time": "2023-04-09T15:42:39.243Z"
   },
   {
    "duration": 33,
    "start_time": "2023-04-09T15:42:39.331Z"
   },
   {
    "duration": 50,
    "start_time": "2023-04-09T15:42:39.366Z"
   },
   {
    "duration": 8,
    "start_time": "2023-04-09T15:42:39.418Z"
   },
   {
    "duration": 31,
    "start_time": "2023-04-09T15:42:39.427Z"
   },
   {
    "duration": 59,
    "start_time": "2023-04-09T15:42:39.460Z"
   },
   {
    "duration": 14,
    "start_time": "2023-04-09T15:42:39.521Z"
   },
   {
    "duration": 47,
    "start_time": "2023-04-09T15:42:39.538Z"
   },
   {
    "duration": 42,
    "start_time": "2023-04-09T15:42:39.590Z"
   },
   {
    "duration": 4,
    "start_time": "2023-04-09T15:42:39.634Z"
   },
   {
    "duration": 80,
    "start_time": "2023-04-09T15:42:39.640Z"
   },
   {
    "duration": 6,
    "start_time": "2023-04-09T15:42:39.722Z"
   },
   {
    "duration": 15,
    "start_time": "2023-04-09T15:42:39.730Z"
   },
   {
    "duration": 63,
    "start_time": "2023-04-09T15:42:39.755Z"
   },
   {
    "duration": 14,
    "start_time": "2023-04-09T15:42:39.821Z"
   },
   {
    "duration": 41,
    "start_time": "2023-04-09T15:42:39.837Z"
   },
   {
    "duration": 43,
    "start_time": "2023-04-09T15:42:39.880Z"
   },
   {
    "duration": 28,
    "start_time": "2023-04-09T15:42:39.926Z"
   },
   {
    "duration": 54,
    "start_time": "2023-04-09T15:42:39.970Z"
   },
   {
    "duration": 5,
    "start_time": "2023-04-09T15:42:40.026Z"
   },
   {
    "duration": 67,
    "start_time": "2023-04-09T15:42:40.032Z"
   },
   {
    "duration": 2388,
    "start_time": "2023-04-09T15:42:40.103Z"
   },
   {
    "duration": 2480,
    "start_time": "2023-04-09T15:42:42.496Z"
   },
   {
    "duration": 2482,
    "start_time": "2023-04-09T15:42:44.988Z"
   },
   {
    "duration": 8,
    "start_time": "2023-04-09T15:45:51.119Z"
   },
   {
    "duration": 2387,
    "start_time": "2023-04-09T15:45:52.444Z"
   },
   {
    "duration": 2393,
    "start_time": "2023-04-09T15:45:54.841Z"
   },
   {
    "duration": 2304,
    "start_time": "2023-04-09T15:45:57.237Z"
   },
   {
    "duration": 5,
    "start_time": "2023-04-09T15:46:10.223Z"
   },
   {
    "duration": 8,
    "start_time": "2023-04-09T15:46:18.200Z"
   },
   {
    "duration": 193,
    "start_time": "2023-04-09T15:46:24.430Z"
   },
   {
    "duration": 7,
    "start_time": "2023-04-09T15:46:30.901Z"
   },
   {
    "duration": 21,
    "start_time": "2023-04-09T15:46:41.490Z"
   },
   {
    "duration": 32,
    "start_time": "2023-04-09T15:47:18.438Z"
   }
  ],
  "kernelspec": {
   "display_name": "Python 3 (ipykernel)",
   "language": "python",
   "name": "python3"
  },
  "language_info": {
   "codemirror_mode": {
    "name": "ipython",
    "version": 3
   },
   "file_extension": ".py",
   "mimetype": "text/x-python",
   "name": "python",
   "nbconvert_exporter": "python",
   "pygments_lexer": "ipython3",
   "version": "3.10.9"
  },
  "toc": {
   "base_numbering": 1,
   "nav_menu": {},
   "number_sections": true,
   "sideBar": true,
   "skip_h1_title": true,
   "title_cell": "Table of Contents",
   "title_sidebar": "Contents",
   "toc_cell": false,
   "toc_position": {},
   "toc_section_display": true,
   "toc_window_display": false
  }
 },
 "nbformat": 4,
 "nbformat_minor": 2
}
