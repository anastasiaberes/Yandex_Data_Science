{
 "cells": [
  {
   "cell_type": "markdown",
   "id": "c585b92a",
   "metadata": {},
   "source": [
    "# Описание задачи"
   ]
  },
  {
   "cell_type": "markdown",
   "id": "c3db62b5",
   "metadata": {},
   "source": [
    "Чтобы оптимизировать производственные расходы, металлургический комбинат ООО «Так закаляем сталь» решил уменьшить потребление электроэнергии на этапе обработки стали. Вам предстоит построить модель, которая предскажет температуру стали."
   ]
  },
  {
   "cell_type": "markdown",
   "id": "2062d668",
   "metadata": {},
   "source": [
    "# Описание этапа обработки"
   ]
  },
  {
   "cell_type": "markdown",
   "id": "bbdc28f2",
   "metadata": {},
   "source": [
    "Сталь обрабатывают в металлическом ковше вместимостью около 100 тонн. Чтобы ковш выдерживал высокие температуры, изнутри его облицовывают огнеупорным кирпичом. Расплавленную сталь заливают в ковш и подогревают до нужной температуры графитовыми электродами. Они установлены в крышке ковша. \n",
    "\n",
    "Из сплава выводится сера (десульфурация), добавлением примесей корректируется химический состав и отбираются пробы. Сталь легируют — изменяют её состав — подавая куски сплава из бункера для сыпучих материалов или проволоку через специальный трайб-аппарат (англ. tribe, «масса»).\n",
    "\n",
    "Перед тем как первый раз ввести легирующие добавки, измеряют температуру стали и производят её химический анализ. Потом температуру на несколько минут повышают, добавляют легирующие материалы и продувают сплав инертным газом. Затем его перемешивают и снова проводят измерения. Такой цикл повторяется до достижения целевого химического состава и оптимальной температуры плавки.\n",
    "\n",
    "Тогда расплавленная сталь отправляется на доводку металла или поступает в машину непрерывной разливки. Оттуда готовый продукт выходит в виде заготовок-слябов (англ. slab, «плита»)."
   ]
  },
  {
   "cell_type": "markdown",
   "id": "f839118e",
   "metadata": {},
   "source": [
    "# Описание данных"
   ]
  },
  {
   "cell_type": "markdown",
   "id": "8f3778f9",
   "metadata": {},
   "source": [
    "Данные состоят из файлов, полученных из разных источников:\n",
    "\n",
    "data_arc_new.csv — данные об электродах;\n",
    "\n",
    "data_bulk_new.csv — данные о подаче сыпучих материалов (объём);\n",
    "\n",
    "data_bulk_time_new.csv — данные о подаче сыпучих материалов (время);\n",
    "\n",
    "data_gas_new.csv — данные о продувке сплава газом;\n",
    "\n",
    "data_temp_new.csv — результаты измерения температуры;\n",
    "\n",
    "data_wire_new.csv — данные о проволочных материалах (объём);\n",
    "\n",
    "data_wire_time_new.csv — данные о проволочных материалах (время).\n",
    "\n",
    "Во всех файлах столбец key содержит номер партии. В файлах может быть несколько строк с одинаковым значением key: они соответствуют разным итерациям обработки."
   ]
  },
  {
   "cell_type": "markdown",
   "id": "408b9849",
   "metadata": {},
   "source": [
    "# Цель"
   ]
  },
  {
   "cell_type": "markdown",
   "id": "15453853",
   "metadata": {},
   "source": [
    "Построить модель, которая предскажет температуру стали."
   ]
  },
  {
   "cell_type": "markdown",
   "id": "741197e9",
   "metadata": {},
   "source": [
    "# План работы"
   ]
  },
  {
   "cell_type": "markdown",
   "id": "ff8eb649",
   "metadata": {},
   "source": [
    "1. Описание проекта, задачи\n",
    "\n",
    "\n",
    "2. Изучение и подготовка данных:\n",
    "\n",
    "   2.1 Выгрузка данных\n",
    "   \n",
    "   2.2 Инициализация данных\n",
    "   \n",
    "   2.3 Анализ данных\n",
    "   \n",
    "   2.4 Описание данных\n",
    "   \n",
    "  \n",
    "3. Предобработка данных:\n",
    "\n",
    "   3.1 Проверка типов данных\n",
    "   \n",
    "   3.2 Работа с проспусками\n",
    "   \n",
    "   \n",
    "4. Подготовка данных:\n",
    "\n",
    "   4.1 Проверка на мультиколлинеарность\n",
    "   \n",
    "   4.2 Формирование итоговых датафреймов\n",
    "   \n",
    "   4.3 Формирование целевого и остальных признаков\n",
    "   \n",
    "   4.4 Формирвоание обучающих, валид и тест выборок\n",
    "   \n",
    "   \n",
    "5. Обучение моделей:\n",
    "\n",
    "   5.1 3-4 модели\n",
    "   \n",
    "   \n",
    "6. Тестирование моделей:\n",
    "\n",
    "   6.1 Анализ важности факторов\n",
    "   \n",
    "7. Итоговый вывод"
   ]
  },
  {
   "cell_type": "code",
   "execution_count": 1,
   "id": "f37fabdc",
   "metadata": {},
   "outputs": [
    {
     "name": "stdout",
     "output_type": "stream",
     "text": [
      "Requirement already satisfied: scikit-learn==1.1.3 in /opt/conda/lib/python3.9/site-packages (1.1.3)\n",
      "Requirement already satisfied: numpy>=1.17.3 in /opt/conda/lib/python3.9/site-packages (from scikit-learn==1.1.3) (1.21.1)\n",
      "Requirement already satisfied: scipy>=1.3.2 in /opt/conda/lib/python3.9/site-packages (from scikit-learn==1.1.3) (1.9.1)\n",
      "Requirement already satisfied: threadpoolctl>=2.0.0 in /opt/conda/lib/python3.9/site-packages (from scikit-learn==1.1.3) (3.1.0)\n",
      "Requirement already satisfied: joblib>=1.0.0 in /opt/conda/lib/python3.9/site-packages (from scikit-learn==1.1.3) (1.1.0)\n",
      "Requirement already satisfied: lightgbm in /opt/conda/lib/python3.9/site-packages (3.3.1)\n",
      "Requirement already satisfied: scipy in /opt/conda/lib/python3.9/site-packages (from lightgbm) (1.9.1)\n",
      "Requirement already satisfied: numpy in /opt/conda/lib/python3.9/site-packages (from lightgbm) (1.21.1)\n",
      "Requirement already satisfied: wheel in /opt/conda/lib/python3.9/site-packages (from lightgbm) (0.36.2)\n",
      "Requirement already satisfied: scikit-learn!=0.22.0 in /opt/conda/lib/python3.9/site-packages (from lightgbm) (1.1.3)\n",
      "Requirement already satisfied: threadpoolctl>=2.0.0 in /opt/conda/lib/python3.9/site-packages (from scikit-learn!=0.22.0->lightgbm) (3.1.0)\n",
      "Requirement already satisfied: joblib>=1.0.0 in /opt/conda/lib/python3.9/site-packages (from scikit-learn!=0.22.0->lightgbm) (1.1.0)\n"
     ]
    }
   ],
   "source": [
    "!pip install scikit-learn==1.1.3\n",
    "!pip install lightgbm"
   ]
  },
  {
   "cell_type": "code",
   "execution_count": 2,
   "id": "1b1d2170",
   "metadata": {},
   "outputs": [],
   "source": [
    "import pandas as pd\n",
    "import os\n",
    "import matplotlib.pyplot as plt\n",
    "import numpy as np\n",
    "import seaborn as sns\n",
    "import warnings\n",
    "warnings.filterwarnings('ignore')\n",
    "from sklearn.model_selection import train_test_split\n",
    "from sklearn.metrics import mean_absolute_error\n",
    "import time\n",
    "from sklearn.linear_model import LinearRegression\n",
    "from sklearn.pipeline import  make_pipeline\n",
    "from sklearn.preprocessing import StandardScaler, MinMaxScaler\n",
    "from sklearn.model_selection import GridSearchCV, cross_val_score, RandomizedSearchCV\n",
    "from sklearn.metrics import make_scorer\n",
    "from sklearn.ensemble import RandomForestRegressor\n",
    "from catboost import CatBoostRegressor\n",
    "from lightgbm import LGBMRegressor\n",
    "import lightgbm as lgb"
   ]
  },
  {
   "cell_type": "markdown",
   "id": "692790fb",
   "metadata": {},
   "source": [
    "# 1. Изучение и подготовка данных"
   ]
  },
  {
   "cell_type": "markdown",
   "id": "da719f1a",
   "metadata": {},
   "source": [
    "# Данные об электродах"
   ]
  },
  {
   "cell_type": "code",
   "execution_count": 3,
   "id": "83193566",
   "metadata": {},
   "outputs": [],
   "source": [
    "data_arc=pd.read_csv('/datasets/data_arc_new.csv')"
   ]
  },
  {
   "cell_type": "code",
   "execution_count": 4,
   "id": "ac9820b8",
   "metadata": {},
   "outputs": [
    {
     "data": {
      "text/html": [
       "<div>\n",
       "<style scoped>\n",
       "    .dataframe tbody tr th:only-of-type {\n",
       "        vertical-align: middle;\n",
       "    }\n",
       "\n",
       "    .dataframe tbody tr th {\n",
       "        vertical-align: top;\n",
       "    }\n",
       "\n",
       "    .dataframe thead th {\n",
       "        text-align: right;\n",
       "    }\n",
       "</style>\n",
       "<table border=\"1\" class=\"dataframe\">\n",
       "  <thead>\n",
       "    <tr style=\"text-align: right;\">\n",
       "      <th></th>\n",
       "      <th>key</th>\n",
       "      <th>Начало нагрева дугой</th>\n",
       "      <th>Конец нагрева дугой</th>\n",
       "      <th>Активная мощность</th>\n",
       "      <th>Реактивная мощность</th>\n",
       "    </tr>\n",
       "  </thead>\n",
       "  <tbody>\n",
       "    <tr>\n",
       "      <th>0</th>\n",
       "      <td>1</td>\n",
       "      <td>2019-05-03 11:02:14</td>\n",
       "      <td>2019-05-03 11:06:02</td>\n",
       "      <td>0.305130</td>\n",
       "      <td>0.211253</td>\n",
       "    </tr>\n",
       "    <tr>\n",
       "      <th>1</th>\n",
       "      <td>1</td>\n",
       "      <td>2019-05-03 11:07:28</td>\n",
       "      <td>2019-05-03 11:10:33</td>\n",
       "      <td>0.765658</td>\n",
       "      <td>0.477438</td>\n",
       "    </tr>\n",
       "    <tr>\n",
       "      <th>2</th>\n",
       "      <td>1</td>\n",
       "      <td>2019-05-03 11:11:44</td>\n",
       "      <td>2019-05-03 11:14:36</td>\n",
       "      <td>0.580313</td>\n",
       "      <td>0.430460</td>\n",
       "    </tr>\n",
       "    <tr>\n",
       "      <th>3</th>\n",
       "      <td>1</td>\n",
       "      <td>2019-05-03 11:18:14</td>\n",
       "      <td>2019-05-03 11:24:19</td>\n",
       "      <td>0.518496</td>\n",
       "      <td>0.379979</td>\n",
       "    </tr>\n",
       "    <tr>\n",
       "      <th>4</th>\n",
       "      <td>1</td>\n",
       "      <td>2019-05-03 11:26:09</td>\n",
       "      <td>2019-05-03 11:28:37</td>\n",
       "      <td>0.867133</td>\n",
       "      <td>0.643691</td>\n",
       "    </tr>\n",
       "  </tbody>\n",
       "</table>\n",
       "</div>"
      ],
      "text/plain": [
       "   key Начало нагрева дугой  Конец нагрева дугой  Активная мощность  \\\n",
       "0    1  2019-05-03 11:02:14  2019-05-03 11:06:02           0.305130   \n",
       "1    1  2019-05-03 11:07:28  2019-05-03 11:10:33           0.765658   \n",
       "2    1  2019-05-03 11:11:44  2019-05-03 11:14:36           0.580313   \n",
       "3    1  2019-05-03 11:18:14  2019-05-03 11:24:19           0.518496   \n",
       "4    1  2019-05-03 11:26:09  2019-05-03 11:28:37           0.867133   \n",
       "\n",
       "   Реактивная мощность  \n",
       "0             0.211253  \n",
       "1             0.477438  \n",
       "2             0.430460  \n",
       "3             0.379979  \n",
       "4             0.643691  "
      ]
     },
     "execution_count": 4,
     "metadata": {},
     "output_type": "execute_result"
    }
   ],
   "source": [
    "data_arc.head()"
   ]
  },
  {
   "cell_type": "code",
   "execution_count": 5,
   "id": "40e3934a",
   "metadata": {},
   "outputs": [
    {
     "name": "stdout",
     "output_type": "stream",
     "text": [
      "<class 'pandas.core.frame.DataFrame'>\n",
      "RangeIndex: 14876 entries, 0 to 14875\n",
      "Data columns (total 5 columns):\n",
      " #   Column                Non-Null Count  Dtype  \n",
      "---  ------                --------------  -----  \n",
      " 0   key                   14876 non-null  int64  \n",
      " 1   Начало нагрева дугой  14876 non-null  object \n",
      " 2   Конец нагрева дугой   14876 non-null  object \n",
      " 3   Активная мощность     14876 non-null  float64\n",
      " 4   Реактивная мощность   14876 non-null  float64\n",
      "dtypes: float64(2), int64(1), object(2)\n",
      "memory usage: 581.2+ KB\n"
     ]
    }
   ],
   "source": [
    "data_arc.info()"
   ]
  },
  {
   "cell_type": "code",
   "execution_count": 6,
   "id": "b167c38b",
   "metadata": {},
   "outputs": [],
   "source": [
    "data_arc['Начало нагрева дугой'] = pd.to_datetime(data_arc['Начало нагрева дугой'], format='%Y-%m-%dT%H:%M:%S')\n",
    "data_arc['Конец нагрева дугой'] = pd.to_datetime(data_arc['Конец нагрева дугой'], format='%Y-%m-%dT%H:%M:%S')"
   ]
  },
  {
   "cell_type": "code",
   "execution_count": 7,
   "id": "fe847c87",
   "metadata": {},
   "outputs": [
    {
     "name": "stdout",
     "output_type": "stream",
     "text": [
      "<class 'pandas.core.frame.DataFrame'>\n",
      "RangeIndex: 14876 entries, 0 to 14875\n",
      "Data columns (total 5 columns):\n",
      " #   Column                Non-Null Count  Dtype         \n",
      "---  ------                --------------  -----         \n",
      " 0   key                   14876 non-null  int64         \n",
      " 1   Начало нагрева дугой  14876 non-null  datetime64[ns]\n",
      " 2   Конец нагрева дугой   14876 non-null  datetime64[ns]\n",
      " 3   Активная мощность     14876 non-null  float64       \n",
      " 4   Реактивная мощность   14876 non-null  float64       \n",
      "dtypes: datetime64[ns](2), float64(2), int64(1)\n",
      "memory usage: 581.2 KB\n"
     ]
    }
   ],
   "source": [
    "data_arc.info()"
   ]
  },
  {
   "cell_type": "code",
   "execution_count": 8,
   "id": "f763a333",
   "metadata": {},
   "outputs": [
    {
     "data": {
      "text/plain": [
       "2108    16\n",
       "1689    15\n",
       "1513    15\n",
       "2567    14\n",
       "46      13\n",
       "        ..\n",
       "977      1\n",
       "247      1\n",
       "2582     1\n",
       "248      1\n",
       "530      1\n",
       "Name: key, Length: 3214, dtype: int64"
      ]
     },
     "execution_count": 8,
     "metadata": {},
     "output_type": "execute_result"
    }
   ],
   "source": [
    "#посмотрим количество итераций в партий\n",
    "data_arc['key'].value_counts()"
   ]
  },
  {
   "cell_type": "code",
   "execution_count": 9,
   "id": "195f0c54",
   "metadata": {},
   "outputs": [
    {
     "data": {
      "image/png": "[encoded data removed]",
      "text/plain": [
       "<Figure size 1080x360 with 1 Axes>"
      ]
     },
     "metadata": {
      "needs_background": "light"
     },
     "output_type": "display_data"
    },
    {
     "data": {
      "image/png": "[encoded data removed]",
      "text/plain": [
       "<Figure size 432x288 with 1 Axes>"
      ]
     },
     "metadata": {
      "needs_background": "light"
     },
     "output_type": "display_data"
    }
   ],
   "source": [
    "plt.figure(figsize=(15, 5))\n",
    "fig = sns.kdeplot(data_arc['Активная мощность'],color='g', legend=True,shade=True)\n",
    "plt.title('Зависимость активной мощности от плотности')\n",
    "plt.show()\n",
    "fig2 =data_arc.boxplot('Активная мощность')\n",
    "plt.show()"
   ]
  },
  {
   "cell_type": "code",
   "execution_count": 10,
   "id": "320a8d67",
   "metadata": {},
   "outputs": [
    {
     "data": {
      "text/plain": [
       "count    14876.000000\n",
       "mean         0.438986\n",
       "std          5.873485\n",
       "min       -715.479924\n",
       "25%          0.337175\n",
       "50%          0.441639\n",
       "75%          0.608201\n",
       "max          1.270284\n",
       "Name: Реактивная мощность, dtype: float64"
      ]
     },
     "metadata": {},
     "output_type": "display_data"
    },
    {
     "data": {
      "image/png": "[encoded data removed]",
      "text/plain": [
       "<Figure size 1008x648 with 1 Axes>"
      ]
     },
     "metadata": {
      "needs_background": "light"
     },
     "output_type": "display_data"
    }
   ],
   "source": [
    "# посмотрим ее значения Реактивной мощности и график\n",
    "display(data_arc['Реактивная мощность'].describe())\n",
    "data_arc['Реактивная мощность'].hist(bins=100, figsize=(14,9))\n",
    "plt.title('Реактивная мощность');\n",
    "plt.show()"
   ]
  },
  {
   "cell_type": "code",
   "execution_count": 11,
   "id": "5d9c9af5",
   "metadata": {},
   "outputs": [
    {
     "data": {
      "image/png": "[encoded data removed]",
      "text/plain": [
       "<Figure size 1080x360 with 1 Axes>"
      ]
     },
     "metadata": {
      "needs_background": "light"
     },
     "output_type": "display_data"
    },
    {
     "data": {
      "image/png": "[encoded data removed]",
      "text/plain": [
       "<Figure size 432x288 with 1 Axes>"
      ]
     },
     "metadata": {
      "needs_background": "light"
     },
     "output_type": "display_data"
    }
   ],
   "source": [
    "plt.figure(figsize=(15, 5))\n",
    "fig = sns.kdeplot(data_arc['Реактивная мощность'], legend=True,shade=True)\n",
    "plt.title('Зависимость Реактивной мощности от плотности')\n",
    "plt.show()\n",
    "fig2 =data_arc.boxplot('Реактивная мощность')\n",
    "plt.show()"
   ]
  },
  {
   "cell_type": "markdown",
   "id": "e145bb78",
   "metadata": {},
   "source": [
    "Необходимо убрать аномалии в данных"
   ]
  },
  {
   "cell_type": "code",
   "execution_count": 12,
   "id": "3100268f",
   "metadata": {},
   "outputs": [],
   "source": [
    "data_arc =data_arc[data_arc['Реактивная мощность'] >= 0]"
   ]
  },
  {
   "cell_type": "code",
   "execution_count": 13,
   "id": "fda474af",
   "metadata": {},
   "outputs": [
    {
     "data": {
      "image/png": "[encoded data removed]",
      "text/plain": [
       "<Figure size 1080x360 with 1 Axes>"
      ]
     },
     "metadata": {
      "needs_background": "light"
     },
     "output_type": "display_data"
    },
    {
     "data": {
      "image/png": "[encoded data removed]",
      "text/plain": [
       "<Figure size 432x288 with 1 Axes>"
      ]
     },
     "metadata": {
      "needs_background": "light"
     },
     "output_type": "display_data"
    }
   ],
   "source": [
    "plt.figure(figsize=(15, 5))\n",
    "fig = sns.kdeplot(data_arc['Реактивная мощность'], color='g',legend=True,shade=True)\n",
    "plt.title('Зависимость Реактивной мощности от плотности')\n",
    "plt.show()\n",
    "fig2 =data_arc.boxplot('Реактивная мощность')\n",
    "plt.show()"
   ]
  },
  {
   "cell_type": "markdown",
   "id": "83b3f1ee",
   "metadata": {},
   "source": [
    "Корреляция Активной и Реактивной мощности"
   ]
  },
  {
   "cell_type": "code",
   "execution_count": 14,
   "id": "ea1b45c5",
   "metadata": {},
   "outputs": [
    {
     "name": "stdout",
     "output_type": "stream",
     "text": [
      "Корреляция Активной и Реактивной мощности 0.9663734456187295\n"
     ]
    }
   ],
   "source": [
    "print('Корреляция Активной и Реактивной мощности', data_arc['Активная мощность'].corr(data_arc['Реактивная мощность']))"
   ]
  },
  {
   "cell_type": "markdown",
   "id": "0afea155",
   "metadata": {},
   "source": [
    "# Данные о подаче сыпучих материалов (объём)"
   ]
  },
  {
   "cell_type": "code",
   "execution_count": 15,
   "id": "0265bbdb",
   "metadata": {},
   "outputs": [],
   "source": [
    "data_bulk=pd.read_csv('/datasets/data_bulk_new.csv')"
   ]
  },
  {
   "cell_type": "code",
   "execution_count": 16,
   "id": "51a5128a",
   "metadata": {},
   "outputs": [
    {
     "data": {
      "text/html": [
       "<div>\n",
       "<style scoped>\n",
       "    .dataframe tbody tr th:only-of-type {\n",
       "        vertical-align: middle;\n",
       "    }\n",
       "\n",
       "    .dataframe tbody tr th {\n",
       "        vertical-align: top;\n",
       "    }\n",
       "\n",
       "    .dataframe thead th {\n",
       "        text-align: right;\n",
       "    }\n",
       "</style>\n",
       "<table border=\"1\" class=\"dataframe\">\n",
       "  <thead>\n",
       "    <tr style=\"text-align: right;\">\n",
       "      <th></th>\n",
       "      <th>key</th>\n",
       "      <th>Bulk 1</th>\n",
       "      <th>Bulk 2</th>\n",
       "      <th>Bulk 3</th>\n",
       "      <th>Bulk 4</th>\n",
       "      <th>Bulk 5</th>\n",
       "      <th>Bulk 6</th>\n",
       "      <th>Bulk 7</th>\n",
       "      <th>Bulk 8</th>\n",
       "      <th>Bulk 9</th>\n",
       "      <th>Bulk 10</th>\n",
       "      <th>Bulk 11</th>\n",
       "      <th>Bulk 12</th>\n",
       "      <th>Bulk 13</th>\n",
       "      <th>Bulk 14</th>\n",
       "      <th>Bulk 15</th>\n",
       "    </tr>\n",
       "  </thead>\n",
       "  <tbody>\n",
       "    <tr>\n",
       "      <th>0</th>\n",
       "      <td>1</td>\n",
       "      <td>NaN</td>\n",
       "      <td>NaN</td>\n",
       "      <td>NaN</td>\n",
       "      <td>43.0</td>\n",
       "      <td>NaN</td>\n",
       "      <td>NaN</td>\n",
       "      <td>NaN</td>\n",
       "      <td>NaN</td>\n",
       "      <td>NaN</td>\n",
       "      <td>NaN</td>\n",
       "      <td>NaN</td>\n",
       "      <td>206.0</td>\n",
       "      <td>NaN</td>\n",
       "      <td>150.0</td>\n",
       "      <td>154.0</td>\n",
       "    </tr>\n",
       "    <tr>\n",
       "      <th>1</th>\n",
       "      <td>2</td>\n",
       "      <td>NaN</td>\n",
       "      <td>NaN</td>\n",
       "      <td>NaN</td>\n",
       "      <td>73.0</td>\n",
       "      <td>NaN</td>\n",
       "      <td>NaN</td>\n",
       "      <td>NaN</td>\n",
       "      <td>NaN</td>\n",
       "      <td>NaN</td>\n",
       "      <td>NaN</td>\n",
       "      <td>NaN</td>\n",
       "      <td>206.0</td>\n",
       "      <td>NaN</td>\n",
       "      <td>149.0</td>\n",
       "      <td>154.0</td>\n",
       "    </tr>\n",
       "    <tr>\n",
       "      <th>2</th>\n",
       "      <td>3</td>\n",
       "      <td>NaN</td>\n",
       "      <td>NaN</td>\n",
       "      <td>NaN</td>\n",
       "      <td>34.0</td>\n",
       "      <td>NaN</td>\n",
       "      <td>NaN</td>\n",
       "      <td>NaN</td>\n",
       "      <td>NaN</td>\n",
       "      <td>NaN</td>\n",
       "      <td>NaN</td>\n",
       "      <td>NaN</td>\n",
       "      <td>205.0</td>\n",
       "      <td>NaN</td>\n",
       "      <td>152.0</td>\n",
       "      <td>153.0</td>\n",
       "    </tr>\n",
       "    <tr>\n",
       "      <th>3</th>\n",
       "      <td>4</td>\n",
       "      <td>NaN</td>\n",
       "      <td>NaN</td>\n",
       "      <td>NaN</td>\n",
       "      <td>81.0</td>\n",
       "      <td>NaN</td>\n",
       "      <td>NaN</td>\n",
       "      <td>NaN</td>\n",
       "      <td>NaN</td>\n",
       "      <td>NaN</td>\n",
       "      <td>NaN</td>\n",
       "      <td>NaN</td>\n",
       "      <td>207.0</td>\n",
       "      <td>NaN</td>\n",
       "      <td>153.0</td>\n",
       "      <td>154.0</td>\n",
       "    </tr>\n",
       "    <tr>\n",
       "      <th>4</th>\n",
       "      <td>5</td>\n",
       "      <td>NaN</td>\n",
       "      <td>NaN</td>\n",
       "      <td>NaN</td>\n",
       "      <td>78.0</td>\n",
       "      <td>NaN</td>\n",
       "      <td>NaN</td>\n",
       "      <td>NaN</td>\n",
       "      <td>NaN</td>\n",
       "      <td>NaN</td>\n",
       "      <td>NaN</td>\n",
       "      <td>NaN</td>\n",
       "      <td>203.0</td>\n",
       "      <td>NaN</td>\n",
       "      <td>151.0</td>\n",
       "      <td>152.0</td>\n",
       "    </tr>\n",
       "  </tbody>\n",
       "</table>\n",
       "</div>"
      ],
      "text/plain": [
       "   key  Bulk 1  Bulk 2  Bulk 3  Bulk 4  Bulk 5  Bulk 6  Bulk 7  Bulk 8  \\\n",
       "0    1     NaN     NaN     NaN    43.0     NaN     NaN     NaN     NaN   \n",
       "1    2     NaN     NaN     NaN    73.0     NaN     NaN     NaN     NaN   \n",
       "2    3     NaN     NaN     NaN    34.0     NaN     NaN     NaN     NaN   \n",
       "3    4     NaN     NaN     NaN    81.0     NaN     NaN     NaN     NaN   \n",
       "4    5     NaN     NaN     NaN    78.0     NaN     NaN     NaN     NaN   \n",
       "\n",
       "   Bulk 9  Bulk 10  Bulk 11  Bulk 12  Bulk 13  Bulk 14  Bulk 15  \n",
       "0     NaN      NaN      NaN    206.0      NaN    150.0    154.0  \n",
       "1     NaN      NaN      NaN    206.0      NaN    149.0    154.0  \n",
       "2     NaN      NaN      NaN    205.0      NaN    152.0    153.0  \n",
       "3     NaN      NaN      NaN    207.0      NaN    153.0    154.0  \n",
       "4     NaN      NaN      NaN    203.0      NaN    151.0    152.0  "
      ]
     },
     "execution_count": 16,
     "metadata": {},
     "output_type": "execute_result"
    }
   ],
   "source": [
    "data_bulk.head()"
   ]
  },
  {
   "cell_type": "code",
   "execution_count": 17,
   "id": "f20a1ceb",
   "metadata": {},
   "outputs": [
    {
     "name": "stdout",
     "output_type": "stream",
     "text": [
      "<class 'pandas.core.frame.DataFrame'>\n",
      "RangeIndex: 3129 entries, 0 to 3128\n",
      "Data columns (total 16 columns):\n",
      " #   Column   Non-Null Count  Dtype  \n",
      "---  ------   --------------  -----  \n",
      " 0   key      3129 non-null   int64  \n",
      " 1   Bulk 1   252 non-null    float64\n",
      " 2   Bulk 2   22 non-null     float64\n",
      " 3   Bulk 3   1298 non-null   float64\n",
      " 4   Bulk 4   1014 non-null   float64\n",
      " 5   Bulk 5   77 non-null     float64\n",
      " 6   Bulk 6   576 non-null    float64\n",
      " 7   Bulk 7   25 non-null     float64\n",
      " 8   Bulk 8   1 non-null      float64\n",
      " 9   Bulk 9   19 non-null     float64\n",
      " 10  Bulk 10  176 non-null    float64\n",
      " 11  Bulk 11  177 non-null    float64\n",
      " 12  Bulk 12  2450 non-null   float64\n",
      " 13  Bulk 13  18 non-null     float64\n",
      " 14  Bulk 14  2806 non-null   float64\n",
      " 15  Bulk 15  2248 non-null   float64\n",
      "dtypes: float64(15), int64(1)\n",
      "memory usage: 391.2 KB\n"
     ]
    }
   ],
   "source": [
    "data_bulk.info()"
   ]
  },
  {
   "cell_type": "code",
   "execution_count": 18,
   "id": "89ab3dd9",
   "metadata": {},
   "outputs": [
    {
     "data": {
      "text/plain": [
       "2049    1\n",
       "2612    1\n",
       "2588    1\n",
       "541     1\n",
       "2590    1\n",
       "       ..\n",
       "1090    1\n",
       "3139    1\n",
       "1092    1\n",
       "3141    1\n",
       "2047    1\n",
       "Name: key, Length: 3129, dtype: int64"
      ]
     },
     "execution_count": 18,
     "metadata": {},
     "output_type": "execute_result"
    }
   ],
   "source": [
    "data_bulk['key'].value_counts()"
   ]
  },
  {
   "cell_type": "markdown",
   "id": "42336493",
   "metadata": {},
   "source": [
    "В данной таблице key уникален в каждой строке"
   ]
  },
  {
   "cell_type": "code",
   "execution_count": 19,
   "id": "d09a9a7e",
   "metadata": {
    "scrolled": true
   },
   "outputs": [
    {
     "data": {
      "image/png": "[encoded data removed]",
      "text/plain": [
       "<Figure size 1080x360 with 1 Axes>"
      ]
     },
     "metadata": {
      "needs_background": "light"
     },
     "output_type": "display_data"
    }
   ],
   "source": [
    "plt.figure(figsize=(15,5))\n",
    "sns.boxplot(data=data_bulk.drop('key',axis=1))\n",
    "plt.grid();"
   ]
  },
  {
   "cell_type": "markdown",
   "id": "f45f5868",
   "metadata": {},
   "source": [
    "Единичное значение объема материала под номером 5 и 12 похож на выброс, на данном этапе оставим значение без изменения.\n",
    "\n",
    "Типы данных в порядке, дубликатов нет\n",
    "\n",
    "Имеются пропуcки, которые есть смысл заполнить 0, т.к. показывает, что не происходило добавление компонента"
   ]
  },
  {
   "cell_type": "markdown",
   "id": "a4414a97",
   "metadata": {},
   "source": [
    "# Данные о подаче сыпучих материалов (время)"
   ]
  },
  {
   "cell_type": "code",
   "execution_count": 20,
   "id": "65fd3d15",
   "metadata": {},
   "outputs": [],
   "source": [
    "data_bulk_time=pd.read_csv('/datasets/data_bulk_time_new.csv')"
   ]
  },
  {
   "cell_type": "code",
   "execution_count": 21,
   "id": "5c988ffa",
   "metadata": {},
   "outputs": [
    {
     "data": {
      "text/html": [
       "<div>\n",
       "<style scoped>\n",
       "    .dataframe tbody tr th:only-of-type {\n",
       "        vertical-align: middle;\n",
       "    }\n",
       "\n",
       "    .dataframe tbody tr th {\n",
       "        vertical-align: top;\n",
       "    }\n",
       "\n",
       "    .dataframe thead th {\n",
       "        text-align: right;\n",
       "    }\n",
       "</style>\n",
       "<table border=\"1\" class=\"dataframe\">\n",
       "  <thead>\n",
       "    <tr style=\"text-align: right;\">\n",
       "      <th></th>\n",
       "      <th>key</th>\n",
       "      <th>Bulk 1</th>\n",
       "      <th>Bulk 2</th>\n",
       "      <th>Bulk 3</th>\n",
       "      <th>Bulk 4</th>\n",
       "      <th>Bulk 5</th>\n",
       "      <th>Bulk 6</th>\n",
       "      <th>Bulk 7</th>\n",
       "      <th>Bulk 8</th>\n",
       "      <th>Bulk 9</th>\n",
       "      <th>Bulk 10</th>\n",
       "      <th>Bulk 11</th>\n",
       "      <th>Bulk 12</th>\n",
       "      <th>Bulk 13</th>\n",
       "      <th>Bulk 14</th>\n",
       "      <th>Bulk 15</th>\n",
       "    </tr>\n",
       "  </thead>\n",
       "  <tbody>\n",
       "    <tr>\n",
       "      <th>0</th>\n",
       "      <td>1</td>\n",
       "      <td>NaN</td>\n",
       "      <td>NaN</td>\n",
       "      <td>NaN</td>\n",
       "      <td>2019-05-03 11:28:48</td>\n",
       "      <td>NaN</td>\n",
       "      <td>NaN</td>\n",
       "      <td>NaN</td>\n",
       "      <td>NaN</td>\n",
       "      <td>NaN</td>\n",
       "      <td>NaN</td>\n",
       "      <td>NaN</td>\n",
       "      <td>2019-05-03 11:24:31</td>\n",
       "      <td>NaN</td>\n",
       "      <td>2019-05-03 11:14:50</td>\n",
       "      <td>2019-05-03 11:10:43</td>\n",
       "    </tr>\n",
       "    <tr>\n",
       "      <th>1</th>\n",
       "      <td>2</td>\n",
       "      <td>NaN</td>\n",
       "      <td>NaN</td>\n",
       "      <td>NaN</td>\n",
       "      <td>2019-05-03 11:36:50</td>\n",
       "      <td>NaN</td>\n",
       "      <td>NaN</td>\n",
       "      <td>NaN</td>\n",
       "      <td>NaN</td>\n",
       "      <td>NaN</td>\n",
       "      <td>NaN</td>\n",
       "      <td>NaN</td>\n",
       "      <td>2019-05-03 11:53:30</td>\n",
       "      <td>NaN</td>\n",
       "      <td>2019-05-03 11:48:37</td>\n",
       "      <td>2019-05-03 11:44:39</td>\n",
       "    </tr>\n",
       "    <tr>\n",
       "      <th>2</th>\n",
       "      <td>3</td>\n",
       "      <td>NaN</td>\n",
       "      <td>NaN</td>\n",
       "      <td>NaN</td>\n",
       "      <td>2019-05-03 12:32:39</td>\n",
       "      <td>NaN</td>\n",
       "      <td>NaN</td>\n",
       "      <td>NaN</td>\n",
       "      <td>NaN</td>\n",
       "      <td>NaN</td>\n",
       "      <td>NaN</td>\n",
       "      <td>NaN</td>\n",
       "      <td>2019-05-03 12:27:13</td>\n",
       "      <td>NaN</td>\n",
       "      <td>2019-05-03 12:21:01</td>\n",
       "      <td>2019-05-03 12:16:16</td>\n",
       "    </tr>\n",
       "    <tr>\n",
       "      <th>3</th>\n",
       "      <td>4</td>\n",
       "      <td>NaN</td>\n",
       "      <td>NaN</td>\n",
       "      <td>NaN</td>\n",
       "      <td>2019-05-03 12:43:22</td>\n",
       "      <td>NaN</td>\n",
       "      <td>NaN</td>\n",
       "      <td>NaN</td>\n",
       "      <td>NaN</td>\n",
       "      <td>NaN</td>\n",
       "      <td>NaN</td>\n",
       "      <td>NaN</td>\n",
       "      <td>2019-05-03 12:58:00</td>\n",
       "      <td>NaN</td>\n",
       "      <td>2019-05-03 12:51:11</td>\n",
       "      <td>2019-05-03 12:46:36</td>\n",
       "    </tr>\n",
       "    <tr>\n",
       "      <th>4</th>\n",
       "      <td>5</td>\n",
       "      <td>NaN</td>\n",
       "      <td>NaN</td>\n",
       "      <td>NaN</td>\n",
       "      <td>2019-05-03 13:30:47</td>\n",
       "      <td>NaN</td>\n",
       "      <td>NaN</td>\n",
       "      <td>NaN</td>\n",
       "      <td>NaN</td>\n",
       "      <td>NaN</td>\n",
       "      <td>NaN</td>\n",
       "      <td>NaN</td>\n",
       "      <td>2019-05-03 13:30:47</td>\n",
       "      <td>NaN</td>\n",
       "      <td>2019-05-03 13:34:12</td>\n",
       "      <td>2019-05-03 13:30:47</td>\n",
       "    </tr>\n",
       "  </tbody>\n",
       "</table>\n",
       "</div>"
      ],
      "text/plain": [
       "   key Bulk 1 Bulk 2 Bulk 3               Bulk 4 Bulk 5 Bulk 6 Bulk 7 Bulk 8  \\\n",
       "0    1    NaN    NaN    NaN  2019-05-03 11:28:48    NaN    NaN    NaN    NaN   \n",
       "1    2    NaN    NaN    NaN  2019-05-03 11:36:50    NaN    NaN    NaN    NaN   \n",
       "2    3    NaN    NaN    NaN  2019-05-03 12:32:39    NaN    NaN    NaN    NaN   \n",
       "3    4    NaN    NaN    NaN  2019-05-03 12:43:22    NaN    NaN    NaN    NaN   \n",
       "4    5    NaN    NaN    NaN  2019-05-03 13:30:47    NaN    NaN    NaN    NaN   \n",
       "\n",
       "  Bulk 9 Bulk 10 Bulk 11              Bulk 12 Bulk 13              Bulk 14  \\\n",
       "0    NaN     NaN     NaN  2019-05-03 11:24:31     NaN  2019-05-03 11:14:50   \n",
       "1    NaN     NaN     NaN  2019-05-03 11:53:30     NaN  2019-05-03 11:48:37   \n",
       "2    NaN     NaN     NaN  2019-05-03 12:27:13     NaN  2019-05-03 12:21:01   \n",
       "3    NaN     NaN     NaN  2019-05-03 12:58:00     NaN  2019-05-03 12:51:11   \n",
       "4    NaN     NaN     NaN  2019-05-03 13:30:47     NaN  2019-05-03 13:34:12   \n",
       "\n",
       "               Bulk 15  \n",
       "0  2019-05-03 11:10:43  \n",
       "1  2019-05-03 11:44:39  \n",
       "2  2019-05-03 12:16:16  \n",
       "3  2019-05-03 12:46:36  \n",
       "4  2019-05-03 13:30:47  "
      ]
     },
     "execution_count": 21,
     "metadata": {},
     "output_type": "execute_result"
    }
   ],
   "source": [
    "data_bulk_time.head()"
   ]
  },
  {
   "cell_type": "code",
   "execution_count": 22,
   "id": "a8f15ffb",
   "metadata": {},
   "outputs": [
    {
     "name": "stdout",
     "output_type": "stream",
     "text": [
      "<class 'pandas.core.frame.DataFrame'>\n",
      "RangeIndex: 3129 entries, 0 to 3128\n",
      "Data columns (total 16 columns):\n",
      " #   Column   Non-Null Count  Dtype \n",
      "---  ------   --------------  ----- \n",
      " 0   key      3129 non-null   int64 \n",
      " 1   Bulk 1   252 non-null    object\n",
      " 2   Bulk 2   22 non-null     object\n",
      " 3   Bulk 3   1298 non-null   object\n",
      " 4   Bulk 4   1014 non-null   object\n",
      " 5   Bulk 5   77 non-null     object\n",
      " 6   Bulk 6   576 non-null    object\n",
      " 7   Bulk 7   25 non-null     object\n",
      " 8   Bulk 8   1 non-null      object\n",
      " 9   Bulk 9   19 non-null     object\n",
      " 10  Bulk 10  176 non-null    object\n",
      " 11  Bulk 11  177 non-null    object\n",
      " 12  Bulk 12  2450 non-null   object\n",
      " 13  Bulk 13  18 non-null     object\n",
      " 14  Bulk 14  2806 non-null   object\n",
      " 15  Bulk 15  2248 non-null   object\n",
      "dtypes: int64(1), object(15)\n",
      "memory usage: 391.2+ KB\n"
     ]
    }
   ],
   "source": [
    "data_bulk_time.info()"
   ]
  },
  {
   "cell_type": "markdown",
   "id": "ceefbcc7",
   "metadata": {},
   "source": [
    "необходимо изменить формат времени, пропуски заменить на 0"
   ]
  },
  {
   "cell_type": "code",
   "execution_count": 23,
   "id": "5f5e00d7",
   "metadata": {},
   "outputs": [],
   "source": [
    "data_bulk_time['Bulk 1'] = pd.to_datetime(data_bulk_time['Bulk 1'], format='%Y-%m-%dT%H:%M:%S')\n",
    "data_bulk_time['Bulk 2'] = pd.to_datetime(data_bulk_time['Bulk 2'], format='%Y-%m-%dT%H:%M:%S')\n",
    "data_bulk_time['Bulk 3'] = pd.to_datetime(data_bulk_time['Bulk 3'], format='%Y-%m-%dT%H:%M:%S')\n",
    "data_bulk_time['Bulk 4'] = pd.to_datetime(data_bulk_time['Bulk 4'], format='%Y-%m-%dT%H:%M:%S')\n",
    "data_bulk_time['Bulk 5'] = pd.to_datetime(data_bulk_time['Bulk 5'], format='%Y-%m-%dT%H:%M:%S')\n",
    "data_bulk_time['Bulk 6'] = pd.to_datetime(data_bulk_time['Bulk 6'], format='%Y-%m-%dT%H:%M:%S')\n",
    "data_bulk_time['Bulk 7'] = pd.to_datetime(data_bulk_time['Bulk 7'], format='%Y-%m-%dT%H:%M:%S')\n",
    "data_bulk_time['Bulk 8'] = pd.to_datetime(data_bulk_time['Bulk 8'], format='%Y-%m-%dT%H:%M:%S')\n",
    "data_bulk_time['Bulk 9'] = pd.to_datetime(data_bulk_time['Bulk 9'], format='%Y-%m-%dT%H:%M:%S')\n",
    "data_bulk_time['Bulk 10'] = pd.to_datetime(data_bulk_time['Bulk 10'], format='%Y-%m-%dT%H:%M:%S')\n",
    "data_bulk_time['Bulk 11'] = pd.to_datetime(data_bulk_time['Bulk 11'], format='%Y-%m-%dT%H:%M:%S')\n",
    "data_bulk_time['Bulk 12'] = pd.to_datetime(data_bulk_time['Bulk 12'], format='%Y-%m-%dT%H:%M:%S')\n",
    "data_bulk_time['Bulk 13'] = pd.to_datetime(data_bulk_time['Bulk 13'], format='%Y-%m-%dT%H:%M:%S')\n",
    "data_bulk_time['Bulk 14'] = pd.to_datetime(data_bulk_time['Bulk 14'], format='%Y-%m-%dT%H:%M:%S')\n",
    "data_bulk_time['Bulk 15'] = pd.to_datetime(data_bulk_time['Bulk 15'], format='%Y-%m-%dT%H:%M:%S')"
   ]
  },
  {
   "cell_type": "code",
   "execution_count": 24,
   "id": "053cc375",
   "metadata": {},
   "outputs": [
    {
     "name": "stdout",
     "output_type": "stream",
     "text": [
      "<class 'pandas.core.frame.DataFrame'>\n",
      "RangeIndex: 3129 entries, 0 to 3128\n",
      "Data columns (total 16 columns):\n",
      " #   Column   Non-Null Count  Dtype         \n",
      "---  ------   --------------  -----         \n",
      " 0   key      3129 non-null   int64         \n",
      " 1   Bulk 1   252 non-null    datetime64[ns]\n",
      " 2   Bulk 2   22 non-null     datetime64[ns]\n",
      " 3   Bulk 3   1298 non-null   datetime64[ns]\n",
      " 4   Bulk 4   1014 non-null   datetime64[ns]\n",
      " 5   Bulk 5   77 non-null     datetime64[ns]\n",
      " 6   Bulk 6   576 non-null    datetime64[ns]\n",
      " 7   Bulk 7   25 non-null     datetime64[ns]\n",
      " 8   Bulk 8   1 non-null      datetime64[ns]\n",
      " 9   Bulk 9   19 non-null     datetime64[ns]\n",
      " 10  Bulk 10  176 non-null    datetime64[ns]\n",
      " 11  Bulk 11  177 non-null    datetime64[ns]\n",
      " 12  Bulk 12  2450 non-null   datetime64[ns]\n",
      " 13  Bulk 13  18 non-null     datetime64[ns]\n",
      " 14  Bulk 14  2806 non-null   datetime64[ns]\n",
      " 15  Bulk 15  2248 non-null   datetime64[ns]\n",
      "dtypes: datetime64[ns](15), int64(1)\n",
      "memory usage: 391.2 KB\n"
     ]
    }
   ],
   "source": [
    "data_bulk_time.info()"
   ]
  },
  {
   "cell_type": "code",
   "execution_count": 25,
   "id": "4cd462b9",
   "metadata": {},
   "outputs": [
    {
     "data": {
      "text/plain": [
       "2049    1\n",
       "2612    1\n",
       "2588    1\n",
       "541     1\n",
       "2590    1\n",
       "       ..\n",
       "1090    1\n",
       "3139    1\n",
       "1092    1\n",
       "3141    1\n",
       "2047    1\n",
       "Name: key, Length: 3129, dtype: int64"
      ]
     },
     "execution_count": 25,
     "metadata": {},
     "output_type": "execute_result"
    }
   ],
   "source": [
    "data_bulk_time['key'].value_counts()"
   ]
  },
  {
   "cell_type": "markdown",
   "id": "74fbe646",
   "metadata": {},
   "source": [
    "key не содержит повторов"
   ]
  },
  {
   "cell_type": "markdown",
   "id": "4e9c4d74",
   "metadata": {},
   "source": [
    "# Данные о продувке сплава газом"
   ]
  },
  {
   "cell_type": "code",
   "execution_count": 26,
   "id": "9a52e25a",
   "metadata": {},
   "outputs": [],
   "source": [
    "data_gas=pd.read_csv('/datasets/data_gas_new.csv')"
   ]
  },
  {
   "cell_type": "code",
   "execution_count": 27,
   "id": "49a78f9b",
   "metadata": {},
   "outputs": [
    {
     "data": {
      "text/html": [
       "<div>\n",
       "<style scoped>\n",
       "    .dataframe tbody tr th:only-of-type {\n",
       "        vertical-align: middle;\n",
       "    }\n",
       "\n",
       "    .dataframe tbody tr th {\n",
       "        vertical-align: top;\n",
       "    }\n",
       "\n",
       "    .dataframe thead th {\n",
       "        text-align: right;\n",
       "    }\n",
       "</style>\n",
       "<table border=\"1\" class=\"dataframe\">\n",
       "  <thead>\n",
       "    <tr style=\"text-align: right;\">\n",
       "      <th></th>\n",
       "      <th>key</th>\n",
       "      <th>Газ 1</th>\n",
       "    </tr>\n",
       "  </thead>\n",
       "  <tbody>\n",
       "    <tr>\n",
       "      <th>0</th>\n",
       "      <td>1</td>\n",
       "      <td>29.749986</td>\n",
       "    </tr>\n",
       "    <tr>\n",
       "      <th>1</th>\n",
       "      <td>2</td>\n",
       "      <td>12.555561</td>\n",
       "    </tr>\n",
       "    <tr>\n",
       "      <th>2</th>\n",
       "      <td>3</td>\n",
       "      <td>28.554793</td>\n",
       "    </tr>\n",
       "    <tr>\n",
       "      <th>3</th>\n",
       "      <td>4</td>\n",
       "      <td>18.841219</td>\n",
       "    </tr>\n",
       "    <tr>\n",
       "      <th>4</th>\n",
       "      <td>5</td>\n",
       "      <td>5.413692</td>\n",
       "    </tr>\n",
       "  </tbody>\n",
       "</table>\n",
       "</div>"
      ],
      "text/plain": [
       "   key      Газ 1\n",
       "0    1  29.749986\n",
       "1    2  12.555561\n",
       "2    3  28.554793\n",
       "3    4  18.841219\n",
       "4    5   5.413692"
      ]
     },
     "execution_count": 27,
     "metadata": {},
     "output_type": "execute_result"
    }
   ],
   "source": [
    "data_gas.head()"
   ]
  },
  {
   "cell_type": "code",
   "execution_count": 28,
   "id": "a2b7f3d5",
   "metadata": {},
   "outputs": [
    {
     "name": "stdout",
     "output_type": "stream",
     "text": [
      "<class 'pandas.core.frame.DataFrame'>\n",
      "RangeIndex: 3239 entries, 0 to 3238\n",
      "Data columns (total 2 columns):\n",
      " #   Column  Non-Null Count  Dtype  \n",
      "---  ------  --------------  -----  \n",
      " 0   key     3239 non-null   int64  \n",
      " 1   Газ 1   3239 non-null   float64\n",
      "dtypes: float64(1), int64(1)\n",
      "memory usage: 50.7 KB\n"
     ]
    }
   ],
   "source": [
    "data_gas.info()"
   ]
  },
  {
   "cell_type": "code",
   "execution_count": 29,
   "id": "d831500e",
   "metadata": {},
   "outputs": [
    {
     "data": {
      "text/plain": [
       "2049    1\n",
       "3135    1\n",
       "3115    1\n",
       "1070    1\n",
       "3119    1\n",
       "       ..\n",
       "2596    1\n",
       "549     1\n",
       "2600    1\n",
       "553     1\n",
       "2047    1\n",
       "Name: key, Length: 3239, dtype: int64"
      ]
     },
     "execution_count": 29,
     "metadata": {},
     "output_type": "execute_result"
    }
   ],
   "source": [
    "data_gas['key'].value_counts()"
   ]
  },
  {
   "cell_type": "code",
   "execution_count": 30,
   "id": "789f367c",
   "metadata": {},
   "outputs": [
    {
     "data": {
      "image/png": "[encoded data removed]",
      "text/plain": [
       "<Figure size 1080x360 with 1 Axes>"
      ]
     },
     "metadata": {
      "needs_background": "light"
     },
     "output_type": "display_data"
    },
    {
     "data": {
      "image/png": "[encoded data removed]",
      "text/plain": [
       "<Figure size 432x288 with 1 Axes>"
      ]
     },
     "metadata": {
      "needs_background": "light"
     },
     "output_type": "display_data"
    }
   ],
   "source": [
    "plt.figure(figsize=(15, 5))\n",
    "fig = sns.kdeplot(data_gas['Газ 1'], legend=True,shade=True)\n",
    "plt.title('Распределения продувки сплава газом')\n",
    "plt.show()\n",
    "fig2 =data_gas.boxplot('Газ 1')"
   ]
  },
  {
   "cell_type": "markdown",
   "id": "bd057f75",
   "metadata": {},
   "source": [
    "Пропуски отсутсвуют\n",
    "\n",
    "key не повторяется\n",
    "\n",
    "Распределение в норме"
   ]
  },
  {
   "cell_type": "markdown",
   "id": "f99446e0",
   "metadata": {},
   "source": [
    "# Результаты измерения температуры"
   ]
  },
  {
   "cell_type": "code",
   "execution_count": 31,
   "id": "17bb7fc6",
   "metadata": {},
   "outputs": [],
   "source": [
    "data_temp=pd.read_csv('/datasets/data_temp_new.csv')"
   ]
  },
  {
   "cell_type": "code",
   "execution_count": 32,
   "id": "c0481f2f",
   "metadata": {},
   "outputs": [
    {
     "data": {
      "text/html": [
       "<div>\n",
       "<style scoped>\n",
       "    .dataframe tbody tr th:only-of-type {\n",
       "        vertical-align: middle;\n",
       "    }\n",
       "\n",
       "    .dataframe tbody tr th {\n",
       "        vertical-align: top;\n",
       "    }\n",
       "\n",
       "    .dataframe thead th {\n",
       "        text-align: right;\n",
       "    }\n",
       "</style>\n",
       "<table border=\"1\" class=\"dataframe\">\n",
       "  <thead>\n",
       "    <tr style=\"text-align: right;\">\n",
       "      <th></th>\n",
       "      <th>key</th>\n",
       "      <th>Время замера</th>\n",
       "      <th>Температура</th>\n",
       "    </tr>\n",
       "  </thead>\n",
       "  <tbody>\n",
       "    <tr>\n",
       "      <th>0</th>\n",
       "      <td>1</td>\n",
       "      <td>2019-05-03 11:02:04</td>\n",
       "      <td>1571.0</td>\n",
       "    </tr>\n",
       "    <tr>\n",
       "      <th>1</th>\n",
       "      <td>1</td>\n",
       "      <td>2019-05-03 11:07:18</td>\n",
       "      <td>1604.0</td>\n",
       "    </tr>\n",
       "    <tr>\n",
       "      <th>2</th>\n",
       "      <td>1</td>\n",
       "      <td>2019-05-03 11:11:34</td>\n",
       "      <td>1618.0</td>\n",
       "    </tr>\n",
       "    <tr>\n",
       "      <th>3</th>\n",
       "      <td>1</td>\n",
       "      <td>2019-05-03 11:18:04</td>\n",
       "      <td>1601.0</td>\n",
       "    </tr>\n",
       "    <tr>\n",
       "      <th>4</th>\n",
       "      <td>1</td>\n",
       "      <td>2019-05-03 11:25:59</td>\n",
       "      <td>1606.0</td>\n",
       "    </tr>\n",
       "  </tbody>\n",
       "</table>\n",
       "</div>"
      ],
      "text/plain": [
       "   key         Время замера  Температура\n",
       "0    1  2019-05-03 11:02:04       1571.0\n",
       "1    1  2019-05-03 11:07:18       1604.0\n",
       "2    1  2019-05-03 11:11:34       1618.0\n",
       "3    1  2019-05-03 11:18:04       1601.0\n",
       "4    1  2019-05-03 11:25:59       1606.0"
      ]
     },
     "execution_count": 32,
     "metadata": {},
     "output_type": "execute_result"
    }
   ],
   "source": [
    "data_temp.head()"
   ]
  },
  {
   "cell_type": "code",
   "execution_count": 33,
   "id": "50b35a90",
   "metadata": {},
   "outputs": [
    {
     "name": "stdout",
     "output_type": "stream",
     "text": [
      "<class 'pandas.core.frame.DataFrame'>\n",
      "RangeIndex: 18092 entries, 0 to 18091\n",
      "Data columns (total 3 columns):\n",
      " #   Column        Non-Null Count  Dtype  \n",
      "---  ------        --------------  -----  \n",
      " 0   key           18092 non-null  int64  \n",
      " 1   Время замера  18092 non-null  object \n",
      " 2   Температура   14665 non-null  float64\n",
      "dtypes: float64(1), int64(1), object(1)\n",
      "memory usage: 424.2+ KB\n"
     ]
    }
   ],
   "source": [
    "data_temp.info()"
   ]
  },
  {
   "cell_type": "markdown",
   "id": "c1d37855",
   "metadata": {},
   "source": [
    "необходимо изменить формат времени\n",
    "\n",
    "не по всем замерам есть данные по температуре"
   ]
  },
  {
   "cell_type": "code",
   "execution_count": 34,
   "id": "4d5e2bf0",
   "metadata": {},
   "outputs": [
    {
     "data": {
      "text/plain": [
       "2108    17\n",
       "1513    16\n",
       "1689    16\n",
       "2567    15\n",
       "322     14\n",
       "        ..\n",
       "556      2\n",
       "1169     2\n",
       "732      2\n",
       "195      1\n",
       "279      1\n",
       "Name: key, Length: 3216, dtype: int64"
      ]
     },
     "execution_count": 34,
     "metadata": {},
     "output_type": "execute_result"
    }
   ],
   "source": [
    "data_temp['key'].value_counts()"
   ]
  },
  {
   "cell_type": "markdown",
   "id": "7c8d0255",
   "metadata": {},
   "source": [
    "Видим что по некоторым партиям было несоклько замеров, также видим что в некоторых строках не заполнена температура"
   ]
  },
  {
   "cell_type": "code",
   "execution_count": 35,
   "id": "52dd63ab",
   "metadata": {},
   "outputs": [],
   "source": [
    "data_temp['Время замера'] = pd.to_datetime(data_temp['Время замера'], format='%Y-%m-%dT%H:%M:%S')"
   ]
  },
  {
   "cell_type": "code",
   "execution_count": 36,
   "id": "0c39984a",
   "metadata": {},
   "outputs": [
    {
     "name": "stdout",
     "output_type": "stream",
     "text": [
      "<class 'pandas.core.frame.DataFrame'>\n",
      "RangeIndex: 18092 entries, 0 to 18091\n",
      "Data columns (total 3 columns):\n",
      " #   Column        Non-Null Count  Dtype         \n",
      "---  ------        --------------  -----         \n",
      " 0   key           18092 non-null  int64         \n",
      " 1   Время замера  18092 non-null  datetime64[ns]\n",
      " 2   Температура   14665 non-null  float64       \n",
      "dtypes: datetime64[ns](1), float64(1), int64(1)\n",
      "memory usage: 424.2 KB\n"
     ]
    }
   ],
   "source": [
    "data_temp.info()"
   ]
  },
  {
   "cell_type": "code",
   "execution_count": 37,
   "id": "0f4ccb67",
   "metadata": {},
   "outputs": [
    {
     "data": {
      "image/png": "[encoded data removed]",
      "text/plain": [
       "<Figure size 1080x360 with 1 Axes>"
      ]
     },
     "metadata": {
      "needs_background": "light"
     },
     "output_type": "display_data"
    },
    {
     "data": {
      "image/png": "[encoded data removed]",
      "text/plain": [
       "<Figure size 432x288 with 1 Axes>"
      ]
     },
     "metadata": {
      "needs_background": "light"
     },
     "output_type": "display_data"
    }
   ],
   "source": [
    "plt.figure(figsize=(15, 5))\n",
    "fig = sns.kdeplot(data_temp['Температура'], legend=True,shade=True)\n",
    "plt.title('Распределение температуры')\n",
    "plt.show()\n",
    "fig2 =data_temp.boxplot('Температура')"
   ]
  },
  {
   "cell_type": "markdown",
   "id": "354a6239",
   "metadata": {},
   "source": [
    "График имеет нормальное распределение, также видим некороые выбросы в диапазонах до 1300 и после 1600. \n",
    "\n",
    "Температура плавления стали ~ 1550 градусов"
   ]
  },
  {
   "cell_type": "markdown",
   "id": "b50133cc",
   "metadata": {},
   "source": [
    "# Данные о проволочных материалах (объём)"
   ]
  },
  {
   "cell_type": "code",
   "execution_count": 38,
   "id": "69f0d194",
   "metadata": {},
   "outputs": [],
   "source": [
    "data_wire=pd.read_csv('/datasets/data_wire_new.csv')"
   ]
  },
  {
   "cell_type": "code",
   "execution_count": 39,
   "id": "357998e1",
   "metadata": {},
   "outputs": [
    {
     "data": {
      "text/html": [
       "<div>\n",
       "<style scoped>\n",
       "    .dataframe tbody tr th:only-of-type {\n",
       "        vertical-align: middle;\n",
       "    }\n",
       "\n",
       "    .dataframe tbody tr th {\n",
       "        vertical-align: top;\n",
       "    }\n",
       "\n",
       "    .dataframe thead th {\n",
       "        text-align: right;\n",
       "    }\n",
       "</style>\n",
       "<table border=\"1\" class=\"dataframe\">\n",
       "  <thead>\n",
       "    <tr style=\"text-align: right;\">\n",
       "      <th></th>\n",
       "      <th>key</th>\n",
       "      <th>Wire 1</th>\n",
       "      <th>Wire 2</th>\n",
       "      <th>Wire 3</th>\n",
       "      <th>Wire 4</th>\n",
       "      <th>Wire 5</th>\n",
       "      <th>Wire 6</th>\n",
       "      <th>Wire 7</th>\n",
       "      <th>Wire 8</th>\n",
       "      <th>Wire 9</th>\n",
       "    </tr>\n",
       "  </thead>\n",
       "  <tbody>\n",
       "    <tr>\n",
       "      <th>0</th>\n",
       "      <td>1</td>\n",
       "      <td>60.059998</td>\n",
       "      <td>NaN</td>\n",
       "      <td>NaN</td>\n",
       "      <td>NaN</td>\n",
       "      <td>NaN</td>\n",
       "      <td>NaN</td>\n",
       "      <td>NaN</td>\n",
       "      <td>NaN</td>\n",
       "      <td>NaN</td>\n",
       "    </tr>\n",
       "    <tr>\n",
       "      <th>1</th>\n",
       "      <td>2</td>\n",
       "      <td>96.052315</td>\n",
       "      <td>NaN</td>\n",
       "      <td>NaN</td>\n",
       "      <td>NaN</td>\n",
       "      <td>NaN</td>\n",
       "      <td>NaN</td>\n",
       "      <td>NaN</td>\n",
       "      <td>NaN</td>\n",
       "      <td>NaN</td>\n",
       "    </tr>\n",
       "    <tr>\n",
       "      <th>2</th>\n",
       "      <td>3</td>\n",
       "      <td>91.160157</td>\n",
       "      <td>NaN</td>\n",
       "      <td>NaN</td>\n",
       "      <td>NaN</td>\n",
       "      <td>NaN</td>\n",
       "      <td>NaN</td>\n",
       "      <td>NaN</td>\n",
       "      <td>NaN</td>\n",
       "      <td>NaN</td>\n",
       "    </tr>\n",
       "    <tr>\n",
       "      <th>3</th>\n",
       "      <td>4</td>\n",
       "      <td>89.063515</td>\n",
       "      <td>NaN</td>\n",
       "      <td>NaN</td>\n",
       "      <td>NaN</td>\n",
       "      <td>NaN</td>\n",
       "      <td>NaN</td>\n",
       "      <td>NaN</td>\n",
       "      <td>NaN</td>\n",
       "      <td>NaN</td>\n",
       "    </tr>\n",
       "    <tr>\n",
       "      <th>4</th>\n",
       "      <td>5</td>\n",
       "      <td>89.238236</td>\n",
       "      <td>9.11456</td>\n",
       "      <td>NaN</td>\n",
       "      <td>NaN</td>\n",
       "      <td>NaN</td>\n",
       "      <td>NaN</td>\n",
       "      <td>NaN</td>\n",
       "      <td>NaN</td>\n",
       "      <td>NaN</td>\n",
       "    </tr>\n",
       "  </tbody>\n",
       "</table>\n",
       "</div>"
      ],
      "text/plain": [
       "   key     Wire 1   Wire 2  Wire 3  Wire 4  Wire 5  Wire 6  Wire 7  Wire 8  \\\n",
       "0    1  60.059998      NaN     NaN     NaN     NaN     NaN     NaN     NaN   \n",
       "1    2  96.052315      NaN     NaN     NaN     NaN     NaN     NaN     NaN   \n",
       "2    3  91.160157      NaN     NaN     NaN     NaN     NaN     NaN     NaN   \n",
       "3    4  89.063515      NaN     NaN     NaN     NaN     NaN     NaN     NaN   \n",
       "4    5  89.238236  9.11456     NaN     NaN     NaN     NaN     NaN     NaN   \n",
       "\n",
       "   Wire 9  \n",
       "0     NaN  \n",
       "1     NaN  \n",
       "2     NaN  \n",
       "3     NaN  \n",
       "4     NaN  "
      ]
     },
     "execution_count": 39,
     "metadata": {},
     "output_type": "execute_result"
    }
   ],
   "source": [
    "data_wire.head()"
   ]
  },
  {
   "cell_type": "code",
   "execution_count": 40,
   "id": "72ca720d",
   "metadata": {},
   "outputs": [
    {
     "name": "stdout",
     "output_type": "stream",
     "text": [
      "<class 'pandas.core.frame.DataFrame'>\n",
      "RangeIndex: 3081 entries, 0 to 3080\n",
      "Data columns (total 10 columns):\n",
      " #   Column  Non-Null Count  Dtype  \n",
      "---  ------  --------------  -----  \n",
      " 0   key     3081 non-null   int64  \n",
      " 1   Wire 1  3055 non-null   float64\n",
      " 2   Wire 2  1079 non-null   float64\n",
      " 3   Wire 3  63 non-null     float64\n",
      " 4   Wire 4  14 non-null     float64\n",
      " 5   Wire 5  1 non-null      float64\n",
      " 6   Wire 6  73 non-null     float64\n",
      " 7   Wire 7  11 non-null     float64\n",
      " 8   Wire 8  19 non-null     float64\n",
      " 9   Wire 9  29 non-null     float64\n",
      "dtypes: float64(9), int64(1)\n",
      "memory usage: 240.8 KB\n"
     ]
    }
   ],
   "source": [
    "data_wire.info()"
   ]
  },
  {
   "cell_type": "code",
   "execution_count": 41,
   "id": "e263b336",
   "metadata": {},
   "outputs": [
    {
     "data": {
      "text/plain": [
       "2049    1\n",
       "2664    1\n",
       "2590    1\n",
       "543     1\n",
       "2592    1\n",
       "       ..\n",
       "1090    1\n",
       "3139    1\n",
       "1092    1\n",
       "3141    1\n",
       "2047    1\n",
       "Name: key, Length: 3081, dtype: int64"
      ]
     },
     "execution_count": 41,
     "metadata": {},
     "output_type": "execute_result"
    }
   ],
   "source": [
    "data_wire['key'].value_counts()"
   ]
  },
  {
   "cell_type": "code",
   "execution_count": 42,
   "id": "bec65446",
   "metadata": {},
   "outputs": [
    {
     "data": {
      "image/png": "[encoded data removed]",
      "text/plain": [
       "<Figure size 1080x360 with 1 Axes>"
      ]
     },
     "metadata": {
      "needs_background": "light"
     },
     "output_type": "display_data"
    }
   ],
   "source": [
    "plt.figure(figsize=(15,5))\n",
    "sns.boxplot(data=data_wire.drop('key', axis=1))\n",
    "plt.grid();"
   ]
  },
  {
   "cell_type": "markdown",
   "id": "c5e17c19",
   "metadata": {},
   "source": [
    "В данных имеются пропуски"
   ]
  },
  {
   "cell_type": "markdown",
   "id": "34704a99",
   "metadata": {},
   "source": [
    "необходимо изменить формат даты"
   ]
  },
  {
   "cell_type": "code",
   "execution_count": 43,
   "id": "50480a76",
   "metadata": {},
   "outputs": [],
   "source": [
    "data_temp['Время замера'] = pd.to_datetime(data_temp['Время замера'], format='%Y-%m-%dT%H:%M:%S')"
   ]
  },
  {
   "cell_type": "markdown",
   "id": "4d56feea",
   "metadata": {},
   "source": [
    "#  Данные о проволочных материалах (время)."
   ]
  },
  {
   "cell_type": "code",
   "execution_count": 44,
   "id": "193167ca",
   "metadata": {},
   "outputs": [],
   "source": [
    "data_wire_time=pd.read_csv('/datasets/data_wire_time_new.csv')"
   ]
  },
  {
   "cell_type": "code",
   "execution_count": 45,
   "id": "0b1c5b89",
   "metadata": {},
   "outputs": [
    {
     "data": {
      "text/html": [
       "<div>\n",
       "<style scoped>\n",
       "    .dataframe tbody tr th:only-of-type {\n",
       "        vertical-align: middle;\n",
       "    }\n",
       "\n",
       "    .dataframe tbody tr th {\n",
       "        vertical-align: top;\n",
       "    }\n",
       "\n",
       "    .dataframe thead th {\n",
       "        text-align: right;\n",
       "    }\n",
       "</style>\n",
       "<table border=\"1\" class=\"dataframe\">\n",
       "  <thead>\n",
       "    <tr style=\"text-align: right;\">\n",
       "      <th></th>\n",
       "      <th>key</th>\n",
       "      <th>Wire 1</th>\n",
       "      <th>Wire 2</th>\n",
       "      <th>Wire 3</th>\n",
       "      <th>Wire 4</th>\n",
       "      <th>Wire 5</th>\n",
       "      <th>Wire 6</th>\n",
       "      <th>Wire 7</th>\n",
       "      <th>Wire 8</th>\n",
       "      <th>Wire 9</th>\n",
       "    </tr>\n",
       "  </thead>\n",
       "  <tbody>\n",
       "    <tr>\n",
       "      <th>0</th>\n",
       "      <td>1</td>\n",
       "      <td>2019-05-03 11:06:19</td>\n",
       "      <td>NaN</td>\n",
       "      <td>NaN</td>\n",
       "      <td>NaN</td>\n",
       "      <td>NaN</td>\n",
       "      <td>NaN</td>\n",
       "      <td>NaN</td>\n",
       "      <td>NaN</td>\n",
       "      <td>NaN</td>\n",
       "    </tr>\n",
       "    <tr>\n",
       "      <th>1</th>\n",
       "      <td>2</td>\n",
       "      <td>2019-05-03 11:36:50</td>\n",
       "      <td>NaN</td>\n",
       "      <td>NaN</td>\n",
       "      <td>NaN</td>\n",
       "      <td>NaN</td>\n",
       "      <td>NaN</td>\n",
       "      <td>NaN</td>\n",
       "      <td>NaN</td>\n",
       "      <td>NaN</td>\n",
       "    </tr>\n",
       "    <tr>\n",
       "      <th>2</th>\n",
       "      <td>3</td>\n",
       "      <td>2019-05-03 12:11:46</td>\n",
       "      <td>NaN</td>\n",
       "      <td>NaN</td>\n",
       "      <td>NaN</td>\n",
       "      <td>NaN</td>\n",
       "      <td>NaN</td>\n",
       "      <td>NaN</td>\n",
       "      <td>NaN</td>\n",
       "      <td>NaN</td>\n",
       "    </tr>\n",
       "    <tr>\n",
       "      <th>3</th>\n",
       "      <td>4</td>\n",
       "      <td>2019-05-03 12:43:22</td>\n",
       "      <td>NaN</td>\n",
       "      <td>NaN</td>\n",
       "      <td>NaN</td>\n",
       "      <td>NaN</td>\n",
       "      <td>NaN</td>\n",
       "      <td>NaN</td>\n",
       "      <td>NaN</td>\n",
       "      <td>NaN</td>\n",
       "    </tr>\n",
       "    <tr>\n",
       "      <th>4</th>\n",
       "      <td>5</td>\n",
       "      <td>2019-05-03 13:20:44</td>\n",
       "      <td>2019-05-03 13:15:34</td>\n",
       "      <td>NaN</td>\n",
       "      <td>NaN</td>\n",
       "      <td>NaN</td>\n",
       "      <td>NaN</td>\n",
       "      <td>NaN</td>\n",
       "      <td>NaN</td>\n",
       "      <td>NaN</td>\n",
       "    </tr>\n",
       "  </tbody>\n",
       "</table>\n",
       "</div>"
      ],
      "text/plain": [
       "   key               Wire 1               Wire 2 Wire 3 Wire 4 Wire 5 Wire 6  \\\n",
       "0    1  2019-05-03 11:06:19                  NaN    NaN    NaN    NaN    NaN   \n",
       "1    2  2019-05-03 11:36:50                  NaN    NaN    NaN    NaN    NaN   \n",
       "2    3  2019-05-03 12:11:46                  NaN    NaN    NaN    NaN    NaN   \n",
       "3    4  2019-05-03 12:43:22                  NaN    NaN    NaN    NaN    NaN   \n",
       "4    5  2019-05-03 13:20:44  2019-05-03 13:15:34    NaN    NaN    NaN    NaN   \n",
       "\n",
       "  Wire 7 Wire 8 Wire 9  \n",
       "0    NaN    NaN    NaN  \n",
       "1    NaN    NaN    NaN  \n",
       "2    NaN    NaN    NaN  \n",
       "3    NaN    NaN    NaN  \n",
       "4    NaN    NaN    NaN  "
      ]
     },
     "execution_count": 45,
     "metadata": {},
     "output_type": "execute_result"
    }
   ],
   "source": [
    "data_wire_time.head()"
   ]
  },
  {
   "cell_type": "code",
   "execution_count": 46,
   "id": "ab8cecca",
   "metadata": {
    "scrolled": true
   },
   "outputs": [
    {
     "name": "stdout",
     "output_type": "stream",
     "text": [
      "<class 'pandas.core.frame.DataFrame'>\n",
      "RangeIndex: 3081 entries, 0 to 3080\n",
      "Data columns (total 10 columns):\n",
      " #   Column  Non-Null Count  Dtype \n",
      "---  ------  --------------  ----- \n",
      " 0   key     3081 non-null   int64 \n",
      " 1   Wire 1  3055 non-null   object\n",
      " 2   Wire 2  1079 non-null   object\n",
      " 3   Wire 3  63 non-null     object\n",
      " 4   Wire 4  14 non-null     object\n",
      " 5   Wire 5  1 non-null      object\n",
      " 6   Wire 6  73 non-null     object\n",
      " 7   Wire 7  11 non-null     object\n",
      " 8   Wire 8  19 non-null     object\n",
      " 9   Wire 9  29 non-null     object\n",
      "dtypes: int64(1), object(9)\n",
      "memory usage: 240.8+ KB\n"
     ]
    }
   ],
   "source": [
    "data_wire_time.info()"
   ]
  },
  {
   "cell_type": "code",
   "execution_count": 47,
   "id": "3caa5fed",
   "metadata": {
    "scrolled": true
   },
   "outputs": [],
   "source": [
    "#к.р.\n",
    "data_wire_time = data_wire_time.set_index('key')\n",
    "data_wire_time = data_wire_time.apply(lambda x: pd.to_datetime(x, format='%Y-%m-%dT%H:%M:%S'))\n",
    "data_wire_time = data_wire_time.reset_index()"
   ]
  },
  {
   "cell_type": "code",
   "execution_count": 48,
   "id": "105b78ec",
   "metadata": {},
   "outputs": [
    {
     "name": "stdout",
     "output_type": "stream",
     "text": [
      "<class 'pandas.core.frame.DataFrame'>\n",
      "RangeIndex: 3081 entries, 0 to 3080\n",
      "Data columns (total 10 columns):\n",
      " #   Column  Non-Null Count  Dtype         \n",
      "---  ------  --------------  -----         \n",
      " 0   key     3081 non-null   int64         \n",
      " 1   Wire 1  3055 non-null   datetime64[ns]\n",
      " 2   Wire 2  1079 non-null   datetime64[ns]\n",
      " 3   Wire 3  63 non-null     datetime64[ns]\n",
      " 4   Wire 4  14 non-null     datetime64[ns]\n",
      " 5   Wire 5  1 non-null      datetime64[ns]\n",
      " 6   Wire 6  73 non-null     datetime64[ns]\n",
      " 7   Wire 7  11 non-null     datetime64[ns]\n",
      " 8   Wire 8  19 non-null     datetime64[ns]\n",
      " 9   Wire 9  29 non-null     datetime64[ns]\n",
      "dtypes: datetime64[ns](9), int64(1)\n",
      "memory usage: 240.8 KB\n"
     ]
    }
   ],
   "source": [
    "data_wire_time.info()"
   ]
  },
  {
   "cell_type": "markdown",
   "id": "b82b94a8",
   "metadata": {},
   "source": [
    "data_wire_time['Wire 1'] = pd.to_datetime(data_wire_time['Wire 1'], format='%Y-%m-%dT%H:%M:%S')\n",
    "data_wire_time['Wire 2'] = pd.to_datetime(data_wire_time['Wire 2'], format='%Y-%m-%dT%H:%M:%S')\n",
    "data_wire_time['Wire 3'] = pd.to_datetime(data_wire_time['Wire 3'], format='%Y-%m-%dT%H:%M:%S')\n",
    "data_wire_time['Wire 4'] = pd.to_datetime(data_wire_time['Wire 4'], format='%Y-%m-%dT%H:%M:%S')\n",
    "data_wire_time['Wire 5'] = pd.to_datetime(data_wire_time['Wire 5'], format='%Y-%m-%dT%H:%M:%S')\n",
    "data_wire_time['Wire 6'] = pd.to_datetime(data_wire_time['Wire 6'], format='%Y-%m-%dT%H:%M:%S')\n",
    "data_wire_time['Wire 7'] = pd.to_datetime(data_wire_time['Wire 7'], format='%Y-%m-%dT%H:%M:%S')\n",
    "data_wire_time['Wire 8'] = pd.to_datetime(data_wire_time['Wire 8'], format='%Y-%m-%dT%H:%M:%S')\n",
    "data_wire_time['Wire 9'] = pd.to_datetime(data_wire_time['Wire 9'], format='%Y-%m-%dT%H:%M:%S')"
   ]
  },
  {
   "cell_type": "code",
   "execution_count": 49,
   "id": "4109e9e5",
   "metadata": {},
   "outputs": [
    {
     "data": {
      "text/plain": [
       "2049    1\n",
       "2664    1\n",
       "2590    1\n",
       "543     1\n",
       "2592    1\n",
       "       ..\n",
       "1090    1\n",
       "3139    1\n",
       "1092    1\n",
       "3141    1\n",
       "2047    1\n",
       "Name: key, Length: 3081, dtype: int64"
      ]
     },
     "execution_count": 49,
     "metadata": {},
     "output_type": "execute_result"
    }
   ],
   "source": [
    "data_wire_time['key'].value_counts()"
   ]
  },
  {
   "cell_type": "markdown",
   "id": "3929ec7a",
   "metadata": {},
   "source": [
    "Имеются пропуски\n",
    "\n",
    "key не повторяется"
   ]
  },
  {
   "cell_type": "markdown",
   "id": "3753dcff",
   "metadata": {},
   "source": [
    "# "
   ]
  },
  {
   "cell_type": "markdown",
   "id": "4cc1ff2e",
   "metadata": {},
   "source": [
    "1 Вывод\n",
    "\n",
    "\n",
    "Столбцы на разных языках. Имена столбцов нужно превести к общепринятому виду (английским языком, прописными буквами и без пробелов).\n",
    "\n",
    "Во всех столбцах фреймов _date необходим перевод времени в формат datetime. Что мы и сделали сразу при выгрузке данных)\n",
    "\n",
    "Есть столбцы, которые могут не использовать тип float, так как хранят только целые числа.\n",
    "\n",
    "Целевым признаком будет последний замер температуры в data_temp\n",
    "\n",
    "Пропуски в столбцах могут быть по разным причинам: ошибка переноса, ошибка датчика или же просто остутсвие необходимости в проведении действия (нагрев, добавка присадок и пр.)\n",
    "\n",
    "Данные требуют групировки по нормеру партии key, также небходимо поправить все вышеперечисленные замечания."
   ]
  },
  {
   "cell_type": "markdown",
   "id": "ca005917",
   "metadata": {},
   "source": [
    "# Предобработка данных"
   ]
  },
  {
   "cell_type": "markdown",
   "id": "baadc520",
   "metadata": {},
   "source": [
    "Приведем столбцы датасета к единому формату"
   ]
  },
  {
   "cell_type": "code",
   "execution_count": 50,
   "id": "4a2726e3",
   "metadata": {},
   "outputs": [],
   "source": [
    "data_arc.columns = ['key', 'start_time','end_time', 'active_power', 'reactive_power']\n",
    "data_gas.columns = ['key', 'gas_1']\n",
    "data_temp.columns = ['key', 'time','temp']\n",
    "data_bulk.columns = data_bulk.columns.str.replace(r\"([A-Z])\", r\"\\1\").str.lower().str.replace(' ', '_').str.strip()\n",
    "data_bulk_time.columns = data_bulk_time.columns.str.replace(r\"([A-Z])\", r\"\\1\").str.lower().str.replace(' ', '_').str.strip()\n",
    "data_wire.columns = data_wire.columns.str.replace(r\"([A-Z])\", r\"\\1\").str.lower().str.replace(' ', '_').str.strip()\n",
    "data_wire_time.columns = data_wire_time.columns.str.replace(r\"([A-Z])\", r\"\\1\").str.lower().str.replace(' ', '_').str.strip()\n",
    "#data_wire_time.columns"
   ]
  },
  {
   "cell_type": "markdown",
   "id": "8ab5bf39",
   "metadata": {},
   "source": [
    "# Данные об электродах"
   ]
  },
  {
   "cell_type": "code",
   "execution_count": 51,
   "id": "1ff379b4",
   "metadata": {},
   "outputs": [],
   "source": [
    "data_arc = data_arc.query('reactive_power > 0')"
   ]
  },
  {
   "cell_type": "code",
   "execution_count": 52,
   "id": "433f258b",
   "metadata": {},
   "outputs": [
    {
     "name": "stdout",
     "output_type": "stream",
     "text": [
      "<class 'pandas.core.frame.DataFrame'>\n",
      "Int64Index: 14875 entries, 0 to 14875\n",
      "Data columns (total 5 columns):\n",
      " #   Column          Non-Null Count  Dtype         \n",
      "---  ------          --------------  -----         \n",
      " 0   key             14875 non-null  int64         \n",
      " 1   start_time      14875 non-null  datetime64[ns]\n",
      " 2   end_time        14875 non-null  datetime64[ns]\n",
      " 3   active_power    14875 non-null  float64       \n",
      " 4   reactive_power  14875 non-null  float64       \n",
      "dtypes: datetime64[ns](2), float64(2), int64(1)\n",
      "memory usage: 697.3 KB\n"
     ]
    }
   ],
   "source": [
    "data_arc.info()"
   ]
  },
  {
   "cell_type": "markdown",
   "id": "ebf61be9",
   "metadata": {},
   "source": [
    "# Данные о подаче сыпучих материалов (объём)"
   ]
  },
  {
   "cell_type": "markdown",
   "id": "ed891399",
   "metadata": {},
   "source": [
    "Заменяем NaN на 0"
   ]
  },
  {
   "cell_type": "code",
   "execution_count": 53,
   "id": "494d028a",
   "metadata": {},
   "outputs": [],
   "source": [
    "data_bulk= data_bulk.fillna(0)"
   ]
  },
  {
   "cell_type": "code",
   "execution_count": 54,
   "id": "eed569f2",
   "metadata": {},
   "outputs": [
    {
     "name": "stdout",
     "output_type": "stream",
     "text": [
      "<class 'pandas.core.frame.DataFrame'>\n",
      "RangeIndex: 3129 entries, 0 to 3128\n",
      "Data columns (total 16 columns):\n",
      " #   Column   Non-Null Count  Dtype  \n",
      "---  ------   --------------  -----  \n",
      " 0   key      3129 non-null   int64  \n",
      " 1   bulk_1   3129 non-null   float64\n",
      " 2   bulk_2   3129 non-null   float64\n",
      " 3   bulk_3   3129 non-null   float64\n",
      " 4   bulk_4   3129 non-null   float64\n",
      " 5   bulk_5   3129 non-null   float64\n",
      " 6   bulk_6   3129 non-null   float64\n",
      " 7   bulk_7   3129 non-null   float64\n",
      " 8   bulk_8   3129 non-null   float64\n",
      " 9   bulk_9   3129 non-null   float64\n",
      " 10  bulk_10  3129 non-null   float64\n",
      " 11  bulk_11  3129 non-null   float64\n",
      " 12  bulk_12  3129 non-null   float64\n",
      " 13  bulk_13  3129 non-null   float64\n",
      " 14  bulk_14  3129 non-null   float64\n",
      " 15  bulk_15  3129 non-null   float64\n",
      "dtypes: float64(15), int64(1)\n",
      "memory usage: 391.2 KB\n"
     ]
    }
   ],
   "source": [
    "data_bulk.info()"
   ]
  },
  {
   "cell_type": "markdown",
   "id": "71466c0c",
   "metadata": {},
   "source": [
    "# Данные о подаче сыпучих материалов (время)"
   ]
  },
  {
   "cell_type": "markdown",
   "id": "0ccf540d",
   "metadata": {},
   "source": [
    "Заменяем NaN на 0"
   ]
  },
  {
   "cell_type": "code",
   "execution_count": 55,
   "id": "042f996e",
   "metadata": {},
   "outputs": [],
   "source": [
    "data_bulk_time= data_bulk_time.fillna(0)"
   ]
  },
  {
   "cell_type": "code",
   "execution_count": 56,
   "id": "b6a87181",
   "metadata": {},
   "outputs": [
    {
     "name": "stdout",
     "output_type": "stream",
     "text": [
      "<class 'pandas.core.frame.DataFrame'>\n",
      "RangeIndex: 3129 entries, 0 to 3128\n",
      "Data columns (total 16 columns):\n",
      " #   Column   Non-Null Count  Dtype \n",
      "---  ------   --------------  ----- \n",
      " 0   key      3129 non-null   int64 \n",
      " 1   bulk_1   3129 non-null   object\n",
      " 2   bulk_2   3129 non-null   object\n",
      " 3   bulk_3   3129 non-null   object\n",
      " 4   bulk_4   3129 non-null   object\n",
      " 5   bulk_5   3129 non-null   object\n",
      " 6   bulk_6   3129 non-null   object\n",
      " 7   bulk_7   3129 non-null   object\n",
      " 8   bulk_8   3129 non-null   object\n",
      " 9   bulk_9   3129 non-null   object\n",
      " 10  bulk_10  3129 non-null   object\n",
      " 11  bulk_11  3129 non-null   object\n",
      " 12  bulk_12  3129 non-null   object\n",
      " 13  bulk_13  3129 non-null   object\n",
      " 14  bulk_14  3129 non-null   object\n",
      " 15  bulk_15  3129 non-null   object\n",
      "dtypes: int64(1), object(15)\n",
      "memory usage: 391.2+ KB\n"
     ]
    }
   ],
   "source": [
    "data_bulk_time.info()"
   ]
  },
  {
   "cell_type": "code",
   "execution_count": 57,
   "id": "8142e74e",
   "metadata": {},
   "outputs": [
    {
     "data": {
      "text/plain": [
       "key        0\n",
       "bulk_1     0\n",
       "bulk_2     0\n",
       "bulk_3     0\n",
       "bulk_4     0\n",
       "bulk_5     0\n",
       "bulk_6     0\n",
       "bulk_7     0\n",
       "bulk_8     0\n",
       "bulk_9     0\n",
       "bulk_10    0\n",
       "bulk_11    0\n",
       "bulk_12    0\n",
       "bulk_13    0\n",
       "bulk_14    0\n",
       "bulk_15    0\n",
       "dtype: int64"
      ]
     },
     "execution_count": 57,
     "metadata": {},
     "output_type": "execute_result"
    }
   ],
   "source": [
    "data_bulk_time.isna().sum()"
   ]
  },
  {
   "cell_type": "markdown",
   "id": "acd914e6",
   "metadata": {},
   "source": [
    "# Данные о продувке сплава газом"
   ]
  },
  {
   "cell_type": "code",
   "execution_count": 58,
   "id": "0116fc7f",
   "metadata": {},
   "outputs": [
    {
     "data": {
      "text/plain": [
       "key      0\n",
       "gas_1    0\n",
       "dtype: int64"
      ]
     },
     "execution_count": 58,
     "metadata": {},
     "output_type": "execute_result"
    }
   ],
   "source": [
    "data_gas.isna().sum()"
   ]
  },
  {
   "cell_type": "markdown",
   "id": "aa824200",
   "metadata": {},
   "source": [
    "# Результаты измерения температуры"
   ]
  },
  {
   "cell_type": "code",
   "execution_count": 59,
   "id": "789f4e89",
   "metadata": {},
   "outputs": [
    {
     "data": {
      "text/plain": [
       "key        0\n",
       "time       0\n",
       "temp    3427\n",
       "dtype: int64"
      ]
     },
     "execution_count": 59,
     "metadata": {},
     "output_type": "execute_result"
    }
   ],
   "source": [
    "data_temp.isna().sum()"
   ]
  },
  {
   "cell_type": "markdown",
   "id": "fa4fc71a",
   "metadata": {},
   "source": [
    "удаляю все строки с партиями, где нет данных по финишной температуре"
   ]
  },
  {
   "cell_type": "code",
   "execution_count": 60,
   "id": "3aa4b4a8",
   "metadata": {},
   "outputs": [
    {
     "data": {
      "text/html": [
       "<div>\n",
       "<style scoped>\n",
       "    .dataframe tbody tr th:only-of-type {\n",
       "        vertical-align: middle;\n",
       "    }\n",
       "\n",
       "    .dataframe tbody tr th {\n",
       "        vertical-align: top;\n",
       "    }\n",
       "\n",
       "    .dataframe thead th {\n",
       "        text-align: right;\n",
       "    }\n",
       "</style>\n",
       "<table border=\"1\" class=\"dataframe\">\n",
       "  <thead>\n",
       "    <tr style=\"text-align: right;\">\n",
       "      <th></th>\n",
       "      <th>key</th>\n",
       "      <th>time</th>\n",
       "      <th>temp</th>\n",
       "    </tr>\n",
       "  </thead>\n",
       "  <tbody>\n",
       "    <tr>\n",
       "      <th>0</th>\n",
       "      <td>1</td>\n",
       "      <td>2019-05-03 11:02:04</td>\n",
       "      <td>1571.0</td>\n",
       "    </tr>\n",
       "    <tr>\n",
       "      <th>1</th>\n",
       "      <td>1</td>\n",
       "      <td>2019-05-03 11:07:18</td>\n",
       "      <td>1604.0</td>\n",
       "    </tr>\n",
       "    <tr>\n",
       "      <th>2</th>\n",
       "      <td>1</td>\n",
       "      <td>2019-05-03 11:11:34</td>\n",
       "      <td>1618.0</td>\n",
       "    </tr>\n",
       "    <tr>\n",
       "      <th>3</th>\n",
       "      <td>1</td>\n",
       "      <td>2019-05-03 11:18:04</td>\n",
       "      <td>1601.0</td>\n",
       "    </tr>\n",
       "    <tr>\n",
       "      <th>4</th>\n",
       "      <td>1</td>\n",
       "      <td>2019-05-03 11:25:59</td>\n",
       "      <td>1606.0</td>\n",
       "    </tr>\n",
       "    <tr>\n",
       "      <th>...</th>\n",
       "      <td>...</td>\n",
       "      <td>...</td>\n",
       "      <td>...</td>\n",
       "    </tr>\n",
       "    <tr>\n",
       "      <th>13921</th>\n",
       "      <td>2499</td>\n",
       "      <td>2019-08-10 13:33:21</td>\n",
       "      <td>1569.0</td>\n",
       "    </tr>\n",
       "    <tr>\n",
       "      <th>13922</th>\n",
       "      <td>2499</td>\n",
       "      <td>2019-08-10 13:41:34</td>\n",
       "      <td>1604.0</td>\n",
       "    </tr>\n",
       "    <tr>\n",
       "      <th>13923</th>\n",
       "      <td>2499</td>\n",
       "      <td>2019-08-10 13:46:28</td>\n",
       "      <td>1593.0</td>\n",
       "    </tr>\n",
       "    <tr>\n",
       "      <th>13924</th>\n",
       "      <td>2499</td>\n",
       "      <td>2019-08-10 13:54:56</td>\n",
       "      <td>1588.0</td>\n",
       "    </tr>\n",
       "    <tr>\n",
       "      <th>13925</th>\n",
       "      <td>2499</td>\n",
       "      <td>2019-08-10 13:58:58</td>\n",
       "      <td>1603.0</td>\n",
       "    </tr>\n",
       "  </tbody>\n",
       "</table>\n",
       "<p>13926 rows × 3 columns</p>\n",
       "</div>"
      ],
      "text/plain": [
       "        key                time    temp\n",
       "0         1 2019-05-03 11:02:04  1571.0\n",
       "1         1 2019-05-03 11:07:18  1604.0\n",
       "2         1 2019-05-03 11:11:34  1618.0\n",
       "3         1 2019-05-03 11:18:04  1601.0\n",
       "4         1 2019-05-03 11:25:59  1606.0\n",
       "...     ...                 ...     ...\n",
       "13921  2499 2019-08-10 13:33:21  1569.0\n",
       "13922  2499 2019-08-10 13:41:34  1604.0\n",
       "13923  2499 2019-08-10 13:46:28  1593.0\n",
       "13924  2499 2019-08-10 13:54:56  1588.0\n",
       "13925  2499 2019-08-10 13:58:58  1603.0\n",
       "\n",
       "[13926 rows x 3 columns]"
      ]
     },
     "execution_count": 60,
     "metadata": {},
     "output_type": "execute_result"
    }
   ],
   "source": [
    "key_NaN = data_temp[data_temp['temp'].isna()]['key'].unique()\n",
    "data_temp = data_temp[~data_temp['key'].isin(key_NaN)]\n",
    "data_temp"
   ]
  },
  {
   "cell_type": "code",
   "execution_count": 61,
   "id": "cc6ea9aa",
   "metadata": {},
   "outputs": [
    {
     "data": {
      "text/plain": [
       "key     0\n",
       "time    0\n",
       "temp    0\n",
       "dtype: int64"
      ]
     },
     "execution_count": 61,
     "metadata": {},
     "output_type": "execute_result"
    }
   ],
   "source": [
    "data_temp.isna().sum()"
   ]
  },
  {
   "cell_type": "markdown",
   "id": "b6d6de27",
   "metadata": {},
   "source": [
    "# Данные о проволочных материалах (объём)"
   ]
  },
  {
   "cell_type": "code",
   "execution_count": 62,
   "id": "3f07aee9",
   "metadata": {},
   "outputs": [],
   "source": [
    "data_wire=data_wire.fillna(0)"
   ]
  },
  {
   "cell_type": "code",
   "execution_count": 63,
   "id": "7deee7a6",
   "metadata": {},
   "outputs": [
    {
     "name": "stdout",
     "output_type": "stream",
     "text": [
      "<class 'pandas.core.frame.DataFrame'>\n",
      "RangeIndex: 3081 entries, 0 to 3080\n",
      "Data columns (total 10 columns):\n",
      " #   Column  Non-Null Count  Dtype  \n",
      "---  ------  --------------  -----  \n",
      " 0   key     3081 non-null   int64  \n",
      " 1   wire_1  3081 non-null   float64\n",
      " 2   wire_2  3081 non-null   float64\n",
      " 3   wire_3  3081 non-null   float64\n",
      " 4   wire_4  3081 non-null   float64\n",
      " 5   wire_5  3081 non-null   float64\n",
      " 6   wire_6  3081 non-null   float64\n",
      " 7   wire_7  3081 non-null   float64\n",
      " 8   wire_8  3081 non-null   float64\n",
      " 9   wire_9  3081 non-null   float64\n",
      "dtypes: float64(9), int64(1)\n",
      "memory usage: 240.8 KB\n"
     ]
    }
   ],
   "source": [
    "data_wire.info()"
   ]
  },
  {
   "cell_type": "markdown",
   "id": "5dea67c4",
   "metadata": {},
   "source": [
    "# Данные о проволочных материалах (время)."
   ]
  },
  {
   "cell_type": "code",
   "execution_count": 64,
   "id": "6ad6da57",
   "metadata": {},
   "outputs": [],
   "source": [
    "data_wire_time=data_wire_time.fillna(0)"
   ]
  },
  {
   "cell_type": "code",
   "execution_count": 65,
   "id": "2140796b",
   "metadata": {},
   "outputs": [
    {
     "name": "stdout",
     "output_type": "stream",
     "text": [
      "<class 'pandas.core.frame.DataFrame'>\n",
      "RangeIndex: 3081 entries, 0 to 3080\n",
      "Data columns (total 10 columns):\n",
      " #   Column  Non-Null Count  Dtype \n",
      "---  ------  --------------  ----- \n",
      " 0   key     3081 non-null   int64 \n",
      " 1   wire_1  3081 non-null   object\n",
      " 2   wire_2  3081 non-null   object\n",
      " 3   wire_3  3081 non-null   object\n",
      " 4   wire_4  3081 non-null   object\n",
      " 5   wire_5  3081 non-null   object\n",
      " 6   wire_6  3081 non-null   object\n",
      " 7   wire_7  3081 non-null   object\n",
      " 8   wire_8  3081 non-null   object\n",
      " 9   wire_9  3081 non-null   object\n",
      "dtypes: int64(1), object(9)\n",
      "memory usage: 240.8+ KB\n"
     ]
    }
   ],
   "source": [
    "data_wire_time.info()"
   ]
  },
  {
   "cell_type": "markdown",
   "id": "e1c54eff",
   "metadata": {},
   "source": [
    "Все пропуски обработаны"
   ]
  },
  {
   "cell_type": "markdown",
   "id": "2e35cd73",
   "metadata": {},
   "source": [
    "\n",
    "# Подготовка данных"
   ]
  },
  {
   "cell_type": "markdown",
   "id": "5d86cb4d",
   "metadata": {},
   "source": [
    "Вычисляем время нагрева"
   ]
  },
  {
   "cell_type": "code",
   "execution_count": 66,
   "id": "8b8cc682",
   "metadata": {},
   "outputs": [],
   "source": [
    "data_arc['delta-time, sec'] = (data_arc['end_time'] - data_arc['start_time']).dt.seconds"
   ]
  },
  {
   "cell_type": "code",
   "execution_count": 67,
   "id": "54d9b92e",
   "metadata": {},
   "outputs": [
    {
     "data": {
      "text/html": [
       "<div>\n",
       "<style scoped>\n",
       "    .dataframe tbody tr th:only-of-type {\n",
       "        vertical-align: middle;\n",
       "    }\n",
       "\n",
       "    .dataframe tbody tr th {\n",
       "        vertical-align: top;\n",
       "    }\n",
       "\n",
       "    .dataframe thead th {\n",
       "        text-align: right;\n",
       "    }\n",
       "</style>\n",
       "<table border=\"1\" class=\"dataframe\">\n",
       "  <thead>\n",
       "    <tr style=\"text-align: right;\">\n",
       "      <th></th>\n",
       "      <th>key</th>\n",
       "      <th>start_time</th>\n",
       "      <th>end_time</th>\n",
       "      <th>active_power</th>\n",
       "      <th>reactive_power</th>\n",
       "      <th>delta-time, sec</th>\n",
       "    </tr>\n",
       "  </thead>\n",
       "  <tbody>\n",
       "    <tr>\n",
       "      <th>0</th>\n",
       "      <td>1</td>\n",
       "      <td>2019-05-03 11:02:14</td>\n",
       "      <td>2019-05-03 11:06:02</td>\n",
       "      <td>0.305130</td>\n",
       "      <td>0.211253</td>\n",
       "      <td>228</td>\n",
       "    </tr>\n",
       "    <tr>\n",
       "      <th>1</th>\n",
       "      <td>1</td>\n",
       "      <td>2019-05-03 11:07:28</td>\n",
       "      <td>2019-05-03 11:10:33</td>\n",
       "      <td>0.765658</td>\n",
       "      <td>0.477438</td>\n",
       "      <td>185</td>\n",
       "    </tr>\n",
       "    <tr>\n",
       "      <th>2</th>\n",
       "      <td>1</td>\n",
       "      <td>2019-05-03 11:11:44</td>\n",
       "      <td>2019-05-03 11:14:36</td>\n",
       "      <td>0.580313</td>\n",
       "      <td>0.430460</td>\n",
       "      <td>172</td>\n",
       "    </tr>\n",
       "    <tr>\n",
       "      <th>3</th>\n",
       "      <td>1</td>\n",
       "      <td>2019-05-03 11:18:14</td>\n",
       "      <td>2019-05-03 11:24:19</td>\n",
       "      <td>0.518496</td>\n",
       "      <td>0.379979</td>\n",
       "      <td>365</td>\n",
       "    </tr>\n",
       "    <tr>\n",
       "      <th>4</th>\n",
       "      <td>1</td>\n",
       "      <td>2019-05-03 11:26:09</td>\n",
       "      <td>2019-05-03 11:28:37</td>\n",
       "      <td>0.867133</td>\n",
       "      <td>0.643691</td>\n",
       "      <td>148</td>\n",
       "    </tr>\n",
       "    <tr>\n",
       "      <th>...</th>\n",
       "      <td>...</td>\n",
       "      <td>...</td>\n",
       "      <td>...</td>\n",
       "      <td>...</td>\n",
       "      <td>...</td>\n",
       "      <td>...</td>\n",
       "    </tr>\n",
       "    <tr>\n",
       "      <th>14871</th>\n",
       "      <td>3241</td>\n",
       "      <td>2019-09-06 16:49:05</td>\n",
       "      <td>2019-09-06 16:51:42</td>\n",
       "      <td>0.439735</td>\n",
       "      <td>0.299579</td>\n",
       "      <td>157</td>\n",
       "    </tr>\n",
       "    <tr>\n",
       "      <th>14872</th>\n",
       "      <td>3241</td>\n",
       "      <td>2019-09-06 16:55:11</td>\n",
       "      <td>2019-09-06 16:58:11</td>\n",
       "      <td>0.646498</td>\n",
       "      <td>0.458240</td>\n",
       "      <td>180</td>\n",
       "    </tr>\n",
       "    <tr>\n",
       "      <th>14873</th>\n",
       "      <td>3241</td>\n",
       "      <td>2019-09-06 17:06:48</td>\n",
       "      <td>2019-09-06 17:09:52</td>\n",
       "      <td>1.039726</td>\n",
       "      <td>0.769302</td>\n",
       "      <td>184</td>\n",
       "    </tr>\n",
       "    <tr>\n",
       "      <th>14874</th>\n",
       "      <td>3241</td>\n",
       "      <td>2019-09-06 17:21:58</td>\n",
       "      <td>2019-09-06 17:22:55</td>\n",
       "      <td>0.530267</td>\n",
       "      <td>0.361543</td>\n",
       "      <td>57</td>\n",
       "    </tr>\n",
       "    <tr>\n",
       "      <th>14875</th>\n",
       "      <td>3241</td>\n",
       "      <td>2019-09-06 17:24:54</td>\n",
       "      <td>2019-09-06 17:26:15</td>\n",
       "      <td>0.389057</td>\n",
       "      <td>0.251347</td>\n",
       "      <td>81</td>\n",
       "    </tr>\n",
       "  </tbody>\n",
       "</table>\n",
       "<p>14875 rows × 6 columns</p>\n",
       "</div>"
      ],
      "text/plain": [
       "        key          start_time            end_time  active_power  \\\n",
       "0         1 2019-05-03 11:02:14 2019-05-03 11:06:02      0.305130   \n",
       "1         1 2019-05-03 11:07:28 2019-05-03 11:10:33      0.765658   \n",
       "2         1 2019-05-03 11:11:44 2019-05-03 11:14:36      0.580313   \n",
       "3         1 2019-05-03 11:18:14 2019-05-03 11:24:19      0.518496   \n",
       "4         1 2019-05-03 11:26:09 2019-05-03 11:28:37      0.867133   \n",
       "...     ...                 ...                 ...           ...   \n",
       "14871  3241 2019-09-06 16:49:05 2019-09-06 16:51:42      0.439735   \n",
       "14872  3241 2019-09-06 16:55:11 2019-09-06 16:58:11      0.646498   \n",
       "14873  3241 2019-09-06 17:06:48 2019-09-06 17:09:52      1.039726   \n",
       "14874  3241 2019-09-06 17:21:58 2019-09-06 17:22:55      0.530267   \n",
       "14875  3241 2019-09-06 17:24:54 2019-09-06 17:26:15      0.389057   \n",
       "\n",
       "       reactive_power  delta-time, sec  \n",
       "0            0.211253              228  \n",
       "1            0.477438              185  \n",
       "2            0.430460              172  \n",
       "3            0.379979              365  \n",
       "4            0.643691              148  \n",
       "...               ...              ...  \n",
       "14871        0.299579              157  \n",
       "14872        0.458240              180  \n",
       "14873        0.769302              184  \n",
       "14874        0.361543               57  \n",
       "14875        0.251347               81  \n",
       "\n",
       "[14875 rows x 6 columns]"
      ]
     },
     "execution_count": 67,
     "metadata": {},
     "output_type": "execute_result"
    }
   ],
   "source": [
    "data_arc"
   ]
  },
  {
   "cell_type": "markdown",
   "id": "fc654b69",
   "metadata": {},
   "source": [
    "Вычисляем энергию"
   ]
  },
  {
   "cell_type": "code",
   "execution_count": 68,
   "id": "217f38f4",
   "metadata": {},
   "outputs": [
    {
     "data": {
      "text/html": [
       "<div>\n",
       "<style scoped>\n",
       "    .dataframe tbody tr th:only-of-type {\n",
       "        vertical-align: middle;\n",
       "    }\n",
       "\n",
       "    .dataframe tbody tr th {\n",
       "        vertical-align: top;\n",
       "    }\n",
       "\n",
       "    .dataframe thead th {\n",
       "        text-align: right;\n",
       "    }\n",
       "</style>\n",
       "<table border=\"1\" class=\"dataframe\">\n",
       "  <thead>\n",
       "    <tr style=\"text-align: right;\">\n",
       "      <th></th>\n",
       "      <th>key</th>\n",
       "      <th>start_time</th>\n",
       "      <th>end_time</th>\n",
       "      <th>active_power</th>\n",
       "      <th>reactive_power</th>\n",
       "      <th>delta-time, sec</th>\n",
       "      <th>energy</th>\n",
       "    </tr>\n",
       "  </thead>\n",
       "  <tbody>\n",
       "    <tr>\n",
       "      <th>0</th>\n",
       "      <td>1</td>\n",
       "      <td>2019-05-03 11:02:14</td>\n",
       "      <td>2019-05-03 11:06:02</td>\n",
       "      <td>0.305130</td>\n",
       "      <td>0.211253</td>\n",
       "      <td>228</td>\n",
       "      <td>69.569640</td>\n",
       "    </tr>\n",
       "    <tr>\n",
       "      <th>1</th>\n",
       "      <td>1</td>\n",
       "      <td>2019-05-03 11:07:28</td>\n",
       "      <td>2019-05-03 11:10:33</td>\n",
       "      <td>0.765658</td>\n",
       "      <td>0.477438</td>\n",
       "      <td>185</td>\n",
       "      <td>141.646730</td>\n",
       "    </tr>\n",
       "    <tr>\n",
       "      <th>2</th>\n",
       "      <td>1</td>\n",
       "      <td>2019-05-03 11:11:44</td>\n",
       "      <td>2019-05-03 11:14:36</td>\n",
       "      <td>0.580313</td>\n",
       "      <td>0.430460</td>\n",
       "      <td>172</td>\n",
       "      <td>99.813836</td>\n",
       "    </tr>\n",
       "    <tr>\n",
       "      <th>3</th>\n",
       "      <td>1</td>\n",
       "      <td>2019-05-03 11:18:14</td>\n",
       "      <td>2019-05-03 11:24:19</td>\n",
       "      <td>0.518496</td>\n",
       "      <td>0.379979</td>\n",
       "      <td>365</td>\n",
       "      <td>189.251040</td>\n",
       "    </tr>\n",
       "    <tr>\n",
       "      <th>4</th>\n",
       "      <td>1</td>\n",
       "      <td>2019-05-03 11:26:09</td>\n",
       "      <td>2019-05-03 11:28:37</td>\n",
       "      <td>0.867133</td>\n",
       "      <td>0.643691</td>\n",
       "      <td>148</td>\n",
       "      <td>128.335684</td>\n",
       "    </tr>\n",
       "    <tr>\n",
       "      <th>...</th>\n",
       "      <td>...</td>\n",
       "      <td>...</td>\n",
       "      <td>...</td>\n",
       "      <td>...</td>\n",
       "      <td>...</td>\n",
       "      <td>...</td>\n",
       "      <td>...</td>\n",
       "    </tr>\n",
       "    <tr>\n",
       "      <th>14871</th>\n",
       "      <td>3241</td>\n",
       "      <td>2019-09-06 16:49:05</td>\n",
       "      <td>2019-09-06 16:51:42</td>\n",
       "      <td>0.439735</td>\n",
       "      <td>0.299579</td>\n",
       "      <td>157</td>\n",
       "      <td>69.038395</td>\n",
       "    </tr>\n",
       "    <tr>\n",
       "      <th>14872</th>\n",
       "      <td>3241</td>\n",
       "      <td>2019-09-06 16:55:11</td>\n",
       "      <td>2019-09-06 16:58:11</td>\n",
       "      <td>0.646498</td>\n",
       "      <td>0.458240</td>\n",
       "      <td>180</td>\n",
       "      <td>116.369640</td>\n",
       "    </tr>\n",
       "    <tr>\n",
       "      <th>14873</th>\n",
       "      <td>3241</td>\n",
       "      <td>2019-09-06 17:06:48</td>\n",
       "      <td>2019-09-06 17:09:52</td>\n",
       "      <td>1.039726</td>\n",
       "      <td>0.769302</td>\n",
       "      <td>184</td>\n",
       "      <td>191.309584</td>\n",
       "    </tr>\n",
       "    <tr>\n",
       "      <th>14874</th>\n",
       "      <td>3241</td>\n",
       "      <td>2019-09-06 17:21:58</td>\n",
       "      <td>2019-09-06 17:22:55</td>\n",
       "      <td>0.530267</td>\n",
       "      <td>0.361543</td>\n",
       "      <td>57</td>\n",
       "      <td>30.225219</td>\n",
       "    </tr>\n",
       "    <tr>\n",
       "      <th>14875</th>\n",
       "      <td>3241</td>\n",
       "      <td>2019-09-06 17:24:54</td>\n",
       "      <td>2019-09-06 17:26:15</td>\n",
       "      <td>0.389057</td>\n",
       "      <td>0.251347</td>\n",
       "      <td>81</td>\n",
       "      <td>31.513617</td>\n",
       "    </tr>\n",
       "  </tbody>\n",
       "</table>\n",
       "<p>14875 rows × 7 columns</p>\n",
       "</div>"
      ],
      "text/plain": [
       "        key          start_time            end_time  active_power  \\\n",
       "0         1 2019-05-03 11:02:14 2019-05-03 11:06:02      0.305130   \n",
       "1         1 2019-05-03 11:07:28 2019-05-03 11:10:33      0.765658   \n",
       "2         1 2019-05-03 11:11:44 2019-05-03 11:14:36      0.580313   \n",
       "3         1 2019-05-03 11:18:14 2019-05-03 11:24:19      0.518496   \n",
       "4         1 2019-05-03 11:26:09 2019-05-03 11:28:37      0.867133   \n",
       "...     ...                 ...                 ...           ...   \n",
       "14871  3241 2019-09-06 16:49:05 2019-09-06 16:51:42      0.439735   \n",
       "14872  3241 2019-09-06 16:55:11 2019-09-06 16:58:11      0.646498   \n",
       "14873  3241 2019-09-06 17:06:48 2019-09-06 17:09:52      1.039726   \n",
       "14874  3241 2019-09-06 17:21:58 2019-09-06 17:22:55      0.530267   \n",
       "14875  3241 2019-09-06 17:24:54 2019-09-06 17:26:15      0.389057   \n",
       "\n",
       "       reactive_power  delta-time, sec      energy  \n",
       "0            0.211253              228   69.569640  \n",
       "1            0.477438              185  141.646730  \n",
       "2            0.430460              172   99.813836  \n",
       "3            0.379979              365  189.251040  \n",
       "4            0.643691              148  128.335684  \n",
       "...               ...              ...         ...  \n",
       "14871        0.299579              157   69.038395  \n",
       "14872        0.458240              180  116.369640  \n",
       "14873        0.769302              184  191.309584  \n",
       "14874        0.361543               57   30.225219  \n",
       "14875        0.251347               81   31.513617  \n",
       "\n",
       "[14875 rows x 7 columns]"
      ]
     },
     "execution_count": 68,
     "metadata": {},
     "output_type": "execute_result"
    }
   ],
   "source": [
    "data_arc['energy'] = data_arc['delta-time, sec'] * data_arc['active_power']\n",
    "data_arc"
   ]
  },
  {
   "cell_type": "markdown",
   "id": "7686b5a5",
   "metadata": {},
   "source": [
    "Оставляем данные только по затраченной энергии"
   ]
  },
  {
   "cell_type": "code",
   "execution_count": 69,
   "id": "58427c48",
   "metadata": {},
   "outputs": [
    {
     "data": {
      "text/html": [
       "<div>\n",
       "<style scoped>\n",
       "    .dataframe tbody tr th:only-of-type {\n",
       "        vertical-align: middle;\n",
       "    }\n",
       "\n",
       "    .dataframe tbody tr th {\n",
       "        vertical-align: top;\n",
       "    }\n",
       "\n",
       "    .dataframe thead th {\n",
       "        text-align: right;\n",
       "    }\n",
       "</style>\n",
       "<table border=\"1\" class=\"dataframe\">\n",
       "  <thead>\n",
       "    <tr style=\"text-align: right;\">\n",
       "      <th></th>\n",
       "      <th>energy</th>\n",
       "    </tr>\n",
       "    <tr>\n",
       "      <th>key</th>\n",
       "      <th></th>\n",
       "    </tr>\n",
       "  </thead>\n",
       "  <tbody>\n",
       "    <tr>\n",
       "      <th>1</th>\n",
       "      <td>628.616930</td>\n",
       "    </tr>\n",
       "    <tr>\n",
       "      <th>2</th>\n",
       "      <td>395.281800</td>\n",
       "    </tr>\n",
       "    <tr>\n",
       "      <th>3</th>\n",
       "      <td>581.774624</td>\n",
       "    </tr>\n",
       "    <tr>\n",
       "      <th>4</th>\n",
       "      <td>543.710274</td>\n",
       "    </tr>\n",
       "    <tr>\n",
       "      <th>5</th>\n",
       "      <td>412.180480</td>\n",
       "    </tr>\n",
       "    <tr>\n",
       "      <th>...</th>\n",
       "      <td>...</td>\n",
       "    </tr>\n",
       "    <tr>\n",
       "      <th>3237</th>\n",
       "      <td>493.152191</td>\n",
       "    </tr>\n",
       "    <tr>\n",
       "      <th>3238</th>\n",
       "      <td>229.390861</td>\n",
       "    </tr>\n",
       "    <tr>\n",
       "      <th>3239</th>\n",
       "      <td>751.674870</td>\n",
       "    </tr>\n",
       "    <tr>\n",
       "      <th>3240</th>\n",
       "      <td>530.736187</td>\n",
       "    </tr>\n",
       "    <tr>\n",
       "      <th>3241</th>\n",
       "      <td>438.456455</td>\n",
       "    </tr>\n",
       "  </tbody>\n",
       "</table>\n",
       "<p>3214 rows × 1 columns</p>\n",
       "</div>"
      ],
      "text/plain": [
       "          energy\n",
       "key             \n",
       "1     628.616930\n",
       "2     395.281800\n",
       "3     581.774624\n",
       "4     543.710274\n",
       "5     412.180480\n",
       "...          ...\n",
       "3237  493.152191\n",
       "3238  229.390861\n",
       "3239  751.674870\n",
       "3240  530.736187\n",
       "3241  438.456455\n",
       "\n",
       "[3214 rows x 1 columns]"
      ]
     },
     "execution_count": 69,
     "metadata": {},
     "output_type": "execute_result"
    }
   ],
   "source": [
    "data_arc = data_arc.groupby('key').agg({'energy': sum})\n",
    "data_arc"
   ]
  },
  {
   "cell_type": "markdown",
   "id": "3bed8684",
   "metadata": {},
   "source": [
    "Объединяем все в одну таблицу"
   ]
  },
  {
   "cell_type": "code",
   "execution_count": 70,
   "id": "efed39f3",
   "metadata": {},
   "outputs": [],
   "source": [
    "data_target= data_temp.groupby(by = 'key', as_index = False).agg(['first', 'last'])"
   ]
  },
  {
   "cell_type": "code",
   "execution_count": 71,
   "id": "8fc5be22",
   "metadata": {},
   "outputs": [],
   "source": [
    "data_target.columns = ['time_first', 'time_last', 'temp_first', 'temp_last']"
   ]
  },
  {
   "cell_type": "code",
   "execution_count": 72,
   "id": "d636137c",
   "metadata": {},
   "outputs": [],
   "source": [
    "data_target=data_target.drop(['time_first', 'time_last'], axis=1)"
   ]
  },
  {
   "cell_type": "code",
   "execution_count": 73,
   "id": "ae1c5280",
   "metadata": {
    "scrolled": true
   },
   "outputs": [
    {
     "data": {
      "text/html": [
       "<div>\n",
       "<style scoped>\n",
       "    .dataframe tbody tr th:only-of-type {\n",
       "        vertical-align: middle;\n",
       "    }\n",
       "\n",
       "    .dataframe tbody tr th {\n",
       "        vertical-align: top;\n",
       "    }\n",
       "\n",
       "    .dataframe thead th {\n",
       "        text-align: right;\n",
       "    }\n",
       "</style>\n",
       "<table border=\"1\" class=\"dataframe\">\n",
       "  <thead>\n",
       "    <tr style=\"text-align: right;\">\n",
       "      <th></th>\n",
       "      <th>key</th>\n",
       "      <th>temp_first</th>\n",
       "      <th>temp_last</th>\n",
       "      <th>energy</th>\n",
       "      <th>bulk_1</th>\n",
       "      <th>bulk_2</th>\n",
       "      <th>bulk_3</th>\n",
       "      <th>bulk_4</th>\n",
       "      <th>bulk_5</th>\n",
       "      <th>bulk_6</th>\n",
       "      <th>...</th>\n",
       "      <th>gas_1</th>\n",
       "      <th>wire_1</th>\n",
       "      <th>wire_2</th>\n",
       "      <th>wire_3</th>\n",
       "      <th>wire_4</th>\n",
       "      <th>wire_5</th>\n",
       "      <th>wire_6</th>\n",
       "      <th>wire_7</th>\n",
       "      <th>wire_8</th>\n",
       "      <th>wire_9</th>\n",
       "    </tr>\n",
       "  </thead>\n",
       "  <tbody>\n",
       "    <tr>\n",
       "      <th>0</th>\n",
       "      <td>1</td>\n",
       "      <td>1571.0</td>\n",
       "      <td>1613.0</td>\n",
       "      <td>628.616930</td>\n",
       "      <td>0.0</td>\n",
       "      <td>0.0</td>\n",
       "      <td>0.0</td>\n",
       "      <td>43.0</td>\n",
       "      <td>0.0</td>\n",
       "      <td>0.0</td>\n",
       "      <td>...</td>\n",
       "      <td>29.749986</td>\n",
       "      <td>60.059998</td>\n",
       "      <td>0.00000</td>\n",
       "      <td>0.0</td>\n",
       "      <td>0.0</td>\n",
       "      <td>0.0</td>\n",
       "      <td>0.0</td>\n",
       "      <td>0.0</td>\n",
       "      <td>0.0</td>\n",
       "      <td>0.0</td>\n",
       "    </tr>\n",
       "    <tr>\n",
       "      <th>1</th>\n",
       "      <td>2</td>\n",
       "      <td>1581.0</td>\n",
       "      <td>1602.0</td>\n",
       "      <td>395.281800</td>\n",
       "      <td>0.0</td>\n",
       "      <td>0.0</td>\n",
       "      <td>0.0</td>\n",
       "      <td>73.0</td>\n",
       "      <td>0.0</td>\n",
       "      <td>0.0</td>\n",
       "      <td>...</td>\n",
       "      <td>12.555561</td>\n",
       "      <td>96.052315</td>\n",
       "      <td>0.00000</td>\n",
       "      <td>0.0</td>\n",
       "      <td>0.0</td>\n",
       "      <td>0.0</td>\n",
       "      <td>0.0</td>\n",
       "      <td>0.0</td>\n",
       "      <td>0.0</td>\n",
       "      <td>0.0</td>\n",
       "    </tr>\n",
       "    <tr>\n",
       "      <th>2</th>\n",
       "      <td>3</td>\n",
       "      <td>1596.0</td>\n",
       "      <td>1599.0</td>\n",
       "      <td>581.774624</td>\n",
       "      <td>0.0</td>\n",
       "      <td>0.0</td>\n",
       "      <td>0.0</td>\n",
       "      <td>34.0</td>\n",
       "      <td>0.0</td>\n",
       "      <td>0.0</td>\n",
       "      <td>...</td>\n",
       "      <td>28.554793</td>\n",
       "      <td>91.160157</td>\n",
       "      <td>0.00000</td>\n",
       "      <td>0.0</td>\n",
       "      <td>0.0</td>\n",
       "      <td>0.0</td>\n",
       "      <td>0.0</td>\n",
       "      <td>0.0</td>\n",
       "      <td>0.0</td>\n",
       "      <td>0.0</td>\n",
       "    </tr>\n",
       "    <tr>\n",
       "      <th>3</th>\n",
       "      <td>4</td>\n",
       "      <td>1601.0</td>\n",
       "      <td>1625.0</td>\n",
       "      <td>543.710274</td>\n",
       "      <td>0.0</td>\n",
       "      <td>0.0</td>\n",
       "      <td>0.0</td>\n",
       "      <td>81.0</td>\n",
       "      <td>0.0</td>\n",
       "      <td>0.0</td>\n",
       "      <td>...</td>\n",
       "      <td>18.841219</td>\n",
       "      <td>89.063515</td>\n",
       "      <td>0.00000</td>\n",
       "      <td>0.0</td>\n",
       "      <td>0.0</td>\n",
       "      <td>0.0</td>\n",
       "      <td>0.0</td>\n",
       "      <td>0.0</td>\n",
       "      <td>0.0</td>\n",
       "      <td>0.0</td>\n",
       "    </tr>\n",
       "    <tr>\n",
       "      <th>4</th>\n",
       "      <td>5</td>\n",
       "      <td>1576.0</td>\n",
       "      <td>1602.0</td>\n",
       "      <td>412.180480</td>\n",
       "      <td>0.0</td>\n",
       "      <td>0.0</td>\n",
       "      <td>0.0</td>\n",
       "      <td>78.0</td>\n",
       "      <td>0.0</td>\n",
       "      <td>0.0</td>\n",
       "      <td>...</td>\n",
       "      <td>5.413692</td>\n",
       "      <td>89.238236</td>\n",
       "      <td>9.11456</td>\n",
       "      <td>0.0</td>\n",
       "      <td>0.0</td>\n",
       "      <td>0.0</td>\n",
       "      <td>0.0</td>\n",
       "      <td>0.0</td>\n",
       "      <td>0.0</td>\n",
       "      <td>0.0</td>\n",
       "    </tr>\n",
       "    <tr>\n",
       "      <th>...</th>\n",
       "      <td>...</td>\n",
       "      <td>...</td>\n",
       "      <td>...</td>\n",
       "      <td>...</td>\n",
       "      <td>...</td>\n",
       "      <td>...</td>\n",
       "      <td>...</td>\n",
       "      <td>...</td>\n",
       "      <td>...</td>\n",
       "      <td>...</td>\n",
       "      <td>...</td>\n",
       "      <td>...</td>\n",
       "      <td>...</td>\n",
       "      <td>...</td>\n",
       "      <td>...</td>\n",
       "      <td>...</td>\n",
       "      <td>...</td>\n",
       "      <td>...</td>\n",
       "      <td>...</td>\n",
       "      <td>...</td>\n",
       "      <td>...</td>\n",
       "    </tr>\n",
       "    <tr>\n",
       "      <th>2324</th>\n",
       "      <td>2495</td>\n",
       "      <td>1570.0</td>\n",
       "      <td>1591.0</td>\n",
       "      <td>571.539318</td>\n",
       "      <td>0.0</td>\n",
       "      <td>0.0</td>\n",
       "      <td>21.0</td>\n",
       "      <td>0.0</td>\n",
       "      <td>0.0</td>\n",
       "      <td>0.0</td>\n",
       "      <td>...</td>\n",
       "      <td>7.125735</td>\n",
       "      <td>89.150879</td>\n",
       "      <td>0.00000</td>\n",
       "      <td>0.0</td>\n",
       "      <td>0.0</td>\n",
       "      <td>0.0</td>\n",
       "      <td>0.0</td>\n",
       "      <td>0.0</td>\n",
       "      <td>0.0</td>\n",
       "      <td>0.0</td>\n",
       "    </tr>\n",
       "    <tr>\n",
       "      <th>2325</th>\n",
       "      <td>2496</td>\n",
       "      <td>1554.0</td>\n",
       "      <td>1591.0</td>\n",
       "      <td>675.222467</td>\n",
       "      <td>0.0</td>\n",
       "      <td>0.0</td>\n",
       "      <td>0.0</td>\n",
       "      <td>63.0</td>\n",
       "      <td>0.0</td>\n",
       "      <td>0.0</td>\n",
       "      <td>...</td>\n",
       "      <td>9.412616</td>\n",
       "      <td>114.179527</td>\n",
       "      <td>0.00000</td>\n",
       "      <td>0.0</td>\n",
       "      <td>0.0</td>\n",
       "      <td>0.0</td>\n",
       "      <td>0.0</td>\n",
       "      <td>0.0</td>\n",
       "      <td>0.0</td>\n",
       "      <td>0.0</td>\n",
       "    </tr>\n",
       "    <tr>\n",
       "      <th>2326</th>\n",
       "      <td>2497</td>\n",
       "      <td>1571.0</td>\n",
       "      <td>1589.0</td>\n",
       "      <td>680.326674</td>\n",
       "      <td>0.0</td>\n",
       "      <td>0.0</td>\n",
       "      <td>0.0</td>\n",
       "      <td>85.0</td>\n",
       "      <td>0.0</td>\n",
       "      <td>0.0</td>\n",
       "      <td>...</td>\n",
       "      <td>6.271699</td>\n",
       "      <td>94.086723</td>\n",
       "      <td>9.04800</td>\n",
       "      <td>0.0</td>\n",
       "      <td>0.0</td>\n",
       "      <td>0.0</td>\n",
       "      <td>0.0</td>\n",
       "      <td>0.0</td>\n",
       "      <td>0.0</td>\n",
       "      <td>0.0</td>\n",
       "    </tr>\n",
       "    <tr>\n",
       "      <th>2327</th>\n",
       "      <td>2498</td>\n",
       "      <td>1591.0</td>\n",
       "      <td>1594.0</td>\n",
       "      <td>474.918795</td>\n",
       "      <td>0.0</td>\n",
       "      <td>0.0</td>\n",
       "      <td>90.0</td>\n",
       "      <td>0.0</td>\n",
       "      <td>0.0</td>\n",
       "      <td>0.0</td>\n",
       "      <td>...</td>\n",
       "      <td>14.953657</td>\n",
       "      <td>118.110717</td>\n",
       "      <td>0.00000</td>\n",
       "      <td>0.0</td>\n",
       "      <td>0.0</td>\n",
       "      <td>0.0</td>\n",
       "      <td>0.0</td>\n",
       "      <td>0.0</td>\n",
       "      <td>0.0</td>\n",
       "      <td>0.0</td>\n",
       "    </tr>\n",
       "    <tr>\n",
       "      <th>2328</th>\n",
       "      <td>2499</td>\n",
       "      <td>1569.0</td>\n",
       "      <td>1603.0</td>\n",
       "      <td>427.922553</td>\n",
       "      <td>0.0</td>\n",
       "      <td>0.0</td>\n",
       "      <td>47.0</td>\n",
       "      <td>0.0</td>\n",
       "      <td>0.0</td>\n",
       "      <td>0.0</td>\n",
       "      <td>...</td>\n",
       "      <td>11.336151</td>\n",
       "      <td>110.160958</td>\n",
       "      <td>50.00528</td>\n",
       "      <td>0.0</td>\n",
       "      <td>0.0</td>\n",
       "      <td>0.0</td>\n",
       "      <td>0.0</td>\n",
       "      <td>0.0</td>\n",
       "      <td>0.0</td>\n",
       "      <td>0.0</td>\n",
       "    </tr>\n",
       "  </tbody>\n",
       "</table>\n",
       "<p>2329 rows × 29 columns</p>\n",
       "</div>"
      ],
      "text/plain": [
       "       key  temp_first  temp_last      energy  bulk_1  bulk_2  bulk_3  bulk_4  \\\n",
       "0        1      1571.0     1613.0  628.616930     0.0     0.0     0.0    43.0   \n",
       "1        2      1581.0     1602.0  395.281800     0.0     0.0     0.0    73.0   \n",
       "2        3      1596.0     1599.0  581.774624     0.0     0.0     0.0    34.0   \n",
       "3        4      1601.0     1625.0  543.710274     0.0     0.0     0.0    81.0   \n",
       "4        5      1576.0     1602.0  412.180480     0.0     0.0     0.0    78.0   \n",
       "...    ...         ...        ...         ...     ...     ...     ...     ...   \n",
       "2324  2495      1570.0     1591.0  571.539318     0.0     0.0    21.0     0.0   \n",
       "2325  2496      1554.0     1591.0  675.222467     0.0     0.0     0.0    63.0   \n",
       "2326  2497      1571.0     1589.0  680.326674     0.0     0.0     0.0    85.0   \n",
       "2327  2498      1591.0     1594.0  474.918795     0.0     0.0    90.0     0.0   \n",
       "2328  2499      1569.0     1603.0  427.922553     0.0     0.0    47.0     0.0   \n",
       "\n",
       "      bulk_5  bulk_6  ...      gas_1      wire_1    wire_2  wire_3  wire_4  \\\n",
       "0        0.0     0.0  ...  29.749986   60.059998   0.00000     0.0     0.0   \n",
       "1        0.0     0.0  ...  12.555561   96.052315   0.00000     0.0     0.0   \n",
       "2        0.0     0.0  ...  28.554793   91.160157   0.00000     0.0     0.0   \n",
       "3        0.0     0.0  ...  18.841219   89.063515   0.00000     0.0     0.0   \n",
       "4        0.0     0.0  ...   5.413692   89.238236   9.11456     0.0     0.0   \n",
       "...      ...     ...  ...        ...         ...       ...     ...     ...   \n",
       "2324     0.0     0.0  ...   7.125735   89.150879   0.00000     0.0     0.0   \n",
       "2325     0.0     0.0  ...   9.412616  114.179527   0.00000     0.0     0.0   \n",
       "2326     0.0     0.0  ...   6.271699   94.086723   9.04800     0.0     0.0   \n",
       "2327     0.0     0.0  ...  14.953657  118.110717   0.00000     0.0     0.0   \n",
       "2328     0.0     0.0  ...  11.336151  110.160958  50.00528     0.0     0.0   \n",
       "\n",
       "      wire_5  wire_6  wire_7  wire_8  wire_9  \n",
       "0        0.0     0.0     0.0     0.0     0.0  \n",
       "1        0.0     0.0     0.0     0.0     0.0  \n",
       "2        0.0     0.0     0.0     0.0     0.0  \n",
       "3        0.0     0.0     0.0     0.0     0.0  \n",
       "4        0.0     0.0     0.0     0.0     0.0  \n",
       "...      ...     ...     ...     ...     ...  \n",
       "2324     0.0     0.0     0.0     0.0     0.0  \n",
       "2325     0.0     0.0     0.0     0.0     0.0  \n",
       "2326     0.0     0.0     0.0     0.0     0.0  \n",
       "2327     0.0     0.0     0.0     0.0     0.0  \n",
       "2328     0.0     0.0     0.0     0.0     0.0  \n",
       "\n",
       "[2329 rows x 29 columns]"
      ]
     },
     "execution_count": 73,
     "metadata": {},
     "output_type": "execute_result"
    }
   ],
   "source": [
    "data_final = data_target.merge(right=data_arc,\n",
    "                       how='inner',\n",
    "                       on='key')\\\n",
    "                .merge(right=data_bulk,\n",
    "                       how='inner',\n",
    "                       on='key')\\\n",
    "                .merge(right=data_gas,\n",
    "                       how='inner',\n",
    "                       on='key')\\\n",
    "                .merge(right=data_wire,\n",
    "                       how='inner',\n",
    "                       on='key')\n",
    "\n",
    "data_final"
   ]
  },
  {
   "cell_type": "code",
   "execution_count": 74,
   "id": "bb7d6188",
   "metadata": {},
   "outputs": [
    {
     "data": {
      "text/html": [
       "<div>\n",
       "<style scoped>\n",
       "    .dataframe tbody tr th:only-of-type {\n",
       "        vertical-align: middle;\n",
       "    }\n",
       "\n",
       "    .dataframe tbody tr th {\n",
       "        vertical-align: top;\n",
       "    }\n",
       "\n",
       "    .dataframe thead th {\n",
       "        text-align: right;\n",
       "    }\n",
       "</style>\n",
       "<table border=\"1\" class=\"dataframe\">\n",
       "  <thead>\n",
       "    <tr style=\"text-align: right;\">\n",
       "      <th></th>\n",
       "      <th>count</th>\n",
       "      <th>mean</th>\n",
       "      <th>std</th>\n",
       "      <th>min</th>\n",
       "      <th>25%</th>\n",
       "      <th>50%</th>\n",
       "      <th>75%</th>\n",
       "      <th>max</th>\n",
       "    </tr>\n",
       "  </thead>\n",
       "  <tbody>\n",
       "    <tr>\n",
       "      <th>key</th>\n",
       "      <td>2329.0</td>\n",
       "      <td>1251.832546</td>\n",
       "      <td>714.762400</td>\n",
       "      <td>1.000000</td>\n",
       "      <td>630.000000</td>\n",
       "      <td>1255.000000</td>\n",
       "      <td>1868.000000</td>\n",
       "      <td>2499.000000</td>\n",
       "    </tr>\n",
       "    <tr>\n",
       "      <th>temp_first</th>\n",
       "      <td>2329.0</td>\n",
       "      <td>1586.718763</td>\n",
       "      <td>28.290792</td>\n",
       "      <td>1191.000000</td>\n",
       "      <td>1571.000000</td>\n",
       "      <td>1587.000000</td>\n",
       "      <td>1603.000000</td>\n",
       "      <td>1660.000000</td>\n",
       "    </tr>\n",
       "    <tr>\n",
       "      <th>temp_last</th>\n",
       "      <td>2329.0</td>\n",
       "      <td>1593.365393</td>\n",
       "      <td>11.200915</td>\n",
       "      <td>1541.000000</td>\n",
       "      <td>1587.000000</td>\n",
       "      <td>1593.000000</td>\n",
       "      <td>1598.000000</td>\n",
       "      <td>1653.000000</td>\n",
       "    </tr>\n",
       "    <tr>\n",
       "      <th>energy</th>\n",
       "      <td>2329.0</td>\n",
       "      <td>538.967370</td>\n",
       "      <td>257.314897</td>\n",
       "      <td>26.187544</td>\n",
       "      <td>368.130458</td>\n",
       "      <td>508.068106</td>\n",
       "      <td>678.323372</td>\n",
       "      <td>3718.054401</td>\n",
       "    </tr>\n",
       "    <tr>\n",
       "      <th>bulk_1</th>\n",
       "      <td>2329.0</td>\n",
       "      <td>3.427651</td>\n",
       "      <td>12.412132</td>\n",
       "      <td>0.000000</td>\n",
       "      <td>0.000000</td>\n",
       "      <td>0.000000</td>\n",
       "      <td>0.000000</td>\n",
       "      <td>185.000000</td>\n",
       "    </tr>\n",
       "    <tr>\n",
       "      <th>bulk_2</th>\n",
       "      <td>2329.0</td>\n",
       "      <td>1.422499</td>\n",
       "      <td>19.082119</td>\n",
       "      <td>0.000000</td>\n",
       "      <td>0.000000</td>\n",
       "      <td>0.000000</td>\n",
       "      <td>0.000000</td>\n",
       "      <td>325.000000</td>\n",
       "    </tr>\n",
       "    <tr>\n",
       "      <th>bulk_3</th>\n",
       "      <td>2329.0</td>\n",
       "      <td>47.348218</td>\n",
       "      <td>75.310430</td>\n",
       "      <td>0.000000</td>\n",
       "      <td>0.000000</td>\n",
       "      <td>0.000000</td>\n",
       "      <td>80.000000</td>\n",
       "      <td>454.000000</td>\n",
       "    </tr>\n",
       "    <tr>\n",
       "      <th>bulk_4</th>\n",
       "      <td>2329.0</td>\n",
       "      <td>37.303564</td>\n",
       "      <td>58.643238</td>\n",
       "      <td>0.000000</td>\n",
       "      <td>0.000000</td>\n",
       "      <td>0.000000</td>\n",
       "      <td>77.000000</td>\n",
       "      <td>281.000000</td>\n",
       "    </tr>\n",
       "    <tr>\n",
       "      <th>bulk_5</th>\n",
       "      <td>2329.0</td>\n",
       "      <td>2.640189</td>\n",
       "      <td>22.402293</td>\n",
       "      <td>0.000000</td>\n",
       "      <td>0.000000</td>\n",
       "      <td>0.000000</td>\n",
       "      <td>0.000000</td>\n",
       "      <td>603.000000</td>\n",
       "    </tr>\n",
       "    <tr>\n",
       "      <th>bulk_6</th>\n",
       "      <td>2329.0</td>\n",
       "      <td>22.430228</td>\n",
       "      <td>55.790873</td>\n",
       "      <td>0.000000</td>\n",
       "      <td>0.000000</td>\n",
       "      <td>0.000000</td>\n",
       "      <td>0.000000</td>\n",
       "      <td>503.000000</td>\n",
       "    </tr>\n",
       "    <tr>\n",
       "      <th>bulk_7</th>\n",
       "      <td>2329.0</td>\n",
       "      <td>2.004723</td>\n",
       "      <td>30.676234</td>\n",
       "      <td>0.000000</td>\n",
       "      <td>0.000000</td>\n",
       "      <td>0.000000</td>\n",
       "      <td>0.000000</td>\n",
       "      <td>772.000000</td>\n",
       "    </tr>\n",
       "    <tr>\n",
       "      <th>bulk_8</th>\n",
       "      <td>2329.0</td>\n",
       "      <td>0.021039</td>\n",
       "      <td>1.015340</td>\n",
       "      <td>0.000000</td>\n",
       "      <td>0.000000</td>\n",
       "      <td>0.000000</td>\n",
       "      <td>0.000000</td>\n",
       "      <td>49.000000</td>\n",
       "    </tr>\n",
       "    <tr>\n",
       "      <th>bulk_9</th>\n",
       "      <td>2329.0</td>\n",
       "      <td>0.444826</td>\n",
       "      <td>6.220641</td>\n",
       "      <td>0.000000</td>\n",
       "      <td>0.000000</td>\n",
       "      <td>0.000000</td>\n",
       "      <td>0.000000</td>\n",
       "      <td>147.000000</td>\n",
       "    </tr>\n",
       "    <tr>\n",
       "      <th>bulk_10</th>\n",
       "      <td>2329.0</td>\n",
       "      <td>5.052812</td>\n",
       "      <td>20.917800</td>\n",
       "      <td>0.000000</td>\n",
       "      <td>0.000000</td>\n",
       "      <td>0.000000</td>\n",
       "      <td>0.000000</td>\n",
       "      <td>159.000000</td>\n",
       "    </tr>\n",
       "    <tr>\n",
       "      <th>bulk_11</th>\n",
       "      <td>2329.0</td>\n",
       "      <td>4.245170</td>\n",
       "      <td>22.515487</td>\n",
       "      <td>0.000000</td>\n",
       "      <td>0.000000</td>\n",
       "      <td>0.000000</td>\n",
       "      <td>0.000000</td>\n",
       "      <td>313.000000</td>\n",
       "    </tr>\n",
       "    <tr>\n",
       "      <th>bulk_12</th>\n",
       "      <td>2329.0</td>\n",
       "      <td>208.415629</td>\n",
       "      <td>157.062272</td>\n",
       "      <td>0.000000</td>\n",
       "      <td>105.000000</td>\n",
       "      <td>206.000000</td>\n",
       "      <td>282.000000</td>\n",
       "      <td>1849.000000</td>\n",
       "    </tr>\n",
       "    <tr>\n",
       "      <th>bulk_13</th>\n",
       "      <td>2329.0</td>\n",
       "      <td>1.067411</td>\n",
       "      <td>14.235055</td>\n",
       "      <td>0.000000</td>\n",
       "      <td>0.000000</td>\n",
       "      <td>0.000000</td>\n",
       "      <td>0.000000</td>\n",
       "      <td>305.000000</td>\n",
       "    </tr>\n",
       "    <tr>\n",
       "      <th>bulk_14</th>\n",
       "      <td>2329.0</td>\n",
       "      <td>153.853585</td>\n",
       "      <td>81.404354</td>\n",
       "      <td>0.000000</td>\n",
       "      <td>105.000000</td>\n",
       "      <td>149.000000</td>\n",
       "      <td>204.000000</td>\n",
       "      <td>636.000000</td>\n",
       "    </tr>\n",
       "    <tr>\n",
       "      <th>bulk_15</th>\n",
       "      <td>2329.0</td>\n",
       "      <td>119.952769</td>\n",
       "      <td>84.640443</td>\n",
       "      <td>0.000000</td>\n",
       "      <td>0.000000</td>\n",
       "      <td>107.000000</td>\n",
       "      <td>204.000000</td>\n",
       "      <td>405.000000</td>\n",
       "    </tr>\n",
       "    <tr>\n",
       "      <th>gas_1</th>\n",
       "      <td>2329.0</td>\n",
       "      <td>11.375600</td>\n",
       "      <td>6.392041</td>\n",
       "      <td>0.008399</td>\n",
       "      <td>7.282948</td>\n",
       "      <td>10.100950</td>\n",
       "      <td>14.216688</td>\n",
       "      <td>77.995040</td>\n",
       "    </tr>\n",
       "    <tr>\n",
       "      <th>wire_1</th>\n",
       "      <td>2329.0</td>\n",
       "      <td>102.443601</td>\n",
       "      <td>43.539993</td>\n",
       "      <td>0.000000</td>\n",
       "      <td>73.207679</td>\n",
       "      <td>101.119201</td>\n",
       "      <td>128.091599</td>\n",
       "      <td>330.314424</td>\n",
       "    </tr>\n",
       "    <tr>\n",
       "      <th>wire_2</th>\n",
       "      <td>2329.0</td>\n",
       "      <td>17.609859</td>\n",
       "      <td>33.624771</td>\n",
       "      <td>0.000000</td>\n",
       "      <td>0.000000</td>\n",
       "      <td>0.000000</td>\n",
       "      <td>23.102560</td>\n",
       "      <td>282.780152</td>\n",
       "    </tr>\n",
       "    <tr>\n",
       "      <th>wire_3</th>\n",
       "      <td>2329.0</td>\n",
       "      <td>3.234916</td>\n",
       "      <td>27.942871</td>\n",
       "      <td>0.000000</td>\n",
       "      <td>0.000000</td>\n",
       "      <td>0.000000</td>\n",
       "      <td>0.000000</td>\n",
       "      <td>385.008668</td>\n",
       "    </tr>\n",
       "    <tr>\n",
       "      <th>wire_4</th>\n",
       "      <td>2329.0</td>\n",
       "      <td>0.306550</td>\n",
       "      <td>4.757746</td>\n",
       "      <td>0.000000</td>\n",
       "      <td>0.000000</td>\n",
       "      <td>0.000000</td>\n",
       "      <td>0.000000</td>\n",
       "      <td>113.231044</td>\n",
       "    </tr>\n",
       "    <tr>\n",
       "      <th>wire_5</th>\n",
       "      <td>2329.0</td>\n",
       "      <td>0.000000</td>\n",
       "      <td>0.000000</td>\n",
       "      <td>0.000000</td>\n",
       "      <td>0.000000</td>\n",
       "      <td>0.000000</td>\n",
       "      <td>0.000000</td>\n",
       "      <td>0.000000</td>\n",
       "    </tr>\n",
       "    <tr>\n",
       "      <th>wire_6</th>\n",
       "      <td>2329.0</td>\n",
       "      <td>0.978820</td>\n",
       "      <td>8.693299</td>\n",
       "      <td>0.000000</td>\n",
       "      <td>0.000000</td>\n",
       "      <td>0.000000</td>\n",
       "      <td>0.000000</td>\n",
       "      <td>180.454575</td>\n",
       "    </tr>\n",
       "    <tr>\n",
       "      <th>wire_7</th>\n",
       "      <td>2329.0</td>\n",
       "      <td>0.006361</td>\n",
       "      <td>0.205705</td>\n",
       "      <td>0.000000</td>\n",
       "      <td>0.000000</td>\n",
       "      <td>0.000000</td>\n",
       "      <td>0.000000</td>\n",
       "      <td>8.490040</td>\n",
       "    </tr>\n",
       "    <tr>\n",
       "      <th>wire_8</th>\n",
       "      <td>2329.0</td>\n",
       "      <td>0.311311</td>\n",
       "      <td>4.402707</td>\n",
       "      <td>0.000000</td>\n",
       "      <td>0.000000</td>\n",
       "      <td>0.000000</td>\n",
       "      <td>0.000000</td>\n",
       "      <td>102.762401</td>\n",
       "    </tr>\n",
       "    <tr>\n",
       "      <th>wire_9</th>\n",
       "      <td>2329.0</td>\n",
       "      <td>0.317113</td>\n",
       "      <td>3.456561</td>\n",
       "      <td>0.000000</td>\n",
       "      <td>0.000000</td>\n",
       "      <td>0.000000</td>\n",
       "      <td>0.000000</td>\n",
       "      <td>62.025600</td>\n",
       "    </tr>\n",
       "  </tbody>\n",
       "</table>\n",
       "</div>"
      ],
      "text/plain": [
       "             count         mean         std          min          25%  \\\n",
       "key         2329.0  1251.832546  714.762400     1.000000   630.000000   \n",
       "temp_first  2329.0  1586.718763   28.290792  1191.000000  1571.000000   \n",
       "temp_last   2329.0  1593.365393   11.200915  1541.000000  1587.000000   \n",
       "energy      2329.0   538.967370  257.314897    26.187544   368.130458   \n",
       "bulk_1      2329.0     3.427651   12.412132     0.000000     0.000000   \n",
       "bulk_2      2329.0     1.422499   19.082119     0.000000     0.000000   \n",
       "bulk_3      2329.0    47.348218   75.310430     0.000000     0.000000   \n",
       "bulk_4      2329.0    37.303564   58.643238     0.000000     0.000000   \n",
       "bulk_5      2329.0     2.640189   22.402293     0.000000     0.000000   \n",
       "bulk_6      2329.0    22.430228   55.790873     0.000000     0.000000   \n",
       "bulk_7      2329.0     2.004723   30.676234     0.000000     0.000000   \n",
       "bulk_8      2329.0     0.021039    1.015340     0.000000     0.000000   \n",
       "bulk_9      2329.0     0.444826    6.220641     0.000000     0.000000   \n",
       "bulk_10     2329.0     5.052812   20.917800     0.000000     0.000000   \n",
       "bulk_11     2329.0     4.245170   22.515487     0.000000     0.000000   \n",
       "bulk_12     2329.0   208.415629  157.062272     0.000000   105.000000   \n",
       "bulk_13     2329.0     1.067411   14.235055     0.000000     0.000000   \n",
       "bulk_14     2329.0   153.853585   81.404354     0.000000   105.000000   \n",
       "bulk_15     2329.0   119.952769   84.640443     0.000000     0.000000   \n",
       "gas_1       2329.0    11.375600    6.392041     0.008399     7.282948   \n",
       "wire_1      2329.0   102.443601   43.539993     0.000000    73.207679   \n",
       "wire_2      2329.0    17.609859   33.624771     0.000000     0.000000   \n",
       "wire_3      2329.0     3.234916   27.942871     0.000000     0.000000   \n",
       "wire_4      2329.0     0.306550    4.757746     0.000000     0.000000   \n",
       "wire_5      2329.0     0.000000    0.000000     0.000000     0.000000   \n",
       "wire_6      2329.0     0.978820    8.693299     0.000000     0.000000   \n",
       "wire_7      2329.0     0.006361    0.205705     0.000000     0.000000   \n",
       "wire_8      2329.0     0.311311    4.402707     0.000000     0.000000   \n",
       "wire_9      2329.0     0.317113    3.456561     0.000000     0.000000   \n",
       "\n",
       "                    50%          75%          max  \n",
       "key         1255.000000  1868.000000  2499.000000  \n",
       "temp_first  1587.000000  1603.000000  1660.000000  \n",
       "temp_last   1593.000000  1598.000000  1653.000000  \n",
       "energy       508.068106   678.323372  3718.054401  \n",
       "bulk_1         0.000000     0.000000   185.000000  \n",
       "bulk_2         0.000000     0.000000   325.000000  \n",
       "bulk_3         0.000000    80.000000   454.000000  \n",
       "bulk_4         0.000000    77.000000   281.000000  \n",
       "bulk_5         0.000000     0.000000   603.000000  \n",
       "bulk_6         0.000000     0.000000   503.000000  \n",
       "bulk_7         0.000000     0.000000   772.000000  \n",
       "bulk_8         0.000000     0.000000    49.000000  \n",
       "bulk_9         0.000000     0.000000   147.000000  \n",
       "bulk_10        0.000000     0.000000   159.000000  \n",
       "bulk_11        0.000000     0.000000   313.000000  \n",
       "bulk_12      206.000000   282.000000  1849.000000  \n",
       "bulk_13        0.000000     0.000000   305.000000  \n",
       "bulk_14      149.000000   204.000000   636.000000  \n",
       "bulk_15      107.000000   204.000000   405.000000  \n",
       "gas_1         10.100950    14.216688    77.995040  \n",
       "wire_1       101.119201   128.091599   330.314424  \n",
       "wire_2         0.000000    23.102560   282.780152  \n",
       "wire_3         0.000000     0.000000   385.008668  \n",
       "wire_4         0.000000     0.000000   113.231044  \n",
       "wire_5         0.000000     0.000000     0.000000  \n",
       "wire_6         0.000000     0.000000   180.454575  \n",
       "wire_7         0.000000     0.000000     8.490040  \n",
       "wire_8         0.000000     0.000000   102.762401  \n",
       "wire_9         0.000000     0.000000    62.025600  "
      ]
     },
     "execution_count": 74,
     "metadata": {},
     "output_type": "execute_result"
    }
   ],
   "source": [
    "#к.р.\n",
    "data_final.describe().T"
   ]
  },
  {
   "cell_type": "code",
   "execution_count": 75,
   "id": "95505220",
   "metadata": {},
   "outputs": [
    {
     "name": "stdout",
     "output_type": "stream",
     "text": [
      "<class 'pandas.core.frame.DataFrame'>\n",
      "Int64Index: 2329 entries, 0 to 2328\n",
      "Data columns (total 29 columns):\n",
      " #   Column      Non-Null Count  Dtype  \n",
      "---  ------      --------------  -----  \n",
      " 0   key         2329 non-null   int64  \n",
      " 1   temp_first  2329 non-null   float64\n",
      " 2   temp_last   2329 non-null   float64\n",
      " 3   energy      2329 non-null   float64\n",
      " 4   bulk_1      2329 non-null   float64\n",
      " 5   bulk_2      2329 non-null   float64\n",
      " 6   bulk_3      2329 non-null   float64\n",
      " 7   bulk_4      2329 non-null   float64\n",
      " 8   bulk_5      2329 non-null   float64\n",
      " 9   bulk_6      2329 non-null   float64\n",
      " 10  bulk_7      2329 non-null   float64\n",
      " 11  bulk_8      2329 non-null   float64\n",
      " 12  bulk_9      2329 non-null   float64\n",
      " 13  bulk_10     2329 non-null   float64\n",
      " 14  bulk_11     2329 non-null   float64\n",
      " 15  bulk_12     2329 non-null   float64\n",
      " 16  bulk_13     2329 non-null   float64\n",
      " 17  bulk_14     2329 non-null   float64\n",
      " 18  bulk_15     2329 non-null   float64\n",
      " 19  gas_1       2329 non-null   float64\n",
      " 20  wire_1      2329 non-null   float64\n",
      " 21  wire_2      2329 non-null   float64\n",
      " 22  wire_3      2329 non-null   float64\n",
      " 23  wire_4      2329 non-null   float64\n",
      " 24  wire_5      2329 non-null   float64\n",
      " 25  wire_6      2329 non-null   float64\n",
      " 26  wire_7      2329 non-null   float64\n",
      " 27  wire_8      2329 non-null   float64\n",
      " 28  wire_9      2329 non-null   float64\n",
      "dtypes: float64(28), int64(1)\n",
      "memory usage: 545.9 KB\n"
     ]
    }
   ],
   "source": [
    "data_final.info()"
   ]
  },
  {
   "cell_type": "code",
   "execution_count": 77,
   "id": "e97adc94",
   "metadata": {},
   "outputs": [
    {
     "name": "stdout",
     "output_type": "stream",
     "text": [
      "<class 'pandas.core.frame.DataFrame'>\n",
      "Int64Index: 2329 entries, 0 to 2328\n",
      "Data columns (total 29 columns):\n",
      " #   Column      Non-Null Count  Dtype  \n",
      "---  ------      --------------  -----  \n",
      " 0   key         2329 non-null   int64  \n",
      " 1   temp_first  2329 non-null   float64\n",
      " 2   temp_last   2329 non-null   float64\n",
      " 3   energy      2329 non-null   float64\n",
      " 4   bulk_1      2329 non-null   float64\n",
      " 5   bulk_2      2329 non-null   float64\n",
      " 6   bulk_3      2329 non-null   float64\n",
      " 7   bulk_4      2329 non-null   float64\n",
      " 8   bulk_5      2329 non-null   float64\n",
      " 9   bulk_6      2329 non-null   float64\n",
      " 10  bulk_7      2329 non-null   float64\n",
      " 11  bulk_8      2329 non-null   float64\n",
      " 12  bulk_9      2329 non-null   float64\n",
      " 13  bulk_10     2329 non-null   float64\n",
      " 14  bulk_11     2329 non-null   float64\n",
      " 15  bulk_12     2329 non-null   float64\n",
      " 16  bulk_13     2329 non-null   float64\n",
      " 17  bulk_14     2329 non-null   float64\n",
      " 18  bulk_15     2329 non-null   float64\n",
      " 19  gas_1       2329 non-null   float64\n",
      " 20  wire_1      2329 non-null   float64\n",
      " 21  wire_2      2329 non-null   float64\n",
      " 22  wire_3      2329 non-null   float64\n",
      " 23  wire_4      2329 non-null   float64\n",
      " 24  wire_5      2329 non-null   float64\n",
      " 25  wire_6      2329 non-null   float64\n",
      " 26  wire_7      2329 non-null   float64\n",
      " 27  wire_8      2329 non-null   float64\n",
      " 28  wire_9      2329 non-null   float64\n",
      "dtypes: float64(28), int64(1)\n",
      "memory usage: 545.9 KB\n"
     ]
    }
   ],
   "source": [
    "data_final.info()"
   ]
  },
  {
   "cell_type": "markdown",
   "id": "5e95dffc",
   "metadata": {},
   "source": [
    "Проверим температуру на выбросы, для этого построим график\n"
   ]
  },
  {
   "cell_type": "code",
   "execution_count": 78,
   "id": "fbe4a02c",
   "metadata": {
    "scrolled": true
   },
   "outputs": [
    {
     "data": {
      "text/plain": [
       "<AxesSubplot:>"
      ]
     },
     "execution_count": 78,
     "metadata": {},
     "output_type": "execute_result"
    },
    {
     "data": {
      "image/png": "[encoded data removed]",
      "text/plain": [
       "<Figure size 432x288 with 1 Axes>"
      ]
     },
     "metadata": {
      "needs_background": "light"
     },
     "output_type": "display_data"
    }
   ],
   "source": [
    "data_target[\"temp_first\"].hist(bins = 100)\n",
    "data_target[\"temp_last\"].hist(bins = 100)"
   ]
  },
  {
   "cell_type": "code",
   "execution_count": 79,
   "id": "80021dce",
   "metadata": {},
   "outputs": [],
   "source": [
    "data_target = data_target.query('temp_first > 1500')"
   ]
  },
  {
   "cell_type": "code",
   "execution_count": 80,
   "id": "b9a5abb8",
   "metadata": {},
   "outputs": [
    {
     "data": {
      "text/plain": [
       "<AxesSubplot:>"
      ]
     },
     "execution_count": 80,
     "metadata": {},
     "output_type": "execute_result"
    },
    {
     "data": {
      "image/png": "[encoded data removed]",
      "text/plain": [
       "<Figure size 432x288 with 1 Axes>"
      ]
     },
     "metadata": {
      "needs_background": "light"
     },
     "output_type": "display_data"
    }
   ],
   "source": [
    "data_target[\"temp_first\"].hist(bins = 100)\n",
    "data_target[\"temp_last\"].hist(bins = 100)"
   ]
  },
  {
   "cell_type": "markdown",
   "id": "100b0d17",
   "metadata": {},
   "source": [
    "Посмотрим корреляцию"
   ]
  },
  {
   "cell_type": "code",
   "execution_count": 81,
   "id": "363a2413",
   "metadata": {},
   "outputs": [
    {
     "data": {
      "text/plain": [
       "Text(0.5, 1.0, 'Тепловая карта матрицы корреляций')"
      ]
     },
     "execution_count": 81,
     "metadata": {},
     "output_type": "execute_result"
    },
    {
     "data": {
      "image/png": "[encoded data removed]",
      "text/plain": [
       "<Figure size 1800x1800 with 2 Axes>"
      ]
     },
     "metadata": {
      "needs_background": "light"
     },
     "output_type": "display_data"
    }
   ],
   "source": [
    "plt.figure(figsize=(25, 25))\n",
    "upp_mat = np.triu(data_final.corr())\n",
    "heatmap=sns.heatmap(data_final.corr(), vmin = -1, vmax = +1, annot = True, cmap = 'coolwarm', mask = upp_mat)\n",
    "heatmap.set_title('Тепловая карта матрицы корреляций', fontsize=25)"
   ]
  },
  {
   "cell_type": "code",
   "execution_count": 82,
   "id": "fee1e36c",
   "metadata": {},
   "outputs": [
    {
     "data": {
      "text/plain": [
       "wire_1        0.317575\n",
       "bulk_12       0.267424\n",
       "bulk_15       0.266414\n",
       "energy        0.258558\n",
       "temp_first    0.252443\n",
       "bulk_4        0.187970\n",
       "bulk_14       0.114617\n",
       "bulk_10       0.061350\n",
       "gas_1         0.059160\n",
       "wire_8       -0.010767\n",
       "bulk_13      -0.010920\n",
       "bulk_9       -0.016075\n",
       "bulk_8       -0.026587\n",
       "wire_9       -0.027488\n",
       "bulk_5       -0.028355\n",
       "bulk_3       -0.035977\n",
       "wire_3       -0.047537\n",
       "bulk_1       -0.075206\n",
       "bulk_2       -0.082454\n",
       "wire_6       -0.084034\n",
       "key          -0.097242\n",
       "bulk_7       -0.107275\n",
       "bulk_11      -0.114753\n",
       "wire_7       -0.137262\n",
       "wire_4       -0.159719\n",
       "bulk_6       -0.181816\n",
       "wire_2       -0.206672\n",
       "wire_5             NaN\n",
       "Name: temp_last, dtype: float64"
      ]
     },
     "execution_count": 82,
     "metadata": {},
     "output_type": "execute_result"
    }
   ],
   "source": [
    "data_final.corr()['temp_last'].sort_values(ascending=False)[1:]"
   ]
  },
  {
   "cell_type": "markdown",
   "id": "9219e820",
   "metadata": {},
   "source": [
    "Целевой признак сильнее коррелирует с:\n",
    "\n",
    "wire_1        0.317575\n",
    "bulk_12       0.267424\n",
    "bulk_15       0.266414\n",
    "energy        0.258558\n",
    "temp_first    0.252443\n",
    "\n",
    "прямо пропорционально, но даже с ними зависимость не слишком большая\n",
    "\n",
    "Обратно пропорционально целевой признак связан сильнее всего с Wire 2,bulk_6,  Wire 4,  но также не слишком сильно.\n"
   ]
  },
  {
   "cell_type": "markdown",
   "id": "e6c8b02c",
   "metadata": {},
   "source": [
    "Так как отсутсвуют данные по wire_5 нет данных, удаляем его"
   ]
  },
  {
   "cell_type": "code",
   "execution_count": 83,
   "id": "1717a007",
   "metadata": {},
   "outputs": [],
   "source": [
    "data_final = data_final.drop(['wire_5'], axis = 1)"
   ]
  },
  {
   "cell_type": "markdown",
   "id": "e8bc7636",
   "metadata": {},
   "source": [
    "Разобьем на выборки"
   ]
  },
  {
   "cell_type": "code",
   "execution_count": 84,
   "id": "b1b412a6",
   "metadata": {},
   "outputs": [],
   "source": [
    "random_state=15823"
   ]
  },
  {
   "cell_type": "code",
   "execution_count": 85,
   "id": "7d4c76f8",
   "metadata": {
    "scrolled": true
   },
   "outputs": [
    {
     "name": "stdout",
     "output_type": "stream",
     "text": [
      "<class 'pandas.core.frame.DataFrame'>\n",
      "Int64Index: 2329 entries, 0 to 2328\n",
      "Data columns (total 28 columns):\n",
      " #   Column      Non-Null Count  Dtype  \n",
      "---  ------      --------------  -----  \n",
      " 0   key         2329 non-null   int64  \n",
      " 1   temp_first  2329 non-null   float64\n",
      " 2   temp_last   2329 non-null   float64\n",
      " 3   energy      2329 non-null   float64\n",
      " 4   bulk_1      2329 non-null   float64\n",
      " 5   bulk_2      2329 non-null   float64\n",
      " 6   bulk_3      2329 non-null   float64\n",
      " 7   bulk_4      2329 non-null   float64\n",
      " 8   bulk_5      2329 non-null   float64\n",
      " 9   bulk_6      2329 non-null   float64\n",
      " 10  bulk_7      2329 non-null   float64\n",
      " 11  bulk_8      2329 non-null   float64\n",
      " 12  bulk_9      2329 non-null   float64\n",
      " 13  bulk_10     2329 non-null   float64\n",
      " 14  bulk_11     2329 non-null   float64\n",
      " 15  bulk_12     2329 non-null   float64\n",
      " 16  bulk_13     2329 non-null   float64\n",
      " 17  bulk_14     2329 non-null   float64\n",
      " 18  bulk_15     2329 non-null   float64\n",
      " 19  gas_1       2329 non-null   float64\n",
      " 20  wire_1      2329 non-null   float64\n",
      " 21  wire_2      2329 non-null   float64\n",
      " 22  wire_3      2329 non-null   float64\n",
      " 23  wire_4      2329 non-null   float64\n",
      " 24  wire_6      2329 non-null   float64\n",
      " 25  wire_7      2329 non-null   float64\n",
      " 26  wire_8      2329 non-null   float64\n",
      " 27  wire_9      2329 non-null   float64\n",
      "dtypes: float64(27), int64(1)\n",
      "memory usage: 527.7 KB\n"
     ]
    }
   ],
   "source": [
    "data_final.info()"
   ]
  },
  {
   "cell_type": "code",
   "execution_count": 86,
   "id": "2703a65d",
   "metadata": {},
   "outputs": [],
   "source": [
    "features = data_final.drop(['temp_last', 'key'], axis=1)\n",
    "target = data_final['temp_last']"
   ]
  },
  {
   "cell_type": "code",
   "execution_count": 87,
   "id": "dacfa189",
   "metadata": {},
   "outputs": [],
   "source": [
    "features_train, features_test, target_train, target_test = train_test_split(features, \n",
    "                                                                            target,\n",
    "                                                                            test_size=0.25,\n",
    "                                                                            random_state=15823)"
   ]
  },
  {
   "cell_type": "code",
   "execution_count": 88,
   "id": "9382c09b",
   "metadata": {},
   "outputs": [
    {
     "data": {
      "text/html": [
       "<div>\n",
       "<style scoped>\n",
       "    .dataframe tbody tr th:only-of-type {\n",
       "        vertical-align: middle;\n",
       "    }\n",
       "\n",
       "    .dataframe tbody tr th {\n",
       "        vertical-align: top;\n",
       "    }\n",
       "\n",
       "    .dataframe thead th {\n",
       "        text-align: right;\n",
       "    }\n",
       "</style>\n",
       "<table border=\"1\" class=\"dataframe\">\n",
       "  <thead>\n",
       "    <tr style=\"text-align: right;\">\n",
       "      <th></th>\n",
       "      <th>temp_first</th>\n",
       "      <th>energy</th>\n",
       "      <th>bulk_1</th>\n",
       "      <th>bulk_2</th>\n",
       "      <th>bulk_3</th>\n",
       "      <th>bulk_4</th>\n",
       "      <th>bulk_5</th>\n",
       "      <th>bulk_6</th>\n",
       "      <th>bulk_7</th>\n",
       "      <th>bulk_8</th>\n",
       "      <th>...</th>\n",
       "      <th>bulk_15</th>\n",
       "      <th>gas_1</th>\n",
       "      <th>wire_1</th>\n",
       "      <th>wire_2</th>\n",
       "      <th>wire_3</th>\n",
       "      <th>wire_4</th>\n",
       "      <th>wire_6</th>\n",
       "      <th>wire_7</th>\n",
       "      <th>wire_8</th>\n",
       "      <th>wire_9</th>\n",
       "    </tr>\n",
       "  </thead>\n",
       "  <tbody>\n",
       "    <tr>\n",
       "      <th>674</th>\n",
       "      <td>0.754797</td>\n",
       "      <td>0.215745</td>\n",
       "      <td>0.0</td>\n",
       "      <td>0.0</td>\n",
       "      <td>0.363436</td>\n",
       "      <td>0.282609</td>\n",
       "      <td>0.0</td>\n",
       "      <td>0.0</td>\n",
       "      <td>0.0</td>\n",
       "      <td>0.0</td>\n",
       "      <td>...</td>\n",
       "      <td>0.000000</td>\n",
       "      <td>0.092947</td>\n",
       "      <td>0.334372</td>\n",
       "      <td>0.000000</td>\n",
       "      <td>0.0</td>\n",
       "      <td>0.0</td>\n",
       "      <td>0.0</td>\n",
       "      <td>0.0</td>\n",
       "      <td>0.0</td>\n",
       "      <td>0.0</td>\n",
       "    </tr>\n",
       "    <tr>\n",
       "      <th>2251</th>\n",
       "      <td>0.805970</td>\n",
       "      <td>0.072922</td>\n",
       "      <td>0.0</td>\n",
       "      <td>0.0</td>\n",
       "      <td>0.229075</td>\n",
       "      <td>0.000000</td>\n",
       "      <td>0.0</td>\n",
       "      <td>0.0</td>\n",
       "      <td>0.0</td>\n",
       "      <td>0.0</td>\n",
       "      <td>...</td>\n",
       "      <td>0.261728</td>\n",
       "      <td>0.069700</td>\n",
       "      <td>0.142552</td>\n",
       "      <td>0.000000</td>\n",
       "      <td>0.0</td>\n",
       "      <td>0.0</td>\n",
       "      <td>0.0</td>\n",
       "      <td>0.0</td>\n",
       "      <td>0.0</td>\n",
       "      <td>0.0</td>\n",
       "    </tr>\n",
       "    <tr>\n",
       "      <th>323</th>\n",
       "      <td>0.831557</td>\n",
       "      <td>0.130883</td>\n",
       "      <td>0.0</td>\n",
       "      <td>0.0</td>\n",
       "      <td>0.000000</td>\n",
       "      <td>0.206522</td>\n",
       "      <td>0.0</td>\n",
       "      <td>0.0</td>\n",
       "      <td>0.0</td>\n",
       "      <td>0.0</td>\n",
       "      <td>...</td>\n",
       "      <td>0.498765</td>\n",
       "      <td>0.069663</td>\n",
       "      <td>0.348966</td>\n",
       "      <td>0.000000</td>\n",
       "      <td>0.0</td>\n",
       "      <td>0.0</td>\n",
       "      <td>0.0</td>\n",
       "      <td>0.0</td>\n",
       "      <td>0.0</td>\n",
       "      <td>0.0</td>\n",
       "    </tr>\n",
       "    <tr>\n",
       "      <th>1748</th>\n",
       "      <td>0.810235</td>\n",
       "      <td>0.203133</td>\n",
       "      <td>0.0</td>\n",
       "      <td>0.0</td>\n",
       "      <td>0.000000</td>\n",
       "      <td>0.000000</td>\n",
       "      <td>0.0</td>\n",
       "      <td>0.0</td>\n",
       "      <td>0.0</td>\n",
       "      <td>0.0</td>\n",
       "      <td>...</td>\n",
       "      <td>0.000000</td>\n",
       "      <td>0.158483</td>\n",
       "      <td>0.414848</td>\n",
       "      <td>0.276237</td>\n",
       "      <td>0.0</td>\n",
       "      <td>0.0</td>\n",
       "      <td>0.0</td>\n",
       "      <td>0.0</td>\n",
       "      <td>0.0</td>\n",
       "      <td>0.0</td>\n",
       "    </tr>\n",
       "    <tr>\n",
       "      <th>1942</th>\n",
       "      <td>0.865672</td>\n",
       "      <td>0.151065</td>\n",
       "      <td>0.0</td>\n",
       "      <td>0.0</td>\n",
       "      <td>0.154185</td>\n",
       "      <td>0.000000</td>\n",
       "      <td>0.0</td>\n",
       "      <td>0.0</td>\n",
       "      <td>0.0</td>\n",
       "      <td>0.0</td>\n",
       "      <td>...</td>\n",
       "      <td>0.511111</td>\n",
       "      <td>0.119759</td>\n",
       "      <td>0.218324</td>\n",
       "      <td>0.000000</td>\n",
       "      <td>0.0</td>\n",
       "      <td>0.0</td>\n",
       "      <td>0.0</td>\n",
       "      <td>0.0</td>\n",
       "      <td>0.0</td>\n",
       "      <td>0.0</td>\n",
       "    </tr>\n",
       "  </tbody>\n",
       "</table>\n",
       "<p>5 rows × 26 columns</p>\n",
       "</div>"
      ],
      "text/plain": [
       "      temp_first    energy  bulk_1  bulk_2    bulk_3    bulk_4  bulk_5  \\\n",
       "674     0.754797  0.215745     0.0     0.0  0.363436  0.282609     0.0   \n",
       "2251    0.805970  0.072922     0.0     0.0  0.229075  0.000000     0.0   \n",
       "323     0.831557  0.130883     0.0     0.0  0.000000  0.206522     0.0   \n",
       "1748    0.810235  0.203133     0.0     0.0  0.000000  0.000000     0.0   \n",
       "1942    0.865672  0.151065     0.0     0.0  0.154185  0.000000     0.0   \n",
       "\n",
       "      bulk_6  bulk_7  bulk_8  ...   bulk_15     gas_1    wire_1    wire_2  \\\n",
       "674      0.0     0.0     0.0  ...  0.000000  0.092947  0.334372  0.000000   \n",
       "2251     0.0     0.0     0.0  ...  0.261728  0.069700  0.142552  0.000000   \n",
       "323      0.0     0.0     0.0  ...  0.498765  0.069663  0.348966  0.000000   \n",
       "1748     0.0     0.0     0.0  ...  0.000000  0.158483  0.414848  0.276237   \n",
       "1942     0.0     0.0     0.0  ...  0.511111  0.119759  0.218324  0.000000   \n",
       "\n",
       "      wire_3  wire_4  wire_6  wire_7  wire_8  wire_9  \n",
       "674      0.0     0.0     0.0     0.0     0.0     0.0  \n",
       "2251     0.0     0.0     0.0     0.0     0.0     0.0  \n",
       "323      0.0     0.0     0.0     0.0     0.0     0.0  \n",
       "1748     0.0     0.0     0.0     0.0     0.0     0.0  \n",
       "1942     0.0     0.0     0.0     0.0     0.0     0.0  \n",
       "\n",
       "[5 rows x 26 columns]"
      ]
     },
     "execution_count": 88,
     "metadata": {},
     "output_type": "execute_result"
    }
   ],
   "source": [
    "numeric = features_train.select_dtypes(exclude='object').columns.to_list()\n",
    "numeric = [i for i in numeric if i not in (\"temp_last\")]\n",
    "scaler = MinMaxScaler()\n",
    "scaler.fit(features_train[numeric])\n",
    "features_train[numeric] = scaler.transform(features_train[numeric])\n",
    "features_test[numeric] = scaler.transform(features_test[numeric])\n",
    "features_train.head()"
   ]
  },
  {
   "cell_type": "code",
   "execution_count": 89,
   "id": "c2edbbce",
   "metadata": {},
   "outputs": [
    {
     "name": "stdout",
     "output_type": "stream",
     "text": [
      "(1746, 26)\n",
      "(583, 26)\n"
     ]
    }
   ],
   "source": [
    "print(features_train.shape)\n",
    "print(features_test.shape)"
   ]
  },
  {
   "cell_type": "markdown",
   "id": "b25a80f8",
   "metadata": {},
   "source": [
    "Вывод: Данные подготовлены, тестовая выборка составляет - 25%, random_state принят 15823"
   ]
  },
  {
   "cell_type": "markdown",
   "id": "6752b55b",
   "metadata": {},
   "source": [
    "# Обучение моделей"
   ]
  },
  {
   "cell_type": "markdown",
   "id": "7502cd1f",
   "metadata": {},
   "source": [
    "Для расчёта целевой метрики используем  MAE напишем функцию."
   ]
  },
  {
   "cell_type": "code",
   "execution_count": 90,
   "id": "f49aac32",
   "metadata": {},
   "outputs": [],
   "source": [
    "def MAE(target, predict):\n",
    "    return (mean_absolute_error(target, predict))\n",
    "   \n",
    "MAE_score = make_scorer(MAE, greater_is_better=False)"
   ]
  },
  {
   "cell_type": "markdown",
   "id": "5a052f01",
   "metadata": {},
   "source": [
    "Линейная регрессия"
   ]
  },
  {
   "cell_type": "code",
   "execution_count": 91,
   "id": "0667d418",
   "metadata": {},
   "outputs": [
    {
     "data": {
      "text/html": [
       "<style>#sk-container-id-1 {color: black;background-color: white;}#sk-container-id-1 pre{padding: 0;}#sk-container-id-1 div.sk-toggleable {background-color: white;}#sk-container-id-1 label.sk-toggleable__label {cursor: pointer;display: block;width: 100%;margin-bottom: 0;padding: 0.3em;box-sizing: border-box;text-align: center;}#sk-container-id-1 label.sk-toggleable__label-arrow:before {content: \"▸\";float: left;margin-right: 0.25em;color: #696969;}#sk-container-id-1 label.sk-toggleable__label-arrow:hover:before {color: black;}#sk-container-id-1 div.sk-estimator:hover label.sk-toggleable__label-arrow:before {color: black;}#sk-container-id-1 div.sk-toggleable__content {max-height: 0;max-width: 0;overflow: hidden;text-align: left;background-color: #f0f8ff;}#sk-container-id-1 div.sk-toggleable__content pre {margin: 0.2em;color: black;border-radius: 0.25em;background-color: #f0f8ff;}#sk-container-id-1 input.sk-toggleable__control:checked~div.sk-toggleable__content {max-height: 200px;max-width: 100%;overflow: auto;}#sk-container-id-1 input.sk-toggleable__control:checked~label.sk-toggleable__label-arrow:before {content: \"▾\";}#sk-container-id-1 div.sk-estimator input.sk-toggleable__control:checked~label.sk-toggleable__label {background-color: #d4ebff;}#sk-container-id-1 div.sk-label input.sk-toggleable__control:checked~label.sk-toggleable__label {background-color: #d4ebff;}#sk-container-id-1 input.sk-hidden--visually {border: 0;clip: rect(1px 1px 1px 1px);clip: rect(1px, 1px, 1px, 1px);height: 1px;margin: -1px;overflow: hidden;padding: 0;position: absolute;width: 1px;}#sk-container-id-1 div.sk-estimator {font-family: monospace;background-color: #f0f8ff;border: 1px dotted black;border-radius: 0.25em;box-sizing: border-box;margin-bottom: 0.5em;}#sk-container-id-1 div.sk-estimator:hover {background-color: #d4ebff;}#sk-container-id-1 div.sk-parallel-item::after {content: \"\";width: 100%;border-bottom: 1px solid gray;flex-grow: 1;}#sk-container-id-1 div.sk-label:hover label.sk-toggleable__label {background-color: #d4ebff;}#sk-container-id-1 div.sk-serial::before {content: \"\";position: absolute;border-left: 1px solid gray;box-sizing: border-box;top: 0;bottom: 0;left: 50%;z-index: 0;}#sk-container-id-1 div.sk-serial {display: flex;flex-direction: column;align-items: center;background-color: white;padding-right: 0.2em;padding-left: 0.2em;position: relative;}#sk-container-id-1 div.sk-item {position: relative;z-index: 1;}#sk-container-id-1 div.sk-parallel {display: flex;align-items: stretch;justify-content: center;background-color: white;position: relative;}#sk-container-id-1 div.sk-item::before, #sk-container-id-1 div.sk-parallel-item::before {content: \"\";position: absolute;border-left: 1px solid gray;box-sizing: border-box;top: 0;bottom: 0;left: 50%;z-index: -1;}#sk-container-id-1 div.sk-parallel-item {display: flex;flex-direction: column;z-index: 1;position: relative;background-color: white;}#sk-container-id-1 div.sk-parallel-item:first-child::after {align-self: flex-end;width: 50%;}#sk-container-id-1 div.sk-parallel-item:last-child::after {align-self: flex-start;width: 50%;}#sk-container-id-1 div.sk-parallel-item:only-child::after {width: 0;}#sk-container-id-1 div.sk-dashed-wrapped {border: 1px dashed gray;margin: 0 0.4em 0.5em 0.4em;box-sizing: border-box;padding-bottom: 0.4em;background-color: white;}#sk-container-id-1 div.sk-label label {font-family: monospace;font-weight: bold;display: inline-block;line-height: 1.2em;}#sk-container-id-1 div.sk-label-container {text-align: center;}#sk-container-id-1 div.sk-container {/* jupyter's `normalize.less` sets `[hidden] { display: none; }` but bootstrap.min.css set `[hidden] { display: none !important; }` so we also need the `!important` here to be able to override the default hidden behavior on the sphinx rendered scikit-learn.org. See: https://github.com/scikit-learn/scikit-learn/issues/21755 */display: inline-block !important;position: relative;}#sk-container-id-1 div.sk-text-repr-fallback {display: none;}</style><div id=\"sk-container-id-1\" class=\"sk-top-container\"><div class=\"sk-text-repr-fallback\"><pre>LinearRegression()</pre><b>In a Jupyter environment, please rerun this cell to show the HTML representation or trust the notebook. <br />On GitHub, the HTML representation is unable to render, please try loading this page with nbviewer.org.</b></div><div class=\"sk-container\" hidden><div class=\"sk-item\"><div class=\"sk-estimator sk-toggleable\"><input class=\"sk-toggleable__control sk-hidden--visually\" id=\"sk-estimator-id-1\" type=\"checkbox\" checked><label for=\"sk-estimator-id-1\" class=\"sk-toggleable__label sk-toggleable__label-arrow\">LinearRegression</label><div class=\"sk-toggleable__content\"><pre>LinearRegression()</pre></div></div></div></div></div>"
      ],
      "text/plain": [
       "LinearRegression()"
      ]
     },
     "execution_count": 91,
     "metadata": {},
     "output_type": "execute_result"
    }
   ],
   "source": [
    "model_lr=LinearRegression()\n",
    "model_lr.fit(features_train,target_train)"
   ]
  },
  {
   "cell_type": "code",
   "execution_count": 92,
   "id": "01cf4010",
   "metadata": {},
   "outputs": [
    {
     "name": "stdout",
     "output_type": "stream",
     "text": [
      "Среднее качество модели линейной регрессии на кросс-валидации: 6.901103681643896\n"
     ]
    }
   ],
   "source": [
    "#Определяю RMSE модели с помощью кросс-валидации\n",
    "regression_cv_score = pd.Series(cross_val_score(model_lr,features_train,target_train,scoring=MAE_score,cv=7)).mean()*(-1)\n",
    "print('Среднее качество модели линейной регрессии на кросс-валидации:', regression_cv_score)\n"
   ]
  },
  {
   "cell_type": "code",
   "execution_count": 93,
   "id": "3ce7eebb",
   "metadata": {},
   "outputs": [],
   "source": [
    "target_predict = model_lr.predict(features_train) "
   ]
  },
  {
   "cell_type": "markdown",
   "id": "082152a2",
   "metadata": {},
   "source": [
    "Обучаем лес решений:"
   ]
  },
  {
   "cell_type": "code",
   "execution_count": 94,
   "id": "6f488280",
   "metadata": {},
   "outputs": [
    {
     "data": {
      "text/html": [
       "<style>#sk-container-id-2 {color: black;background-color: white;}#sk-container-id-2 pre{padding: 0;}#sk-container-id-2 div.sk-toggleable {background-color: white;}#sk-container-id-2 label.sk-toggleable__label {cursor: pointer;display: block;width: 100%;margin-bottom: 0;padding: 0.3em;box-sizing: border-box;text-align: center;}#sk-container-id-2 label.sk-toggleable__label-arrow:before {content: \"▸\";float: left;margin-right: 0.25em;color: #696969;}#sk-container-id-2 label.sk-toggleable__label-arrow:hover:before {color: black;}#sk-container-id-2 div.sk-estimator:hover label.sk-toggleable__label-arrow:before {color: black;}#sk-container-id-2 div.sk-toggleable__content {max-height: 0;max-width: 0;overflow: hidden;text-align: left;background-color: #f0f8ff;}#sk-container-id-2 div.sk-toggleable__content pre {margin: 0.2em;color: black;border-radius: 0.25em;background-color: #f0f8ff;}#sk-container-id-2 input.sk-toggleable__control:checked~div.sk-toggleable__content {max-height: 200px;max-width: 100%;overflow: auto;}#sk-container-id-2 input.sk-toggleable__control:checked~label.sk-toggleable__label-arrow:before {content: \"▾\";}#sk-container-id-2 div.sk-estimator input.sk-toggleable__control:checked~label.sk-toggleable__label {background-color: #d4ebff;}#sk-container-id-2 div.sk-label input.sk-toggleable__control:checked~label.sk-toggleable__label {background-color: #d4ebff;}#sk-container-id-2 input.sk-hidden--visually {border: 0;clip: rect(1px 1px 1px 1px);clip: rect(1px, 1px, 1px, 1px);height: 1px;margin: -1px;overflow: hidden;padding: 0;position: absolute;width: 1px;}#sk-container-id-2 div.sk-estimator {font-family: monospace;background-color: #f0f8ff;border: 1px dotted black;border-radius: 0.25em;box-sizing: border-box;margin-bottom: 0.5em;}#sk-container-id-2 div.sk-estimator:hover {background-color: #d4ebff;}#sk-container-id-2 div.sk-parallel-item::after {content: \"\";width: 100%;border-bottom: 1px solid gray;flex-grow: 1;}#sk-container-id-2 div.sk-label:hover label.sk-toggleable__label {background-color: #d4ebff;}#sk-container-id-2 div.sk-serial::before {content: \"\";position: absolute;border-left: 1px solid gray;box-sizing: border-box;top: 0;bottom: 0;left: 50%;z-index: 0;}#sk-container-id-2 div.sk-serial {display: flex;flex-direction: column;align-items: center;background-color: white;padding-right: 0.2em;padding-left: 0.2em;position: relative;}#sk-container-id-2 div.sk-item {position: relative;z-index: 1;}#sk-container-id-2 div.sk-parallel {display: flex;align-items: stretch;justify-content: center;background-color: white;position: relative;}#sk-container-id-2 div.sk-item::before, #sk-container-id-2 div.sk-parallel-item::before {content: \"\";position: absolute;border-left: 1px solid gray;box-sizing: border-box;top: 0;bottom: 0;left: 50%;z-index: -1;}#sk-container-id-2 div.sk-parallel-item {display: flex;flex-direction: column;z-index: 1;position: relative;background-color: white;}#sk-container-id-2 div.sk-parallel-item:first-child::after {align-self: flex-end;width: 50%;}#sk-container-id-2 div.sk-parallel-item:last-child::after {align-self: flex-start;width: 50%;}#sk-container-id-2 div.sk-parallel-item:only-child::after {width: 0;}#sk-container-id-2 div.sk-dashed-wrapped {border: 1px dashed gray;margin: 0 0.4em 0.5em 0.4em;box-sizing: border-box;padding-bottom: 0.4em;background-color: white;}#sk-container-id-2 div.sk-label label {font-family: monospace;font-weight: bold;display: inline-block;line-height: 1.2em;}#sk-container-id-2 div.sk-label-container {text-align: center;}#sk-container-id-2 div.sk-container {/* jupyter's `normalize.less` sets `[hidden] { display: none; }` but bootstrap.min.css set `[hidden] { display: none !important; }` so we also need the `!important` here to be able to override the default hidden behavior on the sphinx rendered scikit-learn.org. See: https://github.com/scikit-learn/scikit-learn/issues/21755 */display: inline-block !important;position: relative;}#sk-container-id-2 div.sk-text-repr-fallback {display: none;}</style><div id=\"sk-container-id-2\" class=\"sk-top-container\"><div class=\"sk-text-repr-fallback\"><pre>RandomForestRegressor(criterion=&#x27;mse&#x27;, random_state=15823)</pre><b>In a Jupyter environment, please rerun this cell to show the HTML representation or trust the notebook. <br />On GitHub, the HTML representation is unable to render, please try loading this page with nbviewer.org.</b></div><div class=\"sk-container\" hidden><div class=\"sk-item\"><div class=\"sk-estimator sk-toggleable\"><input class=\"sk-toggleable__control sk-hidden--visually\" id=\"sk-estimator-id-2\" type=\"checkbox\" checked><label for=\"sk-estimator-id-2\" class=\"sk-toggleable__label sk-toggleable__label-arrow\">RandomForestRegressor</label><div class=\"sk-toggleable__content\"><pre>RandomForestRegressor(criterion=&#x27;mse&#x27;, random_state=15823)</pre></div></div></div></div></div>"
      ],
      "text/plain": [
       "RandomForestRegressor(criterion='mse', random_state=15823)"
      ]
     },
     "execution_count": 94,
     "metadata": {},
     "output_type": "execute_result"
    }
   ],
   "source": [
    "model_rf = RandomForestRegressor(random_state=15823, criterion='mse',warm_start=False, n_estimators=100)\n",
    "model_rf.fit(features_train, target_train)"
   ]
  },
  {
   "cell_type": "code",
   "execution_count": 95,
   "id": "a37aca58",
   "metadata": {},
   "outputs": [
    {
     "name": "stdout",
     "output_type": "stream",
     "text": [
      "RandomForestRegressor(max_depth=5, min_samples_leaf=3, n_estimators=10)\n",
      "{'max_depth': 5, 'min_samples_leaf': 3, 'min_samples_split': 2, 'n_estimators': 10}\n",
      "Качество модели на кросс-валидации 6.795849515946153\n"
     ]
    }
   ],
   "source": [
    "#Объявляю модель\n",
    "forest = RandomForestRegressor()\n",
    "#Определяю словарь с набором параметров\n",
    "forest_parametrs = { 'n_estimators': range(5, 15, 5),\n",
    "                     'max_depth': range(1, 6, 2),\n",
    "                     'min_samples_leaf': range(1,4),\n",
    "                     'min_samples_split': range(2,6,2) }\n",
    "\n",
    "#Применяю GridSearchCV с кросс-валидацией\n",
    "forest_grid = GridSearchCV(forest, forest_parametrs, scoring=MAE_score, cv=3)\n",
    "forest_grid.fit(features_train, target_train)\n",
    "fbs=forest_grid.best_score_*(-1)\n",
    "print(forest_grid.best_estimator_)\n",
    "print(forest_grid.best_params_)\n",
    "print('Качество модели на кросс-валидации', fbs)"
   ]
  },
  {
   "cell_type": "code",
   "execution_count": 96,
   "id": "21b8b5cb",
   "metadata": {},
   "outputs": [],
   "source": [
    "target_predict_forest= model_rf.predict(features_train) "
   ]
  },
  {
   "cell_type": "markdown",
   "id": "7d8a4457",
   "metadata": {},
   "source": [
    "Обучаем ансамбль моделей LGBMRegressor"
   ]
  },
  {
   "cell_type": "code",
   "execution_count": 97,
   "id": "4feb635e",
   "metadata": {},
   "outputs": [
    {
     "data": {
      "text/html": [
       "<style>#sk-container-id-3 {color: black;background-color: white;}#sk-container-id-3 pre{padding: 0;}#sk-container-id-3 div.sk-toggleable {background-color: white;}#sk-container-id-3 label.sk-toggleable__label {cursor: pointer;display: block;width: 100%;margin-bottom: 0;padding: 0.3em;box-sizing: border-box;text-align: center;}#sk-container-id-3 label.sk-toggleable__label-arrow:before {content: \"▸\";float: left;margin-right: 0.25em;color: #696969;}#sk-container-id-3 label.sk-toggleable__label-arrow:hover:before {color: black;}#sk-container-id-3 div.sk-estimator:hover label.sk-toggleable__label-arrow:before {color: black;}#sk-container-id-3 div.sk-toggleable__content {max-height: 0;max-width: 0;overflow: hidden;text-align: left;background-color: #f0f8ff;}#sk-container-id-3 div.sk-toggleable__content pre {margin: 0.2em;color: black;border-radius: 0.25em;background-color: #f0f8ff;}#sk-container-id-3 input.sk-toggleable__control:checked~div.sk-toggleable__content {max-height: 200px;max-width: 100%;overflow: auto;}#sk-container-id-3 input.sk-toggleable__control:checked~label.sk-toggleable__label-arrow:before {content: \"▾\";}#sk-container-id-3 div.sk-estimator input.sk-toggleable__control:checked~label.sk-toggleable__label {background-color: #d4ebff;}#sk-container-id-3 div.sk-label input.sk-toggleable__control:checked~label.sk-toggleable__label {background-color: #d4ebff;}#sk-container-id-3 input.sk-hidden--visually {border: 0;clip: rect(1px 1px 1px 1px);clip: rect(1px, 1px, 1px, 1px);height: 1px;margin: -1px;overflow: hidden;padding: 0;position: absolute;width: 1px;}#sk-container-id-3 div.sk-estimator {font-family: monospace;background-color: #f0f8ff;border: 1px dotted black;border-radius: 0.25em;box-sizing: border-box;margin-bottom: 0.5em;}#sk-container-id-3 div.sk-estimator:hover {background-color: #d4ebff;}#sk-container-id-3 div.sk-parallel-item::after {content: \"\";width: 100%;border-bottom: 1px solid gray;flex-grow: 1;}#sk-container-id-3 div.sk-label:hover label.sk-toggleable__label {background-color: #d4ebff;}#sk-container-id-3 div.sk-serial::before {content: \"\";position: absolute;border-left: 1px solid gray;box-sizing: border-box;top: 0;bottom: 0;left: 50%;z-index: 0;}#sk-container-id-3 div.sk-serial {display: flex;flex-direction: column;align-items: center;background-color: white;padding-right: 0.2em;padding-left: 0.2em;position: relative;}#sk-container-id-3 div.sk-item {position: relative;z-index: 1;}#sk-container-id-3 div.sk-parallel {display: flex;align-items: stretch;justify-content: center;background-color: white;position: relative;}#sk-container-id-3 div.sk-item::before, #sk-container-id-3 div.sk-parallel-item::before {content: \"\";position: absolute;border-left: 1px solid gray;box-sizing: border-box;top: 0;bottom: 0;left: 50%;z-index: -1;}#sk-container-id-3 div.sk-parallel-item {display: flex;flex-direction: column;z-index: 1;position: relative;background-color: white;}#sk-container-id-3 div.sk-parallel-item:first-child::after {align-self: flex-end;width: 50%;}#sk-container-id-3 div.sk-parallel-item:last-child::after {align-self: flex-start;width: 50%;}#sk-container-id-3 div.sk-parallel-item:only-child::after {width: 0;}#sk-container-id-3 div.sk-dashed-wrapped {border: 1px dashed gray;margin: 0 0.4em 0.5em 0.4em;box-sizing: border-box;padding-bottom: 0.4em;background-color: white;}#sk-container-id-3 div.sk-label label {font-family: monospace;font-weight: bold;display: inline-block;line-height: 1.2em;}#sk-container-id-3 div.sk-label-container {text-align: center;}#sk-container-id-3 div.sk-container {/* jupyter's `normalize.less` sets `[hidden] { display: none; }` but bootstrap.min.css set `[hidden] { display: none !important; }` so we also need the `!important` here to be able to override the default hidden behavior on the sphinx rendered scikit-learn.org. See: https://github.com/scikit-learn/scikit-learn/issues/21755 */display: inline-block !important;position: relative;}#sk-container-id-3 div.sk-text-repr-fallback {display: none;}</style><div id=\"sk-container-id-3\" class=\"sk-top-container\"><div class=\"sk-text-repr-fallback\"><pre>LGBMRegressor()</pre><b>In a Jupyter environment, please rerun this cell to show the HTML representation or trust the notebook. <br />On GitHub, the HTML representation is unable to render, please try loading this page with nbviewer.org.</b></div><div class=\"sk-container\" hidden><div class=\"sk-item\"><div class=\"sk-estimator sk-toggleable\"><input class=\"sk-toggleable__control sk-hidden--visually\" id=\"sk-estimator-id-3\" type=\"checkbox\" checked><label for=\"sk-estimator-id-3\" class=\"sk-toggleable__label sk-toggleable__label-arrow\">LGBMRegressor</label><div class=\"sk-toggleable__content\"><pre>LGBMRegressor()</pre></div></div></div></div></div>"
      ],
      "text/plain": [
       "LGBMRegressor()"
      ]
     },
     "execution_count": 97,
     "metadata": {},
     "output_type": "execute_result"
    }
   ],
   "source": [
    "model_LGB = lgb.LGBMRegressor()\n",
    "model_LGB.fit(features_train, target_train)"
   ]
  },
  {
   "cell_type": "markdown",
   "id": "b36b5907",
   "metadata": {},
   "source": [
    "Определяем оптимальные гиперпараметры и качество модели на кросс-валидации"
   ]
  },
  {
   "cell_type": "code",
   "execution_count": 98,
   "id": "be79e043",
   "metadata": {},
   "outputs": [
    {
     "name": "stdout",
     "output_type": "stream",
     "text": [
      "Fitting 3 folds for each of 18 candidates, totalling 54 fits\n",
      "LGBMRegressor(max_depth=10, n_estimators=9, num_leaves=127)\n",
      "{'learning_rate': 0.1, 'max_depth': 10, 'n_estimators': 9, 'num_leaves': 127}\n",
      "Качество модели на кросс-валидации 6.9541809840678\n"
     ]
    }
   ],
   "source": [
    "#Объявляю модель\n",
    "lg = lgb.LGBMRegressor()\n",
    "#Определяю словарь с набором параметров\n",
    "lg_parametrs = {\"max_depth\": [5,7,10], \"learning_rate\" : [0.01, 0.1], \"num_leaves\": [127],\"n_estimators\": range (5,10,2)}\n",
    "#Применяю GridSearchCV с кросс-валидацией\n",
    "lg_grid = GridSearchCV(lg, lg_parametrs, scoring=MAE_score, cv=3, verbose=True)\n",
    "lg_grid.fit(features_train, target_train)\n",
    "lbs=lg_grid.best_score_*(-1)\n",
    "print(lg_grid.best_estimator_)\n",
    "print(lg_grid.best_params_)\n",
    "print('Качество модели на кросс-валидации', lbs)"
   ]
  },
  {
   "cell_type": "code",
   "execution_count": 99,
   "id": "bac49e9c",
   "metadata": {},
   "outputs": [],
   "source": [
    "target_predict_lgr= model_LGB.predict(features_train) "
   ]
  },
  {
   "cell_type": "markdown",
   "id": "df43f701",
   "metadata": {},
   "source": [
    "Обучаем ансамбль моделей CatBoostRegressor"
   ]
  },
  {
   "cell_type": "code",
   "execution_count": 100,
   "id": "f2d539ec",
   "metadata": {},
   "outputs": [
    {
     "data": {
      "text/plain": [
       "<catboost.core.CatBoostRegressor at 0x7f3d383d8880>"
      ]
     },
     "execution_count": 100,
     "metadata": {},
     "output_type": "execute_result"
    }
   ],
   "source": [
    "model_cat = CatBoostRegressor(loss_function='MAE',silent=True, random_seed=15823)\n",
    "start = time.time()\n",
    "model_cat.fit(features_train, target_train)"
   ]
  },
  {
   "cell_type": "code",
   "execution_count": 101,
   "id": "c66df7dd",
   "metadata": {},
   "outputs": [
    {
     "name": "stdout",
     "output_type": "stream",
     "text": [
      "<catboost.core.CatBoostRegressor object at 0x7f3d4422d940>\n",
      "{'depth': 5, 'iterations': 40, 'learning_rate': 0.1778279410038923}\n",
      "Качество модели на кросс-валидации 6.636837744760716\n"
     ]
    }
   ],
   "source": [
    "cbr = CatBoostRegressor(loss_function='MAE',silent=True, random_seed=15823)\n",
    "cbr_params = {'learning_rate': np.logspace(-3, 0, 5),'iterations': range(20, 60, 20),'depth': range(5,10,2)}\n",
    "\n",
    "grid_cbr = GridSearchCV(cbr, cbr_params, cv=3, scoring=MAE_score)\n",
    "grid_cbr.fit(features_train, target_train);\n",
    "cbs=grid_cbr.best_score_*(-1)\n",
    "print(grid_cbr.best_estimator_)\n",
    "print(grid_cbr.best_params_)\n",
    "print('Качество модели на кросс-валидации', cbs)"
   ]
  },
  {
   "cell_type": "code",
   "execution_count": 103,
   "id": "d026b62a",
   "metadata": {},
   "outputs": [],
   "source": [
    "target_predict_cbr= model_cat.predict(features_train) "
   ]
  },
  {
   "cell_type": "markdown",
   "id": "284c929d",
   "metadata": {},
   "source": [
    "Сводная таблица"
   ]
  },
  {
   "cell_type": "code",
   "execution_count": 105,
   "id": "ffe68bf2",
   "metadata": {},
   "outputs": [
    {
     "data": {
      "text/html": [
       "<div>\n",
       "<style scoped>\n",
       "    .dataframe tbody tr th:only-of-type {\n",
       "        vertical-align: middle;\n",
       "    }\n",
       "\n",
       "    .dataframe tbody tr th {\n",
       "        vertical-align: top;\n",
       "    }\n",
       "\n",
       "    .dataframe thead th {\n",
       "        text-align: right;\n",
       "    }\n",
       "</style>\n",
       "<table border=\"1\" class=\"dataframe\">\n",
       "  <thead>\n",
       "    <tr style=\"text-align: right;\">\n",
       "      <th></th>\n",
       "      <th>MAE на CV</th>\n",
       "      <th>Рейтинг MAE на CV</th>\n",
       "      <th>Выполнение задачи</th>\n",
       "    </tr>\n",
       "  </thead>\n",
       "  <tbody>\n",
       "    <tr>\n",
       "      <th>LinearRegression</th>\n",
       "      <td>6.901104</td>\n",
       "      <td>0.961707</td>\n",
       "      <td>False</td>\n",
       "    </tr>\n",
       "    <tr>\n",
       "      <th>RandomForestRegressor</th>\n",
       "      <td>6.795850</td>\n",
       "      <td>0.976602</td>\n",
       "      <td>True</td>\n",
       "    </tr>\n",
       "    <tr>\n",
       "      <th>LGBMRegressor</th>\n",
       "      <td>6.954181</td>\n",
       "      <td>0.954367</td>\n",
       "      <td>False</td>\n",
       "    </tr>\n",
       "    <tr>\n",
       "      <th>CatBoostRegressor</th>\n",
       "      <td>6.636838</td>\n",
       "      <td>1.000000</td>\n",
       "      <td>True</td>\n",
       "    </tr>\n",
       "  </tbody>\n",
       "</table>\n",
       "</div>"
      ],
      "text/plain": [
       "                       MAE на CV  Рейтинг MAE на CV  Выполнение задачи\n",
       "LinearRegression        6.901104           0.961707              False\n",
       "RandomForestRegressor   6.795850           0.976602               True\n",
       "LGBMRegressor           6.954181           0.954367              False\n",
       "CatBoostRegressor       6.636838           1.000000               True"
      ]
     },
     "execution_count": 105,
     "metadata": {},
     "output_type": "execute_result"
    }
   ],
   "source": [
    "index = ['LinearRegression',\n",
    "         'RandomForestRegressor',\n",
    "         'LGBMRegressor',\n",
    "         'CatBoostRegressor']\n",
    "data = {'MAE на CV':[regression_cv_score,\n",
    "                      fbs,\n",
    "                      lbs,\n",
    "                      cbs]}\n",
    "\n",
    "scores_data = pd.DataFrame(data=data, index=index)\n",
    "scores_data['Рейтинг MAE на CV'] = (scores_data['MAE на CV'].min() /\n",
    "                              scores_data['MAE на CV'])\n",
    "scores_data['Выполнение задачи'] = scores_data['MAE на CV'] <= 6.8\n",
    "scores_data"
   ]
  },
  {
   "cell_type": "markdown",
   "id": "d9902673",
   "metadata": {},
   "source": [
    "В лидерах у нас модель CatBoostRegressor с MAE = 6.63. Проведем на ней тестирование."
   ]
  },
  {
   "cell_type": "markdown",
   "id": "6abe0425",
   "metadata": {},
   "source": [
    "# Тестирование модели"
   ]
  },
  {
   "cell_type": "code",
   "execution_count": 106,
   "id": "752da462",
   "metadata": {},
   "outputs": [
    {
     "name": "stdout",
     "output_type": "stream",
     "text": [
      "MAE для константной модели 8.1320754717\n"
     ]
    }
   ],
   "source": [
    "\n",
    "#Для проверки адекватности моделей создаю константную модель\n",
    "const_model = pd.Series(target_test.median(), index=target_test.index)\n",
    "\n",
    "#Определяю метрику MAE константной модели\n",
    "const_MAE = round(MAE(target_test, const_model),10)\n",
    "print('MAE для константной модели', const_MAE)"
   ]
  },
  {
   "cell_type": "code",
   "execution_count": 107,
   "id": "396f00b5",
   "metadata": {},
   "outputs": [
    {
     "data": {
      "text/html": [
       "<div>\n",
       "<style scoped>\n",
       "    .dataframe tbody tr th:only-of-type {\n",
       "        vertical-align: middle;\n",
       "    }\n",
       "\n",
       "    .dataframe tbody tr th {\n",
       "        vertical-align: top;\n",
       "    }\n",
       "\n",
       "    .dataframe thead th {\n",
       "        text-align: right;\n",
       "    }\n",
       "</style>\n",
       "<table border=\"1\" class=\"dataframe\">\n",
       "  <thead>\n",
       "    <tr style=\"text-align: right;\">\n",
       "      <th></th>\n",
       "      <th>LinearRegression</th>\n",
       "      <th>RandomForestRegressor</th>\n",
       "      <th>LightGBM</th>\n",
       "      <th>CatBoostRegressor</th>\n",
       "    </tr>\n",
       "  </thead>\n",
       "  <tbody>\n",
       "    <tr>\n",
       "      <th>Качество модели</th>\n",
       "      <td>6.901104</td>\n",
       "      <td>6.795850</td>\n",
       "      <td>6.954181</td>\n",
       "      <td>6.636838</td>\n",
       "    </tr>\n",
       "    <tr>\n",
       "      <th>Рейтинг</th>\n",
       "      <td>84.862760</td>\n",
       "      <td>83.568451</td>\n",
       "      <td>85.515451</td>\n",
       "      <td>81.613086</td>\n",
       "    </tr>\n",
       "  </tbody>\n",
       "</table>\n",
       "</div>"
      ],
      "text/plain": [
       "                 LinearRegression  RandomForestRegressor   LightGBM  \\\n",
       "Качество модели          6.901104               6.795850   6.954181   \n",
       "Рейтинг                 84.862760              83.568451  85.515451   \n",
       "\n",
       "                 CatBoostRegressor  \n",
       "Качество модели           6.636838  \n",
       "Рейтинг                  81.613086  "
      ]
     },
     "execution_count": 107,
     "metadata": {},
     "output_type": "execute_result"
    }
   ],
   "source": [
    "column=['Качество модели','Скорость обучения, s','Скорость предсказания, s','Рейтинг']\n",
    "\n",
    "comparison_tabl = pd.DataFrame(index=['Качество модели','Рейтинг'], columns=['LinearRegression','RandomForestRegressor','LightGBM', 'CatBoostRegressor'])\n",
    "comparison_tabl['LinearRegression'] = regression_cv_score, (regression_cv_score/const_MAE)*100\n",
    "comparison_tabl['RandomForestRegressor'] = fbs, (fbs/const_MAE)*100\n",
    "comparison_tabl['LightGBM'] = lbs, (lbs/const_MAE)*100\n",
    "comparison_tabl['CatBoostRegressor'] = cbs, (cbs/const_MAE)*100\n",
    "comparison_tabl"
   ]
  },
  {
   "cell_type": "markdown",
   "id": "25c29824",
   "metadata": {},
   "source": [
    "Исходя из данных таблицы лучшей моделью признаем CatBoostRegressor. Проводим тест на ней"
   ]
  },
  {
   "cell_type": "code",
   "execution_count": 108,
   "id": "13ab8b58",
   "metadata": {},
   "outputs": [],
   "source": [
    "target_predict=model_cat.predict(features_test)"
   ]
  },
  {
   "cell_type": "code",
   "execution_count": 109,
   "id": "51888602",
   "metadata": {},
   "outputs": [
    {
     "name": "stdout",
     "output_type": "stream",
     "text": [
      "MAE 6.39\n"
     ]
    }
   ],
   "source": [
    "print('MAE',round(mean_absolute_error(target_test, target_predict),2))"
   ]
  },
  {
   "cell_type": "markdown",
   "id": "0f906a08",
   "metadata": {},
   "source": [
    "Оценим вжность факторов в модели"
   ]
  },
  {
   "cell_type": "code",
   "execution_count": 110,
   "id": "0dc9daff",
   "metadata": {
    "scrolled": true
   },
   "outputs": [
    {
     "name": "stdout",
     "output_type": "stream",
     "text": [
      "Learning rate set to 0.044712\n",
      "0:\tlearn: 10.9774750\ttotal: 3.34ms\tremaining: 3.33s\n",
      "1:\tlearn: 10.8681410\ttotal: 6.61ms\tremaining: 3.3s\n",
      "2:\tlearn: 10.7626005\ttotal: 9.98ms\tremaining: 3.32s\n",
      "3:\tlearn: 10.6512399\ttotal: 13.4ms\tremaining: 3.34s\n",
      "4:\tlearn: 10.5525532\ttotal: 16.5ms\tremaining: 3.29s\n",
      "5:\tlearn: 10.4591962\ttotal: 20.8ms\tremaining: 3.44s\n",
      "6:\tlearn: 10.3641229\ttotal: 25.5ms\tremaining: 3.62s\n",
      "7:\tlearn: 10.2675280\ttotal: 28.7ms\tremaining: 3.55s\n",
      "8:\tlearn: 10.1735502\ttotal: 33.8ms\tremaining: 3.72s\n",
      "9:\tlearn: 10.0863420\ttotal: 38.5ms\tremaining: 3.81s\n",
      "10:\tlearn: 10.0101808\ttotal: 43.1ms\tremaining: 3.87s\n",
      "11:\tlearn: 9.9336793\ttotal: 48.2ms\tremaining: 3.97s\n",
      "12:\tlearn: 9.8679000\ttotal: 53.1ms\tremaining: 4.03s\n",
      "13:\tlearn: 9.7967097\ttotal: 57.9ms\tremaining: 4.08s\n",
      "14:\tlearn: 9.7308227\ttotal: 62.5ms\tremaining: 4.1s\n",
      "15:\tlearn: 9.6653474\ttotal: 65.7ms\tremaining: 4.04s\n",
      "16:\tlearn: 9.6078028\ttotal: 70.2ms\tremaining: 4.06s\n",
      "17:\tlearn: 9.5492648\ttotal: 74.7ms\tremaining: 4.07s\n",
      "18:\tlearn: 9.4883490\ttotal: 79.3ms\tremaining: 4.09s\n",
      "19:\tlearn: 9.4253716\ttotal: 82.4ms\tremaining: 4.04s\n",
      "20:\tlearn: 9.3734637\ttotal: 85.5ms\tremaining: 3.99s\n",
      "21:\tlearn: 9.3277959\ttotal: 88.4ms\tremaining: 3.93s\n",
      "22:\tlearn: 9.2734622\ttotal: 91.2ms\tremaining: 3.87s\n",
      "23:\tlearn: 9.2295049\ttotal: 93.9ms\tremaining: 3.82s\n",
      "24:\tlearn: 9.1893057\ttotal: 97.1ms\tremaining: 3.79s\n",
      "25:\tlearn: 9.1414760\ttotal: 99.9ms\tremaining: 3.74s\n",
      "26:\tlearn: 9.0985536\ttotal: 103ms\tremaining: 3.7s\n",
      "27:\tlearn: 9.0604465\ttotal: 106ms\tremaining: 3.67s\n",
      "28:\tlearn: 9.0275922\ttotal: 108ms\tremaining: 3.63s\n",
      "29:\tlearn: 8.9873334\ttotal: 113ms\tremaining: 3.64s\n",
      "30:\tlearn: 8.9601796\ttotal: 118ms\tremaining: 3.67s\n",
      "31:\tlearn: 8.9263321\ttotal: 122ms\tremaining: 3.69s\n",
      "32:\tlearn: 8.8962050\ttotal: 129ms\tremaining: 3.77s\n",
      "33:\tlearn: 8.8597443\ttotal: 134ms\tremaining: 3.8s\n",
      "34:\tlearn: 8.8254854\ttotal: 139ms\tremaining: 3.84s\n",
      "35:\tlearn: 8.7985591\ttotal: 145ms\tremaining: 3.87s\n",
      "36:\tlearn: 8.7767327\ttotal: 150ms\tremaining: 3.9s\n",
      "37:\tlearn: 8.7439056\ttotal: 155ms\tremaining: 3.92s\n",
      "38:\tlearn: 8.7198497\ttotal: 160ms\tremaining: 3.94s\n",
      "39:\tlearn: 8.6962504\ttotal: 164ms\tremaining: 3.94s\n",
      "40:\tlearn: 8.6655617\ttotal: 169ms\tremaining: 3.95s\n",
      "41:\tlearn: 8.6398650\ttotal: 173ms\tremaining: 3.96s\n",
      "42:\tlearn: 8.6155684\ttotal: 178ms\tremaining: 3.96s\n",
      "43:\tlearn: 8.5856073\ttotal: 181ms\tremaining: 3.94s\n",
      "44:\tlearn: 8.5606669\ttotal: 184ms\tremaining: 3.91s\n",
      "45:\tlearn: 8.5373901\ttotal: 188ms\tremaining: 3.9s\n",
      "46:\tlearn: 8.5163356\ttotal: 193ms\tremaining: 3.91s\n",
      "47:\tlearn: 8.4908936\ttotal: 197ms\tremaining: 3.9s\n",
      "48:\tlearn: 8.4681808\ttotal: 202ms\tremaining: 3.92s\n",
      "49:\tlearn: 8.4474560\ttotal: 207ms\tremaining: 3.93s\n",
      "50:\tlearn: 8.4198384\ttotal: 211ms\tremaining: 3.92s\n",
      "51:\tlearn: 8.4007296\ttotal: 214ms\tremaining: 3.89s\n",
      "52:\tlearn: 8.3822836\ttotal: 216ms\tremaining: 3.87s\n",
      "53:\tlearn: 8.3604993\ttotal: 220ms\tremaining: 3.85s\n",
      "54:\tlearn: 8.3443418\ttotal: 223ms\tremaining: 3.82s\n",
      "55:\tlearn: 8.3280218\ttotal: 225ms\tremaining: 3.8s\n",
      "56:\tlearn: 8.3155397\ttotal: 228ms\tremaining: 3.77s\n",
      "57:\tlearn: 8.2961992\ttotal: 231ms\tremaining: 3.76s\n",
      "58:\tlearn: 8.2796095\ttotal: 234ms\tremaining: 3.74s\n",
      "59:\tlearn: 8.2629422\ttotal: 237ms\tremaining: 3.72s\n",
      "60:\tlearn: 8.2472317\ttotal: 240ms\tremaining: 3.7s\n",
      "61:\tlearn: 8.2347399\ttotal: 243ms\tremaining: 3.68s\n",
      "62:\tlearn: 8.2158909\ttotal: 246ms\tremaining: 3.66s\n",
      "63:\tlearn: 8.2013685\ttotal: 249ms\tremaining: 3.65s\n",
      "64:\tlearn: 8.1906828\ttotal: 253ms\tremaining: 3.63s\n",
      "65:\tlearn: 8.1807512\ttotal: 257ms\tremaining: 3.64s\n",
      "66:\tlearn: 8.1660360\ttotal: 262ms\tremaining: 3.65s\n",
      "67:\tlearn: 8.1500498\ttotal: 266ms\tremaining: 3.65s\n",
      "68:\tlearn: 8.1344808\ttotal: 271ms\tremaining: 3.65s\n",
      "69:\tlearn: 8.1184418\ttotal: 276ms\tremaining: 3.66s\n",
      "70:\tlearn: 8.1101259\ttotal: 280ms\tremaining: 3.66s\n",
      "71:\tlearn: 8.0967199\ttotal: 285ms\tremaining: 3.67s\n",
      "72:\tlearn: 8.0847398\ttotal: 289ms\tremaining: 3.67s\n",
      "73:\tlearn: 8.0704554\ttotal: 293ms\tremaining: 3.67s\n",
      "74:\tlearn: 8.0568875\ttotal: 296ms\tremaining: 3.65s\n",
      "75:\tlearn: 8.0451892\ttotal: 299ms\tremaining: 3.64s\n",
      "76:\tlearn: 8.0320259\ttotal: 303ms\tremaining: 3.63s\n",
      "77:\tlearn: 8.0121394\ttotal: 307ms\tremaining: 3.63s\n",
      "78:\tlearn: 7.9948355\ttotal: 312ms\tremaining: 3.63s\n",
      "79:\tlearn: 7.9843884\ttotal: 316ms\tremaining: 3.63s\n",
      "80:\tlearn: 7.9739066\ttotal: 320ms\tremaining: 3.63s\n",
      "81:\tlearn: 7.9608348\ttotal: 325ms\tremaining: 3.64s\n",
      "82:\tlearn: 7.9512480\ttotal: 330ms\tremaining: 3.64s\n",
      "83:\tlearn: 7.9407339\ttotal: 335ms\tremaining: 3.65s\n",
      "84:\tlearn: 7.9323886\ttotal: 340ms\tremaining: 3.65s\n",
      "85:\tlearn: 7.9236234\ttotal: 346ms\tremaining: 3.68s\n",
      "86:\tlearn: 7.9126436\ttotal: 353ms\tremaining: 3.7s\n",
      "87:\tlearn: 7.9015589\ttotal: 357ms\tremaining: 3.69s\n",
      "88:\tlearn: 7.8922374\ttotal: 361ms\tremaining: 3.7s\n",
      "89:\tlearn: 7.8830380\ttotal: 366ms\tremaining: 3.7s\n",
      "90:\tlearn: 7.8752411\ttotal: 371ms\tremaining: 3.7s\n",
      "91:\tlearn: 7.8636819\ttotal: 376ms\tremaining: 3.71s\n",
      "92:\tlearn: 7.8564512\ttotal: 380ms\tremaining: 3.71s\n",
      "93:\tlearn: 7.8445154\ttotal: 385ms\tremaining: 3.71s\n",
      "94:\tlearn: 7.8353474\ttotal: 389ms\tremaining: 3.71s\n",
      "95:\tlearn: 7.8305060\ttotal: 394ms\tremaining: 3.71s\n",
      "96:\tlearn: 7.8215771\ttotal: 399ms\tremaining: 3.71s\n",
      "97:\tlearn: 7.8102496\ttotal: 403ms\tremaining: 3.71s\n",
      "98:\tlearn: 7.8044170\ttotal: 407ms\tremaining: 3.7s\n",
      "99:\tlearn: 7.7955180\ttotal: 410ms\tremaining: 3.69s\n",
      "100:\tlearn: 7.7854639\ttotal: 415ms\tremaining: 3.69s\n",
      "101:\tlearn: 7.7733963\ttotal: 419ms\tremaining: 3.69s\n",
      "102:\tlearn: 7.7585024\ttotal: 423ms\tremaining: 3.69s\n",
      "103:\tlearn: 7.7468742\ttotal: 428ms\tremaining: 3.69s\n",
      "104:\tlearn: 7.7382215\ttotal: 434ms\tremaining: 3.7s\n",
      "105:\tlearn: 7.7327384\ttotal: 437ms\tremaining: 3.68s\n",
      "106:\tlearn: 7.7249110\ttotal: 441ms\tremaining: 3.68s\n",
      "107:\tlearn: 7.7183596\ttotal: 446ms\tremaining: 3.68s\n",
      "108:\tlearn: 7.7117551\ttotal: 451ms\tremaining: 3.69s\n",
      "109:\tlearn: 7.7006221\ttotal: 456ms\tremaining: 3.69s\n",
      "110:\tlearn: 7.6902339\ttotal: 461ms\tremaining: 3.69s\n",
      "111:\tlearn: 7.6804795\ttotal: 466ms\tremaining: 3.69s\n",
      "112:\tlearn: 7.6701235\ttotal: 471ms\tremaining: 3.7s\n",
      "113:\tlearn: 7.6600387\ttotal: 475ms\tremaining: 3.69s\n",
      "114:\tlearn: 7.6546177\ttotal: 478ms\tremaining: 3.68s\n",
      "115:\tlearn: 7.6483143\ttotal: 483ms\tremaining: 3.68s\n",
      "116:\tlearn: 7.6366541\ttotal: 487ms\tremaining: 3.68s\n",
      "117:\tlearn: 7.6317610\ttotal: 493ms\tremaining: 3.68s\n",
      "118:\tlearn: 7.6237767\ttotal: 497ms\tremaining: 3.68s\n",
      "119:\tlearn: 7.6153585\ttotal: 502ms\tremaining: 3.68s\n",
      "120:\tlearn: 7.6069714\ttotal: 506ms\tremaining: 3.68s\n",
      "121:\tlearn: 7.6010225\ttotal: 510ms\tremaining: 3.67s\n",
      "122:\tlearn: 7.5951964\ttotal: 514ms\tremaining: 3.66s\n",
      "123:\tlearn: 7.5874119\ttotal: 519ms\tremaining: 3.67s\n",
      "124:\tlearn: 7.5782789\ttotal: 523ms\tremaining: 3.66s\n",
      "125:\tlearn: 7.5711970\ttotal: 528ms\tremaining: 3.66s\n",
      "126:\tlearn: 7.5628504\ttotal: 531ms\tremaining: 3.65s\n",
      "127:\tlearn: 7.5584550\ttotal: 534ms\tremaining: 3.64s\n",
      "128:\tlearn: 7.5535455\ttotal: 537ms\tremaining: 3.62s\n",
      "129:\tlearn: 7.5482674\ttotal: 540ms\tremaining: 3.61s\n",
      "130:\tlearn: 7.5431262\ttotal: 543ms\tremaining: 3.6s\n",
      "131:\tlearn: 7.5354409\ttotal: 546ms\tremaining: 3.59s\n",
      "132:\tlearn: 7.5310448\ttotal: 548ms\tremaining: 3.58s\n",
      "133:\tlearn: 7.5269951\ttotal: 551ms\tremaining: 3.56s\n",
      "134:\tlearn: 7.5215902\ttotal: 554ms\tremaining: 3.55s\n",
      "135:\tlearn: 7.5164736\ttotal: 558ms\tremaining: 3.55s\n",
      "136:\tlearn: 7.5077179\ttotal: 563ms\tremaining: 3.54s\n",
      "137:\tlearn: 7.4989777\ttotal: 567ms\tremaining: 3.54s\n",
      "138:\tlearn: 7.4952711\ttotal: 572ms\tremaining: 3.54s\n",
      "139:\tlearn: 7.4921598\ttotal: 577ms\tremaining: 3.54s\n",
      "140:\tlearn: 7.4827016\ttotal: 581ms\tremaining: 3.54s\n",
      "141:\tlearn: 7.4774816\ttotal: 586ms\tremaining: 3.54s\n",
      "142:\tlearn: 7.4709708\ttotal: 590ms\tremaining: 3.54s\n",
      "143:\tlearn: 7.4657004\ttotal: 594ms\tremaining: 3.53s\n",
      "144:\tlearn: 7.4627718\ttotal: 599ms\tremaining: 3.53s\n",
      "145:\tlearn: 7.4564766\ttotal: 603ms\tremaining: 3.53s\n",
      "146:\tlearn: 7.4516276\ttotal: 607ms\tremaining: 3.52s\n",
      "147:\tlearn: 7.4445637\ttotal: 612ms\tremaining: 3.52s\n",
      "148:\tlearn: 7.4353247\ttotal: 616ms\tremaining: 3.52s\n",
      "149:\tlearn: 7.4290099\ttotal: 621ms\tremaining: 3.52s\n",
      "150:\tlearn: 7.4241194\ttotal: 625ms\tremaining: 3.52s\n",
      "151:\tlearn: 7.4196229\ttotal: 629ms\tremaining: 3.51s\n",
      "152:\tlearn: 7.4137459\ttotal: 634ms\tremaining: 3.51s\n",
      "153:\tlearn: 7.4088620\ttotal: 638ms\tremaining: 3.5s\n",
      "154:\tlearn: 7.4045908\ttotal: 645ms\tremaining: 3.51s\n",
      "155:\tlearn: 7.3960398\ttotal: 650ms\tremaining: 3.51s\n",
      "156:\tlearn: 7.3888978\ttotal: 660ms\tremaining: 3.54s\n",
      "157:\tlearn: 7.3800902\ttotal: 664ms\tremaining: 3.54s\n",
      "158:\tlearn: 7.3736875\ttotal: 675ms\tremaining: 3.57s\n",
      "159:\tlearn: 7.3676226\ttotal: 680ms\tremaining: 3.57s\n",
      "160:\tlearn: 7.3605978\ttotal: 684ms\tremaining: 3.56s\n",
      "161:\tlearn: 7.3586785\ttotal: 689ms\tremaining: 3.56s\n",
      "162:\tlearn: 7.3551140\ttotal: 693ms\tremaining: 3.56s\n",
      "163:\tlearn: 7.3488220\ttotal: 698ms\tremaining: 3.56s\n",
      "164:\tlearn: 7.3452466\ttotal: 703ms\tremaining: 3.56s\n",
      "165:\tlearn: 7.3413235\ttotal: 708ms\tremaining: 3.56s\n",
      "166:\tlearn: 7.3370801\ttotal: 712ms\tremaining: 3.55s\n",
      "167:\tlearn: 7.3330860\ttotal: 717ms\tremaining: 3.55s\n",
      "168:\tlearn: 7.3289092\ttotal: 721ms\tremaining: 3.55s\n",
      "169:\tlearn: 7.3223185\ttotal: 726ms\tremaining: 3.54s\n",
      "170:\tlearn: 7.3158055\ttotal: 731ms\tremaining: 3.54s\n",
      "171:\tlearn: 7.3113647\ttotal: 736ms\tremaining: 3.54s\n",
      "172:\tlearn: 7.3068205\ttotal: 741ms\tremaining: 3.54s\n",
      "173:\tlearn: 7.2968540\ttotal: 746ms\tremaining: 3.54s\n",
      "174:\tlearn: 7.2934688\ttotal: 751ms\tremaining: 3.54s\n",
      "175:\tlearn: 7.2914687\ttotal: 755ms\tremaining: 3.53s\n",
      "176:\tlearn: 7.2794325\ttotal: 758ms\tremaining: 3.52s\n",
      "177:\tlearn: 7.2753949\ttotal: 761ms\tremaining: 3.52s\n",
      "178:\tlearn: 7.2700285\ttotal: 764ms\tremaining: 3.5s\n",
      "179:\tlearn: 7.2600008\ttotal: 767ms\tremaining: 3.5s\n",
      "180:\tlearn: 7.2543447\ttotal: 771ms\tremaining: 3.49s\n",
      "181:\tlearn: 7.2522123\ttotal: 774ms\tremaining: 3.48s\n",
      "182:\tlearn: 7.2442612\ttotal: 777ms\tremaining: 3.47s\n",
      "183:\tlearn: 7.2356138\ttotal: 781ms\tremaining: 3.46s\n",
      "184:\tlearn: 7.2255059\ttotal: 786ms\tremaining: 3.46s\n",
      "185:\tlearn: 7.2166330\ttotal: 791ms\tremaining: 3.46s\n",
      "186:\tlearn: 7.2095485\ttotal: 795ms\tremaining: 3.46s\n",
      "187:\tlearn: 7.2031741\ttotal: 800ms\tremaining: 3.45s\n",
      "188:\tlearn: 7.2010699\ttotal: 805ms\tremaining: 3.45s\n",
      "189:\tlearn: 7.1948975\ttotal: 810ms\tremaining: 3.45s\n",
      "190:\tlearn: 7.1900194\ttotal: 815ms\tremaining: 3.45s\n",
      "191:\tlearn: 7.1790973\ttotal: 820ms\tremaining: 3.45s\n",
      "192:\tlearn: 7.1746152\ttotal: 825ms\tremaining: 3.45s\n",
      "193:\tlearn: 7.1699960\ttotal: 831ms\tremaining: 3.45s\n",
      "194:\tlearn: 7.1642914\ttotal: 836ms\tremaining: 3.45s\n",
      "195:\tlearn: 7.1582557\ttotal: 841ms\tremaining: 3.45s\n",
      "196:\tlearn: 7.1531614\ttotal: 846ms\tremaining: 3.45s\n",
      "197:\tlearn: 7.1450687\ttotal: 851ms\tremaining: 3.45s\n",
      "198:\tlearn: 7.1373792\ttotal: 859ms\tremaining: 3.46s\n",
      "199:\tlearn: 7.1315599\ttotal: 864ms\tremaining: 3.46s\n",
      "200:\tlearn: 7.1285613\ttotal: 869ms\tremaining: 3.45s\n",
      "201:\tlearn: 7.1246828\ttotal: 873ms\tremaining: 3.45s\n",
      "202:\tlearn: 7.1188884\ttotal: 879ms\tremaining: 3.45s\n",
      "203:\tlearn: 7.1128977\ttotal: 888ms\tremaining: 3.47s\n",
      "204:\tlearn: 7.1102593\ttotal: 893ms\tremaining: 3.46s\n",
      "205:\tlearn: 7.1043143\ttotal: 898ms\tremaining: 3.46s\n",
      "206:\tlearn: 7.0974259\ttotal: 903ms\tremaining: 3.46s\n",
      "207:\tlearn: 7.0882510\ttotal: 908ms\tremaining: 3.46s\n",
      "208:\tlearn: 7.0851627\ttotal: 912ms\tremaining: 3.45s\n",
      "209:\tlearn: 7.0716073\ttotal: 916ms\tremaining: 3.45s\n",
      "210:\tlearn: 7.0637962\ttotal: 922ms\tremaining: 3.45s\n",
      "211:\tlearn: 7.0608587\ttotal: 926ms\tremaining: 3.44s\n",
      "212:\tlearn: 7.0593411\ttotal: 931ms\tremaining: 3.44s\n",
      "213:\tlearn: 7.0514522\ttotal: 936ms\tremaining: 3.44s\n",
      "214:\tlearn: 7.0492185\ttotal: 941ms\tremaining: 3.44s\n",
      "215:\tlearn: 7.0424831\ttotal: 946ms\tremaining: 3.43s\n",
      "216:\tlearn: 7.0354169\ttotal: 951ms\tremaining: 3.43s\n",
      "217:\tlearn: 7.0302465\ttotal: 956ms\tremaining: 3.43s\n",
      "218:\tlearn: 7.0279379\ttotal: 961ms\tremaining: 3.43s\n",
      "219:\tlearn: 7.0249970\ttotal: 966ms\tremaining: 3.42s\n",
      "220:\tlearn: 7.0214200\ttotal: 971ms\tremaining: 3.42s\n",
      "221:\tlearn: 7.0159912\ttotal: 975ms\tremaining: 3.42s\n",
      "222:\tlearn: 7.0067495\ttotal: 980ms\tremaining: 3.42s\n",
      "223:\tlearn: 6.9963327\ttotal: 985ms\tremaining: 3.41s\n",
      "224:\tlearn: 6.9917698\ttotal: 990ms\tremaining: 3.41s\n",
      "225:\tlearn: 6.9902008\ttotal: 995ms\tremaining: 3.41s\n",
      "226:\tlearn: 6.9844998\ttotal: 999ms\tremaining: 3.4s\n",
      "227:\tlearn: 6.9732155\ttotal: 1s\tremaining: 3.4s\n",
      "228:\tlearn: 6.9670993\ttotal: 1.01s\tremaining: 3.39s\n",
      "229:\tlearn: 6.9639589\ttotal: 1.01s\tremaining: 3.39s\n",
      "230:\tlearn: 6.9537241\ttotal: 1.02s\tremaining: 3.38s\n",
      "231:\tlearn: 6.9412507\ttotal: 1.02s\tremaining: 3.38s\n",
      "232:\tlearn: 6.9389820\ttotal: 1.02s\tremaining: 3.38s\n",
      "233:\tlearn: 6.9360896\ttotal: 1.03s\tremaining: 3.37s\n",
      "234:\tlearn: 6.9279384\ttotal: 1.03s\tremaining: 3.37s\n",
      "235:\tlearn: 6.9195663\ttotal: 1.04s\tremaining: 3.36s\n",
      "236:\tlearn: 6.9122476\ttotal: 1.04s\tremaining: 3.36s\n",
      "237:\tlearn: 6.9058689\ttotal: 1.05s\tremaining: 3.36s\n",
      "238:\tlearn: 6.9006682\ttotal: 1.05s\tremaining: 3.36s\n",
      "239:\tlearn: 6.8898708\ttotal: 1.06s\tremaining: 3.36s\n",
      "240:\tlearn: 6.8853388\ttotal: 1.06s\tremaining: 3.36s\n",
      "241:\tlearn: 6.8823094\ttotal: 1.07s\tremaining: 3.35s\n",
      "242:\tlearn: 6.8808127\ttotal: 1.07s\tremaining: 3.35s\n",
      "243:\tlearn: 6.8796484\ttotal: 1.08s\tremaining: 3.35s\n",
      "244:\tlearn: 6.8758887\ttotal: 1.09s\tremaining: 3.36s\n",
      "245:\tlearn: 6.8705851\ttotal: 1.09s\tremaining: 3.36s\n",
      "246:\tlearn: 6.8696019\ttotal: 1.1s\tremaining: 3.35s\n",
      "247:\tlearn: 6.8654048\ttotal: 1.12s\tremaining: 3.39s\n",
      "248:\tlearn: 6.8614248\ttotal: 1.12s\tremaining: 3.38s\n",
      "249:\tlearn: 6.8538413\ttotal: 1.13s\tremaining: 3.38s\n",
      "250:\tlearn: 6.8494644\ttotal: 1.13s\tremaining: 3.38s\n",
      "251:\tlearn: 6.8431323\ttotal: 1.14s\tremaining: 3.37s\n",
      "252:\tlearn: 6.8308734\ttotal: 1.14s\tremaining: 3.37s\n",
      "253:\tlearn: 6.8221478\ttotal: 1.15s\tremaining: 3.37s\n",
      "254:\tlearn: 6.8186776\ttotal: 1.15s\tremaining: 3.36s\n",
      "255:\tlearn: 6.8129455\ttotal: 1.16s\tremaining: 3.36s\n",
      "256:\tlearn: 6.8061220\ttotal: 1.16s\tremaining: 3.36s\n",
      "257:\tlearn: 6.7977873\ttotal: 1.17s\tremaining: 3.35s\n",
      "258:\tlearn: 6.7941883\ttotal: 1.17s\tremaining: 3.35s\n",
      "259:\tlearn: 6.7917845\ttotal: 1.18s\tremaining: 3.35s\n",
      "260:\tlearn: 6.7875120\ttotal: 1.18s\tremaining: 3.34s\n",
      "261:\tlearn: 6.7847636\ttotal: 1.19s\tremaining: 3.34s\n",
      "262:\tlearn: 6.7721061\ttotal: 1.19s\tremaining: 3.33s\n",
      "263:\tlearn: 6.7613995\ttotal: 1.2s\tremaining: 3.33s\n",
      "264:\tlearn: 6.7545478\ttotal: 1.2s\tremaining: 3.33s\n",
      "265:\tlearn: 6.7507353\ttotal: 1.21s\tremaining: 3.33s\n",
      "266:\tlearn: 6.7439201\ttotal: 1.21s\tremaining: 3.33s\n",
      "267:\tlearn: 6.7377424\ttotal: 1.22s\tremaining: 3.32s\n",
      "268:\tlearn: 6.7321187\ttotal: 1.22s\tremaining: 3.32s\n",
      "269:\tlearn: 6.7282660\ttotal: 1.23s\tremaining: 3.31s\n",
      "270:\tlearn: 6.7243917\ttotal: 1.23s\tremaining: 3.31s\n",
      "271:\tlearn: 6.7184905\ttotal: 1.24s\tremaining: 3.31s\n",
      "272:\tlearn: 6.7114043\ttotal: 1.24s\tremaining: 3.3s\n",
      "273:\tlearn: 6.7055158\ttotal: 1.24s\tremaining: 3.3s\n",
      "274:\tlearn: 6.7005987\ttotal: 1.25s\tremaining: 3.29s\n",
      "275:\tlearn: 6.6947747\ttotal: 1.25s\tremaining: 3.29s\n",
      "276:\tlearn: 6.6898844\ttotal: 1.26s\tremaining: 3.29s\n",
      "277:\tlearn: 6.6852628\ttotal: 1.26s\tremaining: 3.28s\n",
      "278:\tlearn: 6.6781491\ttotal: 1.27s\tremaining: 3.28s\n",
      "279:\tlearn: 6.6727053\ttotal: 1.27s\tremaining: 3.27s\n",
      "280:\tlearn: 6.6709106\ttotal: 1.28s\tremaining: 3.27s\n",
      "281:\tlearn: 6.6681826\ttotal: 1.28s\tremaining: 3.27s\n",
      "282:\tlearn: 6.6616199\ttotal: 1.29s\tremaining: 3.27s\n",
      "283:\tlearn: 6.6592798\ttotal: 1.29s\tremaining: 3.26s\n",
      "284:\tlearn: 6.6554539\ttotal: 1.3s\tremaining: 3.26s\n",
      "285:\tlearn: 6.6489192\ttotal: 1.3s\tremaining: 3.25s\n",
      "286:\tlearn: 6.6452704\ttotal: 1.31s\tremaining: 3.25s\n",
      "287:\tlearn: 6.6426135\ttotal: 1.31s\tremaining: 3.25s\n",
      "288:\tlearn: 6.6377798\ttotal: 1.32s\tremaining: 3.24s\n",
      "289:\tlearn: 6.6301369\ttotal: 1.32s\tremaining: 3.24s\n",
      "290:\tlearn: 6.6253073\ttotal: 1.33s\tremaining: 3.23s\n",
      "291:\tlearn: 6.6224641\ttotal: 1.33s\tremaining: 3.23s\n",
      "292:\tlearn: 6.6130682\ttotal: 1.34s\tremaining: 3.23s\n",
      "293:\tlearn: 6.6083300\ttotal: 1.34s\tremaining: 3.23s\n",
      "294:\tlearn: 6.6060665\ttotal: 1.35s\tremaining: 3.22s\n",
      "295:\tlearn: 6.5997377\ttotal: 1.35s\tremaining: 3.22s\n",
      "296:\tlearn: 6.5964302\ttotal: 1.36s\tremaining: 3.21s\n",
      "297:\tlearn: 6.5904212\ttotal: 1.37s\tremaining: 3.22s\n",
      "298:\tlearn: 6.5877485\ttotal: 1.37s\tremaining: 3.22s\n",
      "299:\tlearn: 6.5800944\ttotal: 1.38s\tremaining: 3.21s\n",
      "300:\tlearn: 6.5698950\ttotal: 1.38s\tremaining: 3.21s\n",
      "301:\tlearn: 6.5681445\ttotal: 1.39s\tremaining: 3.2s\n",
      "302:\tlearn: 6.5619421\ttotal: 1.39s\tremaining: 3.2s\n",
      "303:\tlearn: 6.5568197\ttotal: 1.4s\tremaining: 3.19s\n",
      "304:\tlearn: 6.5464103\ttotal: 1.4s\tremaining: 3.19s\n",
      "305:\tlearn: 6.5409503\ttotal: 1.41s\tremaining: 3.19s\n",
      "306:\tlearn: 6.5338933\ttotal: 1.41s\tremaining: 3.19s\n",
      "307:\tlearn: 6.5268575\ttotal: 1.42s\tremaining: 3.18s\n",
      "308:\tlearn: 6.5208804\ttotal: 1.42s\tremaining: 3.18s\n",
      "309:\tlearn: 6.5192718\ttotal: 1.43s\tremaining: 3.17s\n",
      "310:\tlearn: 6.5165374\ttotal: 1.43s\tremaining: 3.17s\n",
      "311:\tlearn: 6.5145736\ttotal: 1.44s\tremaining: 3.17s\n",
      "312:\tlearn: 6.5112333\ttotal: 1.44s\tremaining: 3.16s\n",
      "313:\tlearn: 6.5096132\ttotal: 1.44s\tremaining: 3.16s\n",
      "314:\tlearn: 6.5024432\ttotal: 1.45s\tremaining: 3.15s\n",
      "315:\tlearn: 6.4945712\ttotal: 1.45s\tremaining: 3.15s\n",
      "316:\tlearn: 6.4898945\ttotal: 1.46s\tremaining: 3.14s\n",
      "317:\tlearn: 6.4873498\ttotal: 1.46s\tremaining: 3.14s\n",
      "318:\tlearn: 6.4812035\ttotal: 1.47s\tremaining: 3.13s\n",
      "319:\tlearn: 6.4762273\ttotal: 1.47s\tremaining: 3.13s\n",
      "320:\tlearn: 6.4750268\ttotal: 1.48s\tremaining: 3.13s\n",
      "321:\tlearn: 6.4725044\ttotal: 1.48s\tremaining: 3.12s\n",
      "322:\tlearn: 6.4691286\ttotal: 1.49s\tremaining: 3.12s\n",
      "323:\tlearn: 6.4643570\ttotal: 1.49s\tremaining: 3.11s\n",
      "324:\tlearn: 6.4633004\ttotal: 1.5s\tremaining: 3.1s\n",
      "325:\tlearn: 6.4578018\ttotal: 1.5s\tremaining: 3.1s\n",
      "326:\tlearn: 6.4523615\ttotal: 1.5s\tremaining: 3.1s\n",
      "327:\tlearn: 6.4481146\ttotal: 1.51s\tremaining: 3.09s\n",
      "328:\tlearn: 6.4425434\ttotal: 1.51s\tremaining: 3.09s\n",
      "329:\tlearn: 6.4381923\ttotal: 1.52s\tremaining: 3.08s\n",
      "330:\tlearn: 6.4277481\ttotal: 1.52s\tremaining: 3.08s\n",
      "331:\tlearn: 6.4237862\ttotal: 1.53s\tremaining: 3.07s\n",
      "332:\tlearn: 6.4209189\ttotal: 1.53s\tremaining: 3.07s\n",
      "333:\tlearn: 6.4167420\ttotal: 1.54s\tremaining: 3.06s\n",
      "334:\tlearn: 6.4153286\ttotal: 1.54s\tremaining: 3.06s\n",
      "335:\tlearn: 6.4103193\ttotal: 1.55s\tremaining: 3.06s\n",
      "336:\tlearn: 6.3994270\ttotal: 1.55s\tremaining: 3.05s\n",
      "337:\tlearn: 6.3976422\ttotal: 1.55s\tremaining: 3.04s\n",
      "338:\tlearn: 6.3930012\ttotal: 1.56s\tremaining: 3.04s\n",
      "339:\tlearn: 6.3885773\ttotal: 1.56s\tremaining: 3.04s\n",
      "340:\tlearn: 6.3813586\ttotal: 1.57s\tremaining: 3.03s\n",
      "341:\tlearn: 6.3771255\ttotal: 1.57s\tremaining: 3.03s\n",
      "342:\tlearn: 6.3697043\ttotal: 1.58s\tremaining: 3.02s\n",
      "343:\tlearn: 6.3637587\ttotal: 1.58s\tremaining: 3.02s\n",
      "344:\tlearn: 6.3583682\ttotal: 1.59s\tremaining: 3.01s\n",
      "345:\tlearn: 6.3562181\ttotal: 1.59s\tremaining: 3.01s\n",
      "346:\tlearn: 6.3499831\ttotal: 1.6s\tremaining: 3s\n",
      "347:\tlearn: 6.3472656\ttotal: 1.6s\tremaining: 3s\n",
      "348:\tlearn: 6.3441782\ttotal: 1.6s\tremaining: 2.99s\n",
      "349:\tlearn: 6.3430982\ttotal: 1.61s\tremaining: 2.99s\n",
      "350:\tlearn: 6.3382295\ttotal: 1.61s\tremaining: 2.98s\n",
      "351:\tlearn: 6.3321866\ttotal: 1.62s\tremaining: 2.98s\n",
      "352:\tlearn: 6.3231240\ttotal: 1.62s\tremaining: 2.97s\n",
      "353:\tlearn: 6.3182466\ttotal: 1.63s\tremaining: 2.97s\n",
      "354:\tlearn: 6.3165842\ttotal: 1.63s\tremaining: 2.96s\n",
      "355:\tlearn: 6.3114807\ttotal: 1.64s\tremaining: 2.96s\n",
      "356:\tlearn: 6.3072094\ttotal: 1.64s\tremaining: 2.95s\n",
      "357:\tlearn: 6.3037941\ttotal: 1.64s\tremaining: 2.95s\n",
      "358:\tlearn: 6.2991706\ttotal: 1.65s\tremaining: 2.94s\n",
      "359:\tlearn: 6.2946481\ttotal: 1.65s\tremaining: 2.94s\n",
      "360:\tlearn: 6.2896670\ttotal: 1.66s\tremaining: 2.94s\n",
      "361:\tlearn: 6.2827831\ttotal: 1.66s\tremaining: 2.93s\n",
      "362:\tlearn: 6.2770447\ttotal: 1.67s\tremaining: 2.93s\n",
      "363:\tlearn: 6.2737546\ttotal: 1.67s\tremaining: 2.92s\n",
      "364:\tlearn: 6.2705491\ttotal: 1.68s\tremaining: 2.92s\n",
      "365:\tlearn: 6.2639778\ttotal: 1.68s\tremaining: 2.91s\n",
      "366:\tlearn: 6.2608595\ttotal: 1.69s\tremaining: 2.91s\n",
      "367:\tlearn: 6.2561708\ttotal: 1.69s\tremaining: 2.9s\n",
      "368:\tlearn: 6.2487497\ttotal: 1.7s\tremaining: 2.9s\n",
      "369:\tlearn: 6.2443136\ttotal: 1.7s\tremaining: 2.9s\n",
      "370:\tlearn: 6.2435694\ttotal: 1.71s\tremaining: 2.89s\n",
      "371:\tlearn: 6.2379637\ttotal: 1.71s\tremaining: 2.89s\n",
      "372:\tlearn: 6.2342476\ttotal: 1.72s\tremaining: 2.88s\n",
      "373:\tlearn: 6.2270708\ttotal: 1.72s\tremaining: 2.88s\n",
      "374:\tlearn: 6.2187785\ttotal: 1.73s\tremaining: 2.88s\n",
      "375:\tlearn: 6.2163005\ttotal: 1.73s\tremaining: 2.87s\n",
      "376:\tlearn: 6.2087604\ttotal: 1.74s\tremaining: 2.87s\n",
      "377:\tlearn: 6.2062247\ttotal: 1.74s\tremaining: 2.86s\n",
      "378:\tlearn: 6.2043252\ttotal: 1.74s\tremaining: 2.86s\n",
      "379:\tlearn: 6.1981157\ttotal: 1.75s\tremaining: 2.85s\n",
      "380:\tlearn: 6.1910089\ttotal: 1.75s\tremaining: 2.85s\n",
      "381:\tlearn: 6.1865602\ttotal: 1.76s\tremaining: 2.85s\n",
      "382:\tlearn: 6.1770529\ttotal: 1.76s\tremaining: 2.84s\n",
      "383:\tlearn: 6.1720920\ttotal: 1.77s\tremaining: 2.84s\n",
      "384:\tlearn: 6.1708435\ttotal: 1.77s\tremaining: 2.83s\n",
      "385:\tlearn: 6.1699805\ttotal: 1.78s\tremaining: 2.83s\n",
      "386:\tlearn: 6.1677208\ttotal: 1.78s\tremaining: 2.82s\n",
      "387:\tlearn: 6.1659858\ttotal: 1.79s\tremaining: 2.82s\n",
      "388:\tlearn: 6.1633288\ttotal: 1.79s\tremaining: 2.81s\n",
      "389:\tlearn: 6.1568496\ttotal: 1.8s\tremaining: 2.81s\n",
      "390:\tlearn: 6.1525766\ttotal: 1.8s\tremaining: 2.81s\n",
      "391:\tlearn: 6.1509636\ttotal: 1.81s\tremaining: 2.8s\n",
      "392:\tlearn: 6.1447482\ttotal: 1.81s\tremaining: 2.8s\n",
      "393:\tlearn: 6.1404816\ttotal: 1.82s\tremaining: 2.79s\n",
      "394:\tlearn: 6.1310980\ttotal: 1.82s\tremaining: 2.79s\n",
      "395:\tlearn: 6.1284284\ttotal: 1.83s\tremaining: 2.79s\n",
      "396:\tlearn: 6.1233664\ttotal: 1.83s\tremaining: 2.78s\n",
      "397:\tlearn: 6.1216288\ttotal: 1.84s\tremaining: 2.78s\n",
      "398:\tlearn: 6.1166756\ttotal: 1.84s\tremaining: 2.77s\n",
      "399:\tlearn: 6.1154057\ttotal: 1.84s\tremaining: 2.77s\n",
      "400:\tlearn: 6.1127287\ttotal: 1.85s\tremaining: 2.76s\n",
      "401:\tlearn: 6.1090941\ttotal: 1.86s\tremaining: 2.76s\n",
      "402:\tlearn: 6.1075917\ttotal: 1.86s\tremaining: 2.76s\n",
      "403:\tlearn: 6.1018793\ttotal: 1.87s\tremaining: 2.75s\n",
      "404:\tlearn: 6.0977490\ttotal: 1.87s\tremaining: 2.75s\n",
      "405:\tlearn: 6.0917888\ttotal: 1.88s\tremaining: 2.75s\n",
      "406:\tlearn: 6.0864526\ttotal: 1.88s\tremaining: 2.74s\n",
      "407:\tlearn: 6.0819569\ttotal: 1.89s\tremaining: 2.74s\n",
      "408:\tlearn: 6.0784176\ttotal: 1.89s\tremaining: 2.73s\n",
      "409:\tlearn: 6.0776044\ttotal: 1.9s\tremaining: 2.73s\n",
      "410:\tlearn: 6.0752507\ttotal: 1.9s\tremaining: 2.73s\n",
      "411:\tlearn: 6.0715314\ttotal: 1.91s\tremaining: 2.72s\n",
      "412:\tlearn: 6.0707423\ttotal: 1.91s\tremaining: 2.72s\n",
      "413:\tlearn: 6.0692239\ttotal: 1.92s\tremaining: 2.71s\n",
      "414:\tlearn: 6.0659156\ttotal: 1.92s\tremaining: 2.71s\n",
      "415:\tlearn: 6.0634880\ttotal: 1.93s\tremaining: 2.71s\n",
      "416:\tlearn: 6.0600026\ttotal: 1.93s\tremaining: 2.7s\n",
      "417:\tlearn: 6.0584213\ttotal: 1.94s\tremaining: 2.7s\n",
      "418:\tlearn: 6.0566743\ttotal: 1.94s\tremaining: 2.69s\n",
      "419:\tlearn: 6.0512798\ttotal: 1.95s\tremaining: 2.69s\n",
      "420:\tlearn: 6.0495789\ttotal: 1.95s\tremaining: 2.69s\n",
      "421:\tlearn: 6.0426026\ttotal: 1.96s\tremaining: 2.68s\n",
      "422:\tlearn: 6.0418673\ttotal: 1.96s\tremaining: 2.68s\n",
      "423:\tlearn: 6.0406368\ttotal: 1.97s\tremaining: 2.67s\n",
      "424:\tlearn: 6.0397175\ttotal: 1.97s\tremaining: 2.67s\n",
      "425:\tlearn: 6.0387060\ttotal: 1.98s\tremaining: 2.67s\n",
      "426:\tlearn: 6.0378231\ttotal: 1.98s\tremaining: 2.66s\n",
      "427:\tlearn: 6.0364241\ttotal: 1.99s\tremaining: 2.66s\n",
      "428:\tlearn: 6.0315125\ttotal: 2s\tremaining: 2.65s\n",
      "429:\tlearn: 6.0256924\ttotal: 2s\tremaining: 2.65s\n",
      "430:\tlearn: 6.0179778\ttotal: 2s\tremaining: 2.65s\n",
      "431:\tlearn: 6.0127350\ttotal: 2.01s\tremaining: 2.64s\n",
      "432:\tlearn: 6.0092447\ttotal: 2.01s\tremaining: 2.64s\n",
      "433:\tlearn: 6.0087175\ttotal: 2.02s\tremaining: 2.63s\n",
      "434:\tlearn: 6.0015210\ttotal: 2.02s\tremaining: 2.63s\n",
      "435:\tlearn: 5.9933404\ttotal: 2.03s\tremaining: 2.62s\n",
      "436:\tlearn: 5.9864599\ttotal: 2.03s\tremaining: 2.62s\n",
      "437:\tlearn: 5.9822039\ttotal: 2.04s\tremaining: 2.61s\n",
      "438:\tlearn: 5.9775581\ttotal: 2.04s\tremaining: 2.61s\n",
      "439:\tlearn: 5.9711660\ttotal: 2.04s\tremaining: 2.6s\n",
      "440:\tlearn: 5.9686592\ttotal: 2.05s\tremaining: 2.6s\n",
      "441:\tlearn: 5.9650257\ttotal: 2.05s\tremaining: 2.59s\n",
      "442:\tlearn: 5.9639149\ttotal: 2.06s\tremaining: 2.59s\n",
      "443:\tlearn: 5.9574915\ttotal: 2.06s\tremaining: 2.58s\n",
      "444:\tlearn: 5.9533159\ttotal: 2.07s\tremaining: 2.58s\n",
      "445:\tlearn: 5.9489483\ttotal: 2.07s\tremaining: 2.58s\n",
      "446:\tlearn: 5.9463241\ttotal: 2.08s\tremaining: 2.57s\n",
      "447:\tlearn: 5.9457086\ttotal: 2.08s\tremaining: 2.57s\n",
      "448:\tlearn: 5.9398010\ttotal: 2.09s\tremaining: 2.56s\n",
      "449:\tlearn: 5.9374145\ttotal: 2.09s\tremaining: 2.55s\n",
      "450:\tlearn: 5.9316958\ttotal: 2.09s\tremaining: 2.55s\n",
      "451:\tlearn: 5.9286355\ttotal: 2.1s\tremaining: 2.54s\n",
      "452:\tlearn: 5.9262152\ttotal: 2.1s\tremaining: 2.54s\n",
      "453:\tlearn: 5.9218890\ttotal: 2.1s\tremaining: 2.53s\n",
      "454:\tlearn: 5.9209771\ttotal: 2.11s\tremaining: 2.53s\n",
      "455:\tlearn: 5.9156943\ttotal: 2.12s\tremaining: 2.52s\n",
      "456:\tlearn: 5.9120933\ttotal: 2.12s\tremaining: 2.52s\n",
      "457:\tlearn: 5.9108269\ttotal: 2.12s\tremaining: 2.51s\n",
      "458:\tlearn: 5.9089274\ttotal: 2.13s\tremaining: 2.5s\n",
      "459:\tlearn: 5.9065757\ttotal: 2.13s\tremaining: 2.5s\n",
      "460:\tlearn: 5.9024438\ttotal: 2.13s\tremaining: 2.49s\n",
      "461:\tlearn: 5.9017732\ttotal: 2.13s\tremaining: 2.49s\n",
      "462:\tlearn: 5.8973561\ttotal: 2.14s\tremaining: 2.48s\n",
      "463:\tlearn: 5.8952069\ttotal: 2.14s\tremaining: 2.47s\n",
      "464:\tlearn: 5.8877694\ttotal: 2.14s\tremaining: 2.47s\n",
      "465:\tlearn: 5.8842321\ttotal: 2.15s\tremaining: 2.46s\n",
      "466:\tlearn: 5.8827794\ttotal: 2.15s\tremaining: 2.46s\n",
      "467:\tlearn: 5.8785282\ttotal: 2.16s\tremaining: 2.45s\n",
      "468:\tlearn: 5.8731405\ttotal: 2.16s\tremaining: 2.45s\n",
      "469:\tlearn: 5.8682129\ttotal: 2.17s\tremaining: 2.45s\n",
      "470:\tlearn: 5.8658261\ttotal: 2.17s\tremaining: 2.44s\n",
      "471:\tlearn: 5.8624874\ttotal: 2.18s\tremaining: 2.44s\n",
      "472:\tlearn: 5.8581567\ttotal: 2.18s\tremaining: 2.43s\n",
      "473:\tlearn: 5.8537564\ttotal: 2.19s\tremaining: 2.43s\n",
      "474:\tlearn: 5.8495123\ttotal: 2.19s\tremaining: 2.43s\n",
      "475:\tlearn: 5.8459239\ttotal: 2.2s\tremaining: 2.42s\n",
      "476:\tlearn: 5.8436870\ttotal: 2.21s\tremaining: 2.42s\n",
      "477:\tlearn: 5.8406739\ttotal: 2.21s\tremaining: 2.41s\n",
      "478:\tlearn: 5.8398227\ttotal: 2.21s\tremaining: 2.41s\n",
      "479:\tlearn: 5.8387175\ttotal: 2.22s\tremaining: 2.4s\n",
      "480:\tlearn: 5.8360749\ttotal: 2.23s\tremaining: 2.4s\n",
      "481:\tlearn: 5.8340711\ttotal: 2.23s\tremaining: 2.4s\n",
      "482:\tlearn: 5.8333567\ttotal: 2.23s\tremaining: 2.39s\n",
      "483:\tlearn: 5.8327347\ttotal: 2.24s\tremaining: 2.39s\n",
      "484:\tlearn: 5.8310017\ttotal: 2.25s\tremaining: 2.38s\n",
      "485:\tlearn: 5.8297986\ttotal: 2.25s\tremaining: 2.38s\n",
      "486:\tlearn: 5.8246130\ttotal: 2.25s\tremaining: 2.37s\n",
      "487:\tlearn: 5.8226548\ttotal: 2.26s\tremaining: 2.37s\n",
      "488:\tlearn: 5.8222123\ttotal: 2.26s\tremaining: 2.37s\n",
      "489:\tlearn: 5.8169495\ttotal: 2.27s\tremaining: 2.36s\n",
      "490:\tlearn: 5.8129912\ttotal: 2.27s\tremaining: 2.36s\n",
      "491:\tlearn: 5.8101243\ttotal: 2.28s\tremaining: 2.35s\n",
      "492:\tlearn: 5.8043783\ttotal: 2.28s\tremaining: 2.35s\n",
      "493:\tlearn: 5.7989028\ttotal: 2.29s\tremaining: 2.34s\n",
      "494:\tlearn: 5.7958408\ttotal: 2.29s\tremaining: 2.34s\n",
      "495:\tlearn: 5.7915343\ttotal: 2.3s\tremaining: 2.33s\n",
      "496:\tlearn: 5.7907344\ttotal: 2.3s\tremaining: 2.33s\n",
      "497:\tlearn: 5.7857502\ttotal: 2.31s\tremaining: 2.33s\n",
      "498:\tlearn: 5.7831728\ttotal: 2.31s\tremaining: 2.32s\n",
      "499:\tlearn: 5.7806306\ttotal: 2.32s\tremaining: 2.32s\n",
      "500:\tlearn: 5.7761945\ttotal: 2.32s\tremaining: 2.31s\n",
      "501:\tlearn: 5.7696206\ttotal: 2.33s\tremaining: 2.31s\n",
      "502:\tlearn: 5.7673696\ttotal: 2.33s\tremaining: 2.3s\n",
      "503:\tlearn: 5.7633556\ttotal: 2.34s\tremaining: 2.3s\n",
      "504:\tlearn: 5.7614443\ttotal: 2.34s\tremaining: 2.29s\n",
      "505:\tlearn: 5.7558277\ttotal: 2.35s\tremaining: 2.29s\n",
      "506:\tlearn: 5.7529171\ttotal: 2.35s\tremaining: 2.28s\n",
      "507:\tlearn: 5.7522124\ttotal: 2.35s\tremaining: 2.28s\n",
      "508:\tlearn: 5.7492420\ttotal: 2.36s\tremaining: 2.27s\n",
      "509:\tlearn: 5.7478688\ttotal: 2.36s\tremaining: 2.27s\n",
      "510:\tlearn: 5.7467960\ttotal: 2.37s\tremaining: 2.27s\n",
      "511:\tlearn: 5.7442525\ttotal: 2.37s\tremaining: 2.26s\n",
      "512:\tlearn: 5.7401150\ttotal: 2.38s\tremaining: 2.26s\n",
      "513:\tlearn: 5.7388665\ttotal: 2.38s\tremaining: 2.25s\n",
      "514:\tlearn: 5.7321007\ttotal: 2.38s\tremaining: 2.25s\n",
      "515:\tlearn: 5.7301384\ttotal: 2.39s\tremaining: 2.24s\n",
      "516:\tlearn: 5.7294000\ttotal: 2.39s\tremaining: 2.24s\n",
      "517:\tlearn: 5.7266196\ttotal: 2.4s\tremaining: 2.23s\n",
      "518:\tlearn: 5.7224244\ttotal: 2.4s\tremaining: 2.23s\n",
      "519:\tlearn: 5.7169355\ttotal: 2.41s\tremaining: 2.22s\n",
      "520:\tlearn: 5.7141155\ttotal: 2.41s\tremaining: 2.22s\n",
      "521:\tlearn: 5.7111826\ttotal: 2.42s\tremaining: 2.21s\n",
      "522:\tlearn: 5.7080456\ttotal: 2.42s\tremaining: 2.21s\n",
      "523:\tlearn: 5.7046806\ttotal: 2.43s\tremaining: 2.2s\n",
      "524:\tlearn: 5.7000145\ttotal: 2.43s\tremaining: 2.2s\n",
      "525:\tlearn: 5.6940326\ttotal: 2.44s\tremaining: 2.19s\n",
      "526:\tlearn: 5.6878816\ttotal: 2.44s\tremaining: 2.19s\n",
      "527:\tlearn: 5.6804988\ttotal: 2.45s\tremaining: 2.19s\n",
      "528:\tlearn: 5.6748088\ttotal: 2.45s\tremaining: 2.18s\n",
      "529:\tlearn: 5.6707486\ttotal: 2.46s\tremaining: 2.18s\n",
      "530:\tlearn: 5.6676416\ttotal: 2.46s\tremaining: 2.17s\n",
      "531:\tlearn: 5.6635133\ttotal: 2.47s\tremaining: 2.17s\n",
      "532:\tlearn: 5.6594666\ttotal: 2.47s\tremaining: 2.17s\n",
      "533:\tlearn: 5.6556636\ttotal: 2.48s\tremaining: 2.16s\n",
      "534:\tlearn: 5.6536668\ttotal: 2.48s\tremaining: 2.16s\n",
      "535:\tlearn: 5.6522065\ttotal: 2.49s\tremaining: 2.15s\n",
      "536:\tlearn: 5.6517163\ttotal: 2.49s\tremaining: 2.15s\n",
      "537:\tlearn: 5.6457366\ttotal: 2.5s\tremaining: 2.15s\n",
      "538:\tlearn: 5.6423452\ttotal: 2.5s\tremaining: 2.14s\n",
      "539:\tlearn: 5.6388808\ttotal: 2.51s\tremaining: 2.14s\n",
      "540:\tlearn: 5.6354675\ttotal: 2.52s\tremaining: 2.13s\n",
      "541:\tlearn: 5.6321814\ttotal: 2.52s\tremaining: 2.13s\n",
      "542:\tlearn: 5.6283003\ttotal: 2.53s\tremaining: 2.13s\n",
      "543:\tlearn: 5.6225110\ttotal: 2.53s\tremaining: 2.12s\n",
      "544:\tlearn: 5.6187737\ttotal: 2.54s\tremaining: 2.12s\n",
      "545:\tlearn: 5.6154723\ttotal: 2.54s\tremaining: 2.11s\n",
      "546:\tlearn: 5.6115979\ttotal: 2.55s\tremaining: 2.11s\n",
      "547:\tlearn: 5.6041942\ttotal: 2.55s\tremaining: 2.1s\n",
      "548:\tlearn: 5.6026285\ttotal: 2.56s\tremaining: 2.1s\n",
      "549:\tlearn: 5.5951849\ttotal: 2.56s\tremaining: 2.1s\n",
      "550:\tlearn: 5.5904492\ttotal: 2.57s\tremaining: 2.09s\n",
      "551:\tlearn: 5.5900438\ttotal: 2.57s\tremaining: 2.09s\n",
      "552:\tlearn: 5.5841870\ttotal: 2.58s\tremaining: 2.08s\n",
      "553:\tlearn: 5.5826416\ttotal: 2.58s\tremaining: 2.08s\n",
      "554:\tlearn: 5.5784169\ttotal: 2.59s\tremaining: 2.08s\n",
      "555:\tlearn: 5.5766767\ttotal: 2.59s\tremaining: 2.07s\n",
      "556:\tlearn: 5.5746186\ttotal: 2.6s\tremaining: 2.06s\n",
      "557:\tlearn: 5.5715129\ttotal: 2.6s\tremaining: 2.06s\n",
      "558:\tlearn: 5.5708586\ttotal: 2.61s\tremaining: 2.06s\n",
      "559:\tlearn: 5.5664722\ttotal: 2.61s\tremaining: 2.05s\n",
      "560:\tlearn: 5.5626693\ttotal: 2.62s\tremaining: 2.05s\n",
      "561:\tlearn: 5.5620172\ttotal: 2.62s\tremaining: 2.04s\n",
      "562:\tlearn: 5.5577018\ttotal: 2.63s\tremaining: 2.04s\n",
      "563:\tlearn: 5.5571019\ttotal: 2.63s\tremaining: 2.03s\n",
      "564:\tlearn: 5.5529414\ttotal: 2.63s\tremaining: 2.03s\n",
      "565:\tlearn: 5.5523660\ttotal: 2.64s\tremaining: 2.02s\n",
      "566:\tlearn: 5.5452522\ttotal: 2.65s\tremaining: 2.02s\n",
      "567:\tlearn: 5.5425739\ttotal: 2.65s\tremaining: 2.02s\n",
      "568:\tlearn: 5.5403236\ttotal: 2.65s\tremaining: 2.01s\n",
      "569:\tlearn: 5.5381508\ttotal: 2.66s\tremaining: 2.01s\n",
      "570:\tlearn: 5.5349494\ttotal: 2.67s\tremaining: 2s\n",
      "571:\tlearn: 5.5316493\ttotal: 2.67s\tremaining: 2s\n",
      "572:\tlearn: 5.5228946\ttotal: 2.67s\tremaining: 1.99s\n",
      "573:\tlearn: 5.5189268\ttotal: 2.68s\tremaining: 1.99s\n",
      "574:\tlearn: 5.5141606\ttotal: 2.68s\tremaining: 1.98s\n",
      "575:\tlearn: 5.5117165\ttotal: 2.69s\tremaining: 1.98s\n",
      "576:\tlearn: 5.5112428\ttotal: 2.69s\tremaining: 1.98s\n",
      "577:\tlearn: 5.5083197\ttotal: 2.7s\tremaining: 1.97s\n",
      "578:\tlearn: 5.5060161\ttotal: 2.7s\tremaining: 1.97s\n",
      "579:\tlearn: 5.5050949\ttotal: 2.71s\tremaining: 1.96s\n",
      "580:\tlearn: 5.5040585\ttotal: 2.72s\tremaining: 1.96s\n",
      "581:\tlearn: 5.5027709\ttotal: 2.72s\tremaining: 1.96s\n",
      "582:\tlearn: 5.4992407\ttotal: 2.73s\tremaining: 1.95s\n",
      "583:\tlearn: 5.4961535\ttotal: 2.73s\tremaining: 1.95s\n",
      "584:\tlearn: 5.4946995\ttotal: 2.74s\tremaining: 1.94s\n",
      "585:\tlearn: 5.4896344\ttotal: 2.74s\tremaining: 1.94s\n",
      "586:\tlearn: 5.4892606\ttotal: 2.75s\tremaining: 1.93s\n",
      "587:\tlearn: 5.4854397\ttotal: 2.75s\tremaining: 1.93s\n",
      "588:\tlearn: 5.4818968\ttotal: 2.76s\tremaining: 1.92s\n",
      "589:\tlearn: 5.4781948\ttotal: 2.76s\tremaining: 1.92s\n",
      "590:\tlearn: 5.4701475\ttotal: 2.77s\tremaining: 1.91s\n",
      "591:\tlearn: 5.4677710\ttotal: 2.77s\tremaining: 1.91s\n",
      "592:\tlearn: 5.4672770\ttotal: 2.77s\tremaining: 1.91s\n",
      "593:\tlearn: 5.4634401\ttotal: 2.78s\tremaining: 1.9s\n",
      "594:\tlearn: 5.4563551\ttotal: 2.79s\tremaining: 1.9s\n",
      "595:\tlearn: 5.4515123\ttotal: 2.79s\tremaining: 1.89s\n",
      "596:\tlearn: 5.4459301\ttotal: 2.79s\tremaining: 1.89s\n",
      "597:\tlearn: 5.4412411\ttotal: 2.8s\tremaining: 1.88s\n",
      "598:\tlearn: 5.4343396\ttotal: 2.81s\tremaining: 1.88s\n",
      "599:\tlearn: 5.4336789\ttotal: 2.81s\tremaining: 1.87s\n",
      "600:\tlearn: 5.4330763\ttotal: 2.82s\tremaining: 1.87s\n",
      "601:\tlearn: 5.4299163\ttotal: 2.82s\tremaining: 1.86s\n",
      "602:\tlearn: 5.4237901\ttotal: 2.83s\tremaining: 1.86s\n",
      "603:\tlearn: 5.4197483\ttotal: 2.83s\tremaining: 1.86s\n",
      "604:\tlearn: 5.4145122\ttotal: 2.84s\tremaining: 1.85s\n",
      "605:\tlearn: 5.4102658\ttotal: 2.84s\tremaining: 1.85s\n",
      "606:\tlearn: 5.4089921\ttotal: 2.85s\tremaining: 1.84s\n",
      "607:\tlearn: 5.4061433\ttotal: 2.85s\tremaining: 1.84s\n",
      "608:\tlearn: 5.4006401\ttotal: 2.86s\tremaining: 1.83s\n",
      "609:\tlearn: 5.3983389\ttotal: 2.86s\tremaining: 1.83s\n",
      "610:\tlearn: 5.3953066\ttotal: 2.87s\tremaining: 1.82s\n",
      "611:\tlearn: 5.3907096\ttotal: 2.87s\tremaining: 1.82s\n",
      "612:\tlearn: 5.3852765\ttotal: 2.88s\tremaining: 1.82s\n",
      "613:\tlearn: 5.3830894\ttotal: 2.88s\tremaining: 1.81s\n",
      "614:\tlearn: 5.3811186\ttotal: 2.89s\tremaining: 1.81s\n",
      "615:\tlearn: 5.3766371\ttotal: 2.89s\tremaining: 1.8s\n",
      "616:\tlearn: 5.3739043\ttotal: 2.9s\tremaining: 1.8s\n",
      "617:\tlearn: 5.3710994\ttotal: 2.9s\tremaining: 1.79s\n",
      "618:\tlearn: 5.3687453\ttotal: 2.91s\tremaining: 1.79s\n",
      "619:\tlearn: 5.3654431\ttotal: 2.92s\tremaining: 1.79s\n",
      "620:\tlearn: 5.3618573\ttotal: 2.92s\tremaining: 1.78s\n",
      "621:\tlearn: 5.3580368\ttotal: 2.92s\tremaining: 1.78s\n",
      "622:\tlearn: 5.3553440\ttotal: 2.93s\tremaining: 1.77s\n",
      "623:\tlearn: 5.3540966\ttotal: 2.94s\tremaining: 1.77s\n",
      "624:\tlearn: 5.3511305\ttotal: 2.94s\tremaining: 1.76s\n",
      "625:\tlearn: 5.3502621\ttotal: 2.95s\tremaining: 1.76s\n",
      "626:\tlearn: 5.3501132\ttotal: 2.95s\tremaining: 1.76s\n",
      "627:\tlearn: 5.3451031\ttotal: 2.96s\tremaining: 1.75s\n",
      "628:\tlearn: 5.3447350\ttotal: 2.96s\tremaining: 1.75s\n",
      "629:\tlearn: 5.3436918\ttotal: 2.97s\tremaining: 1.74s\n",
      "630:\tlearn: 5.3387291\ttotal: 2.97s\tremaining: 1.74s\n",
      "631:\tlearn: 5.3366443\ttotal: 2.98s\tremaining: 1.73s\n",
      "632:\tlearn: 5.3314894\ttotal: 2.98s\tremaining: 1.73s\n",
      "633:\tlearn: 5.3310449\ttotal: 2.99s\tremaining: 1.73s\n",
      "634:\tlearn: 5.3253322\ttotal: 2.99s\tremaining: 1.72s\n",
      "635:\tlearn: 5.3215978\ttotal: 3s\tremaining: 1.72s\n",
      "636:\tlearn: 5.3167245\ttotal: 3s\tremaining: 1.71s\n",
      "637:\tlearn: 5.3131658\ttotal: 3.01s\tremaining: 1.71s\n",
      "638:\tlearn: 5.3110053\ttotal: 3.01s\tremaining: 1.7s\n",
      "639:\tlearn: 5.3065479\ttotal: 3.02s\tremaining: 1.7s\n",
      "640:\tlearn: 5.3063130\ttotal: 3.02s\tremaining: 1.69s\n",
      "641:\tlearn: 5.3046970\ttotal: 3.03s\tremaining: 1.69s\n",
      "642:\tlearn: 5.3020342\ttotal: 3.04s\tremaining: 1.69s\n",
      "643:\tlearn: 5.2969728\ttotal: 3.04s\tremaining: 1.68s\n",
      "644:\tlearn: 5.2925624\ttotal: 3.05s\tremaining: 1.68s\n",
      "645:\tlearn: 5.2914210\ttotal: 3.05s\tremaining: 1.67s\n",
      "646:\tlearn: 5.2847414\ttotal: 3.06s\tremaining: 1.67s\n",
      "647:\tlearn: 5.2842778\ttotal: 3.06s\tremaining: 1.66s\n",
      "648:\tlearn: 5.2769392\ttotal: 3.06s\tremaining: 1.66s\n",
      "649:\tlearn: 5.2729392\ttotal: 3.07s\tremaining: 1.65s\n",
      "650:\tlearn: 5.2687894\ttotal: 3.08s\tremaining: 1.65s\n",
      "651:\tlearn: 5.2669946\ttotal: 3.08s\tremaining: 1.64s\n",
      "652:\tlearn: 5.2634656\ttotal: 3.09s\tremaining: 1.64s\n",
      "653:\tlearn: 5.2589747\ttotal: 3.09s\tremaining: 1.64s\n",
      "654:\tlearn: 5.2550729\ttotal: 3.1s\tremaining: 1.63s\n",
      "655:\tlearn: 5.2532442\ttotal: 3.1s\tremaining: 1.63s\n",
      "656:\tlearn: 5.2475952\ttotal: 3.11s\tremaining: 1.62s\n",
      "657:\tlearn: 5.2459257\ttotal: 3.11s\tremaining: 1.62s\n",
      "658:\tlearn: 5.2403159\ttotal: 3.12s\tremaining: 1.61s\n",
      "659:\tlearn: 5.2401207\ttotal: 3.12s\tremaining: 1.61s\n",
      "660:\tlearn: 5.2380337\ttotal: 3.13s\tremaining: 1.6s\n",
      "661:\tlearn: 5.2352247\ttotal: 3.13s\tremaining: 1.6s\n",
      "662:\tlearn: 5.2306666\ttotal: 3.14s\tremaining: 1.59s\n",
      "663:\tlearn: 5.2281965\ttotal: 3.14s\tremaining: 1.59s\n",
      "664:\tlearn: 5.2256369\ttotal: 3.15s\tremaining: 1.58s\n",
      "665:\tlearn: 5.2237379\ttotal: 3.15s\tremaining: 1.58s\n",
      "666:\tlearn: 5.2184193\ttotal: 3.16s\tremaining: 1.58s\n",
      "667:\tlearn: 5.2150472\ttotal: 3.16s\tremaining: 1.57s\n",
      "668:\tlearn: 5.2138386\ttotal: 3.17s\tremaining: 1.57s\n",
      "669:\tlearn: 5.2118788\ttotal: 3.17s\tremaining: 1.56s\n",
      "670:\tlearn: 5.2090273\ttotal: 3.18s\tremaining: 1.56s\n",
      "671:\tlearn: 5.2013177\ttotal: 3.18s\tremaining: 1.55s\n",
      "672:\tlearn: 5.1989242\ttotal: 3.19s\tremaining: 1.55s\n",
      "673:\tlearn: 5.1962299\ttotal: 3.19s\tremaining: 1.54s\n",
      "674:\tlearn: 5.1903994\ttotal: 3.2s\tremaining: 1.54s\n",
      "675:\tlearn: 5.1854347\ttotal: 3.2s\tremaining: 1.53s\n",
      "676:\tlearn: 5.1823741\ttotal: 3.21s\tremaining: 1.53s\n",
      "677:\tlearn: 5.1770646\ttotal: 3.21s\tremaining: 1.53s\n",
      "678:\tlearn: 5.1726892\ttotal: 3.22s\tremaining: 1.52s\n",
      "679:\tlearn: 5.1697468\ttotal: 3.22s\tremaining: 1.52s\n",
      "680:\tlearn: 5.1685547\ttotal: 3.23s\tremaining: 1.51s\n",
      "681:\tlearn: 5.1682607\ttotal: 3.23s\tremaining: 1.51s\n",
      "682:\tlearn: 5.1659312\ttotal: 3.24s\tremaining: 1.5s\n",
      "683:\tlearn: 5.1627160\ttotal: 3.24s\tremaining: 1.5s\n",
      "684:\tlearn: 5.1590139\ttotal: 3.25s\tremaining: 1.49s\n",
      "685:\tlearn: 5.1543846\ttotal: 3.25s\tremaining: 1.49s\n",
      "686:\tlearn: 5.1532830\ttotal: 3.26s\tremaining: 1.49s\n",
      "687:\tlearn: 5.1527113\ttotal: 3.27s\tremaining: 1.48s\n",
      "688:\tlearn: 5.1501747\ttotal: 3.27s\tremaining: 1.48s\n",
      "689:\tlearn: 5.1493495\ttotal: 3.28s\tremaining: 1.47s\n",
      "690:\tlearn: 5.1474841\ttotal: 3.28s\tremaining: 1.47s\n",
      "691:\tlearn: 5.1472646\ttotal: 3.29s\tremaining: 1.46s\n",
      "692:\tlearn: 5.1427874\ttotal: 3.29s\tremaining: 1.46s\n",
      "693:\tlearn: 5.1397831\ttotal: 3.3s\tremaining: 1.45s\n",
      "694:\tlearn: 5.1387511\ttotal: 3.3s\tremaining: 1.45s\n",
      "695:\tlearn: 5.1345740\ttotal: 3.31s\tremaining: 1.44s\n",
      "696:\tlearn: 5.1312799\ttotal: 3.31s\tremaining: 1.44s\n",
      "697:\tlearn: 5.1299675\ttotal: 3.32s\tremaining: 1.44s\n",
      "698:\tlearn: 5.1259621\ttotal: 3.32s\tremaining: 1.43s\n",
      "699:\tlearn: 5.1217663\ttotal: 3.32s\tremaining: 1.42s\n",
      "700:\tlearn: 5.1179772\ttotal: 3.33s\tremaining: 1.42s\n",
      "701:\tlearn: 5.1145934\ttotal: 3.33s\tremaining: 1.41s\n",
      "702:\tlearn: 5.1127961\ttotal: 3.34s\tremaining: 1.41s\n",
      "703:\tlearn: 5.1110328\ttotal: 3.34s\tremaining: 1.4s\n",
      "704:\tlearn: 5.1063875\ttotal: 3.35s\tremaining: 1.4s\n",
      "705:\tlearn: 5.1061189\ttotal: 3.35s\tremaining: 1.39s\n",
      "706:\tlearn: 5.1059003\ttotal: 3.35s\tremaining: 1.39s\n",
      "707:\tlearn: 5.1018333\ttotal: 3.36s\tremaining: 1.38s\n",
      "708:\tlearn: 5.0976976\ttotal: 3.36s\tremaining: 1.38s\n",
      "709:\tlearn: 5.0965914\ttotal: 3.36s\tremaining: 1.37s\n",
      "710:\tlearn: 5.0917982\ttotal: 3.37s\tremaining: 1.37s\n",
      "711:\tlearn: 5.0915109\ttotal: 3.37s\tremaining: 1.36s\n",
      "712:\tlearn: 5.0868501\ttotal: 3.37s\tremaining: 1.36s\n",
      "713:\tlearn: 5.0818456\ttotal: 3.38s\tremaining: 1.35s\n",
      "714:\tlearn: 5.0815747\ttotal: 3.38s\tremaining: 1.35s\n",
      "715:\tlearn: 5.0755571\ttotal: 3.38s\tremaining: 1.34s\n",
      "716:\tlearn: 5.0726479\ttotal: 3.38s\tremaining: 1.34s\n",
      "717:\tlearn: 5.0705717\ttotal: 3.39s\tremaining: 1.33s\n",
      "718:\tlearn: 5.0696912\ttotal: 3.39s\tremaining: 1.33s\n",
      "719:\tlearn: 5.0674787\ttotal: 3.4s\tremaining: 1.32s\n",
      "720:\tlearn: 5.0655597\ttotal: 3.4s\tremaining: 1.32s\n",
      "721:\tlearn: 5.0642372\ttotal: 3.41s\tremaining: 1.31s\n",
      "722:\tlearn: 5.0595204\ttotal: 3.41s\tremaining: 1.31s\n",
      "723:\tlearn: 5.0584644\ttotal: 3.42s\tremaining: 1.3s\n",
      "724:\tlearn: 5.0579317\ttotal: 3.42s\tremaining: 1.3s\n",
      "725:\tlearn: 5.0552298\ttotal: 3.43s\tremaining: 1.29s\n",
      "726:\tlearn: 5.0540642\ttotal: 3.43s\tremaining: 1.29s\n",
      "727:\tlearn: 5.0518828\ttotal: 3.44s\tremaining: 1.28s\n",
      "728:\tlearn: 5.0466987\ttotal: 3.44s\tremaining: 1.28s\n",
      "729:\tlearn: 5.0450943\ttotal: 3.44s\tremaining: 1.27s\n",
      "730:\tlearn: 5.0436266\ttotal: 3.45s\tremaining: 1.27s\n",
      "731:\tlearn: 5.0396659\ttotal: 3.46s\tremaining: 1.26s\n",
      "732:\tlearn: 5.0343366\ttotal: 3.46s\tremaining: 1.26s\n",
      "733:\tlearn: 5.0339603\ttotal: 3.46s\tremaining: 1.25s\n",
      "734:\tlearn: 5.0312058\ttotal: 3.47s\tremaining: 1.25s\n",
      "735:\tlearn: 5.0255989\ttotal: 3.47s\tremaining: 1.25s\n",
      "736:\tlearn: 5.0221736\ttotal: 3.48s\tremaining: 1.24s\n",
      "737:\tlearn: 5.0220132\ttotal: 3.48s\tremaining: 1.24s\n",
      "738:\tlearn: 5.0169733\ttotal: 3.48s\tremaining: 1.23s\n",
      "739:\tlearn: 5.0105173\ttotal: 3.49s\tremaining: 1.23s\n",
      "740:\tlearn: 5.0050116\ttotal: 3.49s\tremaining: 1.22s\n",
      "741:\tlearn: 4.9989899\ttotal: 3.49s\tremaining: 1.21s\n",
      "742:\tlearn: 4.9949668\ttotal: 3.5s\tremaining: 1.21s\n",
      "743:\tlearn: 4.9916881\ttotal: 3.5s\tremaining: 1.2s\n",
      "744:\tlearn: 4.9889257\ttotal: 3.5s\tremaining: 1.2s\n",
      "745:\tlearn: 4.9834459\ttotal: 3.51s\tremaining: 1.19s\n",
      "746:\tlearn: 4.9783839\ttotal: 3.51s\tremaining: 1.19s\n",
      "747:\tlearn: 4.9717327\ttotal: 3.52s\tremaining: 1.19s\n",
      "748:\tlearn: 4.9682254\ttotal: 3.52s\tremaining: 1.18s\n",
      "749:\tlearn: 4.9658652\ttotal: 3.53s\tremaining: 1.18s\n",
      "750:\tlearn: 4.9590453\ttotal: 3.53s\tremaining: 1.17s\n",
      "751:\tlearn: 4.9545842\ttotal: 3.54s\tremaining: 1.17s\n",
      "752:\tlearn: 4.9504960\ttotal: 3.54s\tremaining: 1.16s\n",
      "753:\tlearn: 4.9482139\ttotal: 3.54s\tremaining: 1.16s\n",
      "754:\tlearn: 4.9422407\ttotal: 3.55s\tremaining: 1.15s\n",
      "755:\tlearn: 4.9382941\ttotal: 3.56s\tremaining: 1.15s\n",
      "756:\tlearn: 4.9332152\ttotal: 3.56s\tremaining: 1.14s\n",
      "757:\tlearn: 4.9320189\ttotal: 3.56s\tremaining: 1.14s\n",
      "758:\tlearn: 4.9301347\ttotal: 3.56s\tremaining: 1.13s\n",
      "759:\tlearn: 4.9240164\ttotal: 3.57s\tremaining: 1.13s\n",
      "760:\tlearn: 4.9221606\ttotal: 3.57s\tremaining: 1.12s\n",
      "761:\tlearn: 4.9189294\ttotal: 3.57s\tremaining: 1.12s\n",
      "762:\tlearn: 4.9187950\ttotal: 3.58s\tremaining: 1.11s\n",
      "763:\tlearn: 4.9168913\ttotal: 3.58s\tremaining: 1.11s\n",
      "764:\tlearn: 4.9100321\ttotal: 3.58s\tremaining: 1.1s\n",
      "765:\tlearn: 4.9058273\ttotal: 3.59s\tremaining: 1.1s\n",
      "766:\tlearn: 4.9019088\ttotal: 3.59s\tremaining: 1.09s\n",
      "767:\tlearn: 4.8971909\ttotal: 3.6s\tremaining: 1.09s\n",
      "768:\tlearn: 4.8931270\ttotal: 3.6s\tremaining: 1.08s\n",
      "769:\tlearn: 4.8911422\ttotal: 3.61s\tremaining: 1.08s\n",
      "770:\tlearn: 4.8892178\ttotal: 3.61s\tremaining: 1.07s\n",
      "771:\tlearn: 4.8858635\ttotal: 3.62s\tremaining: 1.07s\n",
      "772:\tlearn: 4.8850809\ttotal: 3.62s\tremaining: 1.06s\n",
      "773:\tlearn: 4.8843520\ttotal: 3.63s\tremaining: 1.06s\n",
      "774:\tlearn: 4.8835859\ttotal: 3.63s\tremaining: 1.05s\n",
      "775:\tlearn: 4.8793227\ttotal: 3.64s\tremaining: 1.05s\n",
      "776:\tlearn: 4.8774183\ttotal: 3.64s\tremaining: 1.04s\n",
      "777:\tlearn: 4.8732632\ttotal: 3.65s\tremaining: 1.04s\n",
      "778:\tlearn: 4.8722173\ttotal: 3.65s\tremaining: 1.03s\n",
      "779:\tlearn: 4.8698696\ttotal: 3.66s\tremaining: 1.03s\n",
      "780:\tlearn: 4.8684045\ttotal: 3.66s\tremaining: 1.03s\n",
      "781:\tlearn: 4.8644802\ttotal: 3.67s\tremaining: 1.02s\n",
      "782:\tlearn: 4.8624791\ttotal: 3.67s\tremaining: 1.02s\n",
      "783:\tlearn: 4.8610708\ttotal: 3.68s\tremaining: 1.01s\n",
      "784:\tlearn: 4.8589605\ttotal: 3.68s\tremaining: 1.01s\n",
      "785:\tlearn: 4.8550009\ttotal: 3.69s\tremaining: 1s\n",
      "786:\tlearn: 4.8496202\ttotal: 3.69s\tremaining: 1000ms\n",
      "787:\tlearn: 4.8489017\ttotal: 3.7s\tremaining: 996ms\n",
      "788:\tlearn: 4.8466140\ttotal: 3.71s\tremaining: 991ms\n",
      "789:\tlearn: 4.8463201\ttotal: 3.71s\tremaining: 986ms\n",
      "790:\tlearn: 4.8452816\ttotal: 3.71s\tremaining: 981ms\n",
      "791:\tlearn: 4.8415404\ttotal: 3.72s\tremaining: 976ms\n",
      "792:\tlearn: 4.8401142\ttotal: 3.72s\tremaining: 971ms\n",
      "793:\tlearn: 4.8388777\ttotal: 3.73s\tremaining: 967ms\n",
      "794:\tlearn: 4.8344181\ttotal: 3.73s\tremaining: 962ms\n",
      "795:\tlearn: 4.8303668\ttotal: 3.73s\tremaining: 957ms\n",
      "796:\tlearn: 4.8238875\ttotal: 3.74s\tremaining: 953ms\n",
      "797:\tlearn: 4.8229810\ttotal: 3.74s\tremaining: 948ms\n",
      "798:\tlearn: 4.8193627\ttotal: 3.75s\tremaining: 943ms\n",
      "799:\tlearn: 4.8172749\ttotal: 3.75s\tremaining: 938ms\n",
      "800:\tlearn: 4.8168934\ttotal: 3.76s\tremaining: 933ms\n",
      "801:\tlearn: 4.8134657\ttotal: 3.76s\tremaining: 929ms\n",
      "802:\tlearn: 4.8094089\ttotal: 3.77s\tremaining: 924ms\n",
      "803:\tlearn: 4.8060237\ttotal: 3.77s\tremaining: 920ms\n",
      "804:\tlearn: 4.8015877\ttotal: 3.78s\tremaining: 915ms\n",
      "805:\tlearn: 4.8009207\ttotal: 3.78s\tremaining: 910ms\n",
      "806:\tlearn: 4.7980599\ttotal: 3.79s\tremaining: 905ms\n",
      "807:\tlearn: 4.7945232\ttotal: 3.79s\tremaining: 901ms\n",
      "808:\tlearn: 4.7936676\ttotal: 3.79s\tremaining: 896ms\n",
      "809:\tlearn: 4.7900886\ttotal: 3.8s\tremaining: 891ms\n",
      "810:\tlearn: 4.7865752\ttotal: 3.8s\tremaining: 887ms\n",
      "811:\tlearn: 4.7864622\ttotal: 3.81s\tremaining: 882ms\n",
      "812:\tlearn: 4.7831843\ttotal: 3.81s\tremaining: 877ms\n",
      "813:\tlearn: 4.7808095\ttotal: 3.82s\tremaining: 873ms\n",
      "814:\tlearn: 4.7768491\ttotal: 3.82s\tremaining: 868ms\n",
      "815:\tlearn: 4.7767246\ttotal: 3.83s\tremaining: 863ms\n",
      "816:\tlearn: 4.7713984\ttotal: 3.83s\tremaining: 858ms\n",
      "817:\tlearn: 4.7662883\ttotal: 3.84s\tremaining: 854ms\n",
      "818:\tlearn: 4.7644344\ttotal: 3.84s\tremaining: 849ms\n",
      "819:\tlearn: 4.7636589\ttotal: 3.85s\tremaining: 844ms\n",
      "820:\tlearn: 4.7593472\ttotal: 3.85s\tremaining: 840ms\n",
      "821:\tlearn: 4.7581259\ttotal: 3.86s\tremaining: 835ms\n",
      "822:\tlearn: 4.7564749\ttotal: 3.86s\tremaining: 830ms\n",
      "823:\tlearn: 4.7541199\ttotal: 3.87s\tremaining: 826ms\n",
      "824:\tlearn: 4.7504170\ttotal: 3.87s\tremaining: 821ms\n",
      "825:\tlearn: 4.7497599\ttotal: 3.87s\tremaining: 816ms\n",
      "826:\tlearn: 4.7485037\ttotal: 3.88s\tremaining: 811ms\n",
      "827:\tlearn: 4.7462222\ttotal: 3.88s\tremaining: 807ms\n",
      "828:\tlearn: 4.7436615\ttotal: 3.89s\tremaining: 803ms\n",
      "829:\tlearn: 4.7421009\ttotal: 3.89s\tremaining: 798ms\n",
      "830:\tlearn: 4.7384348\ttotal: 3.9s\tremaining: 793ms\n",
      "831:\tlearn: 4.7350623\ttotal: 3.9s\tremaining: 788ms\n",
      "832:\tlearn: 4.7310385\ttotal: 3.91s\tremaining: 784ms\n",
      "833:\tlearn: 4.7270045\ttotal: 3.91s\tremaining: 779ms\n",
      "834:\tlearn: 4.7256718\ttotal: 3.92s\tremaining: 774ms\n",
      "835:\tlearn: 4.7237294\ttotal: 3.92s\tremaining: 770ms\n",
      "836:\tlearn: 4.7180312\ttotal: 3.93s\tremaining: 765ms\n",
      "837:\tlearn: 4.7134886\ttotal: 3.93s\tremaining: 761ms\n",
      "838:\tlearn: 4.7133214\ttotal: 3.94s\tremaining: 756ms\n",
      "839:\tlearn: 4.7096035\ttotal: 3.94s\tremaining: 751ms\n",
      "840:\tlearn: 4.7089591\ttotal: 3.95s\tremaining: 747ms\n",
      "841:\tlearn: 4.7082672\ttotal: 3.96s\tremaining: 743ms\n",
      "842:\tlearn: 4.7032922\ttotal: 3.96s\tremaining: 738ms\n",
      "843:\tlearn: 4.7004258\ttotal: 3.97s\tremaining: 733ms\n",
      "844:\tlearn: 4.6974453\ttotal: 3.97s\tremaining: 728ms\n",
      "845:\tlearn: 4.6973235\ttotal: 3.98s\tremaining: 724ms\n",
      "846:\tlearn: 4.6953716\ttotal: 3.98s\tremaining: 719ms\n",
      "847:\tlearn: 4.6946739\ttotal: 3.98s\tremaining: 714ms\n",
      "848:\tlearn: 4.6906773\ttotal: 3.99s\tremaining: 710ms\n",
      "849:\tlearn: 4.6905317\ttotal: 3.99s\tremaining: 705ms\n",
      "850:\tlearn: 4.6898231\ttotal: 4s\tremaining: 700ms\n",
      "851:\tlearn: 4.6867825\ttotal: 4s\tremaining: 696ms\n",
      "852:\tlearn: 4.6832192\ttotal: 4.01s\tremaining: 691ms\n",
      "853:\tlearn: 4.6789722\ttotal: 4.01s\tremaining: 686ms\n",
      "854:\tlearn: 4.6785099\ttotal: 4.02s\tremaining: 681ms\n",
      "855:\tlearn: 4.6741051\ttotal: 4.02s\tremaining: 677ms\n",
      "856:\tlearn: 4.6731628\ttotal: 4.03s\tremaining: 672ms\n",
      "857:\tlearn: 4.6695714\ttotal: 4.03s\tremaining: 667ms\n",
      "858:\tlearn: 4.6692843\ttotal: 4.04s\tremaining: 663ms\n",
      "859:\tlearn: 4.6674919\ttotal: 4.04s\tremaining: 658ms\n",
      "860:\tlearn: 4.6634943\ttotal: 4.05s\tremaining: 654ms\n",
      "861:\tlearn: 4.6618175\ttotal: 4.05s\tremaining: 649ms\n",
      "862:\tlearn: 4.6607717\ttotal: 4.06s\tremaining: 644ms\n",
      "863:\tlearn: 4.6601102\ttotal: 4.06s\tremaining: 640ms\n",
      "864:\tlearn: 4.6533779\ttotal: 4.07s\tremaining: 635ms\n",
      "865:\tlearn: 4.6497844\ttotal: 4.07s\tremaining: 630ms\n",
      "866:\tlearn: 4.6464466\ttotal: 4.08s\tremaining: 626ms\n",
      "867:\tlearn: 4.6418210\ttotal: 4.08s\tremaining: 621ms\n",
      "868:\tlearn: 4.6416805\ttotal: 4.09s\tremaining: 616ms\n",
      "869:\tlearn: 4.6387258\ttotal: 4.09s\tremaining: 612ms\n",
      "870:\tlearn: 4.6376935\ttotal: 4.1s\tremaining: 607ms\n",
      "871:\tlearn: 4.6371042\ttotal: 4.1s\tremaining: 602ms\n",
      "872:\tlearn: 4.6350968\ttotal: 4.11s\tremaining: 597ms\n",
      "873:\tlearn: 4.6314718\ttotal: 4.11s\tremaining: 593ms\n",
      "874:\tlearn: 4.6307385\ttotal: 4.12s\tremaining: 588ms\n",
      "875:\tlearn: 4.6284077\ttotal: 4.12s\tremaining: 583ms\n",
      "876:\tlearn: 4.6230551\ttotal: 4.13s\tremaining: 579ms\n",
      "877:\tlearn: 4.6196744\ttotal: 4.13s\tremaining: 574ms\n",
      "878:\tlearn: 4.6172783\ttotal: 4.13s\tremaining: 569ms\n",
      "879:\tlearn: 4.6157045\ttotal: 4.14s\tremaining: 564ms\n",
      "880:\tlearn: 4.6155236\ttotal: 4.14s\tremaining: 560ms\n",
      "881:\tlearn: 4.6097755\ttotal: 4.15s\tremaining: 555ms\n",
      "882:\tlearn: 4.6073872\ttotal: 4.15s\tremaining: 550ms\n",
      "883:\tlearn: 4.6021993\ttotal: 4.16s\tremaining: 546ms\n",
      "884:\tlearn: 4.5989044\ttotal: 4.16s\tremaining: 541ms\n",
      "885:\tlearn: 4.5944072\ttotal: 4.17s\tremaining: 536ms\n",
      "886:\tlearn: 4.5937767\ttotal: 4.17s\tremaining: 531ms\n",
      "887:\tlearn: 4.5898367\ttotal: 4.18s\tremaining: 527ms\n",
      "888:\tlearn: 4.5859172\ttotal: 4.18s\tremaining: 522ms\n",
      "889:\tlearn: 4.5825634\ttotal: 4.18s\tremaining: 517ms\n",
      "890:\tlearn: 4.5811886\ttotal: 4.19s\tremaining: 513ms\n",
      "891:\tlearn: 4.5780736\ttotal: 4.2s\tremaining: 508ms\n",
      "892:\tlearn: 4.5744168\ttotal: 4.2s\tremaining: 503ms\n",
      "893:\tlearn: 4.5721802\ttotal: 4.21s\tremaining: 499ms\n",
      "894:\tlearn: 4.5706468\ttotal: 4.21s\tremaining: 494ms\n",
      "895:\tlearn: 4.5675329\ttotal: 4.22s\tremaining: 489ms\n",
      "896:\tlearn: 4.5652200\ttotal: 4.22s\tremaining: 485ms\n",
      "897:\tlearn: 4.5589682\ttotal: 4.23s\tremaining: 480ms\n",
      "898:\tlearn: 4.5556180\ttotal: 4.23s\tremaining: 475ms\n",
      "899:\tlearn: 4.5555196\ttotal: 4.24s\tremaining: 471ms\n",
      "900:\tlearn: 4.5516636\ttotal: 4.24s\tremaining: 466ms\n",
      "901:\tlearn: 4.5496189\ttotal: 4.25s\tremaining: 461ms\n",
      "902:\tlearn: 4.5479981\ttotal: 4.25s\tremaining: 457ms\n",
      "903:\tlearn: 4.5470509\ttotal: 4.25s\tremaining: 452ms\n",
      "904:\tlearn: 4.5465601\ttotal: 4.26s\tremaining: 447ms\n",
      "905:\tlearn: 4.5422156\ttotal: 4.26s\tremaining: 442ms\n",
      "906:\tlearn: 4.5416220\ttotal: 4.27s\tremaining: 438ms\n",
      "907:\tlearn: 4.5404016\ttotal: 4.27s\tremaining: 433ms\n",
      "908:\tlearn: 4.5397702\ttotal: 4.28s\tremaining: 428ms\n",
      "909:\tlearn: 4.5345868\ttotal: 4.28s\tremaining: 424ms\n",
      "910:\tlearn: 4.5325204\ttotal: 4.29s\tremaining: 419ms\n",
      "911:\tlearn: 4.5297016\ttotal: 4.29s\tremaining: 414ms\n",
      "912:\tlearn: 4.5222678\ttotal: 4.3s\tremaining: 410ms\n",
      "913:\tlearn: 4.5216039\ttotal: 4.3s\tremaining: 405ms\n",
      "914:\tlearn: 4.5190128\ttotal: 4.31s\tremaining: 401ms\n",
      "915:\tlearn: 4.5179428\ttotal: 4.32s\tremaining: 396ms\n",
      "916:\tlearn: 4.5155400\ttotal: 4.32s\tremaining: 391ms\n",
      "917:\tlearn: 4.5138521\ttotal: 4.33s\tremaining: 387ms\n",
      "918:\tlearn: 4.5121898\ttotal: 4.33s\tremaining: 382ms\n",
      "919:\tlearn: 4.5104074\ttotal: 4.34s\tremaining: 377ms\n",
      "920:\tlearn: 4.5081456\ttotal: 4.34s\tremaining: 373ms\n",
      "921:\tlearn: 4.5066547\ttotal: 4.35s\tremaining: 368ms\n",
      "922:\tlearn: 4.5038636\ttotal: 4.35s\tremaining: 363ms\n",
      "923:\tlearn: 4.4989204\ttotal: 4.36s\tremaining: 358ms\n",
      "924:\tlearn: 4.4929427\ttotal: 4.36s\tremaining: 354ms\n",
      "925:\tlearn: 4.4898886\ttotal: 4.37s\tremaining: 349ms\n",
      "926:\tlearn: 4.4866762\ttotal: 4.37s\tremaining: 344ms\n",
      "927:\tlearn: 4.4863433\ttotal: 4.38s\tremaining: 340ms\n",
      "928:\tlearn: 4.4860977\ttotal: 4.38s\tremaining: 335ms\n",
      "929:\tlearn: 4.4858923\ttotal: 4.39s\tremaining: 330ms\n",
      "930:\tlearn: 4.4825248\ttotal: 4.39s\tremaining: 326ms\n",
      "931:\tlearn: 4.4789658\ttotal: 4.4s\tremaining: 321ms\n",
      "932:\tlearn: 4.4781770\ttotal: 4.4s\tremaining: 316ms\n",
      "933:\tlearn: 4.4731314\ttotal: 4.41s\tremaining: 312ms\n",
      "934:\tlearn: 4.4718634\ttotal: 4.41s\tremaining: 307ms\n",
      "935:\tlearn: 4.4692395\ttotal: 4.42s\tremaining: 302ms\n",
      "936:\tlearn: 4.4684954\ttotal: 4.42s\tremaining: 297ms\n",
      "937:\tlearn: 4.4654106\ttotal: 4.43s\tremaining: 293ms\n",
      "938:\tlearn: 4.4606958\ttotal: 4.43s\tremaining: 288ms\n",
      "939:\tlearn: 4.4566437\ttotal: 4.44s\tremaining: 283ms\n",
      "940:\tlearn: 4.4552795\ttotal: 4.44s\tremaining: 278ms\n",
      "941:\tlearn: 4.4510768\ttotal: 4.45s\tremaining: 274ms\n",
      "942:\tlearn: 4.4468571\ttotal: 4.45s\tremaining: 269ms\n",
      "943:\tlearn: 4.4455524\ttotal: 4.46s\tremaining: 264ms\n",
      "944:\tlearn: 4.4421298\ttotal: 4.46s\tremaining: 260ms\n",
      "945:\tlearn: 4.4394628\ttotal: 4.46s\tremaining: 255ms\n",
      "946:\tlearn: 4.4360542\ttotal: 4.47s\tremaining: 250ms\n",
      "947:\tlearn: 4.4335149\ttotal: 4.47s\tremaining: 245ms\n",
      "948:\tlearn: 4.4298280\ttotal: 4.48s\tremaining: 241ms\n",
      "949:\tlearn: 4.4266946\ttotal: 4.48s\tremaining: 236ms\n",
      "950:\tlearn: 4.4232599\ttotal: 4.49s\tremaining: 231ms\n",
      "951:\tlearn: 4.4215746\ttotal: 4.49s\tremaining: 227ms\n",
      "952:\tlearn: 4.4209921\ttotal: 4.5s\tremaining: 222ms\n",
      "953:\tlearn: 4.4193657\ttotal: 4.5s\tremaining: 217ms\n",
      "954:\tlearn: 4.4164688\ttotal: 4.51s\tremaining: 213ms\n",
      "955:\tlearn: 4.4152142\ttotal: 4.51s\tremaining: 208ms\n",
      "956:\tlearn: 4.4146385\ttotal: 4.52s\tremaining: 203ms\n",
      "957:\tlearn: 4.4115258\ttotal: 4.53s\tremaining: 198ms\n",
      "958:\tlearn: 4.4105979\ttotal: 4.53s\tremaining: 194ms\n",
      "959:\tlearn: 4.4082052\ttotal: 4.54s\tremaining: 189ms\n",
      "960:\tlearn: 4.4071892\ttotal: 4.54s\tremaining: 184ms\n",
      "961:\tlearn: 4.4034596\ttotal: 4.55s\tremaining: 180ms\n",
      "962:\tlearn: 4.4019268\ttotal: 4.56s\tremaining: 175ms\n",
      "963:\tlearn: 4.3983799\ttotal: 4.56s\tremaining: 170ms\n",
      "964:\tlearn: 4.3960602\ttotal: 4.57s\tremaining: 166ms\n",
      "965:\tlearn: 4.3945038\ttotal: 4.57s\tremaining: 161ms\n",
      "966:\tlearn: 4.3940352\ttotal: 4.58s\tremaining: 156ms\n",
      "967:\tlearn: 4.3912624\ttotal: 4.58s\tremaining: 152ms\n",
      "968:\tlearn: 4.3892827\ttotal: 4.59s\tremaining: 147ms\n",
      "969:\tlearn: 4.3858971\ttotal: 4.59s\tremaining: 142ms\n",
      "970:\tlearn: 4.3843135\ttotal: 4.6s\tremaining: 137ms\n",
      "971:\tlearn: 4.3840783\ttotal: 4.61s\tremaining: 133ms\n",
      "972:\tlearn: 4.3807752\ttotal: 4.61s\tremaining: 128ms\n",
      "973:\tlearn: 4.3762137\ttotal: 4.62s\tremaining: 123ms\n",
      "974:\tlearn: 4.3749333\ttotal: 4.62s\tremaining: 119ms\n",
      "975:\tlearn: 4.3718529\ttotal: 4.63s\tremaining: 114ms\n",
      "976:\tlearn: 4.3679540\ttotal: 4.63s\tremaining: 109ms\n",
      "977:\tlearn: 4.3649327\ttotal: 4.64s\tremaining: 104ms\n",
      "978:\tlearn: 4.3616288\ttotal: 4.64s\tremaining: 99.6ms\n",
      "979:\tlearn: 4.3588971\ttotal: 4.64s\tremaining: 94.8ms\n",
      "980:\tlearn: 4.3566587\ttotal: 4.65s\tremaining: 90.1ms\n",
      "981:\tlearn: 4.3530888\ttotal: 4.66s\tremaining: 85.3ms\n",
      "982:\tlearn: 4.3492640\ttotal: 4.66s\tremaining: 80.6ms\n",
      "983:\tlearn: 4.3473578\ttotal: 4.67s\tremaining: 75.9ms\n",
      "984:\tlearn: 4.3440934\ttotal: 4.67s\tremaining: 71.1ms\n",
      "985:\tlearn: 4.3402462\ttotal: 4.67s\tremaining: 66.4ms\n",
      "986:\tlearn: 4.3390705\ttotal: 4.68s\tremaining: 61.6ms\n",
      "987:\tlearn: 4.3373573\ttotal: 4.68s\tremaining: 56.9ms\n",
      "988:\tlearn: 4.3342707\ttotal: 4.69s\tremaining: 52.2ms\n",
      "989:\tlearn: 4.3337468\ttotal: 4.7s\tremaining: 47.4ms\n",
      "990:\tlearn: 4.3308736\ttotal: 4.7s\tremaining: 42.7ms\n",
      "991:\tlearn: 4.3278946\ttotal: 4.7s\tremaining: 37.9ms\n",
      "992:\tlearn: 4.3235412\ttotal: 4.71s\tremaining: 33.2ms\n",
      "993:\tlearn: 4.3192700\ttotal: 4.71s\tremaining: 28.5ms\n",
      "994:\tlearn: 4.3171083\ttotal: 4.72s\tremaining: 23.7ms\n",
      "995:\tlearn: 4.3158253\ttotal: 4.72s\tremaining: 19ms\n",
      "996:\tlearn: 4.3136350\ttotal: 4.73s\tremaining: 14.2ms\n",
      "997:\tlearn: 4.3130933\ttotal: 4.74s\tremaining: 9.49ms\n",
      "998:\tlearn: 4.3120645\ttotal: 4.74s\tremaining: 4.75ms\n",
      "999:\tlearn: 4.3115394\ttotal: 4.75s\tremaining: 0us\n"
     ]
    },
    {
     "data": {
      "image/png": "[encoded data removed]",
      "text/plain": [
       "<Figure size 720x504 with 1 Axes>"
      ]
     },
     "metadata": {
      "needs_background": "light"
     },
     "output_type": "display_data"
    }
   ],
   "source": [
    "feature_names = features_train.columns \n",
    "model = CatBoostRegressor()\n",
    "model.fit(features_train, target_train)\n",
    "pred = model.predict(features_test)\n",
    "importances = model.feature_importances_\n",
    "model_importances = pd.Series(importances, index=feature_names)\n",
    "\n",
    "std = np.std([model.feature_importances_], axis=0)\n",
    "\n",
    "fig, ax = plt.subplots(figsize=(10,7))\n",
    "model_importances.plot.bar(yerr=std, ax=ax)\n",
    "ax.set_title(\"Feature importances\")\n",
    "ax.set_ylabel(\"Mean decrease in impurity\")\n",
    "fig.tight_layout()"
   ]
  },
  {
   "cell_type": "markdown",
   "id": "65b4ede9",
   "metadata": {},
   "source": [
    "Из полученного графика видно, что на финальную температуру в большей степени влияют:\n",
    "\n",
    "Начальная температура\n",
    "\n",
    "wire_1\n",
    "wire_2\n",
    "bulk_15\n",
    "bulk_14\n",
    "bulk_12\n",
    "gas_1"
   ]
  },
  {
   "cell_type": "markdown",
   "id": "3f4420c2",
   "metadata": {},
   "source": [
    "# Вывод"
   ]
  },
  {
   "cell_type": "markdown",
   "id": "48e5ac1f",
   "metadata": {},
   "source": [
    "Для предсказаний выбрала модели:\n",
    "LinearRegression\n",
    "RandomForestRegressor\n",
    "LGBMRegressor\n",
    "CatBoostRegressor\n",
    "с масштабированием и кросс-валидацией.\n",
    "\n",
    "Наилучший результат MAE дала CatBoostRegressor модель, которая на обучающей выборке  дала MAE = 6.63, на тестовой выборке дала MAE = 6.39. При этом на целевой признак более всего влияют признаки начальная тепература wire_1, gas_1, bulk_15, wire_2, bulk_12\n",
    "\n",
    "Проверку на вменяемость модель прошла.\n",
    "\n",
    "\n",
    "Таким образом, для предсказания температуры сплава (а следовательно, потерь электроэнергии) подойдет CatBoostRegressor, которая ошибается на 6.63 градуса"
   ]
  },
  {
   "cell_type": "markdown",
   "id": "eb6aad6f",
   "metadata": {},
   "source": [
    "# Отчет"
   ]
  },
  {
   "cell_type": "markdown",
   "id": "ba1839d1",
   "metadata": {},
   "source": [
    "# 1. Выполнение плана"
   ]
  },
  {
   "cell_type": "markdown",
   "id": "3f286614",
   "metadata": {},
   "source": [
    "В ходе выполнения проекта были выолнены все ранее запланированные пункты первоначального плана. Не была использована валидационная выборка, т.к. использовали кросс-валидацию."
   ]
  },
  {
   "cell_type": "markdown",
   "id": "0dbc40bf",
   "metadata": {},
   "source": [
    "# 2. Трудности "
   ]
  },
  {
   "cell_type": "markdown",
   "id": "6ec4f683",
   "metadata": {},
   "source": [
    "1. Специфика техпроцесса. При вебинре с тимлидом закрыылись многие вопросы.\n",
    "2. Пропуски в замерах температуры и выбросы, т.к. это основной показатель пришлось удалять строки с отсутсвием данных."
   ]
  },
  {
   "cell_type": "markdown",
   "id": "c9383ec6",
   "metadata": {},
   "source": [
    "# 3. Ключевые шаги в решении задачи"
   ]
  },
  {
   "cell_type": "markdown",
   "id": "91dc726d",
   "metadata": {},
   "source": [
    "Ключевыми шагами в решении задачи стали блоки:\n",
    "\n",
    "1. Анализ данных \n",
    "2. Очистка и заполнение данных, что обеспечило более качественный анализ и лучшую работу моделей.\n",
    "3. Обучение моделей.\n",
    "4. Выбор лучшей по показателю MAE. \n",
    "5. Для поиска наилучшего показателя MAE были обучены 4 модели.\n",
    "6. Протестирована модель с наименьшей MAE"
   ]
  },
  {
   "cell_type": "markdown",
   "id": "70ab3e6e",
   "metadata": {},
   "source": [
    "# 4. Признаки для обучения модели и  предобработка  признаков"
   ]
  },
  {
   "cell_type": "markdown",
   "id": "67ad6c18",
   "metadata": {},
   "source": [
    "1. Разбили на обучающую и тестовую 75/25\n",
    "2. Целевым признаком выбрана вторая(конечная) температура \n",
    "3. Удалили строки с пропуском конечной температуры\n",
    "4. Удалили выбросы начальной температуры"
   ]
  },
  {
   "cell_type": "markdown",
   "id": "339e9bd1",
   "metadata": {},
   "source": [
    "# 5. Итоговая модель"
   ]
  },
  {
   "cell_type": "markdown",
   "id": "b6c224e7",
   "metadata": {},
   "source": [
    "Итоговой моделью была выбрана  CatBoostRegressor - модель с наименьшей MAE среди обученных. MAE  CatBoostRegressor = 6.63, это означает, что модель ошибается на 6.63 градуса при прогнозировании.\n",
    "\n",
    "Модель имеет следующие гиперпараметры:{'depth': 5, 'iterations': 40, 'learning_rate': 0.1778279410038923}\n",
    "\n",
    "При этом легирующие добавки wire_1, wire_2, bulk_15, bulk_12 как минимум, не снижают температуру, то есть при подаче этих легирующих материалов температура не падает, следовательно, не требуется дополнительная энергия на нагрев. А при подаче wire_2 характерно остывание. Таким образом, при планировании варок необходимо учитывать эти моменты"
   ]
  },
  {
   "cell_type": "markdown",
   "id": "4fd2330e",
   "metadata": {},
   "source": [
    "# Вопросы"
   ]
  },
  {
   "cell_type": "markdown",
   "id": "81c7821c",
   "metadata": {},
   "source": [
    "1. Выбираем ли мы сами модели?\n",
    "2. Будут ли еще какие - либо вхоящие данные по тех. процессу?"
   ]
  }
 ],
 "metadata": {
  "ExecuteTimeLog": [
   {
    "duration": 118,
    "start_time": "2023-08-15T10:00:55.664Z"
   },
   {
    "duration": 126,
    "start_time": "2023-08-15T10:36:11.040Z"
   },
   {
    "duration": 47,
    "start_time": "2023-08-15T20:51:01.447Z"
   },
   {
    "duration": 1495,
    "start_time": "2023-08-15T20:51:07.576Z"
   },
   {
    "duration": 96,
    "start_time": "2023-08-15T20:51:12.210Z"
   },
   {
    "duration": 3,
    "start_time": "2023-08-15T20:51:19.962Z"
   },
   {
    "duration": 90,
    "start_time": "2023-08-16T18:47:00.113Z"
   },
   {
    "duration": 9746,
    "start_time": "2023-08-20T20:11:32.008Z"
   },
   {
    "duration": 1590,
    "start_time": "2023-08-20T20:11:41.757Z"
   },
   {
    "duration": 186,
    "start_time": "2023-08-20T20:11:43.348Z"
   },
   {
    "duration": 13,
    "start_time": "2023-08-20T20:11:43.537Z"
   },
   {
    "duration": 17,
    "start_time": "2023-08-20T20:11:43.551Z"
   },
   {
    "duration": 23,
    "start_time": "2023-08-20T20:11:43.569Z"
   },
   {
    "duration": 20,
    "start_time": "2023-08-20T20:11:43.593Z"
   },
   {
    "duration": 6,
    "start_time": "2023-08-20T20:11:43.614Z"
   },
   {
    "duration": 585,
    "start_time": "2023-08-20T20:11:43.621Z"
   },
   {
    "duration": 360,
    "start_time": "2023-08-20T20:11:44.209Z"
   },
   {
    "duration": 574,
    "start_time": "2023-08-20T20:11:44.571Z"
   },
   {
    "duration": 5,
    "start_time": "2023-08-20T20:11:45.146Z"
   },
   {
    "duration": 482,
    "start_time": "2023-08-20T20:11:45.161Z"
   },
   {
    "duration": 5,
    "start_time": "2023-08-20T20:11:45.645Z"
   },
   {
    "duration": 76,
    "start_time": "2023-08-20T20:11:45.668Z"
   },
   {
    "duration": 20,
    "start_time": "2023-08-20T20:11:45.746Z"
   },
   {
    "duration": 24,
    "start_time": "2023-08-20T20:11:45.769Z"
   },
   {
    "duration": 6,
    "start_time": "2023-08-20T20:11:45.794Z"
   },
   {
    "duration": 346,
    "start_time": "2023-08-20T20:11:45.802Z"
   },
   {
    "duration": 232,
    "start_time": "2023-08-20T20:11:46.150Z"
   },
   {
    "duration": 15,
    "start_time": "2023-08-20T20:11:46.384Z"
   },
   {
    "duration": 12,
    "start_time": "2023-08-20T20:11:46.400Z"
   },
   {
    "duration": 32,
    "start_time": "2023-08-20T20:11:46.413Z"
   },
   {
    "duration": 25,
    "start_time": "2023-08-20T20:11:46.446Z"
   },
   {
    "duration": 13,
    "start_time": "2023-08-20T20:11:46.475Z"
   },
   {
    "duration": 127,
    "start_time": "2023-08-20T20:11:46.489Z"
   },
   {
    "duration": 7,
    "start_time": "2023-08-20T20:11:46.618Z"
   },
   {
    "duration": 25,
    "start_time": "2023-08-20T20:11:46.629Z"
   },
   {
    "duration": 34,
    "start_time": "2023-08-20T20:11:46.656Z"
   },
   {
    "duration": 272,
    "start_time": "2023-08-20T20:11:46.691Z"
   },
   {
    "duration": 89,
    "start_time": "2023-08-20T20:11:46.965Z"
   },
   {
    "duration": 29,
    "start_time": "2023-08-20T20:11:47.056Z"
   },
   {
    "duration": 12,
    "start_time": "2023-08-20T20:11:47.087Z"
   },
   {
    "duration": 11,
    "start_time": "2023-08-20T20:11:47.101Z"
   },
   {
    "duration": 23,
    "start_time": "2023-08-20T20:11:47.113Z"
   },
   {
    "duration": 18,
    "start_time": "2023-08-20T20:11:47.137Z"
   },
   {
    "duration": 481,
    "start_time": "2023-08-20T20:11:47.157Z"
   },
   {
    "duration": 102,
    "start_time": "2023-08-20T20:11:47.639Z"
   },
   {
    "duration": 12,
    "start_time": "2023-08-20T20:11:47.743Z"
   },
   {
    "duration": 20,
    "start_time": "2023-08-20T20:11:47.756Z"
   },
   {
    "duration": 7,
    "start_time": "2023-08-20T20:11:47.777Z"
   },
   {
    "duration": 348,
    "start_time": "2023-08-20T20:11:47.785Z"
   },
   {
    "duration": 10,
    "start_time": "2023-08-20T20:11:48.135Z"
   },
   {
    "duration": 91,
    "start_time": "2023-08-20T20:11:48.147Z"
   },
   {
    "duration": 10,
    "start_time": "2023-08-20T20:11:48.240Z"
   },
   {
    "duration": 20,
    "start_time": "2023-08-20T20:11:48.252Z"
   },
   {
    "duration": 24,
    "start_time": "2023-08-20T20:11:48.276Z"
   },
   {
    "duration": 6,
    "start_time": "2023-08-20T20:11:48.301Z"
   },
   {
    "duration": 9,
    "start_time": "2023-08-20T20:11:48.308Z"
   },
   {
    "duration": 14,
    "start_time": "2023-08-20T20:11:48.319Z"
   },
   {
    "duration": 10,
    "start_time": "2023-08-20T20:11:48.334Z"
   },
   {
    "duration": 17,
    "start_time": "2023-08-20T20:11:48.346Z"
   },
   {
    "duration": 31,
    "start_time": "2023-08-20T20:11:48.365Z"
   },
   {
    "duration": 1101,
    "start_time": "2023-08-20T20:11:48.398Z"
   },
   {
    "duration": 16,
    "start_time": "2023-08-20T20:11:49.501Z"
   },
   {
    "duration": 9,
    "start_time": "2023-08-20T20:11:49.518Z"
   },
   {
    "duration": 10,
    "start_time": "2023-08-20T20:11:49.528Z"
   },
   {
    "duration": 10,
    "start_time": "2023-08-20T20:11:49.559Z"
   },
   {
    "duration": 8,
    "start_time": "2023-08-20T20:11:49.571Z"
   },
   {
    "duration": 13,
    "start_time": "2023-08-20T20:11:49.580Z"
   },
   {
    "duration": 6,
    "start_time": "2023-08-20T20:11:49.594Z"
   },
   {
    "duration": 12,
    "start_time": "2023-08-20T20:11:49.602Z"
   },
   {
    "duration": 477,
    "start_time": "2023-08-20T20:11:49.616Z"
   },
   {
    "duration": 16,
    "start_time": "2023-08-20T20:11:50.097Z"
   },
   {
    "duration": 8,
    "start_time": "2023-08-20T20:11:50.114Z"
   },
   {
    "duration": 17,
    "start_time": "2023-08-20T20:11:50.124Z"
   },
   {
    "duration": 58,
    "start_time": "2023-08-20T20:11:50.143Z"
   },
   {
    "duration": 18,
    "start_time": "2023-08-20T20:11:50.203Z"
   },
   {
    "duration": 20,
    "start_time": "2023-08-20T20:11:50.223Z"
   },
   {
    "duration": 34,
    "start_time": "2023-08-20T20:11:50.245Z"
   },
   {
    "duration": 13,
    "start_time": "2023-08-20T20:11:50.281Z"
   },
   {
    "duration": 46,
    "start_time": "2023-08-20T20:11:50.296Z"
   },
   {
    "duration": 13,
    "start_time": "2023-08-20T20:11:50.344Z"
   },
   {
    "duration": 13,
    "start_time": "2023-08-20T20:11:50.358Z"
   },
   {
    "duration": 19,
    "start_time": "2023-08-20T20:11:50.380Z"
   },
   {
    "duration": 393,
    "start_time": "2023-08-20T20:11:50.400Z"
   },
   {
    "duration": 3231,
    "start_time": "2023-08-20T20:11:50.794Z"
   },
   {
    "duration": 14,
    "start_time": "2023-08-20T20:11:54.027Z"
   },
   {
    "duration": 2,
    "start_time": "2023-08-20T20:11:54.043Z"
   },
   {
    "duration": 22,
    "start_time": "2023-08-20T20:11:54.047Z"
   },
   {
    "duration": 21,
    "start_time": "2023-08-20T20:11:54.070Z"
   },
   {
    "duration": 7,
    "start_time": "2023-08-20T20:11:54.100Z"
   },
   {
    "duration": 43,
    "start_time": "2023-08-20T20:11:54.109Z"
   },
   {
    "duration": 13,
    "start_time": "2023-08-20T20:11:54.162Z"
   },
   {
    "duration": 8,
    "start_time": "2023-08-20T20:11:54.181Z"
   },
   {
    "duration": 19,
    "start_time": "2023-08-20T20:11:54.194Z"
   },
   {
    "duration": 902,
    "start_time": "2023-08-20T20:11:54.262Z"
   },
   {
    "duration": 104,
    "start_time": "2023-08-20T20:11:55.170Z"
   },
   {
    "duration": 21,
    "start_time": "2023-08-20T20:11:55.276Z"
   },
   {
    "duration": 1468,
    "start_time": "2023-08-20T20:11:55.373Z"
   },
   {
    "duration": 2911,
    "start_time": "2023-08-20T20:11:56.843Z"
   },
   {
    "duration": 55,
    "start_time": "2023-08-20T20:11:59.763Z"
   },
   {
    "duration": 167851,
    "start_time": "2023-08-20T20:11:59.820Z"
   },
   {
    "duration": 4833,
    "start_time": "2023-08-20T20:16:46.180Z"
   },
   {
    "duration": 1480,
    "start_time": "2023-08-20T20:16:51.016Z"
   },
   {
    "duration": 49,
    "start_time": "2023-08-20T20:16:52.501Z"
   },
   {
    "duration": 27,
    "start_time": "2023-08-20T20:16:52.552Z"
   },
   {
    "duration": 18,
    "start_time": "2023-08-20T20:16:52.582Z"
   },
   {
    "duration": 20,
    "start_time": "2023-08-20T20:16:52.602Z"
   },
   {
    "duration": 20,
    "start_time": "2023-08-20T20:16:52.624Z"
   },
   {
    "duration": 7,
    "start_time": "2023-08-20T20:16:52.646Z"
   },
   {
    "duration": 572,
    "start_time": "2023-08-20T20:16:52.655Z"
   },
   {
    "duration": 354,
    "start_time": "2023-08-20T20:16:53.230Z"
   },
   {
    "duration": 640,
    "start_time": "2023-08-20T20:16:53.586Z"
   },
   {
    "duration": 6,
    "start_time": "2023-08-20T20:16:54.229Z"
   },
   {
    "duration": 593,
    "start_time": "2023-08-20T20:16:54.237Z"
   },
   {
    "duration": 5,
    "start_time": "2023-08-20T20:16:54.833Z"
   },
   {
    "duration": 46,
    "start_time": "2023-08-20T20:16:54.840Z"
   },
   {
    "duration": 22,
    "start_time": "2023-08-20T20:16:54.887Z"
   },
   {
    "duration": 23,
    "start_time": "2023-08-20T20:16:54.910Z"
   },
   {
    "duration": 7,
    "start_time": "2023-08-20T20:16:54.935Z"
   },
   {
    "duration": 382,
    "start_time": "2023-08-20T20:16:54.944Z"
   },
   {
    "duration": 26,
    "start_time": "2023-08-20T20:16:55.328Z"
   },
   {
    "duration": 27,
    "start_time": "2023-08-20T20:16:55.356Z"
   },
   {
    "duration": 19,
    "start_time": "2023-08-20T20:16:55.384Z"
   },
   {
    "duration": 40,
    "start_time": "2023-08-20T20:16:55.404Z"
   },
   {
    "duration": 31,
    "start_time": "2023-08-20T20:16:55.446Z"
   },
   {
    "duration": 20,
    "start_time": "2023-08-20T20:16:55.482Z"
   },
   {
    "duration": 42,
    "start_time": "2023-08-20T20:16:55.504Z"
   },
   {
    "duration": 9,
    "start_time": "2023-08-20T20:16:55.548Z"
   },
   {
    "duration": 19,
    "start_time": "2023-08-20T20:16:55.564Z"
   },
   {
    "duration": 9,
    "start_time": "2023-08-20T20:16:55.587Z"
   },
   {
    "duration": 333,
    "start_time": "2023-08-20T20:16:55.600Z"
   },
   {
    "duration": 50,
    "start_time": "2023-08-20T20:16:55.935Z"
   },
   {
    "duration": 9,
    "start_time": "2023-08-20T20:16:55.988Z"
   },
   {
    "duration": 16,
    "start_time": "2023-08-20T20:16:55.999Z"
   },
   {
    "duration": 9,
    "start_time": "2023-08-20T20:16:56.018Z"
   },
   {
    "duration": 24,
    "start_time": "2023-08-20T20:16:56.032Z"
   },
   {
    "duration": 18,
    "start_time": "2023-08-20T20:16:56.071Z"
   },
   {
    "duration": 546,
    "start_time": "2023-08-20T20:16:56.095Z"
   },
   {
    "duration": 25,
    "start_time": "2023-08-20T20:16:56.643Z"
   },
   {
    "duration": 26,
    "start_time": "2023-08-20T20:16:56.670Z"
   },
   {
    "duration": 13,
    "start_time": "2023-08-20T20:16:56.703Z"
   },
   {
    "duration": 7,
    "start_time": "2023-08-20T20:16:56.722Z"
   },
   {
    "duration": 416,
    "start_time": "2023-08-20T20:16:56.731Z"
   },
   {
    "duration": 30,
    "start_time": "2023-08-20T20:16:57.150Z"
   },
   {
    "duration": 35,
    "start_time": "2023-08-20T20:16:57.186Z"
   },
   {
    "duration": 13,
    "start_time": "2023-08-20T20:16:57.223Z"
   },
   {
    "duration": 46,
    "start_time": "2023-08-20T20:16:57.237Z"
   },
   {
    "duration": 25,
    "start_time": "2023-08-20T20:16:57.295Z"
   },
   {
    "duration": 6,
    "start_time": "2023-08-20T20:16:57.322Z"
   },
   {
    "duration": 19,
    "start_time": "2023-08-20T20:16:57.330Z"
   },
   {
    "duration": 24,
    "start_time": "2023-08-20T20:16:57.351Z"
   },
   {
    "duration": 18,
    "start_time": "2023-08-20T20:16:57.377Z"
   },
   {
    "duration": 3,
    "start_time": "2023-08-20T20:16:57.400Z"
   },
   {
    "duration": 19,
    "start_time": "2023-08-20T20:16:57.405Z"
   },
   {
    "duration": 1364,
    "start_time": "2023-08-20T20:16:57.425Z"
   },
   {
    "duration": 18,
    "start_time": "2023-08-20T20:16:58.800Z"
   },
   {
    "duration": 12,
    "start_time": "2023-08-20T20:16:58.820Z"
   },
   {
    "duration": 20,
    "start_time": "2023-08-20T20:16:58.833Z"
   },
   {
    "duration": 26,
    "start_time": "2023-08-20T20:16:58.855Z"
   },
   {
    "duration": 37,
    "start_time": "2023-08-20T20:16:58.884Z"
   },
   {
    "duration": 7,
    "start_time": "2023-08-20T20:16:58.923Z"
   },
   {
    "duration": 11,
    "start_time": "2023-08-20T20:16:58.931Z"
   },
   {
    "duration": 47,
    "start_time": "2023-08-20T20:16:58.944Z"
   },
   {
    "duration": 536,
    "start_time": "2023-08-20T20:16:58.993Z"
   },
   {
    "duration": 14,
    "start_time": "2023-08-20T20:16:59.531Z"
   },
   {
    "duration": 21,
    "start_time": "2023-08-20T20:16:59.546Z"
   },
   {
    "duration": 19,
    "start_time": "2023-08-20T20:16:59.575Z"
   },
   {
    "duration": 39,
    "start_time": "2023-08-20T20:16:59.599Z"
   },
   {
    "duration": 21,
    "start_time": "2023-08-20T20:16:59.640Z"
   },
   {
    "duration": 14,
    "start_time": "2023-08-20T20:16:59.663Z"
   },
   {
    "duration": 7,
    "start_time": "2023-08-20T20:16:59.678Z"
   },
   {
    "duration": 10,
    "start_time": "2023-08-20T20:16:59.686Z"
   },
   {
    "duration": 69,
    "start_time": "2023-08-20T20:16:59.703Z"
   },
   {
    "duration": 18,
    "start_time": "2023-08-20T20:16:59.773Z"
   },
   {
    "duration": 19,
    "start_time": "2023-08-20T20:16:59.792Z"
   },
   {
    "duration": 28,
    "start_time": "2023-08-20T20:16:59.813Z"
   },
   {
    "duration": 425,
    "start_time": "2023-08-20T20:16:59.843Z"
   },
   {
    "duration": 3563,
    "start_time": "2023-08-20T20:17:00.270Z"
   },
   {
    "duration": 14,
    "start_time": "2023-08-20T20:17:03.835Z"
   },
   {
    "duration": 4,
    "start_time": "2023-08-20T20:17:03.850Z"
   },
   {
    "duration": 25,
    "start_time": "2023-08-20T20:17:03.856Z"
   },
   {
    "duration": 5,
    "start_time": "2023-08-20T20:17:03.883Z"
   },
   {
    "duration": 17,
    "start_time": "2023-08-20T20:17:03.890Z"
   },
   {
    "duration": 39,
    "start_time": "2023-08-20T20:17:03.910Z"
   },
   {
    "duration": 15,
    "start_time": "2023-08-20T20:17:03.951Z"
   },
   {
    "duration": 16,
    "start_time": "2023-08-20T20:17:03.968Z"
   },
   {
    "duration": 28,
    "start_time": "2023-08-20T20:17:03.986Z"
   },
   {
    "duration": 1283,
    "start_time": "2023-08-20T20:17:04.016Z"
   },
   {
    "duration": 58,
    "start_time": "2023-08-20T20:17:05.312Z"
   },
   {
    "duration": 137,
    "start_time": "2023-08-20T20:17:05.377Z"
   },
   {
    "duration": 1277,
    "start_time": "2023-08-20T20:17:05.517Z"
   },
   {
    "duration": 2891,
    "start_time": "2023-08-20T20:17:06.796Z"
   },
   {
    "duration": 59,
    "start_time": "2023-08-20T20:17:09.691Z"
   },
   {
    "duration": 266858,
    "start_time": "2023-08-20T20:17:09.753Z"
   },
   {
    "duration": 5290,
    "start_time": "2023-08-20T20:25:40.889Z"
   },
   {
    "duration": 1418,
    "start_time": "2023-08-20T20:25:46.185Z"
   },
   {
    "duration": 46,
    "start_time": "2023-08-20T20:25:47.604Z"
   },
   {
    "duration": 17,
    "start_time": "2023-08-20T20:25:47.652Z"
   },
   {
    "duration": 24,
    "start_time": "2023-08-20T20:25:47.671Z"
   },
   {
    "duration": 11,
    "start_time": "2023-08-20T20:25:47.697Z"
   },
   {
    "duration": 11,
    "start_time": "2023-08-20T20:25:47.709Z"
   },
   {
    "duration": 5,
    "start_time": "2023-08-20T20:25:47.721Z"
   },
   {
    "duration": 611,
    "start_time": "2023-08-20T20:25:47.728Z"
   },
   {
    "duration": 361,
    "start_time": "2023-08-20T20:25:48.342Z"
   },
   {
    "duration": 623,
    "start_time": "2023-08-20T20:25:48.705Z"
   },
   {
    "duration": 5,
    "start_time": "2023-08-20T20:25:49.330Z"
   },
   {
    "duration": 528,
    "start_time": "2023-08-20T20:25:49.336Z"
   },
   {
    "duration": 8,
    "start_time": "2023-08-20T20:25:49.865Z"
   },
   {
    "duration": 42,
    "start_time": "2023-08-20T20:25:49.874Z"
   },
   {
    "duration": 16,
    "start_time": "2023-08-20T20:25:49.918Z"
   },
   {
    "duration": 13,
    "start_time": "2023-08-20T20:25:49.936Z"
   },
   {
    "duration": 20,
    "start_time": "2023-08-20T20:25:49.951Z"
   },
   {
    "duration": 371,
    "start_time": "2023-08-20T20:25:49.973Z"
   },
   {
    "duration": 45,
    "start_time": "2023-08-20T20:25:50.345Z"
   },
   {
    "duration": 18,
    "start_time": "2023-08-20T20:25:50.393Z"
   },
   {
    "duration": 19,
    "start_time": "2023-08-20T20:25:50.413Z"
   },
   {
    "duration": 42,
    "start_time": "2023-08-20T20:25:50.434Z"
   },
   {
    "duration": 17,
    "start_time": "2023-08-20T20:25:50.478Z"
   },
   {
    "duration": 7,
    "start_time": "2023-08-20T20:25:50.500Z"
   },
   {
    "duration": 44,
    "start_time": "2023-08-20T20:25:50.508Z"
   },
   {
    "duration": 14,
    "start_time": "2023-08-20T20:25:50.554Z"
   },
   {
    "duration": 14,
    "start_time": "2023-08-20T20:25:50.574Z"
   },
   {
    "duration": 15,
    "start_time": "2023-08-20T20:25:50.591Z"
   },
   {
    "duration": 292,
    "start_time": "2023-08-20T20:25:50.607Z"
   },
   {
    "duration": 28,
    "start_time": "2023-08-20T20:25:50.901Z"
   },
   {
    "duration": 9,
    "start_time": "2023-08-20T20:25:50.930Z"
   },
   {
    "duration": 40,
    "start_time": "2023-08-20T20:25:50.940Z"
   },
   {
    "duration": 23,
    "start_time": "2023-08-20T20:25:50.982Z"
   },
   {
    "duration": 12,
    "start_time": "2023-08-20T20:25:51.006Z"
   },
   {
    "duration": 40,
    "start_time": "2023-08-20T20:25:51.019Z"
   },
   {
    "duration": 488,
    "start_time": "2023-08-20T20:25:51.061Z"
   },
   {
    "duration": 35,
    "start_time": "2023-08-20T20:25:51.551Z"
   },
   {
    "duration": 12,
    "start_time": "2023-08-20T20:25:51.593Z"
   },
   {
    "duration": 10,
    "start_time": "2023-08-20T20:25:51.607Z"
   },
   {
    "duration": 20,
    "start_time": "2023-08-20T20:25:51.618Z"
   },
   {
    "duration": 362,
    "start_time": "2023-08-20T20:25:51.640Z"
   },
   {
    "duration": 11,
    "start_time": "2023-08-20T20:25:52.003Z"
   },
   {
    "duration": 22,
    "start_time": "2023-08-20T20:25:52.015Z"
   },
   {
    "duration": 47,
    "start_time": "2023-08-20T20:25:52.039Z"
   },
   {
    "duration": 19,
    "start_time": "2023-08-20T20:25:52.092Z"
   },
   {
    "duration": 20,
    "start_time": "2023-08-20T20:25:52.113Z"
   },
   {
    "duration": 6,
    "start_time": "2023-08-20T20:25:52.135Z"
   },
   {
    "duration": 12,
    "start_time": "2023-08-20T20:25:52.143Z"
   },
   {
    "duration": 22,
    "start_time": "2023-08-20T20:25:52.157Z"
   },
   {
    "duration": 20,
    "start_time": "2023-08-20T20:25:52.182Z"
   },
   {
    "duration": 3,
    "start_time": "2023-08-20T20:25:52.204Z"
   },
   {
    "duration": 11,
    "start_time": "2023-08-20T20:25:52.209Z"
   },
   {
    "duration": 1312,
    "start_time": "2023-08-20T20:25:52.222Z"
   },
   {
    "duration": 15,
    "start_time": "2023-08-20T20:25:53.536Z"
   },
   {
    "duration": 27,
    "start_time": "2023-08-20T20:25:53.553Z"
   },
   {
    "duration": 17,
    "start_time": "2023-08-20T20:25:53.582Z"
   },
   {
    "duration": 6,
    "start_time": "2023-08-20T20:25:53.601Z"
   },
   {
    "duration": 14,
    "start_time": "2023-08-20T20:25:53.608Z"
   },
   {
    "duration": 7,
    "start_time": "2023-08-20T20:25:53.624Z"
   },
   {
    "duration": 3,
    "start_time": "2023-08-20T20:25:53.633Z"
   },
   {
    "duration": 45,
    "start_time": "2023-08-20T20:25:53.638Z"
   },
   {
    "duration": 546,
    "start_time": "2023-08-20T20:25:53.692Z"
   },
   {
    "duration": 26,
    "start_time": "2023-08-20T20:25:54.240Z"
   },
   {
    "duration": 9,
    "start_time": "2023-08-20T20:25:54.268Z"
   },
   {
    "duration": 20,
    "start_time": "2023-08-20T20:25:54.279Z"
   },
   {
    "duration": 20,
    "start_time": "2023-08-20T20:25:54.301Z"
   },
   {
    "duration": 14,
    "start_time": "2023-08-20T20:25:54.323Z"
   },
   {
    "duration": 44,
    "start_time": "2023-08-20T20:25:54.339Z"
   },
   {
    "duration": 3,
    "start_time": "2023-08-20T20:25:54.390Z"
   },
   {
    "duration": 17,
    "start_time": "2023-08-20T20:25:54.395Z"
   },
   {
    "duration": 55,
    "start_time": "2023-08-20T20:25:54.414Z"
   },
   {
    "duration": 15,
    "start_time": "2023-08-20T20:25:54.474Z"
   },
   {
    "duration": 8,
    "start_time": "2023-08-20T20:25:54.491Z"
   },
   {
    "duration": 19,
    "start_time": "2023-08-20T20:25:54.503Z"
   },
   {
    "duration": 410,
    "start_time": "2023-08-20T20:25:54.524Z"
   },
   {
    "duration": 3282,
    "start_time": "2023-08-20T20:25:54.935Z"
   },
   {
    "duration": 13,
    "start_time": "2023-08-20T20:25:58.218Z"
   },
   {
    "duration": 4,
    "start_time": "2023-08-20T20:25:58.233Z"
   },
   {
    "duration": 14,
    "start_time": "2023-08-20T20:25:58.239Z"
   },
   {
    "duration": 26,
    "start_time": "2023-08-20T20:25:58.254Z"
   },
   {
    "duration": 13,
    "start_time": "2023-08-20T20:25:58.289Z"
   },
   {
    "duration": 16,
    "start_time": "2023-08-20T20:25:58.304Z"
   },
   {
    "duration": 53,
    "start_time": "2023-08-20T20:25:58.321Z"
   },
   {
    "duration": 3,
    "start_time": "2023-08-20T20:25:58.376Z"
   },
   {
    "duration": 20,
    "start_time": "2023-08-20T20:25:58.381Z"
   },
   {
    "duration": 26,
    "start_time": "2023-08-20T20:25:58.403Z"
   },
   {
    "duration": 873,
    "start_time": "2023-08-20T20:25:58.431Z"
   },
   {
    "duration": 192,
    "start_time": "2023-08-20T20:25:59.308Z"
   },
   {
    "duration": 65,
    "start_time": "2023-08-20T20:25:59.503Z"
   },
   {
    "duration": 1182,
    "start_time": "2023-08-20T20:25:59.574Z"
   },
   {
    "duration": 2894,
    "start_time": "2023-08-20T20:26:00.759Z"
   },
   {
    "duration": 56,
    "start_time": "2023-08-20T20:26:03.654Z"
   },
   {
    "duration": 66582,
    "start_time": "2023-08-20T20:26:03.712Z"
   },
   {
    "duration": 374474,
    "start_time": "2023-08-20T20:27:10.296Z"
   },
   {
    "duration": 84,
    "start_time": "2023-08-20T20:33:24.777Z"
   },
   {
    "duration": 15,
    "start_time": "2023-08-20T20:33:24.864Z"
   },
   {
    "duration": 11,
    "start_time": "2023-08-20T20:33:24.880Z"
   },
   {
    "duration": 16,
    "start_time": "2023-08-20T20:33:24.896Z"
   },
   {
    "duration": 48,
    "start_time": "2023-08-20T20:33:24.914Z"
   },
   {
    "duration": 6,
    "start_time": "2023-08-20T20:33:24.964Z"
   },
   {
    "duration": 116840,
    "start_time": "2023-08-20T20:33:24.972Z"
   },
   {
    "duration": 4746,
    "start_time": "2023-08-20T20:48:22.802Z"
   },
   {
    "duration": 241,
    "start_time": "2023-08-20T20:48:58.591Z"
   },
   {
    "duration": 100978,
    "start_time": "2023-08-20T20:49:05.180Z"
   },
   {
    "duration": 18,
    "start_time": "2023-08-20T20:50:46.160Z"
   },
   {
    "duration": 97278,
    "start_time": "2023-08-20T20:51:39.337Z"
   },
   {
    "duration": 7,
    "start_time": "2023-08-20T20:53:16.617Z"
   },
   {
    "duration": 20,
    "start_time": "2023-08-20T20:53:16.625Z"
   },
   {
    "duration": 19,
    "start_time": "2023-08-20T20:54:34.640Z"
   },
   {
    "duration": 24,
    "start_time": "2023-08-20T20:55:56.990Z"
   },
   {
    "duration": 9,
    "start_time": "2023-08-20T20:56:58.156Z"
   },
   {
    "duration": 5,
    "start_time": "2023-08-20T20:56:59.139Z"
   },
   {
    "duration": 4993,
    "start_time": "2023-08-20T20:57:28.281Z"
   },
   {
    "duration": 4185,
    "start_time": "2023-08-21T18:06:17.006Z"
   },
   {
    "duration": 87,
    "start_time": "2023-08-21T18:06:22.346Z"
   },
   {
    "duration": 75,
    "start_time": "2023-08-21T18:06:22.566Z"
   },
   {
    "duration": 41,
    "start_time": "2023-08-21T18:06:22.847Z"
   },
   {
    "duration": 31,
    "start_time": "2023-08-21T18:06:23.102Z"
   },
   {
    "duration": 24,
    "start_time": "2023-08-21T18:06:23.322Z"
   },
   {
    "duration": 19,
    "start_time": "2023-08-21T18:06:23.518Z"
   },
   {
    "duration": 1255,
    "start_time": "2023-08-21T18:06:23.733Z"
   },
   {
    "duration": 1206,
    "start_time": "2023-08-21T18:06:24.991Z"
   },
   {
    "duration": 1040,
    "start_time": "2023-08-21T18:06:26.202Z"
   },
   {
    "duration": 6,
    "start_time": "2023-08-21T18:06:27.245Z"
   },
   {
    "duration": 1336,
    "start_time": "2023-08-21T18:06:27.289Z"
   },
   {
    "duration": 62,
    "start_time": "2023-08-21T18:06:28.631Z"
   },
   {
    "duration": 66,
    "start_time": "2023-08-21T18:06:28.700Z"
   },
   {
    "duration": 61,
    "start_time": "2023-08-21T18:06:28.769Z"
   },
   {
    "duration": 115,
    "start_time": "2023-08-21T18:06:28.838Z"
   },
   {
    "duration": 46,
    "start_time": "2023-08-21T18:06:28.955Z"
   },
   {
    "duration": 494,
    "start_time": "2023-08-21T18:06:29.003Z"
   },
   {
    "duration": 1060,
    "start_time": "2023-08-21T18:06:49.242Z"
   },
   {
    "duration": 30,
    "start_time": "2023-08-21T18:07:45.227Z"
   },
   {
    "duration": 76,
    "start_time": "2023-08-21T18:07:52.639Z"
   },
   {
    "duration": 45,
    "start_time": "2023-08-21T18:07:52.852Z"
   },
   {
    "duration": 29,
    "start_time": "2023-08-21T18:07:53.078Z"
   },
   {
    "duration": 105,
    "start_time": "2023-08-21T18:07:53.508Z"
   },
   {
    "duration": 45,
    "start_time": "2023-08-21T18:07:53.702Z"
   },
   {
    "duration": 23,
    "start_time": "2023-08-21T18:07:53.913Z"
   },
   {
    "duration": 100,
    "start_time": "2023-08-21T18:07:54.561Z"
   },
   {
    "duration": 33,
    "start_time": "2023-08-21T18:08:51.204Z"
   },
   {
    "duration": 24,
    "start_time": "2023-08-21T18:08:51.607Z"
   },
   {
    "duration": 57,
    "start_time": "2023-08-21T18:08:52.616Z"
   },
   {
    "duration": 24,
    "start_time": "2023-08-21T18:08:53.014Z"
   },
   {
    "duration": 24,
    "start_time": "2023-08-21T18:08:53.381Z"
   },
   {
    "duration": 24,
    "start_time": "2023-08-21T18:08:53.876Z"
   },
   {
    "duration": 816,
    "start_time": "2023-08-21T18:08:54.317Z"
   },
   {
    "duration": 64,
    "start_time": "2023-08-21T18:08:56.231Z"
   },
   {
    "duration": 9,
    "start_time": "2023-08-21T18:08:56.539Z"
   },
   {
    "duration": 42,
    "start_time": "2023-08-21T18:08:56.763Z"
   },
   {
    "duration": 11,
    "start_time": "2023-08-21T18:08:57.814Z"
   },
   {
    "duration": 29,
    "start_time": "2023-08-21T18:09:01.520Z"
   },
   {
    "duration": 60,
    "start_time": "2023-08-21T18:09:01.870Z"
   },
   {
    "duration": 1248,
    "start_time": "2023-08-21T18:09:09.442Z"
   },
   {
    "duration": 63,
    "start_time": "2023-08-21T18:09:11.210Z"
   },
   {
    "duration": 55,
    "start_time": "2023-08-21T18:09:11.648Z"
   },
   {
    "duration": 51,
    "start_time": "2023-08-21T18:09:12.009Z"
   },
   {
    "duration": 30,
    "start_time": "2023-08-21T18:09:12.363Z"
   },
   {
    "duration": 1088,
    "start_time": "2023-08-21T18:09:12.754Z"
   },
   {
    "duration": 12,
    "start_time": "2023-08-21T18:09:16.853Z"
   },
   {
    "duration": 45,
    "start_time": "2023-08-21T18:09:17.745Z"
   },
   {
    "duration": 27,
    "start_time": "2023-08-21T18:09:18.007Z"
   },
   {
    "duration": 46,
    "start_time": "2023-08-21T18:09:18.609Z"
   },
   {
    "duration": 64,
    "start_time": "2023-08-21T18:09:19.147Z"
   },
   {
    "duration": 276,
    "start_time": "2023-08-21T18:19:38.835Z"
   },
   {
    "duration": 134,
    "start_time": "2023-08-21T18:19:44.072Z"
   },
   {
    "duration": 158,
    "start_time": "2023-08-21T18:29:04.903Z"
   },
   {
    "duration": 144,
    "start_time": "2023-08-21T18:29:31.875Z"
   },
   {
    "duration": 167,
    "start_time": "2023-08-21T18:30:09.303Z"
   },
   {
    "duration": 11,
    "start_time": "2023-08-21T18:30:40.048Z"
   },
   {
    "duration": 14,
    "start_time": "2023-08-21T18:30:53.044Z"
   },
   {
    "duration": 15,
    "start_time": "2023-08-21T18:31:38.270Z"
   },
   {
    "duration": 111,
    "start_time": "2023-08-21T18:31:55.029Z"
   },
   {
    "duration": 128,
    "start_time": "2023-08-21T18:32:11.229Z"
   },
   {
    "duration": 123,
    "start_time": "2023-08-21T18:32:17.009Z"
   },
   {
    "duration": 158,
    "start_time": "2023-08-21T18:32:24.090Z"
   },
   {
    "duration": 16,
    "start_time": "2023-08-21T18:34:40.823Z"
   },
   {
    "duration": 25676,
    "start_time": "2023-08-21T18:35:02.646Z"
   },
   {
    "duration": 13,
    "start_time": "2023-08-21T18:35:28.333Z"
   },
   {
    "duration": 172,
    "start_time": "2023-08-21T18:35:28.348Z"
   },
   {
    "duration": 67,
    "start_time": "2023-08-21T18:35:28.524Z"
   },
   {
    "duration": 36,
    "start_time": "2023-08-21T18:35:28.601Z"
   },
   {
    "duration": 65,
    "start_time": "2023-08-21T18:35:28.643Z"
   },
   {
    "duration": 20,
    "start_time": "2023-08-21T18:35:28.718Z"
   },
   {
    "duration": 14,
    "start_time": "2023-08-21T18:35:28.744Z"
   },
   {
    "duration": 1270,
    "start_time": "2023-08-21T18:35:28.760Z"
   },
   {
    "duration": 871,
    "start_time": "2023-08-21T18:35:30.036Z"
   },
   {
    "duration": 1306,
    "start_time": "2023-08-21T18:35:30.914Z"
   },
   {
    "duration": 61,
    "start_time": "2023-08-21T18:35:32.230Z"
   },
   {
    "duration": 1210,
    "start_time": "2023-08-21T18:35:32.303Z"
   },
   {
    "duration": 10,
    "start_time": "2023-08-21T18:35:33.526Z"
   },
   {
    "duration": 74,
    "start_time": "2023-08-21T18:35:33.539Z"
   },
   {
    "duration": 83,
    "start_time": "2023-08-21T18:35:33.614Z"
   },
   {
    "duration": 34,
    "start_time": "2023-08-21T18:35:33.698Z"
   },
   {
    "duration": 82,
    "start_time": "2023-08-21T18:35:33.735Z"
   },
   {
    "duration": 1402,
    "start_time": "2023-08-21T18:35:33.819Z"
   },
   {
    "duration": 91,
    "start_time": "2023-08-21T18:35:35.225Z"
   },
   {
    "duration": 72,
    "start_time": "2023-08-21T18:35:35.324Z"
   },
   {
    "duration": 37,
    "start_time": "2023-08-21T18:35:35.398Z"
   },
   {
    "duration": 172,
    "start_time": "2023-08-21T18:35:35.437Z"
   },
   {
    "duration": 25,
    "start_time": "2023-08-21T18:35:35.611Z"
   },
   {
    "duration": 26,
    "start_time": "2023-08-21T18:35:35.689Z"
   },
   {
    "duration": 71,
    "start_time": "2023-08-21T18:35:35.726Z"
   },
   {
    "duration": 14,
    "start_time": "2023-08-21T18:35:35.799Z"
   },
   {
    "duration": 14,
    "start_time": "2023-08-21T18:35:35.818Z"
   },
   {
    "duration": 70,
    "start_time": "2023-08-21T18:35:35.834Z"
   },
   {
    "duration": 736,
    "start_time": "2023-08-21T18:35:35.909Z"
   },
   {
    "duration": 71,
    "start_time": "2023-08-21T18:35:36.692Z"
   },
   {
    "duration": 17,
    "start_time": "2023-08-21T18:35:36.793Z"
   },
   {
    "duration": 85,
    "start_time": "2023-08-21T18:35:36.814Z"
   },
   {
    "duration": 14,
    "start_time": "2023-08-21T18:35:36.903Z"
   },
   {
    "duration": 15,
    "start_time": "2023-08-21T18:35:36.924Z"
   },
   {
    "duration": 69,
    "start_time": "2023-08-21T18:35:36.942Z"
   },
   {
    "duration": 1216,
    "start_time": "2023-08-21T18:35:37.016Z"
   },
   {
    "duration": 55,
    "start_time": "2023-08-21T18:35:38.236Z"
   },
   {
    "duration": 27,
    "start_time": "2023-08-21T18:35:38.304Z"
   },
   {
    "duration": 60,
    "start_time": "2023-08-21T18:35:38.334Z"
   },
   {
    "duration": 11,
    "start_time": "2023-08-21T18:35:38.399Z"
   },
   {
    "duration": 686,
    "start_time": "2023-08-21T18:35:38.412Z"
   },
   {
    "duration": 30,
    "start_time": "2023-08-21T18:35:39.100Z"
   },
   {
    "duration": 91,
    "start_time": "2023-08-21T18:35:39.138Z"
   },
   {
    "duration": 24,
    "start_time": "2023-08-21T18:35:39.231Z"
   },
   {
    "duration": 20,
    "start_time": "2023-08-21T18:35:39.294Z"
   },
   {
    "duration": 21,
    "start_time": "2023-08-21T18:35:39.316Z"
   },
   {
    "duration": 0,
    "start_time": "2023-08-21T18:35:39.339Z"
   },
   {
    "duration": 41,
    "start_time": "2023-08-21T18:36:09.809Z"
   },
   {
    "duration": 43,
    "start_time": "2023-08-21T18:36:30.551Z"
   },
   {
    "duration": 36,
    "start_time": "2023-08-21T18:36:54.265Z"
   },
   {
    "duration": 114,
    "start_time": "2023-08-21T18:37:34.118Z"
   },
   {
    "duration": 12,
    "start_time": "2023-08-21T18:38:16.047Z"
   },
   {
    "duration": 74,
    "start_time": "2023-08-21T18:38:25.284Z"
   },
   {
    "duration": 17,
    "start_time": "2023-08-21T18:38:25.827Z"
   },
   {
    "duration": 19,
    "start_time": "2023-08-21T18:38:26.736Z"
   },
   {
    "duration": 108,
    "start_time": "2023-08-21T18:38:27.236Z"
   },
   {
    "duration": 144,
    "start_time": "2023-08-21T18:38:30.815Z"
   },
   {
    "duration": 16,
    "start_time": "2023-08-21T18:38:35.053Z"
   },
   {
    "duration": 45,
    "start_time": "2023-08-21T18:38:37.716Z"
   },
   {
    "duration": 11,
    "start_time": "2023-08-21T18:38:38.057Z"
   },
   {
    "duration": 51,
    "start_time": "2023-08-21T18:38:40.050Z"
   },
   {
    "duration": 4,
    "start_time": "2023-08-21T18:38:56.946Z"
   },
   {
    "duration": 50,
    "start_time": "2023-08-21T18:39:03.087Z"
   },
   {
    "duration": 68,
    "start_time": "2023-08-21T18:39:14.178Z"
   },
   {
    "duration": 31,
    "start_time": "2023-08-21T18:39:14.437Z"
   },
   {
    "duration": 43,
    "start_time": "2023-08-21T18:39:14.652Z"
   },
   {
    "duration": 34,
    "start_time": "2023-08-21T18:39:15.301Z"
   },
   {
    "duration": 20,
    "start_time": "2023-08-21T18:39:16.144Z"
   },
   {
    "duration": 78,
    "start_time": "2023-08-21T18:40:15.482Z"
   },
   {
    "duration": 36,
    "start_time": "2023-08-21T18:40:28.067Z"
   },
   {
    "duration": 86,
    "start_time": "2023-08-21T18:41:03.015Z"
   },
   {
    "duration": 34,
    "start_time": "2023-08-21T18:41:03.255Z"
   },
   {
    "duration": 51,
    "start_time": "2023-08-21T18:41:04.142Z"
   },
   {
    "duration": 39,
    "start_time": "2023-08-21T18:41:07.832Z"
   },
   {
    "duration": 68,
    "start_time": "2023-08-21T18:42:30.234Z"
   },
   {
    "duration": 141,
    "start_time": "2023-08-21T18:45:41.547Z"
   },
   {
    "duration": 191,
    "start_time": "2023-08-21T18:45:46.458Z"
   },
   {
    "duration": 10,
    "start_time": "2023-08-21T18:48:06.372Z"
   },
   {
    "duration": 50,
    "start_time": "2023-08-21T18:48:13.110Z"
   },
   {
    "duration": 4,
    "start_time": "2023-08-21T18:48:42.467Z"
   },
   {
    "duration": 36,
    "start_time": "2023-08-21T18:48:52.155Z"
   },
   {
    "duration": 56,
    "start_time": "2023-08-21T18:48:56.038Z"
   },
   {
    "duration": 38,
    "start_time": "2023-08-21T18:48:56.293Z"
   },
   {
    "duration": 55,
    "start_time": "2023-08-21T18:48:56.609Z"
   },
   {
    "duration": 54,
    "start_time": "2023-08-21T18:48:56.971Z"
   },
   {
    "duration": 113,
    "start_time": "2023-08-21T18:49:04.714Z"
   },
   {
    "duration": 43,
    "start_time": "2023-08-21T18:49:21.069Z"
   },
   {
    "duration": 39,
    "start_time": "2023-08-21T18:49:43.318Z"
   },
   {
    "duration": 28,
    "start_time": "2023-08-21T18:50:06.126Z"
   },
   {
    "duration": 62,
    "start_time": "2023-08-21T18:50:19.285Z"
   },
   {
    "duration": 21,
    "start_time": "2023-08-21T18:50:19.587Z"
   },
   {
    "duration": 58,
    "start_time": "2023-08-21T18:50:19.884Z"
   },
   {
    "duration": 5,
    "start_time": "2023-08-21T18:50:22.252Z"
   },
   {
    "duration": 41,
    "start_time": "2023-08-21T18:50:23.369Z"
   },
   {
    "duration": 19,
    "start_time": "2023-08-21T18:51:20.666Z"
   },
   {
    "duration": 32,
    "start_time": "2023-08-21T18:51:34.035Z"
   },
   {
    "duration": 32,
    "start_time": "2023-08-21T18:51:34.326Z"
   },
   {
    "duration": 55,
    "start_time": "2023-08-21T18:51:34.958Z"
   },
   {
    "duration": 82,
    "start_time": "2023-08-21T18:51:38.114Z"
   },
   {
    "duration": 14,
    "start_time": "2023-08-21T18:52:02.000Z"
   },
   {
    "duration": 40,
    "start_time": "2023-08-21T18:52:14.508Z"
   },
   {
    "duration": 31,
    "start_time": "2023-08-21T18:56:30.660Z"
   },
   {
    "duration": 7,
    "start_time": "2023-08-21T18:56:48.066Z"
   },
   {
    "duration": 14,
    "start_time": "2023-08-21T18:56:50.537Z"
   },
   {
    "duration": 15,
    "start_time": "2023-08-21T18:56:51.134Z"
   },
   {
    "duration": 14,
    "start_time": "2023-08-21T18:56:51.739Z"
   },
   {
    "duration": 14,
    "start_time": "2023-08-21T18:56:52.403Z"
   },
   {
    "duration": 49,
    "start_time": "2023-08-21T18:56:52.570Z"
   },
   {
    "duration": 3514,
    "start_time": "2023-08-21T18:56:53.089Z"
   },
   {
    "duration": 27,
    "start_time": "2023-08-21T18:56:56.606Z"
   },
   {
    "duration": 73,
    "start_time": "2023-08-21T18:56:56.635Z"
   },
   {
    "duration": 40,
    "start_time": "2023-08-21T18:56:56.712Z"
   },
   {
    "duration": 110,
    "start_time": "2023-08-21T18:56:56.790Z"
   },
   {
    "duration": 109,
    "start_time": "2023-08-21T18:56:56.904Z"
   },
   {
    "duration": 91,
    "start_time": "2023-08-21T18:56:57.018Z"
   },
   {
    "duration": 7,
    "start_time": "2023-08-21T18:56:57.308Z"
   },
   {
    "duration": 36,
    "start_time": "2023-08-21T18:56:57.556Z"
   },
   {
    "duration": 1119,
    "start_time": "2023-08-21T18:56:58.204Z"
   },
   {
    "duration": 73,
    "start_time": "2023-08-21T18:56:59.325Z"
   },
   {
    "duration": 27,
    "start_time": "2023-08-21T18:57:00.614Z"
   },
   {
    "duration": 40,
    "start_time": "2023-08-21T18:57:01.010Z"
   },
   {
    "duration": 19,
    "start_time": "2023-08-21T18:57:01.847Z"
   },
   {
    "duration": 19,
    "start_time": "2023-08-21T18:57:02.529Z"
   },
   {
    "duration": 21,
    "start_time": "2023-08-21T18:57:03.303Z"
   },
   {
    "duration": 4,
    "start_time": "2023-08-21T18:57:03.846Z"
   },
   {
    "duration": 5,
    "start_time": "2023-08-21T18:57:04.066Z"
   },
   {
    "duration": 154,
    "start_time": "2023-08-21T18:57:04.258Z"
   },
   {
    "duration": 236,
    "start_time": "2023-08-21T18:57:06.352Z"
   },
   {
    "duration": 184,
    "start_time": "2023-08-21T18:58:27.551Z"
   },
   {
    "duration": 106,
    "start_time": "2023-08-22T09:22:10.502Z"
   },
   {
    "duration": 78,
    "start_time": "2023-08-22T09:40:26.710Z"
   },
   {
    "duration": 18634,
    "start_time": "2023-08-22T09:40:30.195Z"
   },
   {
    "duration": 2525,
    "start_time": "2023-08-22T09:40:48.832Z"
   },
   {
    "duration": 128,
    "start_time": "2023-08-22T09:40:51.359Z"
   },
   {
    "duration": 23,
    "start_time": "2023-08-22T09:40:51.494Z"
   },
   {
    "duration": 15,
    "start_time": "2023-08-22T09:40:51.520Z"
   },
   {
    "duration": 11,
    "start_time": "2023-08-22T09:40:51.537Z"
   },
   {
    "duration": 40,
    "start_time": "2023-08-22T09:40:51.550Z"
   },
   {
    "duration": 14,
    "start_time": "2023-08-22T09:40:51.596Z"
   },
   {
    "duration": 617,
    "start_time": "2023-08-22T09:40:51.612Z"
   },
   {
    "duration": 431,
    "start_time": "2023-08-22T09:40:52.231Z"
   },
   {
    "duration": 549,
    "start_time": "2023-08-22T09:40:52.665Z"
   },
   {
    "duration": 7,
    "start_time": "2023-08-22T09:40:53.218Z"
   },
   {
    "duration": 638,
    "start_time": "2023-08-22T09:40:53.228Z"
   },
   {
    "duration": 13,
    "start_time": "2023-08-22T09:40:53.876Z"
   },
   {
    "duration": 140,
    "start_time": "2023-08-22T09:40:53.891Z"
   },
   {
    "duration": 18,
    "start_time": "2023-08-22T09:40:54.033Z"
   },
   {
    "duration": 20,
    "start_time": "2023-08-22T09:40:54.053Z"
   },
   {
    "duration": 11,
    "start_time": "2023-08-22T09:40:54.075Z"
   },
   {
    "duration": 397,
    "start_time": "2023-08-22T09:40:54.088Z"
   },
   {
    "duration": 88,
    "start_time": "2023-08-22T09:40:54.487Z"
   },
   {
    "duration": 31,
    "start_time": "2023-08-22T09:40:54.577Z"
   },
   {
    "duration": 13,
    "start_time": "2023-08-22T09:40:54.611Z"
   },
   {
    "duration": 34,
    "start_time": "2023-08-22T09:40:54.627Z"
   },
   {
    "duration": 32,
    "start_time": "2023-08-22T09:40:54.663Z"
   },
   {
    "duration": 12,
    "start_time": "2023-08-22T09:40:54.699Z"
   },
   {
    "duration": 64,
    "start_time": "2023-08-22T09:40:54.714Z"
   },
   {
    "duration": 11,
    "start_time": "2023-08-22T09:40:54.782Z"
   },
   {
    "duration": 16,
    "start_time": "2023-08-22T09:40:54.795Z"
   },
   {
    "duration": 24,
    "start_time": "2023-08-22T09:40:54.813Z"
   },
   {
    "duration": 390,
    "start_time": "2023-08-22T09:40:54.840Z"
   },
   {
    "duration": 168,
    "start_time": "2023-08-22T09:40:55.235Z"
   },
   {
    "duration": 10,
    "start_time": "2023-08-22T09:40:55.406Z"
   },
   {
    "duration": 12,
    "start_time": "2023-08-22T09:40:55.419Z"
   },
   {
    "duration": 6,
    "start_time": "2023-08-22T09:40:55.434Z"
   },
   {
    "duration": 14,
    "start_time": "2023-08-22T09:40:55.442Z"
   },
   {
    "duration": 51,
    "start_time": "2023-08-22T09:40:55.458Z"
   },
   {
    "duration": 562,
    "start_time": "2023-08-22T09:40:55.511Z"
   },
   {
    "duration": 56,
    "start_time": "2023-08-22T09:40:56.075Z"
   },
   {
    "duration": 18,
    "start_time": "2023-08-22T09:40:56.133Z"
   },
   {
    "duration": 22,
    "start_time": "2023-08-22T09:40:56.153Z"
   },
   {
    "duration": 11,
    "start_time": "2023-08-22T09:40:56.290Z"
   },
   {
    "duration": 281,
    "start_time": "2023-08-22T09:40:56.305Z"
   },
   {
    "duration": 31,
    "start_time": "2023-08-22T09:40:56.588Z"
   },
   {
    "duration": 129,
    "start_time": "2023-08-22T09:40:56.620Z"
   },
   {
    "duration": 19,
    "start_time": "2023-08-22T09:40:56.752Z"
   },
   {
    "duration": 23,
    "start_time": "2023-08-22T09:40:56.773Z"
   },
   {
    "duration": 30,
    "start_time": "2023-08-22T09:40:56.798Z"
   },
   {
    "duration": 17,
    "start_time": "2023-08-22T09:40:56.830Z"
   },
   {
    "duration": 8,
    "start_time": "2023-08-22T09:40:56.851Z"
   },
   {
    "duration": 38,
    "start_time": "2023-08-22T09:40:56.862Z"
   },
   {
    "duration": 15,
    "start_time": "2023-08-22T09:40:56.909Z"
   },
   {
    "duration": 26,
    "start_time": "2023-08-22T09:40:56.926Z"
   },
   {
    "duration": 4,
    "start_time": "2023-08-22T09:40:56.955Z"
   },
   {
    "duration": 24,
    "start_time": "2023-08-22T09:40:56.961Z"
   },
   {
    "duration": 1380,
    "start_time": "2023-08-22T09:40:56.993Z"
   },
   {
    "duration": 22,
    "start_time": "2023-08-22T09:40:58.380Z"
   },
   {
    "duration": 17,
    "start_time": "2023-08-22T09:40:58.404Z"
   },
   {
    "duration": 14,
    "start_time": "2023-08-22T09:40:58.423Z"
   },
   {
    "duration": 17,
    "start_time": "2023-08-22T09:40:58.439Z"
   },
   {
    "duration": 48,
    "start_time": "2023-08-22T09:40:58.457Z"
   },
   {
    "duration": 7,
    "start_time": "2023-08-22T09:40:58.507Z"
   },
   {
    "duration": 14,
    "start_time": "2023-08-22T09:40:58.517Z"
   },
   {
    "duration": 23,
    "start_time": "2023-08-22T09:40:58.533Z"
   },
   {
    "duration": 405,
    "start_time": "2023-08-22T09:40:58.558Z"
   },
   {
    "duration": 34,
    "start_time": "2023-08-22T09:40:58.965Z"
   },
   {
    "duration": 8,
    "start_time": "2023-08-22T09:40:59.006Z"
   },
   {
    "duration": 17,
    "start_time": "2023-08-22T09:40:59.016Z"
   },
   {
    "duration": 20,
    "start_time": "2023-08-22T09:40:59.036Z"
   },
   {
    "duration": 35,
    "start_time": "2023-08-22T09:40:59.058Z"
   },
   {
    "duration": 18,
    "start_time": "2023-08-22T09:40:59.095Z"
   },
   {
    "duration": 4,
    "start_time": "2023-08-22T09:40:59.115Z"
   },
   {
    "duration": 8,
    "start_time": "2023-08-22T09:40:59.121Z"
   },
   {
    "duration": 84,
    "start_time": "2023-08-22T09:40:59.130Z"
   },
   {
    "duration": 86,
    "start_time": "2023-08-22T09:40:59.217Z"
   },
   {
    "duration": 14,
    "start_time": "2023-08-22T09:40:59.307Z"
   },
   {
    "duration": 2,
    "start_time": "2023-08-22T09:40:59.323Z"
   },
   {
    "duration": 16,
    "start_time": "2023-08-22T09:40:59.327Z"
   },
   {
    "duration": 450,
    "start_time": "2023-08-22T09:40:59.345Z"
   },
   {
    "duration": 8,
    "start_time": "2023-08-22T09:40:59.801Z"
   },
   {
    "duration": 435,
    "start_time": "2023-08-22T09:40:59.811Z"
   },
   {
    "duration": 3344,
    "start_time": "2023-08-22T09:41:00.248Z"
   },
   {
    "duration": 18,
    "start_time": "2023-08-22T09:41:03.593Z"
   },
   {
    "duration": 3,
    "start_time": "2023-08-22T09:41:03.613Z"
   },
   {
    "duration": 18,
    "start_time": "2023-08-22T09:41:03.618Z"
   },
   {
    "duration": 21,
    "start_time": "2023-08-22T09:41:03.638Z"
   },
   {
    "duration": 4,
    "start_time": "2023-08-22T09:41:03.661Z"
   },
   {
    "duration": 26,
    "start_time": "2023-08-22T09:41:03.667Z"
   },
   {
    "duration": 46,
    "start_time": "2023-08-22T09:41:03.695Z"
   },
   {
    "duration": 4,
    "start_time": "2023-08-22T09:41:03.743Z"
   },
   {
    "duration": 5,
    "start_time": "2023-08-22T09:41:03.749Z"
   },
   {
    "duration": 130,
    "start_time": "2023-08-22T09:41:03.756Z"
   },
   {
    "duration": 822,
    "start_time": "2023-08-22T09:41:03.889Z"
   },
   {
    "duration": 69,
    "start_time": "2023-08-22T09:41:04.714Z"
   },
   {
    "duration": 1444,
    "start_time": "2023-08-22T09:41:04.791Z"
   },
   {
    "duration": 3351,
    "start_time": "2023-08-22T09:41:06.237Z"
   },
   {
    "duration": 52,
    "start_time": "2023-08-22T09:41:09.590Z"
   },
   {
    "duration": 349666,
    "start_time": "2023-08-22T09:41:09.644Z"
   },
   {
    "duration": 6255,
    "start_time": "2023-08-22T10:01:00.781Z"
   },
   {
    "duration": 2122,
    "start_time": "2023-08-22T10:01:07.039Z"
   },
   {
    "duration": 64,
    "start_time": "2023-08-22T10:01:09.164Z"
   },
   {
    "duration": 18,
    "start_time": "2023-08-22T10:01:09.230Z"
   },
   {
    "duration": 20,
    "start_time": "2023-08-22T10:01:09.251Z"
   },
   {
    "duration": 17,
    "start_time": "2023-08-22T10:01:09.274Z"
   },
   {
    "duration": 23,
    "start_time": "2023-08-22T10:01:09.294Z"
   },
   {
    "duration": 9,
    "start_time": "2023-08-22T10:01:09.320Z"
   },
   {
    "duration": 623,
    "start_time": "2023-08-22T10:01:09.331Z"
   },
   {
    "duration": 492,
    "start_time": "2023-08-22T10:01:09.956Z"
   },
   {
    "duration": 736,
    "start_time": "2023-08-22T10:01:10.451Z"
   },
   {
    "duration": 8,
    "start_time": "2023-08-22T10:01:11.190Z"
   },
   {
    "duration": 502,
    "start_time": "2023-08-22T10:01:11.200Z"
   },
   {
    "duration": 5,
    "start_time": "2023-08-22T10:01:11.707Z"
   },
   {
    "duration": 161,
    "start_time": "2023-08-22T10:01:11.714Z"
   },
   {
    "duration": 39,
    "start_time": "2023-08-22T10:01:11.877Z"
   },
   {
    "duration": 27,
    "start_time": "2023-08-22T10:01:11.918Z"
   },
   {
    "duration": 7,
    "start_time": "2023-08-22T10:01:11.948Z"
   },
   {
    "duration": 380,
    "start_time": "2023-08-22T10:01:11.957Z"
   },
   {
    "duration": 27,
    "start_time": "2023-08-22T10:01:12.339Z"
   },
   {
    "duration": 35,
    "start_time": "2023-08-22T10:01:12.369Z"
   },
   {
    "duration": 24,
    "start_time": "2023-08-22T10:01:12.406Z"
   },
   {
    "duration": 72,
    "start_time": "2023-08-22T10:01:12.432Z"
   },
   {
    "duration": 16,
    "start_time": "2023-08-22T10:01:12.507Z"
   },
   {
    "duration": 21,
    "start_time": "2023-08-22T10:01:12.525Z"
   },
   {
    "duration": 78,
    "start_time": "2023-08-22T10:01:12.548Z"
   },
   {
    "duration": 9,
    "start_time": "2023-08-22T10:01:12.628Z"
   },
   {
    "duration": 29,
    "start_time": "2023-08-22T10:01:12.639Z"
   },
   {
    "duration": 25,
    "start_time": "2023-08-22T10:01:12.670Z"
   },
   {
    "duration": 276,
    "start_time": "2023-08-22T10:01:12.697Z"
   },
   {
    "duration": 58,
    "start_time": "2023-08-22T10:01:12.980Z"
   },
   {
    "duration": 11,
    "start_time": "2023-08-22T10:01:13.040Z"
   },
   {
    "duration": 24,
    "start_time": "2023-08-22T10:01:13.053Z"
   },
   {
    "duration": 25,
    "start_time": "2023-08-22T10:01:13.079Z"
   },
   {
    "duration": 30,
    "start_time": "2023-08-22T10:01:13.106Z"
   },
   {
    "duration": 53,
    "start_time": "2023-08-22T10:01:13.138Z"
   },
   {
    "duration": 512,
    "start_time": "2023-08-22T10:01:13.193Z"
   },
   {
    "duration": 17,
    "start_time": "2023-08-22T10:01:13.707Z"
   },
   {
    "duration": 13,
    "start_time": "2023-08-22T10:01:13.726Z"
   },
   {
    "duration": 21,
    "start_time": "2023-08-22T10:01:13.741Z"
   },
   {
    "duration": 13,
    "start_time": "2023-08-22T10:01:13.769Z"
   },
   {
    "duration": 353,
    "start_time": "2023-08-22T10:01:13.787Z"
   },
   {
    "duration": 11,
    "start_time": "2023-08-22T10:01:14.142Z"
   },
   {
    "duration": 54,
    "start_time": "2023-08-22T10:01:14.155Z"
   },
   {
    "duration": 14,
    "start_time": "2023-08-22T10:01:14.211Z"
   },
   {
    "duration": 16,
    "start_time": "2023-08-22T10:01:14.228Z"
   },
   {
    "duration": 31,
    "start_time": "2023-08-22T10:01:14.246Z"
   },
   {
    "duration": 16,
    "start_time": "2023-08-22T10:01:14.281Z"
   },
   {
    "duration": 10,
    "start_time": "2023-08-22T10:01:14.299Z"
   },
   {
    "duration": 21,
    "start_time": "2023-08-22T10:01:14.311Z"
   },
   {
    "duration": 22,
    "start_time": "2023-08-22T10:01:14.334Z"
   },
   {
    "duration": 25,
    "start_time": "2023-08-22T10:01:14.361Z"
   },
   {
    "duration": 4,
    "start_time": "2023-08-22T10:01:14.389Z"
   },
   {
    "duration": 18,
    "start_time": "2023-08-22T10:01:14.395Z"
   },
   {
    "duration": 1246,
    "start_time": "2023-08-22T10:01:14.415Z"
   },
   {
    "duration": 24,
    "start_time": "2023-08-22T10:01:15.663Z"
   },
   {
    "duration": 14,
    "start_time": "2023-08-22T10:01:15.689Z"
   },
   {
    "duration": 15,
    "start_time": "2023-08-22T10:01:15.705Z"
   },
   {
    "duration": 22,
    "start_time": "2023-08-22T10:01:15.722Z"
   },
   {
    "duration": 19,
    "start_time": "2023-08-22T10:01:15.746Z"
   },
   {
    "duration": 19,
    "start_time": "2023-08-22T10:01:15.766Z"
   },
   {
    "duration": 4,
    "start_time": "2023-08-22T10:01:15.786Z"
   },
   {
    "duration": 14,
    "start_time": "2023-08-22T10:01:15.792Z"
   },
   {
    "duration": 503,
    "start_time": "2023-08-22T10:01:15.807Z"
   },
   {
    "duration": 20,
    "start_time": "2023-08-22T10:01:16.317Z"
   },
   {
    "duration": 9,
    "start_time": "2023-08-22T10:01:16.339Z"
   },
   {
    "duration": 24,
    "start_time": "2023-08-22T10:01:16.350Z"
   },
   {
    "duration": 34,
    "start_time": "2023-08-22T10:01:16.385Z"
   },
   {
    "duration": 17,
    "start_time": "2023-08-22T10:01:16.421Z"
   },
   {
    "duration": 12,
    "start_time": "2023-08-22T10:01:16.440Z"
   },
   {
    "duration": 3,
    "start_time": "2023-08-22T10:01:16.455Z"
   },
   {
    "duration": 5,
    "start_time": "2023-08-22T10:01:16.484Z"
   },
   {
    "duration": 50,
    "start_time": "2023-08-22T10:01:16.502Z"
   },
   {
    "duration": 129,
    "start_time": "2023-08-22T10:01:16.555Z"
   },
   {
    "duration": 21,
    "start_time": "2023-08-22T10:01:16.686Z"
   },
   {
    "duration": 4,
    "start_time": "2023-08-22T10:01:16.709Z"
   },
   {
    "duration": 17,
    "start_time": "2023-08-22T10:01:16.714Z"
   },
   {
    "duration": 507,
    "start_time": "2023-08-22T10:01:16.733Z"
   },
   {
    "duration": 6,
    "start_time": "2023-08-22T10:01:17.243Z"
   },
   {
    "duration": 684,
    "start_time": "2023-08-22T10:01:17.251Z"
   },
   {
    "duration": 3376,
    "start_time": "2023-08-22T10:01:17.937Z"
   },
   {
    "duration": 13,
    "start_time": "2023-08-22T10:01:21.315Z"
   },
   {
    "duration": 4,
    "start_time": "2023-08-22T10:01:21.331Z"
   },
   {
    "duration": 7,
    "start_time": "2023-08-22T10:01:21.337Z"
   },
   {
    "duration": 25,
    "start_time": "2023-08-22T10:01:21.346Z"
   },
   {
    "duration": 4,
    "start_time": "2023-08-22T10:01:21.373Z"
   },
   {
    "duration": 10,
    "start_time": "2023-08-22T10:01:21.379Z"
   },
   {
    "duration": 47,
    "start_time": "2023-08-22T10:01:21.395Z"
   },
   {
    "duration": 4,
    "start_time": "2023-08-22T10:01:21.444Z"
   },
   {
    "duration": 12,
    "start_time": "2023-08-22T10:01:21.450Z"
   },
   {
    "duration": 118,
    "start_time": "2023-08-22T10:01:21.464Z"
   },
   {
    "duration": 518,
    "start_time": "2023-08-22T10:01:21.585Z"
   },
   {
    "duration": 98,
    "start_time": "2023-08-22T10:01:22.108Z"
   },
   {
    "duration": 1304,
    "start_time": "2023-08-22T10:01:22.214Z"
   },
   {
    "duration": 2956,
    "start_time": "2023-08-22T10:01:23.520Z"
   },
   {
    "duration": 51,
    "start_time": "2023-08-22T10:01:26.478Z"
   },
   {
    "duration": 5451,
    "start_time": "2023-08-22T10:02:17.420Z"
   },
   {
    "duration": 1550,
    "start_time": "2023-08-22T10:02:22.873Z"
   },
   {
    "duration": 52,
    "start_time": "2023-08-22T10:02:24.425Z"
   },
   {
    "duration": 28,
    "start_time": "2023-08-22T10:02:24.479Z"
   },
   {
    "duration": 16,
    "start_time": "2023-08-22T10:02:24.509Z"
   },
   {
    "duration": 46,
    "start_time": "2023-08-22T10:02:24.527Z"
   },
   {
    "duration": 87,
    "start_time": "2023-08-22T10:02:24.576Z"
   },
   {
    "duration": 31,
    "start_time": "2023-08-22T10:02:24.666Z"
   },
   {
    "duration": 598,
    "start_time": "2023-08-22T10:02:24.700Z"
   },
   {
    "duration": 347,
    "start_time": "2023-08-22T10:02:25.306Z"
   },
   {
    "duration": 627,
    "start_time": "2023-08-22T10:02:25.655Z"
   },
   {
    "duration": 10,
    "start_time": "2023-08-22T10:02:26.291Z"
   },
   {
    "duration": 657,
    "start_time": "2023-08-22T10:02:26.308Z"
   },
   {
    "duration": 13,
    "start_time": "2023-08-22T10:02:26.967Z"
   },
   {
    "duration": 66,
    "start_time": "2023-08-22T10:02:26.983Z"
   },
   {
    "duration": 27,
    "start_time": "2023-08-22T10:02:27.051Z"
   },
   {
    "duration": 20,
    "start_time": "2023-08-22T10:02:27.083Z"
   },
   {
    "duration": 11,
    "start_time": "2023-08-22T10:02:27.106Z"
   },
   {
    "duration": 456,
    "start_time": "2023-08-22T10:02:27.120Z"
   },
   {
    "duration": 35,
    "start_time": "2023-08-22T10:02:27.578Z"
   },
   {
    "duration": 16,
    "start_time": "2023-08-22T10:02:27.615Z"
   },
   {
    "duration": 15,
    "start_time": "2023-08-22T10:02:27.633Z"
   },
   {
    "duration": 58,
    "start_time": "2023-08-22T10:02:27.651Z"
   },
   {
    "duration": 17,
    "start_time": "2023-08-22T10:02:27.712Z"
   },
   {
    "duration": 8,
    "start_time": "2023-08-22T10:02:27.731Z"
   },
   {
    "duration": 65,
    "start_time": "2023-08-22T10:02:27.741Z"
   },
   {
    "duration": 8,
    "start_time": "2023-08-22T10:02:27.807Z"
   },
   {
    "duration": 11,
    "start_time": "2023-08-22T10:02:27.821Z"
   },
   {
    "duration": 9,
    "start_time": "2023-08-22T10:02:27.834Z"
   },
   {
    "duration": 320,
    "start_time": "2023-08-22T10:02:27.845Z"
   },
   {
    "duration": 81,
    "start_time": "2023-08-22T10:02:28.167Z"
   },
   {
    "duration": 11,
    "start_time": "2023-08-22T10:02:28.251Z"
   },
   {
    "duration": 22,
    "start_time": "2023-08-22T10:02:28.264Z"
   },
   {
    "duration": 20,
    "start_time": "2023-08-22T10:02:28.287Z"
   },
   {
    "duration": 13,
    "start_time": "2023-08-22T10:02:28.309Z"
   },
   {
    "duration": 23,
    "start_time": "2023-08-22T10:02:28.324Z"
   },
   {
    "duration": 560,
    "start_time": "2023-08-22T10:02:28.349Z"
   },
   {
    "duration": 17,
    "start_time": "2023-08-22T10:02:28.911Z"
   },
   {
    "duration": 13,
    "start_time": "2023-08-22T10:02:28.931Z"
   },
   {
    "duration": 19,
    "start_time": "2023-08-22T10:02:28.946Z"
   },
   {
    "duration": 36,
    "start_time": "2023-08-22T10:02:28.967Z"
   },
   {
    "duration": 387,
    "start_time": "2023-08-22T10:02:29.006Z"
   },
   {
    "duration": 14,
    "start_time": "2023-08-22T10:02:29.399Z"
   },
   {
    "duration": 42,
    "start_time": "2023-08-22T10:02:29.415Z"
   },
   {
    "duration": 13,
    "start_time": "2023-08-22T10:02:29.460Z"
   },
   {
    "duration": 34,
    "start_time": "2023-08-22T10:02:29.475Z"
   },
   {
    "duration": 23,
    "start_time": "2023-08-22T10:02:29.511Z"
   },
   {
    "duration": 12,
    "start_time": "2023-08-22T10:02:29.536Z"
   },
   {
    "duration": 26,
    "start_time": "2023-08-22T10:02:29.550Z"
   },
   {
    "duration": 26,
    "start_time": "2023-08-22T10:02:29.578Z"
   },
   {
    "duration": 23,
    "start_time": "2023-08-22T10:02:29.607Z"
   },
   {
    "duration": 24,
    "start_time": "2023-08-22T10:02:29.632Z"
   },
   {
    "duration": 5,
    "start_time": "2023-08-22T10:02:29.658Z"
   },
   {
    "duration": 24,
    "start_time": "2023-08-22T10:02:29.665Z"
   },
   {
    "duration": 1340,
    "start_time": "2023-08-22T10:02:29.692Z"
   },
   {
    "duration": 18,
    "start_time": "2023-08-22T10:02:31.034Z"
   },
   {
    "duration": 70,
    "start_time": "2023-08-22T10:02:31.054Z"
   },
   {
    "duration": 46,
    "start_time": "2023-08-22T10:02:31.126Z"
   },
   {
    "duration": 59,
    "start_time": "2023-08-22T10:02:31.174Z"
   },
   {
    "duration": 87,
    "start_time": "2023-08-22T10:02:31.236Z"
   },
   {
    "duration": 48,
    "start_time": "2023-08-22T10:02:31.326Z"
   },
   {
    "duration": 47,
    "start_time": "2023-08-22T10:02:31.376Z"
   },
   {
    "duration": 62,
    "start_time": "2023-08-22T10:02:31.425Z"
   },
   {
    "duration": 537,
    "start_time": "2023-08-22T10:02:31.489Z"
   },
   {
    "duration": 15,
    "start_time": "2023-08-22T10:02:32.028Z"
   },
   {
    "duration": 36,
    "start_time": "2023-08-22T10:02:32.046Z"
   },
   {
    "duration": 45,
    "start_time": "2023-08-22T10:02:32.087Z"
   },
   {
    "duration": 44,
    "start_time": "2023-08-22T10:02:32.134Z"
   },
   {
    "duration": 76,
    "start_time": "2023-08-22T10:02:32.183Z"
   },
   {
    "duration": 13,
    "start_time": "2023-08-22T10:02:32.261Z"
   },
   {
    "duration": 40,
    "start_time": "2023-08-22T10:02:32.276Z"
   },
   {
    "duration": 108,
    "start_time": "2023-08-22T10:02:32.319Z"
   },
   {
    "duration": 100,
    "start_time": "2023-08-22T10:02:32.430Z"
   },
   {
    "duration": 99,
    "start_time": "2023-08-22T10:02:32.535Z"
   },
   {
    "duration": 17,
    "start_time": "2023-08-22T10:02:32.636Z"
   },
   {
    "duration": 23,
    "start_time": "2023-08-22T10:02:32.655Z"
   },
   {
    "duration": 32,
    "start_time": "2023-08-22T10:02:32.685Z"
   },
   {
    "duration": 425,
    "start_time": "2023-08-22T10:02:32.719Z"
   },
   {
    "duration": 7,
    "start_time": "2023-08-22T10:02:33.147Z"
   },
   {
    "duration": 454,
    "start_time": "2023-08-22T10:02:33.156Z"
   },
   {
    "duration": 3529,
    "start_time": "2023-08-22T10:02:33.612Z"
   },
   {
    "duration": 19,
    "start_time": "2023-08-22T10:02:37.150Z"
   },
   {
    "duration": 18,
    "start_time": "2023-08-22T10:02:37.173Z"
   },
   {
    "duration": 11,
    "start_time": "2023-08-22T10:02:37.196Z"
   },
   {
    "duration": 23,
    "start_time": "2023-08-22T10:02:37.215Z"
   },
   {
    "duration": 10,
    "start_time": "2023-08-22T10:02:37.240Z"
   },
   {
    "duration": 16,
    "start_time": "2023-08-22T10:02:37.252Z"
   },
   {
    "duration": 62,
    "start_time": "2023-08-22T10:02:37.271Z"
   },
   {
    "duration": 4,
    "start_time": "2023-08-22T10:02:37.335Z"
   },
   {
    "duration": 6,
    "start_time": "2023-08-22T10:02:37.341Z"
   },
   {
    "duration": 268,
    "start_time": "2023-08-22T10:02:37.350Z"
   },
   {
    "duration": 793,
    "start_time": "2023-08-22T10:02:37.620Z"
   },
   {
    "duration": 84,
    "start_time": "2023-08-22T10:02:38.419Z"
   },
   {
    "duration": 1314,
    "start_time": "2023-08-22T10:02:38.514Z"
   },
   {
    "duration": 3001,
    "start_time": "2023-08-22T10:02:39.830Z"
   },
   {
    "duration": 55,
    "start_time": "2023-08-22T10:02:42.833Z"
   },
   {
    "duration": 5119,
    "start_time": "2023-08-22T10:10:37.748Z"
   },
   {
    "duration": 1600,
    "start_time": "2023-08-22T10:10:42.870Z"
   },
   {
    "duration": 57,
    "start_time": "2023-08-22T10:10:44.471Z"
   },
   {
    "duration": 18,
    "start_time": "2023-08-22T10:10:44.531Z"
   },
   {
    "duration": 23,
    "start_time": "2023-08-22T10:10:44.550Z"
   },
   {
    "duration": 17,
    "start_time": "2023-08-22T10:10:44.575Z"
   },
   {
    "duration": 20,
    "start_time": "2023-08-22T10:10:44.596Z"
   },
   {
    "duration": 9,
    "start_time": "2023-08-22T10:10:44.619Z"
   },
   {
    "duration": 596,
    "start_time": "2023-08-22T10:10:44.631Z"
   },
   {
    "duration": 334,
    "start_time": "2023-08-22T10:10:45.231Z"
   },
   {
    "duration": 620,
    "start_time": "2023-08-22T10:10:45.568Z"
   },
   {
    "duration": 6,
    "start_time": "2023-08-22T10:10:46.190Z"
   },
   {
    "duration": 580,
    "start_time": "2023-08-22T10:10:46.198Z"
   },
   {
    "duration": 8,
    "start_time": "2023-08-22T10:10:46.780Z"
   },
   {
    "duration": 47,
    "start_time": "2023-08-22T10:10:46.796Z"
   },
   {
    "duration": 24,
    "start_time": "2023-08-22T10:10:46.845Z"
   },
   {
    "duration": 23,
    "start_time": "2023-08-22T10:10:46.871Z"
   },
   {
    "duration": 13,
    "start_time": "2023-08-22T10:10:46.896Z"
   },
   {
    "duration": 451,
    "start_time": "2023-08-22T10:10:46.916Z"
   },
   {
    "duration": 48,
    "start_time": "2023-08-22T10:10:47.369Z"
   },
   {
    "duration": 17,
    "start_time": "2023-08-22T10:10:47.419Z"
   },
   {
    "duration": 37,
    "start_time": "2023-08-22T10:10:47.439Z"
   },
   {
    "duration": 51,
    "start_time": "2023-08-22T10:10:47.478Z"
   },
   {
    "duration": 19,
    "start_time": "2023-08-22T10:10:47.532Z"
   },
   {
    "duration": 18,
    "start_time": "2023-08-22T10:10:47.554Z"
   },
   {
    "duration": 68,
    "start_time": "2023-08-22T10:10:47.574Z"
   },
   {
    "duration": 8,
    "start_time": "2023-08-22T10:10:47.644Z"
   },
   {
    "duration": 10,
    "start_time": "2023-08-22T10:10:47.657Z"
   },
   {
    "duration": 23,
    "start_time": "2023-08-22T10:10:47.669Z"
   },
   {
    "duration": 355,
    "start_time": "2023-08-22T10:10:47.696Z"
   },
   {
    "duration": 50,
    "start_time": "2023-08-22T10:10:48.053Z"
   },
   {
    "duration": 8,
    "start_time": "2023-08-22T10:10:48.105Z"
   },
   {
    "duration": 17,
    "start_time": "2023-08-22T10:10:48.115Z"
   },
   {
    "duration": 7,
    "start_time": "2023-08-22T10:10:48.134Z"
   },
   {
    "duration": 10,
    "start_time": "2023-08-22T10:10:48.142Z"
   },
   {
    "duration": 35,
    "start_time": "2023-08-22T10:10:48.154Z"
   },
   {
    "duration": 566,
    "start_time": "2023-08-22T10:10:48.191Z"
   },
   {
    "duration": 26,
    "start_time": "2023-08-22T10:10:48.766Z"
   },
   {
    "duration": 15,
    "start_time": "2023-08-22T10:10:48.797Z"
   },
   {
    "duration": 15,
    "start_time": "2023-08-22T10:10:48.814Z"
   },
   {
    "duration": 33,
    "start_time": "2023-08-22T10:10:48.831Z"
   },
   {
    "duration": 387,
    "start_time": "2023-08-22T10:10:48.866Z"
   },
   {
    "duration": 11,
    "start_time": "2023-08-22T10:10:49.254Z"
   },
   {
    "duration": 63,
    "start_time": "2023-08-22T10:10:49.267Z"
   },
   {
    "duration": 15,
    "start_time": "2023-08-22T10:10:49.333Z"
   },
   {
    "duration": 20,
    "start_time": "2023-08-22T10:10:49.350Z"
   },
   {
    "duration": 32,
    "start_time": "2023-08-22T10:10:49.373Z"
   },
   {
    "duration": 11,
    "start_time": "2023-08-22T10:10:49.408Z"
   },
   {
    "duration": 16,
    "start_time": "2023-08-22T10:10:49.421Z"
   },
   {
    "duration": 13,
    "start_time": "2023-08-22T10:10:49.439Z"
   },
   {
    "duration": 20,
    "start_time": "2023-08-22T10:10:49.453Z"
   },
   {
    "duration": 27,
    "start_time": "2023-08-22T10:10:49.475Z"
   },
   {
    "duration": 4,
    "start_time": "2023-08-22T10:10:49.504Z"
   },
   {
    "duration": 16,
    "start_time": "2023-08-22T10:10:49.510Z"
   },
   {
    "duration": 1314,
    "start_time": "2023-08-22T10:10:49.528Z"
   },
   {
    "duration": 19,
    "start_time": "2023-08-22T10:10:50.844Z"
   },
   {
    "duration": 17,
    "start_time": "2023-08-22T10:10:50.866Z"
   },
   {
    "duration": 74,
    "start_time": "2023-08-22T10:10:50.886Z"
   },
   {
    "duration": 23,
    "start_time": "2023-08-22T10:10:50.962Z"
   },
   {
    "duration": 43,
    "start_time": "2023-08-22T10:10:50.987Z"
   },
   {
    "duration": 7,
    "start_time": "2023-08-22T10:10:51.032Z"
   },
   {
    "duration": 7,
    "start_time": "2023-08-22T10:10:51.041Z"
   },
   {
    "duration": 24,
    "start_time": "2023-08-22T10:10:51.050Z"
   },
   {
    "duration": 489,
    "start_time": "2023-08-22T10:10:51.077Z"
   },
   {
    "duration": 29,
    "start_time": "2023-08-22T10:10:51.568Z"
   },
   {
    "duration": 28,
    "start_time": "2023-08-22T10:10:51.598Z"
   },
   {
    "duration": 60,
    "start_time": "2023-08-22T10:10:51.629Z"
   },
   {
    "duration": 57,
    "start_time": "2023-08-22T10:10:51.694Z"
   },
   {
    "duration": 20,
    "start_time": "2023-08-22T10:10:51.754Z"
   },
   {
    "duration": 40,
    "start_time": "2023-08-22T10:10:51.777Z"
   },
   {
    "duration": 33,
    "start_time": "2023-08-22T10:10:51.818Z"
   },
   {
    "duration": 41,
    "start_time": "2023-08-22T10:10:51.855Z"
   },
   {
    "duration": 90,
    "start_time": "2023-08-22T10:10:51.901Z"
   },
   {
    "duration": 98,
    "start_time": "2023-08-22T10:10:51.993Z"
   },
   {
    "duration": 18,
    "start_time": "2023-08-22T10:10:52.093Z"
   },
   {
    "duration": 11,
    "start_time": "2023-08-22T10:10:52.113Z"
   },
   {
    "duration": 31,
    "start_time": "2023-08-22T10:10:52.126Z"
   },
   {
    "duration": 441,
    "start_time": "2023-08-22T10:10:52.159Z"
   },
   {
    "duration": 7,
    "start_time": "2023-08-22T10:10:52.602Z"
   },
   {
    "duration": 536,
    "start_time": "2023-08-22T10:10:52.611Z"
   },
   {
    "duration": 3404,
    "start_time": "2023-08-22T10:10:53.153Z"
   },
   {
    "duration": 15,
    "start_time": "2023-08-22T10:10:56.565Z"
   },
   {
    "duration": 5,
    "start_time": "2023-08-22T10:10:56.582Z"
   },
   {
    "duration": 9,
    "start_time": "2023-08-22T10:10:56.589Z"
   },
   {
    "duration": 33,
    "start_time": "2023-08-22T10:10:56.600Z"
   },
   {
    "duration": 5,
    "start_time": "2023-08-22T10:10:56.635Z"
   },
   {
    "duration": 9,
    "start_time": "2023-08-22T10:10:56.642Z"
   },
   {
    "duration": 70,
    "start_time": "2023-08-22T10:10:56.653Z"
   },
   {
    "duration": 5,
    "start_time": "2023-08-22T10:10:56.725Z"
   },
   {
    "duration": 8,
    "start_time": "2023-08-22T10:10:56.732Z"
   },
   {
    "duration": 138,
    "start_time": "2023-08-22T10:10:56.742Z"
   },
   {
    "duration": 805,
    "start_time": "2023-08-22T10:10:56.899Z"
   },
   {
    "duration": 43,
    "start_time": "2023-08-22T10:10:57.780Z"
   },
   {
    "duration": 1286,
    "start_time": "2023-08-22T10:10:57.828Z"
   },
   {
    "duration": 3042,
    "start_time": "2023-08-22T10:10:59.116Z"
   },
   {
    "duration": 58,
    "start_time": "2023-08-22T10:11:02.160Z"
   },
   {
    "duration": 360871,
    "start_time": "2023-08-22T10:11:02.220Z"
   },
   {
    "duration": 1485387,
    "start_time": "2023-08-22T10:17:03.099Z"
   },
   {
    "duration": 42,
    "start_time": "2023-08-22T10:41:48.489Z"
   },
   {
    "duration": 6125,
    "start_time": "2023-08-22T10:41:48.590Z"
   },
   {
    "duration": 122370,
    "start_time": "2023-08-22T10:41:54.718Z"
   },
   {
    "duration": 216,
    "start_time": "2023-08-22T10:43:57.092Z"
   },
   {
    "duration": 0,
    "start_time": "2023-08-22T10:43:57.316Z"
   },
   {
    "duration": 0,
    "start_time": "2023-08-22T10:43:57.319Z"
   },
   {
    "duration": 0,
    "start_time": "2023-08-22T10:43:57.323Z"
   },
   {
    "duration": 0,
    "start_time": "2023-08-22T10:43:57.325Z"
   },
   {
    "duration": 0,
    "start_time": "2023-08-22T10:43:57.326Z"
   },
   {
    "duration": 0,
    "start_time": "2023-08-22T10:43:57.327Z"
   },
   {
    "duration": 13,
    "start_time": "2023-08-22T10:50:22.611Z"
   },
   {
    "duration": 18,
    "start_time": "2023-08-22T10:50:24.106Z"
   },
   {
    "duration": 14,
    "start_time": "2023-08-22T10:50:35.761Z"
   },
   {
    "duration": 9,
    "start_time": "2023-08-22T10:50:40.996Z"
   },
   {
    "duration": 22,
    "start_time": "2023-08-22T10:50:41.563Z"
   },
   {
    "duration": 8,
    "start_time": "2023-08-22T10:50:42.963Z"
   },
   {
    "duration": 9,
    "start_time": "2023-08-22T10:50:43.562Z"
   },
   {
    "duration": 7084,
    "start_time": "2023-08-22T10:50:45.214Z"
   }
  ],
  "kernelspec": {
   "display_name": "Python 3 (ipykernel)",
   "language": "python",
   "name": "python3"
  },
  "language_info": {
   "codemirror_mode": {
    "name": "ipython",
    "version": 3
   },
   "file_extension": ".py",
   "mimetype": "text/x-python",
   "name": "python",
   "nbconvert_exporter": "python",
   "pygments_lexer": "ipython3",
   "version": "3.10.9"
  },
  "toc": {
   "base_numbering": 1,
   "nav_menu": {},
   "number_sections": true,
   "sideBar": true,
   "skip_h1_title": true,
   "title_cell": "Table of Contents",
   "title_sidebar": "Contents",
   "toc_cell": false,
   "toc_position": {},
   "toc_section_display": true,
   "toc_window_display": false
  }
 },
 "nbformat": 4,
 "nbformat_minor": 5
}
